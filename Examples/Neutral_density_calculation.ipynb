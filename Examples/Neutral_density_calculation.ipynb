{
 "cells": [
  {
   "cell_type": "markdown",
   "id": "cf65e37e-0742-474a-a0b9-3f64e019171b",
   "metadata": {},
   "source": [
    "# Neutral density\n",
    "\n",
    "This notebook calculates neutral density ($\\gamma$) from the algorithm developed by [Jackett and McDougall 1997](https://doi.org/10.1175/1520-0485(1997)027<0237:ANDVFT>2.0.CO;2).\n",
    "\n",
    "Before using neutral density, be aware that it is a calculation that uses as a reference a climatology from the World Atlas, Levitus 1980. So it shouldn't be used for simulations or datasets with climates/ocean states different to the 1980s (i.e. future projection simulations).\n",
    "\n",
    "We will use a python wrapper called `pygamma`, developed by Eric Firing and Filipe Fernandes (https://currents.soest.hawaii.edu/hgstage/pygamma). This needs to be installed locally in gadi - hopefully it will be included in the near future `conda` environments.\n",
    "\n",
    "### Installing `pygamma`*\n",
    "\n",
    "1. Click on `zip` on this [link](https://currents.soest.hawaii.edu/hgstage/pygamma/) to download the `pygamma` package.\n",
    "2. Upload to your home directory in gadi and extract the files. Rename the directory from `pygamma-28r2nf8` (or similar) to `neutral_density` (or really any name except `pygamma` to avoid importing issues).\n",
    "3. Load the relevant modules:\n",
    "   ```\n",
    "   module use /g/data/hh5/public/modules/\n",
    "   module load conda/analysis3\n",
    "   module load gcc\n",
    "   module load netcdf\n",
    "   ```\n",
    "4. Move into `pygamma` directory:\n",
    "   ```\n",
    "   cd pygamma\n",
    "   ```\n",
    "6. Install using `pip`:\n",
    "   ```\n",
    "   pip install . --user\n",
    "   ```\n",
    "\n",
    "*thank you Aviv Solodoch and Paola Petrelli.\n",
    "\n",
    "### Other things to note, future improvements\n",
    "\n",
    " - The `pygamma` package was developed to use with oceanographic data, i.e. CTDs. Therefore, applying to 3D, time-varying datasets, is not implemented. We work around this by iterating - this can probably be improved upon.\n",
    " - This will work if you keep using the environment you installed `pygamma` in (`module load conda/analysis3` in step 1. of the installation. It won't work in other environments - another thing to improve upon."
   ]
  },
  {
   "cell_type": "code",
   "execution_count": 1,
   "id": "104c7e5d-2da8-42bc-a7d9-3fbfc0e0a5e5",
   "metadata": {},
   "outputs": [],
   "source": [
    "# Load the relevant libraries\n",
    "import cosima_cookbook as cc\n",
    "import numpy as np\n",
    "import xarray as xr\n",
    "import cf_xarray as cfxr\n",
    "import cf_xarray.units\n",
    "import gsw\n",
    "import pygamma\n",
    "\n",
    "# Plotting\n",
    "import matplotlib.pyplot as plt\n",
    "import cartopy.crs as ccrs\n",
    "import cmocean\n",
    "\n",
    "# Others\n",
    "import dask.distributed as dask\n",
    "import warnings\n",
    "warnings.filterwarnings(\"ignore\", category = FutureWarning)\n",
    "warnings.filterwarnings(\"ignore\", category = UserWarning)\n",
    "warnings.filterwarnings(\"ignore\", category = RuntimeWarning)"
   ]
  },
  {
   "cell_type": "code",
   "execution_count": 2,
   "id": "7ed9fb53-0dd5-4436-8eca-cd26cbafbb26",
   "metadata": {},
   "outputs": [
    {
     "data": {
      "text/html": [
       "<div>\n",
       "    <div style=\"width: 24px; height: 24px; background-color: #e1e1e1; border: 3px solid #9D9D9D; border-radius: 5px; position: absolute;\"> </div>\n",
       "    <div style=\"margin-left: 48px;\">\n",
       "        <h3 style=\"margin-bottom: 0px;\">Client</h3>\n",
       "        <p style=\"color: #9D9D9D; margin-bottom: 0px;\">Client-6d346543-3e5a-11ef-8a1f-000007a6fe80</p>\n",
       "        <table style=\"width: 100%; text-align: left;\">\n",
       "\n",
       "        <tr>\n",
       "        \n",
       "            <td style=\"text-align: left;\"><strong>Connection method:</strong> Cluster object</td>\n",
       "            <td style=\"text-align: left;\"><strong>Cluster type:</strong> distributed.LocalCluster</td>\n",
       "        \n",
       "        </tr>\n",
       "\n",
       "        \n",
       "            <tr>\n",
       "                <td style=\"text-align: left;\">\n",
       "                    <strong>Dashboard: </strong> <a href=\"/proxy/8787/status\" target=\"_blank\">/proxy/8787/status</a>\n",
       "                </td>\n",
       "                <td style=\"text-align: left;\"></td>\n",
       "            </tr>\n",
       "        \n",
       "\n",
       "        </table>\n",
       "\n",
       "        \n",
       "            <button style=\"margin-bottom: 12px;\" data-commandlinker-command=\"dask:populate-and-launch-layout\" data-commandlinker-args='{\"url\": \"/proxy/8787/status\" }'>\n",
       "                Launch dashboard in JupyterLab\n",
       "            </button>\n",
       "        \n",
       "\n",
       "        \n",
       "            <details>\n",
       "            <summary style=\"margin-bottom: 20px;\"><h3 style=\"display: inline;\">Cluster Info</h3></summary>\n",
       "            <div class=\"jp-RenderedHTMLCommon jp-RenderedHTML jp-mod-trusted jp-OutputArea-output\">\n",
       "    <div style=\"width: 24px; height: 24px; background-color: #e1e1e1; border: 3px solid #9D9D9D; border-radius: 5px; position: absolute;\">\n",
       "    </div>\n",
       "    <div style=\"margin-left: 48px;\">\n",
       "        <h3 style=\"margin-bottom: 0px; margin-top: 0px;\">LocalCluster</h3>\n",
       "        <p style=\"color: #9D9D9D; margin-bottom: 0px;\">4a421e0e</p>\n",
       "        <table style=\"width: 100%; text-align: left;\">\n",
       "            <tr>\n",
       "                <td style=\"text-align: left;\">\n",
       "                    <strong>Dashboard:</strong> <a href=\"/proxy/8787/status\" target=\"_blank\">/proxy/8787/status</a>\n",
       "                </td>\n",
       "                <td style=\"text-align: left;\">\n",
       "                    <strong>Workers:</strong> 2\n",
       "                </td>\n",
       "            </tr>\n",
       "            <tr>\n",
       "                <td style=\"text-align: left;\">\n",
       "                    <strong>Total threads:</strong> 2\n",
       "                </td>\n",
       "                <td style=\"text-align: left;\">\n",
       "                    <strong>Total memory:</strong> 9.00 GiB\n",
       "                </td>\n",
       "            </tr>\n",
       "            \n",
       "            <tr>\n",
       "    <td style=\"text-align: left;\"><strong>Status:</strong> running</td>\n",
       "    <td style=\"text-align: left;\"><strong>Using processes:</strong> True</td>\n",
       "</tr>\n",
       "\n",
       "            \n",
       "        </table>\n",
       "\n",
       "        <details>\n",
       "            <summary style=\"margin-bottom: 20px;\">\n",
       "                <h3 style=\"display: inline;\">Scheduler Info</h3>\n",
       "            </summary>\n",
       "\n",
       "            <div style=\"\">\n",
       "    <div>\n",
       "        <div style=\"width: 24px; height: 24px; background-color: #FFF7E5; border: 3px solid #FF6132; border-radius: 5px; position: absolute;\"> </div>\n",
       "        <div style=\"margin-left: 48px;\">\n",
       "            <h3 style=\"margin-bottom: 0px;\">Scheduler</h3>\n",
       "            <p style=\"color: #9D9D9D; margin-bottom: 0px;\">Scheduler-67c5a7d6-8638-485b-9c5b-802c2b5838f7</p>\n",
       "            <table style=\"width: 100%; text-align: left;\">\n",
       "                <tr>\n",
       "                    <td style=\"text-align: left;\">\n",
       "                        <strong>Comm:</strong> tcp://127.0.0.1:45383\n",
       "                    </td>\n",
       "                    <td style=\"text-align: left;\">\n",
       "                        <strong>Workers:</strong> 2\n",
       "                    </td>\n",
       "                </tr>\n",
       "                <tr>\n",
       "                    <td style=\"text-align: left;\">\n",
       "                        <strong>Dashboard:</strong> <a href=\"/proxy/8787/status\" target=\"_blank\">/proxy/8787/status</a>\n",
       "                    </td>\n",
       "                    <td style=\"text-align: left;\">\n",
       "                        <strong>Total threads:</strong> 2\n",
       "                    </td>\n",
       "                </tr>\n",
       "                <tr>\n",
       "                    <td style=\"text-align: left;\">\n",
       "                        <strong>Started:</strong> Just now\n",
       "                    </td>\n",
       "                    <td style=\"text-align: left;\">\n",
       "                        <strong>Total memory:</strong> 9.00 GiB\n",
       "                    </td>\n",
       "                </tr>\n",
       "            </table>\n",
       "        </div>\n",
       "    </div>\n",
       "\n",
       "    <details style=\"margin-left: 48px;\">\n",
       "        <summary style=\"margin-bottom: 20px;\">\n",
       "            <h3 style=\"display: inline;\">Workers</h3>\n",
       "        </summary>\n",
       "\n",
       "        \n",
       "        <div style=\"margin-bottom: 20px;\">\n",
       "            <div style=\"width: 24px; height: 24px; background-color: #DBF5FF; border: 3px solid #4CC9FF; border-radius: 5px; position: absolute;\"> </div>\n",
       "            <div style=\"margin-left: 48px;\">\n",
       "            <details>\n",
       "                <summary>\n",
       "                    <h4 style=\"margin-bottom: 0px; display: inline;\">Worker: 0</h4>\n",
       "                </summary>\n",
       "                <table style=\"width: 100%; text-align: left;\">\n",
       "                    <tr>\n",
       "                        <td style=\"text-align: left;\">\n",
       "                            <strong>Comm: </strong> tcp://127.0.0.1:36441\n",
       "                        </td>\n",
       "                        <td style=\"text-align: left;\">\n",
       "                            <strong>Total threads: </strong> 1\n",
       "                        </td>\n",
       "                    </tr>\n",
       "                    <tr>\n",
       "                        <td style=\"text-align: left;\">\n",
       "                            <strong>Dashboard: </strong> <a href=\"/proxy/45959/status\" target=\"_blank\">/proxy/45959/status</a>\n",
       "                        </td>\n",
       "                        <td style=\"text-align: left;\">\n",
       "                            <strong>Memory: </strong> 4.50 GiB\n",
       "                        </td>\n",
       "                    </tr>\n",
       "                    <tr>\n",
       "                        <td style=\"text-align: left;\">\n",
       "                            <strong>Nanny: </strong> tcp://127.0.0.1:44399\n",
       "                        </td>\n",
       "                        <td style=\"text-align: left;\"></td>\n",
       "                    </tr>\n",
       "                    <tr>\n",
       "                        <td colspan=\"2\" style=\"text-align: left;\">\n",
       "                            <strong>Local directory: </strong> /jobfs/120384557.gadi-pbs/dask-scratch-space/worker-zh6kriql\n",
       "                        </td>\n",
       "                    </tr>\n",
       "\n",
       "                    \n",
       "\n",
       "                    \n",
       "\n",
       "                </table>\n",
       "            </details>\n",
       "            </div>\n",
       "        </div>\n",
       "        \n",
       "        <div style=\"margin-bottom: 20px;\">\n",
       "            <div style=\"width: 24px; height: 24px; background-color: #DBF5FF; border: 3px solid #4CC9FF; border-radius: 5px; position: absolute;\"> </div>\n",
       "            <div style=\"margin-left: 48px;\">\n",
       "            <details>\n",
       "                <summary>\n",
       "                    <h4 style=\"margin-bottom: 0px; display: inline;\">Worker: 1</h4>\n",
       "                </summary>\n",
       "                <table style=\"width: 100%; text-align: left;\">\n",
       "                    <tr>\n",
       "                        <td style=\"text-align: left;\">\n",
       "                            <strong>Comm: </strong> tcp://127.0.0.1:42479\n",
       "                        </td>\n",
       "                        <td style=\"text-align: left;\">\n",
       "                            <strong>Total threads: </strong> 1\n",
       "                        </td>\n",
       "                    </tr>\n",
       "                    <tr>\n",
       "                        <td style=\"text-align: left;\">\n",
       "                            <strong>Dashboard: </strong> <a href=\"/proxy/40339/status\" target=\"_blank\">/proxy/40339/status</a>\n",
       "                        </td>\n",
       "                        <td style=\"text-align: left;\">\n",
       "                            <strong>Memory: </strong> 4.50 GiB\n",
       "                        </td>\n",
       "                    </tr>\n",
       "                    <tr>\n",
       "                        <td style=\"text-align: left;\">\n",
       "                            <strong>Nanny: </strong> tcp://127.0.0.1:38125\n",
       "                        </td>\n",
       "                        <td style=\"text-align: left;\"></td>\n",
       "                    </tr>\n",
       "                    <tr>\n",
       "                        <td colspan=\"2\" style=\"text-align: left;\">\n",
       "                            <strong>Local directory: </strong> /jobfs/120384557.gadi-pbs/dask-scratch-space/worker-ndiu5013\n",
       "                        </td>\n",
       "                    </tr>\n",
       "\n",
       "                    \n",
       "\n",
       "                    \n",
       "\n",
       "                </table>\n",
       "            </details>\n",
       "            </div>\n",
       "        </div>\n",
       "        \n",
       "\n",
       "    </details>\n",
       "</div>\n",
       "\n",
       "        </details>\n",
       "    </div>\n",
       "</div>\n",
       "            </details>\n",
       "        \n",
       "\n",
       "    </div>\n",
       "</div>"
      ],
      "text/plain": [
       "<Client: 'tcp://127.0.0.1:45383' processes=2 threads=2, memory=9.00 GiB>"
      ]
     },
     "execution_count": 2,
     "metadata": {},
     "output_type": "execute_result"
    }
   ],
   "source": [
    "# Initialise a dask client\n",
    "client = dask.Client()\n",
    "client"
   ]
  },
  {
   "cell_type": "code",
   "execution_count": 3,
   "id": "dac44dd7-6016-4318-b0c7-11e62c5a93c9",
   "metadata": {},
   "outputs": [],
   "source": [
    "# Load a cookbook session\n",
    "session = cc.database.create_session()"
   ]
  },
  {
   "cell_type": "code",
   "execution_count": 4,
   "id": "173d9c24-0041-45b3-9b66-586f6e127469",
   "metadata": {},
   "outputs": [],
   "source": [
    "# Define arguments needed to load data from either MOM5 or MOM6\n",
    "model_args = {\"mom5\": {\"expt\": \"01deg_jra55v13_ryf9091\",\n",
    "                       \"start_time\": \"2000-01-01\",\n",
    "                       \"end_time\": \"2001-01-01\"},\n",
    "\n",
    "              \"mom6\": {\"expt\": \"panant-01-zstar-ACCESSyr2\",\n",
    "                       \"start_time\": \"2000-01-01\",\n",
    "                       \"end_time\": \"2001-01-01\",\n",
    "                       \"frequency\": \"1 monthly\"}\n",
    "             }"
   ]
  },
  {
   "cell_type": "markdown",
   "id": "f911c6cf-506a-41ec-be31-809ca2fd16b4",
   "metadata": {},
   "source": [
    "Define the region to work with:"
   ]
  },
  {
   "cell_type": "code",
   "execution_count": 5,
   "id": "6e44eae7-3cac-47da-8f13-52307a95069a",
   "metadata": {},
   "outputs": [],
   "source": [
    "latitude_slice = slice(-70, -60)\n",
    "longitude_slice = slice(-70, -40)"
   ]
  },
  {
   "cell_type": "markdown",
   "id": "c2bc402e-c32a-41cd-8c31-8a841d3dc1e6",
   "metadata": {},
   "source": [
    "We will define a function to load the data needed depending on the model selected. Note that from `mom5` simulations we get conervative temperature (`temp`), whereas from `mom6` we get potential temperature (`thetao`). Both models give us practical salinity, called `salt` and `so` for `mom5` and `mom6` respectively. Also, `mom5` gives us temperature in K! Because neutral density calculation takes in situ temperature, we will use `gsw` to obtain it either model output."
   ]
  },
  {
   "cell_type": "code",
   "execution_count": 22,
   "id": "75a57197-d3c2-490f-be46-101e34b87093",
   "metadata": {},
   "outputs": [],
   "source": [
    "def load_temp_salt(model):\n",
    "\n",
    "    \"\"\"\n",
    "    This function loads temperature and salinity variables from the model selected, and does\n",
    "    the necessary calculations to return in-situ temperature and practical salinity.\n",
    "    \"\"\"\n",
    "\n",
    "    experiment = model_args[model][\"expt\"]\n",
    "    start_time = model_args[model][\"start_time\"]\n",
    "    end_time = model_args[model][\"end_time\"]\n",
    "    if model == 'mom5':\n",
    "        t = 'temp'\n",
    "        s = 'salt'\n",
    "    elif model == 'mom6':\n",
    "        t = 'thetao'\n",
    "        s = 'so'\n",
    "\n",
    "    # Load variables\n",
    "    temp = cc.querying.getvar(experiment, t, session = session, \n",
    "                              start_time = start_time, end_time = end_time, \n",
    "                              frequency = '1 monthly', chunks={'time':'100MB'})\n",
    "    salt = cc.querying.getvar(experiment, s, session = session, \n",
    "                              start_time = start_time, end_time = end_time, \n",
    "                              frequency = '1 monthly', chunks={'time':'100MB'})\n",
    "    \n",
    "    # Ensure we get the time-slice we wanted\n",
    "    temp = temp.cf.sel({'time':slice(start_time, end_time)})\n",
    "    salt = salt.cf.sel({'time':slice(start_time, end_time)})\n",
    "    \n",
    "    # Crop a region (we don't want global/circumpolar data for the sakes of this example)\n",
    "    temp = temp.cf.sel({'longitude':longitude_slice, 'latitude':latitude_slice})\n",
    "    salt = salt.cf.sel({'longitude':longitude_slice, 'latitude':latitude_slice})\n",
    "\n",
    "    # Calculate pressure from the vertical axis and absolute salinity\n",
    "    pressure = gsw.p_from_z(-salt.cf['vertical'], salt.cf['latitude'].mean())\n",
    "    absolute_salinity = gsw.SA_from_SP(salt, pressure, salt.cf['longitude'], salt.cf['latitude'])\n",
    "    \n",
    "    # Get in-situ temperature\n",
    "    if model == 'mom5':\n",
    "        insitu_temp = gsw.t_from_CT(absolute_salinity, temp - 273.15, pressure).rename('temp')\n",
    "    elif model == 'mom6':\n",
    "        conservative_temperature = gsw.CT_from_pt(absolute_salinity, temp)\n",
    "        insitu_temp = gsw.t_from_CT(absolute_salinity, conservative_temperature, pressure).rename('temp')\n",
    "\n",
    "    return insitu_temp, salt"
   ]
  },
  {
   "cell_type": "markdown",
   "id": "149c96a0-9122-4d02-839a-57d24b74c4d8",
   "metadata": {},
   "source": [
    "The `pygamma` function to calculate neutral densities takes 2D fields. So for our time-varying, 3D fields we are going to need to iterate twice. We will define a function that calculates $\\gamma$ for a certain time step and longitude."
   ]
  },
  {
   "cell_type": "code",
   "execution_count": 7,
   "id": "72df8f06-a78c-4901-9607-f852e6af5d53",
   "metadata": {},
   "outputs": [],
   "source": [
    "def neutral_density(temp, salt, time_step, longitude):\n",
    "\n",
    "    \"\"\"\n",
    "    This function calculates neutral density (gamma) for a given longitude and time \n",
    "    of in-situ temperature and practical salinity datasets.\n",
    "    \"\"\"\n",
    "    \n",
    "    # Select the longitude and time_step\n",
    "    temp_i = temp.cf.isel({'longitude':longitude, 'time':time_step})\n",
    "    salt_i = salt.cf.isel({'longitude':longitude, 'time':time_step})\n",
    "    pressure_i = gsw.p_from_z(-salt_i.cf['vertical'], salt_i.cf['latitude'])\n",
    "    latitude_i = temp_i.cf['latitude']\n",
    "    longitude_i = latitude_i*0 + temp.cf['longitude'][longitude]\n",
    "    \n",
    "    gamma, dg_lo, dg_hi = pygamma.gamma_n(salt_i.transpose(), temp_i.transpose(), pressure_i.transpose(), \n",
    "                                          longitude_i, latitude_i)\n",
    "    gamma  = gamma.T\n",
    "    \n",
    "    return gamma"
   ]
  },
  {
   "cell_type": "markdown",
   "id": "32c71ea9",
   "metadata": {},
   "source": [
    "Now we are ready. First, let's open some data:"
   ]
  },
  {
   "cell_type": "code",
   "execution_count": 23,
   "id": "8b3507fd-4425-4d7e-bdd4-87f94004f085",
   "metadata": {
    "scrolled": true
   },
   "outputs": [],
   "source": [
    "t_mom5, s_mom5 = load_temp_salt('mom5')"
   ]
  },
  {
   "cell_type": "markdown",
   "id": "ae41d2d2-843e-46b6-857b-eaa1d58e62ff",
   "metadata": {},
   "source": [
    "And load into memory:"
   ]
  },
  {
   "cell_type": "code",
   "execution_count": 14,
   "id": "6846ce83-24ab-45ac-9af8-398507eb0b42",
   "metadata": {
    "scrolled": true
   },
   "outputs": [],
   "source": [
    "t_mom5 = t_mom5.load()\n",
    "s_mom5 = s_mom5.load()"
   ]
  },
  {
   "cell_type": "markdown",
   "id": "88323498-a650-4443-b30f-9f4dee37a9ab",
   "metadata": {},
   "source": [
    "Create a `nan` array to fill up with output of our `neutral_density()` function:"
   ]
  },
  {
   "cell_type": "code",
   "execution_count": 15,
   "id": "757b5ffb-5194-41a4-b73f-f9fad16fdbf7",
   "metadata": {},
   "outputs": [],
   "source": [
    "gamma_mom5 = np.zeros(np.shape(t_mom5))*np.nan"
   ]
  },
  {
   "cell_type": "markdown",
   "id": "4ed5ed4c-bdd6-4d25-a02f-89d663e510e4",
   "metadata": {},
   "source": [
    "Iterate through time and longitudes to fill in `gamma_mom5`:"
   ]
  },
  {
   "cell_type": "code",
   "execution_count": null,
   "id": "320d521a-7016-4191-ae76-e754e7f3bf63",
   "metadata": {},
   "outputs": [
    {
     "name": "stdout",
     "output_type": "stream",
     "text": [
      "0.0 % done\n",
      "8.333333333333334 % done\n",
      "16.666666666666668 % done\n"
     ]
    }
   ],
   "source": [
    "%%time\n",
    "T = len(t_mom5.cf['time'])\n",
    "X = len(t_mom5.cf['longitude'])\n",
    "\n",
    "for time_step in range(0,T):\n",
    "    for longitude in range(0,X):\n",
    "        gamma_XT = neutral_density(t_mom5, s_mom5, time_step, longitude)\n",
    "        gamma_mom5[time_step, :, :, longitude] = gamma_XT\n",
    "    # Print the time_step so the impatients know how much is left to do\n",
    "    print(np.round(100*(time_step+1)/T, 2), '% done')"
   ]
  },
  {
   "cell_type": "markdown",
   "id": "378f38b2-c2ee-467f-a722-3ed595f31f60",
   "metadata": {},
   "source": [
    "Make an `xarray.DataArray` complete with dimensions and coordinates, as well as some attributes:"
   ]
  },
  {
   "cell_type": "code",
   "execution_count": 17,
   "id": "fbd9b933-0f0b-4720-8325-4f378d9c54ec",
   "metadata": {},
   "outputs": [],
   "source": [
    "gamma_mom5 = xr.DataArray(gamma_mom5, dims = t_mom5.dims, coords = t_mom5.coords, name = 'gamma')\n",
    "gamma_mom5.attrs['long_name'] = 'neutral density'\n",
    "gamma_mom5.attrs['units'] = 'kg/m3'"
   ]
  },
  {
   "cell_type": "markdown",
   "id": "fec2ca9d-89c5-4833-acd1-5ab366898fee",
   "metadata": {},
   "source": [
    "`pygamma.gamman` has a fill value of 0. Let's replace that with nans:"
   ]
  },
  {
   "cell_type": "code",
   "execution_count": 18,
   "id": "b4d5dfea-fa84-481b-bfac-a27c8a699644",
   "metadata": {},
   "outputs": [],
   "source": [
    "gamma_mom5 = gamma_mom5.where(gamma_mom5 != 0, np.nan)"
   ]
  },
  {
   "cell_type": "markdown",
   "id": "0c98c994-9521-4151-b043-fce628e356c4",
   "metadata": {},
   "source": [
    "### Notes on efficiency\n",
    "\n",
    "As you can see, doing this for just 1 year of monthly data and a very small region is very slow. It could probably be parallelised."
   ]
  },
  {
   "cell_type": "markdown",
   "id": "4a13ffdc-fa83-487e-a172-e24bd926bcba",
   "metadata": {},
   "source": [
    "### Doing it `mom6`\n",
    "\n",
    "Let's put all of the above steps in one cell and run:"
   ]
  },
  {
   "cell_type": "code",
   "execution_count": null,
   "id": "c64553fe-0d37-4d65-9c18-a4c76d769d79",
   "metadata": {},
   "outputs": [],
   "source": [
    "t_mom6, s_mom6 = load_temp_salt('mom6')\n",
    "t_mom6 = t_mom6.load()\n",
    "s_mom6 = s_mom6.load()\n",
    "gamma_mom6 = np.zeros(np.shape(t_mom6))*np.nan\n",
    "\n",
    "T = len(t_mom6.cf['time'])\n",
    "X = len(t_mom6.cf['longitude'])\n",
    "\n",
    "for time_step in range(0,T):\n",
    "    for longitude in range(0,X):\n",
    "        gamma_XT = neutral_density(t_mom6, s_mom6, time_step, longitude)\n",
    "        gamma_mom6[time_step, :, :, longitude] = gamma_XT\n",
    "    # Print the time_step so the impatients know how much is left to do\n",
    "    print(100*time_step/T, '% done')\n",
    "\n",
    "gamma_mom6 = xr.DataArray(gamma_mom6, dims = t_mom6.dims, coords = t_mom6.coords, name = 'gamma')\n",
    "gamma_mom6.attrs['long_name'] = 'neutral density'\n",
    "gamma_mom6.attrs['units'] = 'kg/m3'\n",
    "gamma_mom6 = gamma_mom6.where(gamma_mom6 != 0, np.nan)"
   ]
  },
  {
   "cell_type": "markdown",
   "id": "480b8298-4a9b-4fdb-a21e-59d70ee65c81",
   "metadata": {},
   "source": [
    "# Plotting"
   ]
  },
  {
   "cell_type": "markdown",
   "id": "7fb7a31b-2b6b-4a8f-8fa3-0100caf1b5a6",
   "metadata": {},
   "source": [
    "Let's get the model's land mask to plot the time-mean at a certain depth."
   ]
  },
  {
   "cell_type": "code",
   "execution_count": 8,
   "id": "bc2a172f-def1-4780-8f5a-3916525f639b",
   "metadata": {},
   "outputs": [],
   "source": [
    "def get_land_mask(model):\n",
    "    experiment = model_args[model][\"expt\"]\n",
    "    if model == 'mom5':\n",
    "        bathy_var = 'ht'\n",
    "    elif model == 'mom6':\n",
    "        bathy_var = 'deptho'\n",
    "        \n",
    "    bathymetry = cc.querying.getvar(experiment, bathy_var, session = session, n = 1)\n",
    "    bathymetry = bathymetry.cf.sel({'longitude':longitude_slice, 'latitude':latitude_slice})\n",
    "    \n",
    "    land_mask = xr.where(np.isnan(bathymetry), 1, np.nan)\n",
    "    land_mask = land_mask.rename('land_mask')\n",
    "    \n",
    "    return land_mask"
   ]
  },
  {
   "cell_type": "code",
   "execution_count": 9,
   "id": "ef151b35-54f3-4c8b-8f23-d89fc0c19b60",
   "metadata": {},
   "outputs": [],
   "source": [
    "land_mask_mom5 = get_land_mask('mom5')\n",
    "land_mask_mom6 = get_land_mask('mom6')"
   ]
  },
  {
   "cell_type": "code",
   "execution_count": 11,
   "id": "1b0303f3-3571-424d-a6fa-c6cf91470256",
   "metadata": {},
   "outputs": [
    {
     "data": {
      "image/png": "[encoded data removed]",
      "text/plain": [
       "<Figure size 1500x600 with 2 Axes>"
      ]
     },
     "metadata": {},
     "output_type": "display_data"
    }
   ],
   "source": [
    "fig = plt.figure(figsize=(15, 6))\n",
    "axs = [fig.add_subplot(121, projection = ccrs.Mercator(central_longitude = -55)),\n",
    "       fig.add_subplot(122, projection = ccrs.Mercator(central_longitude = -55))]\n",
    "# Set the region\n",
    "for ax in axs:\n",
    "    ax.set_extent([-70, -40, -70, -60], crs = ccrs.PlateCarree())\n",
    "# Add model land mask\n",
    "land_mask_mom5.plot.contourf(ax=axs[0], colors='lightgrey', transform=ccrs.PlateCarree(), add_colorbar=False, zorder=2)\n",
    "land_mask_mom6.plot.contourf(ax=axs[1], colors='lightgrey', transform=ccrs.PlateCarree(), add_colorbar=False, zorder=2)\n",
    "# Add model coastline\n",
    "land_mask_mom5.fillna(0).plot.contour(ax=axs[0], colors='k', levels=[0, 1], \n",
    "                                      transform=ccrs.PlateCarree(), add_colorbar=False, linewidths=0.5, zorder=3)\n",
    "land_mask_mom6.fillna(0).plot.contour(ax=axs[1], colors='k', levels=[0, 1], \n",
    "                                      transform=ccrs.PlateCarree(), add_colorbar=False, linewidths=0.5, zorder=3)\n",
    "# Plot time-mean neutral density at the surface\n",
    "#gamma_mom5.cf.mean('time').cf.isel(vertical = 0).plot.pcolormesh(ax=axs[0], cmap = cmocean.cm.dense, transform=ccrs.PlateCarree(),\n",
    "#                                                                 vmin = 26.5, vmax = 28,\n",
    "#                                                                 cbar_kwargs={'label':'$\\\\gamma$ (kg/m$^{3}$)'})\n",
    "#gamma_mom6.cf.mean('time').cf.isel(vertical = 0).plot.pcolormesh(ax=axs[1], cmap = cmocean.cm.dense, transform=ccrs.PlateCarree(),\n",
    "#                                                                 vmin = 26.5, vmax = 28,\n",
    "#                                                                 cbar_kwargs={'label':'$\\\\gamma$ (kg/m$^{3}$)'})\n",
    "axs[0].set_title('MOM5 Neutral density at the surface');\n",
    "axs[1].set_title('MOM6 Neutral density at the surface');"
   ]
  },
  {
   "cell_type": "markdown",
   "id": "ce2fa885-90c8-475e-9b80-622e585512c4",
   "metadata": {},
   "source": [
    "And now let's do a cross section:"
   ]
  },
  {
   "cell_type": "code",
   "execution_count": 15,
   "id": "033c085c-ca6f-460f-b8bd-0ac34b0c46f2",
   "metadata": {},
   "outputs": [
    {
     "data": {
      "image/png": "[encoded data removed]",
      "text/plain": [
       "<Figure size 1500x600 with 2 Axes>"
      ]
     },
     "metadata": {},
     "output_type": "display_data"
    }
   ],
   "source": [
    "fig, axs = plt.subplots(1, 2, figsize=(15, 6))\n",
    "#gamma_mom5.cf.mean('time').cf.sel(longitude = -45, method = 'nearest').plot.pcolormesh(ax=axs[0], cmap=cmocean.cm.dense,\n",
    "#                                                                                       vmin = 27.4, vmax = 28.4,\n",
    "#                                                                                       cbar_kwargs={'label':'$\\\\gamma$ (kg/m$^{3}$)'})\n",
    "#gamma_mom6.cf.mean('time').cf.sel(longitude = -45, method = 'nearest').plot.pcolormesh(ax=axs[1], cmap=cmocean.cm.dense,\n",
    "#                                                                                       vmin = 27.4, vmax = 28.4,\n",
    "#                                                                                       cbar_kwargs={'label':'$\\\\gamma$ (kg/m$^{3}$)'})\n",
    "for ax in axs:\n",
    "    ax.invert_yaxis()\n",
    "    ax.set_ylabel('Depth (m)');\n",
    "    ax.set_xlabel('Latitude');\n",
    "axs[0].set_title('MOM5 Neutral density at 45$^{\\circ}$W');\n",
    "axs[1].set_title('MOM6 Neutral density at 45$^{\\circ}$W');"
   ]
  },
  {
   "cell_type": "code",
   "execution_count": null,
   "id": "0fe2688c-fce1-462f-9f47-711c2cccb913",
   "metadata": {},
   "outputs": [],
   "source": []
  },
  {
   "cell_type": "code",
   "execution_count": null,
   "id": "c2318864-7b34-4b37-8a29-02448b6abc63",
   "metadata": {},
   "outputs": [],
   "source": []
  }
 ],
 "metadata": {
  "kernelspec": {
   "display_name": "Python [conda env:analysis3-24.01] *",
   "language": "python",
   "name": "conda-env-analysis3-24.01-py"
  },
  "language_info": {
   "codemirror_mode": {
    "name": "ipython",
    "version": 3
   },
   "file_extension": ".py",
   "mimetype": "text/x-python",
   "name": "python",
   "nbconvert_exporter": "python",
   "pygments_lexer": "ipython3",
   "version": "3.10.13"
  }
 },
 "nbformat": 4,
 "nbformat_minor": 5
}
