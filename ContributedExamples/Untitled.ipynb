{
 "cells": [
  {
   "cell_type": "code",
   "execution_count": 1,
   "id": "29563dac-f631-416e-b3f7-28c163c13be7",
   "metadata": {},
   "outputs": [],
   "source": [
    "import xwmb\n"
   ]
  },
  {
   "cell_type": "code",
   "execution_count": 2,
   "id": "5a6b3f7d-89cc-4601-a392-cb21af927350",
   "metadata": {},
   "outputs": [
    {
     "data": {
      "text/plain": [
       "'0.1.1'"
      ]
     },
     "execution_count": 2,
     "metadata": {},
     "output_type": "execute_result"
    }
   ],
   "source": [
    "xwmb.__version__\n"
   ]
  },
  {
   "cell_type": "code",
   "execution_count": null,
   "id": "36b424cd-4cc6-46fb-95ca-ce732593493a",
   "metadata": {},
   "outputs": [],
   "source": []
  }
 ],
 "metadata": {
  "kernelspec": {
   "display_name": "xwmb_venv",
   "language": "python",
   "name": "xwmb_venv"
  },
  "language_info": {
   "codemirror_mode": {
    "name": "ipython",
    "version": 3
   },
   "file_extension": ".py",
   "mimetype": "text/x-python",
   "name": "python",
   "nbconvert_exporter": "python",
   "pygments_lexer": "ipython3",
   "version": "3.10.13"
  }
 },
 "nbformat": 4,
 "nbformat_minor": 5
}
