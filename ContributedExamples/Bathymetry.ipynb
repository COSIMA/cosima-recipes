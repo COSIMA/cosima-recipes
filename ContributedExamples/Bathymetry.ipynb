{
 "cells": [
  {
   "cell_type": "markdown",
   "metadata": {},
   "source": [
    "# Bathymetry\n",
    "\n",
    "A simple example to show how to plot the model bathymetry that the ACCESS-OM2 0.1° uses."
   ]
  },
  {
   "cell_type": "code",
   "execution_count": 1,
   "metadata": {},
   "outputs": [],
   "source": [
    "%matplotlib inline\n",
    "%config InlineBackend.figure_format='retina'\n",
    "\n",
    "import matplotlib.pyplot as plt\n",
    "import xarray as xr\n",
    "import cartopy.crs as ccrs\n",
    "import cartopy.feature as cft\n",
    "import cartopy.mpl.ticker as cticker\n",
    "import cmocean as cm"
   ]
  },
  {
   "cell_type": "markdown",
   "metadata": {},
   "source": [
    "First load the bathymetry and the ocean grid."
   ]
  },
  {
   "cell_type": "code",
   "execution_count": 2,
   "metadata": {},
   "outputs": [],
   "source": [
    "bathymetry = xr.open_dataset('/g/data/hh5/tmp/cosima/bathymetry/topog_latest.nc')\n",
    "oceangrid = xr.open_dataset('/g/data/hh5/tmp/cosima/bathymetry/ocean_hgrid.nc')"
   ]
  },
  {
   "cell_type": "markdown",
   "metadata": {},
   "source": [
    "`ocean_hgrid` contains the, so-called, \"supergrid\". To plot `bathymetry` we, therefore, need to use alternate values for the longitudes and latitudes from `ocean_hgrid`."
   ]
  },
  {
   "cell_type": "code",
   "execution_count": 3,
   "metadata": {},
   "outputs": [],
   "source": [
    "lons, lats = oceangrid.x.values[::2, ::2], oceangrid.y.values[::2, ::2]"
   ]
  },
  {
   "cell_type": "markdown",
   "metadata": {},
   "source": [
    "And now plot!"
   ]
  },
  {
   "cell_type": "code",
   "execution_count": null,
   "metadata": {},
   "outputs": [],
   "source": [
    "plt.figure(figsize=(16, 9))\n",
    "\n",
    "ax = plt.axes(projection=ccrs.PlateCarree(central_longitude=200))\n",
    "ax.coastlines(resolution='50m')\n",
    "ax.add_feature(cft.LAND, color='lightgrey')\n",
    "\n",
    "plt.pcolormesh(lons, lats, bathymetry.depth,\n",
    "               cmap=cm.cm.deep, transform=ccrs.PlateCarree()) \n",
    "\n",
    "# set colour bar tick size\n",
    "plt.colorbar(shrink=0.6, extend='max').set_label('(m)', fontsize=16)\n",
    "cbar = ax.collections[0].colorbar\n",
    "cbar.ax.tick_params(labelsize=16)\n",
    "\n",
    "# set custom longitude and latitude values with correct formatting\n",
    "ax.set_xticks([0, 60, 120, 180, 240, 300, 360], crs=ccrs.PlateCarree())   \n",
    "ax.set_yticks([-90, -60, -30, 0, 30, 60, 90], crs=ccrs.PlateCarree())\n",
    "ax.yaxis.tick_left()\n",
    "lon_formatter = cticker.LongitudeFormatter()\n",
    "lat_formatter = cticker.LatitudeFormatter()\n",
    "ax.xaxis.set_major_formatter(lon_formatter) # set format of x-axis\n",
    "ax.yaxis.set_major_formatter(lat_formatter) # \"       \"       \"\n",
    "ax.xaxis.label.set_visible(False) # only labels on left & bottom\n",
    "ax.yaxis.label.set_visible(False)\n",
    "\n",
    "# set longitude and latitude tick size\n",
    "ax.tick_params(labelsize=16)\n",
    "        \n",
    "plt.title('ACCESS-OM2-01 Bathymetry', fontsize=16);\n",
    "\n",
    "# plt.savefig('bathymetry', dpi=300, facecolor='w', edgecolor='w', orientation='landscape',\n",
    "#             papertype=None, format=None, transparent=False, bbox_inches=None, pad_inches=0.1, metadata=None)"
   ]
  },
  {
   "cell_type": "code",
   "execution_count": null,
   "metadata": {},
   "outputs": [],
   "source": []
  }
 ],
 "metadata": {
  "kernelspec": {
   "display_name": "Python [conda env:analysis3-22.07]",
   "language": "python",
   "name": "conda-env-analysis3-22.07-py"
  },
  "language_info": {
   "codemirror_mode": {
    "name": "ipython",
    "version": 3
   },
   "file_extension": ".py",
   "mimetype": "text/x-python",
   "name": "python",
   "nbconvert_exporter": "python",
   "pygments_lexer": "ipython3",
   "version": "3.9.15"
  }
 },
 "nbformat": 4,
 "nbformat_minor": 4
}
