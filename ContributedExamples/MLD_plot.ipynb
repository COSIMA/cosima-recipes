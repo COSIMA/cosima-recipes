{
 "cells": [
  {
   "cell_type": "markdown",
   "id": "68d709b7-86bb-4a90-aada-5f8e392a8a4e",
   "metadata": {},
   "source": [
    "<font size=\"5\"> **Mixed layer depth in the Southern Ocean** </font>  \n",
    "  \n",
    "This script loads model-derived MLD data and plots the Mixed Layer Depth (MLD) and plots de Mixed Layer Depth for different sectors of the Southern Ocean using the IAF cycle 3 output from ACCESS-OM2-01. \n",
    "  \n",
    "**Requirements:** It is suggested you use the `conda/analysis3-24.01` (or later). This can be defined using the drop down list on the left hand corner, or type `!module load conda/analysis3` in a code cell.\n",
    "\n",
    "This script is a simplified version of this code https://github.com/lidefi87/ACCESS_scripts_DFA/blob/main/Scripts/Stephy/MLD_calc_Denisse.ipynb\n",
    "made by Denisse Fierro Arcos that was posted as a issue on ACCESS-hive. "
   ]
  },
  {
   "cell_type": "code",
   "execution_count": null,
   "id": "c058c71f-effd-4133-8c17-51c63bb5bd7e",
   "metadata": {},
   "outputs": [],
   "source": []
  },
  {
   "cell_type": "markdown",
   "id": "229f7f76-e1c9-4a31-ab34-13d567c5b47f",
   "metadata": {},
   "source": [
    "# Loading relevant modules\n",
    "These modules are used to access relevant outputs and to manipulate data. "
   ]
  },
  {
   "cell_type": "code",
   "execution_count": 1,
   "id": "fd343ff4-438d-4563-8330-17f52860efbe",
   "metadata": {},
   "outputs": [],
   "source": [
    "import cosima_cookbook as cc\n",
    "import xarray as xr\n",
    "import numpy as np\n",
    "import pandas as pd\n",
    "import os\n",
    "from glob import glob\n",
    "import re\n",
    "from collections import OrderedDict\n",
    "import calendar\n",
    "\n",
    "# Packages for plotting\n",
    "import matplotlib.pyplot as plt\n",
    "import matplotlib.ticker as mticker\n",
    "import matplotlib.dates as mdates\n",
    "import matplotlib.colors as mcolors\n",
    "from matplotlib.ticker import AutoMinorLocator\n",
    "import matplotlib.cm as mcm\n",
    "import matplotlib.gridspec as gridspec\n",
    "from cartopy.mpl.gridliner import LONGITUDE_FORMATTER, LATITUDE_FORMATTER\n",
    "import cartopy.crs as ccrs\n",
    "import cartopy.feature as cft\n",
    "import cmocean as cm\n",
    "import geopandas\n",
    "\n",
    "# Dask for parallel computing\n",
    "from dask.distributed import Client, progress\n",
    "import dask.array\n",
    "\n",
    "# Scipy for statistical functions\n",
    "import scipy.stats\n",
    "import scipy.signal\n",
    "\n",
    "# Prevents cell to print warnings when called\n",
    "import warnings\n",
    "\n",
    "# This line will show plots produced by matplotlib inside this Jupyter notebook\n",
    "%matplotlib inline\n"
   ]
  },
  {
   "cell_type": "markdown",
   "id": "2031af28-3746-478d-82d8-72f38025b11d",
   "metadata": {},
   "source": [
    "# Accessing ACCESS-OM2-01 outputs\n",
    "Start a cluster that has multiple cores to work with. Remember that the number of cores cannot exceed the number of CPUs requested when accessing GADI.  \n",
    "If the line below does not run, skip it. The result is that the job will not be parallelised, but the script will still run."
   ]
  },
  {
   "cell_type": "code",
   "execution_count": 2,
   "id": "790b0e6c-e3c5-484f-b93d-3b8d64277b96",
   "metadata": {
    "tags": []
   },
   "outputs": [],
   "source": [
    "client = Client(n_workers = 8)"
   ]
  },
  {
   "cell_type": "markdown",
   "id": "6dfca856-3758-4761-9ac9-94599faff71d",
   "metadata": {},
   "source": [
    "Access the default database of experiments from where data will be loaded."
   ]
  },
  {
   "cell_type": "code",
   "execution_count": 3,
   "id": "d9bedf19-f26f-4d25-bd04-09669160583f",
   "metadata": {},
   "outputs": [],
   "source": [
    "master_session = cc.database.create_session('/g/data/ik11/databases/cosima_master.db')"
   ]
  },
  {
   "cell_type": "markdown",
   "id": "c0ec4491-247f-4f8c-8d58-7652187e370a",
   "metadata": {},
   "source": [
    "This notebook uses outputs for the third cycle of ACCESS-OM2-01, which includes wind forcing. A list of ACCESS-OM2-01 experiments can be accessed using `cc.querying.get_experiments(session)`. A detailed list of experiments can be obtained by adding the following argument: `all = True`."
   ]
  },
  {
   "cell_type": "code",
   "execution_count": 4,
   "id": "ce4abb6c-ba16-44d7-af97-44b4c015f01c",
   "metadata": {},
   "outputs": [],
   "source": [
    "# Monthly data and temporal variability\n",
    "\n",
    "#model\n",
    "expt    = '01deg_jra55v140_iaf_cycle3'\n",
    "model   = 'access-om2-01'\n",
    "var1 = 'pot_rho_0'\n",
    "\n",
    "#time domain\n",
    "yrst    = 1958 \n",
    "yren    = 2018\n",
    "#start and end times\n",
    "st = str(yrst)+'-01-02'   #ACCESS OM dates are at 00:00Z, so a start date of 1st Jan would give you December of prev year\n",
    "en = str(yren)+'-12-31'\n",
    "\n",
    "#Common latitude and depth range\n",
    "# Latitude between 85 S and 55 S [85 S range for Weddell and Ross Gyre]\n",
    "latmin  = -75. \n",
    "latmax  = -50.\n",
    "\n",
    "# Depth [Upper 300m]\n",
    "zmin    = 0.\n",
    "zmax    = 500      \n",
    "\n",
    "# Set the longitude range for each sector in a list to read it in easier\n",
    "kh   =  [-15, 70, -55]         # 345,  70  # King Haakon\n",
    "ea   =  [70, -210, -57]        #  70 ,150  # East Antarctic\n",
    "rs   =  [-210, -135, -62]      # 150, 250  # Ross Sea\n",
    "am   =  [-135, -90, -63]       # 250, 290  # Amundsen sea\n",
    "bs   =  [-90, -60, -60]                    # Bellingshausen sea\n",
    "wl   =  [-60, -15, -58]        # 290, 345  # Weddell sea\n",
    "\n",
    "sectors = [kh, ea, rs, am, bs, wl]\n",
    "\n",
    "# winter ice extent and northern latitude bound for kh, ea, ra, ab, wl\n",
    "winter_sie = [55, 57, 62, 63, 58]\n",
    "\n",
    "# Put sector names in a list for plot titles\n",
    "\n",
    "sNam    = ['King Haakon', 'East Antarctic', 'Ross Sea', 'Amundsen Sea', 'Bellingshausen Sea', 'Weddell Sea']\n",
    "sNam2   = ['KH', 'EA', 'RS', 'AM', 'BS', 'WL']"
   ]
  },
  {
   "cell_type": "code",
   "execution_count": null,
   "id": "afbf7174-14e0-4704-8362-f633526d56b9",
   "metadata": {},
   "outputs": [],
   "source": []
  },
  {
   "cell_type": "markdown",
   "id": "e34a242b-c214-405c-adef-76214cfd7481",
   "metadata": {},
   "source": [
    "## Loading data"
   ]
  },
  {
   "cell_type": "markdown",
   "id": "b3bd6206-2025-480e-a25d-06b99ac2cb9b",
   "metadata": {},
   "source": [
    "MLD & pot_rho"
   ]
  },
  {
   "cell_type": "code",
   "execution_count": 5,
   "id": "ba7ddbc9-3fdc-4b31-83a6-cd7ebdb57c15",
   "metadata": {
    "tags": []
   },
   "outputs": [
    {
     "name": "stdout",
     "output_type": "stream",
     "text": [
      "CPU times: user 2 µs, sys: 5 µs, total: 7 µs\n",
      "Wall time: 14.8 µs\n"
     ]
    },
    {
     "ename": "NameError",
     "evalue": "name 'session' is not defined",
     "output_type": "error",
     "traceback": [
      "\u001b[0;31m---------------------------------------------------------------------------\u001b[0m",
      "\u001b[0;31mNameError\u001b[0m                                 Traceback (most recent call last)",
      "Cell \u001b[0;32mIn[5], line 3\u001b[0m\n\u001b[1;32m      1\u001b[0m get_ipython()\u001b[38;5;241m.\u001b[39mrun_line_magic(\u001b[38;5;124m'\u001b[39m\u001b[38;5;124mtime\u001b[39m\u001b[38;5;124m'\u001b[39m, \u001b[38;5;124m'\u001b[39m\u001b[38;5;124m'\u001b[39m)\n\u001b[0;32m----> 3\u001b[0m OM_mld \u001b[38;5;241m=\u001b[39m cc\u001b[38;5;241m.\u001b[39mquerying\u001b[38;5;241m.\u001b[39mgetvar(expt,\u001b[38;5;124m'\u001b[39m\u001b[38;5;124mmld\u001b[39m\u001b[38;5;124m'\u001b[39m,\u001b[43msession\u001b[49m,start_time\u001b[38;5;241m=\u001b[39mst,end_time\u001b[38;5;241m=\u001b[39men, ncfile\u001b[38;5;241m=\u001b[39m\u001b[38;5;124m'\u001b[39m\u001b[38;5;124mocean-2d-mld-1-monthly-mean-ym_\u001b[39m\u001b[38;5;124m%\u001b[39m\u001b[38;5;124m.nc\u001b[39m\u001b[38;5;124m'\u001b[39m)\u001b[38;5;241m.\u001b[39msel(yt_ocean\u001b[38;5;241m=\u001b[39m \u001b[38;5;28mslice\u001b[39m(latmin, latmax))\n\u001b[1;32m      5\u001b[0m \u001b[38;5;66;03m#Density\u001b[39;00m\n\u001b[1;32m      6\u001b[0m OM_rho \u001b[38;5;241m=\u001b[39m cc\u001b[38;5;241m.\u001b[39mquerying\u001b[38;5;241m.\u001b[39mgetvar(expt,var1,session,start_time\u001b[38;5;241m=\u001b[39mst,end_time\u001b[38;5;241m=\u001b[39men)\u001b[38;5;241m.\u001b[39msel(yt_ocean\u001b[38;5;241m=\u001b[39m \u001b[38;5;28mslice\u001b[39m(latmin, latmax), st_ocean\u001b[38;5;241m=\u001b[39m \u001b[38;5;28mslice\u001b[39m(zmin, zmax))\n",
      "\u001b[0;31mNameError\u001b[0m: name 'session' is not defined"
     ]
    }
   ],
   "source": [
    "%time \n",
    "\n",
    "OM_mld = cc.querying.getvar(expt,'mld',session,start_time=st,end_time=en, ncfile='ocean-2d-mld-1-monthly-mean-ym_%.nc').sel(yt_ocean= slice(latmin, latmax))\n",
    "\n",
    "#Density\n",
    "OM_rho = cc.querying.getvar(expt,var1,session,start_time=st,end_time=en).sel(yt_ocean= slice(latmin, latmax), st_ocean= slice(zmin, zmax))\n",
    "\n",
    "# Area\n",
    "A = cc.querying.getvar(expt,'area_t',session, n=1)\n",
    "\n",
    "#OM_mld.coords   # Print the loaded file to check for year ranges etc\n",
    "#OM_mld # Print the array structure\n",
    "#OM_mld.shape # print the shape of the array"
   ]
  },
  {
   "cell_type": "code",
   "execution_count": null,
   "id": "67d37438-fe07-4b17-9be5-0c139871f5d0",
   "metadata": {},
   "outputs": [],
   "source": []
  },
  {
   "cell_type": "markdown",
   "id": "0ba4affc-469f-4be5-a046-2bdac01b49e6",
   "metadata": {},
   "source": [
    "### Functions to calculate WEIGHTED sector average from mld data"
   ]
  },
  {
   "cell_type": "code",
   "execution_count": null,
   "id": "02ff7fb6-4bd6-4838-b074-f034531bb249",
   "metadata": {
    "tags": []
   },
   "outputs": [],
   "source": [
    "def sector_mean(data, area, region):\n",
    "    \"\"\"\n",
    "    Create spatially averaged dataarray for the\n",
    "    data: pot_rho, MLD dataset\n",
    "    region: Sea ice sectors\n",
    "            kh, ea, ra, ab, wl\"\"\"\n",
    "    \n",
    "    # Step one: slice to latitude ranges\n",
    "    \n",
    "    region_slice = data.sel(yt_ocean=slice(latmin, region[2]))\n",
    "    area_slice   = area.sel(yt_ocean=slice(latmin, region[2]))\n",
    "    \n",
    "    # Step two: create the weighted dataset\n",
    "    region_weighted = region_slice.weighted(area_slice.fillna(0)).mean('yt_ocean')\n",
    "    \n",
    "    # Step three: do the longitudinal selection and average    \n",
    "    \n",
    "    if region[0]>region[1]:\n",
    "        region_slice=region_weighted.isel(xt_ocean = ( data.xt_ocean > region[0] ) | (data.xt_ocean < region[1]) )\n",
    "    else:\n",
    "        region_slice=region_weighted.sel(xt_ocean=slice(region[0],region[1]))\n",
    "             \n",
    "        \n",
    "    spatial_mean=region_slice.mean('xt_ocean')\n",
    "   \n",
    "    \n",
    "    return spatial_mean\n"
   ]
  },
  {
   "cell_type": "code",
   "execution_count": null,
   "id": "dd2a2341-6304-4ad3-9aa0-7ef38601ce80",
   "metadata": {},
   "outputs": [],
   "source": []
  },
  {
   "cell_type": "markdown",
   "id": "519d0822-3caa-43d7-b5ef-92d350cb5d5e",
   "metadata": {},
   "source": [
    "## Calculating sector wise averages (here, I am just using East Antarctica)"
   ]
  },
  {
   "cell_type": "markdown",
   "id": "ad2a7621-27da-427b-9a16-ffa903ce7a56",
   "metadata": {},
   "source": [
    "### Calculating weight mean for 75S"
   ]
  },
  {
   "cell_type": "code",
   "execution_count": null,
   "id": "3af10977-a202-418c-a60f-4185bfa9e205",
   "metadata": {
    "tags": []
   },
   "outputs": [],
   "source": [
    "rho_monthly = OM_rho.groupby('time.month').mean('time')\n",
    "#EA\n",
    "print ('Calculating EA rho Clim')\n",
    "ea_rho = sector_mean(rho_monthly, A, ea)\n",
    "ea_rho.to_netcdf('/g/data/v45/ns3783/data_for_code/AreaWeighted_EA_rho_75S_01072024.nc')\n",
    "print ('Saved to AreaWeighted_EA_rho_75S_01072024.nc')\n",
    "\n",
    "mld_monthly = OM_mld.groupby('time.month').mean('time')\n",
    "#EA\n",
    "print ('Calculating EA mld Clim with 70S lat min')\n",
    "ea_mld = mld_sector_mean(mld_monthly, A, ea)\n",
    "ea_mld.to_netcdf('/g/data/v45/ns3783/data_for_code/AreaWeighted_EA_mld_75S_01072024.nc')\n",
    "print ('Saved to AreaWeighted_EA_mld_75S_01072024.nc')"
   ]
  },
  {
   "cell_type": "markdown",
   "id": "900538cd-df53-4c01-87ba-d7f94621b185",
   "metadata": {},
   "source": [
    "### Load the calculated data from Gadi"
   ]
  },
  {
   "cell_type": "code",
   "execution_count": 47,
   "id": "13679f1e-6008-44c9-8ad4-0ee77d36b2f1",
   "metadata": {
    "tags": []
   },
   "outputs": [],
   "source": [
    "# loading the data back\n",
    "da = xr.open_dataset('/g/data/v45/ns3783/data_for_code/AreaWeighted_EA_rho_75S_01072024.nc') \n",
    "ea_rho = da.pot_rho_0\n",
    "\n",
    "da = xr.open_dataset('/g/data/v45/ns3783/data_for_code/AreaWeighted_EA_mld_75S_01072024.nc') \n",
    "ea_mld = da.mld\n",
    "\n",
    "ea_drhodz = np.gradient(ea_rho)/np.gradient(ea_rho.st_ocean)"
   ]
  },
  {
   "cell_type": "code",
   "execution_count": 66,
   "id": "3280beb1-a81c-47ab-bdf8-2cdf50a8e5dd",
   "metadata": {},
   "outputs": [
    {
     "ename": "NameError",
     "evalue": "name 'ea_rho' is not defined",
     "output_type": "error",
     "traceback": [
      "\u001b[0;31m---------------------------------------------------------------------------\u001b[0m",
      "\u001b[0;31mNameError\u001b[0m                                 Traceback (most recent call last)",
      "Cell \u001b[0;32mIn[66], line 1\u001b[0m\n\u001b[0;32m----> 1\u001b[0m \u001b[43mea_rho\u001b[49m\n",
      "\u001b[0;31mNameError\u001b[0m: name 'ea_rho' is not defined"
     ]
    }
   ],
   "source": [
    "ea_"
   ]
  },
  {
   "cell_type": "markdown",
   "id": "4069e9ae-e7d6-4585-a2df-78cc8656c446",
   "metadata": {},
   "source": [
    "## Simple Plot"
   ]
  },
  {
   "cell_type": "code",
   "execution_count": 52,
   "id": "2b92aa67-15c5-445a-a506-f45b10682279",
   "metadata": {},
   "outputs": [
    {
     "data": {
      "image/png": "[encoded data removed]",
      "text/plain": [
       "<Figure size 1000x600 with 1 Axes>"
      ]
     },
     "metadata": {},
     "output_type": "display_data"
    }
   ],
   "source": [
    "# Create the plot\n",
    "plt.figure(figsize=(10, 6))\n",
    "\n",
    "# Plot data1\n",
    "plt.plot(ea_mld, label='MLD lat min 75S')\n",
    "\n",
    "# Invert y-axis to display depth correctly\n",
    "plt.gca().invert_yaxis()\n",
    "\n",
    "# Add labels and title\n",
    "plt.xlabel('Time (Months)')\n",
    "plt.ylabel('Depth (m)')\n",
    "plt.title('MLD Model-derived')\n",
    "plt.legend()\n",
    "\n",
    "# Show the plot\n",
    "plt.show()"
   ]
  },
  {
   "cell_type": "markdown",
   "id": "c8ae36ec-104f-4daf-944d-471f5dad98b0",
   "metadata": {},
   "source": [
    "### to do for next commit\n",
    "- compare with calculated MLD using density output\n",
    "- compare summer vs winter\n",
    "\n"
   ]
  },
  {
   "cell_type": "code",
   "execution_count": null,
   "id": "e21d99e8-9192-4bf7-8e65-e4baabaeafe3",
   "metadata": {},
   "outputs": [],
   "source": []
  }
 ],
 "metadata": {
  "kernelspec": {
   "display_name": "Python [conda env:analysis3-24.01] *",
   "language": "python",
   "name": "conda-env-analysis3-24.01-py"
  },
  "language_info": {
   "codemirror_mode": {
    "name": "ipython",
    "version": 3
   },
   "file_extension": ".py",
   "mimetype": "text/x-python",
   "name": "python",
   "nbconvert_exporter": "python",
   "pygments_lexer": "ipython3",
   "version": "3.10.13"
  }
 },
 "nbformat": 4,
 "nbformat_minor": 5
}
