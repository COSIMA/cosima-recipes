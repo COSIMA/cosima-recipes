{
 "cells": [
  {
   "cell_type": "markdown",
   "metadata": {},
   "source": [
    "# Hovmoller Temperature Depth\n",
    "\n",
    "This notebook shows how to calculate a depth-time Hovmoller plot of 30-year anomalies of globally averaged of conservative temperature, practical salinity from ACCESS-OM2 between Jan 1989 and Dec 2018."
   ]
  },
  {
   "cell_type": "code",
   "execution_count": 48,
   "metadata": {},
   "outputs": [],
   "source": [
    "import numpy as np\n",
    "import matplotlib.pyplot as plt\n",
    "import cosima_cookbook as cc\n",
    "from matplotlib.gridspec import GridSpec\n",
    "import cmocean.cm as cm\n",
    "import xarray as xr\n",
    "from dask.distributed import Client\n",
    "import IPython.display\n",
    "import matplotlib.dates as mdates\n",
    "from matplotlib import ticker"
   ]
  },
  {
   "cell_type": "code",
   "execution_count": 49,
   "metadata": {},
   "outputs": [
    {
     "data": {
      "text/html": [
       "<div>\n",
       "    <div style=\"width: 24px; height: 24px; background-color: #e1e1e1; border: 3px solid #9D9D9D; border-radius: 5px; position: absolute;\"> </div>\n",
       "    <div style=\"margin-left: 48px;\">\n",
       "        <h3 style=\"margin-bottom: 0px;\">Client</h3>\n",
       "        <p style=\"color: #9D9D9D; margin-bottom: 0px;\">Client-be4356d9-3777-11ef-880b-0000079ffe80</p>\n",
       "        <table style=\"width: 100%; text-align: left;\">\n",
       "\n",
       "        <tr>\n",
       "        \n",
       "            <td style=\"text-align: left;\"><strong>Connection method:</strong> Cluster object</td>\n",
       "            <td style=\"text-align: left;\"><strong>Cluster type:</strong> distributed.LocalCluster</td>\n",
       "        \n",
       "        </tr>\n",
       "\n",
       "        \n",
       "            <tr>\n",
       "                <td style=\"text-align: left;\">\n",
       "                    <strong>Dashboard: </strong> <a href=\"/proxy/33181/status\" target=\"_blank\">/proxy/33181/status</a>\n",
       "                </td>\n",
       "                <td style=\"text-align: left;\"></td>\n",
       "            </tr>\n",
       "        \n",
       "\n",
       "        </table>\n",
       "\n",
       "        \n",
       "            <button style=\"margin-bottom: 12px;\" data-commandlinker-command=\"dask:populate-and-launch-layout\" data-commandlinker-args='{\"url\": \"/proxy/33181/status\" }'>\n",
       "                Launch dashboard in JupyterLab\n",
       "            </button>\n",
       "        \n",
       "\n",
       "        \n",
       "            <details>\n",
       "            <summary style=\"margin-bottom: 20px;\"><h3 style=\"display: inline;\">Cluster Info</h3></summary>\n",
       "            <div class=\"jp-RenderedHTMLCommon jp-RenderedHTML jp-mod-trusted jp-OutputArea-output\">\n",
       "    <div style=\"width: 24px; height: 24px; background-color: #e1e1e1; border: 3px solid #9D9D9D; border-radius: 5px; position: absolute;\">\n",
       "    </div>\n",
       "    <div style=\"margin-left: 48px;\">\n",
       "        <h3 style=\"margin-bottom: 0px; margin-top: 0px;\">LocalCluster</h3>\n",
       "        <p style=\"color: #9D9D9D; margin-bottom: 0px;\">cd3b6589</p>\n",
       "        <table style=\"width: 100%; text-align: left;\">\n",
       "            <tr>\n",
       "                <td style=\"text-align: left;\">\n",
       "                    <strong>Dashboard:</strong> <a href=\"/proxy/33181/status\" target=\"_blank\">/proxy/33181/status</a>\n",
       "                </td>\n",
       "                <td style=\"text-align: left;\">\n",
       "                    <strong>Workers:</strong> 4\n",
       "                </td>\n",
       "            </tr>\n",
       "            <tr>\n",
       "                <td style=\"text-align: left;\">\n",
       "                    <strong>Total threads:</strong> 28\n",
       "                </td>\n",
       "                <td style=\"text-align: left;\">\n",
       "                    <strong>Total memory:</strong> 251.18 GiB\n",
       "                </td>\n",
       "            </tr>\n",
       "            \n",
       "            <tr>\n",
       "    <td style=\"text-align: left;\"><strong>Status:</strong> running</td>\n",
       "    <td style=\"text-align: left;\"><strong>Using processes:</strong> True</td>\n",
       "</tr>\n",
       "\n",
       "            \n",
       "        </table>\n",
       "\n",
       "        <details>\n",
       "            <summary style=\"margin-bottom: 20px;\">\n",
       "                <h3 style=\"display: inline;\">Scheduler Info</h3>\n",
       "            </summary>\n",
       "\n",
       "            <div style=\"\">\n",
       "    <div>\n",
       "        <div style=\"width: 24px; height: 24px; background-color: #FFF7E5; border: 3px solid #FF6132; border-radius: 5px; position: absolute;\"> </div>\n",
       "        <div style=\"margin-left: 48px;\">\n",
       "            <h3 style=\"margin-bottom: 0px;\">Scheduler</h3>\n",
       "            <p style=\"color: #9D9D9D; margin-bottom: 0px;\">Scheduler-094ed9ab-c741-4eed-9b84-a0d814bd7626</p>\n",
       "            <table style=\"width: 100%; text-align: left;\">\n",
       "                <tr>\n",
       "                    <td style=\"text-align: left;\">\n",
       "                        <strong>Comm:</strong> tcp://127.0.0.1:40277\n",
       "                    </td>\n",
       "                    <td style=\"text-align: left;\">\n",
       "                        <strong>Workers:</strong> 4\n",
       "                    </td>\n",
       "                </tr>\n",
       "                <tr>\n",
       "                    <td style=\"text-align: left;\">\n",
       "                        <strong>Dashboard:</strong> <a href=\"/proxy/33181/status\" target=\"_blank\">/proxy/33181/status</a>\n",
       "                    </td>\n",
       "                    <td style=\"text-align: left;\">\n",
       "                        <strong>Total threads:</strong> 28\n",
       "                    </td>\n",
       "                </tr>\n",
       "                <tr>\n",
       "                    <td style=\"text-align: left;\">\n",
       "                        <strong>Started:</strong> Just now\n",
       "                    </td>\n",
       "                    <td style=\"text-align: left;\">\n",
       "                        <strong>Total memory:</strong> 251.18 GiB\n",
       "                    </td>\n",
       "                </tr>\n",
       "            </table>\n",
       "        </div>\n",
       "    </div>\n",
       "\n",
       "    <details style=\"margin-left: 48px;\">\n",
       "        <summary style=\"margin-bottom: 20px;\">\n",
       "            <h3 style=\"display: inline;\">Workers</h3>\n",
       "        </summary>\n",
       "\n",
       "        \n",
       "        <div style=\"margin-bottom: 20px;\">\n",
       "            <div style=\"width: 24px; height: 24px; background-color: #DBF5FF; border: 3px solid #4CC9FF; border-radius: 5px; position: absolute;\"> </div>\n",
       "            <div style=\"margin-left: 48px;\">\n",
       "            <details>\n",
       "                <summary>\n",
       "                    <h4 style=\"margin-bottom: 0px; display: inline;\">Worker: 0</h4>\n",
       "                </summary>\n",
       "                <table style=\"width: 100%; text-align: left;\">\n",
       "                    <tr>\n",
       "                        <td style=\"text-align: left;\">\n",
       "                            <strong>Comm: </strong> tcp://127.0.0.1:34915\n",
       "                        </td>\n",
       "                        <td style=\"text-align: left;\">\n",
       "                            <strong>Total threads: </strong> 7\n",
       "                        </td>\n",
       "                    </tr>\n",
       "                    <tr>\n",
       "                        <td style=\"text-align: left;\">\n",
       "                            <strong>Dashboard: </strong> <a href=\"/proxy/35939/status\" target=\"_blank\">/proxy/35939/status</a>\n",
       "                        </td>\n",
       "                        <td style=\"text-align: left;\">\n",
       "                            <strong>Memory: </strong> 62.80 GiB\n",
       "                        </td>\n",
       "                    </tr>\n",
       "                    <tr>\n",
       "                        <td style=\"text-align: left;\">\n",
       "                            <strong>Nanny: </strong> tcp://127.0.0.1:44059\n",
       "                        </td>\n",
       "                        <td style=\"text-align: left;\"></td>\n",
       "                    </tr>\n",
       "                    <tr>\n",
       "                        <td colspan=\"2\" style=\"text-align: left;\">\n",
       "                            <strong>Local directory: </strong> /jobfs/119468794.gadi-pbs/dask-scratch-space/worker-5yjide7a\n",
       "                        </td>\n",
       "                    </tr>\n",
       "\n",
       "                    \n",
       "\n",
       "                    \n",
       "\n",
       "                </table>\n",
       "            </details>\n",
       "            </div>\n",
       "        </div>\n",
       "        \n",
       "        <div style=\"margin-bottom: 20px;\">\n",
       "            <div style=\"width: 24px; height: 24px; background-color: #DBF5FF; border: 3px solid #4CC9FF; border-radius: 5px; position: absolute;\"> </div>\n",
       "            <div style=\"margin-left: 48px;\">\n",
       "            <details>\n",
       "                <summary>\n",
       "                    <h4 style=\"margin-bottom: 0px; display: inline;\">Worker: 1</h4>\n",
       "                </summary>\n",
       "                <table style=\"width: 100%; text-align: left;\">\n",
       "                    <tr>\n",
       "                        <td style=\"text-align: left;\">\n",
       "                            <strong>Comm: </strong> tcp://127.0.0.1:35377\n",
       "                        </td>\n",
       "                        <td style=\"text-align: left;\">\n",
       "                            <strong>Total threads: </strong> 7\n",
       "                        </td>\n",
       "                    </tr>\n",
       "                    <tr>\n",
       "                        <td style=\"text-align: left;\">\n",
       "                            <strong>Dashboard: </strong> <a href=\"/proxy/44545/status\" target=\"_blank\">/proxy/44545/status</a>\n",
       "                        </td>\n",
       "                        <td style=\"text-align: left;\">\n",
       "                            <strong>Memory: </strong> 62.80 GiB\n",
       "                        </td>\n",
       "                    </tr>\n",
       "                    <tr>\n",
       "                        <td style=\"text-align: left;\">\n",
       "                            <strong>Nanny: </strong> tcp://127.0.0.1:39905\n",
       "                        </td>\n",
       "                        <td style=\"text-align: left;\"></td>\n",
       "                    </tr>\n",
       "                    <tr>\n",
       "                        <td colspan=\"2\" style=\"text-align: left;\">\n",
       "                            <strong>Local directory: </strong> /jobfs/119468794.gadi-pbs/dask-scratch-space/worker-t77k5pzd\n",
       "                        </td>\n",
       "                    </tr>\n",
       "\n",
       "                    \n",
       "\n",
       "                    \n",
       "\n",
       "                </table>\n",
       "            </details>\n",
       "            </div>\n",
       "        </div>\n",
       "        \n",
       "        <div style=\"margin-bottom: 20px;\">\n",
       "            <div style=\"width: 24px; height: 24px; background-color: #DBF5FF; border: 3px solid #4CC9FF; border-radius: 5px; position: absolute;\"> </div>\n",
       "            <div style=\"margin-left: 48px;\">\n",
       "            <details>\n",
       "                <summary>\n",
       "                    <h4 style=\"margin-bottom: 0px; display: inline;\">Worker: 2</h4>\n",
       "                </summary>\n",
       "                <table style=\"width: 100%; text-align: left;\">\n",
       "                    <tr>\n",
       "                        <td style=\"text-align: left;\">\n",
       "                            <strong>Comm: </strong> tcp://127.0.0.1:44079\n",
       "                        </td>\n",
       "                        <td style=\"text-align: left;\">\n",
       "                            <strong>Total threads: </strong> 7\n",
       "                        </td>\n",
       "                    </tr>\n",
       "                    <tr>\n",
       "                        <td style=\"text-align: left;\">\n",
       "                            <strong>Dashboard: </strong> <a href=\"/proxy/36153/status\" target=\"_blank\">/proxy/36153/status</a>\n",
       "                        </td>\n",
       "                        <td style=\"text-align: left;\">\n",
       "                            <strong>Memory: </strong> 62.80 GiB\n",
       "                        </td>\n",
       "                    </tr>\n",
       "                    <tr>\n",
       "                        <td style=\"text-align: left;\">\n",
       "                            <strong>Nanny: </strong> tcp://127.0.0.1:40389\n",
       "                        </td>\n",
       "                        <td style=\"text-align: left;\"></td>\n",
       "                    </tr>\n",
       "                    <tr>\n",
       "                        <td colspan=\"2\" style=\"text-align: left;\">\n",
       "                            <strong>Local directory: </strong> /jobfs/119468794.gadi-pbs/dask-scratch-space/worker-krc6ab31\n",
       "                        </td>\n",
       "                    </tr>\n",
       "\n",
       "                    \n",
       "\n",
       "                    \n",
       "\n",
       "                </table>\n",
       "            </details>\n",
       "            </div>\n",
       "        </div>\n",
       "        \n",
       "        <div style=\"margin-bottom: 20px;\">\n",
       "            <div style=\"width: 24px; height: 24px; background-color: #DBF5FF; border: 3px solid #4CC9FF; border-radius: 5px; position: absolute;\"> </div>\n",
       "            <div style=\"margin-left: 48px;\">\n",
       "            <details>\n",
       "                <summary>\n",
       "                    <h4 style=\"margin-bottom: 0px; display: inline;\">Worker: 3</h4>\n",
       "                </summary>\n",
       "                <table style=\"width: 100%; text-align: left;\">\n",
       "                    <tr>\n",
       "                        <td style=\"text-align: left;\">\n",
       "                            <strong>Comm: </strong> tcp://127.0.0.1:45281\n",
       "                        </td>\n",
       "                        <td style=\"text-align: left;\">\n",
       "                            <strong>Total threads: </strong> 7\n",
       "                        </td>\n",
       "                    </tr>\n",
       "                    <tr>\n",
       "                        <td style=\"text-align: left;\">\n",
       "                            <strong>Dashboard: </strong> <a href=\"/proxy/39297/status\" target=\"_blank\">/proxy/39297/status</a>\n",
       "                        </td>\n",
       "                        <td style=\"text-align: left;\">\n",
       "                            <strong>Memory: </strong> 62.80 GiB\n",
       "                        </td>\n",
       "                    </tr>\n",
       "                    <tr>\n",
       "                        <td style=\"text-align: left;\">\n",
       "                            <strong>Nanny: </strong> tcp://127.0.0.1:38661\n",
       "                        </td>\n",
       "                        <td style=\"text-align: left;\"></td>\n",
       "                    </tr>\n",
       "                    <tr>\n",
       "                        <td colspan=\"2\" style=\"text-align: left;\">\n",
       "                            <strong>Local directory: </strong> /jobfs/119468794.gadi-pbs/dask-scratch-space/worker-yq_ja5xo\n",
       "                        </td>\n",
       "                    </tr>\n",
       "\n",
       "                    \n",
       "\n",
       "                    \n",
       "\n",
       "                </table>\n",
       "            </details>\n",
       "            </div>\n",
       "        </div>\n",
       "        \n",
       "\n",
       "    </details>\n",
       "</div>\n",
       "\n",
       "        </details>\n",
       "    </div>\n",
       "</div>\n",
       "            </details>\n",
       "        \n",
       "\n",
       "    </div>\n",
       "</div>"
      ],
      "text/plain": [
       "<Client: 'tcp://127.0.0.1:40277' processes=4 threads=28, memory=251.18 GiB>"
      ]
     },
     "execution_count": 49,
     "metadata": {},
     "output_type": "execute_result"
    }
   ],
   "source": [
    "client = Client(n_workers = 4)\n",
    "client"
   ]
  },
  {
   "cell_type": "code",
   "execution_count": 50,
   "metadata": {},
   "outputs": [],
   "source": [
    "## Opening the cosima cookbook session\n",
    "session = cc.database.create_session()\n",
    "expt1deg = '1deg_jra55_iaf_omip2_cycle6'  # 1-deg experiment\n",
    "start_time, end_time = '1989-01-01', '2018-12-31'"
   ]
  },
  {
   "cell_type": "code",
   "execution_count": 51,
   "metadata": {},
   "outputs": [],
   "source": [
    "def load_var(experiment, var, freq, start_time, end_time):\n",
    "    var_load = cc.querying.getvar(experiment, var, session, frequency = freq, \n",
    "                                  start_time=start_time, end_time=end_time)\n",
    "    var_load.sel(time=slice(start_time, end_time))\n",
    "    if var == 'temp':\n",
    "        return var_load - 273.15\n",
    "    else:\n",
    "        return var_load\n",
    "    "
   ]
  },
  {
   "cell_type": "code",
   "execution_count": 52,
   "metadata": {},
   "outputs": [],
   "source": [
    "## Loading the variables\n",
    "temp_1deg = load_var(expt1deg, 'temp', '1 monthly', start_time, end_time)\n",
    "salt_1deg = load_var(expt1deg, 'salt', '1 monthly', start_time, end_time)\n",
    "IPython.display.clear_output()"
   ]
  },
  {
   "cell_type": "code",
   "execution_count": 53,
   "metadata": {},
   "outputs": [],
   "source": [
    "temp_anomaly_1deg = temp_1deg - temp_1deg.mean('time') # Computing the anomaly relative to the 30year time average\n",
    "salt_anomaly_1deg = salt_1deg - salt_1deg.mean('time') # Computing the anomaly relative to the 30year time average"
   ]
  },
  {
   "cell_type": "markdown",
   "metadata": {},
   "source": [
    "Next, we load cell area (denoted $a(x,y,z)$) to construct the total ocean area as a function of depth, $A$, namely\n",
    "$$ A(z) = \\sum_x \\sum_y a(x,y,z)$$\n"
   ]
  },
  {
   "cell_type": "code",
   "execution_count": 55,
   "metadata": {},
   "outputs": [],
   "source": [
    "## Loading the dxt and dyt to estimate the area\n",
    "dxt_1deg = cc.querying.getvar(expt1deg, 'dxt', session, frequency='static', n = 1)\n",
    "dyt_1deg = cc.querying.getvar(expt1deg, 'dyt', session, frequency='static', n = 1)\n",
    "area_1deg = dxt_1deg*dyt_1deg"
   ]
  },
  {
   "cell_type": "markdown",
   "metadata": {},
   "source": [
    "Now, the mean temperature at each time level can then be computed as \n",
    "$$T(z,t) = \\frac{\\sum_x \\sum_y a(x,y,z) \\tilde{\\theta}(x,y,z,t)}{A(z)}$$\n",
    "where $T$ is the globally average temperature and $\\tilde{\\theta}$ is the anomaly of the conservative temperature."
   ]
  },
  {
   "cell_type": "code",
   "execution_count": 56,
   "metadata": {},
   "outputs": [],
   "source": [
    "### Temperature hovmoller\n",
    "temp_hov_1deg = ((area_1deg*temp_anomaly_1deg).sum('xt_ocean').sum('yt_ocean'))/area_1deg.sum('xt_ocean').sum('yt_ocean')\n",
    "temp_hov_1deg = temp_hov_1deg.compute()\n",
    "\n",
    "### Salinity hovmoller\n",
    "salt_hov_1deg = ((area_1deg*salt_anomaly_1deg).sum('xt_ocean').sum('yt_ocean'))/area_1deg.sum('xt_ocean').sum('yt_ocean')\n",
    "salt_hov_1deg = salt_hov_1deg.compute()\n",
    "\n",
    "IPython.display.clear_output()"
   ]
  },
  {
   "cell_type": "code",
   "execution_count": 57,
   "metadata": {},
   "outputs": [],
   "source": [
    "myFmt = mdates.DateFormatter('%Y')\n",
    "def plot_hov(fsize = 14, date_format = myFmt):\n",
    "    # Set figures properties\n",
    "    plt.rcParams['font.size'] = fsize\n",
    "    plt.rcParams['font.weight'] = 'bold'\n",
    "    plt.rcParams['xtick.labelsize'] = fsize\n",
    "    plt.rcParams['ytick.labelsize'] = fsize\n",
    "    plt.rcParams['axes.labelweight'] = 'bold'\n",
    "    plt.rcParams['axes.titleweight'] = 'bold'\n",
    "    \n",
    "    fig = plt.figure(figsize = (10,6))\n",
    "    grd = GridSpec(100,100)\n",
    "    \n",
    "    ax = [fig.add_subplot(grd[:30,:30]), fig.add_subplot(grd[:30,33:63]),\n",
    "          fig.add_subplot(grd[32:,:30]), fig.add_subplot(grd[32:,33:63])]\n",
    "    for i in range(len(ax)):\n",
    "        ax[i].xaxis.set_major_formatter(date_format)\n",
    "        ax[i].tick_params(axis='x', labelrotation=45)\n",
    "        if i != 0 and i != 2:\n",
    "            ax[i].set_yticklabels([]) \n",
    "    \n",
    "    return fig, ax"
   ]
  },
  {
   "cell_type": "code",
   "execution_count": 58,
   "metadata": {},
   "outputs": [
    {
     "data": {
      "image/png": "[encoded data removed]",
      "text/plain": [
       "<Figure size 1000x600 with 6 Axes>"
      ]
     },
     "metadata": {},
     "output_type": "display_data"
    }
   ],
   "source": [
    "fig, ax = plot_hov(fsize = 14)\n",
    "lv_temp = np.arange(-.1,.11,.01)\n",
    "lv_salt = np.arange(-.01,.011,.001)\n",
    "\n",
    "cf_temp = temp_hov_1deg.plot(ax = ax[0], levels = lv_temp, x = 'time',  y = 'st_ocean', add_colorbar = False, label = None, cmap = cm.balance, extend = 'both')\n",
    "temp_hov_1deg.plot(ax = ax[2], levels = lv_temp, x = 'time',  y = 'st_ocean', add_colorbar = False, label = None, cmap = cm.balance, extend = 'both')\n",
    "\n",
    "cf_salt = salt_hov_1deg.plot(ax = ax[1], levels = lv_salt, x = 'time',  y = 'st_ocean', add_colorbar = False, label = None, cmap = cm.curl, extend = 'both')\n",
    "salt_hov_1deg.plot(ax = ax[3], levels = lv_salt, x = 'time',  y = 'st_ocean', add_colorbar = False, label = None, cmap = cm.curl, extend = 'both')\n",
    "\n",
    "## Details\n",
    "for i in range(len(ax)):\n",
    "    if i < 2:\n",
    "        ax[i].set_ylim(500,0)\n",
    "        ax[i].set_xticklabels([])\n",
    "    else:\n",
    "        ax[i].set_xlabel('')\n",
    "        ax[i].set_ylim(5000,500)\n",
    "ax[0].set_ylabel(\"Depth [m]\")\n",
    "ax[2].set_ylabel(\"Depth [m]\")\n",
    "ax[1].set_ylabel('')\n",
    "ax[3].set_ylabel('')\n",
    "\n",
    "# Colorbar\n",
    "bar = plt.axes([0.11, 0.99, 0.25, 0.02])\n",
    "cbar_1 = plt.colorbar(cf_temp, cax = bar, orientation = 'horizontal', extend='both', format= '%.2f')  \n",
    "cbar_1.set_label('Temperature [$\\degree$C]')\n",
    "\n",
    "bar = plt.axes([0.37, 0.99, 0.25, 0.02])\n",
    "cbar_2 = plt.colorbar(cf_salt, cax = bar, orientation = 'horizontal', extend='both', format= '%.2f')  \n",
    "cbar_2.set_label('Salinity [psu]')\n",
    "\n",
    "cbar = [cbar_1, cbar_2]\n",
    "for i in range(len(cbar)):\n",
    "    tick_locator = ticker.MaxNLocator(nbins=3) ## The ticker needs to called within the loop\n",
    "    cbar[i].locator = tick_locator\n",
    "    cbar[i].update_ticks()"
   ]
  },
  {
   "cell_type": "code",
   "execution_count": null,
   "metadata": {},
   "outputs": [],
   "source": []
  },
  {
   "cell_type": "code",
   "execution_count": null,
   "metadata": {},
   "outputs": [],
   "source": []
  },
  {
   "cell_type": "markdown",
   "metadata": {},
   "source": [
    "# The lines above were written by Felipe in July 2024\n",
    "#### Andy Hogg suggested to update the code below to the latest version of the cookbook and make it a documented example.\n",
    "# The lines below were written by Angus in Oct 2018\n",
    "\n",
    "This notebook shows how to calculate a depth-time Hovmoller plot of globally averaged potential temperature from ACCESS-OM2.\n",
    "\n",
    "First, the preliminaries, including starting a cluster of 8 workers to do the calculation."
   ]
  },
  {
   "cell_type": "code",
   "execution_count": 1,
   "metadata": {},
   "outputs": [
    {
     "name": "stdout",
     "output_type": "stream",
     "text": [
      "netcdf_index loaded.\n"
     ]
    },
    {
     "name": "stderr",
     "output_type": "stream",
     "text": [
      "/home/157/amh157/.local/lib/python3.6/site-packages/cmocean/tools.py:76: MatplotlibDeprecationWarning: The is_string_like function was deprecated in version 2.1.\n",
      "  if not mpl.cbook.is_string_like(rgbin[0]):\n"
     ]
    },
    {
     "name": "stdout",
     "output_type": "stream",
     "text": [
      "If the link to the dashboard below doesn't work, run this command on a local terminal to set up a SSH tunnel:\n",
      "\n",
      "  ssh -N -L 37545:127.0.0.1:37545 vdi-n22.nci.org.au -l amh157\n"
     ]
    },
    {
     "data": {
      "text/html": [
       "<table style=\"border: 2px solid white;\">\n",
       "<tr>\n",
       "<td style=\"vertical-align: top; border: 0px solid white\">\n",
       "<h3>Client</h3>\n",
       "<ul>\n",
       "  <li><b>Scheduler: </b>tcp://127.0.0.1:35328\n",
       "  <li><b>Dashboard: </b><a href='http://127.0.0.1:37545' target='_blank'>http://127.0.0.1:37545</a>\n",
       "</ul>\n",
       "</td>\n",
       "<td style=\"vertical-align: top; border: 0px solid white\">\n",
       "<h3>Cluster</h3>\n",
       "<ul>\n",
       "  <li><b>Workers: </b>4</li>\n",
       "  <li><b>Cores: </b>8</li>\n",
       "  <li><b>Memory: </b>24.00 GB</li>\n",
       "</ul>\n",
       "</td>\n",
       "</tr>\n",
       "</table>"
      ],
      "text/plain": [
       "<Client: scheduler='tcp://127.0.0.1:35328' processes=4 cores=8>"
      ]
     },
     "execution_count": 1,
     "metadata": {},
     "output_type": "execute_result"
    }
   ],
   "source": [
    "%matplotlib inline\n",
    "\n",
    "import cosima_cookbook as cc\n",
    "import matplotlib.pyplot as plt\n",
    "import numpy as np\n",
    "import cmocean as cm\n",
    "import IPython.display\n",
    "\n",
    "cc.start_cluster()"
   ]
  },
  {
   "cell_type": "markdown",
   "metadata": {},
   "source": [
    "**Select an Experiment:**"
   ]
  },
  {
   "cell_type": "code",
   "execution_count": 2,
   "metadata": {},
   "outputs": [],
   "source": [
    "expt = '1deg_jra55_ryf8485_gfdl50'\n",
    "#expt= '025deg_jra55v13_ryf8485_spinup_A'"
   ]
  },
  {
   "cell_type": "markdown",
   "metadata": {},
   "source": [
    "Now, we load an entire temperature dataset, along with the corresponding WOA13 temperature dataset to compute the temperature anomaly."
   ]
  },
  {
   "cell_type": "code",
   "execution_count": 3,
   "metadata": {},
   "outputs": [],
   "source": [
    "temp = cc.get_nc_variable(expt, 'ocean.nc', 'temp',\n",
    "                        chunks={'st_ocean': None}, \n",
    "                        time_units=\"days since 1700-01-01\")\n",
    "temp_WOA13 = cc.get_nc_variable('woa13/10', 'woa13_ts_??_mom10.nc', 'temp').mean('time').compute()\n",
    "#temp_WOA13 = cc.get_nc_variable('woa13/025', 'woa13_ts_??_mom025.nc', 'temp').mean('time').compute()\n",
    "temp_anom = temp - temp_WOA13.values - 273.15\n",
    "IPython.display.clear_output()"
   ]
  },
  {
   "cell_type": "markdown",
   "metadata": {},
   "source": [
    "Next, we load cell area (denoted $a(x,y,z)$) from the ocean_grid file, construct a mask from the temperature file and make a profile of the total ocean area as a function of depth, $A$, namely\n",
    "$$ A(z) = \\sum_x \\sum_y a(x,y,z)$$\n",
    "*Note that this mask ignores the presence of partial cells, for now*."
   ]
  },
  {
   "cell_type": "code",
   "execution_count": 4,
   "metadata": {},
   "outputs": [],
   "source": [
    "area_t = cc.get_nc_variable(expt,'ocean_grid.nc','area_t',n=1).mean('time')\n",
    "mask = temp.isel(time=0).copy()\n",
    "mask = mask/mask                 ## This seems pretty dodgy to me, but it works!!\n",
    "area = mask*area_t\n",
    "area_sum = area.sum('xt_ocean').sum('yt_ocean')\n",
    "IPython.display.clear_output()"
   ]
  },
  {
   "cell_type": "markdown",
   "metadata": {},
   "source": [
    "Now, the mean temperature at each time level can then be computed as \n",
    "$$T(z,t) = \\frac{\\sum_x \\sum_y a(x,y,z) \\theta(x,y,z,t)}{A(z)}$$\n",
    "where $T$ is the average temperature and $\\theta$ the potential temperature."
   ]
  },
  {
   "cell_type": "code",
   "execution_count": 5,
   "metadata": {},
   "outputs": [],
   "source": [
    "var =area_t*temp_anom\n",
    "temp_hov = var.sum('xt_ocean').sum('yt_ocean').compute()\n",
    "temp_hov = temp_hov/area_sum"
   ]
  },
  {
   "cell_type": "markdown",
   "metadata": {},
   "source": [
    "We can use xarray for a quick and dirty plot of this data:"
   ]
  },
  {
   "cell_type": "code",
   "execution_count": 6,
   "metadata": {},
   "outputs": [
    {
     "name": "stderr",
     "output_type": "stream",
     "text": [
      "/g/data3/hh5/public/apps/miniconda3/envs/analysis3/lib/python3.6/site-packages/seaborn/apionly.py:6: UserWarning: As seaborn no longer sets a default style on import, the seaborn.apionly module is deprecated. It will be removed in a future version.\n",
      "  warnings.warn(msg, UserWarning)\n"
     ]
    },
    {
     "data": {
      "text/plain": [
       "<matplotlib.contour.QuadContourSet at 0x7fd4adf94748>"
      ]
     },
     "execution_count": 6,
     "metadata": {},
     "output_type": "execute_result"
    },
    {
     "data": {
      "image/png": "[encoded data removed]",
      "text/plain": [
       "<matplotlib.figure.Figure at 0x7fd504496908>"
      ]
     },
     "metadata": {},
     "output_type": "display_data"
    }
   ],
   "source": [
    "temp_hov.T.plot.contourf(levels=25,yincrease=False)"
   ]
  },
  {
   "cell_type": "markdown",
   "metadata": {},
   "source": [
    "Alternatively, we could put a little more effort into plotting, including expansion of the upper 1000m:"
   ]
  },
  {
   "cell_type": "code",
   "execution_count": 7,
   "metadata": {},
   "outputs": [
    {
     "data": {
      "text/plain": [
       "Text(0.5,1,'Horizontally averaged evolution of potential temperature')"
      ]
     },
     "execution_count": 7,
     "metadata": {},
     "output_type": "execute_result"
    },
    {
     "data": {
      "image/png": "[encoded data removed]",
      "text/plain": [
       "<matplotlib.figure.Figure at 0x7fd4adf8c978>"
      ]
     },
     "metadata": {},
     "output_type": "display_data"
    }
   ],
   "source": [
    "t_up = temp_hov.sel(st_ocean=slice(0,1000))\n",
    "levs = np.arange(-1,1,0.1)\n",
    "fig,ax = plt.subplots(2,1,sharex=True,figsize=(6,6))\n",
    "plt.subplots_adjust(hspace=0,right=0.85)\n",
    "\n",
    "t_up.T.plot.contourf(ax=ax[0],levels=levs,cmap = cm.cm.balance,yincrease=False,add_colorbar=False)\n",
    "ax[0].set_ylabel('')\n",
    "\n",
    "t_lo = temp_hov.sel(st_ocean=slice(1000,6000))\n",
    "p1=t_lo.T.plot.contourf(ax=ax[1],levels=levs,cmap = cm.cm.balance,yincrease=False,add_colorbar=False)\n",
    "plt.ylabel('Depth (m)')\n",
    "plt.xlabel('Time (yrs)')\n",
    "\n",
    "ax1 = plt.axes([0.88,0.3,0.02,0.4])\n",
    "cb = plt.colorbar(p1,cax=ax1,orientation='vertical')\n",
    "ax1.xaxis.set_label_position(\"top\")\n",
    "cb.ax.set_xlabel('°C')\n",
    "\n",
    "ax[0].set_title('Horizontally averaged evolution of potential temperature')\n"
   ]
  },
  {
   "cell_type": "code",
   "execution_count": null,
   "metadata": {},
   "outputs": [],
   "source": []
  }
 ],
 "metadata": {
  "kernelspec": {
   "display_name": "Python [conda env:analysis3-unstable]",
   "language": "python",
   "name": "conda-env-analysis3-unstable-py"
  },
  "language_info": {
   "codemirror_mode": {
    "name": "ipython",
    "version": 3
   },
   "file_extension": ".py",
   "mimetype": "text/x-python",
   "name": "python",
   "nbconvert_exporter": "python",
   "pygments_lexer": "ipython3",
   "version": "3.10.14"
  }
 },
 "nbformat": 4,
 "nbformat_minor": 4
}
