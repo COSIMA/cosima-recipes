{
 "cells": [
  {
   "cell_type": "markdown",
   "id": "59275e35",
   "metadata": {},
   "source": [
    "# Hovmoller Temperature Depth\n",
    "\n",
    "This notebook shows how to calculate a depth-time Hovmoller plot of globally averaged potential temperature from ACCESS-OM2.\n",
    "\n",
    "First, the preliminaries, including starting a cluster of 8 workers to do the calculation."
   ]
  },
  {
   "cell_type": "code",
   "execution_count": 1,
   "id": "fa866159",
   "metadata": {},
   "outputs": [],
   "source": [
    "%matplotlib inline\n",
    "\n",
    "import pandas as pd\n",
    "import intake\n",
    "catalog = intake.cat.access_nri\n",
    "import matplotlib.pyplot as plt\n",
    "import numpy as np\n",
    "import cmocean as cm\n",
    "import IPython.display\n",
    "from dask.distributed import Client\n",
    "\n"
   ]
  },
  {
   "cell_type": "markdown",
   "id": "e32c1a93",
   "metadata": {},
   "source": [
    "**Select an Experiment:**"
   ]
  },
  {
   "cell_type": "code",
   "execution_count": 2,
   "id": "cc7bb7a4-5ed7-4090-ae2a-0e5499fc090f",
   "metadata": {},
   "outputs": [
    {
     "data": {
      "text/html": [
       "<div>\n",
       "    <div style=\"width: 24px; height: 24px; background-color: #e1e1e1; border: 3px solid #9D9D9D; border-radius: 5px; position: absolute;\"> </div>\n",
       "    <div style=\"margin-left: 48px;\">\n",
       "        <h3 style=\"margin-bottom: 0px;\">Client</h3>\n",
       "        <p style=\"color: #9D9D9D; margin-bottom: 0px;\">Client-04686e0f-8363-11ee-bda2-0000018efe80</p>\n",
       "        <table style=\"width: 100%; text-align: left;\">\n",
       "\n",
       "        <tr>\n",
       "        \n",
       "            <td style=\"text-align: left;\"><strong>Connection method:</strong> Direct</td>\n",
       "            <td style=\"text-align: left;\"></td>\n",
       "        \n",
       "        </tr>\n",
       "\n",
       "        \n",
       "            <tr>\n",
       "                <td style=\"text-align: left;\">\n",
       "                    <strong>Dashboard: </strong> <a href=\"/proxy/8787/status\" target=\"_blank\">/proxy/8787/status</a>\n",
       "                </td>\n",
       "                <td style=\"text-align: left;\"></td>\n",
       "            </tr>\n",
       "        \n",
       "\n",
       "        </table>\n",
       "\n",
       "        \n",
       "            <button style=\"margin-bottom: 12px;\" data-commandlinker-command=\"dask:populate-and-launch-layout\" data-commandlinker-args='{\"url\": \"/proxy/8787/status\" }'>\n",
       "                Launch dashboard in JupyterLab\n",
       "            </button>\n",
       "        \n",
       "\n",
       "        \n",
       "            <details>\n",
       "            <summary style=\"margin-bottom: 20px;\"><h3 style=\"display: inline;\">Scheduler Info</h3></summary>\n",
       "            <div style=\"\">\n",
       "    <div>\n",
       "        <div style=\"width: 24px; height: 24px; background-color: #FFF7E5; border: 3px solid #FF6132; border-radius: 5px; position: absolute;\"> </div>\n",
       "        <div style=\"margin-left: 48px;\">\n",
       "            <h3 style=\"margin-bottom: 0px;\">Scheduler</h3>\n",
       "            <p style=\"color: #9D9D9D; margin-bottom: 0px;\">Scheduler-7547f1e1-4c20-48f5-98ca-661eaefedcf0</p>\n",
       "            <table style=\"width: 100%; text-align: left;\">\n",
       "                <tr>\n",
       "                    <td style=\"text-align: left;\">\n",
       "                        <strong>Comm:</strong> tcp://10.6.22.43:8786\n",
       "                    </td>\n",
       "                    <td style=\"text-align: left;\">\n",
       "                        <strong>Workers:</strong> 1\n",
       "                    </td>\n",
       "                </tr>\n",
       "                <tr>\n",
       "                    <td style=\"text-align: left;\">\n",
       "                        <strong>Dashboard:</strong> <a href=\"/proxy/8787/status\" target=\"_blank\">/proxy/8787/status</a>\n",
       "                    </td>\n",
       "                    <td style=\"text-align: left;\">\n",
       "                        <strong>Total threads:</strong> 48\n",
       "                    </td>\n",
       "                </tr>\n",
       "                <tr>\n",
       "                    <td style=\"text-align: left;\">\n",
       "                        <strong>Started:</strong> 38 minutes ago\n",
       "                    </td>\n",
       "                    <td style=\"text-align: left;\">\n",
       "                        <strong>Total memory:</strong> 188.56 GiB\n",
       "                    </td>\n",
       "                </tr>\n",
       "            </table>\n",
       "        </div>\n",
       "    </div>\n",
       "\n",
       "    <details style=\"margin-left: 48px;\">\n",
       "        <summary style=\"margin-bottom: 20px;\">\n",
       "            <h3 style=\"display: inline;\">Workers</h3>\n",
       "        </summary>\n",
       "\n",
       "        \n",
       "        <div style=\"margin-bottom: 20px;\">\n",
       "            <div style=\"width: 24px; height: 24px; background-color: #DBF5FF; border: 3px solid #4CC9FF; border-radius: 5px; position: absolute;\"> </div>\n",
       "            <div style=\"margin-left: 48px;\">\n",
       "            <details>\n",
       "                <summary>\n",
       "                    <h4 style=\"margin-bottom: 0px; display: inline;\">Worker: tcp://10.6.22.43:37571</h4>\n",
       "                </summary>\n",
       "                <table style=\"width: 100%; text-align: left;\">\n",
       "                    <tr>\n",
       "                        <td style=\"text-align: left;\">\n",
       "                            <strong>Comm: </strong> tcp://10.6.22.43:37571\n",
       "                        </td>\n",
       "                        <td style=\"text-align: left;\">\n",
       "                            <strong>Total threads: </strong> 48\n",
       "                        </td>\n",
       "                    </tr>\n",
       "                    <tr>\n",
       "                        <td style=\"text-align: left;\">\n",
       "                            <strong>Dashboard: </strong> <a href=\"/proxy/33801/status\" target=\"_blank\">/proxy/33801/status</a>\n",
       "                        </td>\n",
       "                        <td style=\"text-align: left;\">\n",
       "                            <strong>Memory: </strong> 188.56 GiB\n",
       "                        </td>\n",
       "                    </tr>\n",
       "                    <tr>\n",
       "                        <td style=\"text-align: left;\">\n",
       "                            <strong>Nanny: </strong> tcp://10.6.22.43:44673\n",
       "                        </td>\n",
       "                        <td style=\"text-align: left;\"></td>\n",
       "                    </tr>\n",
       "                    <tr>\n",
       "                        <td colspan=\"2\" style=\"text-align: left;\">\n",
       "                            <strong>Local directory: </strong> /scratch/iq82/mp7041/dasktmp/dask-scratch-space/worker-efhnz2dp\n",
       "                        </td>\n",
       "                    </tr>\n",
       "\n",
       "                    \n",
       "\n",
       "                    \n",
       "                    <tr>\n",
       "                        <td style=\"text-align: left;\">\n",
       "                            <strong>Tasks executing: </strong> \n",
       "                        </td>\n",
       "                        <td style=\"text-align: left;\">\n",
       "                            <strong>Tasks in memory: </strong> \n",
       "                        </td>\n",
       "                    </tr>\n",
       "                    <tr>\n",
       "                        <td style=\"text-align: left;\">\n",
       "                            <strong>Tasks ready: </strong> \n",
       "                        </td>\n",
       "                        <td style=\"text-align: left;\">\n",
       "                            <strong>Tasks in flight: </strong>\n",
       "                        </td>\n",
       "                    </tr>\n",
       "                    <tr>\n",
       "                        <td style=\"text-align: left;\">\n",
       "                            <strong>CPU usage:</strong> 4.0%\n",
       "                        </td>\n",
       "                        <td style=\"text-align: left;\">\n",
       "                            <strong>Last seen: </strong> Just now\n",
       "                        </td>\n",
       "                    </tr>\n",
       "                    <tr>\n",
       "                        <td style=\"text-align: left;\">\n",
       "                            <strong>Memory usage: </strong> 1.45 GiB\n",
       "                        </td>\n",
       "                        <td style=\"text-align: left;\">\n",
       "                            <strong>Spilled bytes: </strong> 0 B\n",
       "                        </td>\n",
       "                    </tr>\n",
       "                    <tr>\n",
       "                        <td style=\"text-align: left;\">\n",
       "                            <strong>Read bytes: </strong> 58.58 kiB\n",
       "                        </td>\n",
       "                        <td style=\"text-align: left;\">\n",
       "                            <strong>Write bytes: </strong> 50.72 kiB\n",
       "                        </td>\n",
       "                    </tr>\n",
       "                    \n",
       "\n",
       "                </table>\n",
       "            </details>\n",
       "            </div>\n",
       "        </div>\n",
       "        \n",
       "\n",
       "    </details>\n",
       "</div>\n",
       "            </details>\n",
       "        \n",
       "\n",
       "    </div>\n",
       "</div>"
      ],
      "text/plain": [
       "<Client: 'tcp://10.6.22.43:8786' processes=1 threads=48, memory=188.56 GiB>"
      ]
     },
     "execution_count": 2,
     "metadata": {},
     "output_type": "execute_result"
    }
   ],
   "source": [
    "client = Client(\"tcp://10.6.22.43:8786\") \n",
    "client"
   ]
  },
  {
   "cell_type": "code",
   "execution_count": 3,
   "id": "16a440fd",
   "metadata": {},
   "outputs": [],
   "source": [
    "expt = '1deg_jra55_ryf9091_gadi'"
   ]
  },
  {
   "cell_type": "markdown",
   "id": "5abd7c85",
   "metadata": {},
   "source": [
    "Now, we load an entire temperature dataset, along with the corresponding WOA13 temperature dataset to compute the temperature anomaly."
   ]
  },
  {
   "cell_type": "code",
   "execution_count": 4,
   "id": "4a5ea901",
   "metadata": {},
   "outputs": [
    {
     "name": "stderr",
     "output_type": "stream",
     "text": [
      "/g/data/hh5/public/apps/miniconda3/envs/analysis3-23.07/lib/python3.10/site-packages/intake_esm/cat.py:270: FutureWarning: DataFrame.applymap has been deprecated. Use DataFrame.map instead.\n",
      "  .applymap(type)\n",
      "/g/data/hh5/public/apps/miniconda3/envs/analysis3-23.07/lib/python3.10/site-packages/intake_esm/cat.py:270: FutureWarning: DataFrame.applymap has been deprecated. Use DataFrame.map instead.\n",
      "  .applymap(type)\n",
      "/g/data/hh5/public/apps/miniconda3/envs/analysis3-23.07/lib/python3.10/site-packages/intake_esm/cat.py:270: FutureWarning: DataFrame.applymap has been deprecated. Use DataFrame.map instead.\n",
      "  .applymap(type)\n"
     ]
    },
    {
     "ename": "KeyError",
     "evalue": "\"key='woa13/10' not found in catalog. You can access the list of valid source keys via the .keys() method.\"",
     "output_type": "error",
     "traceback": [
      "\u001b[0;31m---------------------------------------------------------------------------\u001b[0m",
      "\u001b[0;31mKeyError\u001b[0m                                  Traceback (most recent call last)",
      "File \u001b[0;32m/g/data/hh5/public/apps/miniconda3/envs/analysis3-23.07/lib/python3.10/site-packages/intake_dataframe_catalog/core.py:155\u001b[0m, in \u001b[0;36mDfFileCatalog.__getitem__\u001b[0;34m(self, key)\u001b[0m\n\u001b[1;32m    154\u001b[0m \u001b[38;5;28;01mtry\u001b[39;00m:\n\u001b[0;32m--> 155\u001b[0m     \u001b[38;5;28;01mreturn\u001b[39;00m \u001b[38;5;28;43mself\u001b[39;49m\u001b[38;5;241;43m.\u001b[39;49m\u001b[43m_entries\u001b[49m\u001b[43m[\u001b[49m\u001b[43mkey\u001b[49m\u001b[43m]\u001b[49m\n\u001b[1;32m    156\u001b[0m \u001b[38;5;28;01mexcept\u001b[39;00m \u001b[38;5;167;01mKeyError\u001b[39;00m \u001b[38;5;28;01mas\u001b[39;00m e:\n",
      "\u001b[0;31mKeyError\u001b[0m: 'woa13/10'",
      "\nThe above exception was the direct cause of the following exception:\n",
      "\u001b[0;31mKeyError\u001b[0m                                  Traceback (most recent call last)",
      "Cell \u001b[0;32mIn[4], line 6\u001b[0m\n\u001b[1;32m      4\u001b[0m darray \u001b[38;5;241m=\u001b[39m darray[\u001b[38;5;124m'\u001b[39m\u001b[38;5;124mtemp\u001b[39m\u001b[38;5;124m'\u001b[39m]\n\u001b[1;32m      5\u001b[0m temp \u001b[38;5;241m=\u001b[39m darray\n\u001b[0;32m----> 6\u001b[0m cat_subset \u001b[38;5;241m=\u001b[39m \u001b[43mcatalog\u001b[49m\u001b[43m[\u001b[49m\u001b[38;5;124;43m'\u001b[39;49m\u001b[38;5;124;43mwoa13/10\u001b[39;49m\u001b[38;5;124;43m'\u001b[39;49m\u001b[43m]\u001b[49m\n\u001b[1;32m      7\u001b[0m var_search \u001b[38;5;241m=\u001b[39m cat_subset\u001b[38;5;241m.\u001b[39msearch(variable\u001b[38;5;241m=\u001b[39m\u001b[38;5;124m'\u001b[39m\u001b[38;5;124mtemp\u001b[39m\u001b[38;5;124m'\u001b[39m,frequency\u001b[38;5;241m=\u001b[39m\u001b[38;5;124m'\u001b[39m\u001b[38;5;124m1mon\u001b[39m\u001b[38;5;124m'\u001b[39m)\n\u001b[1;32m      8\u001b[0m darray \u001b[38;5;241m=\u001b[39m var_search\u001b[38;5;241m.\u001b[39mto_dask()\n",
      "File \u001b[0;32m/g/data/hh5/public/apps/miniconda3/envs/analysis3-23.07/lib/python3.10/site-packages/intake_dataframe_catalog/core.py:171\u001b[0m, in \u001b[0;36mDfFileCatalog.__getitem__\u001b[0;34m(self, key)\u001b[0m\n\u001b[1;32m    167\u001b[0m     \u001b[38;5;28mself\u001b[39m\u001b[38;5;241m.\u001b[39m_entries[key] \u001b[38;5;241m=\u001b[39m LocalCatalogEntry(\n\u001b[1;32m    168\u001b[0m         name\u001b[38;5;241m=\u001b[39mkey, \u001b[38;5;241m*\u001b[39m\u001b[38;5;241m*\u001b[39myaml\u001b[38;5;241m.\u001b[39msafe_load(yaml_text)[\u001b[38;5;124m\"\u001b[39m\u001b[38;5;124msources\u001b[39m\u001b[38;5;124m\"\u001b[39m][key]\n\u001b[1;32m    169\u001b[0m     )\u001b[38;5;241m.\u001b[39mget()\n\u001b[1;32m    170\u001b[0m     \u001b[38;5;28;01mreturn\u001b[39;00m \u001b[38;5;28mself\u001b[39m\u001b[38;5;241m.\u001b[39m_entries[key]\n\u001b[0;32m--> 171\u001b[0m \u001b[38;5;28;01mraise\u001b[39;00m \u001b[38;5;167;01mKeyError\u001b[39;00m(\n\u001b[1;32m    172\u001b[0m     \u001b[38;5;124mf\u001b[39m\u001b[38;5;124m\"\u001b[39m\u001b[38;5;124mkey=\u001b[39m\u001b[38;5;124m'\u001b[39m\u001b[38;5;132;01m{\u001b[39;00mkey\u001b[38;5;132;01m}\u001b[39;00m\u001b[38;5;124m'\u001b[39m\u001b[38;5;124m not found in catalog. You can access the list of valid source keys via the .keys() method.\u001b[39m\u001b[38;5;124m\"\u001b[39m\n\u001b[1;32m    173\u001b[0m ) \u001b[38;5;28;01mfrom\u001b[39;00m \u001b[38;5;21;01me\u001b[39;00m\n",
      "\u001b[0;31mKeyError\u001b[0m: \"key='woa13/10' not found in catalog. You can access the list of valid source keys via the .keys() method.\""
     ]
    }
   ],
   "source": [
    "cat_subset = catalog[expt]\n",
    "var_search = cat_subset.search(variable='temp',frequency='1mon')\n",
    "darray = var_search.to_dask()\n",
    "darray = darray['temp']\n",
    "temp = darray\n",
    "cat_subset = catalog['woa13/10']\n",
    "var_search = cat_subset.search(variable='temp',frequency='1mon')\n",
    "darray = var_search.to_dask()\n",
    "darray = darray['temp']\n",
    "temp_WOA13 = darray.mean('time').compute()\n",
    "#temp_WOA13 = cc.get_nc_variable('woa13/025', 'woa13_ts_??_mom025.nc', 'temp').mean('time').compute()\n",
    "temp_anom = temp - temp_WOA13.values - 273.15\n",
    "IPython.display.clear_output()"
   ]
  },
  {
   "cell_type": "markdown",
   "id": "d76f8ce5",
   "metadata": {},
   "source": [
    "Next, we load cell area (denoted $a(x,y,z)$) from the ocean_grid file, construct a mask from the temperature file and make a profile of the total ocean area as a function of depth, $A$, namely\n",
    "$$ A(z) = \\sum_x \\sum_y a(x,y,z)$$\n",
    "*Note that this mask ignores the presence of partial cells, for now*."
   ]
  },
  {
   "cell_type": "code",
   "execution_count": null,
   "id": "f9818253",
   "metadata": {},
   "outputs": [],
   "source": [
    "cat_subset = catalog[expt]\n",
    "var_search = cat_subset.search(variable='area_t')\n",
    "var_search = var_search.search(path=var_search.df['path'][0])\n",
    "darray = var_search.to_dask()\n",
    "darray = darray['area_t']\n",
    "area_t = darray.mean('time')\n",
    "mask = temp.isel(time=0).copy()\n",
    "mask = mask/mask                 ## This seems pretty dodgy to me, but it works!!\n",
    "area = mask*area_t\n",
    "area_sum = area.sum('xt_ocean').sum('yt_ocean')\n",
    "IPython.display.clear_output()"
   ]
  },
  {
   "cell_type": "markdown",
   "id": "100112da",
   "metadata": {},
   "source": [
    "Now, the mean temperature at each time level can then be computed as \n",
    "$$T(z,t) = \\frac{\\sum_x \\sum_y a(x,y,z) \\theta(x,y,z,t)}{A(z)}$$\n",
    "where $T$ is the average temperature and $\\theta$ the potential temperature."
   ]
  },
  {
   "cell_type": "code",
   "execution_count": null,
   "id": "028a31f5",
   "metadata": {},
   "outputs": [],
   "source": [
    "var =area_t*temp_anom\n",
    "temp_hov = var.sum('xt_ocean').sum('yt_ocean').compute()\n",
    "temp_hov = temp_hov/area_sum"
   ]
  },
  {
   "cell_type": "markdown",
   "id": "574e969f",
   "metadata": {},
   "source": [
    "We can use xarray for a quick and dirty plot of this data:"
   ]
  },
  {
   "cell_type": "code",
   "execution_count": null,
   "id": "b0f3a00a",
   "metadata": {},
   "outputs": [],
   "source": [
    "temp_hov.T.plot.contourf(levels=25,yincrease=False)"
   ]
  },
  {
   "cell_type": "markdown",
   "id": "d6336003",
   "metadata": {},
   "source": [
    "Alternatively, we could put a little more effort into plotting, including expansion of the upper 1000m:"
   ]
  },
  {
   "cell_type": "code",
   "execution_count": null,
   "id": "d69a1d5d",
   "metadata": {},
   "outputs": [],
   "source": [
    "t_up = temp_hov.sel(st_ocean=slice(0,1000))\n",
    "levs = np.arange(-1,1,0.1)\n",
    "fig,ax = plt.subplots(2,1,sharex=True,figsize=(6,6))\n",
    "plt.subplots_adjust(hspace=0,right=0.85)\n",
    "\n",
    "t_up.T.plot.contourf(ax=ax[0],levels=levs,cmap = cm.cm.balance,yincrease=False,add_colorbar=False)\n",
    "ax[0].set_ylabel('')\n",
    "\n",
    "t_lo = temp_hov.sel(st_ocean=slice(1000,6000))\n",
    "p1=t_lo.T.plot.contourf(ax=ax[1],levels=levs,cmap = cm.cm.balance,yincrease=False,add_colorbar=False)\n",
    "plt.ylabel('Depth (m)')\n",
    "plt.xlabel('Time (yrs)')\n",
    "\n",
    "ax1 = plt.axes([0.88,0.3,0.02,0.4])\n",
    "cb = plt.colorbar(p1,cax=ax1,orientation='vertical')\n",
    "ax1.xaxis.set_label_position(\"top\")\n",
    "cb.ax.set_xlabel('°C')\n",
    "\n",
    "ax[0].set_title('Horizontally averaged evolution of potential temperature')\n"
   ]
  },
  {
   "cell_type": "code",
   "execution_count": null,
   "id": "80aa3621",
   "metadata": {},
   "outputs": [],
   "source": []
  }
 ],
 "metadata": {
  "kernelspec": {
   "display_name": "Python 3 (ipykernel)",
   "language": "python",
   "name": "python3"
  },
  "language_info": {
   "codemirror_mode": {
    "name": "ipython",
    "version": 3
   },
   "file_extension": ".py",
   "mimetype": "text/x-python",
   "name": "python",
   "nbconvert_exporter": "python",
   "pygments_lexer": "ipython3",
   "version": "3.10.13"
  }
 },
 "nbformat": 4,
 "nbformat_minor": 5
}
