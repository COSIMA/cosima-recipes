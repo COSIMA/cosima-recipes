{
 "cells": [
  {
   "cell_type": "markdown",
   "id": "389cc0a0",
   "metadata": {},
   "source": [
    "# Model Agnostic Analysis"
   ]
  },
  {
   "cell_type": "markdown",
   "id": "10d7e1b9",
   "metadata": {},
   "source": [
    "## Introduction\n",
    "\n",
    "In this tutorial model agnostic analysis means writing your notebook so that it can easily be used with any CF compliant data source.\n",
    "\n",
    "### What are the CF Conventions?\n",
    "\n",
    "From [CF Metadata conventions](https://cfconventions.org):\n",
    "\n",
    "> The CF metadata conventions are designed to promote the processing and sharing of files created with the NetCDF API. The conventions define metadata that provide a definitive description of what the data in each variable represents, and the spatial and temporal properties of the data. This enables users of data from different sources to decide which quantities are comparable, and facilitates building applications with powerful extraction, regridding, and display capabilities. The CF convention includes a standard name table, which defines strings that identify physical quantities.\n",
    "\n",
    "In most cases the model output data accessed through the COSIMA Cookbook complies with some version of the CF conventions, enough to be usable for model agnostic analysis.\n",
    "\n",
    "### Why bother?\n",
    "\n",
    "Model agnostic means the same code can work for multiple models. This makes your code more usable by **you** and by others. You no longer need to have different versions of code for different models. It makes you and any one who uses your code more productive. It allows for common tasks to be abstracted into general methods that can be more easily reused, meaning less code needs to be written and maintained. This is an enormous productivity boost.\n",
    "\n",
    "### How is model agnostic analysis achieved?\n",
    "\n",
    "This can be achieved by using packages that enable this:\n",
    "- [cf_xarray](https://cf-xarray.readthedocs.io/en/latest/index.html) for generalised coordinate naming\n",
    "- [xgcm](https://xgcm.readthedocs.io) to make grid operations generic across data\n",
    "- [pint](https://pint.readthedocs.io/) and [pint-xarray](https://pint-xarray.readthedocs.io/) for handling units easily and robustly"
   ]
  },
  {
   "cell_type": "markdown",
   "id": "c2773cd4",
   "metadata": {},
   "source": [
    "## Example"
   ]
  },
  {
   "cell_type": "markdown",
   "id": "574324c3",
   "metadata": {},
   "source": [
    "### Introduction"
   ]
  },
  {
   "cell_type": "markdown",
   "id": "0839d2d1",
   "metadata": {},
   "source": [
    "This example uses an example analysis, shows how the this might be done in a traditional, model specific, manner, and then implements the same analysis in a model agnostic way.\n",
    "\n",
    "First step is to import necessary libaries."
   ]
  },
  {
   "cell_type": "code",
   "execution_count": 1,
   "id": "f80b0190",
   "metadata": {},
   "outputs": [],
   "source": [
    "%matplotlib inline\n",
    "\n",
    "import pandas as pd\n",
    "import intake\n",
    "catalog = intake.cat.access_nri\n",
    "import matplotlib.pyplot as plt\n",
    "import xarray as xr\n",
    "import numpy as np\n",
    "import cf_xarray as cfxr\n",
    "import pint_xarray\n",
    "from pint import application_registry as ureg\n",
    "import cf_xarray.units\n",
    "import cmocean as cm\n",
    "import cartopy.crs as ccrs\n",
    "import cartopy.feature as cft"
   ]
  },
  {
   "cell_type": "code",
   "execution_count": 2,
   "id": "10f4ff36-56c3-4f1c-924e-f081e55e5ba3",
   "metadata": {},
   "outputs": [
    {
     "name": "stderr",
     "output_type": "stream",
     "text": [
      "/g/data/hh5/public/apps/miniconda3/envs/analysis3-23.04/lib/python3.9/site-packages/distributed/client.py:1401: VersionMismatchWarning: Mismatched versions found\n",
      "\n",
      "+-------------+----------------+-----------------+-----------------+\n",
      "| Package     | Client         | Scheduler       | Workers         |\n",
      "+-------------+----------------+-----------------+-----------------+\n",
      "| dask        | 2023.8.0       | 2023.10.0       | 2023.10.0       |\n",
      "| distributed | 2023.8.0       | 2023.10.0       | 2023.10.0       |\n",
      "| pandas      | 2.0.3          | 2.1.1           | 2.1.1           |\n",
      "| python      | 3.9.17.final.0 | 3.10.13.final.0 | 3.10.13.final.0 |\n",
      "| tornado     | 6.3.2          | 6.3.3           | 6.3.3           |\n",
      "+-------------+----------------+-----------------+-----------------+\n",
      "  warnings.warn(version_module.VersionMismatchWarning(msg[0][\"warning\"]))\n"
     ]
    },
    {
     "data": {
      "text/html": [
       "<div>\n",
       "    <div style=\"width: 24px; height: 24px; background-color: #e1e1e1; border: 3px solid #9D9D9D; border-radius: 5px; position: absolute;\"> </div>\n",
       "    <div style=\"margin-left: 48px;\">\n",
       "        <h3 style=\"margin-bottom: 0px;\">Client</h3>\n",
       "        <p style=\"color: #9D9D9D; margin-bottom: 0px;\">Client-ff2271ff-8825-11ee-9081-00000083fe80</p>\n",
       "        <table style=\"width: 100%; text-align: left;\">\n",
       "\n",
       "        <tr>\n",
       "        \n",
       "            <td style=\"text-align: left;\"><strong>Connection method:</strong> Direct</td>\n",
       "            <td style=\"text-align: left;\"></td>\n",
       "        \n",
       "        </tr>\n",
       "\n",
       "        \n",
       "            <tr>\n",
       "                <td style=\"text-align: left;\">\n",
       "                    <strong>Dashboard: </strong> <a href=\"/proxy/8787/status\" target=\"_blank\">/proxy/8787/status</a>\n",
       "                </td>\n",
       "                <td style=\"text-align: left;\"></td>\n",
       "            </tr>\n",
       "        \n",
       "\n",
       "        </table>\n",
       "\n",
       "        \n",
       "            <button style=\"margin-bottom: 12px;\" data-commandlinker-command=\"dask:populate-and-launch-layout\" data-commandlinker-args='{\"url\": \"/proxy/8787/status\" }'>\n",
       "                Launch dashboard in JupyterLab\n",
       "            </button>\n",
       "        \n",
       "\n",
       "        \n",
       "            <details>\n",
       "            <summary style=\"margin-bottom: 20px;\"><h3 style=\"display: inline;\">Scheduler Info</h3></summary>\n",
       "            <div style=\"\">\n",
       "    <div>\n",
       "        <div style=\"width: 24px; height: 24px; background-color: #FFF7E5; border: 3px solid #FF6132; border-radius: 5px; position: absolute;\"> </div>\n",
       "        <div style=\"margin-left: 48px;\">\n",
       "            <h3 style=\"margin-bottom: 0px;\">Scheduler</h3>\n",
       "            <p style=\"color: #9D9D9D; margin-bottom: 0px;\">Scheduler-0ffa1883-8473-4435-a658-d1048fcc27e4</p>\n",
       "            <table style=\"width: 100%; text-align: left;\">\n",
       "                <tr>\n",
       "                    <td style=\"text-align: left;\">\n",
       "                        <strong>Comm:</strong> tcp://10.6.77.34:8786\n",
       "                    </td>\n",
       "                    <td style=\"text-align: left;\">\n",
       "                        <strong>Workers:</strong> 1\n",
       "                    </td>\n",
       "                </tr>\n",
       "                <tr>\n",
       "                    <td style=\"text-align: left;\">\n",
       "                        <strong>Dashboard:</strong> <a href=\"/proxy/8787/status\" target=\"_blank\">/proxy/8787/status</a>\n",
       "                    </td>\n",
       "                    <td style=\"text-align: left;\">\n",
       "                        <strong>Total threads:</strong> 12\n",
       "                    </td>\n",
       "                </tr>\n",
       "                <tr>\n",
       "                    <td style=\"text-align: left;\">\n",
       "                        <strong>Started:</strong> 4 hours ago\n",
       "                    </td>\n",
       "                    <td style=\"text-align: left;\">\n",
       "                        <strong>Total memory:</strong> 46.00 GiB\n",
       "                    </td>\n",
       "                </tr>\n",
       "            </table>\n",
       "        </div>\n",
       "    </div>\n",
       "\n",
       "    <details style=\"margin-left: 48px;\">\n",
       "        <summary style=\"margin-bottom: 20px;\">\n",
       "            <h3 style=\"display: inline;\">Workers</h3>\n",
       "        </summary>\n",
       "\n",
       "        \n",
       "        <div style=\"margin-bottom: 20px;\">\n",
       "            <div style=\"width: 24px; height: 24px; background-color: #DBF5FF; border: 3px solid #4CC9FF; border-radius: 5px; position: absolute;\"> </div>\n",
       "            <div style=\"margin-left: 48px;\">\n",
       "            <details>\n",
       "                <summary>\n",
       "                    <h4 style=\"margin-bottom: 0px; display: inline;\">Worker: tcp://10.6.77.34:46695</h4>\n",
       "                </summary>\n",
       "                <table style=\"width: 100%; text-align: left;\">\n",
       "                    <tr>\n",
       "                        <td style=\"text-align: left;\">\n",
       "                            <strong>Comm: </strong> tcp://10.6.77.34:46695\n",
       "                        </td>\n",
       "                        <td style=\"text-align: left;\">\n",
       "                            <strong>Total threads: </strong> 12\n",
       "                        </td>\n",
       "                    </tr>\n",
       "                    <tr>\n",
       "                        <td style=\"text-align: left;\">\n",
       "                            <strong>Dashboard: </strong> <a href=\"/proxy/42291/status\" target=\"_blank\">/proxy/42291/status</a>\n",
       "                        </td>\n",
       "                        <td style=\"text-align: left;\">\n",
       "                            <strong>Memory: </strong> 46.00 GiB\n",
       "                        </td>\n",
       "                    </tr>\n",
       "                    <tr>\n",
       "                        <td style=\"text-align: left;\">\n",
       "                            <strong>Nanny: </strong> tcp://10.6.77.34:36197\n",
       "                        </td>\n",
       "                        <td style=\"text-align: left;\"></td>\n",
       "                    </tr>\n",
       "                    <tr>\n",
       "                        <td colspan=\"2\" style=\"text-align: left;\">\n",
       "                            <strong>Local directory: </strong> /scratch/iq82/mp7041/dasktmp/dask-scratch-space/worker-yk50t068\n",
       "                        </td>\n",
       "                    </tr>\n",
       "\n",
       "                    \n",
       "\n",
       "                    \n",
       "                    <tr>\n",
       "                        <td style=\"text-align: left;\">\n",
       "                            <strong>Tasks executing: </strong> \n",
       "                        </td>\n",
       "                        <td style=\"text-align: left;\">\n",
       "                            <strong>Tasks in memory: </strong> \n",
       "                        </td>\n",
       "                    </tr>\n",
       "                    <tr>\n",
       "                        <td style=\"text-align: left;\">\n",
       "                            <strong>Tasks ready: </strong> \n",
       "                        </td>\n",
       "                        <td style=\"text-align: left;\">\n",
       "                            <strong>Tasks in flight: </strong>\n",
       "                        </td>\n",
       "                    </tr>\n",
       "                    <tr>\n",
       "                        <td style=\"text-align: left;\">\n",
       "                            <strong>CPU usage:</strong> 2.0%\n",
       "                        </td>\n",
       "                        <td style=\"text-align: left;\">\n",
       "                            <strong>Last seen: </strong> Just now\n",
       "                        </td>\n",
       "                    </tr>\n",
       "                    <tr>\n",
       "                        <td style=\"text-align: left;\">\n",
       "                            <strong>Memory usage: </strong> 3.88 GiB\n",
       "                        </td>\n",
       "                        <td style=\"text-align: left;\">\n",
       "                            <strong>Spilled bytes: </strong> 0 B\n",
       "                        </td>\n",
       "                    </tr>\n",
       "                    <tr>\n",
       "                        <td style=\"text-align: left;\">\n",
       "                            <strong>Read bytes: </strong> 5.45 kiB\n",
       "                        </td>\n",
       "                        <td style=\"text-align: left;\">\n",
       "                            <strong>Write bytes: </strong> 5.63 kiB\n",
       "                        </td>\n",
       "                    </tr>\n",
       "                    \n",
       "\n",
       "                </table>\n",
       "            </details>\n",
       "            </div>\n",
       "        </div>\n",
       "        \n",
       "\n",
       "    </details>\n",
       "</div>\n",
       "            </details>\n",
       "        \n",
       "\n",
       "    </div>\n",
       "</div>"
      ],
      "text/plain": [
       "<Client: 'tcp://10.6.77.34:8786' processes=1 threads=12, memory=46.00 GiB>"
      ]
     },
     "execution_count": 2,
     "metadata": {},
     "output_type": "execute_result"
    }
   ],
   "source": [
    "from dask.distributed import Client\n",
    "client = Client(\"tcp://10.6.77.34:8786\")\n",
    "client"
   ]
  },
  {
   "cell_type": "markdown",
   "id": "2ddd1407",
   "metadata": {},
   "source": [
    "cf_xarray works best when xarray keeps attributes by default."
   ]
  },
  {
   "cell_type": "code",
   "execution_count": 3,
   "id": "8a97e6ff",
   "metadata": {},
   "outputs": [],
   "source": [
    "xr.set_options(keep_attrs=True);"
   ]
  },
  {
   "cell_type": "markdown",
   "id": "0ab89e5d",
   "metadata": {},
   "source": [
    "Now load surface temperature data from a 0.25$^\\circ$ global MOM5 model"
   ]
  },
  {
   "cell_type": "code",
   "execution_count": 5,
   "id": "b9d448cf-de77-42f3-aa15-3280d1c3c4a8",
   "metadata": {},
   "outputs": [
    {
     "data": {
      "text/plain": [
       "['ANGLE',\n",
       " 'ANGLET',\n",
       " 'HTE',\n",
       " 'HTN',\n",
       " 'NCAT',\n",
       " 'TLAT',\n",
       " 'TLON',\n",
       " 'Tair_m',\n",
       " 'Tsfc_m',\n",
       " 'ULAT',\n",
       " 'ULON',\n",
       " 'age_global',\n",
       " 'agm',\n",
       " 'aice',\n",
       " 'aice_m',\n",
       " 'aicen_m',\n",
       " 'aiso_bih',\n",
       " 'albice_m',\n",
       " 'albsni_m',\n",
       " 'albsno_m',\n",
       " 'alidf_ai_m',\n",
       " 'alidr_ai_m',\n",
       " 'alvdf_ai_m',\n",
       " 'alvdr_ai_m',\n",
       " 'area_t',\n",
       " 'area_u',\n",
       " 'aredi',\n",
       " 'average_DT',\n",
       " 'average_T1',\n",
       " 'average_T2',\n",
       " 'bih_fric_u',\n",
       " 'bih_fric_v',\n",
       " 'blkmask',\n",
       " 'bmf_u',\n",
       " 'bmf_v',\n",
       " 'bottom_salt',\n",
       " 'bottom_temp',\n",
       " 'bottom_temp_max',\n",
       " 'buoyfreq2_wt',\n",
       " 'bv_freq',\n",
       " 'congel',\n",
       " 'congel_m',\n",
       " 'daidtd',\n",
       " 'daidtd_m',\n",
       " 'daidtt',\n",
       " 'daidtt_m',\n",
       " 'dht',\n",
       " 'diff_cbt_s',\n",
       " 'diff_cbt_t',\n",
       " 'divu_m',\n",
       " 'drag_coeff',\n",
       " 'dvidtd',\n",
       " 'dvidtd_m',\n",
       " 'dvidtt',\n",
       " 'dvidtt_m',\n",
       " 'dvirdgdt_m',\n",
       " 'dxt',\n",
       " 'dxu',\n",
       " 'dyt',\n",
       " 'dyu',\n",
       " 'ekman_we',\n",
       " 'eta_adjust',\n",
       " 'eta_global',\n",
       " 'eta_nonbouss',\n",
       " 'eta_t',\n",
       " 'evap',\n",
       " 'evap_ai_m',\n",
       " 'evap_heat',\n",
       " 'fcondtop_ai',\n",
       " 'fcondtop_ai_m',\n",
       " 'fcondtopn_ai_m',\n",
       " 'fhocn_ai_m',\n",
       " 'flat_ai_m',\n",
       " 'flatn_ai_m',\n",
       " 'flwdn_m',\n",
       " 'flwup_ai_m',\n",
       " 'fmeltt_ai_m',\n",
       " 'fmelttn_ai_m',\n",
       " 'fprec',\n",
       " 'fprec_melt_heat',\n",
       " 'frazil',\n",
       " 'frazil_3d',\n",
       " 'frazil_3d_int_z',\n",
       " 'frazil_m',\n",
       " 'fresh_ai_m',\n",
       " 'fresh_m',\n",
       " 'frzmlt',\n",
       " 'frzmlt_m',\n",
       " 'fsalt_ai_m',\n",
       " 'fsalt_m',\n",
       " 'fsens_ai_m',\n",
       " 'fsurf_ai',\n",
       " 'fsurf_ai_m',\n",
       " 'fsurfn_ai_m',\n",
       " 'fswabs_ai_m',\n",
       " 'fswdn_m',\n",
       " 'fswfac_m',\n",
       " 'fswthru_ai_m',\n",
       " 'fswup_m',\n",
       " 'geolat_c',\n",
       " 'geolat_t',\n",
       " 'geolon_c',\n",
       " 'geolon_t',\n",
       " 'gm_eddy_ke_source',\n",
       " 'hblt_max',\n",
       " 'hi',\n",
       " 'hi_m',\n",
       " 'horz_bih_diss',\n",
       " 'hs',\n",
       " 'hs_m',\n",
       " 'ht',\n",
       " 'hu',\n",
       " 'ice_present_m',\n",
       " 'ke_tot',\n",
       " 'kmt',\n",
       " 'kmu',\n",
       " 'liceht',\n",
       " 'lprec',\n",
       " 'lw_heat',\n",
       " 'melt',\n",
       " 'meltb',\n",
       " 'meltb_m',\n",
       " 'meltl_m',\n",
       " 'melts',\n",
       " 'melts_m',\n",
       " 'meltt',\n",
       " 'meltt_m',\n",
       " 'mh_flux',\n",
       " 'mld',\n",
       " 'mld_max',\n",
       " 'mld_min',\n",
       " 'mld_sq',\n",
       " 'net_sfc_heating',\n",
       " 'neutral_diffusion_salt',\n",
       " 'neutral_diffusion_temp',\n",
       " 'neutral_gm_salt',\n",
       " 'neutral_gm_temp',\n",
       " 'opening_m',\n",
       " 'patm_t',\n",
       " 'pbot_adjust',\n",
       " 'pbot_t',\n",
       " 'pe_tot',\n",
       " 'pme_net',\n",
       " 'pme_river',\n",
       " 'pot_rho_0',\n",
       " 'pot_rho_2',\n",
       " 'pot_temp',\n",
       " 'psiu',\n",
       " 'psiv',\n",
       " 'rain_ai_m',\n",
       " 'rho',\n",
       " 'rho_dzt',\n",
       " 'rhoave',\n",
       " 'runoff',\n",
       " 'salt',\n",
       " 'salt_advection',\n",
       " 'salt_eta_smooth',\n",
       " 'salt_global_ave',\n",
       " 'salt_int_rhodz',\n",
       " 'salt_nonlocal_KPP',\n",
       " 'salt_rhodzt',\n",
       " 'salt_rivermix',\n",
       " 'salt_submeso',\n",
       " 'salt_surface_ave',\n",
       " 'salt_tendency',\n",
       " 'salt_vdiffuse_diff_cbt',\n",
       " 'salt_vdiffuse_diff_cbt_conv',\n",
       " 'salt_vdiffuse_k33',\n",
       " 'salt_vdiffuse_sbc',\n",
       " 'sea_level',\n",
       " 'sea_level_max',\n",
       " 'sea_level_sq',\n",
       " 'sens_heat',\n",
       " 'sfc_hflux_coupler',\n",
       " 'sfc_hflux_from_runoff',\n",
       " 'sfc_hflux_from_water_evap',\n",
       " 'sfc_hflux_from_water_prec',\n",
       " 'sfc_hflux_pme',\n",
       " 'sfc_salt_flux_coupler',\n",
       " 'sfc_salt_flux_ice',\n",
       " 'sfc_salt_flux_restore',\n",
       " 'sfc_salt_flux_runoff',\n",
       " 'shear_m',\n",
       " 'sice_m',\n",
       " 'snoice',\n",
       " 'snoice_m',\n",
       " 'snow_ai_m',\n",
       " 'sss',\n",
       " 'sss_sq',\n",
       " 'sst',\n",
       " 'sst_sq',\n",
       " 'strairx_m',\n",
       " 'strairy_m',\n",
       " 'strcorx_m',\n",
       " 'strcory_m',\n",
       " 'strength_m',\n",
       " 'strintx_m',\n",
       " 'strinty_m',\n",
       " 'strocnx_m',\n",
       " 'strocny_m',\n",
       " 'strtltx_m',\n",
       " 'strtlty_m',\n",
       " 'surface_pot_temp_max',\n",
       " 'surface_pot_temp_min',\n",
       " 'sw_heat',\n",
       " 'swflx',\n",
       " 'tarea',\n",
       " 'tau_x',\n",
       " 'tau_y',\n",
       " 'temp',\n",
       " 'temp_advection',\n",
       " 'temp_eta_smooth',\n",
       " 'temp_global_ave',\n",
       " 'temp_int_rhodz',\n",
       " 'temp_nonlocal_KPP',\n",
       " 'temp_rhodzt',\n",
       " 'temp_rivermix',\n",
       " 'temp_submeso',\n",
       " 'temp_surface_ave',\n",
       " 'temp_tendency',\n",
       " 'temp_vdiffuse_diff_cbt',\n",
       " 'temp_vdiffuse_diff_cbt_conv',\n",
       " 'temp_vdiffuse_k33',\n",
       " 'temp_vdiffuse_sbc',\n",
       " 'temp_xflux_adv',\n",
       " 'temp_xflux_adv_int_z',\n",
       " 'temp_xflux_gm_int_z',\n",
       " 'temp_xflux_ndiffuse_int_z',\n",
       " 'temp_xflux_submeso_int_z',\n",
       " 'temp_yflux_adv',\n",
       " 'temp_yflux_adv_int_z',\n",
       " 'temp_yflux_gm_int_z',\n",
       " 'temp_yflux_ndiffuse_int_z',\n",
       " 'temp_yflux_submeso_int_z',\n",
       " 'time_bounds',\n",
       " 'tmask',\n",
       " 'total_mass_seawater',\n",
       " 'total_net_sfc_heating',\n",
       " 'total_ocean_evap',\n",
       " 'total_ocean_evap_heat',\n",
       " 'total_ocean_fprec',\n",
       " 'total_ocean_fprec_melt_heat',\n",
       " 'total_ocean_heat',\n",
       " 'total_ocean_hflux_coupler',\n",
       " 'total_ocean_hflux_evap',\n",
       " 'total_ocean_hflux_prec',\n",
       " 'total_ocean_lprec',\n",
       " 'total_ocean_lw_heat',\n",
       " 'total_ocean_melt',\n",
       " 'total_ocean_mh_flux',\n",
       " 'total_ocean_pme_river',\n",
       " 'total_ocean_river',\n",
       " 'total_ocean_river_heat',\n",
       " 'total_ocean_runoff',\n",
       " 'total_ocean_runoff_heat',\n",
       " 'total_ocean_salt',\n",
       " 'total_ocean_sens_heat',\n",
       " 'total_ocean_sfc_salt_flux_coupler',\n",
       " 'total_ocean_swflx',\n",
       " 'total_ocean_swflx_vis',\n",
       " 'total_volume_seawater',\n",
       " 'trsig_m',\n",
       " 'tx_trans',\n",
       " 'tx_trans_gm',\n",
       " 'tx_trans_int_z',\n",
       " 'tx_trans_nrho_submeso',\n",
       " 'tx_trans_rho',\n",
       " 'tx_trans_rho_gm',\n",
       " 'tx_trans_submeso',\n",
       " 'ty_trans',\n",
       " 'ty_trans_gm',\n",
       " 'ty_trans_int_z',\n",
       " 'ty_trans_nrho_submeso',\n",
       " 'ty_trans_rho',\n",
       " 'ty_trans_rho_gm',\n",
       " 'ty_trans_submeso',\n",
       " 'tz_trans',\n",
       " 'u',\n",
       " 'u_dot_grad_vert_pv',\n",
       " 'uarea',\n",
       " 'uatm_m',\n",
       " 'usq',\n",
       " 'usurf',\n",
       " 'uvel',\n",
       " 'uvel_m',\n",
       " 'v',\n",
       " 'vatm_m',\n",
       " 'vert_pv',\n",
       " 'vicen_m',\n",
       " 'vsq',\n",
       " 'vsurf',\n",
       " 'vvel',\n",
       " 'vvel_m',\n",
       " 'wfiform',\n",
       " 'wfimelt',\n",
       " 'wt']"
      ]
     },
     "execution_count": 5,
     "metadata": {},
     "output_type": "execute_result"
    }
   ],
   "source": [
    "sorted(set().union(*cat_subset.df['variable']))"
   ]
  },
  {
   "cell_type": "code",
   "execution_count": 6,
   "id": "44448a2d",
   "metadata": {},
   "outputs": [
    {
     "ename": "ESMDataSourceError",
     "evalue": "Failed to load dataset with key='ocean_month.1mon'\n                 You can use `cat['ocean_month.1mon'].df` to inspect the assets/files for this key.\n                 ",
     "output_type": "error",
     "traceback": [
      "\u001b[0;31m---------------------------------------------------------------------------\u001b[0m",
      "\u001b[0;31mKilledWorker\u001b[0m                              Traceback (most recent call last)",
      "File \u001b[0;32m/g/data/hh5/public/apps/miniconda3/envs/analysis3-23.04/lib/python3.9/site-packages/intake_esm/source.py:244\u001b[0m, in \u001b[0;36mESMDataSource._open_dataset\u001b[0;34m(self)\u001b[0m\n\u001b[1;32m    223\u001b[0m datasets \u001b[38;5;241m=\u001b[39m [\n\u001b[1;32m    224\u001b[0m     _open_dataset(\n\u001b[1;32m    225\u001b[0m         record[\u001b[38;5;28mself\u001b[39m\u001b[38;5;241m.\u001b[39mpath_column_name],\n\u001b[0;32m   (...)\u001b[0m\n\u001b[1;32m    241\u001b[0m     \u001b[38;5;28;01mfor\u001b[39;00m _, record \u001b[38;5;129;01min\u001b[39;00m \u001b[38;5;28mself\u001b[39m\u001b[38;5;241m.\u001b[39mdf\u001b[38;5;241m.\u001b[39miterrows()\n\u001b[1;32m    242\u001b[0m ]\n\u001b[0;32m--> 244\u001b[0m datasets \u001b[38;5;241m=\u001b[39m \u001b[43mdask\u001b[49m\u001b[38;5;241;43m.\u001b[39;49m\u001b[43mcompute\u001b[49m\u001b[43m(\u001b[49m\u001b[38;5;241;43m*\u001b[39;49m\u001b[43mdatasets\u001b[49m\u001b[43m)\u001b[49m\n\u001b[1;32m    245\u001b[0m \u001b[38;5;28;01mif\u001b[39;00m \u001b[38;5;28mlen\u001b[39m(datasets) \u001b[38;5;241m==\u001b[39m \u001b[38;5;241m1\u001b[39m:\n",
      "File \u001b[0;32m/g/data/hh5/public/apps/miniconda3/envs/analysis3-23.04/lib/python3.9/site-packages/dask/base.py:666\u001b[0m, in \u001b[0;36mcompute\u001b[0;34m(traverse, optimize_graph, scheduler, get, *args, **kwargs)\u001b[0m\n\u001b[1;32m    664\u001b[0m     postcomputes\u001b[38;5;241m.\u001b[39mappend(x\u001b[38;5;241m.\u001b[39m__dask_postcompute__())\n\u001b[0;32m--> 666\u001b[0m results \u001b[38;5;241m=\u001b[39m \u001b[43mschedule\u001b[49m\u001b[43m(\u001b[49m\u001b[43mdsk\u001b[49m\u001b[43m,\u001b[49m\u001b[43m \u001b[49m\u001b[43mkeys\u001b[49m\u001b[43m,\u001b[49m\u001b[43m \u001b[49m\u001b[38;5;241;43m*\u001b[39;49m\u001b[38;5;241;43m*\u001b[39;49m\u001b[43mkwargs\u001b[49m\u001b[43m)\u001b[49m\n\u001b[1;32m    667\u001b[0m \u001b[38;5;28;01mreturn\u001b[39;00m repack([f(r, \u001b[38;5;241m*\u001b[39ma) \u001b[38;5;28;01mfor\u001b[39;00m r, (f, a) \u001b[38;5;129;01min\u001b[39;00m \u001b[38;5;28mzip\u001b[39m(results, postcomputes)])\n",
      "File \u001b[0;32m/g/data/hh5/public/apps/miniconda3/envs/analysis3-23.04/lib/python3.9/site-packages/distributed/client.py:3279\u001b[0m, in \u001b[0;36mClient.get\u001b[0;34m(self, dsk, keys, workers, allow_other_workers, resources, sync, asynchronous, direct, retries, priority, fifo_timeout, actors, **kwargs)\u001b[0m\n\u001b[1;32m   3278\u001b[0m \u001b[38;5;28;01mtry\u001b[39;00m:\n\u001b[0;32m-> 3279\u001b[0m     results \u001b[38;5;241m=\u001b[39m \u001b[38;5;28;43mself\u001b[39;49m\u001b[38;5;241;43m.\u001b[39;49m\u001b[43mgather\u001b[49m\u001b[43m(\u001b[49m\u001b[43mpacked\u001b[49m\u001b[43m,\u001b[49m\u001b[43m \u001b[49m\u001b[43masynchronous\u001b[49m\u001b[38;5;241;43m=\u001b[39;49m\u001b[43masynchronous\u001b[49m\u001b[43m,\u001b[49m\u001b[43m \u001b[49m\u001b[43mdirect\u001b[49m\u001b[38;5;241;43m=\u001b[39;49m\u001b[43mdirect\u001b[49m\u001b[43m)\u001b[49m\n\u001b[1;32m   3280\u001b[0m \u001b[38;5;28;01mfinally\u001b[39;00m:\n",
      "File \u001b[0;32m/g/data/hh5/public/apps/miniconda3/envs/analysis3-23.04/lib/python3.9/site-packages/distributed/client.py:2404\u001b[0m, in \u001b[0;36mClient.gather\u001b[0;34m(self, futures, errors, direct, asynchronous)\u001b[0m\n\u001b[1;32m   2403\u001b[0m     local_worker \u001b[38;5;241m=\u001b[39m \u001b[38;5;28;01mNone\u001b[39;00m\n\u001b[0;32m-> 2404\u001b[0m \u001b[38;5;28;01mreturn\u001b[39;00m \u001b[38;5;28;43mself\u001b[39;49m\u001b[38;5;241;43m.\u001b[39;49m\u001b[43msync\u001b[49m\u001b[43m(\u001b[49m\n\u001b[1;32m   2405\u001b[0m \u001b[43m    \u001b[49m\u001b[38;5;28;43mself\u001b[39;49m\u001b[38;5;241;43m.\u001b[39;49m\u001b[43m_gather\u001b[49m\u001b[43m,\u001b[49m\n\u001b[1;32m   2406\u001b[0m \u001b[43m    \u001b[49m\u001b[43mfutures\u001b[49m\u001b[43m,\u001b[49m\n\u001b[1;32m   2407\u001b[0m \u001b[43m    \u001b[49m\u001b[43merrors\u001b[49m\u001b[38;5;241;43m=\u001b[39;49m\u001b[43merrors\u001b[49m\u001b[43m,\u001b[49m\n\u001b[1;32m   2408\u001b[0m \u001b[43m    \u001b[49m\u001b[43mdirect\u001b[49m\u001b[38;5;241;43m=\u001b[39;49m\u001b[43mdirect\u001b[49m\u001b[43m,\u001b[49m\n\u001b[1;32m   2409\u001b[0m \u001b[43m    \u001b[49m\u001b[43mlocal_worker\u001b[49m\u001b[38;5;241;43m=\u001b[39;49m\u001b[43mlocal_worker\u001b[49m\u001b[43m,\u001b[49m\n\u001b[1;32m   2410\u001b[0m \u001b[43m    \u001b[49m\u001b[43masynchronous\u001b[49m\u001b[38;5;241;43m=\u001b[39;49m\u001b[43masynchronous\u001b[49m\u001b[43m,\u001b[49m\n\u001b[1;32m   2411\u001b[0m \u001b[43m\u001b[49m\u001b[43m)\u001b[49m\n",
      "File \u001b[0;32m/g/data/hh5/public/apps/miniconda3/envs/analysis3-23.04/lib/python3.9/site-packages/distributed/utils.py:359\u001b[0m, in \u001b[0;36mSyncMethodMixin.sync\u001b[0;34m(self, func, asynchronous, callback_timeout, *args, **kwargs)\u001b[0m\n\u001b[1;32m    358\u001b[0m \u001b[38;5;28;01melse\u001b[39;00m:\n\u001b[0;32m--> 359\u001b[0m     \u001b[38;5;28;01mreturn\u001b[39;00m \u001b[43msync\u001b[49m\u001b[43m(\u001b[49m\n\u001b[1;32m    360\u001b[0m \u001b[43m        \u001b[49m\u001b[38;5;28;43mself\u001b[39;49m\u001b[38;5;241;43m.\u001b[39;49m\u001b[43mloop\u001b[49m\u001b[43m,\u001b[49m\u001b[43m \u001b[49m\u001b[43mfunc\u001b[49m\u001b[43m,\u001b[49m\u001b[43m \u001b[49m\u001b[38;5;241;43m*\u001b[39;49m\u001b[43margs\u001b[49m\u001b[43m,\u001b[49m\u001b[43m \u001b[49m\u001b[43mcallback_timeout\u001b[49m\u001b[38;5;241;43m=\u001b[39;49m\u001b[43mcallback_timeout\u001b[49m\u001b[43m,\u001b[49m\u001b[43m \u001b[49m\u001b[38;5;241;43m*\u001b[39;49m\u001b[38;5;241;43m*\u001b[39;49m\u001b[43mkwargs\u001b[49m\n\u001b[1;32m    361\u001b[0m \u001b[43m    \u001b[49m\u001b[43m)\u001b[49m\n",
      "File \u001b[0;32m/g/data/hh5/public/apps/miniconda3/envs/analysis3-23.04/lib/python3.9/site-packages/distributed/utils.py:426\u001b[0m, in \u001b[0;36msync\u001b[0;34m(loop, func, callback_timeout, *args, **kwargs)\u001b[0m\n\u001b[1;32m    425\u001b[0m     typ, exc, tb \u001b[38;5;241m=\u001b[39m error\n\u001b[0;32m--> 426\u001b[0m     \u001b[38;5;28;01mraise\u001b[39;00m exc\u001b[38;5;241m.\u001b[39mwith_traceback(tb)\n\u001b[1;32m    427\u001b[0m \u001b[38;5;28;01melse\u001b[39;00m:\n",
      "File \u001b[0;32m/g/data/hh5/public/apps/miniconda3/envs/analysis3-23.04/lib/python3.9/site-packages/distributed/utils.py:399\u001b[0m, in \u001b[0;36msync.<locals>.f\u001b[0;34m()\u001b[0m\n\u001b[1;32m    398\u001b[0m     future \u001b[38;5;241m=\u001b[39m asyncio\u001b[38;5;241m.\u001b[39mensure_future(future)\n\u001b[0;32m--> 399\u001b[0m     result \u001b[38;5;241m=\u001b[39m \u001b[38;5;28;01myield\u001b[39;00m future\n\u001b[1;32m    400\u001b[0m \u001b[38;5;28;01mexcept\u001b[39;00m \u001b[38;5;167;01mException\u001b[39;00m:\n",
      "File \u001b[0;32m/g/data/hh5/public/apps/miniconda3/envs/analysis3-23.04/lib/python3.9/site-packages/tornado/gen.py:767\u001b[0m, in \u001b[0;36mRunner.run\u001b[0;34m(self)\u001b[0m\n\u001b[1;32m    766\u001b[0m \u001b[38;5;28;01mtry\u001b[39;00m:\n\u001b[0;32m--> 767\u001b[0m     value \u001b[38;5;241m=\u001b[39m \u001b[43mfuture\u001b[49m\u001b[38;5;241;43m.\u001b[39;49m\u001b[43mresult\u001b[49m\u001b[43m(\u001b[49m\u001b[43m)\u001b[49m\n\u001b[1;32m    768\u001b[0m \u001b[38;5;28;01mexcept\u001b[39;00m \u001b[38;5;167;01mException\u001b[39;00m \u001b[38;5;28;01mas\u001b[39;00m e:\n\u001b[1;32m    769\u001b[0m     \u001b[38;5;66;03m# Save the exception for later. It's important that\u001b[39;00m\n\u001b[1;32m    770\u001b[0m     \u001b[38;5;66;03m# gen.throw() not be called inside this try/except block\u001b[39;00m\n\u001b[1;32m    771\u001b[0m     \u001b[38;5;66;03m# because that makes sys.exc_info behave unexpectedly.\u001b[39;00m\n",
      "File \u001b[0;32m/g/data/hh5/public/apps/miniconda3/envs/analysis3-23.04/lib/python3.9/site-packages/distributed/client.py:2267\u001b[0m, in \u001b[0;36mClient._gather\u001b[0;34m(self, futures, errors, direct, local_worker)\u001b[0m\n\u001b[1;32m   2266\u001b[0m \u001b[38;5;28;01melse\u001b[39;00m:\n\u001b[0;32m-> 2267\u001b[0m     \u001b[38;5;28;01mraise\u001b[39;00m exception\u001b[38;5;241m.\u001b[39mwith_traceback(traceback)\n\u001b[1;32m   2268\u001b[0m \u001b[38;5;28;01mraise\u001b[39;00m exc\n",
      "\u001b[0;31mKilledWorker\u001b[0m: Attempted to run task _open_dataset-058b4c2d-5adf-428a-8c0d-7a68e20f03c8 on 3 different workers, but all those workers died while running it. The last worker that attempt to run the task was tcp://10.6.77.34:36183. Inspecting worker logs is often a good next step to diagnose what went wrong. For more information see https://distributed.dask.org/en/stable/killed.html.",
      "\nThe above exception was the direct cause of the following exception:\n",
      "\u001b[0;31mESMDataSourceError\u001b[0m                        Traceback (most recent call last)",
      "Cell \u001b[0;32mIn[6], line 5\u001b[0m\n\u001b[1;32m      3\u001b[0m cat_subset \u001b[38;5;241m=\u001b[39m catalog[experiment]\n\u001b[1;32m      4\u001b[0m var_search \u001b[38;5;241m=\u001b[39m cat_subset\u001b[38;5;241m.\u001b[39msearch(variable\u001b[38;5;241m=\u001b[39mvariable, frequency\u001b[38;5;241m=\u001b[39m\u001b[38;5;124m'\u001b[39m\u001b[38;5;124m1mon\u001b[39m\u001b[38;5;124m'\u001b[39m)\n\u001b[0;32m----> 5\u001b[0m darray \u001b[38;5;241m=\u001b[39m \u001b[43mvar_search\u001b[49m\u001b[38;5;241;43m.\u001b[39;49m\u001b[43mto_dask\u001b[49m\u001b[43m(\u001b[49m\u001b[43m)\u001b[49m\n\u001b[1;32m      6\u001b[0m darray \u001b[38;5;241m=\u001b[39m darray[variable]\n\u001b[1;32m      7\u001b[0m SST \u001b[38;5;241m=\u001b[39m darray\n",
      "File \u001b[0;32m/g/data/hh5/public/apps/miniconda3/envs/analysis3-23.04/lib/python3.9/site-packages/intake_esm/core.py:805\u001b[0m, in \u001b[0;36mesm_datastore.to_dask\u001b[0;34m(self, **kwargs)\u001b[0m\n\u001b[1;32m    801\u001b[0m \u001b[38;5;28;01mif\u001b[39;00m \u001b[38;5;28mlen\u001b[39m(\u001b[38;5;28mself\u001b[39m) \u001b[38;5;241m!=\u001b[39m \u001b[38;5;241m1\u001b[39m:  \u001b[38;5;66;03m# quick check to fail more quickly if there are many results\u001b[39;00m\n\u001b[1;32m    802\u001b[0m     \u001b[38;5;28;01mraise\u001b[39;00m \u001b[38;5;167;01mValueError\u001b[39;00m(\n\u001b[1;32m    803\u001b[0m         \u001b[38;5;124mf\u001b[39m\u001b[38;5;124m'\u001b[39m\u001b[38;5;124mExpected exactly one dataset. Received \u001b[39m\u001b[38;5;132;01m{\u001b[39;00m\u001b[38;5;28mlen\u001b[39m(\u001b[38;5;28mself\u001b[39m)\u001b[38;5;132;01m}\u001b[39;00m\u001b[38;5;124m datasets. Please refine your search or use `.to_dataset_dict()`.\u001b[39m\u001b[38;5;124m'\u001b[39m\n\u001b[1;32m    804\u001b[0m     )\n\u001b[0;32m--> 805\u001b[0m res \u001b[38;5;241m=\u001b[39m \u001b[38;5;28;43mself\u001b[39;49m\u001b[38;5;241;43m.\u001b[39;49m\u001b[43mto_dataset_dict\u001b[49m\u001b[43m(\u001b[49m\u001b[38;5;241;43m*\u001b[39;49m\u001b[38;5;241;43m*\u001b[39;49m\u001b[43m{\u001b[49m\u001b[38;5;241;43m*\u001b[39;49m\u001b[38;5;241;43m*\u001b[39;49m\u001b[43mkwargs\u001b[49m\u001b[43m,\u001b[49m\u001b[43m \u001b[49m\u001b[38;5;124;43m'\u001b[39;49m\u001b[38;5;124;43mprogressbar\u001b[39;49m\u001b[38;5;124;43m'\u001b[39;49m\u001b[43m:\u001b[49m\u001b[43m \u001b[49m\u001b[38;5;28;43;01mFalse\u001b[39;49;00m\u001b[43m}\u001b[49m\u001b[43m)\u001b[49m\n\u001b[1;32m    806\u001b[0m \u001b[38;5;28;01mif\u001b[39;00m \u001b[38;5;28mlen\u001b[39m(res) \u001b[38;5;241m!=\u001b[39m \u001b[38;5;241m1\u001b[39m:  \u001b[38;5;66;03m# extra check in case kwargs did modify something\u001b[39;00m\n\u001b[1;32m    807\u001b[0m     \u001b[38;5;28;01mraise\u001b[39;00m \u001b[38;5;167;01mValueError\u001b[39;00m(\n\u001b[1;32m    808\u001b[0m         \u001b[38;5;124mf\u001b[39m\u001b[38;5;124m'\u001b[39m\u001b[38;5;124mExpected exactly one dataset. Received \u001b[39m\u001b[38;5;132;01m{\u001b[39;00m\u001b[38;5;28mlen\u001b[39m(\u001b[38;5;28mself\u001b[39m)\u001b[38;5;132;01m}\u001b[39;00m\u001b[38;5;124m datasets. Please refine your search or use `.to_dataset_dict()`.\u001b[39m\u001b[38;5;124m'\u001b[39m\n\u001b[1;32m    809\u001b[0m     )\n",
      "File \u001b[0;32m/g/data/hh5/public/apps/miniconda3/envs/analysis3-23.04/lib/python3.9/site-packages/pydantic/deprecated/decorator.py:55\u001b[0m, in \u001b[0;36mvalidate_arguments.<locals>.validate.<locals>.wrapper_function\u001b[0;34m(*args, **kwargs)\u001b[0m\n\u001b[1;32m     53\u001b[0m \u001b[38;5;129m@wraps\u001b[39m(_func)\n\u001b[1;32m     54\u001b[0m \u001b[38;5;28;01mdef\u001b[39;00m \u001b[38;5;21mwrapper_function\u001b[39m(\u001b[38;5;241m*\u001b[39margs: Any, \u001b[38;5;241m*\u001b[39m\u001b[38;5;241m*\u001b[39mkwargs: Any) \u001b[38;5;241m-\u001b[39m\u001b[38;5;241m>\u001b[39m Any:\n\u001b[0;32m---> 55\u001b[0m     \u001b[38;5;28;01mreturn\u001b[39;00m \u001b[43mvd\u001b[49m\u001b[38;5;241;43m.\u001b[39;49m\u001b[43mcall\u001b[49m\u001b[43m(\u001b[49m\u001b[38;5;241;43m*\u001b[39;49m\u001b[43margs\u001b[49m\u001b[43m,\u001b[49m\u001b[43m \u001b[49m\u001b[38;5;241;43m*\u001b[39;49m\u001b[38;5;241;43m*\u001b[39;49m\u001b[43mkwargs\u001b[49m\u001b[43m)\u001b[49m\n",
      "File \u001b[0;32m/g/data/hh5/public/apps/miniconda3/envs/analysis3-23.04/lib/python3.9/site-packages/pydantic/deprecated/decorator.py:150\u001b[0m, in \u001b[0;36mValidatedFunction.call\u001b[0;34m(self, *args, **kwargs)\u001b[0m\n\u001b[1;32m    148\u001b[0m \u001b[38;5;28;01mdef\u001b[39;00m \u001b[38;5;21mcall\u001b[39m(\u001b[38;5;28mself\u001b[39m, \u001b[38;5;241m*\u001b[39margs: Any, \u001b[38;5;241m*\u001b[39m\u001b[38;5;241m*\u001b[39mkwargs: Any) \u001b[38;5;241m-\u001b[39m\u001b[38;5;241m>\u001b[39m Any:\n\u001b[1;32m    149\u001b[0m     m \u001b[38;5;241m=\u001b[39m \u001b[38;5;28mself\u001b[39m\u001b[38;5;241m.\u001b[39minit_model_instance(\u001b[38;5;241m*\u001b[39margs, \u001b[38;5;241m*\u001b[39m\u001b[38;5;241m*\u001b[39mkwargs)\n\u001b[0;32m--> 150\u001b[0m     \u001b[38;5;28;01mreturn\u001b[39;00m \u001b[38;5;28;43mself\u001b[39;49m\u001b[38;5;241;43m.\u001b[39;49m\u001b[43mexecute\u001b[49m\u001b[43m(\u001b[49m\u001b[43mm\u001b[49m\u001b[43m)\u001b[49m\n",
      "File \u001b[0;32m/g/data/hh5/public/apps/miniconda3/envs/analysis3-23.04/lib/python3.9/site-packages/pydantic/deprecated/decorator.py:222\u001b[0m, in \u001b[0;36mValidatedFunction.execute\u001b[0;34m(self, m)\u001b[0m\n\u001b[1;32m    220\u001b[0m     \u001b[38;5;28;01mreturn\u001b[39;00m \u001b[38;5;28mself\u001b[39m\u001b[38;5;241m.\u001b[39mraw_function(\u001b[38;5;241m*\u001b[39margs_, \u001b[38;5;241m*\u001b[39m\u001b[38;5;241m*\u001b[39mkwargs, \u001b[38;5;241m*\u001b[39m\u001b[38;5;241m*\u001b[39mvar_kwargs)\n\u001b[1;32m    221\u001b[0m \u001b[38;5;28;01melse\u001b[39;00m:\n\u001b[0;32m--> 222\u001b[0m     \u001b[38;5;28;01mreturn\u001b[39;00m \u001b[38;5;28;43mself\u001b[39;49m\u001b[38;5;241;43m.\u001b[39;49m\u001b[43mraw_function\u001b[49m\u001b[43m(\u001b[49m\u001b[38;5;241;43m*\u001b[39;49m\u001b[38;5;241;43m*\u001b[39;49m\u001b[43md\u001b[49m\u001b[43m,\u001b[49m\u001b[43m \u001b[49m\u001b[38;5;241;43m*\u001b[39;49m\u001b[38;5;241;43m*\u001b[39;49m\u001b[43mvar_kwargs\u001b[49m\u001b[43m)\u001b[49m\n",
      "File \u001b[0;32m/g/data/hh5/public/apps/miniconda3/envs/analysis3-23.04/lib/python3.9/site-packages/intake_esm/core.py:686\u001b[0m, in \u001b[0;36mesm_datastore.to_dataset_dict\u001b[0;34m(self, xarray_open_kwargs, xarray_combine_by_coords_kwargs, preprocess, storage_options, progressbar, aggregate, skip_on_error, **kwargs)\u001b[0m\n\u001b[1;32m    684\u001b[0m         \u001b[38;5;28;01mexcept\u001b[39;00m \u001b[38;5;167;01mException\u001b[39;00m \u001b[38;5;28;01mas\u001b[39;00m exc:\n\u001b[1;32m    685\u001b[0m             \u001b[38;5;28;01mif\u001b[39;00m \u001b[38;5;129;01mnot\u001b[39;00m skip_on_error:\n\u001b[0;32m--> 686\u001b[0m                 \u001b[38;5;28;01mraise\u001b[39;00m exc\n\u001b[1;32m    687\u001b[0m \u001b[38;5;28mself\u001b[39m\u001b[38;5;241m.\u001b[39mdatasets \u001b[38;5;241m=\u001b[39m \u001b[38;5;28mself\u001b[39m\u001b[38;5;241m.\u001b[39m_create_derived_variables(datasets, skip_on_error)\n\u001b[1;32m    688\u001b[0m \u001b[38;5;28;01mreturn\u001b[39;00m \u001b[38;5;28mself\u001b[39m\u001b[38;5;241m.\u001b[39mdatasets\n",
      "File \u001b[0;32m/g/data/hh5/public/apps/miniconda3/envs/analysis3-23.04/lib/python3.9/site-packages/intake_esm/core.py:682\u001b[0m, in \u001b[0;36mesm_datastore.to_dataset_dict\u001b[0;34m(self, xarray_open_kwargs, xarray_combine_by_coords_kwargs, preprocess, storage_options, progressbar, aggregate, skip_on_error, **kwargs)\u001b[0m\n\u001b[1;32m    680\u001b[0m \u001b[38;5;28;01mfor\u001b[39;00m task \u001b[38;5;129;01min\u001b[39;00m gen:\n\u001b[1;32m    681\u001b[0m     \u001b[38;5;28;01mtry\u001b[39;00m:\n\u001b[0;32m--> 682\u001b[0m         key, ds \u001b[38;5;241m=\u001b[39m \u001b[43mtask\u001b[49m\u001b[38;5;241;43m.\u001b[39;49m\u001b[43mresult\u001b[49m\u001b[43m(\u001b[49m\u001b[43m)\u001b[49m\n\u001b[1;32m    683\u001b[0m         datasets[key] \u001b[38;5;241m=\u001b[39m ds\n\u001b[1;32m    684\u001b[0m     \u001b[38;5;28;01mexcept\u001b[39;00m \u001b[38;5;167;01mException\u001b[39;00m \u001b[38;5;28;01mas\u001b[39;00m exc:\n",
      "File \u001b[0;32m/g/data/hh5/public/apps/miniconda3/envs/analysis3-23.04/lib/python3.9/concurrent/futures/_base.py:439\u001b[0m, in \u001b[0;36mFuture.result\u001b[0;34m(self, timeout)\u001b[0m\n\u001b[1;32m    437\u001b[0m     \u001b[38;5;28;01mraise\u001b[39;00m CancelledError()\n\u001b[1;32m    438\u001b[0m \u001b[38;5;28;01melif\u001b[39;00m \u001b[38;5;28mself\u001b[39m\u001b[38;5;241m.\u001b[39m_state \u001b[38;5;241m==\u001b[39m FINISHED:\n\u001b[0;32m--> 439\u001b[0m     \u001b[38;5;28;01mreturn\u001b[39;00m \u001b[38;5;28;43mself\u001b[39;49m\u001b[38;5;241;43m.\u001b[39;49m\u001b[43m__get_result\u001b[49m\u001b[43m(\u001b[49m\u001b[43m)\u001b[49m\n\u001b[1;32m    441\u001b[0m \u001b[38;5;28mself\u001b[39m\u001b[38;5;241m.\u001b[39m_condition\u001b[38;5;241m.\u001b[39mwait(timeout)\n\u001b[1;32m    443\u001b[0m \u001b[38;5;28;01mif\u001b[39;00m \u001b[38;5;28mself\u001b[39m\u001b[38;5;241m.\u001b[39m_state \u001b[38;5;129;01min\u001b[39;00m [CANCELLED, CANCELLED_AND_NOTIFIED]:\n",
      "File \u001b[0;32m/g/data/hh5/public/apps/miniconda3/envs/analysis3-23.04/lib/python3.9/concurrent/futures/_base.py:391\u001b[0m, in \u001b[0;36mFuture.__get_result\u001b[0;34m(self)\u001b[0m\n\u001b[1;32m    389\u001b[0m \u001b[38;5;28;01mif\u001b[39;00m \u001b[38;5;28mself\u001b[39m\u001b[38;5;241m.\u001b[39m_exception:\n\u001b[1;32m    390\u001b[0m     \u001b[38;5;28;01mtry\u001b[39;00m:\n\u001b[0;32m--> 391\u001b[0m         \u001b[38;5;28;01mraise\u001b[39;00m \u001b[38;5;28mself\u001b[39m\u001b[38;5;241m.\u001b[39m_exception\n\u001b[1;32m    392\u001b[0m     \u001b[38;5;28;01mfinally\u001b[39;00m:\n\u001b[1;32m    393\u001b[0m         \u001b[38;5;66;03m# Break a reference cycle with the exception in self._exception\u001b[39;00m\n\u001b[1;32m    394\u001b[0m         \u001b[38;5;28mself\u001b[39m \u001b[38;5;241m=\u001b[39m \u001b[38;5;28;01mNone\u001b[39;00m\n",
      "File \u001b[0;32m/g/data/hh5/public/apps/miniconda3/envs/analysis3-23.04/lib/python3.9/concurrent/futures/thread.py:58\u001b[0m, in \u001b[0;36m_WorkItem.run\u001b[0;34m(self)\u001b[0m\n\u001b[1;32m     55\u001b[0m     \u001b[38;5;28;01mreturn\u001b[39;00m\n\u001b[1;32m     57\u001b[0m \u001b[38;5;28;01mtry\u001b[39;00m:\n\u001b[0;32m---> 58\u001b[0m     result \u001b[38;5;241m=\u001b[39m \u001b[38;5;28;43mself\u001b[39;49m\u001b[38;5;241;43m.\u001b[39;49m\u001b[43mfn\u001b[49m\u001b[43m(\u001b[49m\u001b[38;5;241;43m*\u001b[39;49m\u001b[38;5;28;43mself\u001b[39;49m\u001b[38;5;241;43m.\u001b[39;49m\u001b[43margs\u001b[49m\u001b[43m,\u001b[49m\u001b[43m \u001b[49m\u001b[38;5;241;43m*\u001b[39;49m\u001b[38;5;241;43m*\u001b[39;49m\u001b[38;5;28;43mself\u001b[39;49m\u001b[38;5;241;43m.\u001b[39;49m\u001b[43mkwargs\u001b[49m\u001b[43m)\u001b[49m\n\u001b[1;32m     59\u001b[0m \u001b[38;5;28;01mexcept\u001b[39;00m \u001b[38;5;167;01mBaseException\u001b[39;00m \u001b[38;5;28;01mas\u001b[39;00m exc:\n\u001b[1;32m     60\u001b[0m     \u001b[38;5;28mself\u001b[39m\u001b[38;5;241m.\u001b[39mfuture\u001b[38;5;241m.\u001b[39mset_exception(exc)\n",
      "File \u001b[0;32m/g/data/hh5/public/apps/miniconda3/envs/analysis3-23.04/lib/python3.9/site-packages/intake_esm/core.py:824\u001b[0m, in \u001b[0;36m_load_source\u001b[0;34m(key, source)\u001b[0m\n\u001b[1;32m    823\u001b[0m \u001b[38;5;28;01mdef\u001b[39;00m \u001b[38;5;21m_load_source\u001b[39m(key, source):\n\u001b[0;32m--> 824\u001b[0m     \u001b[38;5;28;01mreturn\u001b[39;00m key, \u001b[43msource\u001b[49m\u001b[38;5;241;43m.\u001b[39;49m\u001b[43mto_dask\u001b[49m\u001b[43m(\u001b[49m\u001b[43m)\u001b[49m\n",
      "File \u001b[0;32m/g/data/hh5/public/apps/miniconda3/envs/analysis3-23.04/lib/python3.9/site-packages/intake_esm/source.py:272\u001b[0m, in \u001b[0;36mESMDataSource.to_dask\u001b[0;34m(self)\u001b[0m\n\u001b[1;32m    270\u001b[0m \u001b[38;5;28;01mdef\u001b[39;00m \u001b[38;5;21mto_dask\u001b[39m(\u001b[38;5;28mself\u001b[39m):\n\u001b[1;32m    271\u001b[0m \u001b[38;5;250m    \u001b[39m\u001b[38;5;124;03m\"\"\"Return xarray object (which will have chunks)\"\"\"\u001b[39;00m\n\u001b[0;32m--> 272\u001b[0m     \u001b[38;5;28;43mself\u001b[39;49m\u001b[38;5;241;43m.\u001b[39;49m\u001b[43m_load_metadata\u001b[49m\u001b[43m(\u001b[49m\u001b[43m)\u001b[49m\n\u001b[1;32m    273\u001b[0m     \u001b[38;5;28;01mreturn\u001b[39;00m \u001b[38;5;28mself\u001b[39m\u001b[38;5;241m.\u001b[39m_ds\n",
      "File \u001b[0;32m/g/data/hh5/public/apps/miniconda3/envs/analysis3-23.04/lib/python3.9/site-packages/intake/source/base.py:283\u001b[0m, in \u001b[0;36mDataSourceBase._load_metadata\u001b[0;34m(self)\u001b[0m\n\u001b[1;32m    281\u001b[0m \u001b[38;5;250m\u001b[39m\u001b[38;5;124;03m\"\"\"load metadata only if needed\"\"\"\u001b[39;00m\n\u001b[1;32m    282\u001b[0m \u001b[38;5;28;01mif\u001b[39;00m \u001b[38;5;28mself\u001b[39m\u001b[38;5;241m.\u001b[39m_schema \u001b[38;5;129;01mis\u001b[39;00m \u001b[38;5;28;01mNone\u001b[39;00m:\n\u001b[0;32m--> 283\u001b[0m     \u001b[38;5;28mself\u001b[39m\u001b[38;5;241m.\u001b[39m_schema \u001b[38;5;241m=\u001b[39m \u001b[38;5;28;43mself\u001b[39;49m\u001b[38;5;241;43m.\u001b[39;49m\u001b[43m_get_schema\u001b[49m\u001b[43m(\u001b[49m\u001b[43m)\u001b[49m\n\u001b[1;32m    284\u001b[0m     \u001b[38;5;28mself\u001b[39m\u001b[38;5;241m.\u001b[39mdtype \u001b[38;5;241m=\u001b[39m \u001b[38;5;28mself\u001b[39m\u001b[38;5;241m.\u001b[39m_schema\u001b[38;5;241m.\u001b[39mdtype\n\u001b[1;32m    285\u001b[0m     \u001b[38;5;28mself\u001b[39m\u001b[38;5;241m.\u001b[39mshape \u001b[38;5;241m=\u001b[39m \u001b[38;5;28mself\u001b[39m\u001b[38;5;241m.\u001b[39m_schema\u001b[38;5;241m.\u001b[39mshape\n",
      "File \u001b[0;32m/g/data/hh5/public/apps/miniconda3/envs/analysis3-23.04/lib/python3.9/site-packages/intake_esm/source.py:208\u001b[0m, in \u001b[0;36mESMDataSource._get_schema\u001b[0;34m(self)\u001b[0m\n\u001b[1;32m    206\u001b[0m \u001b[38;5;28;01mdef\u001b[39;00m \u001b[38;5;21m_get_schema\u001b[39m(\u001b[38;5;28mself\u001b[39m) \u001b[38;5;241m-\u001b[39m\u001b[38;5;241m>\u001b[39m Schema:\n\u001b[1;32m    207\u001b[0m     \u001b[38;5;28;01mif\u001b[39;00m \u001b[38;5;28mself\u001b[39m\u001b[38;5;241m.\u001b[39m_ds \u001b[38;5;129;01mis\u001b[39;00m \u001b[38;5;28;01mNone\u001b[39;00m:\n\u001b[0;32m--> 208\u001b[0m         \u001b[38;5;28;43mself\u001b[39;49m\u001b[38;5;241;43m.\u001b[39;49m\u001b[43m_open_dataset\u001b[49m\u001b[43m(\u001b[49m\u001b[43m)\u001b[49m\n\u001b[1;32m    209\u001b[0m         metadata \u001b[38;5;241m=\u001b[39m {\u001b[38;5;124m'\u001b[39m\u001b[38;5;124mdims\u001b[39m\u001b[38;5;124m'\u001b[39m: {}, \u001b[38;5;124m'\u001b[39m\u001b[38;5;124mdata_vars\u001b[39m\u001b[38;5;124m'\u001b[39m: {}, \u001b[38;5;124m'\u001b[39m\u001b[38;5;124mcoords\u001b[39m\u001b[38;5;124m'\u001b[39m: ()}\n\u001b[1;32m    210\u001b[0m         \u001b[38;5;28mself\u001b[39m\u001b[38;5;241m.\u001b[39m_schema \u001b[38;5;241m=\u001b[39m Schema(\n\u001b[1;32m    211\u001b[0m             datashape\u001b[38;5;241m=\u001b[39m\u001b[38;5;28;01mNone\u001b[39;00m,\n\u001b[1;32m    212\u001b[0m             dtype\u001b[38;5;241m=\u001b[39m\u001b[38;5;28;01mNone\u001b[39;00m,\n\u001b[0;32m   (...)\u001b[0m\n\u001b[1;32m    215\u001b[0m             extra_metadata\u001b[38;5;241m=\u001b[39mmetadata,\n\u001b[1;32m    216\u001b[0m         )\n",
      "File \u001b[0;32m/g/data/hh5/public/apps/miniconda3/envs/analysis3-23.04/lib/python3.9/site-packages/intake_esm/source.py:264\u001b[0m, in \u001b[0;36mESMDataSource._open_dataset\u001b[0;34m(self)\u001b[0m\n\u001b[1;32m    261\u001b[0m     \u001b[38;5;28mself\u001b[39m\u001b[38;5;241m.\u001b[39m_ds\u001b[38;5;241m.\u001b[39mattrs[OPTIONS[\u001b[38;5;124m'\u001b[39m\u001b[38;5;124mdataset_key\u001b[39m\u001b[38;5;124m'\u001b[39m]] \u001b[38;5;241m=\u001b[39m \u001b[38;5;28mself\u001b[39m\u001b[38;5;241m.\u001b[39mkey\n\u001b[1;32m    263\u001b[0m \u001b[38;5;28;01mexcept\u001b[39;00m \u001b[38;5;167;01mException\u001b[39;00m \u001b[38;5;28;01mas\u001b[39;00m exc:\n\u001b[0;32m--> 264\u001b[0m     \u001b[38;5;28;01mraise\u001b[39;00m ESMDataSourceError(\n\u001b[1;32m    265\u001b[0m         \u001b[38;5;124mf\u001b[39m\u001b[38;5;124m\"\"\"\u001b[39m\u001b[38;5;124mFailed to load dataset with key=\u001b[39m\u001b[38;5;124m'\u001b[39m\u001b[38;5;132;01m{\u001b[39;00m\u001b[38;5;28mself\u001b[39m\u001b[38;5;241m.\u001b[39mkey\u001b[38;5;132;01m}\u001b[39;00m\u001b[38;5;124m'\u001b[39m\n\u001b[1;32m    266\u001b[0m \u001b[38;5;124m         You can use `cat[\u001b[39m\u001b[38;5;124m'\u001b[39m\u001b[38;5;132;01m{\u001b[39;00m\u001b[38;5;28mself\u001b[39m\u001b[38;5;241m.\u001b[39mkey\u001b[38;5;132;01m}\u001b[39;00m\u001b[38;5;124m'\u001b[39m\u001b[38;5;124m].df` to inspect the assets/files for this key.\u001b[39m\n\u001b[1;32m    267\u001b[0m \u001b[38;5;124m         \u001b[39m\u001b[38;5;124m\"\"\"\u001b[39m\n\u001b[1;32m    268\u001b[0m     ) \u001b[38;5;28;01mfrom\u001b[39;00m \u001b[38;5;21;01mexc\u001b[39;00m\n",
      "\u001b[0;31mESMDataSourceError\u001b[0m: Failed to load dataset with key='ocean_month.1mon'\n                 You can use `cat['ocean_month.1mon'].df` to inspect the assets/files for this key.\n                 "
     ]
    }
   ],
   "source": [
    "experiment = '025deg_jra55_iaf_omip2_cycle6'\n",
    "variable = 'sst'\n",
    "cat_subset = catalog[experiment]\n",
    "var_search = cat_subset.search(variable=variable, frequency='1mon')\n",
    "darray = var_search.to_dask()\n",
    "darray = darray[variable]\n",
    "SST = darray"
   ]
  },
  {
   "cell_type": "markdown",
   "id": "8f5bf699",
   "metadata": {},
   "source": [
    "This is a 3D dataset in latitude, longitude and time:"
   ]
  },
  {
   "cell_type": "code",
   "execution_count": null,
   "id": "9265b6b4",
   "metadata": {},
   "outputs": [],
   "source": [
    "SST"
   ]
  },
  {
   "cell_type": "markdown",
   "id": "84a6b93e",
   "metadata": {},
   "source": [
    "### Model specific"
   ]
  },
  {
   "cell_type": "markdown",
   "id": "f821c54c",
   "metadata": {},
   "source": [
    "First do this as it might usually be done, in a model specific manner:\n",
    "\n",
    "1. Use the time coordinate name in the mean function\n",
    "2. Subtract a hard-coded value to convert the temperature degrees celcius from degrees Kelvin (the meta-data says the units are `deg_C` but this is clearly incorrect)"
   ]
  },
  {
   "cell_type": "code",
   "execution_count": null,
   "id": "1f4a5fd1",
   "metadata": {},
   "outputs": [],
   "source": [
    "SST_time_mean = SST.mean('time') - 273.15\n",
    "SST_time_mean"
   ]
  },
  {
   "cell_type": "markdown",
   "id": "0d2855fa",
   "metadata": {},
   "source": [
    "Now plot the result"
   ]
  },
  {
   "cell_type": "code",
   "execution_count": null,
   "id": "896eff05",
   "metadata": {},
   "outputs": [],
   "source": [
    "plt.figure(figsize=(12, 6))\n",
    "ax = plt.axes(projection=ccrs.Robinson())\n",
    "\n",
    "SST_time_mean.plot(ax=ax,\n",
    "                   x='xt_ocean', y='yt_ocean', \n",
    "                   transform=ccrs.PlateCarree(),\n",
    "                   vmin=-2, vmax=30, extend='both',\n",
    "                   cmap=cm.cm.thermal)\n",
    "\n",
    "ax.coastlines();"
   ]
  },
  {
   "cell_type": "markdown",
   "id": "ca718691",
   "metadata": {},
   "source": [
    "Note that the arctic is not correctly respresented due to the 1D lat/lon coordinates not being correct in the tripole area. See the [Making Maps with cartopy Tutorial](https://cosima-recipes.readthedocs.io/en/latest/tutorials/Making_Maps_with_Cartopy.html#fixing-the-tripole) for more information."
   ]
  },
  {
   "cell_type": "markdown",
   "id": "8841733e",
   "metadata": {},
   "source": [
    "### Model agnostic"
   ]
  },
  {
   "cell_type": "markdown",
   "id": "7bcc43b6",
   "metadata": {},
   "source": [
    "Now do the same calculation in a model agnostic manner"
   ]
  },
  {
   "cell_type": "markdown",
   "id": "7272e295",
   "metadata": {},
   "source": [
    "For this data it is necessary to correct the units attribute first. This shouldn't be necessary if the metadata is correct"
   ]
  },
  {
   "cell_type": "code",
   "execution_count": null,
   "id": "d9dd1a49",
   "metadata": {},
   "outputs": [],
   "source": [
    "SST.attrs['units'] = 'K'"
   ]
  },
  {
   "cell_type": "markdown",
   "id": "99d72aa3",
   "metadata": {},
   "source": [
    "Now use `pint` to ensure this is in degrees C. Note that if the data was originally in degrees celcius this would be fine, it would do nothing. So this is a way of catering for any temperature units that are understood by `pint` in a transparent way. Note the call to `quantify` which invokes `pint`'s machinery to parse the units and allow unit conversions."
   ]
  },
  {
   "cell_type": "code",
   "execution_count": null,
   "id": "851ee9a9",
   "metadata": {},
   "outputs": [],
   "source": [
    "SST = SST.pint.quantify().pint.to('C')"
   ]
  },
  {
   "cell_type": "code",
   "execution_count": null,
   "id": "89de7a9e",
   "metadata": {},
   "outputs": [],
   "source": [
    "SST"
   ]
  },
  {
   "cell_type": "markdown",
   "id": "f7592c1d",
   "metadata": {},
   "source": [
    "Now take the time mean, but this time use the `cf` accessor to automatically determine the name of the time dimension. `cf_xarray` checks the names of variables and coordinates, and associated metadata to try and infer information about the data based on the CF conventions.\n",
    "\n",
    "To see what `cf_xarray` information is available just evaluate the accessor:"
   ]
  },
  {
   "cell_type": "code",
   "execution_count": null,
   "id": "4433be12",
   "metadata": {},
   "outputs": [],
   "source": [
    "SST.cf"
   ]
  },
  {
   "cell_type": "markdown",
   "id": "488bd7f5",
   "metadata": {},
   "source": [
    "In this case it has found `X`, `Y` and `T` axes, and `longitude`, `latitude` and `time` axes. These are now accessible like a `dict` using the `cf` accessor. Note that this returns the actual coordinate, and many functions just want a simple string argument, which is the name of the coordinate.\n",
    "\n",
    "`cf_xarray` also wraps many standard xarray functions allowing `cf` names to be used, which are [automatically converted to the name in the data](https://cf-xarray.readthedocs.io/en/latest/examples/introduction.html#feature-rewriting-arguments). \n",
    "\n",
    "The upshot: just use the `cf` accessor and then append the required function and use the standard CF coordinate name (in this case they are the same, `time`, but that is not guaranteed)"
   ]
  },
  {
   "cell_type": "code",
   "execution_count": null,
   "id": "76d493d4",
   "metadata": {},
   "outputs": [],
   "source": [
    "SST_time_mean = SST.cf.mean('time')\n",
    "SST_time_mean"
   ]
  },
  {
   "cell_type": "markdown",
   "id": "cee2356d",
   "metadata": {},
   "source": [
    "Using the `cf_xarray` wrapped function makes the code more legible and easier to write, i.e.\n",
    "```python\n",
    "SST.cf.mean('time')\n",
    "```\n",
    "compared to\n",
    "```python\n",
    "SST.mean(SST.cf['time'].name)\n",
    "```"
   ]
  },
  {
   "cell_type": "markdown",
   "id": "e3e23250",
   "metadata": {},
   "source": [
    "In the same way the `cf` accessor can be used in the plot and the CF names for latitude and longitude used as `x` and `y` arguments"
   ]
  },
  {
   "cell_type": "code",
   "execution_count": null,
   "id": "1b7f3714",
   "metadata": {},
   "outputs": [],
   "source": [
    "plt.figure(figsize=(12, 6))\n",
    "ax = plt.axes(projection=ccrs.Robinson())\n",
    "\n",
    "SST_time_mean.cf.plot(ax=ax,\n",
    "                      x='longitude', y='latitude', \n",
    "                      transform=ccrs.PlateCarree(),\n",
    "                      vmin=-2, vmax=30, extend='both',\n",
    "                      cmap=cm.cm.thermal)\n",
    "\n",
    "ax.coastlines();"
   ]
  },
  {
   "cell_type": "markdown",
   "id": "6ca89707",
   "metadata": {},
   "source": [
    "## Putting this into practice"
   ]
  },
  {
   "cell_type": "markdown",
   "id": "008aaf9f",
   "metadata": {},
   "source": [
    "Above a model agnostic version of some code was demonstrated, but that doesn't utilise the full power of what it is capable of. The model agnostic code can now be easily turned into a function that accepts an xarray DataArray:"
   ]
  },
  {
   "cell_type": "code",
   "execution_count": null,
   "id": "39b1d1fc",
   "metadata": {},
   "outputs": [],
   "source": [
    "def plot_global_temp_in_degrees_celcius(da):\n",
    "    # Take the time mean of da and plot a global temperature field in a Robinson projection\n",
    "    # \n",
    "    # Input DataArray (da) should be a 3D array of latitude, longitude and time.\n",
    "    \n",
    "    da = da.pint.quantify().pint.to('C')\n",
    "    da_time_mean = da.cf.mean('time')\n",
    "    \n",
    "    plt.figure(figsize=(12, 6))\n",
    "    ax = plt.axes(projection=ccrs.Robinson())\n",
    "\n",
    "    da_time_mean.cf.plot(ax=ax,\n",
    "                         x='longitude', y='latitude', \n",
    "                         transform=ccrs.PlateCarree(),\n",
    "                         vmin=-2, vmax=30, extend='both',\n",
    "                         cmap=cm.cm.thermal)\n",
    "\n",
    "    ax.coastlines();"
   ]
  },
  {
   "cell_type": "markdown",
   "id": "f121c4b9",
   "metadata": {},
   "source": [
    "Try it out with the SST data used above"
   ]
  },
  {
   "cell_type": "code",
   "execution_count": null,
   "id": "ffb12eb4",
   "metadata": {},
   "outputs": [],
   "source": [
    "plot_global_temp_in_degrees_celcius(SST)"
   ]
  },
  {
   "cell_type": "markdown",
   "id": "7f8ce0f9",
   "metadata": {},
   "source": [
    "Ok, so now try on the output from a different experiment and model (MOM6):"
   ]
  },
  {
   "cell_type": "code",
   "execution_count": null,
   "id": "4251ede7",
   "metadata": {},
   "outputs": [],
   "source": [
    "experiment = 'OM4_025.JRA_RYF'\n",
    "variable = 'tos'\n",
    "cat_subset = catalog[experiment]\n",
    "var_search = cat_subset.search(variable=variable, frequency='1 monthly')\n",
    "darray = var_search.to_dask()\n",
    "darray = darray[variable]\n",
    "SST_mom6 = darray"
   ]
  },
  {
   "cell_type": "code",
   "execution_count": null,
   "id": "86f3d2b0",
   "metadata": {},
   "outputs": [],
   "source": [
    "SST_mom6"
   ]
  },
  {
   "cell_type": "markdown",
   "id": "257b67b2",
   "metadata": {},
   "source": [
    "Check to see it has correctly parsed the CF information. It is not necessary to print this out, but interesting, and note it has quite different index and coordinate names"
   ]
  },
  {
   "cell_type": "code",
   "execution_count": null,
   "id": "2494feec",
   "metadata": {},
   "outputs": [],
   "source": [
    "SST_mom6.cf"
   ]
  },
  {
   "cell_type": "markdown",
   "id": "43139633",
   "metadata": {},
   "source": [
    "Use the function from above which also worked on MOM5 data with very different coordinates"
   ]
  },
  {
   "cell_type": "code",
   "execution_count": null,
   "id": "a83c383c",
   "metadata": {},
   "outputs": [],
   "source": [
    "plot_global_temp_in_degrees_celcius(SST_mom6)"
   ]
  },
  {
   "cell_type": "markdown",
   "id": "21e214ec",
   "metadata": {},
   "source": [
    "## What to do when it goes wrong"
   ]
  },
  {
   "cell_type": "markdown",
   "id": "e9ea4bc3",
   "metadata": {},
   "source": [
    "The model agnostic function worked flawlessly with two different ocean data sets, after the units were corrected in the MOM5 data. What about some ice data?\n",
    "\n",
    "Using the same experiment from which the first `SST` data was obtained, load the ice air temperature variable"
   ]
  },
  {
   "cell_type": "code",
   "execution_count": null,
   "id": "5a35fa98",
   "metadata": {},
   "outputs": [],
   "source": [
    "experiment = '025deg_jra55v13_iaf_gmredi6'\n",
    "variable = 'Tair_m'\n",
    "cat_subset = catalog[experiment]\n",
    "var_search = cat_subset.search(variable=variable, frequency='1 monthly')\n",
    "darray = var_search.to_dask()\n",
    "darray = darray[variable]\n",
    "ice_air_temp = darray"
   ]
  },
  {
   "cell_type": "code",
   "execution_count": null,
   "id": "9cb77a16",
   "metadata": {},
   "outputs": [],
   "source": [
    "ice_air_temp"
   ]
  },
  {
   "cell_type": "markdown",
   "id": "6ad25af0",
   "metadata": {},
   "source": [
    "And try the generic routine"
   ]
  },
  {
   "cell_type": "code",
   "execution_count": null,
   "id": "03d1c8e2",
   "metadata": {},
   "outputs": [],
   "source": [
    "plot_global_temp_in_degrees_celcius(ice_air_temp)"
   ]
  },
  {
   "cell_type": "markdown",
   "id": "5410c460",
   "metadata": {},
   "source": [
    "The error message is\n",
    "```\n",
    "\"Receive multiple variables for key 'longitude': ['TLON', 'ULON']. Expected only one. Please pass a list ['longitude'] instead to get all variables matching 'longitude'.\"\n",
    "```\n",
    "This suggests that `cf_xarray` has found multiple longitude coordinates `TLON` and `ULON` and doesn't know how to resolve this automatically. \n",
    "\n",
    "Inspecting the `cf` information doesn't show multiple axes like it [does in the documentation](https://cf-xarray.readthedocs.io/en/latest/examples/introduction.html#what-attributes-have-been-discovered):"
   ]
  },
  {
   "cell_type": "code",
   "execution_count": null,
   "id": "a6517029",
   "metadata": {},
   "outputs": [],
   "source": [
    "ice_air_temp.cf"
   ]
  },
  {
   "cell_type": "markdown",
   "id": "11ebb16b",
   "metadata": {},
   "source": [
    "[This is a bug](https://github.com/xarray-contrib/cf-xarray/issues/396), taking the mean alters the coordinates:"
   ]
  },
  {
   "cell_type": "code",
   "execution_count": null,
   "id": "2314b99c",
   "metadata": {},
   "outputs": [],
   "source": [
    "ice_air_temp.cf.mean('time').cf"
   ]
  },
  {
   "cell_type": "markdown",
   "id": "cd5eaaac",
   "metadata": {},
   "source": [
    "So the solution is to drop the redundant velocity grid:"
   ]
  },
  {
   "cell_type": "code",
   "execution_count": null,
   "id": "5df61aa2",
   "metadata": {},
   "outputs": [],
   "source": [
    "ice_air_temp = ice_air_temp.drop_vars(['ULON', 'ULAT'])"
   ]
  },
  {
   "cell_type": "markdown",
   "id": "95c4b37d",
   "metadata": {},
   "source": [
    "Now trying to plot again using the generic function and there is another error:"
   ]
  },
  {
   "cell_type": "code",
   "execution_count": null,
   "id": "780283d9",
   "metadata": {},
   "outputs": [],
   "source": [
    "plot_global_temp_in_degrees_celcius(ice_air_temp)"
   ]
  },
  {
   "cell_type": "markdown",
   "id": "b5b66c25",
   "metadata": {},
   "source": [
    "This error:\n",
    "```\n",
    "ValueError: x and y arguments to pcolormesh cannot have non-finite values or be of type numpy.ma.core.MaskedArray with masked values\n",
    "```\n",
    "is because there are `NaN`'s in the coordinate variables, as [explained in the plotting with cartopy tutorial](https://cosima-recipes.readthedocs.io/en/latest/tutorials/Making_Maps_with_Cartopy.html#fixing-the-tripole).\n",
    "\n",
    "By following the instructions in that tutorial and the [Spatial selection with tripolar ACCESS-OM2 grid notebook](https://cosima-recipes.readthedocs.io/en/latest/documented_examples/Spatial_selection.html#gallery-documented-examples-spatial-selection-ipynb) the coordinates can be fixed by replacing them with coordinates from the ice grid input file. It requires some work, the dimensions must be renamed to match, and coordinates converted from radians to degrees."
   ]
  },
  {
   "cell_type": "code",
   "execution_count": null,
   "id": "3f961668",
   "metadata": {},
   "outputs": [],
   "source": [
    "ice_grid = xr.open_dataset('/g/data/ik11/inputs/access-om2/input_eee21b65/cice_025deg/grid.nc').rename({'ny': 'nj', 'nx': 'ni'})\n",
    "ice_grid = ice_grid.pint.quantify()\n",
    "\n",
    "ice_air_temp = ice_air_temp.assign_coords({'TLON': ice_grid.tlon.pint.to('degrees_E'), 'TLAT': ice_grid.tlat.pint.to('degrees_N')})\n",
    "ice_air_temp"
   ]
  },
  {
   "cell_type": "markdown",
   "id": "f1403c81",
   "metadata": {},
   "source": [
    "Finally, the generic plotting routine works"
   ]
  },
  {
   "cell_type": "code",
   "execution_count": null,
   "id": "6fe8925a",
   "metadata": {},
   "outputs": [],
   "source": [
    "plot_global_temp_in_degrees_celcius(ice_air_temp)"
   ]
  },
  {
   "cell_type": "markdown",
   "id": "f980e941",
   "metadata": {},
   "source": [
    "One more step is to modify the original routine to take the vertical range as an argument, so it is more generally useful:"
   ]
  },
  {
   "cell_type": "code",
   "execution_count": null,
   "id": "84164dda",
   "metadata": {},
   "outputs": [],
   "source": [
    "def plot_global_temp_in_degrees_celcius(da, vmin=-2, vmax=30):\n",
    "    # Take the time mean of da and plot a global temperature field in a Robinson projection\n",
    "    # \n",
    "    # Input DataArray (da) should be a 3D array of latitude, longitude and time.\n",
    "    \n",
    "    da = da.pint.quantify().pint.to('C')\n",
    "    da_time_mean = da.cf.mean('time')\n",
    "    \n",
    "    plt.figure(figsize=(12, 6))\n",
    "    ax = plt.axes(projection=ccrs.Robinson())\n",
    "\n",
    "    da_time_mean.cf.plot(ax=ax,\n",
    "                         x='longitude', y='latitude', \n",
    "                         transform=ccrs.PlateCarree(),\n",
    "                         vmin=vmin, vmax=vmax, extend='both',\n",
    "                         cmap=cm.cm.thermal)\n",
    "\n",
    "    ax.coastlines();"
   ]
  },
  {
   "cell_type": "markdown",
   "id": "953711e1",
   "metadata": {},
   "source": [
    "By specifying default values for the arguments it is completely backwards compatible, we have lost no functionality, but the ice air temperature can now be plotted with a range that better suits the range of the data"
   ]
  },
  {
   "cell_type": "code",
   "execution_count": null,
   "id": "5c7deb9d",
   "metadata": {},
   "outputs": [],
   "source": [
    "plot_global_temp_in_degrees_celcius(ice_air_temp, vmin=-30)"
   ]
  },
  {
   "cell_type": "markdown",
   "id": "c37505b3",
   "metadata": {},
   "source": [
    "## Conclusion"
   ]
  },
  {
   "cell_type": "markdown",
   "id": "80db19e9",
   "metadata": {},
   "source": [
    "Model specific code to take a time mean and plot the data was converted to a model agnostic function with no loss of functionality.\n",
    "\n",
    "The same function can be used with a wide range CF compliant data.\n",
    "\n",
    "In some cases the input data will need to be modified if it is not sufficiently compliant, or non-conforming in some way, such as the ice data above with `NaN`'s in the coordinate. It is better to modify the data to be more compliant and higher quality, and use generic tools, than have multiple code versions to account for the vagaries or problems with individual datasets. \n",
    "\n",
    "Ideally those improvements can be incorporated into future versions of the data at source, in post-processing, or in some utility functions for transforming a class of non-conforming data."
   ]
  }
 ],
 "metadata": {
  "kernelspec": {
   "display_name": "Python [conda env:analysis3]",
   "language": "python",
   "name": "conda-env-analysis3-py"
  },
  "language_info": {
   "codemirror_mode": {
    "name": "ipython",
    "version": 3
   },
   "file_extension": ".py",
   "mimetype": "text/x-python",
   "name": "python",
   "nbconvert_exporter": "python",
   "pygments_lexer": "ipython3",
   "version": "3.9.17"
  },
  "widgets": {
   "application/vnd.jupyter.widget-state+json": {
    "state": {},
    "version_major": 2,
    "version_minor": 0
   }
  }
 },
 "nbformat": 4,
 "nbformat_minor": 5
}
