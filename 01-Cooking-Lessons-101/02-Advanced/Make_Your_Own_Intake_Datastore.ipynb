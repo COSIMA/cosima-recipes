{
 "cells": [
  {
   "cell_type": "markdown",
   "id": "cb836184-31c3-4113-a89d-d93548f8bded",
   "metadata": {},
   "source": [
    "# Building Intake-ESM datastores of ACCESS model output\n",
    "\n",
    "This tutorial will demonstrate how users can build Intake-ESM datastores for their ACCESS model runs using the `access-nri-intake` Python package.\n",
    "\n",
    "The ACCESS-NRI Intake Catalog consists of a set of intake-esm datastores, where a datastore has the result for one experiment. This tutorial focusses on <b>building one datastore for one experiment</b>. In general, it's assumed most user's wont build their own intake catalog, but could have several datastores for several experiments.\n",
    "\n",
    "Note: The ACCESS-NRI Intake Catalog is curated by ACCESS-NRI with further information on its <a href=\"https://access-nri-intake-catalog.readthedocs.io/en/latest/index.html\" target=\"_blank\">documentation website</a> and <a href=\"https://access-hive.org.au/model_evaluation/model_evaluation_model_catalogs\" target=\"_blank\">this ACCESS-Hive page</a>. It contains a set of model output shared amongst the ACCESS-NRI working groups, including CMIP6 results and ACCESS-OM2 (as typically used in Cosima Recipes). \n",
    "\n",
    "We demonstrate two methods here - first, the more involved method, which was the only way of building a datastore prior to the `access-nri-intake v1.1.1` release, and secondly, the convenience method added with that release.\n",
    "\n",
    "In most cases, the convenience method will be preferable, but the more involved method can be useful as it affords a greater degree of control over the process.\n",
    "\n",
    "----\n",
    "# 1. The more involved method"
   ]
  },
  {
   "cell_type": "markdown",
   "id": "4bb64c0d-bb8f-4989-9002-44d5518b7cae",
   "metadata": {},
   "source": [
    "A builder class is used for creating Intake-ESM datastores for each flavour of model output.  Classes for ACCESS model outputs are available in the `builders` submodule of the `access_nri_intake` Python package. "
   ]
  },
  {
   "cell_type": "markdown",
   "id": "d7af029b-68e1-4b43-993e-5dc13de4fdc7",
   "metadata": {},
   "source": [
    "We can list the available builders:"
   ]
  },
  {
   "cell_type": "code",
   "execution_count": 1,
   "id": "a89c7407-8fa7-4021-81e0-487ff8fbbf82",
   "metadata": {},
   "outputs": [
    {
     "data": {
      "text/plain": [
       "['AccessOm2Builder',\n",
       " 'AccessOm3Builder',\n",
       " 'Mom6Builder',\n",
       " 'AccessEsm15Builder',\n",
       " 'AccessCm2Builder',\n",
       " 'ROMSBuilder',\n",
       " 'WoaBuilder']"
      ]
     },
     "execution_count": 1,
     "metadata": {},
     "output_type": "execute_result"
    }
   ],
   "source": [
    "from access_nri_intake.source import builders\n",
    "\n",
    "builders.__all__"
   ]
  },
  {
   "cell_type": "markdown",
   "id": "a372ba48-2ac3-4c5e-86f7-564fd6c01b69",
   "metadata": {},
   "source": [
    "Because we're looking at ACCESS-OM2 output, we'll typically use the `AccessOm2Builder` class. For other models, use the correct Builder"
   ]
  },
  {
   "cell_type": "markdown",
   "id": "bc200ca9-5cba-4413-a550-bd0a4f1b54bd",
   "metadata": {},
   "source": [
    "## Building the datastore"
   ]
  },
  {
   "cell_type": "markdown",
   "id": "54ab0f35-68b2-40dc-a298-407bd7adc700",
   "metadata": {},
   "source": [
    "Building the Intake-ESM catalog should be as simple as passing the model run base output directory to the Builder and calling `.build()`. The build is parallelized (without dask) so will be faster if you throw more resources at it. The following was run using an Large `normal` ARE instance (12 cpus)."
   ]
  },
  {
   "cell_type": "code",
   "execution_count": 2,
   "id": "db2a83f3-501d-48df-944d-67ba306bbfa5",
   "metadata": {
    "scrolled": true,
    "tags": []
   },
   "outputs": [
    {
     "name": "stderr",
     "output_type": "stream",
     "text": [
      "/g/data/xp65/public/apps/med_conda/envs/analysis3-25.08/lib/python3.11/site-packages/access_nri_intake/source/utils.py:241: UserWarning: Time coordinate does not include bounds information. Guessing start and end times.\n",
      "  warnings.warn(\n",
      "/g/data/xp65/public/apps/med_conda/envs/analysis3-25.08/lib/python3.11/site-packages/access_nri_intake/source/utils.py:241: UserWarning: Time coordinate does not include bounds information. Guessing start and end times.\n",
      "  warnings.warn(\n",
      "/g/data/xp65/public/apps/med_conda/envs/analysis3-25.08/lib/python3.11/site-packages/access_nri_intake/source/utils.py:241: UserWarning: Time coordinate does not include bounds information. Guessing start and end times.\n",
      "  warnings.warn(\n",
      "/g/data/xp65/public/apps/med_conda/envs/analysis3-25.08/lib/python3.11/site-packages/access_nri_intake/source/utils.py:241: UserWarning: Time coordinate does not include bounds information. Guessing start and end times.\n",
      "  warnings.warn(\n",
      "/g/data/xp65/public/apps/med_conda/envs/analysis3-25.08/lib/python3.11/site-packages/access_nri_intake/source/utils.py:241: UserWarning: Time coordinate does not include bounds information. Guessing start and end times.\n",
      "  warnings.warn(\n",
      "/g/data/xp65/public/apps/med_conda/envs/analysis3-25.08/lib/python3.11/site-packages/access_nri_intake/source/utils.py:241: UserWarning: Time coordinate does not include bounds information. Guessing start and end times.\n",
      "  warnings.warn(\n",
      "/g/data/xp65/public/apps/med_conda/envs/analysis3-25.08/lib/python3.11/site-packages/access_nri_intake/source/utils.py:241: UserWarning: Time coordinate does not include bounds information. Guessing start and end times.\n",
      "  warnings.warn(\n",
      "/g/data/xp65/public/apps/med_conda/envs/analysis3-25.08/lib/python3.11/site-packages/access_nri_intake/source/utils.py:241: UserWarning: Time coordinate does not include bounds information. Guessing start and end times.\n",
      "  warnings.warn(\n",
      "/g/data/xp65/public/apps/med_conda/envs/analysis3-25.08/lib/python3.11/site-packages/access_nri_intake/source/utils.py:241: UserWarning: Time coordinate does not include bounds information. Guessing start and end times.\n",
      "  warnings.warn(\n",
      "/g/data/xp65/public/apps/med_conda/envs/analysis3-25.08/lib/python3.11/site-packages/access_nri_intake/source/utils.py:241: UserWarning: Time coordinate does not include bounds information. Guessing start and end times.\n",
      "  warnings.warn(\n",
      "/g/data/xp65/public/apps/med_conda/envs/analysis3-25.08/lib/python3.11/site-packages/access_nri_intake/source/utils.py:241: UserWarning: Time coordinate does not include bounds information. Guessing start and end times.\n",
      "  warnings.warn(\n",
      "/g/data/xp65/public/apps/med_conda/envs/analysis3-25.08/lib/python3.11/site-packages/access_nri_intake/source/utils.py:241: UserWarning: Time coordinate does not include bounds information. Guessing start and end times.\n",
      "  warnings.warn(\n",
      "/g/data/xp65/public/apps/med_conda/envs/analysis3-25.08/lib/python3.11/site-packages/access_nri_intake/source/utils.py:241: UserWarning: Time coordinate does not include bounds information. Guessing start and end times.\n",
      "  warnings.warn(\n",
      "/g/data/xp65/public/apps/med_conda/envs/analysis3-25.08/lib/python3.11/site-packages/access_nri_intake/source/utils.py:241: UserWarning: Time coordinate does not include bounds information. Guessing start and end times.\n",
      "  warnings.warn(\n",
      "/g/data/xp65/public/apps/med_conda/envs/analysis3-25.08/lib/python3.11/site-packages/access_nri_intake/source/utils.py:241: UserWarning: Time coordinate does not include bounds information. Guessing start and end times.\n",
      "  warnings.warn(\n",
      "/g/data/xp65/public/apps/med_conda/envs/analysis3-25.08/lib/python3.11/site-packages/access_nri_intake/source/utils.py:241: UserWarning: Time coordinate does not include bounds information. Guessing start and end times.\n",
      "  warnings.warn(\n",
      "/g/data/xp65/public/apps/med_conda/envs/analysis3-25.08/lib/python3.11/site-packages/access_nri_intake/source/utils.py:241: UserWarning: Time coordinate does not include bounds information. Guessing start and end times.\n",
      "  warnings.warn(\n",
      "/g/data/xp65/public/apps/med_conda/envs/analysis3-25.08/lib/python3.11/site-packages/access_nri_intake/source/utils.py:241: UserWarning: Time coordinate does not include bounds information. Guessing start and end times.\n",
      "  warnings.warn(\n",
      "/g/data/xp65/public/apps/med_conda/envs/analysis3-25.08/lib/python3.11/site-packages/access_nri_intake/source/utils.py:241: UserWarning: Time coordinate does not include bounds information. Guessing start and end times.\n",
      "  warnings.warn(\n",
      "/g/data/xp65/public/apps/med_conda/envs/analysis3-25.08/lib/python3.11/site-packages/access_nri_intake/source/utils.py:241: UserWarning: Time coordinate does not include bounds information. Guessing start and end times.\n",
      "  warnings.warn(\n",
      "/g/data/xp65/public/apps/med_conda/envs/analysis3-25.08/lib/python3.11/site-packages/access_nri_intake/source/utils.py:241: UserWarning: Time coordinate does not include bounds information. Guessing start and end times.\n",
      "  warnings.warn(\n",
      "/g/data/xp65/public/apps/med_conda/envs/analysis3-25.08/lib/python3.11/site-packages/access_nri_intake/source/utils.py:241: UserWarning: Time coordinate does not include bounds information. Guessing start and end times.\n",
      "  warnings.warn(\n",
      "/g/data/xp65/public/apps/med_conda/envs/analysis3-25.08/lib/python3.11/site-packages/access_nri_intake/source/utils.py:241: UserWarning: Time coordinate does not include bounds information. Guessing start and end times.\n",
      "  warnings.warn(\n",
      "/g/data/xp65/public/apps/med_conda/envs/analysis3-25.08/lib/python3.11/site-packages/access_nri_intake/source/utils.py:241: UserWarning: Time coordinate does not include bounds information. Guessing start and end times.\n",
      "  warnings.warn(\n",
      "/g/data/xp65/public/apps/med_conda/envs/analysis3-25.08/lib/python3.11/site-packages/access_nri_intake/source/utils.py:241: UserWarning: Time coordinate does not include bounds information. Guessing start and end times.\n",
      "  warnings.warn(\n",
      "/g/data/xp65/public/apps/med_conda/envs/analysis3-25.08/lib/python3.11/site-packages/access_nri_intake/source/utils.py:241: UserWarning: Time coordinate does not include bounds information. Guessing start and end times.\n",
      "  warnings.warn(\n",
      "/g/data/xp65/public/apps/med_conda/envs/analysis3-25.08/lib/python3.11/site-packages/access_nri_intake/source/utils.py:241: UserWarning: Time coordinate does not include bounds information. Guessing start and end times.\n",
      "  warnings.warn(\n",
      "/g/data/xp65/public/apps/med_conda/envs/analysis3-25.08/lib/python3.11/site-packages/access_nri_intake/source/utils.py:241: UserWarning: Time coordinate does not include bounds information. Guessing start and end times.\n",
      "  warnings.warn(\n",
      "/g/data/xp65/public/apps/med_conda/envs/analysis3-25.08/lib/python3.11/site-packages/access_nri_intake/source/utils.py:241: UserWarning: Time coordinate does not include bounds information. Guessing start and end times.\n",
      "  warnings.warn(\n",
      "/g/data/xp65/public/apps/med_conda/envs/analysis3-25.08/lib/python3.11/site-packages/access_nri_intake/source/utils.py:241: UserWarning: Time coordinate does not include bounds information. Guessing start and end times.\n",
      "  warnings.warn(\n",
      "/g/data/xp65/public/apps/med_conda/envs/analysis3-25.08/lib/python3.11/site-packages/access_nri_intake/source/utils.py:241: UserWarning: Time coordinate does not include bounds information. Guessing start and end times.\n",
      "  warnings.warn(\n",
      "/g/data/xp65/public/apps/med_conda/envs/analysis3-25.08/lib/python3.11/site-packages/access_nri_intake/source/utils.py:241: UserWarning: Time coordinate does not include bounds information. Guessing start and end times.\n",
      "  warnings.warn(\n",
      "/g/data/xp65/public/apps/med_conda/envs/analysis3-25.08/lib/python3.11/site-packages/access_nri_intake/source/utils.py:241: UserWarning: Time coordinate does not include bounds information. Guessing start and end times.\n",
      "  warnings.warn(\n",
      "/g/data/xp65/public/apps/med_conda/envs/analysis3-25.08/lib/python3.11/site-packages/access_nri_intake/source/utils.py:241: UserWarning: Time coordinate does not include bounds information. Guessing start and end times.\n",
      "  warnings.warn(\n",
      "/g/data/xp65/public/apps/med_conda/envs/analysis3-25.08/lib/python3.11/site-packages/access_nri_intake/source/utils.py:241: UserWarning: Time coordinate does not include bounds information. Guessing start and end times.\n",
      "  warnings.warn(\n",
      "/g/data/xp65/public/apps/med_conda/envs/analysis3-25.08/lib/python3.11/site-packages/access_nri_intake/source/utils.py:241: UserWarning: Time coordinate does not include bounds information. Guessing start and end times.\n",
      "  warnings.warn(\n",
      "/g/data/xp65/public/apps/med_conda/envs/analysis3-25.08/lib/python3.11/site-packages/access_nri_intake/source/utils.py:241: UserWarning: Time coordinate does not include bounds information. Guessing start and end times.\n",
      "  warnings.warn(\n",
      "/g/data/xp65/public/apps/med_conda/envs/analysis3-25.08/lib/python3.11/site-packages/access_nri_intake/source/utils.py:241: UserWarning: Time coordinate does not include bounds information. Guessing start and end times.\n",
      "  warnings.warn(\n",
      "/g/data/xp65/public/apps/med_conda/envs/analysis3-25.08/lib/python3.11/site-packages/access_nri_intake/source/utils.py:241: UserWarning: Time coordinate does not include bounds information. Guessing start and end times.\n",
      "  warnings.warn(\n",
      "/g/data/xp65/public/apps/med_conda/envs/analysis3-25.08/lib/python3.11/site-packages/access_nri_intake/source/utils.py:241: UserWarning: Time coordinate does not include bounds information. Guessing start and end times.\n",
      "  warnings.warn(\n",
      "/g/data/xp65/public/apps/med_conda/envs/analysis3-25.08/lib/python3.11/site-packages/access_nri_intake/source/utils.py:241: UserWarning: Time coordinate does not include bounds information. Guessing start and end times.\n",
      "  warnings.warn(\n",
      "/g/data/xp65/public/apps/med_conda/envs/analysis3-25.08/lib/python3.11/site-packages/access_nri_intake/source/utils.py:241: UserWarning: Time coordinate does not include bounds information. Guessing start and end times.\n",
      "  warnings.warn(\n",
      "/g/data/xp65/public/apps/med_conda/envs/analysis3-25.08/lib/python3.11/site-packages/access_nri_intake/source/utils.py:241: UserWarning: Time coordinate does not include bounds information. Guessing start and end times.\n",
      "  warnings.warn(\n",
      "/g/data/xp65/public/apps/med_conda/envs/analysis3-25.08/lib/python3.11/site-packages/access_nri_intake/source/utils.py:241: UserWarning: Time coordinate does not include bounds information. Guessing start and end times.\n",
      "  warnings.warn(\n",
      "/g/data/xp65/public/apps/med_conda/envs/analysis3-25.08/lib/python3.11/site-packages/access_nri_intake/source/utils.py:241: UserWarning: Time coordinate does not include bounds information. Guessing start and end times.\n",
      "  warnings.warn(\n",
      "/g/data/xp65/public/apps/med_conda/envs/analysis3-25.08/lib/python3.11/site-packages/access_nri_intake/source/utils.py:241: UserWarning: Time coordinate does not include bounds information. Guessing start and end times.\n",
      "  warnings.warn(\n",
      "/g/data/xp65/public/apps/med_conda/envs/analysis3-25.08/lib/python3.11/site-packages/access_nri_intake/source/utils.py:241: UserWarning: Time coordinate does not include bounds information. Guessing start and end times.\n",
      "  warnings.warn(\n",
      "/g/data/xp65/public/apps/med_conda/envs/analysis3-25.08/lib/python3.11/site-packages/access_nri_intake/source/utils.py:241: UserWarning: Time coordinate does not include bounds information. Guessing start and end times.\n",
      "  warnings.warn(\n",
      "/g/data/xp65/public/apps/med_conda/envs/analysis3-25.08/lib/python3.11/site-packages/access_nri_intake/source/utils.py:241: UserWarning: Time coordinate does not include bounds information. Guessing start and end times.\n",
      "  warnings.warn(\n",
      "/g/data/xp65/public/apps/med_conda/envs/analysis3-25.08/lib/python3.11/site-packages/access_nri_intake/source/utils.py:241: UserWarning: Time coordinate does not include bounds information. Guessing start and end times.\n",
      "  warnings.warn(\n",
      "/g/data/xp65/public/apps/med_conda/envs/analysis3-25.08/lib/python3.11/site-packages/access_nri_intake/source/utils.py:241: UserWarning: Time coordinate does not include bounds information. Guessing start and end times.\n",
      "  warnings.warn(\n",
      "/g/data/xp65/public/apps/med_conda/envs/analysis3-25.08/lib/python3.11/site-packages/access_nri_intake/source/utils.py:241: UserWarning: Time coordinate does not include bounds information. Guessing start and end times.\n",
      "  warnings.warn(\n",
      "/g/data/xp65/public/apps/med_conda/envs/analysis3-25.08/lib/python3.11/site-packages/access_nri_intake/source/utils.py:241: UserWarning: Time coordinate does not include bounds information. Guessing start and end times.\n",
      "  warnings.warn(\n",
      "/g/data/xp65/public/apps/med_conda/envs/analysis3-25.08/lib/python3.11/site-packages/access_nri_intake/source/utils.py:241: UserWarning: Time coordinate does not include bounds information. Guessing start and end times.\n",
      "  warnings.warn(\n",
      "/g/data/xp65/public/apps/med_conda/envs/analysis3-25.08/lib/python3.11/site-packages/access_nri_intake/source/utils.py:241: UserWarning: Time coordinate does not include bounds information. Guessing start and end times.\n",
      "  warnings.warn(\n",
      "/g/data/xp65/public/apps/med_conda/envs/analysis3-25.08/lib/python3.11/site-packages/access_nri_intake/source/utils.py:241: UserWarning: Time coordinate does not include bounds information. Guessing start and end times.\n",
      "  warnings.warn(\n",
      "/g/data/xp65/public/apps/med_conda/envs/analysis3-25.08/lib/python3.11/site-packages/access_nri_intake/source/utils.py:241: UserWarning: Time coordinate does not include bounds information. Guessing start and end times.\n",
      "  warnings.warn(\n",
      "/g/data/xp65/public/apps/med_conda/envs/analysis3-25.08/lib/python3.11/site-packages/access_nri_intake/source/utils.py:241: UserWarning: Time coordinate does not include bounds information. Guessing start and end times.\n",
      "  warnings.warn(\n",
      "/g/data/xp65/public/apps/med_conda/envs/analysis3-25.08/lib/python3.11/site-packages/access_nri_intake/source/utils.py:241: UserWarning: Time coordinate does not include bounds information. Guessing start and end times.\n",
      "  warnings.warn(\n",
      "/g/data/xp65/public/apps/med_conda/envs/analysis3-25.08/lib/python3.11/site-packages/access_nri_intake/source/utils.py:241: UserWarning: Time coordinate does not include bounds information. Guessing start and end times.\n",
      "  warnings.warn(\n",
      "/g/data/xp65/public/apps/med_conda/envs/analysis3-25.08/lib/python3.11/site-packages/access_nri_intake/source/utils.py:241: UserWarning: Time coordinate does not include bounds information. Guessing start and end times.\n",
      "  warnings.warn(\n"
     ]
    },
    {
     "name": "stdout",
     "output_type": "stream",
     "text": [
      "CPU times: user 5.91 s, sys: 957 ms, total: 6.87 s\n",
      "Wall time: 1min 11s\n"
     ]
    }
   ],
   "source": [
    "%%time\n",
    "\n",
    "PATH = \"/g/data/ik11/outputs/access-om2/1deg_jra55_iaf_omip2_cycle6\" #Some example ACCESS-OM2 output\n",
    "\n",
    "builder = builders.AccessOm2Builder(\n",
    "    path=PATH\n",
    ").build()"
   ]
  },
  {
   "cell_type": "raw",
   "id": "3d83d2b9-f55a-47b2-bfe5-944d645a5b85",
   "metadata": {
    "scrolled": true,
    "tags": []
   },
   "source": [
    "# If using MOM6 standalone, just change the Builder used, e.g.:\n",
    "PATH = \"/g/data/ol01/outputs/mom6-panan/panant-01-zstar-ACCESSyr2\" #Some example MOM6-SIS2 output\n",
    "builder = builders.Mom6Builder(\n",
    "    path=PATH\n",
    ").build()"
   ]
  },
  {
   "cell_type": "markdown",
   "id": "e61775ac-a973-4cb0-a87f-b6a695b9e00d",
   "metadata": {},
   "source": [
    "The previous cell builds the Intake-ESM datastore in memory. We'll want to save it somewhere so we can reuse and share it. The following cell will create two new files (a `.json` and `.csv` file) in your current work directory. These files are how Intake-ESM datastores are stored on disk."
   ]
  },
  {
   "cell_type": "code",
   "execution_count": 3,
   "id": "7f4ed770-df35-4467-ab5e-ce9f8b8ec075",
   "metadata": {
    "tags": []
   },
   "outputs": [
    {
     "name": "stdout",
     "output_type": "stream",
     "text": [
      "Successfully wrote ESM catalog json file to: file:///home/603/as2285/mydatastore.json\n"
     ]
    }
   ],
   "source": [
    "builder.save(\n",
    "    name=\"mydatastore\", \n",
    "    description=\"An example datastore for ACCESS-OM2 ryf9091\",\n",
    ")"
   ]
  },
  {
   "cell_type": "markdown",
   "id": "1acbbe16-04a3-4a7c-bc30-3f2a4ec81fc9",
   "metadata": {
    "tags": []
   },
   "source": [
    "## Using your datastore"
   ]
  },
  {
   "cell_type": "markdown",
   "id": "e01ccb09-1783-4856-9648-f8ddcd863a80",
   "metadata": {},
   "source": [
    "Now we can use our Intake-ESM datastore to query and load the model data - see also the Intake-ESM documentation [here](https://intake-esm.readthedocs.io/en/stable/index.html).\n",
    "\n",
    "We can load the datastore directly using `intake`."
   ]
  },
  {
   "cell_type": "code",
   "execution_count": 4,
   "id": "029dd740-fa73-4403-b756-2dff8fd0a32f",
   "metadata": {
    "tags": []
   },
   "outputs": [
    {
     "data": {
      "text/html": [
       "<p><strong>mydatastore catalog with 11 dataset(s) from 2013 asset(s)</strong>:</p> <div>\n",
       "<style scoped>\n",
       "    .dataframe tbody tr th:only-of-type {\n",
       "        vertical-align: middle;\n",
       "    }\n",
       "\n",
       "    .dataframe tbody tr th {\n",
       "        vertical-align: top;\n",
       "    }\n",
       "\n",
       "    .dataframe thead th {\n",
       "        text-align: right;\n",
       "    }\n",
       "</style>\n",
       "<table border=\"1\" class=\"dataframe\">\n",
       "  <thead>\n",
       "    <tr style=\"text-align: right;\">\n",
       "      <th></th>\n",
       "      <th>unique</th>\n",
       "    </tr>\n",
       "  </thead>\n",
       "  <tbody>\n",
       "    <tr>\n",
       "      <th>filename</th>\n",
       "      <td>1473</td>\n",
       "    </tr>\n",
       "    <tr>\n",
       "      <th>path</th>\n",
       "      <td>2013</td>\n",
       "    </tr>\n",
       "    <tr>\n",
       "      <th>file_id</th>\n",
       "      <td>11</td>\n",
       "    </tr>\n",
       "    <tr>\n",
       "      <th>frequency</th>\n",
       "      <td>4</td>\n",
       "    </tr>\n",
       "    <tr>\n",
       "      <th>start_date</th>\n",
       "      <td>855</td>\n",
       "    </tr>\n",
       "    <tr>\n",
       "      <th>end_date</th>\n",
       "      <td>854</td>\n",
       "    </tr>\n",
       "    <tr>\n",
       "      <th>variable</th>\n",
       "      <td>338</td>\n",
       "    </tr>\n",
       "    <tr>\n",
       "      <th>variable_long_name</th>\n",
       "      <td>306</td>\n",
       "    </tr>\n",
       "    <tr>\n",
       "      <th>variable_standard_name</th>\n",
       "      <td>57</td>\n",
       "    </tr>\n",
       "    <tr>\n",
       "      <th>variable_cell_methods</th>\n",
       "      <td>6</td>\n",
       "    </tr>\n",
       "    <tr>\n",
       "      <th>variable_units</th>\n",
       "      <td>128</td>\n",
       "    </tr>\n",
       "    <tr>\n",
       "      <th>realm</th>\n",
       "      <td>2</td>\n",
       "    </tr>\n",
       "    <tr>\n",
       "      <th>derived_variable</th>\n",
       "      <td>0</td>\n",
       "    </tr>\n",
       "  </tbody>\n",
       "</table>\n",
       "</div>"
      ],
      "text/plain": [
       "<IPython.core.display.HTML object>"
      ]
     },
     "metadata": {},
     "output_type": "display_data"
    }
   ],
   "source": [
    "import intake\n",
    "\n",
    "esm_datastore = intake.open_esm_datastore(\n",
    "    \"./mydatastore.json\", \n",
    "    columns_with_iterables=[\n",
    "            \"variable\",\n",
    "            \"variable_long_name\",\n",
    "            \"variable_standard_name\",\n",
    "            \"variable_cell_methods\",\n",
    "            \"variable_units\",\n",
    "    ] # This is important\n",
    ")\n",
    "\n",
    "esm_datastore"
   ]
  },
  {
   "cell_type": "markdown",
   "id": "c9667b60-639b-4eb4-abf0-cb198ab2a9a0",
   "metadata": {},
   "source": [
    "It's easy to search for datasets in the datastore containing a particular variable and load them as xarray Datasets. (Note for analysing large datasets, you may want to first start a dask cluster)."
   ]
  },
  {
   "cell_type": "code",
   "execution_count": 5,
   "id": "f7377e3c-19db-4732-9da2-6e3d3460de71",
   "metadata": {
    "tags": []
   },
   "outputs": [
    {
     "name": "stderr",
     "output_type": "stream",
     "text": [
      "/g/data/xp65/public/apps/med_conda/envs/analysis3-25.08/lib/python3.11/site-packages/intake_esm/core.py:301: FutureWarning: When grouping with a length-1 list-like, you will need to pass a length-1 tuple to get_group in a future version of pandas. Pass `(name,)` instead of `name` to silence this warning.\n",
      "  records = grouped.get_group(internal_key).to_dict(orient='records')\n"
     ]
    }
   ],
   "source": [
    "ds = esm_datastore.search(variable=\"temp\", frequency=\"1mon\").to_dask()"
   ]
  },
  {
   "cell_type": "code",
   "execution_count": 6,
   "id": "896a9cc5-ac81-4fcb-a70f-3d4ee6d59682",
   "metadata": {
    "tags": []
   },
   "outputs": [
    {
     "data": {
      "text/plain": [
       "<matplotlib.collections.QuadMesh at 0x14a2dd0e1850>"
      ]
     },
     "execution_count": 6,
     "metadata": {},
     "output_type": "execute_result"
    },
    {
     "data": {
      "image/png": "[encoded data removed]",
      "text/plain": [
       "<Figure size 640x480 with 2 Axes>"
      ]
     },
     "metadata": {},
     "output_type": "display_data"
    }
   ],
   "source": [
    "ds[\"temp\"].isel(time=-1, st_ocean=0).plot()"
   ]
  },
  {
   "cell_type": "markdown",
   "id": "0fcbcf73-42ed-4920-88a0-5a7b5f07f11c",
   "metadata": {},
   "source": [
    "If you think your ACCESS model data is worth sharing more widely, it might be a good idea to include it in the ACCESS-NRI Intake catalog. Please open an issue here to discuss: https://github.com/ACCESS-NRI/access-nri-intake-catalog/issues/new/choose"
   ]
  },
  {
   "cell_type": "markdown",
   "id": "39e4246a-1494-4145-9280-3152325f56b9",
   "metadata": {},
   "source": [
    "# 2. The convenience method: `use_datastore`\n",
    "\n",
    "\n",
    "With the `access-nri-intake` v1.1.1 release, it is now possible to build and load datastores, all in a single step.\n",
    "To do so, we use the `use_datastore` function.\n",
    "\n",
    "The `use_datastore` function will check for a datastore in the directory you specify to place the catalog: `catalog_dir`. If one is found, it will verify whether it needs updating - for example, if a model run has been updated with new outputs. If so, the datastore will be updated and opened - if not, the existing datastore will be opened."
   ]
  },
  {
   "cell_type": "code",
   "execution_count": 7,
   "id": "00b47f8d-bc68-4801-9a30-4d1aa26176d8",
   "metadata": {},
   "outputs": [
    {
     "name": "stdout",
     "output_type": "stream",
     "text": [
      "Help on function use_datastore in module access_nri_intake.experiment.main:\n",
      "\n",
      "use_datastore(experiment_dir: pathlib.Path | str, builder: ecgtools.builder.Builder | None = None, catalog_dir: pathlib.Path | str | None = None, builder_kwargs: dict | None = None, open_ds: bool = True, datastore_name: str = 'experiment_datastore', description: str | None = None) -> intake_esm.core.esm_datastore | None\n",
      "    Specify a builder and an experiment directory in order to build and/or open\n",
      "    an esm-datastore in place for that experiment. Valid and up to date datastores\n",
      "    will not be overwritten.\n",
      "    \n",
      "    Further configuration can be done by passing additional keyword arguments\n",
      "    \n",
      "    Parameters\n",
      "    ----------\n",
      "    builder : Builder\n",
      "        The builder object that will be used to build the datastore.\n",
      "    experiment_dir : Path | str\n",
      "        The directory containing the experiment. If a string is passed, it will be\n",
      "        converted to a Path object.\n",
      "    catalog_dir : Path | str, optional\n",
      "        The directory containing/to write the catalog to, if it differs from the\n",
      "        experiment directory. If None, the catalog will be written to the experiment\n",
      "        directory. If a string is passed, it will be converted to a Path object.\n",
      "    open_ds : bool\n",
      "        Whether to open the datastore after building it. Typically set to false\n",
      "        when called from a console script.\n",
      "    builder_kwargs : dict, optional\n",
      "        Any additional keyword arguments to pass to the builder if needed - for\n",
      "        example, AccessEsm15Builder additionally takes an `ensemble` argument\n",
      "    datastore_name : str, optional\n",
      "        The name of the datastore to be written. Defaults to 'experiment_datastore'.\n",
      "        Datastores are written as `catalog_dir / datastore_name.json`.\n",
      "    description : str, optional\n",
      "        A description of the datastore. If None, a default description will be used.\n",
      "    \n",
      "    Returns\n",
      "    -------\n",
      "    esm_datastore | None\n",
      "        The datastore object, if it was requested to be opened. Otherwise, None.\n",
      "    \n",
      "    Raises\n",
      "    ------\n",
      "    TBC\n",
      "\n"
     ]
    }
   ],
   "source": [
    "from access_nri_intake.experiment import use_datastore\n",
    "\n",
    "help(use_datastore)"
   ]
  },
  {
   "cell_type": "markdown",
   "id": "5fe00ef5-601d-438e-bb30-4a2ff5ea068d",
   "metadata": {},
   "source": [
    "When calling `use_datastore`, you can:\n",
    "1. Not specify `catalog_dir`. If you do so, the catalog will be built in the `experiment_dir`. \n",
    "   - If you follow this approach, we recommend *not* configuring `datastore_name` - this will default to `experiment_datastore`(`.json`). This can be handy if you want to build an esm-datastore that you want to add to the main access-nri intake catalog easily.\n",
    "2. Specify `catalog_dir`. If you do so, we recommend:\n",
    "    - Creating a directory somewhere that you wish to keep these esm-datastores - likely a subdirectory within your home directory.\n",
    "    - Specifying `datastore_name` - all esm-datastores in the same directory must have unique names.\n",
    "\n",
    "\n",
    "Approach 1. may be more useful if you a. know where the experiment output is located, and b. would like to add your output to the main catalog eventually.\n",
    "\n",
    "Approach 2. may be more useful if you want to a. create a throwaway datastore, and b. have it be easily accessible whilst you work on it - and especially if you want to create multiple throwaway datastores. It may also be useful if you do not have write permissions to the directory where the model output is saved.\n",
    "\n",
    "Note that in Approach 2, you will still require the experiment output path if you want to update the datastore - however, you can use the `intake.open_esm_datastore` method above to open it without checking for updates.\n",
    "\n",
    "___\n",
    "\n",
    "In this tutorial, we follow Approach 2, demonstrating how to build and update the same datastore above, saving it to a subdirectory within our home directory."
   ]
  },
  {
   "cell_type": "code",
   "execution_count": 8,
   "id": "80d141df-4f69-459a-9e33-ed9da45777d6",
   "metadata": {
    "scrolled": true
   },
   "outputs": [
    {
     "name": "stdout",
     "output_type": "stream",
     "text": [
      "\u001b[32m\u001b[22mGenerating esm-datastore for /g/data/ik11/outputs/access-om2/1deg_jra55_iaf_omip2_cycle6\u001b[0m\n",
      "\u001b[34m\u001b[22mBuilding esm-datastore...\u001b[0m\n"
     ]
    },
    {
     "name": "stderr",
     "output_type": "stream",
     "text": [
      "/g/data/xp65/public/apps/med_conda/envs/analysis3-25.08/lib/python3.11/site-packages/access_nri_intake/source/utils.py:241: UserWarning: Time coordinate does not include bounds information. Guessing start and end times.\n",
      "  warnings.warn(\n",
      "/g/data/xp65/public/apps/med_conda/envs/analysis3-25.08/lib/python3.11/site-packages/access_nri_intake/source/utils.py:241: UserWarning: Time coordinate does not include bounds information. Guessing start and end times.\n",
      "  warnings.warn(\n",
      "/g/data/xp65/public/apps/med_conda/envs/analysis3-25.08/lib/python3.11/site-packages/access_nri_intake/source/utils.py:241: UserWarning: Time coordinate does not include bounds information. Guessing start and end times.\n",
      "  warnings.warn(\n",
      "/g/data/xp65/public/apps/med_conda/envs/analysis3-25.08/lib/python3.11/site-packages/access_nri_intake/source/utils.py:241: UserWarning: Time coordinate does not include bounds information. Guessing start and end times.\n",
      "  warnings.warn(\n",
      "/g/data/xp65/public/apps/med_conda/envs/analysis3-25.08/lib/python3.11/site-packages/access_nri_intake/source/utils.py:241: UserWarning: Time coordinate does not include bounds information. Guessing start and end times.\n",
      "  warnings.warn(\n",
      "/g/data/xp65/public/apps/med_conda/envs/analysis3-25.08/lib/python3.11/site-packages/access_nri_intake/source/utils.py:241: UserWarning: Time coordinate does not include bounds information. Guessing start and end times.\n",
      "  warnings.warn(\n",
      "/g/data/xp65/public/apps/med_conda/envs/analysis3-25.08/lib/python3.11/site-packages/access_nri_intake/source/utils.py:241: UserWarning: Time coordinate does not include bounds information. Guessing start and end times.\n",
      "  warnings.warn(\n",
      "/g/data/xp65/public/apps/med_conda/envs/analysis3-25.08/lib/python3.11/site-packages/access_nri_intake/source/utils.py:241: UserWarning: Time coordinate does not include bounds information. Guessing start and end times.\n",
      "  warnings.warn(\n",
      "/g/data/xp65/public/apps/med_conda/envs/analysis3-25.08/lib/python3.11/site-packages/access_nri_intake/source/utils.py:241: UserWarning: Time coordinate does not include bounds information. Guessing start and end times.\n",
      "  warnings.warn(\n",
      "/g/data/xp65/public/apps/med_conda/envs/analysis3-25.08/lib/python3.11/site-packages/access_nri_intake/source/utils.py:241: UserWarning: Time coordinate does not include bounds information. Guessing start and end times.\n",
      "  warnings.warn(\n",
      "/g/data/xp65/public/apps/med_conda/envs/analysis3-25.08/lib/python3.11/site-packages/access_nri_intake/source/utils.py:241: UserWarning: Time coordinate does not include bounds information. Guessing start and end times.\n",
      "  warnings.warn(\n",
      "/g/data/xp65/public/apps/med_conda/envs/analysis3-25.08/lib/python3.11/site-packages/access_nri_intake/source/utils.py:241: UserWarning: Time coordinate does not include bounds information. Guessing start and end times.\n",
      "  warnings.warn(\n",
      "/g/data/xp65/public/apps/med_conda/envs/analysis3-25.08/lib/python3.11/site-packages/access_nri_intake/source/utils.py:241: UserWarning: Time coordinate does not include bounds information. Guessing start and end times.\n",
      "  warnings.warn(\n",
      "/g/data/xp65/public/apps/med_conda/envs/analysis3-25.08/lib/python3.11/site-packages/access_nri_intake/source/utils.py:241: UserWarning: Time coordinate does not include bounds information. Guessing start and end times.\n",
      "  warnings.warn(\n",
      "/g/data/xp65/public/apps/med_conda/envs/analysis3-25.08/lib/python3.11/site-packages/access_nri_intake/source/utils.py:241: UserWarning: Time coordinate does not include bounds information. Guessing start and end times.\n",
      "  warnings.warn(\n",
      "/g/data/xp65/public/apps/med_conda/envs/analysis3-25.08/lib/python3.11/site-packages/access_nri_intake/source/utils.py:241: UserWarning: Time coordinate does not include bounds information. Guessing start and end times.\n",
      "  warnings.warn(\n",
      "/g/data/xp65/public/apps/med_conda/envs/analysis3-25.08/lib/python3.11/site-packages/access_nri_intake/source/utils.py:241: UserWarning: Time coordinate does not include bounds information. Guessing start and end times.\n",
      "  warnings.warn(\n",
      "/g/data/xp65/public/apps/med_conda/envs/analysis3-25.08/lib/python3.11/site-packages/access_nri_intake/source/utils.py:241: UserWarning: Time coordinate does not include bounds information. Guessing start and end times.\n",
      "  warnings.warn(\n",
      "/g/data/xp65/public/apps/med_conda/envs/analysis3-25.08/lib/python3.11/site-packages/access_nri_intake/source/utils.py:241: UserWarning: Time coordinate does not include bounds information. Guessing start and end times.\n",
      "  warnings.warn(\n",
      "/g/data/xp65/public/apps/med_conda/envs/analysis3-25.08/lib/python3.11/site-packages/access_nri_intake/source/utils.py:241: UserWarning: Time coordinate does not include bounds information. Guessing start and end times.\n",
      "  warnings.warn(\n",
      "/g/data/xp65/public/apps/med_conda/envs/analysis3-25.08/lib/python3.11/site-packages/access_nri_intake/source/utils.py:241: UserWarning: Time coordinate does not include bounds information. Guessing start and end times.\n",
      "  warnings.warn(\n",
      "/g/data/xp65/public/apps/med_conda/envs/analysis3-25.08/lib/python3.11/site-packages/access_nri_intake/source/utils.py:241: UserWarning: Time coordinate does not include bounds information. Guessing start and end times.\n",
      "  warnings.warn(\n",
      "/g/data/xp65/public/apps/med_conda/envs/analysis3-25.08/lib/python3.11/site-packages/access_nri_intake/source/utils.py:241: UserWarning: Time coordinate does not include bounds information. Guessing start and end times.\n",
      "  warnings.warn(\n",
      "/g/data/xp65/public/apps/med_conda/envs/analysis3-25.08/lib/python3.11/site-packages/access_nri_intake/source/utils.py:241: UserWarning: Time coordinate does not include bounds information. Guessing start and end times.\n",
      "  warnings.warn(\n",
      "/g/data/xp65/public/apps/med_conda/envs/analysis3-25.08/lib/python3.11/site-packages/access_nri_intake/source/utils.py:241: UserWarning: Time coordinate does not include bounds information. Guessing start and end times.\n",
      "  warnings.warn(\n",
      "/g/data/xp65/public/apps/med_conda/envs/analysis3-25.08/lib/python3.11/site-packages/access_nri_intake/source/utils.py:241: UserWarning: Time coordinate does not include bounds information. Guessing start and end times.\n",
      "  warnings.warn(\n",
      "/g/data/xp65/public/apps/med_conda/envs/analysis3-25.08/lib/python3.11/site-packages/access_nri_intake/source/utils.py:241: UserWarning: Time coordinate does not include bounds information. Guessing start and end times.\n",
      "  warnings.warn(\n",
      "/g/data/xp65/public/apps/med_conda/envs/analysis3-25.08/lib/python3.11/site-packages/access_nri_intake/source/utils.py:241: UserWarning: Time coordinate does not include bounds information. Guessing start and end times.\n",
      "  warnings.warn(\n",
      "/g/data/xp65/public/apps/med_conda/envs/analysis3-25.08/lib/python3.11/site-packages/access_nri_intake/source/utils.py:241: UserWarning: Time coordinate does not include bounds information. Guessing start and end times.\n",
      "  warnings.warn(\n",
      "/g/data/xp65/public/apps/med_conda/envs/analysis3-25.08/lib/python3.11/site-packages/access_nri_intake/source/utils.py:241: UserWarning: Time coordinate does not include bounds information. Guessing start and end times.\n",
      "  warnings.warn(\n",
      "/g/data/xp65/public/apps/med_conda/envs/analysis3-25.08/lib/python3.11/site-packages/access_nri_intake/source/utils.py:241: UserWarning: Time coordinate does not include bounds information. Guessing start and end times.\n",
      "  warnings.warn(\n",
      "/g/data/xp65/public/apps/med_conda/envs/analysis3-25.08/lib/python3.11/site-packages/access_nri_intake/source/utils.py:241: UserWarning: Time coordinate does not include bounds information. Guessing start and end times.\n",
      "  warnings.warn(\n",
      "/g/data/xp65/public/apps/med_conda/envs/analysis3-25.08/lib/python3.11/site-packages/access_nri_intake/source/utils.py:241: UserWarning: Time coordinate does not include bounds information. Guessing start and end times.\n",
      "  warnings.warn(\n",
      "/g/data/xp65/public/apps/med_conda/envs/analysis3-25.08/lib/python3.11/site-packages/access_nri_intake/source/utils.py:241: UserWarning: Time coordinate does not include bounds information. Guessing start and end times.\n",
      "  warnings.warn(\n",
      "/g/data/xp65/public/apps/med_conda/envs/analysis3-25.08/lib/python3.11/site-packages/access_nri_intake/source/utils.py:241: UserWarning: Time coordinate does not include bounds information. Guessing start and end times.\n",
      "  warnings.warn(\n",
      "/g/data/xp65/public/apps/med_conda/envs/analysis3-25.08/lib/python3.11/site-packages/access_nri_intake/source/utils.py:241: UserWarning: Time coordinate does not include bounds information. Guessing start and end times.\n",
      "  warnings.warn(\n",
      "/g/data/xp65/public/apps/med_conda/envs/analysis3-25.08/lib/python3.11/site-packages/access_nri_intake/source/utils.py:241: UserWarning: Time coordinate does not include bounds information. Guessing start and end times.\n",
      "  warnings.warn(\n",
      "/g/data/xp65/public/apps/med_conda/envs/analysis3-25.08/lib/python3.11/site-packages/access_nri_intake/source/utils.py:241: UserWarning: Time coordinate does not include bounds information. Guessing start and end times.\n",
      "  warnings.warn(\n",
      "/g/data/xp65/public/apps/med_conda/envs/analysis3-25.08/lib/python3.11/site-packages/access_nri_intake/source/utils.py:241: UserWarning: Time coordinate does not include bounds information. Guessing start and end times.\n",
      "  warnings.warn(\n",
      "/g/data/xp65/public/apps/med_conda/envs/analysis3-25.08/lib/python3.11/site-packages/access_nri_intake/source/utils.py:241: UserWarning: Time coordinate does not include bounds information. Guessing start and end times.\n",
      "  warnings.warn(\n",
      "/g/data/xp65/public/apps/med_conda/envs/analysis3-25.08/lib/python3.11/site-packages/access_nri_intake/source/utils.py:241: UserWarning: Time coordinate does not include bounds information. Guessing start and end times.\n",
      "  warnings.warn(\n",
      "/g/data/xp65/public/apps/med_conda/envs/analysis3-25.08/lib/python3.11/site-packages/access_nri_intake/source/utils.py:241: UserWarning: Time coordinate does not include bounds information. Guessing start and end times.\n",
      "  warnings.warn(\n",
      "/g/data/xp65/public/apps/med_conda/envs/analysis3-25.08/lib/python3.11/site-packages/access_nri_intake/source/utils.py:241: UserWarning: Time coordinate does not include bounds information. Guessing start and end times.\n",
      "  warnings.warn(\n",
      "/g/data/xp65/public/apps/med_conda/envs/analysis3-25.08/lib/python3.11/site-packages/access_nri_intake/source/utils.py:241: UserWarning: Time coordinate does not include bounds information. Guessing start and end times.\n",
      "  warnings.warn(\n",
      "/g/data/xp65/public/apps/med_conda/envs/analysis3-25.08/lib/python3.11/site-packages/access_nri_intake/source/utils.py:241: UserWarning: Time coordinate does not include bounds information. Guessing start and end times.\n",
      "  warnings.warn(\n",
      "/g/data/xp65/public/apps/med_conda/envs/analysis3-25.08/lib/python3.11/site-packages/access_nri_intake/source/utils.py:241: UserWarning: Time coordinate does not include bounds information. Guessing start and end times.\n",
      "  warnings.warn(\n",
      "/g/data/xp65/public/apps/med_conda/envs/analysis3-25.08/lib/python3.11/site-packages/access_nri_intake/source/utils.py:241: UserWarning: Time coordinate does not include bounds information. Guessing start and end times.\n",
      "  warnings.warn(\n",
      "/g/data/xp65/public/apps/med_conda/envs/analysis3-25.08/lib/python3.11/site-packages/access_nri_intake/source/utils.py:241: UserWarning: Time coordinate does not include bounds information. Guessing start and end times.\n",
      "  warnings.warn(\n",
      "/g/data/xp65/public/apps/med_conda/envs/analysis3-25.08/lib/python3.11/site-packages/access_nri_intake/source/utils.py:241: UserWarning: Time coordinate does not include bounds information. Guessing start and end times.\n",
      "  warnings.warn(\n",
      "/g/data/xp65/public/apps/med_conda/envs/analysis3-25.08/lib/python3.11/site-packages/access_nri_intake/source/utils.py:241: UserWarning: Time coordinate does not include bounds information. Guessing start and end times.\n",
      "  warnings.warn(\n",
      "/g/data/xp65/public/apps/med_conda/envs/analysis3-25.08/lib/python3.11/site-packages/access_nri_intake/source/utils.py:241: UserWarning: Time coordinate does not include bounds information. Guessing start and end times.\n",
      "  warnings.warn(\n",
      "/g/data/xp65/public/apps/med_conda/envs/analysis3-25.08/lib/python3.11/site-packages/access_nri_intake/source/utils.py:241: UserWarning: Time coordinate does not include bounds information. Guessing start and end times.\n",
      "  warnings.warn(\n",
      "/g/data/xp65/public/apps/med_conda/envs/analysis3-25.08/lib/python3.11/site-packages/access_nri_intake/source/utils.py:241: UserWarning: Time coordinate does not include bounds information. Guessing start and end times.\n",
      "  warnings.warn(\n",
      "/g/data/xp65/public/apps/med_conda/envs/analysis3-25.08/lib/python3.11/site-packages/access_nri_intake/source/utils.py:241: UserWarning: Time coordinate does not include bounds information. Guessing start and end times.\n",
      "  warnings.warn(\n",
      "/g/data/xp65/public/apps/med_conda/envs/analysis3-25.08/lib/python3.11/site-packages/access_nri_intake/source/utils.py:241: UserWarning: Time coordinate does not include bounds information. Guessing start and end times.\n",
      "  warnings.warn(\n",
      "/g/data/xp65/public/apps/med_conda/envs/analysis3-25.08/lib/python3.11/site-packages/access_nri_intake/source/utils.py:241: UserWarning: Time coordinate does not include bounds information. Guessing start and end times.\n",
      "  warnings.warn(\n",
      "/g/data/xp65/public/apps/med_conda/envs/analysis3-25.08/lib/python3.11/site-packages/access_nri_intake/source/utils.py:241: UserWarning: Time coordinate does not include bounds information. Guessing start and end times.\n",
      "  warnings.warn(\n",
      "/g/data/xp65/public/apps/med_conda/envs/analysis3-25.08/lib/python3.11/site-packages/access_nri_intake/source/utils.py:241: UserWarning: Time coordinate does not include bounds information. Guessing start and end times.\n",
      "  warnings.warn(\n",
      "/g/data/xp65/public/apps/med_conda/envs/analysis3-25.08/lib/python3.11/site-packages/access_nri_intake/source/utils.py:241: UserWarning: Time coordinate does not include bounds information. Guessing start and end times.\n",
      "  warnings.warn(\n",
      "/g/data/xp65/public/apps/med_conda/envs/analysis3-25.08/lib/python3.11/site-packages/access_nri_intake/source/utils.py:241: UserWarning: Time coordinate does not include bounds information. Guessing start and end times.\n",
      "  warnings.warn(\n",
      "/g/data/xp65/public/apps/med_conda/envs/analysis3-25.08/lib/python3.11/site-packages/access_nri_intake/source/utils.py:241: UserWarning: Time coordinate does not include bounds information. Guessing start and end times.\n",
      "  warnings.warn(\n"
     ]
    },
    {
     "name": "stdout",
     "output_type": "stream",
     "text": [
      "\u001b[32m\u001b[22mSucessfully built esm-datastore!\u001b[0m\n",
      "\u001b[34m\u001b[22mSaving esm-datastore to \u001b[36m\u001b[1m/home/603/as2285/catalog_dir\u001b[0m\n",
      "Successfully wrote ESM catalog json file to: file:///home/603/as2285/catalog_dir/demo_datastore.json\n",
      "\u001b[34m\u001b[22mHashing catalog to prevent unnecessary rebuilds.\n",
      "This may take some time...\u001b[0m\n",
      "\u001b[32m\u001b[22mCatalog sucessfully hashed!\u001b[0m\n",
      "\u001b[32m\u001b[22mDatastore sucessfully written to \u001b[36m\u001b[1m/home/603/as2285/catalog_dir/demo_datastore.json\u001b[32m\u001b[22m!\n",
      "\u001b[34m\u001b[22mPlease note that this has not added the datastore to the access-nri-intake catalog.\n",
      "To add to catalog, please run '\u001b[37m\u001b[1mscaffold_catalog_entry\u001b[34m\u001b[22m' for help on how to do so.\n"
     ]
    },
    {
     "data": {
      "text/html": [
       "<p><strong>demo_datastore catalog with 11 dataset(s) from 2013 asset(s)</strong>:</p> <div>\n",
       "<style scoped>\n",
       "    .dataframe tbody tr th:only-of-type {\n",
       "        vertical-align: middle;\n",
       "    }\n",
       "\n",
       "    .dataframe tbody tr th {\n",
       "        vertical-align: top;\n",
       "    }\n",
       "\n",
       "    .dataframe thead th {\n",
       "        text-align: right;\n",
       "    }\n",
       "</style>\n",
       "<table border=\"1\" class=\"dataframe\">\n",
       "  <thead>\n",
       "    <tr style=\"text-align: right;\">\n",
       "      <th></th>\n",
       "      <th>unique</th>\n",
       "    </tr>\n",
       "  </thead>\n",
       "  <tbody>\n",
       "    <tr>\n",
       "      <th>filename</th>\n",
       "      <td>1473</td>\n",
       "    </tr>\n",
       "    <tr>\n",
       "      <th>path</th>\n",
       "      <td>2013</td>\n",
       "    </tr>\n",
       "    <tr>\n",
       "      <th>file_id</th>\n",
       "      <td>11</td>\n",
       "    </tr>\n",
       "    <tr>\n",
       "      <th>frequency</th>\n",
       "      <td>4</td>\n",
       "    </tr>\n",
       "    <tr>\n",
       "      <th>start_date</th>\n",
       "      <td>855</td>\n",
       "    </tr>\n",
       "    <tr>\n",
       "      <th>end_date</th>\n",
       "      <td>854</td>\n",
       "    </tr>\n",
       "    <tr>\n",
       "      <th>variable</th>\n",
       "      <td>338</td>\n",
       "    </tr>\n",
       "    <tr>\n",
       "      <th>variable_long_name</th>\n",
       "      <td>11</td>\n",
       "    </tr>\n",
       "    <tr>\n",
       "      <th>variable_standard_name</th>\n",
       "      <td>11</td>\n",
       "    </tr>\n",
       "    <tr>\n",
       "      <th>variable_cell_methods</th>\n",
       "      <td>11</td>\n",
       "    </tr>\n",
       "    <tr>\n",
       "      <th>variable_units</th>\n",
       "      <td>131</td>\n",
       "    </tr>\n",
       "    <tr>\n",
       "      <th>realm</th>\n",
       "      <td>2</td>\n",
       "    </tr>\n",
       "    <tr>\n",
       "      <th>derived_variable</th>\n",
       "      <td>0</td>\n",
       "    </tr>\n",
       "  </tbody>\n",
       "</table>\n",
       "</div>"
      ],
      "text/plain": [
       "<IPython.core.display.HTML object>"
      ]
     },
     "metadata": {},
     "output_type": "display_data"
    }
   ],
   "source": [
    "from pathlib import Path\n",
    "\n",
    "EXPERIMENT_DIR = PATH # Path to experiment to catalog\n",
    "BUILDER = builders.AccessOm2Builder # Builder for the model type run\n",
    "CATALOG_DIR = Path(\"~/catalog_dir\").expanduser() # We'll save our datastore in a directory called catalog_dir in our home dir\n",
    "DATASTORE_NAME = \"demo_datastore\"\n",
    "\n",
    "# If catalog_dir doesn't exist, make it. If there is a file called `catalog_dir`, we'll need to delete it.\n",
    "if not CATALOG_DIR.exists() and not CATALOG_DIR.is_file():\n",
    "    CATALOG_DIR.mkdir() \n",
    "elif CATALOG_DIR.exists() and CATALOG_DIR.is_file():\n",
    "    raise RuntimeError(\"Please remove the file named 'catalog_dir' in your home directory\")\n",
    "\n",
    "\n",
    "esm_ds = use_datastore(\n",
    "    builder=BUILDER,\n",
    "    experiment_dir=EXPERIMENT_DIR,\n",
    "    catalog_dir=CATALOG_DIR,\n",
    "    datastore_name=DATASTORE_NAME\n",
    ")\n",
    "\n",
    "esm_ds"
   ]
  },
  {
   "cell_type": "code",
   "execution_count": 9,
   "id": "23f498b7-a2a7-4bc4-ac9b-ba5fda58b74b",
   "metadata": {},
   "outputs": [
    {
     "name": "stdout",
     "output_type": "stream",
     "text": [
      "\u001b[34m\u001b[22mDatastore found in \u001b[36m\u001b[1m/home/603/as2285/catalog_dir\u001b[34m\u001b[22m, verifying datastore integrity...\u001b[0m\n",
      "\u001b[34m\u001b[22mParsing experiment dir...\u001b[0m\n",
      "\u001b[32m\u001b[22mDatastore integrity verified!\u001b[0m\n",
      "\u001b[32m\u001b[22mDatastore found in \u001b[36m\u001b[1m/home/603/as2285/catalog_dir/demo_datastore.json\u001b[32m\u001b[22m!\n",
      "\u001b[34m\u001b[22mPlease note that this has not added the datastore to the access-nri-intake catalog.\n",
      "To add to catalog, please run '\u001b[37m\u001b[1mscaffold_catalog_entry\u001b[34m\u001b[22m' for help on how to do so.\n"
     ]
    },
    {
     "data": {
      "text/html": [
       "<p><strong>demo_datastore catalog with 11 dataset(s) from 2013 asset(s)</strong>:</p> <div>\n",
       "<style scoped>\n",
       "    .dataframe tbody tr th:only-of-type {\n",
       "        vertical-align: middle;\n",
       "    }\n",
       "\n",
       "    .dataframe tbody tr th {\n",
       "        vertical-align: top;\n",
       "    }\n",
       "\n",
       "    .dataframe thead th {\n",
       "        text-align: right;\n",
       "    }\n",
       "</style>\n",
       "<table border=\"1\" class=\"dataframe\">\n",
       "  <thead>\n",
       "    <tr style=\"text-align: right;\">\n",
       "      <th></th>\n",
       "      <th>unique</th>\n",
       "    </tr>\n",
       "  </thead>\n",
       "  <tbody>\n",
       "    <tr>\n",
       "      <th>filename</th>\n",
       "      <td>1473</td>\n",
       "    </tr>\n",
       "    <tr>\n",
       "      <th>path</th>\n",
       "      <td>2013</td>\n",
       "    </tr>\n",
       "    <tr>\n",
       "      <th>file_id</th>\n",
       "      <td>11</td>\n",
       "    </tr>\n",
       "    <tr>\n",
       "      <th>frequency</th>\n",
       "      <td>4</td>\n",
       "    </tr>\n",
       "    <tr>\n",
       "      <th>start_date</th>\n",
       "      <td>855</td>\n",
       "    </tr>\n",
       "    <tr>\n",
       "      <th>end_date</th>\n",
       "      <td>854</td>\n",
       "    </tr>\n",
       "    <tr>\n",
       "      <th>variable</th>\n",
       "      <td>338</td>\n",
       "    </tr>\n",
       "    <tr>\n",
       "      <th>variable_long_name</th>\n",
       "      <td>11</td>\n",
       "    </tr>\n",
       "    <tr>\n",
       "      <th>variable_standard_name</th>\n",
       "      <td>11</td>\n",
       "    </tr>\n",
       "    <tr>\n",
       "      <th>variable_cell_methods</th>\n",
       "      <td>11</td>\n",
       "    </tr>\n",
       "    <tr>\n",
       "      <th>variable_units</th>\n",
       "      <td>131</td>\n",
       "    </tr>\n",
       "    <tr>\n",
       "      <th>realm</th>\n",
       "      <td>2</td>\n",
       "    </tr>\n",
       "    <tr>\n",
       "      <th>derived_variable</th>\n",
       "      <td>0</td>\n",
       "    </tr>\n",
       "  </tbody>\n",
       "</table>\n",
       "</div>"
      ],
      "text/plain": [
       "<IPython.core.display.HTML object>"
      ]
     },
     "metadata": {},
     "output_type": "display_data"
    }
   ],
   "source": [
    "# If we run the function again, it should pick up our existing datastore - and not rebuild it, saving time! \n",
    "esm_ds = use_datastore(\n",
    "    builder=BUILDER,\n",
    "    experiment_dir=EXPERIMENT_DIR,\n",
    "    catalog_dir=CATALOG_DIR,\n",
    "    datastore_name=DATASTORE_NAME\n",
    ")\n",
    "\n",
    "esm_ds"
   ]
  },
  {
   "cell_type": "markdown",
   "id": "2a7ea305-5105-4005-950b-0e3b29903e91",
   "metadata": {},
   "source": [
    "Note that you can additionally access this functionality from the terminal, using the `build-esm-datastore` tool:\n",
    "___\n",
    "```bash\n",
    "$ module use /g/data/xp65/public/modules\n",
    "$ module load conda/analysis3-25.02\n",
    "$ build-esm-datastore --help\n",
    "usage: build-esm-datastore [-h] [--builder BUILDER] [--builder-kwargs [BUILDER_KWARGS ...]] [--expt-dir EXPT_DIR] [--cat-dir CAT_DIR] [--datastore-name DATASTORE_NAME]\n",
    "                           [--description DESCRIPTION]\n",
    "\n",
    "Build an esm-datastore by inspecting a directory containing model outputs. If no datastore exists, a new one will be created. If a datastore exists, its integrity will be\n",
    "verified, and the datastore regenerated if necessary.\n",
    "\n",
    "options:\n",
    "  -h, --help            show this help message and exit\n",
    "  --builder BUILDER     Builder to use to create the esm-datastore. Builders are defined the source.builders module. Currently available options are: AccessOm2Builder,\n",
    "                        AccessOm3Builder, Mom6Builder, AccessEsm15Builder, AccessCm2Builder. To build a datastore for a new model, please contact the ACCESS-NRI team.\n",
    "  --builder-kwargs [BUILDER_KWARGS ...]\n",
    "                        Additional keyword arguments to pass to the builder. Should be in the form of key=value.\n",
    "  --expt-dir EXPT_DIR   Directory containing the model outputs to be added to the esm-datastore. Defaults to the current working directory. Although builders support adding\n",
    "                        multiple directories, this tool only supports one directory at a time - at present.\n",
    "  --cat-dir CAT_DIR     Directory in which to place the catalog.json file. Defaults to the value of --expt-dir if not set.\n",
    "  --datastore-name DATASTORE_NAME\n",
    "                        Name of the datastore to use. If not provided, this will default to 'experiment_datastore'.\n",
    "  --description DESCRIPTION\n",
    "                        Description of the datastore. If not provided, a default description will be used: 'esm_datastore for the model output in {--expt-dir}'\n",
    "\n",
    "# Lets build the same datastore as above, but from the terminal\n",
    "\n",
    "$ build-esm-datastore --builder AccessOm2Builder --expt-dir /g/data/ik11/outputs/access-om2/1deg_jra55_iaf_omip2_cycle6 --cat-dir ~/catalog_dir\n",
    "\n",
    "Datastore found in /home/189/ct1163/catalog_dir, verifying datastore integrity...\n",
    "Parsing experiment dir...\n",
    "Datastore integrity verified!\n",
    "Datastore found in /home/189/ct1163/catalog_dir/experiment_datastore.json!\n",
    "Please note that this has not added the datastore to the access-nri-intake catalog.\n",
    "To add to catalog, please run 'scaffold-catalog-entry' for help on how to do so.\n",
    "To open the datastore, run `intake.open_esm_datastore('/home/189/ct1163/catalog_dir/experiment_datastore.json', columns_with_iterables=['variable'])` in a Python session.\n",
    "   \n",
    "```\n",
    "___\n",
    "\n",
    "Note that we only know *for sure, for every datastore* that the `variable` column has iterables in it - hence the instruction above. "
   ]
  },
  {
   "cell_type": "markdown",
   "id": "bcbfc90d-1ca5-45d1-a5d7-5c76dbb3e9e8",
   "metadata": {},
   "source": [
    "You can additionally use `qsub` to submit a build-esm-datastore job to the compute nodes: if you wish to build datastores from the terminal, this is the preferred way to do so. The sample PBS script below shows how to do this:\n",
    "\n",
    "```bash\n",
    "$ cat build_my_datastore.sh\n",
    "\n",
    "#!/bin/bash -l\n",
    "\n",
    "#PBS -P iq82\n",
    "#PBS -l storage=gdata/xp65+gdata/ik11+gdata/cj50+gdata/p73+gdata/dk92+gdata/al33+gdata/rr3+gdata/fs38+gdata/oi10+gdata/hq89+gdata/py18+gdata/ig45+gdata/zz63+gdata/rt52 # Change these as necessary.\n",
    "#PBS -q normal\n",
    "#PBS -W block=true\n",
    "#PBS -l walltime=00:10:00\n",
    "#PBS -l mem=32gb\n",
    "#PBS -l ncpus=7\n",
    "#PBS -l wd\n",
    "#PBS -j oe\n",
    "#PBS -W umask=0022\n",
    "\n",
    "# These PBS flags should give us resources comparable to a large ARE instance. You may need to change storage flags - these are the storage resources necessary to run end-to-end build tests for the catalog, so *should* cover your use case \n",
    "\n",
    "\n",
    "\n",
    "########################################################################################### \n",
    "# Copyright 2022 ACCESS-NRI and contributors. See the top-level COPYRIGHT file for details.\n",
    "# SPDX-License-Identifier: Apache-2.0\n",
    "\n",
    "# Description:\n",
    "#   Generate access-nri intake datastore for a single experiment\n",
    "\n",
    "###########################################################################################\n",
    "\n",
    "set -e\n",
    "\n",
    "module use /g/data/xp65/public/modules\n",
    "module load conda/analysis3-25.02 \n",
    "module load openmpi\n",
    "\n",
    "build-esm-datastore --builder AccessOm2Builder --expt-dir /g/data/ik11/outputs/access-om2/1deg_jra55_iaf_omip2_cycle6 --cat-dir ~/catalog_dir\n",
    "\n",
    "$ qsub build_my_datastore.sh\n",
    "```"
   ]
  }
 ],
 "metadata": {
  "kernelspec": {
   "display_name": "Python [conda env:analysis3-25.08]",
   "language": "python",
   "name": "conda-env-analysis3-25.08-py"
  },
  "language_info": {
   "codemirror_mode": {
    "name": "ipython",
    "version": 3
   },
   "file_extension": ".py",
   "mimetype": "text/x-python",
   "name": "python",
   "nbconvert_exporter": "python",
   "pygments_lexer": "ipython3",
   "version": "3.11.13"
  }
 },
 "nbformat": 4,
 "nbformat_minor": 5
}
