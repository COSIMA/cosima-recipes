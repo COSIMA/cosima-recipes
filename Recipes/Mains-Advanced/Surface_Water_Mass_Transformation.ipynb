{
 "cells": [
  {
   "cell_type": "markdown",
   "metadata": {},
   "source": [
    "# Surface Water-Mass Transformation\n",
    "\n",
    "In this recipe, we compute surface water-mass transformation rates (both in the net and partitioned into contributions from heat and salt fluxes) for the southern ocean, south of 60S.\n",
    "\n",
    "This recipe is model-agnostic. However, as diagnostics used for the surface water mass transformation calculation considerably differ between models. You should read the diagnostics in the `get_variables` function and add/remove according to your needs. An embedded dictionary automatically identifies the correct forcing, once the user points out which ocean model is being analyzed."
   ]
  },
  {
   "cell_type": "markdown",
   "metadata": {},
   "source": [
    "## 1. Defining surface water-mass transformation\n",
    "\n",
    "The surface water-mass transformation framework described here follows [Newsom *et al* (2016)](https://journals.ametsoc.org/doi/full/10.1175/JCLI-D-15-0513.1) and [Abernathey *et al* (2016)](https://www.nature.com/articles/ngeo2749). Surface water-mass transformation may be defined as the volume flux into a given density class ($\\sigma$) from lighter density classes ($\\sigma'<\\sigma$) due to surface buoyancy forcing. Integrated over a region of the ocean surface, this volume flux can be expressed as,\n",
    "\n",
    "$$\n",
    "\\begin{equation}\n",
    "\\Omega(\\sigma, t) = \\frac{\\partial}{\\partial\\sigma} \\iint_{\\sigma'<\\sigma} \\Big(\\frac{\\partial\\sigma}{\\partial\\theta}\\theta + \\frac{\\partial\\sigma}{\\partial S}S\\Big) \\, \\mathrm{d}x \\, \\mathrm{d}y\n",
    "\\end{equation}\n",
    "$$\n",
    "\n",
    "where $t$ is time, and the terms in the integrand are the potential temperature ($\\theta$) flux and salinity ($S$) flux components of the surface buoyancy flux. The linearity of this expression means we can extract the relative contributions of heat ($\\Omega_\\text{heat}$) and salinity ($\\Omega_\\text{fw}$) fluxes to surface water-mass transformation, highlighting driving mechanisms."
   ]
  },
  {
   "cell_type": "markdown",
   "metadata": {},
   "source": [
    "## 2. Requirements\n",
    "\n",
    "**Analysis environment:** The conda/analysis3-25.05 (or later) module on NCI. This is available via the `xp65` project.\n",
    "\n",
    "**Model diagnostics:** This notebook can be used for either MOM5 or MOM6 simulations. The `save_SWMT` function has an embedded dictionary that automatically identifies the correct diagnostics to be used for the water mass transformation in each model simulation. \n",
    "\n",
    "**Warning**: For ACCESS-OM2, this model sums up individual surface buyancy flux components, so it does not reproduce biases in the `net_sfc_heating` diagnostics (see https://github.com/COSIMA/access-om2/issues/139). \n",
    "\n",
    "For ACCES-OM2 (MOM5) we need at least monthly resolution (in diag_table language...): `temp` or `surface_temp`, `salt` or `surface_salt`, `pme_river`, `sfc_salt_flux_restore`, `sfc_hflux_from_runoff`, `sfc_hflux_coupler`, `sfc_hflux_pme` and `frazil_3d_int_z` (although the latter is not strictly a surface flux, instead frazil heat fluxes are vertically integrated over the column. BUT this variable is highly surface intensified and, in most cases, conceptually relevant to what we want to know from SWMT analysis) plus some basic gridding information. \n",
    "\n",
    "For MOM6 we need at least monthly resolution (in `diag_table` language...): `wfo` (Water flux into the ocean), `salt_flux` (net salt flux into the ocean) and `hfds` (net heat flux)."
   ]
  },
  {
   "cell_type": "code",
   "execution_count": null,
   "metadata": {},
   "outputs": [],
   "source": [
    "import cartopy.crs as ccrs\n",
    "import cf_xarray as cfxr\n",
    "import cmocean as cm\n",
    "import dask.distributed\n",
    "import gsw\n",
    "import matplotlib.pyplot as plt\n",
    "from matplotlib import gridspec \n",
    "import matplotlib.colors as mcolors\n",
    "import numpy as np\n",
    "import xarray as xr\n",
    "import pdb\n",
    "import os\n",
    "import pathlib\n",
    "import shutil\n",
    "\n",
    "import intake\n",
    "cat = intake.cat.access_nri\n",
    "\n",
    "import warnings # ignore these warnings\n",
    "warnings.filterwarnings(\"ignore\", category = FutureWarning)\n",
    "warnings.filterwarnings(\"ignore\", category = UserWarning)\n",
    "warnings.filterwarnings(\"ignore\", category = RuntimeWarning)\n",
    "\n",
    "# Set temp_dir to a directory to store ~8GB of temporary output files\n",
    "temp_dir = os.path.expandvars(\"/scratch/$PROJECT/$USER/temp/swmt\")\n",
    "temp_path = pathlib.Path(temp_dir)\n",
    "\n",
    "# Ensure a fresh start\n",
    "if temp_path.exists():\n",
    "    shutil.rmtree(temp_path)  # Delete the directory and all its contents\n",
    "temp_path.mkdir(parents=True, exist_ok=True)  # Create it again"
   ]
  },
  {
   "cell_type": "code",
   "execution_count": null,
   "metadata": {
    "scrolled": true
   },
   "outputs": [],
   "source": [
    "from dask.distributed import Client\n",
    "client = Client(threads_per_worker = 1)\n",
    "client"
   ]
  },
  {
   "cell_type": "markdown",
   "metadata": {},
   "source": [
    "# Computing surface water mass transformation"
   ]
  },
  {
   "cell_type": "markdown",
   "metadata": {},
   "source": [
    "We will do this by defining three functions. The first one loads the diagnostics needed (independently of the model). The second one **actually calculates the transformations**, and a third one does the density binning."
   ]
  },
  {
   "cell_type": "code",
   "execution_count": null,
   "metadata": {},
   "outputs": [],
   "source": [
    "def get_variables(expt, freq, start_time, end_time, lon_slice, lat_slice, model = 'mom5'):\n",
    "\n",
    "    # The models require different diagnostics to calculate the heat and salt fluxes.\n",
    "    # mom6 outputs a net flux, whilst with mom5 we need to work with the separate components.\n",
    "    model_vars = {\n",
    "                    \"mom5\": {\n",
    "                        \"temperature\":           [\"temp\"],\n",
    "                        \"salinity\":              [\"salt\"],\n",
    "                        \"water_flux_into_ocean\": [\"pme_river\"],\n",
    "                        \"salt_flux\":             [\"sfc_salt_flux_ice\", \"sfc_salt_flux_restore\"],\n",
    "                        \"heat_flux\":             [\"sfc_hflux_coupler\", \"sfc_hflux_from_runoff\",\n",
    "                                                  \"frazil_3d_int_z\", \"sfc_hflux_pme\"],\n",
    "                        \"area\":                  [\"area_t\"],\n",
    "                        \"maximum_depth\":         [\"ht\"],\n",
    "                    },\n",
    "                    \"mom6\": {\n",
    "                        \"temperature\":           [\"thetao\"],\n",
    "                        \"salinity\":              [\"so\"],\n",
    "                        \"water_flux_into_ocean\": [\"wfo\"],\n",
    "                        \"salt_flux\":             [\"salt_flux\"],\n",
    "                        \"heat_flux\":             [\"hfds\"],\n",
    "                        \"area\":                  [\"areacello\"],\n",
    "                        \"maximum_depth\":         [\"deptho\"],\n",
    "                    }\n",
    "                }\n",
    "    # Load variables in a dictionary\n",
    "    ds = {}\n",
    "    keys = list(model_vars[model].keys())\n",
    "    for k in keys:\n",
    "        ds[k] = {}\n",
    "        for var in model_vars[model][k]:\n",
    "            if k in [\"area\", \"maximum_depth\"]:\n",
    "                ds[k][var] = cat[expt].search(variable=var).to_dask(xarray_open_kwargs={\n",
    "                    \"decode_timedelta\": False\n",
    "                })[var]\n",
    "                ds[k][var] = ds[k][var].cf.sel(X = lon_slice, Y = lat_slice)\n",
    "            else:\n",
    "                try:\n",
    "                    ds[k][var] = cat[expt].search(variable=var, frequency=freq).to_dask(\n",
    "                        xarray_open_kwargs={\n",
    "                            \"chunks\": {\"time\": \"auto\"}, \n",
    "                            \"decode_timedelta\": False\n",
    "                        })[var]\n",
    "                    ds[k][var] = ds[k][var].cf.sel(\n",
    "                        X = lon_slice, Y = lat_slice, \n",
    "                        time = slice(start_time, end_time))\n",
    "                    \n",
    "                    # Correct temperatures (if in K convert to C)\n",
    "                    if k == 'temperature' and np.max(ds[k][var]) > 100:\n",
    "                        ds[k][var] = ds[k][var] - 273.15\n",
    "    \n",
    "                    # If 3D field, grab the surface\n",
    "                    if ds[k][var].cf.axes.get('Z'):\n",
    "                        surface_z = ds[k][var].cf['Z'][0].values\n",
    "                        ds[k][var] = ds[k][var].cf.sel(Z = 0, method = 'nearest')\n",
    "                except Exception as e:\n",
    "                    raise Exception(f\"Data loading error: var={var}, freq={freq}, start_time={start_time}, end_time={end_time}, expt={expt}: {str(e)}\")\n",
    "\n",
    "    # Get temperature and salinity to calculate few other things we'll need later on\n",
    "    # Ensure we have conservative temperature; Convert MOM6's potential temperature to conservative\n",
    "    SP = ds['salinity'][model_vars[model]['salinity'][0]]\n",
    "    CT = ds['temperature'][model_vars[model]['temperature'][0]]\n",
    "    if model == 'mom6':\n",
    "        CT = gsw.CT_from_pt(SA, CT)\n",
    "        ds['temperature'][model_vars[model]['temperature'][0]].data = CT.values\n",
    "\n",
    "    # Calculate pressure\n",
    "    pressure = gsw.p_from_z(-surface_z, SP.cf['Y']).rename('pressure')\n",
    "\n",
    "    # Calculate absolute salinity\n",
    "    SA = gsw.SA_from_SP(SP, pressure, SP.cf['X'], SP.cf['Y']).rename('SA')\n",
    "\n",
    "    # Calculate potential density\n",
    "    pot_rho_1 = gsw.sigma1(SA, CT)#.rename('pot_rho_11')\n",
    "\n",
    "    # Save everything to our dictionary\n",
    "    ds['pressure'] = pressure\n",
    "    ds['SA'] = SA\n",
    "    ds['pot_rho_1'] = pot_rho_1\n",
    "    \n",
    "    # Calculate days per month accounting for leap years\n",
    "    months_standard_noleap = np.array([31, 28, 31, 30, 31, 30, 31, 31, 30, 31, 30, 31])\n",
    "    months_standard_leap = np.array([31, 29, 31, 30, 31, 30, 31, 31, 30, 31, 30, 31])\n",
    "    if 'ryf' or 'panan' in expt:\n",
    "        nyears = len(np.unique(CT['time.year']))\n",
    "        days_per_month = np.tile(months_standard_noleap, nyears)\n",
    "    elif 'iaf' in expt:\n",
    "        nyears = len(np.unique(CT['time.year']))\n",
    "        if CT['time.year'][0] % 4 == 0:\n",
    "            days_per_month = months_standard_leap\n",
    "        else: \n",
    "            days_per_month = months_standard_noleap\n",
    "        for yr in CT['time.year'][::12][1:]:\n",
    "            if yr % 4 == 0:\n",
    "                days_per_month = np.concatenate([days_per_month, months_standard_leap])\n",
    "            else:\n",
    "                days_per_month = np.concatenate([days_per_month, months_standard_noleap])\n",
    "    days_per_month = xr.DataArray(days_per_month, dims = ['time'], coords = {'time': CT['time']}, name = 'days_per_month')\n",
    "    ds['days_per_month'] = days_per_month\n",
    "\n",
    "    return ds"
   ]
  },
  {
   "cell_type": "markdown",
   "metadata": {},
   "source": [
    "In the function below to compute the salt transformation, note that the salt fluxes have units of (kg of salt)/m²/s, while β has units of kg / (g of salt), so we need to multiply the salt fluxes by 1000. The fresh water flux `pme_river` has units of (kg of water)/(m²/s) and needs to be multiplied by SSS to convert to (g of salt)/m²/s. This gives units of (kg of water)/m² for the salt_transformation but it will later be divided by time and density and be in m/s."
   ]
  },
  {
   "cell_type": "code",
   "execution_count": null,
   "metadata": {},
   "outputs": [],
   "source": [
    "def compute_salt_transformation(ds):\n",
    "    \n",
    "    # First retrieve temperature and water_flux as an xarray instead of a dictionary\n",
    "    CT = xr.Dataset(ds['temperature']).to_array().squeeze().drop_vars('variable')\n",
    "\n",
    "    # Multiply the water flux by absolute salinity to get it in the correct units\n",
    "    water_flux_into_ocean = xr.Dataset(ds['water_flux_into_ocean']).to_array().squeeze().drop_vars('variable')\n",
    "    water_flux_into_ocean = ds['SA'] * water_flux_into_ocean\n",
    "\n",
    "    # Caculate the haline contraction coefficient\n",
    "    haline_contraction = gsw.beta(ds['SA'], CT, ds['pressure']).rename('beta')\n",
    "\n",
    "    # Calculate the net salt flux and multiply by 1000 to convert units\n",
    "    net_salt_flux = xr.Dataset(ds['salt_flux']).to_array().sum(dim = 'variable') * 1000\n",
    "\n",
    "    # Note that we also multiply pme_river by absolute salinity to have the correct units\n",
    "    salt_transformation = haline_contraction * (water_flux_into_ocean - net_salt_flux) * ds['days_per_month']\n",
    "    salt_transformation = salt_transformation.load()\n",
    "\n",
    "    return salt_transformation\n",
    "\n",
    "def compute_heat_transformation(ds):\n",
    "\n",
    "    # First retrieve temperature as an xarray instead of a dictionary\n",
    "    CT = xr.Dataset(ds['temperature']).to_array().squeeze().drop_vars('variable')\n",
    "\n",
    "    # Calculate the thermal expansion coefficient \n",
    "    thermal_expansion = gsw.alpha(ds['SA'], CT, ds['pressure']).rename('alpha')\n",
    "    \n",
    "    # Calculate the net surface heating\n",
    "    net_surface_heating = xr.Dataset(ds['heat_flux']).to_array().sum(dim = 'variable')\n",
    "    \n",
    "    # Calculate the heat transformation\n",
    "    heat_transformation = thermal_expansion * net_surface_heating * ds['days_per_month']\n",
    "    heat_transformation = heat_transformation.load()\n",
    "\n",
    "    return heat_transformation"
   ]
  },
  {
   "cell_type": "markdown",
   "metadata": {},
   "source": [
    "Now we need to do the isopycnal re-binning"
   ]
  },
  {
   "cell_type": "code",
   "execution_count": null,
   "metadata": {},
   "outputs": [],
   "source": [
    "def isopycnal_bins(ds, salt_transformation, heat_transformation):\n",
    "\n",
    "    # Next section does a few things. It cycles through isopycnal bins, determines which cells are \n",
    "    # within the given bin for each month, finds the transformation values for those cells for each month, \n",
    "    # and sums these through time. You are left with an array of shape (isopyncal bins * lats * lons) \n",
    "    # where the array associated with a given isopycnal bin is NaN everywhere except where pot_rho_1 \n",
    "    # was within the bin, there it has a time summed transformation value.\n",
    "    \n",
    "    # Choose appropriate bin range\n",
    "    isopycnal_bins = np.arange(31, 33.5, 0.02)  # 125 bins - 31, 33.5, 0.02 (sigma1)\n",
    "    #isopycnal_bins = np.concatenate([np.arange(25.0, 26.5, 0.05), np.arange(26.5, 28.5, 0.02)])  # 130 bins (sigma0)\n",
    "    bin_bottoms = isopycnal_bins[:-1]\n",
    "    isopycnal_bin_mid = (isopycnal_bins[1:] + bin_bottoms) / 2\n",
    "    isopycnal_bin_diff = np.diff(isopycnal_bins)\n",
    "\n",
    "    pot_rho_1 = ds['pot_rho_1']\n",
    "\n",
    "    results_salt = []\n",
    "    results_heat = []\n",
    "\n",
    "    for i in range(len(bin_bottoms)):\n",
    "        # Create binary mask for each bin\n",
    "        bin_mask = xr.where((pot_rho_1 > bin_bottoms[i]) & (pot_rho_1 <= isopycnal_bins[i + 1]), 1, np.nan)\n",
    "\n",
    "        # Multiply and sum over time\n",
    "        salt_sum = (salt_transformation * bin_mask).sum(dim='time')\n",
    "        heat_sum = (heat_transformation * bin_mask).sum(dim='time')\n",
    "\n",
    "        results_salt.append(salt_sum.expand_dims({'isopycnal_bins': [isopycnal_bin_mid[i]]}))\n",
    "        results_heat.append(heat_sum.expand_dims({'isopycnal_bins': [isopycnal_bin_mid[i]]}))\n",
    "\n",
    "    # Concatenate results along isopycnal dimension\n",
    "    salt_transformation = xr.concat(results_salt, dim='isopycnal_bins')\n",
    "    heat_transformation = xr.concat(results_heat, dim='isopycnal_bins')\n",
    "\n",
    "    # Normalise by number of days and bin thickness\n",
    "    ndays = ds['days_per_month'].sum()\n",
    "    c_p = 3992.1 # J kg-1 degC-1\n",
    "\n",
    "    salt_transformation /= ndays\n",
    "    heat_transformation /= (c_p * ndays)\n",
    "\n",
    "    salt_transformation /= isopycnal_bin_diff[:, np.newaxis, np.newaxis]\n",
    "    heat_transformation /= isopycnal_bin_diff[:, np.newaxis, np.newaxis]\n",
    "\n",
    "    # Overwrite zeros with NANs \n",
    "    # (Note: the code within the for-loop should provide nans but lazy computing with dask can sometimes give unpredictable results)\n",
    "    salt_transformation = salt_transformation.where(salt_transformation != 0)\n",
    "    heat_transformation = heat_transformation.where(heat_transformation != 0)\n",
    "\n",
    "    # Change the sign so that positive means conversion into denser water masses\n",
    "    salt_transformation *= -1\n",
    "    heat_transformation *= -1\n",
    "\n",
    "    # Renaming\n",
    "    salt_transformation.name = \"salt_transformation\"\n",
    "    heat_transformation.name = \"heat_transformation\"\n",
    "\n",
    "    return salt_transformation.load(), heat_transformation.load()\n"
   ]
  },
  {
   "cell_type": "markdown",
   "metadata": {},
   "source": [
    "# MOM5"
   ]
  },
  {
   "cell_type": "code",
   "execution_count": null,
   "metadata": {},
   "outputs": [],
   "source": [
    "# Change to your experiment of interest\n",
    "expt = '01deg_jra55v13_ryf9091'\n",
    "freq = '1mon'\n",
    "\n",
    "# Select time period and region\n",
    "start_time = '2080-01-01'\n",
    "end_time = '2080-12-31'\n",
    "time_slice = slice(start_time, end_time)\n",
    "lon_slice = slice(None, None)\n",
    "lat_slice = slice(None, -59)"
   ]
  },
  {
   "cell_type": "code",
   "execution_count": null,
   "metadata": {
    "scrolled": true
   },
   "outputs": [],
   "source": [
    "ds = get_variables(expt, freq, start_time, end_time, lon_slice, lat_slice, model = \"mom5\")"
   ]
  },
  {
   "cell_type": "code",
   "execution_count": null,
   "metadata": {},
   "outputs": [],
   "source": [
    "salt_transformation = compute_salt_transformation(ds)\n",
    "heat_transformation = compute_heat_transformation(ds)"
   ]
  },
  {
   "cell_type": "markdown",
   "metadata": {},
   "source": [
    "🚨 ⏰ **Note**: the `isopycnal_bins` method below might take ~5 minutes on an XXLarge ARE instance."
   ]
  },
  {
   "cell_type": "code",
   "execution_count": null,
   "metadata": {},
   "outputs": [],
   "source": [
    "%%timeit -n 1 -r 1\n",
    "salt_transformation_binned, heat_transformation_binned = isopycnal_bins(ds, salt_transformation, heat_transformation)\n",
    "\n",
    "salt_transformation_binned.to_netcdf(pathlib.Path(temp_dir, \"binned_salt_transformation_mom5.nc\"), mode=\"w\")\n",
    "heat_transformation_binned.to_netcdf(pathlib.Path(temp_dir, \"binned_heat_transformation_mom5.nc\"), mode=\"w\")"
   ]
  },
  {
   "cell_type": "code",
   "execution_count": null,
   "metadata": {},
   "outputs": [],
   "source": [
    "salt_tr = xr.open_dataarray(pathlib.Path(temp_dir, \"binned_salt_transformation_mom5.nc\"), chunks = {'isopycnal_bins': 1})\n",
    "heat_tr = xr.open_dataarray(pathlib.Path(temp_dir, \"binned_heat_transformation_mom5.nc\"), chunks = {'isopycnal_bins': 1})\n",
    "net_tr = salt_tr + heat_tr"
   ]
  },
  {
   "cell_type": "markdown",
   "metadata": {},
   "source": [
    "## Plotting\n",
    "\n",
    "### Entire Southern Ocean south of 59S"
   ]
  },
  {
   "cell_type": "code",
   "execution_count": null,
   "metadata": {
    "scrolled": true
   },
   "outputs": [],
   "source": [
    "area = xr.Dataset(ds['area']).to_array().squeeze().drop_vars('variable')\n",
    "\n",
    "swmt = (area * net_tr / 1e6).cf.sum(['longitude', 'latitude'])\n",
    "swmt_heat = (area * heat_tr / 1e6).cf.sum(['longitude', 'latitude'])\n",
    "swmt_salt = (area * salt_tr / 1e6).cf.sum(['longitude', 'latitude'])\n",
    "\n",
    "for da in [swmt, swmt_heat, swmt_salt]:\n",
    "    da.attrs[\"units\"] = \"Sv\""
   ]
  },
  {
   "cell_type": "code",
   "execution_count": null,
   "metadata": {},
   "outputs": [],
   "source": [
    "figure = plt.figure(figsize = (7, 7))\n",
    "\n",
    "plt.plot(swmt, swmt['isopycnal_bins'], color = 'k', label='net')\n",
    "plt.plot(swmt_heat, swmt['isopycnal_bins'], color = 'r', label='heat')\n",
    "plt.plot(swmt_salt, swmt['isopycnal_bins'], color = 'b', label='salt')\n",
    "plt.plot([0, 0], [31, 33.2], 'k', linewidth = 0.5)\n",
    "\n",
    "plt.ylim((33.2, 31))\n",
    "plt.ylabel(r'$\\sigma_1$ (kg m$^{-3}$)', fontsize = 14)\n",
    "plt.xlabel('Surface water-mass transformation (Sv)', fontsize = 14)\n",
    "plt.legend(loc = 3, fontsize = 14);"
   ]
  },
  {
   "cell_type": "markdown",
   "metadata": {},
   "source": [
    "Here, the positive peak in the high density classes indicates a rate of subduction due to surface densification processes (predominantly freshwater fluxes associated with sea-ice processes in this case). The negative peak indicates upwelling rates."
   ]
  },
  {
   "cell_type": "markdown",
   "metadata": {},
   "source": [
    "### Antarctic shelf dense water formation\n",
    "\n",
    "You might be interested in dense water formation on the Anarctic continental shelf. Below we've outlined a procedure whereby you can identify the density of subducting waters on the continental shelf, and map the locations where this sudbuction occurs.\n",
    "\n",
    "You will need a way of masking for the continental shelf. You might just use a simple depth criterion, but here I define the shelf region using a mask that selects cells poleward of a continuous approximation of the 1000 m isobath surrounding Antarctica.\n",
    "\n",
    "**Warning**: Shelf masking is model-specific, and can only be used for ACCESS-OM2 and PanAntartic simulations so far at 1/10th degree resolution. If you are using a different simulation you will have to calculate your own mask. "
   ]
  },
  {
   "cell_type": "code",
   "execution_count": null,
   "metadata": {},
   "outputs": [],
   "source": [
    "def shelf_mask_isobath(var, model_dict):\n",
    "    '''\n",
    "    Masks ACCESS-OM2-01 and Pan-Antarctic variables by the region polewards of the 1000m isobath as computed using \n",
    "    a script contributed by Adele Morrison. Panan isobath created by Christina Schmidt\"\n",
    "    Only to be used with ACCESS-OM2-0.1 and Pan-Antarctic output!\n",
    "    '''\n",
    "\n",
    "    paths = {\n",
    "             \"mom5\": \"/g/data/ik11/grids/Antarctic_slope_contour_1000m.npz\",\n",
    "             \"mom6\": \"/g/data/ik11/grids/Antarctic_slope_contour_1000m_MOM6_01deg.nc\",     \n",
    "             }\n",
    "\n",
    "    var = var.cf.sel({'latitude': slice(-90, -59)})\n",
    "\n",
    "    if paths[model_dict][-3:] == '.nc':\n",
    "        shelf_mask = xr.open_dataset(paths[model_dict])['contour_masked_above']\n",
    "    else:\n",
    "        contour_file = np.load(paths[model_dict])\n",
    "        shelf_mask = xr.DataArray(contour_file['contour_masked_above'],\n",
    "                                  coords = var.coords, \n",
    "                                  dims = var.dims,\n",
    "                                  name = 'contour_masked_above')\n",
    "    \n",
    "    shelf_mask = xr.where(shelf_mask == 0, 1, 0)\n",
    "    masked_var = var * shelf_mask\n",
    "    \n",
    "    return masked_var, shelf_mask"
   ]
  },
  {
   "cell_type": "code",
   "execution_count": null,
   "metadata": {},
   "outputs": [],
   "source": [
    "depth = xr.Dataset(ds['maximum_depth']).to_array().squeeze()\n",
    "land_mask = (depth*0).fillna(1)\n",
    "depth_shelf, shelf_mask = shelf_mask_isobath(depth, 'mom5')"
   ]
  },
  {
   "cell_type": "code",
   "execution_count": null,
   "metadata": {},
   "outputs": [],
   "source": [
    "fig = plt.figure(figsize=(7, 7))\n",
    "ax = plt.subplot(projection = ccrs.SouthPolarStereo())\n",
    "\n",
    "ax.contourf(shelf_mask.cf['X'], shelf_mask.cf['Y'], shelf_mask.where((shelf_mask == 1) & (land_mask == 0)),\n",
    "            colors = 'red', alpha = 0.5, transform = ccrs.PlateCarree())\n",
    "ax.contour(land_mask.cf['X'], land_mask.cf['Y'], land_mask,\n",
    "           levels = [0, 1], colors = 'dimgrey', transform = ccrs.PlateCarree())\n",
    "ax.contour(shelf_mask.cf['X'], shelf_mask.cf['Y'], shelf_mask,\n",
    "           levels = [0, 1], colors = 'r', transform = ccrs.PlateCarree())\n",
    "ax.set_extent([-180, 180, -90, -59], ccrs.PlateCarree())"
   ]
  },
  {
   "cell_type": "code",
   "execution_count": null,
   "metadata": {
    "scrolled": true
   },
   "outputs": [],
   "source": [
    "area = xr.Dataset(ds['area']).to_array().squeeze().drop_vars('variable')\n",
    "\n",
    "swmt_shelf = (net_tr * area / 1e6).where(shelf_mask == 1)\n",
    "heat_shelf = (heat_tr * area / 1e6).where(shelf_mask == 1)\n",
    "salt_shelf = (salt_tr * area / 1e6).where(shelf_mask == 1)\n",
    "\n",
    "swmt_shelf_sum = swmt_shelf.cf.sum(['longitude', 'latitude'])\n",
    "heat_shelf_sum = heat_shelf.cf.sum(['longitude', 'latitude'])\n",
    "salt_shelf_sum = salt_shelf.cf.sum(['longitude', 'latitude'])\n",
    "\n",
    "for da in [swmt_shelf_sum, heat_shelf_sum, salt_shelf_sum]:\n",
    "    da.attrs[\"units\"] = \"Sv\""
   ]
  },
  {
   "cell_type": "code",
   "execution_count": null,
   "metadata": {},
   "outputs": [],
   "source": [
    "figure = plt.figure(figsize = (7, 7))\n",
    "\n",
    "plt.plot(swmt_shelf_sum, swmt_shelf_sum['isopycnal_bins'], color = 'k', label='net')\n",
    "plt.plot(heat_shelf_sum, heat_shelf_sum['isopycnal_bins'], color = 'r', label='heat')\n",
    "plt.plot(salt_shelf_sum, salt_shelf_sum['isopycnal_bins'], color = 'b', label='salt')\n",
    "plt.plot([0, 0], [31.0, 33.2], 'k', linewidth = 0.5)\n",
    "\n",
    "plt.ylim((33.2, 31.0))\n",
    "plt.ylabel(r'$\\sigma_1$ (kg m$^{-3}$)', fontsize = 14)\n",
    "plt.xlabel('Surface water-mass transformation (Sv)', fontsize = 14)\n",
    "plt.legend(loc = 1, fontsize = 14);"
   ]
  },
  {
   "cell_type": "markdown",
   "metadata": {},
   "source": [
    "This shows us that continental shelf surface waters are made denser (almost entirely by sea-ice freshwater fluxes) and subduct away from the surface at a rate of over 8 Sv! Where does this happen? If we map the surface water-mass transformation rate across a chosen density class, we will be able to see where waters are subducting. We know from experience that the dense waters that overflow are best correlated with the transformation on the denser side of the peak, so let's choose $\\sigma_1$ = 32.6 kg/m^3."
   ]
  },
  {
   "cell_type": "code",
   "execution_count": null,
   "metadata": {},
   "outputs": [],
   "source": [
    "transformation_density = 32.6\n",
    "shelf_subduction_plot = net_tr.sel(isopycnal_bins = transformation_density, method = 'nearest') * 1e5\n",
    "swmt_xt = depth.cf['X']\n",
    "swmt_yt = depth.cf['Y']"
   ]
  },
  {
   "cell_type": "code",
   "execution_count": null,
   "metadata": {},
   "outputs": [],
   "source": [
    "fig = plt.figure(1, figsize = (15, 8))\n",
    "gs = gridspec.GridSpec(1, 2, width_ratios = [3, 2], wspace = 0.05)\n",
    "\n",
    "ax, ax1 = plt.subplot(gs[0], projection = ccrs.SouthPolarStereo()), plt.subplot(gs[1])\n",
    "ax.set_extent([-180, 180, -90, -59], ccrs.PlateCarree())\n",
    "\n",
    "ax.contour(land_mask.cf['X'], land_mask.cf['Y'], land_mask,\n",
    "           levels = [0, 1], colors = 'dimgrey', transform = ccrs.PlateCarree())\n",
    "ax.contour(shelf_mask.cf['X'], shelf_mask.cf['Y'], shelf_mask,\n",
    "           levels = [0, 1], colors = 'r', transform = ccrs.PlateCarree())\n",
    "\n",
    "norm = mcolors.Normalize(vmin = 0, vmax = 2.5)\n",
    "plot_swmt = ax.pcolormesh(swmt_xt, swmt_yt, shelf_subduction_plot,\n",
    "                          vmin = 0, vmax = 2.5,\n",
    "                          cmap = cm.cm.matter,\n",
    "                          transform = ccrs.PlateCarree())\n",
    "\n",
    "cax = fig.add_axes([0.27, 0.03, 0.2, 0.04])\n",
    "cbar = plt.colorbar(plot_swmt, cax=cax, orientation='horizontal', shrink = 0.5, ticks = [0, 0.5, 1, 1.5, 2, 2.5, 3])\n",
    "cbar.set_label(r'Surface water-mass transformation ($\\times 10^{-5}$m s$^{-1}$)')\n",
    "\n",
    "ax1.plot(swmt_shelf_sum, swmt_shelf_sum['isopycnal_bins'], color = 'k', label='net')\n",
    "ax1.plot(heat_shelf_sum, swmt_shelf_sum['isopycnal_bins'], color = 'r', label='heat')\n",
    "ax1.plot(salt_shelf_sum, swmt_shelf_sum['isopycnal_bins'], color = 'b', label='salt')\n",
    "ax1.plot([0, 0], [31, 33.2], 'k', linewidth=0.5)\n",
    "ax1.plot([-5, 15], [transformation_density, transformation_density], 'k--', linewidth=1)\n",
    "ax1.set_ylim((33.2, 31))\n",
    "ax1.set_xlim((-1.5, 10))\n",
    "ax1.yaxis.set_label_position(\"right\")\n",
    "ax1.yaxis.tick_right()\n",
    "ax1.set_ylabel(r'$\\sigma_1$ (kg m$^{-3}$)')\n",
    "ax1.set_xlabel('Surface water-mass transformation (Sv)')\n",
    "ax1.legend();"
   ]
  },
  {
   "cell_type": "markdown",
   "metadata": {},
   "source": [
    "# MOM6 example"
   ]
  },
  {
   "cell_type": "code",
   "execution_count": null,
   "metadata": {},
   "outputs": [],
   "source": [
    "# Change to your experiment of interest\n",
    "expt = 'panant-01-zstar-ACCESSyr2'\n",
    "freq = '1mon'\n",
    "\n",
    "# Select time period and region\n",
    "start_time = '2004-01-01'\n",
    "end_time = '2004-12-31'\n",
    "lon_slice = slice(None, None)\n",
    "lat_slice = slice(None, -59)"
   ]
  },
  {
   "cell_type": "code",
   "execution_count": null,
   "metadata": {},
   "outputs": [],
   "source": [
    "ds = get_variables(expt, freq, start_time, end_time, lon_slice, lat_slice, model = \"mom6\")"
   ]
  },
  {
   "cell_type": "code",
   "execution_count": null,
   "metadata": {},
   "outputs": [],
   "source": [
    "salt_transformation = compute_salt_transformation(ds)\n",
    "heat_transformation = compute_heat_transformation(ds)"
   ]
  },
  {
   "cell_type": "markdown",
   "metadata": {},
   "source": [
    "🚨 ⏰ **Note**: the `isopycnal_bins` method below might take ~30 minutes."
   ]
  },
  {
   "cell_type": "code",
   "execution_count": null,
   "metadata": {
    "scrolled": true
   },
   "outputs": [],
   "source": [
    "%%timeit -n 1 -r 1\n",
    "salt_transformation_binned, heat_transformation_binned = isopycnal_bins(ds, salt_transformation, heat_transformation)\n",
    "\n",
    "salt_transformation_binned.to_netcdf(pathlib.Path(temp_dir, \"binned_salt_transformation_mom6.nc\"), mode=\"w\")\n",
    "heat_transformation_binned.to_netcdf(pathlib.Path(temp_dir, \"binned_heat_transformation_mom6.nc\"), mode=\"w\")"
   ]
  },
  {
   "cell_type": "code",
   "execution_count": null,
   "metadata": {
    "scrolled": true
   },
   "outputs": [],
   "source": [
    "salt_tr = xr.open_dataarray(pathlib.Path(temp_dir, \"binned_salt_transformation_mom6.nc\"), chunks = {'isopycnal_bins': 1})\n",
    "heat_tr = xr.open_dataarray(pathlib.Path(temp_dir, \"binned_heat_transformation_mom6.nc\"), chunks = {'isopycnal_bins': 1})\n",
    "net_tr = salt_tr + heat_tr"
   ]
  },
  {
   "cell_type": "markdown",
   "metadata": {},
   "source": [
    "## Plotting\n",
    "\n",
    "### Entire Southern Ocean south of 59S"
   ]
  },
  {
   "cell_type": "code",
   "execution_count": null,
   "metadata": {
    "scrolled": true
   },
   "outputs": [],
   "source": [
    "area = xr.Dataset(ds['area']).to_array().squeeze().drop_vars('variable')\n",
    "\n",
    "swmt = (area * net_tr / 1e6).cf.sum(['longitude', 'latitude'])\n",
    "swmt_heat = (area * heat_tr / 1e6).cf.sum(['longitude', 'latitude'])\n",
    "swmt_salt = (area * salt_tr / 1e6).cf.sum(['longitude', 'latitude'])\n",
    "\n",
    "for da in [swmt, swmt_heat, swmt_salt]:\n",
    "    da.attrs[\"units\"] = \"Sv\""
   ]
  },
  {
   "cell_type": "code",
   "execution_count": null,
   "metadata": {},
   "outputs": [],
   "source": [
    "figure = plt.figure(figsize = (7, 7))\n",
    "\n",
    "plt.plot(swmt, swmt['isopycnal_bins'], color = 'k', label='net')\n",
    "plt.plot(swmt_heat, swmt['isopycnal_bins'], color = 'r', label='heat')\n",
    "plt.plot(swmt_salt, swmt['isopycnal_bins'], color = 'b', label='salt')\n",
    "plt.plot([0, 0], [31, 33.2], 'k', linewidth = 0.5)\n",
    "plt.ylim((33.2, 31))\n",
    "plt.ylabel(r'$\\sigma_1$ (kg m$^{-3}$)', fontsize = 14)\n",
    "plt.xlabel('Surface water-mass transformation (Sv)', fontsize = 14)\n",
    "plt.legend(loc = 3, fontsize = 14);"
   ]
  },
  {
   "cell_type": "markdown",
   "metadata": {},
   "source": [
    "### Antarctic shelf dense water formation"
   ]
  },
  {
   "cell_type": "code",
   "execution_count": null,
   "metadata": {},
   "outputs": [],
   "source": [
    "depth = xr.Dataset(ds['maximum_depth']).to_array().squeeze()\n",
    "land_mask = (0 * depth).fillna(1)\n",
    "depth_shelf, shelf_mask = shelf_mask_isobath(depth, 'mom6')"
   ]
  },
  {
   "cell_type": "code",
   "execution_count": null,
   "metadata": {
    "scrolled": true
   },
   "outputs": [],
   "source": [
    "area = xr.Dataset(ds['area']).to_array().squeeze().drop_vars('variable')\n",
    "\n",
    "swmt_shelf = (net_tr * area / 1e6).where(shelf_mask == 1)\n",
    "heat_shelf = (heat_tr * area / 1e6).where(shelf_mask == 1)\n",
    "salt_shelf = (salt_tr * area / 1e6).where(shelf_mask == 1)\n",
    "swmt_shelf_sum = swmt_shelf.cf.sum(['longitude', 'latitude'])\n",
    "heat_shelf_sum = heat_shelf.cf.sum(['longitude', 'latitude'])\n",
    "salt_shelf_sum = salt_shelf.cf.sum(['longitude', 'latitude'])\n",
    "\n",
    "for da in [swmt_shelf_sum, heat_shelf_sum, salt_shelf_sum]:\n",
    "    da.attrs[\"units\"] = \"Sv\""
   ]
  },
  {
   "cell_type": "code",
   "execution_count": null,
   "metadata": {},
   "outputs": [],
   "source": [
    "transformation_density = 32.6\n",
    "shelf_subduction_plot = net_tr.sel(isopycnal_bins = transformation_density, method = 'nearest') * 1e5\n",
    "swmt_xt = depth.cf['X']\n",
    "swmt_yt = depth.cf['Y']"
   ]
  },
  {
   "cell_type": "code",
   "execution_count": null,
   "metadata": {},
   "outputs": [],
   "source": [
    "fig = plt.figure(1, figsize = (15, 8))\n",
    "gs = gridspec.GridSpec(1, 2, width_ratios = [3, 2], wspace = 0.05)\n",
    "\n",
    "ax, ax1 = plt.subplot(gs[0], projection = ccrs.SouthPolarStereo()), plt.subplot(gs[1])\n",
    "ax.set_extent([-180, 180, -90, -59], ccrs.PlateCarree())\n",
    "\n",
    "ax.contour(land_mask.cf['X'], land_mask.cf['Y'], land_mask,\n",
    "           levels = [0, 1], colors = 'dimgrey', transform = ccrs.PlateCarree())\n",
    "ax.contour(shelf_mask.cf['X'], shelf_mask.cf['Y'], shelf_mask,\n",
    "           levels = [0, 1], colors = 'r', transform = ccrs.PlateCarree())\n",
    "\n",
    "norm = mcolors.Normalize(vmin = 0, vmax = 2.5)\n",
    "plot_swmt = ax.pcolormesh(swmt_xt, swmt_yt, shelf_subduction_plot,\n",
    "                          vmin = 0, vmax = 2.5,\n",
    "                          cmap = cm.cm.matter,\n",
    "                          transform = ccrs.PlateCarree())\n",
    "\n",
    "cax = fig.add_axes([0.27, 0.03, 0.2, 0.04])\n",
    "cbar = plt.colorbar(plot_swmt, cax=cax, orientation='horizontal', shrink = 0.5, ticks = [0, 0.5, 1, 1.5, 2, 2.5, 3])\n",
    "cbar.set_label(r'Surface water-mass transformation ($\\times 10^{-5}$m s$^{-1}$)')\n",
    "\n",
    "ax1.plot(swmt_shelf_sum, swmt_shelf_sum['isopycnal_bins'], color = 'k', label='net')\n",
    "ax1.plot(heat_shelf_sum, swmt_shelf_sum['isopycnal_bins'], color = 'r', label='heat')\n",
    "ax1.plot(salt_shelf_sum, swmt_shelf_sum['isopycnal_bins'], color = 'b', label='salt')\n",
    "ax1.plot([0, 0], [31, 33.2], 'k', linewidth=0.5)\n",
    "ax1.plot([-5, 15], [transformation_density, transformation_density], 'k--', linewidth=1)\n",
    "ax1.set_ylim((33.2, 31))\n",
    "ax1.set_xlim((-1.5, 10))\n",
    "ax1.yaxis.set_label_position(\"right\")\n",
    "ax1.yaxis.tick_right()\n",
    "ax1.set_ylabel(r'$\\sigma_1$ (kg m$^{-3}$)')\n",
    "ax1.set_xlabel('Surface water-mass transformation (Sv)')\n",
    "ax1.legend();"
   ]
  }
 ],
 "metadata": {
  "kernelspec": {
   "display_name": "Python [conda env:analysis3-25.05]",
   "language": "python",
   "name": "conda-env-analysis3-25.05-py"
  },
  "language_info": {
   "codemirror_mode": {
    "name": "ipython",
    "version": 3
   },
   "file_extension": ".py",
   "mimetype": "text/x-python",
   "name": "python",
   "nbconvert_exporter": "python",
   "pygments_lexer": "ipython3",
   "version": "3.11.12"
  }
 },
 "nbformat": 4,
 "nbformat_minor": 4
}
