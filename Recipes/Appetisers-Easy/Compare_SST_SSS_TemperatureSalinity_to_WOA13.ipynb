{
 "cells": [
  {
   "cell_type": "markdown",
   "id": "29f8957d",
   "metadata": {
    "tags": []
   },
   "source": [
    "# Compare Temperature and Salinity from ACCESS-OM2 to WOA13\n",
    "\n",
    "This notebook shows examples of comparing ACCESS-OM2 Temperature and Salinity structure to the WOA13 climatology (that is used as initial conditions for most runs). We describe the location and setup of the WOA13 data interpolated onto the model grids, as well as plot SST and SSS anomalies along with equatorial slices of temperature and salinity anomalies."
   ]
  },
  {
   "cell_type": "markdown",
   "id": "b608e092",
   "metadata": {},
   "source": [
    "First, lets load in some modules, call some workers and load a database"
   ]
  },
  {
   "cell_type": "code",
   "execution_count": 1,
   "id": "1c197564",
   "metadata": {},
   "outputs": [],
   "source": [
    "import matplotlib.pyplot as plt\n",
    "import pandas as pd\n",
    "import xarray as xr\n",
    "import numpy as np\n",
    "import cftime\n",
    "import datetime\n",
    "import cmocean as cm\n",
    "import cartopy.crs as ccrs\n",
    "import cartopy.feature as cft\n",
    "import sys, os, warnings\n",
    "warnings.filterwarnings('ignore')\n",
    "import intake\n",
    "catalog = intake.cat.access_nri\n",
    "from dask.distributed import Client"
   ]
  },
  {
   "cell_type": "code",
   "execution_count": null,
   "id": "8c51a44f",
   "metadata": {},
   "outputs": [],
   "source": [
    "client = Client(\"tcp://10.6.43.39:8786\")\n",
    "client"
   ]
  },
  {
   "cell_type": "code",
   "execution_count": null,
   "id": "eee7d8bf",
   "metadata": {},
   "outputs": [],
   "source": []
  },
  {
   "cell_type": "code",
   "execution_count": null,
   "id": "b9d8dfbc",
   "metadata": {},
   "outputs": [],
   "source": []
  },
  {
   "cell_type": "markdown",
   "id": "01f0c7b5",
   "metadata": {},
   "source": [
    "## WOA13 data\n",
    "\n",
    "The WOA13 data has already been interpolated onto the various model grids (as it is used for initial conditions). This makes it easy to plot biases.\n",
    "\n",
    "The WOA13 data is located in the `/g/data/hh5/tmp/cosima/woa13/` folder, with various subfolders for the different resolutions (including the different vertical grids such as KDS50, KDS75 etc.). The available interpolated versions are (see `/g/data/hh5/tmp/cosima/woa13/README/`:\n",
    "\n",
    "- `woa13/10` - 1-degree, GFDL50 vertical levels scheme\n",
    "- `woa13/025` - 1/4-degree, GFDL50 vertical levels scheme\n",
    "- `woa13/01` - 1/10-degree, KDS75 vertical levels scheme\n",
    "- `woa13/10_KDS50` - 1-degree, KDS50 vertical levels scheme\n",
    "- `woa13/025_KDS50` - 1/4-degree, KDS50 vertical levels scheme\n",
    "\n",
    "Note that the new ACCESS-OM2 runs all use the KDS vertical levels schemes (KDS50 at 1-degree and 1/4-degree, KDS75 at 1/10-degree).\n",
    "\n",
    "Let's first explore some of this data by looking at the 1-degree KDS50 experiment. First the netcdf files. Note that currently, because of the folder structure of the WOA13 data, the experiment names can be a bit opaque as they do not contain the woa13 string. Here we examine the 1-degree KDS50 data"
   ]
  },
  {
   "cell_type": "code",
   "execution_count": null,
   "id": "4c42a20e",
   "metadata": {},
   "outputs": [],
   "source": [
    "# Create a new WOA database:\n",
    "\n",
    "db = 'woa13.db'\n",
    "session_woa = cc.database.create_session(db)"
   ]
  },
  {
   "cell_type": "code",
   "execution_count": null,
   "id": "18f3b851",
   "metadata": {},
   "outputs": [],
   "source": [
    "directory_list=['/g/data/hh5/tmp/cosima/woa13/10',\n",
    "                '/g/data/hh5/tmp/cosima/woa13/025',\n",
    "                '/g/data/hh5/tmp/cosima/woa13/01',\n",
    "                '/g/data/hh5/tmp/cosima/woa13/10_KDS50',\n",
    "                '/g/data/hh5/tmp/cosima/woa13/10_KDS75',\n",
    "                '/g/data/hh5/tmp/cosima/woa13/025_KDS50'\n",
    "               ]\n",
    "\n",
    "cc.database.build_index(directory_list, session_woa)"
   ]
  },
  {
   "cell_type": "markdown",
   "id": "8bff21d3",
   "metadata": {},
   "source": [
    "## Comparing to ACCESS-OM2 simulations\n",
    "\n",
    "Now lets plot some biases against the WOA13 data set. We will use the original ACCESS-OM2 IAF runs, so first define a dictionary with information on those runs"
   ]
  },
  {
   "cell_type": "code",
   "execution_count": null,
   "id": "33cbb7f8",
   "metadata": {},
   "outputs": [],
   "source": [
    "from collections import OrderedDict\n",
    "exptdict = OrderedDict([\n",
    "    ('1degIAF', # 1deg IAF run from Kiss et al. 2020\n",
    "     {'model': 'ACCESS-OM2 IAF', 'expt': '1deg_jra55v13_iaf_spinup1_B1',\n",
    "      'n_files': -12, 'itime': '1998-01-01', 'ftime': None}),\n",
    "    ('025degIAF', # 025deg IAF run from Kiss et al. 2020\n",
    "     {'model': 'ACCESS-OM2-025 IAF', 'expt': '025deg_jra55v13_iaf_gmredi6',\n",
    "      'n_files': -34, 'itime': '1998-01-01', 'ftime': None}),\n",
    "    ('01degIAF', # 01deg IAF run from Kiss et al. 2020\n",
    "     {'model': 'ACCESS-OM2-01 IAF',  'expt': '01deg_jra55v13_iaf',\n",
    "      'n_files': None, 'itime': '1998-01-01','ftime': None})\n",
    "])"
   ]
  },
  {
   "cell_type": "markdown",
   "id": "c7c7b6a1",
   "metadata": {},
   "source": [
    "For each of these runs we then attach information to these dictionaries containing the matched WOA13 interpolated data sets. Note that we include a file name (with wildcards) so that we only use the monthly files and not the additional `ocean_temp_salt.res.nc` initial condition file."
   ]
  },
  {
   "cell_type": "code",
   "execution_count": null,
   "id": "ce938852",
   "metadata": {},
   "outputs": [],
   "source": [
    "# Add on pre-interpolated WOA13 directories for every run:\n",
    "for ekey in exptdict.keys():\n",
    "    e = exptdict[ekey]\n",
    "    if (ekey.find('025deg') != -1):\n",
    "        e['WOA13expt'] = '025_KDS50'\n",
    "        e['WOA13file'] = 'woa13_ts_??_mom025.nc'\n",
    "    elif (ekey.find('01deg') != -1):\n",
    "        e['WOA13expt'] = '01'\n",
    "        e['WOA13file'] = 'woa13_ts_??_mom01.nc'\n",
    "    else:\n",
    "        e['WOA13expt'] = '10_KDS50'\n",
    "        e['WOA13file'] = 'woa13_ts_??_mom10.nc'"
   ]
  },
  {
   "cell_type": "markdown",
   "id": "99369686",
   "metadata": {},
   "source": [
    "## SST and SSS biases\n",
    "\n",
    "We will start by plotting SST and SSS biases compared to WOA13. The following loop loads data from the model runs and the corresponding WOA13 data and saves them into the previous dictionary (as entries SST, SST_WOA13 and SST_anom and the same for SSS). This can take time..."
   ]
  },
  {
   "cell_type": "code",
   "execution_count": null,
   "id": "fc64ca47",
   "metadata": {},
   "outputs": [],
   "source": [
    "# Function to extract and load SST and SSS from the models, WOA13\n",
    "ekeys = ['1degIAF', '025degIAF', '01degIAF']\n",
    "for ekey in ekeys:\n",
    "    e = exptdict[ekey]\n",
    "    \n",
    "    # SST\n",
    "    \n",
    "    # Load surface temperature from model\n",
    "    cat_subset = catalog[e['expt']]\n",
    "    var_search = cat_subset.search(variable='temp')\n",
    "    darray = var_search.to_dask()\n",
    "    darray = darray['temp']\n",
    "    darray = darray.sel(time=slice(e['itime'], e['ftime']))\n",
    "    surface_temp = darray.isel(st_ocean=0)\n",
    "\n",
    "    # convert MOM time to datetime:\n",
    "    tstart = datetime.datetime.fromtimestamp(surface_temp.time.item(0) * 1e-9)\n",
    "    tend = datetime.datetime.fromtimestamp(surface_temp.time.item(-1) * 1e-9)\n",
    "    \n",
    "    # Extract a year range string and print (for title string):\n",
    "    e['yearrange'] = \"{} to {}\".format(tstart.strftime(\"%Y-%m\"), tend.strftime(\"%Y-%m\"),)\n",
    "    print(f\"{ekey}: {e['yearrange']}\")\n",
    "    \n",
    "    # Add SST to dictionary\n",
    "    e['SST'] = surface_temp.mean('time').load() - 273.15\n",
    "    \n",
    "    # Load WOA13 SST and add to dictionary\n",
    "    # ignore warning about ambiguous files\n",
    "    with warnings.catch_warnings():\n",
    "        warnings.simplefilter(\"ignore\", UserWarning)\n",
    "        cat_subset = catalog[e['WOA13expt']]\n",
    "        var_search = cat_subset.search(variable='temp')\n",
    "        darray = var_search.to_dask()\n",
    "        darray = darray['temp']\n",
    "        e['SST_WOA13'] = darray.isel(ZT=0).mean('time').load()\n",
    "    \n",
    "    # Calculate bias and add to dictionary\n",
    "    SST_anom = e['SST'] - e['SST_WOA13'].values \n",
    "    e['SST_anom'] = SST_anom.load()\n",
    "    \n",
    "    # SSS\n",
    "    cat_subset = catalog[e['expt']]\n",
    "    var_search = cat_subset.search(variable='salt')\n",
    "    darray = var_search.to_dask()\n",
    "    darray = darray['salt']\n",
    "    darray = darray.sel(time=slice(e['itime'], e['ftime']))\n",
    "    surface_salt = darray.isel(st_ocean=0)\n",
    "    e['SSS'] = surface_salt.mean('time').load()\n",
    "    with warnings.catch_warnings():\n",
    "        warnings.simplefilter(\"ignore\", UserWarning)\n",
    "        cat_subset = catalog[e['WOA13expt']]\n",
    "        var_search = cat_subset.search(variable='salt')\n",
    "        darray = var_search.to_dask()\n",
    "        darray = darray['salt']\n",
    "        e['SSS_WOA13'] = darray.isel(ZT=0).mean('time').load()\n",
    "\n",
    "    SSS_anom = e['SSS'] - e['SSS_WOA13'].values \n",
    "    e['SSS_anom'] = SSS_anom.load()"
   ]
  },
  {
   "cell_type": "markdown",
   "id": "503ad17c",
   "metadata": {},
   "source": [
    "Now that all the data is loaded, all we have to do is plot it.\n",
    "\n",
    "We first define a function to plot the SST"
   ]
  },
  {
   "cell_type": "code",
   "execution_count": null,
   "id": "b246ce16",
   "metadata": {},
   "outputs": [],
   "source": [
    "def plot_SST(ekeys):\n",
    "    clev = np.arange(-3, 3.25, 0.25)\n",
    "    land_50m = cft.NaturalEarthFeature('physical', 'land', '50m',\n",
    "                                       edgecolor='black',\n",
    "                                       facecolor='gray', linewidth=0.5)\n",
    "\n",
    "    for i, ekey in enumerate(ekeys):\n",
    "        e = exptdict[ekey]\n",
    "        ax1 = plt.subplot(1+len(ekeys)//2, 2, i+1,\n",
    "                          projection=ccrs.Robinson(central_longitude=-100))\n",
    "        ax1.coastlines(resolution='50m')\n",
    "        ax1.add_feature(land_50m)\n",
    "        pn = e['SST_anom'].plot.contourf(cmap=cm.cm.balance, levels=clev,\n",
    "                                        add_colorbar=False, transform=ccrs.PlateCarree())\n",
    "        plt.title(\"({}) {}, {}\".format(chr(ord('a') + i), e['model'], e['yearrange']))\n",
    "\n",
    "        if i == 0:#1:\n",
    "            # save plot for colourbar\n",
    "            p0 = pn\n",
    "\n",
    "    i = i+1\n",
    "    e = exptdict['01degIAF']\n",
    "    ax1 = plt.subplot(1+len(ekeys)//2, 2, i+1,\n",
    "                      projection=ccrs.Robinson(central_longitude=-100))\n",
    "    ax1.coastlines(resolution='50m')\n",
    "    ax1.add_feature(land_50m)\n",
    "    pn = e['SST_WOA13'].plot.contourf(cmap=cm.cm.thermal, levels=np.arange(-2., 32., 1.),\n",
    "                                      add_colorbar=False, transform=ccrs.PlateCarree())\n",
    "    plt.title(\"({}) WOA13\".format(chr(ord('a') + i)))\n",
    "\n",
    "    ax5 = plt.axes([0.92, 0.52, 0.01, 0.33])\n",
    "    cb = plt.colorbar(p0, cax=ax5, orientation='vertical')\n",
    "    cb.ax.set_ylabel('SST anomaly (°C)')\n",
    "\n",
    "    ax6 = plt.axes([0.92,0.13,0.01,0.33])\n",
    "    cb = plt.colorbar(pn, cax=ax6, orientation='vertical')\n",
    "    cb.ax.set_ylabel('SST (°C)')"
   ]
  },
  {
   "cell_type": "markdown",
   "id": "94ef1c29",
   "metadata": {},
   "source": [
    "We now plot IAF and RYF SST biases at 3 resolutions:"
   ]
  },
  {
   "cell_type": "code",
   "execution_count": null,
   "id": "9e3793e9",
   "metadata": {
    "tags": []
   },
   "outputs": [],
   "source": [
    "fig = plt.figure(figsize=(14, 10))\n",
    "ekeys = ['01degIAF', '025degIAF', '1degIAF']\n",
    "plot_SST(ekeys)"
   ]
  },
  {
   "cell_type": "markdown",
   "id": "47f455c3",
   "metadata": {},
   "source": [
    "Then we do the same for sea surface salinity biases"
   ]
  },
  {
   "cell_type": "code",
   "execution_count": null,
   "id": "6e712846",
   "metadata": {},
   "outputs": [],
   "source": [
    "def plot_SSS(ekeys):\n",
    "    clev = np.arange(-1.5, 1.6, 0.1)\n",
    "    land_50m = cft.NaturalEarthFeature('physical', 'land', '50m',\n",
    "                                       edgecolor='black',\n",
    "                                       facecolor='gray',linewidth=0.5)\n",
    "\n",
    "    for i, ekey in enumerate(ekeys):\n",
    "        e = exptdict[ekey]\n",
    "        ax1 = plt.subplot(1+len(ekeys)//2, 2, i+1,\n",
    "                          projection=ccrs.Robinson(central_longitude=-100))\n",
    "        ax1.coastlines(resolution='50m')\n",
    "        ax1.add_feature(land_50m)\n",
    "        pn = e['SSS_anom'].plot.contourf(cmap=cm.cm.balance, levels=clev,\n",
    "                                         add_colorbar=False, transform=ccrs.PlateCarree())\n",
    "        plt.title(\"({}) {}, {}\".format(chr(ord('a') + i), e['model'], e['yearrange']))\n",
    "        \n",
    "        if i == 1:\n",
    "            # save plot for colourbar\n",
    "            p0 = pn\n",
    "\n",
    "    i = i+1\n",
    "    e = exptdict['01degIAF']\n",
    "    ax1 = plt.subplot(1+len(ekeys)//2, 2, i+1,\n",
    "                      projection=ccrs.Robinson(central_longitude=-100))\n",
    "    ax1.coastlines(resolution='50m')\n",
    "    ax1.add_feature(land_50m)\n",
    "    pn = e['SSS_WOA13'].plot.contourf(cmap=cm.cm.thermal, levels=np.arange(31., 36.2, 0.2),\n",
    "                                      add_colorbar=False, transform=ccrs.PlateCarree())\n",
    "    plt.title(\"({}) WOA13\".format(chr(ord('a') + i)))\n",
    "\n",
    "    ax5 = plt.axes([0.92, 0.52, 0.01, 0.33])\n",
    "    cb = plt.colorbar(p0, cax=ax5, orientation='vertical')\n",
    "    cb.ax.set_ylabel('SSS anomaly (psu)')\n",
    "\n",
    "    ax6 = plt.axes([0.92, 0.13, 0.01, 0.33])\n",
    "    cb = plt.colorbar(pn, cax=ax6, orientation='vertical')\n",
    "    cb.ax.set_ylabel('SSS (psu)')"
   ]
  },
  {
   "cell_type": "markdown",
   "id": "8629bbc7",
   "metadata": {
    "tags": []
   },
   "source": [
    "Plot IAF and RYF SSS biases at 3 resolutions:"
   ]
  },
  {
   "cell_type": "code",
   "execution_count": null,
   "id": "ff098003",
   "metadata": {},
   "outputs": [],
   "source": [
    "fig = plt.figure(figsize=(14, 10))\n",
    "ekeys = ['01degIAF', '025degIAF', '1degIAF']\n",
    "plot_SSS(ekeys)"
   ]
  },
  {
   "cell_type": "markdown",
   "id": "2062cad0",
   "metadata": {},
   "source": [
    "## Equatorial Pacific Temperature and Salinity Longitude-depth biases\n",
    "\n",
    "Our final example compares temperature and salinity biases in the tropical Pacific (note, this overlaps somewhat with the `Equatorial_thermal_and_zonal_velocity_structure.ipynb` documented example).\n",
    "\n",
    "We follow the same procedure as before, first loading the data."
   ]
  },
  {
   "cell_type": "code",
   "execution_count": null,
   "id": "09bf9b4f",
   "metadata": {},
   "outputs": [],
   "source": [
    "# Define list of experiments to load (useful for testing):\n",
    "ekeys = ['1degIAF', '025degIAF', '01degIAF']\n",
    "\n",
    "# Loop through models\n",
    "for ekey in ekeys:\n",
    "    e = exptdict[ekey]\n",
    "    \n",
    "    # Load temperature\n",
    "    cat_subset = catalog[e['expt']]\n",
    "    var_search = cat_subset.search(variable='temp')\n",
    "    darray = var_search.to_dask()\n",
    "    darray = darray['temp']\n",
    "    darray = darray.sel(time=slice(e['itime'], e['ftime']))\n",
    "    eq_temp = darray.sel(yt_ocean=0, method='nearest')\n",
    "\n",
    "    # convert MOM time to datetime:\n",
    "    tstart = datetime.datetime.fromtimestamp(eq_temp.time.item(0) * 1e-9)\n",
    "    tend = datetime.datetime.fromtimestamp(eq_temp.time.item(-1) * 1e-9)\n",
    "    \n",
    "    # Set a text string to add the year range in title.\n",
    "    e['yearrange'] = \"{} to {}\".format(tstart.strftime(\"%Y-%m\"), tend.strftime(\"%Y-%m\"),)\n",
    "    print(f\"{ekey}: {e['yearrange']}\")\n",
    "\n",
    "    # Extract the WOA13 data\n",
    "    with warnings.catch_warnings():\n",
    "        warnings.simplefilter(\"ignore\", UserWarning)\n",
    "        cat_subset = catalog[e['WOA13expt']]\n",
    "        var_search = cat_subset.search(variable='temp')\n",
    "        darray = var_search.to_dask()\n",
    "        darray = darray['temp']\n",
    "        e['eq_temp_WOA13'] = darray.sel(GRID_Y_T=0., method='nearest').mean('time')\n",
    "    \n",
    "    # Calculate the bias\n",
    "    eq_temp_anom = eq_temp.mean('time') - 273.15 - e['eq_temp_WOA13'].values\n",
    "    eq_temp_anom.attrs['units'] = 'degrees Celsius'\n",
    "    \n",
    "    e['eq_temp_anom'] = eq_temp_anom.load()\n",
    "    \n",
    "    # Do salt as for temperature above\n",
    "    cat_subset = catalog[e['expt']]\n",
    "    var_search = cat_subset.search(variable='salt')\n",
    "    darray = var_search.to_dask()\n",
    "    darray = darray['salt']\n",
    "    darray = darray.sel(time=slice(e['itime'], e['ftime']))\n",
    "    eq_salt = darray.sel(yt_ocean=0, method='nearest')\n",
    "    with warnings.catch_warnings():\n",
    "        warnings.simplefilter(\"ignore\", UserWarning)\n",
    "        cat_subset = catalog[e['WOA13expt']]\n",
    "        var_search = cat_subset.search(variable='salt')\n",
    "        darray = var_search.to_dask()\n",
    "        darray = darray['salt']\n",
    "        e['eq_salt_WOA13'] = darray.sel(GRID_Y_T=0.,method='nearest').mean('time')\n",
    "    eq_salt_anom = eq_salt.mean('time') - e['eq_salt_WOA13'].values\n",
    "    e['eq_salt_anom'] = eq_salt_anom.load()"
   ]
  },
  {
   "cell_type": "markdown",
   "id": "1920de60",
   "metadata": {},
   "source": [
    "Then plotting equatorial plots of temperature biases"
   ]
  },
  {
   "cell_type": "code",
   "execution_count": null,
   "id": "6d0c2383",
   "metadata": {},
   "outputs": [],
   "source": [
    "# Define a function to plot Equatorial Slices of temperature:\n",
    "def plot_eqtemp(ekeys):\n",
    "    \n",
    "    # Define contour levels\n",
    "    clev = np.arange(-3.,3.25,0.25)\n",
    "\n",
    "    # Loop through models\n",
    "    for i, ekey in enumerate(ekeys):\n",
    "        e = exptdict[ekey]\n",
    "        ax1 = plt.subplot(int(np.ceil(len(ekeys)/2)), 2, i+1)\n",
    "        \n",
    "        # Plot bias as color\n",
    "        pn = e['eq_temp_anom'].plot.contourf(cmap='bwr', levels=clev, add_colorbar=False, yincrease=False)\n",
    "        \n",
    "        # Plot WOA13 isotherms (and 20C bold)\n",
    "        CS = e['eq_temp_WOA13'].plot.contour(levels=np.arange(0, 32, 2), colors='k')\n",
    "        ax1.clabel(CS, inline=False, fmt='%d', fontsize=15)\n",
    "        e['eq_temp_WOA13'].plot.contour(levels=[20.], colors='k', linewidths=3.)\n",
    "        (e['eq_temp_anom'] + e['eq_temp_WOA13'].values).plot.contour(levels=[20.], colors='k',\n",
    "                                                                     linewidths=3., linestyles='--')\n",
    "        \n",
    "        # Add annotations\n",
    "        plt.title(\"({}) {}, {}\".format(chr(ord('a') + i), e['model'], e['yearrange']))\n",
    "        ax1.set_ylim([300., 0.])\n",
    "        ax1.set_xlim([-220., -80.])\n",
    "        ax1.set_ylabel('Depth (m)')\n",
    "        ax1.set_xlabel('Longitude ($^\\circ$E)')\n",
    "        \n",
    "        if i == 0:\n",
    "            ax1.text(-210., 275., 'WOA13 Isotherms', fontsize=15)\n",
    "            p0 = pn\n",
    "\n",
    "    ax5 = plt.axes([0.92, 0.2, 0.01, 0.5])\n",
    "    cb = plt.colorbar(p0, cax=ax5, orientation='vertical')\n",
    "    cb.ax.set_ylabel('Temperature anomaly (°C)')"
   ]
  },
  {
   "cell_type": "markdown",
   "id": "a0228628",
   "metadata": {},
   "source": [
    "Plot temperature comparison of IAF simulations."
   ]
  },
  {
   "cell_type": "code",
   "execution_count": null,
   "id": "8f1864c8",
   "metadata": {},
   "outputs": [],
   "source": [
    "fig = plt.figure(figsize=(14, 12))\n",
    "ekeys = ['1degIAF', '025degIAF', '01degIAF']\n",
    "plot_eqtemp(ekeys)"
   ]
  },
  {
   "cell_type": "markdown",
   "id": "22a1644e",
   "metadata": {},
   "source": [
    "And finally, repeat the same for salinity."
   ]
  },
  {
   "cell_type": "code",
   "execution_count": null,
   "id": "d56435df",
   "metadata": {},
   "outputs": [],
   "source": [
    "# Define a function to plot Equatorial Slices of salinity\n",
    "def plot_eqsalt(ekeys):\n",
    "    \n",
    "    # Define contour levels\n",
    "    clev = np.arange(-1., 1.1, 0.1)\n",
    "\n",
    "    # Loop through models\n",
    "    for i, ekey in enumerate(ekeys):\n",
    "        e = exptdict[ekey]\n",
    "        ax1 = plt.subplot(int(np.ceil(len(ekeys)/2)), 2, i+1)\n",
    "        \n",
    "        # Plot bias as color\n",
    "        pn = e['eq_salt_anom'].plot.contourf(cmap='bwr', levels=clev, add_colorbar=False, yincrease=False)\n",
    "        \n",
    "        # Plot WOA13 salinity (and 20C bold)\n",
    "        CS = e['eq_salt_WOA13'].plot.contour(levels=np.arange(30., 36.1, 0.1), colors='k')\n",
    "        ax1.clabel(CS, inline=False, fmt='%3.2f', fontsize=15)\n",
    "        \n",
    "        # Add annotations\n",
    "        plt.title(\"({}) {}, {}\".format(chr(ord('a') + i), e['model'], e['yearrange']))\n",
    "        ax1.set_ylim([300., 0.])\n",
    "        ax1.set_xlim([-220., -80.])\n",
    "        ax1.set_ylabel('Depth (m)')\n",
    "        ax1.set_xlabel('Longitude ($^\\circ$E)')\n",
    "        \n",
    "        if i == 0:\n",
    "            ax1.text(-210., 275., 'WOA13 Isohalines', fontsize=15)\n",
    "            p0 = pn\n",
    "\n",
    "    ax5 = plt.axes([0.92, 0.2, 0.01, 0.5])\n",
    "    cb = plt.colorbar(p0, cax=ax5, orientation='vertical')\n",
    "    cb.ax.set_ylabel('Salinity anomaly (psu)')"
   ]
  },
  {
   "cell_type": "markdown",
   "id": "8c43eb1c",
   "metadata": {},
   "source": [
    "Plot salinity comparisson for IAF simulations."
   ]
  },
  {
   "cell_type": "code",
   "execution_count": null,
   "id": "a25c5907",
   "metadata": {},
   "outputs": [],
   "source": [
    "fig = plt.figure(figsize=(14, 12))\n",
    "ekeys = ['1degIAF', '025degIAF', '01degIAF']\n",
    "plot_eqsalt(ekeys)"
   ]
  }
 ],
 "metadata": {
  "kernelspec": {
   "display_name": "Python [conda env:analysis3-23.07] *",
   "language": "python",
   "name": "conda-env-analysis3-23.07-py"
  },
  "language_info": {
   "codemirror_mode": {
    "name": "ipython",
    "version": 3
   },
   "file_extension": ".py",
   "mimetype": "text/x-python",
   "name": "python",
   "nbconvert_exporter": "python",
   "pygments_lexer": "ipython3",
   "version": "3.10.13"
  }
 },
 "nbformat": 4,
 "nbformat_minor": 5
}
