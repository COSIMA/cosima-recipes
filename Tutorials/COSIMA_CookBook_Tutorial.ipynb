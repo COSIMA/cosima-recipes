{
 "cells": [
  {
   "cell_type": "markdown",
   "id": "dea49a38",
   "metadata": {},
   "source": [
    "# How to use the COSIMA Cookbook\n",
    "\n",
    "This notebook is designed to help new users get to grips with the COSIMA Cookbook.\n",
    "\n",
    "It assumes that:\n",
    " * You have access to the COSIMA cookbook.\n",
    " * We recommend using the latest version of the cookbook available through the `conda/analysis3-unstable` module on NCI.\n",
    " * You can fire up a Jupyter notebook!"
   ]
  },
  {
   "cell_type": "markdown",
   "id": "c48f0cf4",
   "metadata": {},
   "source": [
    "**Before starting,** load in some standard libraries that you are likely to need:"
   ]
  },
  {
   "cell_type": "code",
   "execution_count": 1,
   "id": "f39d4333",
   "metadata": {},
   "outputs": [],
   "source": [
    "%matplotlib inline\n",
    "%config InlineBackend.figure_format='retina'\n",
    "\n",
    "import pandas as pd\n",
    "import matplotlib.pyplot as plt\n",
    "import cmocean as cm\n",
    "import xarray as xr\n",
    "import numpy as np\n",
    "import IPython.display"
   ]
  },
  {
   "cell_type": "markdown",
   "id": "b502127b",
   "metadata": {},
   "source": [
    "In addition, you **always** need to load the `cosima_cookbook` module. This provides a bunch of functions that we use:"
   ]
  },
  {
   "cell_type": "code",
   "execution_count": 2,
   "id": "fbc370c2-b77b-4570-8f4e-5c8246bb8f1f",
   "metadata": {},
   "outputs": [
    {
     "data": {
      "text/html": [
       "<div>\n",
       "    <div style=\"width: 24px; height: 24px; background-color: #e1e1e1; border: 3px solid #9D9D9D; border-radius: 5px; position: absolute;\"> </div>\n",
       "    <div style=\"margin-left: 48px;\">\n",
       "        <h3 style=\"margin-bottom: 0px;\">Client</h3>\n",
       "        <p style=\"color: #9D9D9D; margin-bottom: 0px;\">Client-c2079cc9-8822-11ee-b553-00000088fe80</p>\n",
       "        <table style=\"width: 100%; text-align: left;\">\n",
       "\n",
       "        <tr>\n",
       "        \n",
       "            <td style=\"text-align: left;\"><strong>Connection method:</strong> Direct</td>\n",
       "            <td style=\"text-align: left;\"></td>\n",
       "        \n",
       "        </tr>\n",
       "\n",
       "        \n",
       "            <tr>\n",
       "                <td style=\"text-align: left;\">\n",
       "                    <strong>Dashboard: </strong> <a href=\"/proxy/8787/status\" target=\"_blank\">/proxy/8787/status</a>\n",
       "                </td>\n",
       "                <td style=\"text-align: left;\"></td>\n",
       "            </tr>\n",
       "        \n",
       "\n",
       "        </table>\n",
       "\n",
       "        \n",
       "            <button style=\"margin-bottom: 12px;\" data-commandlinker-command=\"dask:populate-and-launch-layout\" data-commandlinker-args='{\"url\": \"/proxy/8787/status\" }'>\n",
       "                Launch dashboard in JupyterLab\n",
       "            </button>\n",
       "        \n",
       "\n",
       "        \n",
       "            <details>\n",
       "            <summary style=\"margin-bottom: 20px;\"><h3 style=\"display: inline;\">Scheduler Info</h3></summary>\n",
       "            <div style=\"\">\n",
       "    <div>\n",
       "        <div style=\"width: 24px; height: 24px; background-color: #FFF7E5; border: 3px solid #FF6132; border-radius: 5px; position: absolute;\"> </div>\n",
       "        <div style=\"margin-left: 48px;\">\n",
       "            <h3 style=\"margin-bottom: 0px;\">Scheduler</h3>\n",
       "            <p style=\"color: #9D9D9D; margin-bottom: 0px;\">Scheduler-795ebeb9-a5d5-4b0b-9515-7fc65a600071</p>\n",
       "            <table style=\"width: 100%; text-align: left;\">\n",
       "                <tr>\n",
       "                    <td style=\"text-align: left;\">\n",
       "                        <strong>Comm:</strong> tcp://10.6.58.34:8786\n",
       "                    </td>\n",
       "                    <td style=\"text-align: left;\">\n",
       "                        <strong>Workers:</strong> 1\n",
       "                    </td>\n",
       "                </tr>\n",
       "                <tr>\n",
       "                    <td style=\"text-align: left;\">\n",
       "                        <strong>Dashboard:</strong> <a href=\"/proxy/8787/status\" target=\"_blank\">/proxy/8787/status</a>\n",
       "                    </td>\n",
       "                    <td style=\"text-align: left;\">\n",
       "                        <strong>Total threads:</strong> 12\n",
       "                    </td>\n",
       "                </tr>\n",
       "                <tr>\n",
       "                    <td style=\"text-align: left;\">\n",
       "                        <strong>Started:</strong> 3 hours ago\n",
       "                    </td>\n",
       "                    <td style=\"text-align: left;\">\n",
       "                        <strong>Total memory:</strong> 46.00 GiB\n",
       "                    </td>\n",
       "                </tr>\n",
       "            </table>\n",
       "        </div>\n",
       "    </div>\n",
       "\n",
       "    <details style=\"margin-left: 48px;\">\n",
       "        <summary style=\"margin-bottom: 20px;\">\n",
       "            <h3 style=\"display: inline;\">Workers</h3>\n",
       "        </summary>\n",
       "\n",
       "        \n",
       "        <div style=\"margin-bottom: 20px;\">\n",
       "            <div style=\"width: 24px; height: 24px; background-color: #DBF5FF; border: 3px solid #4CC9FF; border-radius: 5px; position: absolute;\"> </div>\n",
       "            <div style=\"margin-left: 48px;\">\n",
       "            <details>\n",
       "                <summary>\n",
       "                    <h4 style=\"margin-bottom: 0px; display: inline;\">Worker: tcp://10.6.58.34:40723</h4>\n",
       "                </summary>\n",
       "                <table style=\"width: 100%; text-align: left;\">\n",
       "                    <tr>\n",
       "                        <td style=\"text-align: left;\">\n",
       "                            <strong>Comm: </strong> tcp://10.6.58.34:40723\n",
       "                        </td>\n",
       "                        <td style=\"text-align: left;\">\n",
       "                            <strong>Total threads: </strong> 12\n",
       "                        </td>\n",
       "                    </tr>\n",
       "                    <tr>\n",
       "                        <td style=\"text-align: left;\">\n",
       "                            <strong>Dashboard: </strong> <a href=\"/proxy/41799/status\" target=\"_blank\">/proxy/41799/status</a>\n",
       "                        </td>\n",
       "                        <td style=\"text-align: left;\">\n",
       "                            <strong>Memory: </strong> 46.00 GiB\n",
       "                        </td>\n",
       "                    </tr>\n",
       "                    <tr>\n",
       "                        <td style=\"text-align: left;\">\n",
       "                            <strong>Nanny: </strong> tcp://10.6.58.34:36889\n",
       "                        </td>\n",
       "                        <td style=\"text-align: left;\"></td>\n",
       "                    </tr>\n",
       "                    <tr>\n",
       "                        <td colspan=\"2\" style=\"text-align: left;\">\n",
       "                            <strong>Local directory: </strong> /scratch/iq82/mp7041/dasktmp/dask-scratch-space/worker-poxqoog5\n",
       "                        </td>\n",
       "                    </tr>\n",
       "\n",
       "                    \n",
       "\n",
       "                    \n",
       "                    <tr>\n",
       "                        <td style=\"text-align: left;\">\n",
       "                            <strong>Tasks executing: </strong> \n",
       "                        </td>\n",
       "                        <td style=\"text-align: left;\">\n",
       "                            <strong>Tasks in memory: </strong> \n",
       "                        </td>\n",
       "                    </tr>\n",
       "                    <tr>\n",
       "                        <td style=\"text-align: left;\">\n",
       "                            <strong>Tasks ready: </strong> \n",
       "                        </td>\n",
       "                        <td style=\"text-align: left;\">\n",
       "                            <strong>Tasks in flight: </strong>\n",
       "                        </td>\n",
       "                    </tr>\n",
       "                    <tr>\n",
       "                        <td style=\"text-align: left;\">\n",
       "                            <strong>CPU usage:</strong> 2.0%\n",
       "                        </td>\n",
       "                        <td style=\"text-align: left;\">\n",
       "                            <strong>Last seen: </strong> Just now\n",
       "                        </td>\n",
       "                    </tr>\n",
       "                    <tr>\n",
       "                        <td style=\"text-align: left;\">\n",
       "                            <strong>Memory usage: </strong> 2.04 GiB\n",
       "                        </td>\n",
       "                        <td style=\"text-align: left;\">\n",
       "                            <strong>Spilled bytes: </strong> 0 B\n",
       "                        </td>\n",
       "                    </tr>\n",
       "                    <tr>\n",
       "                        <td style=\"text-align: left;\">\n",
       "                            <strong>Read bytes: </strong> 10.56 kiB\n",
       "                        </td>\n",
       "                        <td style=\"text-align: left;\">\n",
       "                            <strong>Write bytes: </strong> 10.36 kiB\n",
       "                        </td>\n",
       "                    </tr>\n",
       "                    \n",
       "\n",
       "                </table>\n",
       "            </details>\n",
       "            </div>\n",
       "        </div>\n",
       "        \n",
       "\n",
       "    </details>\n",
       "</div>\n",
       "            </details>\n",
       "        \n",
       "\n",
       "    </div>\n",
       "</div>"
      ],
      "text/plain": [
       "<Client: 'tcp://10.6.58.34:8786' processes=1 threads=12, memory=46.00 GiB>"
      ]
     },
     "execution_count": 2,
     "metadata": {},
     "output_type": "execute_result"
    }
   ],
   "source": [
    "from dask.distributed import Client\n",
    "client = Client(\"tcp://10.6.58.34:8786\")\n",
    "client"
   ]
  },
  {
   "cell_type": "code",
   "execution_count": 3,
   "id": "6c0b9077",
   "metadata": {},
   "outputs": [],
   "source": [
    "import intake\n",
    "catalog = intake.cat.access_nri"
   ]
  },
  {
   "cell_type": "markdown",
   "id": "c02e526f",
   "metadata": {},
   "source": [
    "## 1. The Cookbook Philosophy\n",
    "The COSIMA Cookbook is a framework for analysing ocean-sea ice model output.\n",
    "It is designed to:\n",
    "\n",
    "* Provide examples of commonly used diagnostics;\n",
    "* Write efficient, well-documented, openly accessible code;\n",
    "* Encourage community input to the code;\n",
    "* Ensure diagnostic results are reproducible;\n",
    "* Process diagnostics directly from the model output, minimising creation of intermediate files;\n",
    "* Find methods to deal with the memory limitations of analysing high-resolution model output.\n",
    "\n",
    "\n",
    "### 1.1 A database of experiments\n",
    "The COSIMA Cookbook relies on a database of experiments in order to load model output. This database effectively holds metadata for each experiment, as well as variable names, data ranges and so on. \n",
    "\n",
    "**NCI Projects**: Access to COSIMA ocean-sea ice model output requires that you are a member of NCI projects `hh5` and `ik11` and, potentially also of `cj50`, and `jk72`.\n",
    "\n",
    "With that sorted out, there are three different ways for you to access the database:\n",
    "\n",
    "1. Use the default database, which is periodically refreshed automatically. This database sits in `/g/data/ik11/databases/cosima_master.db` and should be readable for all users. It includes all experiments stored in the COSIMA data directories on NCI under various projects mentioned above. The examples in this tutorial use this database.\n",
    "\n",
    "2. Use some of the databases sitting in `/g/data/ik11/databases/`. Note that some may *not* be up to date.\n",
    "\n",
    "3. Make your own database, which is stored in your own path and includes only the experiments you are interested in. Please refer to the `Make_Your_Own_Database` tutorial for instructions on how to create this database.\n",
    "\n",
    "To access the default database, you need to start a database session each time you fire up a notebook:"
   ]
  },
  {
   "cell_type": "code",
   "execution_count": null,
   "id": "584de59d",
   "metadata": {},
   "outputs": [],
   "source": []
  },
  {
   "cell_type": "markdown",
   "id": "9ffc3ed8",
   "metadata": {},
   "source": [
    "### 1.2 Inbuilt Database Functions\n",
    "\n",
    "We have constructed a few functions to help you operate the cookbook and to access the datasets. These functions all sit in the `cosima_cookbook` directory. The following functions query the data available in the database, without loading the data itself.\n",
    "\n",
    "They return `pandas` dataframes, which by default are truncated to show only the first and last 5 rows. To see more results, we need to set an option in `pandas` itself:\n",
    "\n",
    "```python\n",
    "import pandas as pd\n",
    "pd.set_option(\"display.max_rows\", n)\n",
    "```\n",
    "\n",
    "Where `n` is the maximum number of rows to display without truncation; if there are more rows, the result will again be truncated. Pass `None` to never truncate (but some dataframes can be very big!)"
   ]
  },
  {
   "cell_type": "markdown",
   "id": "df2ed273",
   "metadata": {},
   "source": [
    "`get_experiments` lists all of the experiments that are catalogued in the database."
   ]
  },
  {
   "cell_type": "code",
   "execution_count": 5,
   "id": "92a1fbf2",
   "metadata": {},
   "outputs": [
    {
     "data": {
      "text/plain": [
       "['01deg_jra55v13_ryf9091',\n",
       " '01deg_jra55v140_iaf',\n",
       " '01deg_jra55v140_iaf_cycle2',\n",
       " '01deg_jra55v140_iaf_cycle3',\n",
       " '01deg_jra55v140_iaf_cycle4',\n",
       " '01deg_jra55v140_iaf_cycle4_jra55v150_extension',\n",
       " '01deg_jra55v150_iaf_cycle1',\n",
       " '025deg_jra55_iaf_omip2_cycle1',\n",
       " '025deg_jra55_iaf_omip2_cycle2',\n",
       " '025deg_jra55_iaf_omip2_cycle3',\n",
       " '025deg_jra55_iaf_omip2_cycle4',\n",
       " '025deg_jra55_iaf_omip2_cycle5',\n",
       " '025deg_jra55_iaf_omip2_cycle6',\n",
       " '025deg_jra55_ryf9091_gadi',\n",
       " '1deg_jra55_iaf_omip2_cycle1',\n",
       " '1deg_jra55_iaf_omip2_cycle2',\n",
       " '1deg_jra55_iaf_omip2_cycle3',\n",
       " '1deg_jra55_iaf_omip2_cycle4',\n",
       " '1deg_jra55_iaf_omip2_cycle5',\n",
       " '1deg_jra55_iaf_omip2_cycle6',\n",
       " '1deg_jra55_iaf_omip2spunup_cycle1',\n",
       " '1deg_jra55_iaf_omip2spunup_cycle10',\n",
       " '1deg_jra55_iaf_omip2spunup_cycle11',\n",
       " '1deg_jra55_iaf_omip2spunup_cycle12',\n",
       " '1deg_jra55_iaf_omip2spunup_cycle13',\n",
       " '1deg_jra55_iaf_omip2spunup_cycle14',\n",
       " '1deg_jra55_iaf_omip2spunup_cycle15',\n",
       " '1deg_jra55_iaf_omip2spunup_cycle16',\n",
       " '1deg_jra55_iaf_omip2spunup_cycle17',\n",
       " '1deg_jra55_iaf_omip2spunup_cycle18',\n",
       " '1deg_jra55_iaf_omip2spunup_cycle19',\n",
       " '1deg_jra55_iaf_omip2spunup_cycle2',\n",
       " '1deg_jra55_iaf_omip2spunup_cycle20',\n",
       " '1deg_jra55_iaf_omip2spunup_cycle21',\n",
       " '1deg_jra55_iaf_omip2spunup_cycle22',\n",
       " '1deg_jra55_iaf_omip2spunup_cycle23',\n",
       " '1deg_jra55_iaf_omip2spunup_cycle24',\n",
       " '1deg_jra55_iaf_omip2spunup_cycle25',\n",
       " '1deg_jra55_iaf_omip2spunup_cycle26',\n",
       " '1deg_jra55_iaf_omip2spunup_cycle27',\n",
       " '1deg_jra55_iaf_omip2spunup_cycle28',\n",
       " '1deg_jra55_iaf_omip2spunup_cycle29',\n",
       " '1deg_jra55_iaf_omip2spunup_cycle3',\n",
       " '1deg_jra55_iaf_omip2spunup_cycle30',\n",
       " '1deg_jra55_iaf_omip2spunup_cycle31',\n",
       " '1deg_jra55_iaf_omip2spunup_cycle32',\n",
       " '1deg_jra55_iaf_omip2spunup_cycle33',\n",
       " '1deg_jra55_iaf_omip2spunup_cycle34',\n",
       " '1deg_jra55_iaf_omip2spunup_cycle35',\n",
       " '1deg_jra55_iaf_omip2spunup_cycle36',\n",
       " '1deg_jra55_iaf_omip2spunup_cycle37',\n",
       " '1deg_jra55_iaf_omip2spunup_cycle38',\n",
       " '1deg_jra55_iaf_omip2spunup_cycle39',\n",
       " '1deg_jra55_iaf_omip2spunup_cycle4',\n",
       " '1deg_jra55_iaf_omip2spunup_cycle40',\n",
       " '1deg_jra55_iaf_omip2spunup_cycle41',\n",
       " '1deg_jra55_iaf_omip2spunup_cycle42',\n",
       " '1deg_jra55_iaf_omip2spunup_cycle43',\n",
       " '1deg_jra55_iaf_omip2spunup_cycle44',\n",
       " '1deg_jra55_iaf_omip2spunup_cycle45',\n",
       " '1deg_jra55_iaf_omip2spunup_cycle5',\n",
       " '1deg_jra55_iaf_omip2spunup_cycle6',\n",
       " '1deg_jra55_iaf_omip2spunup_cycle7',\n",
       " '1deg_jra55_iaf_omip2spunup_cycle8',\n",
       " '1deg_jra55_iaf_omip2spunup_cycle9',\n",
       " '1deg_jra55_ryf9091_gadi',\n",
       " 'HI_CN_05',\n",
       " 'HI_C_05_r1',\n",
       " 'HI_nl_C_05_r1',\n",
       " 'HI_noluc_CN_05',\n",
       " 'PI_GWL_B2035',\n",
       " 'PI_GWL_B2040',\n",
       " 'PI_GWL_B2045',\n",
       " 'PI_GWL_B2050',\n",
       " 'PI_GWL_B2055',\n",
       " 'PI_GWL_B2060',\n",
       " 'bx944',\n",
       " 'by473',\n",
       " 'by578',\n",
       " 'by647',\n",
       " 'bz687',\n",
       " 'cj877',\n",
       " 'cmip5_al33',\n",
       " 'cmip5_rr3',\n",
       " 'cmip6_fs38',\n",
       " 'cmip6_oi10']"
      ]
     },
     "execution_count": 5,
     "metadata": {},
     "output_type": "execute_result"
    }
   ],
   "source": [
    "sorted(set(catalog.df['name']))"
   ]
  },
  {
   "cell_type": "markdown",
   "id": "dd423fe9",
   "metadata": {},
   "source": [
    "Internally, an experiment is a set of netCDF4 files as shown in the above table."
   ]
  },
  {
   "cell_type": "markdown",
   "id": "c5cac5b0",
   "metadata": {},
   "source": [
    "`get_ncfiles` provides a list of all the netcdf filenames saved for a given experiment along with the time stamp for when that file was added to the cookbook database. Note that each of these filenames are present in some or all of the output directories -- **but the cookbook philosophy is that you don't need to know about the directories in which these files are stored**. To see the relevant files:"
   ]
  },
  {
   "cell_type": "markdown",
   "id": "036562d7",
   "metadata": {},
   "source": [
    "More usefully, `get_variables` provides a list of all the variables available in a specific experiment. "
   ]
  },
  {
   "cell_type": "code",
   "execution_count": null,
   "id": "60dea382-77bc-4f3b-92bc-5cd5f1490c87",
   "metadata": {},
   "outputs": [],
   "source": [
    "catalog.search"
   ]
  },
  {
   "cell_type": "code",
   "execution_count": 7,
   "id": "b5ea668b",
   "metadata": {},
   "outputs": [
    {
     "ename": "KeyError",
     "evalue": "\"key='025deg_jra55v13_iaf_gmredi6' not found in catalog. You can access the list of valid source keys via the .keys() method.\"",
     "output_type": "error",
     "traceback": [
      "\u001b[0;31m---------------------------------------------------------------------------\u001b[0m",
      "\u001b[0;31mKeyError\u001b[0m                                  Traceback (most recent call last)",
      "File \u001b[0;32m/g/data/hh5/public/apps/miniconda3/envs/analysis3-23.07/lib/python3.10/site-packages/intake_dataframe_catalog/core.py:155\u001b[0m, in \u001b[0;36mDfFileCatalog.__getitem__\u001b[0;34m(self, key)\u001b[0m\n\u001b[1;32m    154\u001b[0m \u001b[38;5;28;01mtry\u001b[39;00m:\n\u001b[0;32m--> 155\u001b[0m     \u001b[38;5;28;01mreturn\u001b[39;00m \u001b[38;5;28;43mself\u001b[39;49m\u001b[38;5;241;43m.\u001b[39;49m\u001b[43m_entries\u001b[49m\u001b[43m[\u001b[49m\u001b[43mkey\u001b[49m\u001b[43m]\u001b[49m\n\u001b[1;32m    156\u001b[0m \u001b[38;5;28;01mexcept\u001b[39;00m \u001b[38;5;167;01mKeyError\u001b[39;00m \u001b[38;5;28;01mas\u001b[39;00m e:\n",
      "\u001b[0;31mKeyError\u001b[0m: '025deg_jra55v13_iaf_gmredi6'",
      "\nThe above exception was the direct cause of the following exception:\n",
      "\u001b[0;31mKeyError\u001b[0m                                  Traceback (most recent call last)",
      "Cell \u001b[0;32mIn[7], line 1\u001b[0m\n\u001b[0;32m----> 1\u001b[0m dd \u001b[38;5;241m=\u001b[39m \u001b[43mcatalog\u001b[49m\u001b[43m[\u001b[49m\u001b[38;5;124;43m'\u001b[39;49m\u001b[38;5;124;43m025deg_jra55v13_iaf_gmredi6\u001b[39;49m\u001b[38;5;124;43m'\u001b[39;49m\u001b[43m]\u001b[49m\u001b[38;5;241m.\u001b[39msearch(frequency\u001b[38;5;241m=\u001b[39m\u001b[38;5;124m'\u001b[39m\u001b[38;5;124m1mon\u001b[39m\u001b[38;5;124m'\u001b[39m)\n\u001b[1;32m      2\u001b[0m \u001b[38;5;66;03m#cc.querying.get_variables(session, experiment='025deg_jra55v13_iaf_gmredi6', )\u001b[39;00m\n",
      "File \u001b[0;32m/g/data/hh5/public/apps/miniconda3/envs/analysis3-23.07/lib/python3.10/site-packages/intake_dataframe_catalog/core.py:171\u001b[0m, in \u001b[0;36mDfFileCatalog.__getitem__\u001b[0;34m(self, key)\u001b[0m\n\u001b[1;32m    167\u001b[0m     \u001b[38;5;28mself\u001b[39m\u001b[38;5;241m.\u001b[39m_entries[key] \u001b[38;5;241m=\u001b[39m LocalCatalogEntry(\n\u001b[1;32m    168\u001b[0m         name\u001b[38;5;241m=\u001b[39mkey, \u001b[38;5;241m*\u001b[39m\u001b[38;5;241m*\u001b[39myaml\u001b[38;5;241m.\u001b[39msafe_load(yaml_text)[\u001b[38;5;124m\"\u001b[39m\u001b[38;5;124msources\u001b[39m\u001b[38;5;124m\"\u001b[39m][key]\n\u001b[1;32m    169\u001b[0m     )\u001b[38;5;241m.\u001b[39mget()\n\u001b[1;32m    170\u001b[0m     \u001b[38;5;28;01mreturn\u001b[39;00m \u001b[38;5;28mself\u001b[39m\u001b[38;5;241m.\u001b[39m_entries[key]\n\u001b[0;32m--> 171\u001b[0m \u001b[38;5;28;01mraise\u001b[39;00m \u001b[38;5;167;01mKeyError\u001b[39;00m(\n\u001b[1;32m    172\u001b[0m     \u001b[38;5;124mf\u001b[39m\u001b[38;5;124m\"\u001b[39m\u001b[38;5;124mkey=\u001b[39m\u001b[38;5;124m'\u001b[39m\u001b[38;5;132;01m{\u001b[39;00mkey\u001b[38;5;132;01m}\u001b[39;00m\u001b[38;5;124m'\u001b[39m\u001b[38;5;124m not found in catalog. You can access the list of valid source keys via the .keys() method.\u001b[39m\u001b[38;5;124m\"\u001b[39m\n\u001b[1;32m    173\u001b[0m ) \u001b[38;5;28;01mfrom\u001b[39;00m \u001b[38;5;21;01me\u001b[39;00m\n",
      "\u001b[0;31mKeyError\u001b[0m: \"key='025deg_jra55v13_iaf_gmredi6' not found in catalog. You can access the list of valid source keys via the .keys() method.\""
     ]
    }
   ],
   "source": [
    "\n",
    "dd = catalog['025deg_jra55v13_iaf_gmredi6'].search(frequency='1mon')\n",
    "#cc.querying.get_variables(session, experiment='025deg_jra55v13_iaf_gmredi6', )"
   ]
  },
  {
   "cell_type": "markdown",
   "id": "98e86a3a",
   "metadata": {},
   "source": [
    "Since this is a pretty big list, we can search the dataframe for variable names which contain a specific string."
   ]
  },
  {
   "cell_type": "code",
   "execution_count": null,
   "id": "65995a78",
   "metadata": {},
   "outputs": [],
   "source": [
    "vars_025deg = cc.querying.get_variables(session, experiment='025deg_jra55v13_iaf_gmredi6')\n",
    "vars_025deg[vars_025deg['name'].str.lower().str.contains('temp')]"
   ]
  },
  {
   "cell_type": "markdown",
   "id": "2db4da75",
   "metadata": {},
   "source": [
    "Omitting the `frequency` would give variables at all temporal frequencies.  To determine what frequencies are in a given experient, we can use `get_frequencies`. Leaving off the `experiment` gives all possible frequencies."
   ]
  },
  {
   "cell_type": "code",
   "execution_count": null,
   "id": "e368d12b",
   "metadata": {},
   "outputs": [],
   "source": [
    "cc.querying.get_frequencies(session, experiment='025deg_jra55v13_iaf_gmredi6')"
   ]
  },
  {
   "cell_type": "markdown",
   "id": "c6be1c9f",
   "metadata": {},
   "source": [
    "### 1.3 Loading data from a netcdf file\n",
    "\n",
    "Python has many ways of reading in data from a netcdf file ... so we thought we would add another way. This is done via the `querying.getvar()` function, which is the most commonly used function in the cookbook. This function queries the database to find a specific variable, and loads some or all of that file.\n",
    "\n",
    "Let's take now a little while to get to know this function. In it's simplest form, you need just three arguments: `experiment`, `variable`, and database's `session`. \n",
    "\n",
    "You can see all the available options using the inbuilt help function, which brings up the function's documentation."
   ]
  },
  {
   "cell_type": "code",
   "execution_count": null,
   "id": "0793974b",
   "metadata": {},
   "outputs": [],
   "source": [
    "help(cc.querying.getvar)"
   ]
  },
  {
   "cell_type": "markdown",
   "id": "4cba46b0",
   "metadata": {},
   "source": [
    "You may like to note a few things about this function:\n",
    "1. The data is returned as an xarray DataArray, which includes the coordinate and attribute information from the netcdf file (more on xarray later). \n",
    "2. The variable time does not start at zero - and if you don't like it you can introduce an offset to alter the time axis.\n",
    "3. By default, we load the whole dataset, but we can load a subset of the times (see below).\n",
    "4. Other customisable options include setting the variable chunking and incorporating a function to operate on the data."
   ]
  },
  {
   "cell_type": "code",
   "execution_count": null,
   "id": "3b07cd09",
   "metadata": {},
   "outputs": [],
   "source": [
    "experiment = '025deg_jra55v13_iaf_gmredi6'\n",
    "variable = 'temp_global_ave'\n",
    "\n",
    "cat_subset = catalog[experiment]\n",
    "var_search = cat_subset.search(variable=variable)\n",
    "darray = var_search.to_dask()\n",
    "darray = darray[variable]\n",
    "darray"
   ]
  },
  {
   "cell_type": "markdown",
   "id": "1bfb6c88",
   "metadata": {},
   "source": [
    "You can see that this operation loads the globally averaged potential temperature  from the model output. The time axis runs from 1900 to 2198. For some variables (particularly 3D variables that might use a lot of memory) you may prefer to restrict yourself to a smaller time window:"
   ]
  },
  {
   "cell_type": "code",
   "execution_count": null,
   "id": "bcdd94fd",
   "metadata": {},
   "outputs": [],
   "source": [
    "cat_subset = catalog[experiment]\n",
    "var_search = cat_subset.search(variable=variable)\n",
    "darray = var_search.to_dask()\n",
    "darray = darray[variable]\n",
    "darray = darray.sel(time=slice('2000-01-01', '2050-12-31'))\n",
    "darray"
   ]
  },
  {
   "cell_type": "markdown",
   "id": "4dd97037",
   "metadata": {},
   "source": [
    "You will see that the time boundaries are not exact here. `cc.querying.getvar` loads all files that include any dates within the specified range.  You can use `.sel(time = ...)` to refine this selection if required (see below)."
   ]
  },
  {
   "cell_type": "markdown",
   "id": "8b237b88",
   "metadata": {},
   "source": [
    "### 1.4 Exercises\n",
    "OK, this is a tutorial, so now you have to do some work. Your tasks are to:\n",
    "* Find and load SSH from an experiment (an experiment... perhaps choose a 1° configuration for start)."
   ]
  },
  {
   "cell_type": "code",
   "execution_count": null,
   "id": "ed3c4af8",
   "metadata": {},
   "outputs": [],
   "source": []
  },
  {
   "cell_type": "markdown",
   "id": "26e0b378",
   "metadata": {},
   "source": [
    "* Just load the last 10 files from an experiment (any variable you like)."
   ]
  },
  {
   "cell_type": "code",
   "execution_count": null,
   "id": "f2f62046",
   "metadata": {},
   "outputs": [],
   "source": []
  },
  {
   "cell_type": "markdown",
   "id": "a8071e4a",
   "metadata": {},
   "source": [
    "* Load potential temperature from an experiment (again, 1° would be quickest). Can you chunk the data differently from the default?"
   ]
  },
  {
   "cell_type": "code",
   "execution_count": null,
   "id": "4fc2f9ad",
   "metadata": {},
   "outputs": [],
   "source": []
  },
  {
   "cell_type": "markdown",
   "id": "ae725a40",
   "metadata": {},
   "source": [
    "## 2. How to manipulate and plot variables with xarray\n",
    "We use the python package `xarray` (which is built on `dask`, `pandas`, `matplotlib` and `numpy`) for many of our diagnostics. `xarray` has a a lot of nice features, some of which we will try to demonstrate for you. \n",
    "\n",
    "### 2.1 Plotting\n",
    "`xarray`'s `.plot()` method does its best to figure out what you are trying to plot, and plotting it for you. Let's start by loading a 1-dimensional variable and plotting."
   ]
  },
  {
   "cell_type": "code",
   "execution_count": null,
   "id": "f484b446",
   "metadata": {},
   "outputs": [],
   "source": [
    "experiment = '025deg_jra55v13_iaf_gmredi6'\n",
    "variable = 'temp_global_ave'\n",
    "cat_subset = catalog[experiment]\n",
    "var_search = cat_subset.search(variable=variable)\n",
    "darray = var_search.to_dask()\n",
    "darray = darray[variable]\n",
    "darray.plot();"
   ]
  },
  {
   "cell_type": "code",
   "execution_count": null,
   "id": "76852af8",
   "metadata": {},
   "outputs": [],
   "source": [
    "darray"
   ]
  },
  {
   "cell_type": "markdown",
   "id": "994526b2",
   "metadata": {},
   "source": [
    "You should see that `xarray` has figured out that this data is a timeseries, that the x-axis is representing time and that the y-axis is `temp_global_ave`. You can always modify aspects of your plot if you are unhappy with the default xarray behaviour:"
   ]
  },
  {
   "cell_type": "code",
   "execution_count": null,
   "id": "821a1c99",
   "metadata": {},
   "outputs": [],
   "source": [
    "darray.plot()\n",
    "plt.xlabel('Year')\n",
    "plt.ylabel('Temperature (°C)')\n",
    "plt.title('Globally Averaged Temperature');"
   ]
  },
  {
   "cell_type": "markdown",
   "id": "5c66cf01",
   "metadata": {},
   "source": [
    "Because `xarray` knows about dimensions, it has plotting routines which can figure out what it should plot. By way of example, let's load a single time slice of `surface_temp` and see how `.plot()` handles it: "
   ]
  },
  {
   "cell_type": "code",
   "execution_count": null,
   "id": "bddc710e",
   "metadata": {},
   "outputs": [],
   "source": [
    "experiment = '025deg_jra55v13_iaf_gmredi6'\n",
    "variable = 'surface_temp'\n",
    "cat_subset = catalog[experiment]\n",
    "var_search = cat_subset.search(variable=variable)\n",
    "var_search = var_search.search(path=var_search.df['path'][0])\n",
    "darray = var_search.to_dask()\n",
    "darray = darray[variable]\n",
    "darray.mean('time').plot();"
   ]
  },
  {
   "cell_type": "markdown",
   "id": "99b0502c",
   "metadata": {},
   "source": [
    "Again, you can customise this plot as you see fit:"
   ]
  },
  {
   "cell_type": "code",
   "execution_count": null,
   "id": "bdd188c4",
   "metadata": {},
   "outputs": [],
   "source": [
    "temp_C = darray - 273.15 # convert from Kelvin to Celsius\n",
    "temp_C.mean('time').plot.contourf(levels=np.arange(-2, 32, 2), cmap=cm.cm.thermal);\n",
    "plt.ylabel('latitude')\n",
    "plt.xlabel('longitude');"
   ]
  },
  {
   "cell_type": "markdown",
   "id": "3da7658e",
   "metadata": {},
   "source": [
    "### 2.2 Slicing and dicing\n",
    "\n",
    "There are two different ways of subselecting from a DataArray: `isel` and `sel`. The first of these is probably what you are used to -- you specify the value of the index of the array. In the second case you specify the value of the coordinate you want to select. These two methods are demonstrated in the following example:"
   ]
  },
  {
   "cell_type": "code",
   "execution_count": null,
   "id": "e3a93c27",
   "metadata": {},
   "outputs": [],
   "source": [
    "cat_subset = catalog['025deg_jra55v13_iaf_gmredi6']\n",
    "var_search = cat_subset.search(variable='pot_rho_2')\n",
    "darray = var_search.to_dask()\n",
    "darray = darray['pot_rho_2']\n",
    "density = darray.isel(time = 200).sel(st_ocean = 1000, method='nearest')\n",
    "density.plot();"
   ]
  },
  {
   "cell_type": "markdown",
   "id": "46546820",
   "metadata": {},
   "source": [
    "In the above example, a 300-year dataset is loaded. We then use `isel` to select the 201st year (time index of 200) and use `sel` to select the $z$ level that is about 1000m deep. The `sel` method is very flexible, allowing us to use similar code in differing model resolutions or grids. In addition, both methods allow you to slice a range of values:"
   ]
  },
  {
   "cell_type": "code",
   "execution_count": null,
   "id": "f6ebf5e6",
   "metadata": {},
   "outputs": [],
   "source": [
    "cat_subset = catalog['1deg_jra55v13_iaf_spinup1_B1']\n",
    "var_search = cat_subset.search(variable='v')\n",
    "darray = var_search.to_dask()\n",
    "darray = darray['v']\n",
    "v = darray.isel(time = 100).sel(st_ocean=50, method='nearest').sel({'xu_ocean': slice(-230, -180),\n",
    "                                                                    'yu_ocean': slice(-50, -20)})\n",
    "v.plot();"
   ]
  },
  {
   "cell_type": "markdown",
   "id": "6de43226",
   "metadata": {},
   "source": [
    "Here we have taken meridional velocity, and sliced out a small region of interest for our plot."
   ]
  },
  {
   "cell_type": "markdown",
   "id": "c4c3ad02",
   "metadata": {},
   "source": [
    "### 2.3 Averaging along dimensions\n",
    "\n",
    "We often perform operations such as averaging on dataarrays. Again, knowledge of the coordinates can be a big help here, as you can instruct the `mean()` method to operate along given coordinates. The case below takes a temporal and zonal average of potential density.\n",
    "\n",
    "#### IMPORTANT\n",
    "To be precise, it is actually a mean in the $i$-grid direction, which is only zonal outside the tripolar region in the Arctic, i.e., *south of 65N* in the ACCESS-OM2 models. To compute the zonal mean correctly one needs to be a bit more carefull; see the [`DocumentedExamples/True_Zonal_Mean.ipynb`](https://cosima-recipes.readthedocs.io/en/latest/documented_examples/True_Zonal_Mean.html#gallery-documented-examples-true-zonal-mean-ipynb)."
   ]
  },
  {
   "cell_type": "code",
   "execution_count": null,
   "id": "4b3eb978",
   "metadata": {},
   "outputs": [],
   "source": [
    "cat_subset = catalog['1deg_jra55v13_iaf_spinup1_B1']\n",
    "var_search = cat_subset.search(variable='pot_rho_2')\n",
    "darray = var_search.to_dask()\n",
    "darray = darray['pot_rho_2']\n",
    "darray.mean({'time', 'xt_ocean'}).plot(cmap=cm.cm.haline)\n",
    "plt.gca().invert_yaxis();"
   ]
  },
  {
   "cell_type": "markdown",
   "id": "ac559bae",
   "metadata": {},
   "source": [
    "### 2.4 Resampling\n",
    "\n",
    "`xarray` uses `datetime` conventions to allow for operations such as resampling in time. This resampling is simple and powerful. Here is an example of re-plotting the figure from 2.1 with annual averaging:"
   ]
  },
  {
   "cell_type": "code",
   "execution_count": null,
   "id": "7daab413",
   "metadata": {},
   "outputs": [],
   "source": [
    "cat_subset = catalog['025deg_jra55v13_iaf_gmredi6']\n",
    "var_search = cat_subset.search(variable='temp_global_ave')\n",
    "darray = var_search.to_dask()\n",
    "darray = darray['temp_global_ave']\n",
    "meandata = darray.resample(time='A').mean(dim='time')\n",
    "meandata.plot();"
   ]
  },
  {
   "cell_type": "markdown",
   "id": "de60bea0",
   "metadata": {},
   "source": [
    "### 2.5 Exercises\n",
    "\n",
    " * Pick an experiment and plot a map of the temperature of the upper 100m of the ocean for one year."
   ]
  },
  {
   "cell_type": "code",
   "execution_count": null,
   "id": "29450450",
   "metadata": {},
   "outputs": [],
   "source": []
  },
  {
   "cell_type": "markdown",
   "id": "649a91f7",
   "metadata": {},
   "source": [
    " * Now, take the same experiment and construct a timeseries of spatially averaged (regional or global) upper 700m temperature, resampled every 3 years."
   ]
  },
  {
   "cell_type": "code",
   "execution_count": null,
   "id": "b8ceb315",
   "metadata": {},
   "outputs": [],
   "source": []
  },
  {
   "cell_type": "markdown",
   "id": "5d1f5ca7",
   "metadata": {},
   "source": [
    "## 3. More Advanced Stuff\n",
    "\n",
    "### 3.1 Making a map with cartopy\n",
    "Refer to [map tutorial](https://cosima-recipes.readthedocs.io/en/latest/tutorials/Making_Maps_with_Cartopy.html#gallery-tutorials-making-maps-with-cartopy-ipynb)."
   ]
  },
  {
   "cell_type": "markdown",
   "id": "386d79bb",
   "metadata": {},
   "source": [
    "### 3.2 Distributed computing\n",
    "\n",
    "Many of our scripts use multiple cores for their calculations, usually via the following . It sets up a local cluster on your node for distributed computation. "
   ]
  },
  {
   "cell_type": "code",
   "execution_count": null,
   "id": "d3230dfd",
   "metadata": {},
   "outputs": [],
   "source": [
    "from dask.distributed import Client\n",
    "\n",
    "client = Client(\"tcp://10.6.43.39:8786\")\n",
    "client"
   ]
  },
  {
   "cell_type": "code",
   "execution_count": null,
   "id": "03b35e28",
   "metadata": {},
   "outputs": [],
   "source": []
  },
  {
   "cell_type": "markdown",
   "id": "8e5bd88b",
   "metadata": {},
   "source": [
    "The dashboard link should allow you to access information on how your work is distributed between the cores on your local cluster."
   ]
  }
 ],
 "metadata": {
  "kernelspec": {
   "display_name": "Python [conda env:analysis3-23.07] *",
   "language": "python",
   "name": "conda-env-analysis3-23.07-py"
  },
  "language_info": {
   "codemirror_mode": {
    "name": "ipython",
    "version": 3
   },
   "file_extension": ".py",
   "mimetype": "text/x-python",
   "name": "python",
   "nbconvert_exporter": "python",
   "pygments_lexer": "ipython3",
   "version": "3.10.13"
  },
  "thumbnail_figure": "assets/cookbook.png"
 },
 "nbformat": 4,
 "nbformat_minor": 5
}
