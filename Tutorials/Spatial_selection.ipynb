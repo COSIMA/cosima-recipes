{
 "cells": [
  {
   "cell_type": "markdown",
   "id": "41fe22c3",
   "metadata": {},
   "source": [
    "# Spatial selection with tripolar ACCESS-OM2 grid\n",
    "\n",
    "The ACCESS-OM2 model collection utilises a tripolar grid north of 65N to avoid a point of convergence over the ocean at the north pole.\n",
    "\n",
    "This means any plotting or analysis in this region needs to use 2D curvilinear latitude and longitude coordinates.\n",
    "\n",
    "This notebook will cover how to use the curvilinear coordinates to select data within latitude and longitude limits, and how to plot data in the tripole region correctly. There is also a [full tutorial on plotting with projections](https://cosima-recipes.readthedocs.io/en/latest/Tutorials/Making_Maps_with_Cartopy.html).\n",
    "\n",
    "Below the tripole area it is sufficient to use 1D latitude and longitude coordinates, which are much more convenient to use as they can use the [xarray](http://xarray.pydata.org/en/stable/index.html)'s [sel](http://xarray.pydata.org/en/stable/generated/xarray.DataArray.sel.html) method with `slice` notation.\n",
    "\n",
    "This notebook will also demonstrate how to do this.\n",
    "\n",
    "The data output from the CICE model component do not have a convenient to use 1D latitude and longitude coordinates. As the ice and ocean models share a grid the coordinates from each model can be used interchangeably with the other. A method to add 1D latitude and longitude coordinates to an ice [`xarray.DataArray`](http://xarray.pydata.org/en/stable/generated/xarray.DataArray.html) is also demonstrated."
   ]
  },
  {
   "cell_type": "code",
   "execution_count": 1,
   "id": "8e328fe8",
   "metadata": {
    "tags": []
   },
   "outputs": [],
   "source": [
    "import intake\n",
    "catalog = intake.cat.access_nri\n",
    "import pandas as pd\n",
    "import matplotlib.pyplot as plt\n",
    "import xarray as xr\n",
    "import numpy as np\n",
    "import cartopy.crs as ccrs"
   ]
  },
  {
   "cell_type": "markdown",
   "id": "ed684b09",
   "metadata": {},
   "source": [
    "## Load data\n",
    "\n",
    "Open a database session"
   ]
  },
  {
   "cell_type": "code",
   "execution_count": 2,
   "id": "90e5a010",
   "metadata": {
    "tags": []
   },
   "outputs": [
    {
     "data": {
      "text/html": [
       "<div>\n",
       "    <div style=\"width: 24px; height: 24px; background-color: #e1e1e1; border: 3px solid #9D9D9D; border-radius: 5px; position: absolute;\"> </div>\n",
       "    <div style=\"margin-left: 48px;\">\n",
       "        <h3 style=\"margin-bottom: 0px;\">Client</h3>\n",
       "        <p style=\"color: #9D9D9D; margin-bottom: 0px;\">Client-ffb8934a-8826-11ee-993d-00000083fe80</p>\n",
       "        <table style=\"width: 100%; text-align: left;\">\n",
       "\n",
       "        <tr>\n",
       "        \n",
       "            <td style=\"text-align: left;\"><strong>Connection method:</strong> Direct</td>\n",
       "            <td style=\"text-align: left;\"></td>\n",
       "        \n",
       "        </tr>\n",
       "\n",
       "        \n",
       "            <tr>\n",
       "                <td style=\"text-align: left;\">\n",
       "                    <strong>Dashboard: </strong> <a href=\"/proxy/8787/status\" target=\"_blank\">/proxy/8787/status</a>\n",
       "                </td>\n",
       "                <td style=\"text-align: left;\"></td>\n",
       "            </tr>\n",
       "        \n",
       "\n",
       "        </table>\n",
       "\n",
       "        \n",
       "            <button style=\"margin-bottom: 12px;\" data-commandlinker-command=\"dask:populate-and-launch-layout\" data-commandlinker-args='{\"url\": \"/proxy/8787/status\" }'>\n",
       "                Launch dashboard in JupyterLab\n",
       "            </button>\n",
       "        \n",
       "\n",
       "        \n",
       "            <details>\n",
       "            <summary style=\"margin-bottom: 20px;\"><h3 style=\"display: inline;\">Scheduler Info</h3></summary>\n",
       "            <div style=\"\">\n",
       "    <div>\n",
       "        <div style=\"width: 24px; height: 24px; background-color: #FFF7E5; border: 3px solid #FF6132; border-radius: 5px; position: absolute;\"> </div>\n",
       "        <div style=\"margin-left: 48px;\">\n",
       "            <h3 style=\"margin-bottom: 0px;\">Scheduler</h3>\n",
       "            <p style=\"color: #9D9D9D; margin-bottom: 0px;\">Scheduler-0ffa1883-8473-4435-a658-d1048fcc27e4</p>\n",
       "            <table style=\"width: 100%; text-align: left;\">\n",
       "                <tr>\n",
       "                    <td style=\"text-align: left;\">\n",
       "                        <strong>Comm:</strong> tcp://10.6.77.34:8786\n",
       "                    </td>\n",
       "                    <td style=\"text-align: left;\">\n",
       "                        <strong>Workers:</strong> 1\n",
       "                    </td>\n",
       "                </tr>\n",
       "                <tr>\n",
       "                    <td style=\"text-align: left;\">\n",
       "                        <strong>Dashboard:</strong> <a href=\"/proxy/8787/status\" target=\"_blank\">/proxy/8787/status</a>\n",
       "                    </td>\n",
       "                    <td style=\"text-align: left;\">\n",
       "                        <strong>Total threads:</strong> 12\n",
       "                    </td>\n",
       "                </tr>\n",
       "                <tr>\n",
       "                    <td style=\"text-align: left;\">\n",
       "                        <strong>Started:</strong> 4 hours ago\n",
       "                    </td>\n",
       "                    <td style=\"text-align: left;\">\n",
       "                        <strong>Total memory:</strong> 46.00 GiB\n",
       "                    </td>\n",
       "                </tr>\n",
       "            </table>\n",
       "        </div>\n",
       "    </div>\n",
       "\n",
       "    <details style=\"margin-left: 48px;\">\n",
       "        <summary style=\"margin-bottom: 20px;\">\n",
       "            <h3 style=\"display: inline;\">Workers</h3>\n",
       "        </summary>\n",
       "\n",
       "        \n",
       "        <div style=\"margin-bottom: 20px;\">\n",
       "            <div style=\"width: 24px; height: 24px; background-color: #DBF5FF; border: 3px solid #4CC9FF; border-radius: 5px; position: absolute;\"> </div>\n",
       "            <div style=\"margin-left: 48px;\">\n",
       "            <details>\n",
       "                <summary>\n",
       "                    <h4 style=\"margin-bottom: 0px; display: inline;\">Worker: tcp://10.6.77.34:34765</h4>\n",
       "                </summary>\n",
       "                <table style=\"width: 100%; text-align: left;\">\n",
       "                    <tr>\n",
       "                        <td style=\"text-align: left;\">\n",
       "                            <strong>Comm: </strong> tcp://10.6.77.34:34765\n",
       "                        </td>\n",
       "                        <td style=\"text-align: left;\">\n",
       "                            <strong>Total threads: </strong> 12\n",
       "                        </td>\n",
       "                    </tr>\n",
       "                    <tr>\n",
       "                        <td style=\"text-align: left;\">\n",
       "                            <strong>Dashboard: </strong> <a href=\"/proxy/38287/status\" target=\"_blank\">/proxy/38287/status</a>\n",
       "                        </td>\n",
       "                        <td style=\"text-align: left;\">\n",
       "                            <strong>Memory: </strong> 46.00 GiB\n",
       "                        </td>\n",
       "                    </tr>\n",
       "                    <tr>\n",
       "                        <td style=\"text-align: left;\">\n",
       "                            <strong>Nanny: </strong> tcp://10.6.77.34:36197\n",
       "                        </td>\n",
       "                        <td style=\"text-align: left;\"></td>\n",
       "                    </tr>\n",
       "                    <tr>\n",
       "                        <td colspan=\"2\" style=\"text-align: left;\">\n",
       "                            <strong>Local directory: </strong> /scratch/iq82/mp7041/dasktmp/dask-scratch-space/worker-591h57g1\n",
       "                        </td>\n",
       "                    </tr>\n",
       "\n",
       "                    \n",
       "\n",
       "                    \n",
       "                    <tr>\n",
       "                        <td style=\"text-align: left;\">\n",
       "                            <strong>Tasks executing: </strong> \n",
       "                        </td>\n",
       "                        <td style=\"text-align: left;\">\n",
       "                            <strong>Tasks in memory: </strong> \n",
       "                        </td>\n",
       "                    </tr>\n",
       "                    <tr>\n",
       "                        <td style=\"text-align: left;\">\n",
       "                            <strong>Tasks ready: </strong> \n",
       "                        </td>\n",
       "                        <td style=\"text-align: left;\">\n",
       "                            <strong>Tasks in flight: </strong>\n",
       "                        </td>\n",
       "                    </tr>\n",
       "                    <tr>\n",
       "                        <td style=\"text-align: left;\">\n",
       "                            <strong>CPU usage:</strong> 4.0%\n",
       "                        </td>\n",
       "                        <td style=\"text-align: left;\">\n",
       "                            <strong>Last seen: </strong> Just now\n",
       "                        </td>\n",
       "                    </tr>\n",
       "                    <tr>\n",
       "                        <td style=\"text-align: left;\">\n",
       "                            <strong>Memory usage: </strong> 90.54 MiB\n",
       "                        </td>\n",
       "                        <td style=\"text-align: left;\">\n",
       "                            <strong>Spilled bytes: </strong> 0 B\n",
       "                        </td>\n",
       "                    </tr>\n",
       "                    <tr>\n",
       "                        <td style=\"text-align: left;\">\n",
       "                            <strong>Read bytes: </strong> 7.28 kiB\n",
       "                        </td>\n",
       "                        <td style=\"text-align: left;\">\n",
       "                            <strong>Write bytes: </strong> 8.23 kiB\n",
       "                        </td>\n",
       "                    </tr>\n",
       "                    \n",
       "\n",
       "                </table>\n",
       "            </details>\n",
       "            </div>\n",
       "        </div>\n",
       "        \n",
       "\n",
       "    </details>\n",
       "</div>\n",
       "            </details>\n",
       "        \n",
       "\n",
       "    </div>\n",
       "</div>"
      ],
      "text/plain": [
       "<Client: 'tcp://10.6.77.34:8786' processes=1 threads=12, memory=46.00 GiB>"
      ]
     },
     "execution_count": 2,
     "metadata": {},
     "output_type": "execute_result"
    }
   ],
   "source": [
    "from dask.distributed import Client\n",
    "client = Client(\"tcp://10.6.77.34:8786\")\n",
    "client"
   ]
  },
  {
   "cell_type": "markdown",
   "id": "746895e0",
   "metadata": {},
   "source": [
    "The specific experiment does not matter a great deal. This is the main IAF control run with JRA55 v1.4 forcing"
   ]
  },
  {
   "cell_type": "code",
   "execution_count": 3,
   "id": "14ca2350",
   "metadata": {
    "tags": []
   },
   "outputs": [],
   "source": [
    "expt = '01deg_jra55v140_iaf'"
   ]
  },
  {
   "cell_type": "markdown",
   "id": "7bedeb26",
   "metadata": {},
   "source": [
    "Load the 1D latitude/longitude variables from the ocean data to use them with ice data. The dimensions are renamed to match the required dimension in the ice data"
   ]
  },
  {
   "cell_type": "code",
   "execution_count": 4,
   "id": "93d1af22",
   "metadata": {},
   "outputs": [
    {
     "name": "stderr",
     "output_type": "stream",
     "text": [
      "/g/data/hh5/public/apps/miniconda3/envs/analysis3-23.07/lib/python3.10/site-packages/intake_esm/cat.py:270: FutureWarning: DataFrame.applymap has been deprecated. Use DataFrame.map instead.\n",
      "  .applymap(type)\n",
      "/g/data/hh5/public/apps/miniconda3/envs/analysis3-23.07/lib/python3.10/site-packages/intake_esm/cat.py:270: FutureWarning: DataFrame.applymap has been deprecated. Use DataFrame.map instead.\n",
      "  .applymap(type)\n",
      "/g/data/hh5/public/apps/miniconda3/envs/analysis3-23.07/lib/python3.10/site-packages/intake_esm/cat.py:270: FutureWarning: DataFrame.applymap has been deprecated. Use DataFrame.map instead.\n",
      "  .applymap(type)\n"
     ]
    },
    {
     "ename": "KeyError",
     "evalue": "0",
     "output_type": "error",
     "traceback": [
      "\u001b[0;31m---------------------------------------------------------------------------\u001b[0m",
      "\u001b[0;31mValueError\u001b[0m                                Traceback (most recent call last)",
      "File \u001b[0;32m/g/data/hh5/public/apps/miniconda3/envs/analysis3-23.07/lib/python3.10/site-packages/pandas/core/indexes/range.py:414\u001b[0m, in \u001b[0;36mRangeIndex.get_loc\u001b[0;34m(self, key)\u001b[0m\n\u001b[1;32m    413\u001b[0m \u001b[38;5;28;01mtry\u001b[39;00m:\n\u001b[0;32m--> 414\u001b[0m     \u001b[38;5;28;01mreturn\u001b[39;00m \u001b[38;5;28;43mself\u001b[39;49m\u001b[38;5;241;43m.\u001b[39;49m\u001b[43m_range\u001b[49m\u001b[38;5;241;43m.\u001b[39;49m\u001b[43mindex\u001b[49m\u001b[43m(\u001b[49m\u001b[43mnew_key\u001b[49m\u001b[43m)\u001b[49m\n\u001b[1;32m    415\u001b[0m \u001b[38;5;28;01mexcept\u001b[39;00m \u001b[38;5;167;01mValueError\u001b[39;00m \u001b[38;5;28;01mas\u001b[39;00m err:\n",
      "\u001b[0;31mValueError\u001b[0m: 0 is not in range",
      "\nThe above exception was the direct cause of the following exception:\n",
      "\u001b[0;31mKeyError\u001b[0m                                  Traceback (most recent call last)",
      "Cell \u001b[0;32mIn[4], line 3\u001b[0m\n\u001b[1;32m      1\u001b[0m cat_subset \u001b[38;5;241m=\u001b[39m catalog[expt]\n\u001b[1;32m      2\u001b[0m var_search \u001b[38;5;241m=\u001b[39m cat_subset\u001b[38;5;241m.\u001b[39msearch(variable\u001b[38;5;241m=\u001b[39m\u001b[38;5;124m'\u001b[39m\u001b[38;5;124myt_ocean\u001b[39m\u001b[38;5;124m'\u001b[39m)\n\u001b[0;32m----> 3\u001b[0m var_search \u001b[38;5;241m=\u001b[39m var_search\u001b[38;5;241m.\u001b[39msearch(path\u001b[38;5;241m=\u001b[39m\u001b[43mvar_search\u001b[49m\u001b[38;5;241;43m.\u001b[39;49m\u001b[43mdf\u001b[49m\u001b[43m[\u001b[49m\u001b[38;5;124;43m'\u001b[39;49m\u001b[38;5;124;43mpath\u001b[39;49m\u001b[38;5;124;43m'\u001b[39;49m\u001b[43m]\u001b[49m\u001b[43m[\u001b[49m\u001b[38;5;241;43m0\u001b[39;49m\u001b[43m]\u001b[49m)\n\u001b[1;32m      4\u001b[0m darray \u001b[38;5;241m=\u001b[39m var_search\u001b[38;5;241m.\u001b[39mto_dask()\n\u001b[1;32m      5\u001b[0m darray \u001b[38;5;241m=\u001b[39m darray[\u001b[38;5;124m'\u001b[39m\u001b[38;5;124myt_ocean\u001b[39m\u001b[38;5;124m'\u001b[39m]\n",
      "File \u001b[0;32m/g/data/hh5/public/apps/miniconda3/envs/analysis3-23.07/lib/python3.10/site-packages/pandas/core/series.py:1040\u001b[0m, in \u001b[0;36mSeries.__getitem__\u001b[0;34m(self, key)\u001b[0m\n\u001b[1;32m   1037\u001b[0m     \u001b[38;5;28;01mreturn\u001b[39;00m \u001b[38;5;28mself\u001b[39m\u001b[38;5;241m.\u001b[39m_values[key]\n\u001b[1;32m   1039\u001b[0m \u001b[38;5;28;01melif\u001b[39;00m key_is_scalar:\n\u001b[0;32m-> 1040\u001b[0m     \u001b[38;5;28;01mreturn\u001b[39;00m \u001b[38;5;28;43mself\u001b[39;49m\u001b[38;5;241;43m.\u001b[39;49m\u001b[43m_get_value\u001b[49m\u001b[43m(\u001b[49m\u001b[43mkey\u001b[49m\u001b[43m)\u001b[49m\n\u001b[1;32m   1042\u001b[0m \u001b[38;5;66;03m# Convert generator to list before going through hashable part\u001b[39;00m\n\u001b[1;32m   1043\u001b[0m \u001b[38;5;66;03m# (We will iterate through the generator there to check for slices)\u001b[39;00m\n\u001b[1;32m   1044\u001b[0m \u001b[38;5;28;01mif\u001b[39;00m is_iterator(key):\n",
      "File \u001b[0;32m/g/data/hh5/public/apps/miniconda3/envs/analysis3-23.07/lib/python3.10/site-packages/pandas/core/series.py:1156\u001b[0m, in \u001b[0;36mSeries._get_value\u001b[0;34m(self, label, takeable)\u001b[0m\n\u001b[1;32m   1153\u001b[0m     \u001b[38;5;28;01mreturn\u001b[39;00m \u001b[38;5;28mself\u001b[39m\u001b[38;5;241m.\u001b[39m_values[label]\n\u001b[1;32m   1155\u001b[0m \u001b[38;5;66;03m# Similar to Index.get_value, but we do not fall back to positional\u001b[39;00m\n\u001b[0;32m-> 1156\u001b[0m loc \u001b[38;5;241m=\u001b[39m \u001b[38;5;28;43mself\u001b[39;49m\u001b[38;5;241;43m.\u001b[39;49m\u001b[43mindex\u001b[49m\u001b[38;5;241;43m.\u001b[39;49m\u001b[43mget_loc\u001b[49m\u001b[43m(\u001b[49m\u001b[43mlabel\u001b[49m\u001b[43m)\u001b[49m\n\u001b[1;32m   1158\u001b[0m \u001b[38;5;28;01mif\u001b[39;00m is_integer(loc):\n\u001b[1;32m   1159\u001b[0m     \u001b[38;5;28;01mreturn\u001b[39;00m \u001b[38;5;28mself\u001b[39m\u001b[38;5;241m.\u001b[39m_values[loc]\n",
      "File \u001b[0;32m/g/data/hh5/public/apps/miniconda3/envs/analysis3-23.07/lib/python3.10/site-packages/pandas/core/indexes/range.py:416\u001b[0m, in \u001b[0;36mRangeIndex.get_loc\u001b[0;34m(self, key)\u001b[0m\n\u001b[1;32m    414\u001b[0m         \u001b[38;5;28;01mreturn\u001b[39;00m \u001b[38;5;28mself\u001b[39m\u001b[38;5;241m.\u001b[39m_range\u001b[38;5;241m.\u001b[39mindex(new_key)\n\u001b[1;32m    415\u001b[0m     \u001b[38;5;28;01mexcept\u001b[39;00m \u001b[38;5;167;01mValueError\u001b[39;00m \u001b[38;5;28;01mas\u001b[39;00m err:\n\u001b[0;32m--> 416\u001b[0m         \u001b[38;5;28;01mraise\u001b[39;00m \u001b[38;5;167;01mKeyError\u001b[39;00m(key) \u001b[38;5;28;01mfrom\u001b[39;00m \u001b[38;5;21;01merr\u001b[39;00m\n\u001b[1;32m    417\u001b[0m \u001b[38;5;28;01mif\u001b[39;00m \u001b[38;5;28misinstance\u001b[39m(key, Hashable):\n\u001b[1;32m    418\u001b[0m     \u001b[38;5;28;01mraise\u001b[39;00m \u001b[38;5;167;01mKeyError\u001b[39;00m(key)\n",
      "\u001b[0;31mKeyError\u001b[0m: 0"
     ]
    }
   ],
   "source": [
    "cat_subset = catalog[expt]\n",
    "var_search = cat_subset.search(variable='yt_ocean')\n",
    "var_search = var_search.search(path=var_search.df['path'][0])\n",
    "darray = var_search.to_dask()\n",
    "darray = darray['yt_ocean']\n",
    "yt_ocean = darray.rename({'yt_ocean': 'latitude'})\n",
    "cat_subset = catalog[expt]\n",
    "var_search = cat_subset.search(variable='xt_ocean')\n",
    "var_search = var_search.search(path=var_search.df['path'][0])\n",
    "darray = var_search.to_dask()\n",
    "darray = darray['xt_ocean']\n",
    "xt_ocean = darray.rename({'xt_ocean': 'longitude'})"
   ]
  },
  {
   "cell_type": "markdown",
   "id": "cdbc773b",
   "metadata": {},
   "source": [
    "Both the ocean and the ice output variables have masked curvilinear coordinates, which means there are missing values for the coordinates over land. These variables are not suitable for plotting with [cartopy](https://scitools.org.uk/cartopy/docs/latest/). A full curvilinear grid is available from the CICE model input grid:"
   ]
  },
  {
   "cell_type": "code",
   "execution_count": null,
   "id": "dca1b0d7",
   "metadata": {},
   "outputs": [],
   "source": [
    "ice_grid = xr.open_dataset('/g/data/ik11/inputs/access-om2/input_eee21b65/cice_01deg/grid.nc')"
   ]
  },
  {
   "cell_type": "markdown",
   "id": "b7af3eb4",
   "metadata": {},
   "source": [
    "Extract the full curvilinear coordinates, from the ice grid. Note that these are in radians and so neeed to converted to degrees, and again the dimensions are renamed to match the dataset to which they will be added:"
   ]
  },
  {
   "cell_type": "code",
   "execution_count": null,
   "id": "ab710248",
   "metadata": {},
   "outputs": [],
   "source": [
    "geolon_t = np.degrees(ice_grid.tlon.rename({'nx': 'longitude', 'ny': 'latitude'}))\n",
    "geolat_t = np.degrees(ice_grid.tlat.rename({'nx': 'longitude', 'ny': 'latitude'}))"
   ]
  },
  {
   "cell_type": "markdown",
   "id": "b5c9c106",
   "metadata": {},
   "source": [
    "Load an ice variable to use as an example dataset. In this case only the first 12 months for purposes of illustration."
   ]
  },
  {
   "cell_type": "code",
   "execution_count": null,
   "id": "c6160117",
   "metadata": {},
   "outputs": [],
   "source": [
    "cat_subset = catalog[expt]\n",
    "var_search = cat_subset.search(variable='aice_m')\n",
    "darray = var_search.to_dask()\n",
    "darray = darray['aice_m']\n",
    "aice_m = darray"
   ]
  },
  {
   "cell_type": "markdown",
   "id": "dbcaf313",
   "metadata": {},
   "source": [
    "Printing the variable shows it has non-informative dimension names and no CF coordinate variables. As a result when the first time slice is plotted there is no useful units automatically added to the plot. "
   ]
  },
  {
   "cell_type": "code",
   "execution_count": null,
   "id": "cbb8b4f7",
   "metadata": {},
   "outputs": [],
   "source": [
    "aice_m"
   ]
  },
  {
   "cell_type": "markdown",
   "id": "36bcce23",
   "metadata": {},
   "source": [
    "Define colormap for plotting. There are two options here depending on your preference.\n",
    "1. Option 1: Standard `ice` colormap from cmocean\n",
    "2. Option 2: Colormap from dark blue (open ocean) to white (100% sea ice cover)"
   ]
  },
  {
   "cell_type": "code",
   "execution_count": null,
   "id": "edc93d8d",
   "metadata": {},
   "outputs": [],
   "source": [
    "def ice_cmap(colormap):\n",
    "    from palettable.colorbrewer.sequential import Blues_9_r\n",
    "    import cmocean as cmo\n",
    "\n",
    "    if colormap == 'Option 1':\n",
    "        cmap = cmo.cm.ice\n",
    "        cmap.set_bad('lightgrey') # set color for land\n",
    "    else:\n",
    "        cmap = Blues_9_r.mpl_colormap\n",
    "        cmap.set_bad('lightgrey') # set color for land\n",
    "\n",
    "    return cmap"
   ]
  },
  {
   "cell_type": "code",
   "execution_count": null,
   "id": "9d370a92",
   "metadata": {},
   "outputs": [],
   "source": [
    "colormap = 'Option 2'\n",
    "cmap = ice_cmap(colormap)\n",
    "cmap"
   ]
  },
  {
   "cell_type": "code",
   "execution_count": null,
   "id": "ad0ab5a0",
   "metadata": {},
   "outputs": [],
   "source": [
    "aice_m.isel(time=0).plot(aspect=2,size=10, cmap=cmap);"
   ]
  },
  {
   "cell_type": "markdown",
   "id": "9c72b353",
   "metadata": {},
   "source": [
    "## Add spatial coordinates"
   ]
  },
  {
   "cell_type": "markdown",
   "id": "7f58e60d",
   "metadata": {},
   "source": [
    "To improve usability CF compatible spatial coordinates from the ocean data loaded above can be added to the ice data.\n",
    "\n",
    "The unintuitive dimensions are renamed, and importantly match the dimension names chosen for the coordinates. The coordinates loaded above are added to the `DataArray`, and saved in a new variable, `aice_m_coords`."
   ]
  },
  {
   "cell_type": "code",
   "execution_count": null,
   "id": "37323bb6",
   "metadata": {},
   "outputs": [],
   "source": [
    "aice_m_coords = aice_m.rename({'nj':'latitude', \n",
    "                               'ni':'longitude'}).assign_coords({'latitude': yt_ocean, \n",
    "                                                                 'longitude': xt_ocean, \n",
    "                                                                 'geolat_t': geolat_t, \n",
    "                                                                 'geolon_t': geolon_t})\n",
    "aice_m_coords"
   ]
  },
  {
   "cell_type": "markdown",
   "id": "6fb501e3",
   "metadata": {},
   "source": [
    "Now when the first time slice is plotted there are informative axes as there are now CF compliant dimensions `latitude` and `longitude`."
   ]
  },
  {
   "cell_type": "code",
   "execution_count": null,
   "id": "58792a1f",
   "metadata": {},
   "outputs": [],
   "source": [
    "aice_m_coords.isel(time=0).plot(aspect=2, size=10, cmap=cmap);"
   ]
  },
  {
   "cell_type": "markdown",
   "id": "698bfca6",
   "metadata": {},
   "source": [
    "## Selection using `sel` and `slice`"
   ]
  },
  {
   "cell_type": "markdown",
   "id": "da9e7cee",
   "metadata": {},
   "source": [
    "Also selection using slices of latitude and longitude are easy using these new dimensions. e.g. selecting the Weddell Sea in Antarctica"
   ]
  },
  {
   "cell_type": "code",
   "execution_count": null,
   "id": "0ee92f8c",
   "metadata": {},
   "outputs": [],
   "source": [
    "aice_m_coords.isel(time=0).sel(longitude=slice(-80, 0), latitude=slice(None, -50)).plot(size=10, cmap=cmap);"
   ]
  },
  {
   "cell_type": "markdown",
   "id": "2699fd66",
   "metadata": {},
   "source": [
    "The same data can also be plotted and projected using `cartopy` which works fine using the 1D `latitude` and `longitude` coordinates as these are correct for all values south of 65N, so all of the Southern Hemisphere."
   ]
  },
  {
   "cell_type": "code",
   "execution_count": null,
   "id": "7dfba47c",
   "metadata": {},
   "outputs": [],
   "source": [
    "fig = plt.figure(figsize=(14, 8))\n",
    "ax = plt.axes(projection=ccrs.Orthographic(-40, -90))\n",
    "ax.coastlines()\n",
    "ax.gridlines()\n",
    "aice_m_coords.isel(time=0).sel(longitude=slice(-80, 0),\n",
    "                               latitude=slice(None, -50)).plot(ax=ax,\n",
    "                                                               transform=ccrs.PlateCarree(),\n",
    "                                                               cmap=cmap);"
   ]
  },
  {
   "cell_type": "markdown",
   "id": "a851db95",
   "metadata": {},
   "source": [
    "Simple `sel` with `slice` can also be used to select areas in the northern hemisphere, but they appear distorted  as this area is in the tripole, so the 1D latitude and longitude variables are not correct"
   ]
  },
  {
   "cell_type": "code",
   "execution_count": null,
   "id": "1d7b5b38",
   "metadata": {},
   "outputs": [],
   "source": [
    "aice_m_coords.isel(time=0).sel(longitude=slice(-80, 80), \n",
    "                               latitude=slice(50, 85)).plot(size=8, aspect=2, cmap=cmap);"
   ]
  },
  {
   "cell_type": "markdown",
   "id": "7b95ea1c",
   "metadata": {},
   "source": [
    "If the same selection is plotted in an Orthographic projection with `cartopy` it is obvious that land/sea boundaries are not correct, and artefacts from the tripole are visible"
   ]
  },
  {
   "cell_type": "code",
   "execution_count": null,
   "id": "35c08c39",
   "metadata": {},
   "outputs": [],
   "source": [
    "fig = plt.figure(figsize=(18, 8))\n",
    "ax = plt.axes(projection=ccrs.Orthographic(0, 90))\n",
    "ax.coastlines()\n",
    "ax.gridlines()\n",
    "aice_m_coords.isel(time=0).sel(longitude=slice(-80, 80), \n",
    "                               latitude=slice(50, 85)).plot(ax=ax,\n",
    "                                                            cmap=cmap,\n",
    "                                                            transform=ccrs.PlateCarree());"
   ]
  },
  {
   "cell_type": "markdown",
   "id": "e237e103",
   "metadata": {},
   "source": [
    "Using the true curvilinear coordinates to plot, the artefacts are removed, and the land/sea registration is correct, but the simple `sel` using the 1D coordinates means there are not constant lines of latitude or longitude in the selected data."
   ]
  },
  {
   "cell_type": "code",
   "execution_count": null,
   "id": "3333c776",
   "metadata": {},
   "outputs": [],
   "source": [
    "fig = plt.figure(figsize=(18, 8))\n",
    "ax = plt.axes(projection=ccrs.Orthographic(0,90))\n",
    "ax.coastlines()\n",
    "ax.gridlines()\n",
    "aice_m_coords.isel(time=0).sel(longitude=slice(-80, 80), \n",
    "                               latitude=slice(50, 85)).plot(ax=ax, cmap=cmap, \n",
    "                                                            transform=ccrs.PlateCarree(), \n",
    "                                                            x='geolon_t', y='geolat_t');"
   ]
  },
  {
   "cell_type": "markdown",
   "id": "5e36b665",
   "metadata": {},
   "source": [
    "## Selection using `where`"
   ]
  },
  {
   "cell_type": "markdown",
   "id": "c4625733",
   "metadata": {},
   "source": [
    "To do proper spatial selection with 2D coordinates in the tripole area it is necessary to use the `xarray` [`where`](http://xarray.pydata.org/en/stable/generated/xarray.DataArray.where.html) method, which will mask out the data where the stipulated condition is not met. With `drop=True` coordinate labels with only `False` values are removed."
   ]
  },
  {
   "cell_type": "code",
   "execution_count": null,
   "id": "c40afca0",
   "metadata": {},
   "outputs": [],
   "source": [
    "aice_m_coords.isel(time=0).where((geolon_t >= -80) & \n",
    "                                 (geolon_t <= 80) & \n",
    "                                 (geolat_t >= 50) & \n",
    "                                 (geolat_t <= 85), drop=True).plot(size=8, aspect=2, \n",
    "                                                                   x='geolon_t',\n",
    "                                                                   y='geolat_t', \n",
    "                                                                   cmap=cmap)\n",
    "plt.xlim([-80, 80])\n",
    "plt.ylim([50, 85]);"
   ]
  },
  {
   "cell_type": "markdown",
   "id": "847f9351",
   "metadata": {},
   "source": [
    "Now when plotted in Orthographic projection with `cartopy` the selection is clearly along lines of constant latitude, and the left hand side selection is a constant longitude."
   ]
  },
  {
   "cell_type": "code",
   "execution_count": null,
   "id": "bb8f2dc2",
   "metadata": {},
   "outputs": [],
   "source": [
    "fig = plt.figure(figsize=(18, 8))\n",
    "ax = plt.axes(projection=ccrs.Orthographic(0, 90))\n",
    "ax.coastlines()\n",
    "ax.gridlines()\n",
    "aice_m_coords.isel(time=0).where((aice_m_coords.geolon_t >= -80) & \n",
    "                                 (aice_m_coords.geolon_t <= 80) & \n",
    "                                 (aice_m_coords.geolat_t >= 50) & \n",
    "                                 (aice_m_coords.geolat_t <= 85), drop=True).plot(ax=ax, \n",
    "                                                                                 transform=ccrs.PlateCarree(),\n",
    "                                                                                 x='geolon_t',\n",
    "                                                                                 y='geolat_t', \n",
    "                                                                                 cmap = cmap);"
   ]
  }
 ],
 "metadata": {
  "kernelspec": {
   "display_name": "Python [conda env:analysis3-23.07] *",
   "language": "python",
   "name": "conda-env-analysis3-23.07-py"
  },
  "language_info": {
   "codemirror_mode": {
    "name": "ipython",
    "version": 3
   },
   "file_extension": ".py",
   "mimetype": "text/x-python",
   "name": "python",
   "nbconvert_exporter": "python",
   "pygments_lexer": "ipython3",
   "version": "3.10.13"
  }
 },
 "nbformat": 4,
 "nbformat_minor": 5
}
