{
 "cells": [
  {
   "cell_type": "markdown",
   "id": "409ef523",
   "metadata": {},
   "source": [
    "# Template for COSIMA Cookbook Notebooks\n",
    "\n",
    "This notebook shows the essential elements of a COSIMA Cookbook recipe.\n",
    "\n",
    "**Requirements:** We strongly suggest that you select the `conda/analysis3` kernel. This is the most recent stable release of the `conda` environment curated by the CMS team."
   ]
  },
  {
   "cell_type": "markdown",
   "id": "70f62e69",
   "metadata": {},
   "source": [
    "**Firstly,** load in your required modules. The following are pretty standard:"
   ]
  },
  {
   "cell_type": "code",
   "execution_count": null,
   "id": "f677c18a",
   "metadata": {},
   "outputs": [],
   "source": [
    "%matplotlib inline\n",
    "\n",
    "import pandas as pd\n",
    "import intake\n",
    "catalog = intake.cat.access_nri\n",
    "import matplotlib.pyplot as plt\n",
    "import netCDF4 as nc\n",
    "import xarray as xr\n",
    "import numpy as np\n",
    "from dask.distributed import Client"
   ]
  },
  {
   "cell_type": "markdown",
   "id": "63a9c0e0",
   "metadata": {},
   "source": [
    "These modules are more optional:"
   ]
  },
  {
   "cell_type": "code",
   "execution_count": null,
   "id": "fa471615",
   "metadata": {},
   "outputs": [],
   "source": [
    "import cmocean as cm                              # Nice colormaps\n",
    "from collections import OrderedDict               # We often use this to organise our experiments\n",
    "import cftime                                     # In case you need to work with time axes\n",
    "import glob                                       # If you need to search file systems\n",
    "import cartopy.crs as ccrs                        # For making maps.\n",
    "import cartopy.feature as cft                     # For adding features to maps"
   ]
  },
  {
   "cell_type": "markdown",
   "id": "8501b098",
   "metadata": {},
   "source": [
    "It's often a good idea to start a cluster with multiple cores for you to work with. This is the easiest way to do that:"
   ]
  },
  {
   "cell_type": "code",
   "execution_count": null,
   "id": "72a30057",
   "metadata": {},
   "outputs": [],
   "source": [
    "client = Client(\"tcp://10.6.43.39:8786\")\n",
    "client"
   ]
  },
  {
   "cell_type": "code",
   "execution_count": null,
   "id": "be3eb33b",
   "metadata": {},
   "outputs": [],
   "source": []
  },
  {
   "cell_type": "markdown",
   "id": "bdb7b4be",
   "metadata": {},
   "source": [
    "You will need to nominate a database from which to load your data. Unless there is a pressing need, it is best to connect to the default database:"
   ]
  },
  {
   "cell_type": "code",
   "execution_count": null,
   "id": "036a21ac",
   "metadata": {},
   "outputs": [],
   "source": []
  },
  {
   "cell_type": "markdown",
   "id": "6990b795",
   "metadata": {},
   "source": [
    "**Now you are ready to begin your custom code.** This will invariable require:\n",
    "* loading data using ```querying.getvar()```\n",
    "* processing or manipulating the data\n",
    "* making one or more plots.\n",
    "We recommend that, at a minimum, these 3 tasks are done in 3 separate cells, but many examples eill use multiple cells in the processing step. \n",
    "\n",
    "At all stages you should **try your best to document your code**. As a rule of thumb, if an undergraduate student can follow what you have done, then your documentation is about right ..."
   ]
  }
 ],
 "metadata": {
  "kernelspec": {
   "display_name": "Python [conda env:analysis3]",
   "language": "python",
   "name": "conda-env-analysis3-py"
  },
  "language_info": {
   "codemirror_mode": {
    "name": "ipython",
    "version": 3
   },
   "file_extension": ".py",
   "mimetype": "text/x-python",
   "name": "python",
   "nbconvert_exporter": "python",
   "pygments_lexer": "ipython3",
   "version": "3.9.12"
  }
 },
 "nbformat": 4,
 "nbformat_minor": 5
}
