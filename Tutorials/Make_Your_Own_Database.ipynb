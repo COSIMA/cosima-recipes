{
 "cells": [
  {
   "cell_type": "markdown",
   "metadata": {},
   "source": [
    "# Make Your Own Database\n",
    "\n",
    "The COSIMA cookbook uses a database to access information about experiments and to help with loading model output. We maintain a default database for ACCESS-OM2 experiments, but there are occasions when you might want to make your own database. This tutorial outlines the process of making your own private database.\n",
    "\n",
    "**Requirements:** We recommend that you use the most recent `conda/analysis3` (or later) kernel on NCI (or your own up-to-date cookbook installation)."
   ]
  },
  {
   "cell_type": "code",
   "execution_count": null,
   "metadata": {},
   "outputs": [],
   "source": [
    "%matplotlib inline\n",
    "import cosima_cookbook as cc"
   ]
  },
  {
   "cell_type": "markdown",
   "metadata": {},
   "source": [
    "**First, create a database session** using the inbuilt `create_session` function. To do this, you need to specify a path for the database - choose a location where you have write permission (that is, not the example that I have given here):"
   ]
  },
  {
   "cell_type": "code",
   "execution_count": null,
   "metadata": {},
   "outputs": [],
   "source": [
    "db = 'local_cc_test.db'\n",
    "session = cc.database.create_session(db)"
   ]
  },
  {
   "cell_type": "markdown",
   "metadata": {},
   "source": [
    "Note that you need to create the database session every time you start up your notebook; you can then update this database however many times you like."
   ]
  },
  {
   "cell_type": "markdown",
   "metadata": {},
   "source": [
    "**Now you are ready to build a database.** First, select which *experiments* you want to include in your database. For these purposes, an *experiment* is a directory containing output from a single simulation. (If you use a higher level directory you won't be able to distinguish between experiments.) \n",
    "\n",
    "My example below constructs a list of three experiment directories; I have chosen three cases with differing resolution. The database will be built to index all netcdf files in each directory."
   ]
  },
  {
   "cell_type": "code",
   "execution_count": null,
   "metadata": {},
   "outputs": [],
   "source": [
    "dir_list=['/g/data3/hh5/tmp/cosima/access-om2/1deg_jra55v13_iaf_spinup1_B1',\n",
    "          '/g/data3/hh5/tmp/cosima/access-om2-025/025deg_jra55v13_iaf_gmredi6',\n",
    "          '/g/data3/hh5/tmp/cosima/access-om2-01/01deg_jra55v13_iaf']\n",
    "cc.database.build_index(dir_list,session,update=True)"
   ]
  },
  {
   "cell_type": "markdown",
   "metadata": {},
   "source": [
    "Note that this operation may take a little while first time through, but is relatively painless to update -- **provided that you have the `update=True` flag switched on**. Now you have your own database - remember to specify your own database when you load model output, or else it will look for your experiment in the default database.\n",
    "\n",
    "## Using the database\n",
    "To know how to effectively use this database, please see the companion tutorial: `COSIMA_CookBook_Tutorial`. Alternatively, here is a sample that shows how you might load a variable from an experiment in your database."
   ]
  },
  {
   "cell_type": "code",
   "execution_count": null,
   "metadata": {},
   "outputs": [],
   "source": [
    "expt =  '025deg_jra55v13_iaf_gmredi6'\n",
    "variable = 'ke_tot'\n",
    "darray = cc.querying.getvar(expt, variable, session)\n",
    "annual_average = darray.resample(time='A').mean(dim='time')\n",
    "annual_average.plot()"
   ]
  },
  {
   "cell_type": "markdown",
   "metadata": {},
   "source": [
    "If you want to know more about the inbuilt functions used above, you can use the help function at any time, for example:"
   ]
  },
  {
   "cell_type": "code",
   "execution_count": null,
   "metadata": {},
   "outputs": [],
   "source": [
    "help(cc.database.create_session)"
   ]
  },
  {
   "cell_type": "code",
   "execution_count": null,
   "metadata": {},
   "outputs": [],
   "source": [
    "help(cc.querying.getvar)"
   ]
  },
  {
   "cell_type": "code",
   "execution_count": null,
   "metadata": {},
   "outputs": [],
   "source": []
  }
 ],
 "metadata": {
  "kernelspec": {
   "display_name": "Python [conda env:analysis3-20.01] *",
   "language": "python",
   "name": "conda-env-analysis3-20.01-py"
  },
  "language_info": {
   "codemirror_mode": {
    "name": "ipython",
    "version": 3
   },
   "file_extension": ".py",
   "mimetype": "text/x-python",
   "name": "python",
   "nbconvert_exporter": "python",
   "pygments_lexer": "ipython3",
   "version": "3.6.7"
  }
 },
 "nbformat": 4,
 "nbformat_minor": 4
}
