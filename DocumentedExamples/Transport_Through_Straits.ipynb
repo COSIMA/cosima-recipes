{
 "cells": [
  {
   "cell_type": "markdown",
   "metadata": {
    "extensions": {
     "jupyter_dashboards": {
      "version": 1,
      "views": {
       "grid_default": {
        "col": 0,
        "height": 4,
        "hidden": false,
        "row": 36,
        "width": 12
       },
       "report_default": {
        "hidden": false
       }
      }
     }
    }
   },
   "source": [
    "# Transports Through Straits\n",
    "\n",
    "Computing the depth-integrated volume transport through some major straits.\n",
    "\n",
    "## Theory\n",
    "\n",
    "Formally, mass transports are given by\n",
    "\n",
    "$$T_x = \\rho u  $$\n",
    "$$T_y = \\rho v  $$\n",
    "\n",
    "Mass transports are diagnostics that are calculated online by the model:\n",
    "\n",
    "| variable|long name|units|dimensions|\n",
    "| --- |  --- | --- | --- |\n",
    "| `tx_trans` |T-cell i-mass transport|Sv|(time,st_ocean,xu_ocean,yt_ocean)|\n",
    "| `ty_trans` |T-cell j-mass transport|Sv|(time,st_ocean,xt_ocean,yu_ocean)|\n"
   ]
  },
  {
   "cell_type": "markdown",
   "metadata": {},
   "source": [
    "Variable `tx_trans` contains the instantaneous zonal transport multiplied with $y$-$z$ face of the volume of each cell:\n",
    "    <center> `tx_trans`$=T_{x}(x, y, z, t)\\,\\Delta y\\,\\Delta z$.</center>\n",
    "\n",
    "Similarly, `tx_trans` contains\n",
    "    <center> `ty_trans`$=T_{y}(x, y, z, t)\\,\\Delta x\\,\\Delta z$.</center>\n",
    "    \n",
    "Thus, `tx_trans` and `ty_trans` variables come in units of $\\underbrace{kg\\,m^{-3}}_{\\rm density} \\times \\underbrace{m\\,s^{-1}}_{\\rm velocity}\\times\\underbrace{m^2}_{\\rm area} = kg\\,s^{-1}$. To get the volume transport ($m^3\\,s^{-1}$) we have to divide by $\\rho$."
   ]
  },
  {
   "cell_type": "markdown",
   "metadata": {},
   "source": [
    "## Calculation"
   ]
  },
  {
   "cell_type": "code",
   "execution_count": 1,
   "metadata": {},
   "outputs": [],
   "source": [
    "%matplotlib inline\n",
    "%config InlineBackend.figure_format='retina'\n",
    "\n",
    "import cosima_cookbook as cc\n",
    "import matplotlib.pyplot as plt\n",
    "\n",
    "from dask.distributed import Client"
   ]
  },
  {
   "cell_type": "markdown",
   "metadata": {},
   "source": [
    "Load a `dask` client."
   ]
  },
  {
   "cell_type": "code",
   "execution_count": 2,
   "metadata": {},
   "outputs": [
    {
     "data": {
      "text/html": [
       "<table style=\"border: 2px solid white;\">\n",
       "<tr>\n",
       "<td style=\"vertical-align: top; border: 0px solid white\">\n",
       "<h3 style=\"text-align: left;\">Client</h3>\n",
       "<ul style=\"text-align: left; list-style: none; margin: 0; padding: 0;\">\n",
       "  <li><b>Scheduler: </b>tcp://127.0.0.1:43263</li>\n",
       "  <li><b>Dashboard: </b><a href='/proxy/8787/status' target='_blank'>/proxy/8787/status</a>\n",
       "</ul>\n",
       "</td>\n",
       "<td style=\"vertical-align: top; border: 0px solid white\">\n",
       "<h3 style=\"text-align: left;\">Cluster</h3>\n",
       "<ul style=\"text-align: left; list-style:none; margin: 0; padding: 0;\">\n",
       "  <li><b>Workers: </b>8</li>\n",
       "  <li><b>Cores: </b>48</li>\n",
       "  <li><b>Memory: </b>202.49 GB</li>\n",
       "</ul>\n",
       "</td>\n",
       "</tr>\n",
       "</table>"
      ],
      "text/plain": [
       "<Client: 'tcp://127.0.0.1:43263' processes=8 threads=48, memory=202.49 GB>"
      ]
     },
     "execution_count": 2,
     "metadata": {},
     "output_type": "execute_result"
    }
   ],
   "source": [
    "client = Client()\n",
    "client"
   ]
  },
  {
   "cell_type": "markdown",
   "metadata": {},
   "source": [
    "Use default database for this calculation"
   ]
  },
  {
   "cell_type": "code",
   "execution_count": 3,
   "metadata": {},
   "outputs": [],
   "source": [
    "session = cc.database.create_session()"
   ]
  },
  {
   "cell_type": "markdown",
   "metadata": {},
   "source": [
    "This dictionary defines a few key choke points that you might be interested in. For the purposes of demonstration we are just using Drake Passage in this example."
   ]
  },
  {
   "cell_type": "code",
   "execution_count": 4,
   "metadata": {},
   "outputs": [],
   "source": [
    "straits = { 'DrakePassage': [-69.9, -69.9, -71.6, -51.0],\n",
    "              'Lombok':     [-244.6+360, -243.9+360, -8.6, -8.6],\n",
    "              'Ombai' :     [-235.0+360, -235.0+360, -9.2, -8.1],\n",
    "              'Timor' :     [-235.9+360, -235.9+360, -11.9, -9.9],\n",
    "              'Bering' :    [-172, -167, 65.8, 65.8],\n",
    "              'Denmark' :   [-42, -22, 65.8, 65.8],\n",
    "            }"
   ]
  },
  {
   "cell_type": "markdown",
   "metadata": {},
   "source": [
    "Here we define a function so that you can specify a given strait, and rely on the function to extract the transport through that strait."
   ]
  },
  {
   "cell_type": "code",
   "execution_count": 5,
   "metadata": {},
   "outputs": [],
   "source": [
    "rho = 1036 # kg/m^3, mean density of seawater\n",
    "\n",
    "def calc_transport(expt, strait):\n",
    "    \"\"\"\n",
    "    Calculate barotropic transport across a given \n",
    "     line of latitude or longitude.\n",
    "     \n",
    "    Designed for flow through straits.\n",
    "    \"\"\"\n",
    "    \n",
    "    xmin, xmax, ymin, ymax = straits[strait]\n",
    "    \n",
    "    if ymax>=65:\n",
    "        raise ValueError('North of 65N the tripolar grid geometry brings complications and `.sum(''xt_ocean'')` is wrong!')\n",
    "    \n",
    "    print('Calculating {}:{} transport'.format(expt, strait))\n",
    "    \n",
    "    if xmin == xmax:                \n",
    "        tx_trans = cc.querying.getvar(expt,'tx_trans',session)\n",
    "        transport = tx_trans.sel(xu_ocean=xmin, method='nearest')\\\n",
    "                            .sel(yt_ocean=slice(ymin, ymax))\\\n",
    "                            .sum('st_ocean').sum('yt_ocean')/rho/1e6 #divide by ρ to convert to volume transport, m^3/s, and with 1e6 to convert to Sv.\n",
    "\n",
    "    elif ymin == ymax:\n",
    "        ty_trans = cc.querying.getvar(expt,'ty_trans',session)\n",
    "        transport = ty_trans.sel(yu_ocean=ymin, method='nearest')\\\n",
    "                            .sel(xt_ocean=slice(xmin, xmax))\\\n",
    "                            .sum('st_ocean').sum('xt_ocean')/rho/1e6 #divide by ρ to convert to volume transport, m^3/s, and with 1e6 to convert to Sv.\n",
    "    else:\n",
    "        raise ValueError('Transports are computed only along lines of either constant latitude or longitude')\n",
    "    \n",
    "    transport = transport.compute()\n",
    "       \n",
    "    return transport"
   ]
  },
  {
   "cell_type": "markdown",
   "metadata": {},
   "source": [
    "Now, for a given experiment, calculate the total (barotropic) transport through Drake Passage:"
   ]
  },
  {
   "cell_type": "code",
   "execution_count": 6,
   "metadata": {},
   "outputs": [
    {
     "name": "stdout",
     "output_type": "stream",
     "text": [
      "Calculating 025deg_jra55v13_ryf9091_gmredi6:DrakePassage transport\n",
      "CPU times: user 15.5 s, sys: 738 ms, total: 16.3 s\n",
      "Wall time: 23.2 s\n"
     ]
    }
   ],
   "source": [
    "%%time\n",
    "expt = '025deg_jra55v13_ryf9091_gmredi6'\n",
    "transport = calc_transport(expt, 'DrakePassage')"
   ]
  },
  {
   "cell_type": "markdown",
   "metadata": {},
   "source": [
    "Plot the result"
   ]
  },
  {
   "cell_type": "code",
   "execution_count": 7,
   "metadata": {},
   "outputs": [
    {
     "data": {
      "image/png": "[encoded data removed]",
      "text/plain": [
       "<Figure size 432x288 with 1 Axes>"
      ]
     },
     "metadata": {
      "image/png": {
       "height": 277,
       "width": 398
      },
      "needs_background": "light"
     },
     "output_type": "display_data"
    }
   ],
   "source": [
    "transport.plot(linestyle='-')\n",
    "plt.title('Drake Passage Transport')\n",
    "plt.xlabel('Year')\n",
    "plt.ylabel('Transport (Sv)');"
   ]
  }
 ],
 "metadata": {
  "extensions": {
   "jupyter_dashboards": {
    "activeView": "grid_default",
    "version": 1,
    "views": {
     "grid_default": {
      "cellMargin": 10,
      "defaultCellHeight": 20,
      "maxColumns": 12,
      "name": "grid",
      "type": "grid"
     },
     "report_default": {
      "name": "report",
      "type": "report"
     }
    }
   }
  },
  "kernelspec": {
   "display_name": "Python [conda env:analysis3-20.01]",
   "language": "python",
   "name": "conda-env-analysis3-20.01-py"
  },
  "language_info": {
   "codemirror_mode": {
    "name": "ipython",
    "version": 3
   },
   "file_extension": ".py",
   "mimetype": "text/x-python",
   "name": "python",
   "nbconvert_exporter": "python",
   "pygments_lexer": "ipython3",
   "version": "3.7.6"
  },
  "nbdime-conflicts": {
   "local_diff": [
    {
     "diff": [
      {
       "diff": [
        {
         "diff": [
          {
           "key": 4,
           "op": "addrange",
           "valuelist": "5"
          },
          {
           "key": 4,
           "length": 1,
           "op": "removerange"
          }
         ],
         "key": 0,
         "op": "patch"
        }
       ],
       "key": "version",
       "op": "patch"
      }
     ],
     "key": "language_info",
     "op": "patch"
    }
   ],
   "remote_diff": [
    {
     "diff": [
      {
       "diff": [
        {
         "diff": [
          {
           "key": 4,
           "op": "addrange",
           "valuelist": "4"
          },
          {
           "key": 4,
           "length": 1,
           "op": "removerange"
          }
         ],
         "key": 0,
         "op": "patch"
        }
       ],
       "key": "version",
       "op": "patch"
      }
     ],
     "key": "language_info",
     "op": "patch"
    }
   ]
  }
 },
 "nbformat": 4,
 "nbformat_minor": 4
}
