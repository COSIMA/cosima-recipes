{
 "cells": [
  {
   "cell_type": "markdown",
   "metadata": {
    "extensions": {
     "jupyter_dashboards": {
      "version": 1,
      "views": {
       "grid_default": {
        "col": 0,
        "height": 4,
        "hidden": false,
        "row": 36,
        "width": 12
       },
       "report_default": {
        "hidden": false
       }
      }
     }
    }
   },
   "source": [
    "# Mass Transports\n",
    "\n",
    "Transport diagnostics for flow through major straits.\n",
    "\n",
    "## Theory\n",
    "\n",
    "Formally, mass transports are given by\n",
    "$$T_x = \\rho u  $$\n",
    "$$T_y = \\rho v  $$\n",
    "\n",
    "Mass transports are diagnostics that are calculated online by the model:\n",
    "\n",
    "| variable|long name|units|dimensions|\n",
    "| --- |  --- | --- | --- |\n",
    "| `tx_trans` |T-cell i-mass transport|Sv|(time,st_ocean,xu_ocean,yt_ocean)|\n",
    "| `ty_trans` |T-cell j-mass transport|Sv|(time,st_ocean,xt_ocean,yu_ocean)|\n"
   ]
  },
  {
   "cell_type": "markdown",
   "metadata": {},
   "source": [
    "## Calculation"
   ]
  },
  {
   "cell_type": "code",
   "execution_count": null,
   "metadata": {},
   "outputs": [],
   "source": [
    "%matplotlib inline\n",
    "\n",
    "import cosima_cookbook as cc\n",
    "import matplotlib.pyplot as plt"
   ]
  },
  {
   "cell_type": "markdown",
   "metadata": {},
   "source": [
    "Use default database for this calculation"
   ]
  },
  {
   "cell_type": "code",
   "execution_count": null,
   "metadata": {},
   "outputs": [],
   "source": [
    "session = cc.database.create_session()"
   ]
  },
  {
   "cell_type": "markdown",
   "metadata": {},
   "source": [
    "This dictionary defines a few key choke points that you might be interested in. For the purposes of demonstration we are just using Drake Passage in this example."
   ]
  },
  {
   "cell_type": "code",
   "execution_count": null,
   "metadata": {},
   "outputs": [],
   "source": [
    "straights = { 'DrakePassage': [-69.9, -69.9, -71.6, -51.0],\n",
    "              'Lombok':       [-244.6+360, -243.9+360, -8.6, -8.6],\n",
    "              'Ombai' :       [-235.0+360, -235.0+360, -9.2, -8.1],\n",
    "              'Timor' :       [-235.9+360, -235.9+360, -11.9, -9.9],\n",
    "              'Bering' :      [-172, -167, 65.8, 65.8],\n",
    "              'Denmark' :     [-42, -22, 65.8, 65.8],\n",
    "            }"
   ]
  },
  {
   "cell_type": "markdown",
   "metadata": {},
   "source": [
    "Here we define a function so that you can specify a given strait, and rely on the function to extract the transport through that strait."
   ]
  },
  {
   "cell_type": "code",
   "execution_count": null,
   "metadata": {},
   "outputs": [],
   "source": [
    "def calc_transport(expt, strait):\n",
    "    \"\"\"\n",
    "    Calculate barotropic transport across a given \n",
    "     line of latitude or longitude.\n",
    "     \n",
    "    Designed for flow through straits.\n",
    "    \"\"\"\n",
    "    \n",
    "    print('Calculating {}:{} transport'.format(expt, strait))\n",
    "    \n",
    "    xmin, xmax, ymin, ymax = straits[strait]\n",
    "    \n",
    "    if xmin == xmax:                \n",
    "        tx_trans = cc.querying.getvar(expt,'tx_trans',session)\n",
    "        \n",
    "        transport = tx_trans.sel(xu_ocean=xmin, method='nearest')\\\n",
    "                            .sel(yt_ocean=slice(ymin, ymax))\\\n",
    "                            .sum('st_ocean').sum('yt_ocean')/1e6/1036\n",
    "\n",
    "    elif ymin == ymax:\n",
    "        ty_trans = cc.querying.getvar(expt,'tx_trans',session)\n",
    "        transport = ty_trans.sel(yu_ocean=ymin, method='nearest')\\\n",
    "                            .sel(xt_ocean=slice(xmin, xmax))\\\n",
    "                            .sum('st_ocean').sum('xt_ocean')/1e6/1036\n",
    "    else:\n",
    "        raise ValueError('Transports are computed only along lines of either constant latitude or longitude')\n",
    "    \n",
    "    transport = transport.compute()\n",
    "       \n",
    "    return transport"
   ]
  },
  {
   "cell_type": "markdown",
   "metadata": {},
   "source": [
    "Now, for a given experiment, calculate the total (barotropic) transport through Drake Passage:"
   ]
  },
  {
   "cell_type": "code",
   "execution_count": null,
   "metadata": {},
   "outputs": [],
   "source": [
    "%%time\n",
    "expt = '025deg_jra55v13_ryf9091_gmredi6'\n",
    "transport = calc_transport(expt, 'DrakePassage')"
   ]
  },
  {
   "cell_type": "markdown",
   "metadata": {},
   "source": [
    "Plot the result"
   ]
  },
  {
   "cell_type": "code",
   "execution_count": null,
   "metadata": {},
   "outputs": [],
   "source": [
    "transport.plot(linestyle='-')\n",
    "plt.title('Drake Passage Transport')\n",
    "plt.xlabel('Year')\n",
    "plt.ylabel('Transport (Sv)')"
   ]
  },
  {
   "cell_type": "code",
   "execution_count": null,
   "metadata": {},
   "outputs": [],
   "source": []
  }
 ],
 "metadata": {
  "extensions": {
   "jupyter_dashboards": {
    "activeView": "grid_default",
    "version": 1,
    "views": {
     "grid_default": {
      "cellMargin": 10,
      "defaultCellHeight": 20,
      "maxColumns": 12,
      "name": "grid",
      "type": "grid"
     },
     "report_default": {
      "name": "report",
      "type": "report"
     }
    }
   }
  },
  "kernelspec": {
   "display_name": "Python [conda env:analysis3-20.01] *",
   "language": "python",
   "name": "conda-env-analysis3-20.01-py"
  },
  "language_info": {
   "codemirror_mode": {
    "name": "ipython",
    "version": 3
   },
   "file_extension": ".py",
   "mimetype": "text/x-python",
   "name": "python",
   "nbconvert_exporter": "python",
   "pygments_lexer": "ipython3",
   "version": "3.6.7"
  },
  "nbdime-conflicts": {
   "local_diff": [
    {
     "diff": [
      {
       "diff": [
        {
         "diff": [
          {
           "key": 4,
           "op": "addrange",
           "valuelist": "5"
          },
          {
           "key": 4,
           "length": 1,
           "op": "removerange"
          }
         ],
         "key": 0,
         "op": "patch"
        }
       ],
       "key": "version",
       "op": "patch"
      }
     ],
     "key": "language_info",
     "op": "patch"
    }
   ],
   "remote_diff": [
    {
     "diff": [
      {
       "diff": [
        {
         "diff": [
          {
           "key": 4,
           "op": "addrange",
           "valuelist": "4"
          },
          {
           "key": 4,
           "length": 1,
           "op": "removerange"
          }
         ],
         "key": 0,
         "op": "patch"
        }
       ],
       "key": "version",
       "op": "patch"
      }
     ],
     "key": "language_info",
     "op": "patch"
    }
   ]
  }
 },
 "nbformat": 4,
 "nbformat_minor": 4
}
