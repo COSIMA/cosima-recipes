{
 "cells": [
  {
   "cell_type": "markdown",
   "id": "d42fc115-6798-4af5-8150-ad1f078fefcc",
   "metadata": {
    "tags": []
   },
   "source": [
    "# Example: Cross-contour transport\n",
    "\n",
    "This notebook uses the `cosima_cookbook` to calculate transport across an arbitrary contour. We do this by first creating the contour, such as sea surface height, and extracting the coordinates using `matplotlib`'s `Path` class. We then create some masks to indicate which direction is across the contour at each position along the contour. We then load the transport data and compute the transport, resulting in data with dimensions depth and along contour index. \n",
    "\n",
    "Computation times shown used conda environment `analysis3-22.07` on the large compute size on NCI's ARE.\n",
    "\n",
    "**Note:** updated 4Sep23 to modify the calculation of the transport masks to include cases where the contour borders a grid cell on three sides. Previously these options were not included in the calculation and thus there was missing transport.\n",
    "\n",
    "First, we load useful packages:"
   ]
  },
  {
   "cell_type": "code",
   "execution_count": 1,
   "id": "9317acde-1a95-41f7-a7a7-ab60f9a33540",
   "metadata": {},
   "outputs": [],
   "source": [
    "%matplotlib inline\n",
    "\n",
    "import pandas as pd\n",
    "import intake\n",
    "catalog = intake.cat.access_nri\n",
    "import matplotlib.pyplot as plt\n",
    "import netCDF4 as nc\n",
    "import xarray as xr\n",
    "import numpy as np\n",
    "\n",
    "from dask.distributed import Client"
   ]
  },
  {
   "cell_type": "code",
   "execution_count": 2,
   "id": "789a9952-1884-4633-aa20-60c05cce513b",
   "metadata": {},
   "outputs": [
    {
     "data": {
      "text/html": [
       "<div>\n",
       "    <div style=\"width: 24px; height: 24px; background-color: #e1e1e1; border: 3px solid #9D9D9D; border-radius: 5px; position: absolute;\"> </div>\n",
       "    <div style=\"margin-left: 48px;\">\n",
       "        <h3 style=\"margin-bottom: 0px;\">Client</h3>\n",
       "        <p style=\"color: #9D9D9D; margin-bottom: 0px;\">Client-f4ae6b00-836e-11ee-a3df-0000018efe80</p>\n",
       "        <table style=\"width: 100%; text-align: left;\">\n",
       "\n",
       "        <tr>\n",
       "        \n",
       "            <td style=\"text-align: left;\"><strong>Connection method:</strong> Direct</td>\n",
       "            <td style=\"text-align: left;\"></td>\n",
       "        \n",
       "        </tr>\n",
       "\n",
       "        \n",
       "            <tr>\n",
       "                <td style=\"text-align: left;\">\n",
       "                    <strong>Dashboard: </strong> <a href=\"/proxy/8787/status\" target=\"_blank\">/proxy/8787/status</a>\n",
       "                </td>\n",
       "                <td style=\"text-align: left;\"></td>\n",
       "            </tr>\n",
       "        \n",
       "\n",
       "        </table>\n",
       "\n",
       "        \n",
       "            <button style=\"margin-bottom: 12px;\" data-commandlinker-command=\"dask:populate-and-launch-layout\" data-commandlinker-args='{\"url\": \"/proxy/8787/status\" }'>\n",
       "                Launch dashboard in JupyterLab\n",
       "            </button>\n",
       "        \n",
       "\n",
       "        \n",
       "            <details>\n",
       "            <summary style=\"margin-bottom: 20px;\"><h3 style=\"display: inline;\">Scheduler Info</h3></summary>\n",
       "            <div style=\"\">\n",
       "    <div>\n",
       "        <div style=\"width: 24px; height: 24px; background-color: #FFF7E5; border: 3px solid #FF6132; border-radius: 5px; position: absolute;\"> </div>\n",
       "        <div style=\"margin-left: 48px;\">\n",
       "            <h3 style=\"margin-bottom: 0px;\">Scheduler</h3>\n",
       "            <p style=\"color: #9D9D9D; margin-bottom: 0px;\">Scheduler-7547f1e1-4c20-48f5-98ca-661eaefedcf0</p>\n",
       "            <table style=\"width: 100%; text-align: left;\">\n",
       "                <tr>\n",
       "                    <td style=\"text-align: left;\">\n",
       "                        <strong>Comm:</strong> tcp://10.6.22.43:8786\n",
       "                    </td>\n",
       "                    <td style=\"text-align: left;\">\n",
       "                        <strong>Workers:</strong> 1\n",
       "                    </td>\n",
       "                </tr>\n",
       "                <tr>\n",
       "                    <td style=\"text-align: left;\">\n",
       "                        <strong>Dashboard:</strong> <a href=\"/proxy/8787/status\" target=\"_blank\">/proxy/8787/status</a>\n",
       "                    </td>\n",
       "                    <td style=\"text-align: left;\">\n",
       "                        <strong>Total threads:</strong> 48\n",
       "                    </td>\n",
       "                </tr>\n",
       "                <tr>\n",
       "                    <td style=\"text-align: left;\">\n",
       "                        <strong>Started:</strong> 2 hours ago\n",
       "                    </td>\n",
       "                    <td style=\"text-align: left;\">\n",
       "                        <strong>Total memory:</strong> 188.56 GiB\n",
       "                    </td>\n",
       "                </tr>\n",
       "            </table>\n",
       "        </div>\n",
       "    </div>\n",
       "\n",
       "    <details style=\"margin-left: 48px;\">\n",
       "        <summary style=\"margin-bottom: 20px;\">\n",
       "            <h3 style=\"display: inline;\">Workers</h3>\n",
       "        </summary>\n",
       "\n",
       "        \n",
       "        <div style=\"margin-bottom: 20px;\">\n",
       "            <div style=\"width: 24px; height: 24px; background-color: #DBF5FF; border: 3px solid #4CC9FF; border-radius: 5px; position: absolute;\"> </div>\n",
       "            <div style=\"margin-left: 48px;\">\n",
       "            <details>\n",
       "                <summary>\n",
       "                    <h4 style=\"margin-bottom: 0px; display: inline;\">Worker: tcp://10.6.22.43:37571</h4>\n",
       "                </summary>\n",
       "                <table style=\"width: 100%; text-align: left;\">\n",
       "                    <tr>\n",
       "                        <td style=\"text-align: left;\">\n",
       "                            <strong>Comm: </strong> tcp://10.6.22.43:37571\n",
       "                        </td>\n",
       "                        <td style=\"text-align: left;\">\n",
       "                            <strong>Total threads: </strong> 48\n",
       "                        </td>\n",
       "                    </tr>\n",
       "                    <tr>\n",
       "                        <td style=\"text-align: left;\">\n",
       "                            <strong>Dashboard: </strong> <a href=\"/proxy/33801/status\" target=\"_blank\">/proxy/33801/status</a>\n",
       "                        </td>\n",
       "                        <td style=\"text-align: left;\">\n",
       "                            <strong>Memory: </strong> 188.56 GiB\n",
       "                        </td>\n",
       "                    </tr>\n",
       "                    <tr>\n",
       "                        <td style=\"text-align: left;\">\n",
       "                            <strong>Nanny: </strong> tcp://10.6.22.43:44673\n",
       "                        </td>\n",
       "                        <td style=\"text-align: left;\"></td>\n",
       "                    </tr>\n",
       "                    <tr>\n",
       "                        <td colspan=\"2\" style=\"text-align: left;\">\n",
       "                            <strong>Local directory: </strong> /scratch/iq82/mp7041/dasktmp/dask-scratch-space/worker-efhnz2dp\n",
       "                        </td>\n",
       "                    </tr>\n",
       "\n",
       "                    \n",
       "\n",
       "                    \n",
       "                    <tr>\n",
       "                        <td style=\"text-align: left;\">\n",
       "                            <strong>Tasks executing: </strong> \n",
       "                        </td>\n",
       "                        <td style=\"text-align: left;\">\n",
       "                            <strong>Tasks in memory: </strong> \n",
       "                        </td>\n",
       "                    </tr>\n",
       "                    <tr>\n",
       "                        <td style=\"text-align: left;\">\n",
       "                            <strong>Tasks ready: </strong> \n",
       "                        </td>\n",
       "                        <td style=\"text-align: left;\">\n",
       "                            <strong>Tasks in flight: </strong>\n",
       "                        </td>\n",
       "                    </tr>\n",
       "                    <tr>\n",
       "                        <td style=\"text-align: left;\">\n",
       "                            <strong>CPU usage:</strong> 104.7%\n",
       "                        </td>\n",
       "                        <td style=\"text-align: left;\">\n",
       "                            <strong>Last seen: </strong> Just now\n",
       "                        </td>\n",
       "                    </tr>\n",
       "                    <tr>\n",
       "                        <td style=\"text-align: left;\">\n",
       "                            <strong>Memory usage: </strong> 1.66 GiB\n",
       "                        </td>\n",
       "                        <td style=\"text-align: left;\">\n",
       "                            <strong>Spilled bytes: </strong> 0 B\n",
       "                        </td>\n",
       "                    </tr>\n",
       "                    <tr>\n",
       "                        <td style=\"text-align: left;\">\n",
       "                            <strong>Read bytes: </strong> 74.78 kiB\n",
       "                        </td>\n",
       "                        <td style=\"text-align: left;\">\n",
       "                            <strong>Write bytes: </strong> 115.25 kiB\n",
       "                        </td>\n",
       "                    </tr>\n",
       "                    \n",
       "\n",
       "                </table>\n",
       "            </details>\n",
       "            </div>\n",
       "        </div>\n",
       "        \n",
       "\n",
       "    </details>\n",
       "</div>\n",
       "            </details>\n",
       "        \n",
       "\n",
       "    </div>\n",
       "</div>"
      ],
      "text/plain": [
       "<Client: 'tcp://10.6.22.43:8786' processes=1 threads=48, memory=188.56 GiB>"
      ]
     },
     "execution_count": 2,
     "metadata": {},
     "output_type": "execute_result"
    }
   ],
   "source": [
    "client = Client(\"tcp://10.6.22.43:8786\")\n",
    "client"
   ]
  },
  {
   "cell_type": "code",
   "execution_count": null,
   "id": "6b0b052d",
   "metadata": {},
   "outputs": [],
   "source": []
  },
  {
   "cell_type": "markdown",
   "id": "0fc07fcc-6e1d-40c0-be5b-c887266a20c7",
   "metadata": {},
   "source": [
    "#### Choose database"
   ]
  },
  {
   "cell_type": "code",
   "execution_count": null,
   "id": "142873eb-d834-40c2-aa5c-7b8f750f83d0",
   "metadata": {},
   "outputs": [],
   "source": []
  },
  {
   "cell_type": "markdown",
   "id": "de04e5ed-ee85-48ff-9628-abd3e6d8ea7b",
   "metadata": {},
   "source": [
    "#### Choose experiment"
   ]
  },
  {
   "cell_type": "code",
   "execution_count": 3,
   "id": "eed34fea-7cdd-4439-9668-3f543b9a4766",
   "metadata": {},
   "outputs": [],
   "source": [
    "experiment = '01deg_jra55v13_ryf9091'"
   ]
  },
  {
   "cell_type": "markdown",
   "id": "63761ef6-84b9-4c3b-9f99-9f90cb878e49",
   "metadata": {},
   "source": [
    "#### Choose a latitude range so the contour fits in the range, but there is not too much extra space. Extra space slows down the computation."
   ]
  },
  {
   "cell_type": "code",
   "execution_count": 4,
   "id": "900d12f3-548f-4854-8686-5dc9f3d037c7",
   "metadata": {},
   "outputs": [],
   "source": [
    "lat_range = slice(-64.99, -47)"
   ]
  },
  {
   "cell_type": "markdown",
   "id": "2ed43746-1772-4db8-be15-19accc9907ab",
   "metadata": {},
   "source": [
    "#### We must make sure that this latitude range is so that the t-cells are always south and west of the u-cells.\n",
    "\n",
    "This is important because the meridional and zonal transports occur on different grids to each other. We can check this by loading the `u`-cell and `t`-cell coordinates. \n",
    "\n",
    "We choose this convention so that later on when we create `numpy` grids of where the contour is and in what direction the contour goes."
   ]
  },
  {
   "cell_type": "code",
   "execution_count": 14,
   "id": "e28cf315-ef31-4ce1-a526-b56b73ae2edb",
   "metadata": {},
   "outputs": [
    {
     "data": {
      "text/plain": [
       "['ANGLE',\n",
       " 'ANGLET',\n",
       " 'HTE',\n",
       " 'HTN',\n",
       " 'NCAT',\n",
       " 'TLAT',\n",
       " 'TLON',\n",
       " 'Tsfc_m',\n",
       " 'ULAT',\n",
       " 'ULON',\n",
       " 'age_global',\n",
       " 'aice_m',\n",
       " 'aicen_m',\n",
       " 'alidf_ai_m',\n",
       " 'alidr_ai_m',\n",
       " 'alvdf_ai_m',\n",
       " 'alvdr_ai_m',\n",
       " 'area_t',\n",
       " 'area_u',\n",
       " 'average_DT',\n",
       " 'average_T1',\n",
       " 'average_T2',\n",
       " 'bih_fric_u',\n",
       " 'bih_fric_v',\n",
       " 'blkmask',\n",
       " 'buoyfreq2_wt',\n",
       " 'congel_m',\n",
       " 'divu_m',\n",
       " 'drag_coeff',\n",
       " 'dxt',\n",
       " 'dxu',\n",
       " 'dyt',\n",
       " 'dyu',\n",
       " 'dzt',\n",
       " 'eta_global',\n",
       " 'eta_t',\n",
       " 'evap',\n",
       " 'evap_heat',\n",
       " 'flatn_ai_m',\n",
       " 'fmeltt_ai_m',\n",
       " 'fmelttn_ai_m',\n",
       " 'fprec',\n",
       " 'fprec_melt_heat',\n",
       " 'frazil_3d',\n",
       " 'frazil_3d_int_z',\n",
       " 'frazil_m',\n",
       " 'frz_onset_m',\n",
       " 'fsalt_ai_m',\n",
       " 'fsalt_m',\n",
       " 'fswup_m',\n",
       " 'geolat_c',\n",
       " 'geolat_t',\n",
       " 'geolon_c',\n",
       " 'geolon_t',\n",
       " 'hi_m',\n",
       " 'hs_m',\n",
       " 'ht',\n",
       " 'hu',\n",
       " 'ke_tot',\n",
       " 'kmt',\n",
       " 'kmu',\n",
       " 'lprec',\n",
       " 'lw_heat',\n",
       " 'melt',\n",
       " 'mld',\n",
       " 'mlt_onset_m',\n",
       " 'net_sfc_heating',\n",
       " 'opening_m',\n",
       " 'passive_adelie',\n",
       " 'passive_prydz',\n",
       " 'passive_ross',\n",
       " 'passive_weddell',\n",
       " 'pbot_t',\n",
       " 'pe_tot',\n",
       " 'pme_net',\n",
       " 'pme_river',\n",
       " 'pot_rho_0',\n",
       " 'pot_rho_1',\n",
       " 'pot_rho_2',\n",
       " 'pot_temp',\n",
       " 'rho',\n",
       " 'rhoave',\n",
       " 'river',\n",
       " 'runoff',\n",
       " 'salt',\n",
       " 'salt_global_ave',\n",
       " 'salt_surface_ave',\n",
       " 'sea_level',\n",
       " 'sea_levelsq',\n",
       " 'sens_heat',\n",
       " 'sfc_hflux_coupler',\n",
       " 'sfc_hflux_from_runoff',\n",
       " 'sfc_hflux_pme',\n",
       " 'sfc_salt_flux_coupler',\n",
       " 'sfc_salt_flux_ice',\n",
       " 'sfc_salt_flux_restore',\n",
       " 'shear_m',\n",
       " 'sig1_m',\n",
       " 'sig2_m',\n",
       " 'sss_m',\n",
       " 'sst_m',\n",
       " 'strairx_m',\n",
       " 'strairy_m',\n",
       " 'strength_m',\n",
       " 'surface_salt',\n",
       " 'surface_temp',\n",
       " 'sw_heat',\n",
       " 'swflx',\n",
       " 'tarea',\n",
       " 'tau_x',\n",
       " 'tau_y',\n",
       " 'temp',\n",
       " 'temp_advection',\n",
       " 'temp_global_ave',\n",
       " 'temp_nonlocal_KPP',\n",
       " 'temp_rivermix',\n",
       " 'temp_submeso',\n",
       " 'temp_surface_ave',\n",
       " 'temp_tendency',\n",
       " 'temp_vdiffuse_diff_cbt_conv',\n",
       " 'temp_vdiffuse_impl',\n",
       " 'temp_xflux_adv',\n",
       " 'temp_yflux_adv',\n",
       " 'time_bounds',\n",
       " 'tmask',\n",
       " 'total_net_sfc_heating',\n",
       " 'total_ocean_calving',\n",
       " 'total_ocean_calving_heat',\n",
       " 'total_ocean_calving_melt_heat',\n",
       " 'total_ocean_evap',\n",
       " 'total_ocean_evap_heat',\n",
       " 'total_ocean_fprec',\n",
       " 'total_ocean_fprec_melt_heat',\n",
       " 'total_ocean_heat',\n",
       " 'total_ocean_hflux_coupler',\n",
       " 'total_ocean_hflux_evap',\n",
       " 'total_ocean_hflux_prec',\n",
       " 'total_ocean_lprec',\n",
       " 'total_ocean_lw_heat',\n",
       " 'total_ocean_melt',\n",
       " 'total_ocean_pme_river',\n",
       " 'total_ocean_river',\n",
       " 'total_ocean_river_heat',\n",
       " 'total_ocean_runoff',\n",
       " 'total_ocean_runoff_heat',\n",
       " 'total_ocean_salt',\n",
       " 'total_ocean_sens_heat',\n",
       " 'total_ocean_sfc_salt_flux_coupler',\n",
       " 'total_ocean_swflx',\n",
       " 'total_ocean_swflx_vis',\n",
       " 'tx_trans',\n",
       " 'tx_trans_int_z',\n",
       " 'tx_trans_rho',\n",
       " 'tx_trans_submeso',\n",
       " 'ty_trans',\n",
       " 'ty_trans_int_z',\n",
       " 'ty_trans_nrho_submeso',\n",
       " 'ty_trans_rho',\n",
       " 'ty_trans_submeso',\n",
       " 'u',\n",
       " 'u_dot_grad_vert_pv',\n",
       " 'uarea',\n",
       " 'uatm_m',\n",
       " 'uhrho_et',\n",
       " 'uocn_m',\n",
       " 'usurf',\n",
       " 'uvel_m',\n",
       " 'v',\n",
       " 'vatm_m',\n",
       " 'vert_pv',\n",
       " 'vhrho_nt',\n",
       " 'vicen_m',\n",
       " 'vocn_m',\n",
       " 'vsurf',\n",
       " 'vvel_m',\n",
       " 'wfiform',\n",
       " 'wfimelt',\n",
       " 'wt']"
      ]
     },
     "execution_count": 14,
     "metadata": {},
     "output_type": "execute_result"
    }
   ],
   "source": [
    "cat_subset = catalog[experiment]\n",
    "sorted(set().union(*cat_subset.df['variable']))"
   ]
  },
  {
   "cell_type": "code",
   "execution_count": 5,
   "id": "ab5a694c-b2a2-4f1d-9366-9a9facbf3fe5",
   "metadata": {
    "tags": []
   },
   "outputs": [
    {
     "name": "stderr",
     "output_type": "stream",
     "text": [
      "/g/data/hh5/public/apps/miniconda3/envs/analysis3-23.07/lib/python3.10/site-packages/intake_esm/cat.py:270: FutureWarning: DataFrame.applymap has been deprecated. Use DataFrame.map instead.\n",
      "  .applymap(type)\n",
      "/g/data/hh5/public/apps/miniconda3/envs/analysis3-23.07/lib/python3.10/site-packages/intake_esm/cat.py:270: FutureWarning: DataFrame.applymap has been deprecated. Use DataFrame.map instead.\n",
      "  .applymap(type)\n",
      "/g/data/hh5/public/apps/miniconda3/envs/analysis3-23.07/lib/python3.10/site-packages/intake_esm/cat.py:270: FutureWarning: DataFrame.applymap has been deprecated. Use DataFrame.map instead.\n",
      "  .applymap(type)\n"
     ]
    },
    {
     "ename": "KeyError",
     "evalue": "0",
     "output_type": "error",
     "traceback": [
      "\u001b[0;31m---------------------------------------------------------------------------\u001b[0m",
      "\u001b[0;31mValueError\u001b[0m                                Traceback (most recent call last)",
      "File \u001b[0;32m/g/data/hh5/public/apps/miniconda3/envs/analysis3-23.07/lib/python3.10/site-packages/pandas/core/indexes/range.py:414\u001b[0m, in \u001b[0;36mRangeIndex.get_loc\u001b[0;34m(self, key)\u001b[0m\n\u001b[1;32m    413\u001b[0m \u001b[38;5;28;01mtry\u001b[39;00m:\n\u001b[0;32m--> 414\u001b[0m     \u001b[38;5;28;01mreturn\u001b[39;00m \u001b[38;5;28;43mself\u001b[39;49m\u001b[38;5;241;43m.\u001b[39;49m\u001b[43m_range\u001b[49m\u001b[38;5;241;43m.\u001b[39;49m\u001b[43mindex\u001b[49m\u001b[43m(\u001b[49m\u001b[43mnew_key\u001b[49m\u001b[43m)\u001b[49m\n\u001b[1;32m    415\u001b[0m \u001b[38;5;28;01mexcept\u001b[39;00m \u001b[38;5;167;01mValueError\u001b[39;00m \u001b[38;5;28;01mas\u001b[39;00m err:\n",
      "\u001b[0;31mValueError\u001b[0m: 0 is not in range",
      "\nThe above exception was the direct cause of the following exception:\n",
      "\u001b[0;31mKeyError\u001b[0m                                  Traceback (most recent call last)",
      "File \u001b[0;32m<timed exec>:3\u001b[0m\n",
      "File \u001b[0;32m/g/data/hh5/public/apps/miniconda3/envs/analysis3-23.07/lib/python3.10/site-packages/pandas/core/series.py:1040\u001b[0m, in \u001b[0;36mSeries.__getitem__\u001b[0;34m(self, key)\u001b[0m\n\u001b[1;32m   1037\u001b[0m     \u001b[38;5;28;01mreturn\u001b[39;00m \u001b[38;5;28mself\u001b[39m\u001b[38;5;241m.\u001b[39m_values[key]\n\u001b[1;32m   1039\u001b[0m \u001b[38;5;28;01melif\u001b[39;00m key_is_scalar:\n\u001b[0;32m-> 1040\u001b[0m     \u001b[38;5;28;01mreturn\u001b[39;00m \u001b[38;5;28;43mself\u001b[39;49m\u001b[38;5;241;43m.\u001b[39;49m\u001b[43m_get_value\u001b[49m\u001b[43m(\u001b[49m\u001b[43mkey\u001b[49m\u001b[43m)\u001b[49m\n\u001b[1;32m   1042\u001b[0m \u001b[38;5;66;03m# Convert generator to list before going through hashable part\u001b[39;00m\n\u001b[1;32m   1043\u001b[0m \u001b[38;5;66;03m# (We will iterate through the generator there to check for slices)\u001b[39;00m\n\u001b[1;32m   1044\u001b[0m \u001b[38;5;28;01mif\u001b[39;00m is_iterator(key):\n",
      "File \u001b[0;32m/g/data/hh5/public/apps/miniconda3/envs/analysis3-23.07/lib/python3.10/site-packages/pandas/core/series.py:1156\u001b[0m, in \u001b[0;36mSeries._get_value\u001b[0;34m(self, label, takeable)\u001b[0m\n\u001b[1;32m   1153\u001b[0m     \u001b[38;5;28;01mreturn\u001b[39;00m \u001b[38;5;28mself\u001b[39m\u001b[38;5;241m.\u001b[39m_values[label]\n\u001b[1;32m   1155\u001b[0m \u001b[38;5;66;03m# Similar to Index.get_value, but we do not fall back to positional\u001b[39;00m\n\u001b[0;32m-> 1156\u001b[0m loc \u001b[38;5;241m=\u001b[39m \u001b[38;5;28;43mself\u001b[39;49m\u001b[38;5;241;43m.\u001b[39;49m\u001b[43mindex\u001b[49m\u001b[38;5;241;43m.\u001b[39;49m\u001b[43mget_loc\u001b[49m\u001b[43m(\u001b[49m\u001b[43mlabel\u001b[49m\u001b[43m)\u001b[49m\n\u001b[1;32m   1158\u001b[0m \u001b[38;5;28;01mif\u001b[39;00m is_integer(loc):\n\u001b[1;32m   1159\u001b[0m     \u001b[38;5;28;01mreturn\u001b[39;00m \u001b[38;5;28mself\u001b[39m\u001b[38;5;241m.\u001b[39m_values[loc]\n",
      "File \u001b[0;32m/g/data/hh5/public/apps/miniconda3/envs/analysis3-23.07/lib/python3.10/site-packages/pandas/core/indexes/range.py:416\u001b[0m, in \u001b[0;36mRangeIndex.get_loc\u001b[0;34m(self, key)\u001b[0m\n\u001b[1;32m    414\u001b[0m         \u001b[38;5;28;01mreturn\u001b[39;00m \u001b[38;5;28mself\u001b[39m\u001b[38;5;241m.\u001b[39m_range\u001b[38;5;241m.\u001b[39mindex(new_key)\n\u001b[1;32m    415\u001b[0m     \u001b[38;5;28;01mexcept\u001b[39;00m \u001b[38;5;167;01mValueError\u001b[39;00m \u001b[38;5;28;01mas\u001b[39;00m err:\n\u001b[0;32m--> 416\u001b[0m         \u001b[38;5;28;01mraise\u001b[39;00m \u001b[38;5;167;01mKeyError\u001b[39;00m(key) \u001b[38;5;28;01mfrom\u001b[39;00m \u001b[38;5;21;01merr\u001b[39;00m\n\u001b[1;32m    417\u001b[0m \u001b[38;5;28;01mif\u001b[39;00m \u001b[38;5;28misinstance\u001b[39m(key, Hashable):\n\u001b[1;32m    418\u001b[0m     \u001b[38;5;28;01mraise\u001b[39;00m \u001b[38;5;167;01mKeyError\u001b[39;00m(key)\n",
      "\u001b[0;31mKeyError\u001b[0m: 0"
     ]
    }
   ],
   "source": [
    "%%time\n",
    "\n",
    "cat_subset = catalog[experiment]\n",
    "var_search = cat_subset.search(variable='yt_ocean')\n",
    "var_search = var_search.search(path=var_search.df['path'][0])\n",
    "darray = var_search.to_dask()\n",
    "darray = darray['yt_ocean']\n",
    "yt_ocean = darray\n",
    "yt_ocean = yt_ocean.sel(yt_ocean = lat_range)\n",
    "\n",
    "cat_subset = catalog[experiment]\n",
    "var_search = cat_subset.search(variable='xt_ocean')\n",
    "var_search = var_search.search(path=var_search.df['path'][0])\n",
    "darray = var_search.to_dask()\n",
    "darray = darray['xt_ocean']\n",
    "xt_ocean = darray\n",
    "\n",
    "cat_subset = catalog[experiment]\n",
    "var_search = cat_subset.search(variable='yu_ocean')\n",
    "var_search = var_search.search(path=var_search.df['path'][0])\n",
    "darray = var_search.to_dask()\n",
    "darray = darray['yu_ocean']\n",
    "yu_ocean = darray\n",
    "yu_ocean = yu_ocean.sel(yu_ocean = lat_range)\n",
    "\n",
    "cat_subset = catalog[experiment]\n",
    "var_search = cat_subset.search(variable='xu_ocean')\n",
    "var_search = var_search.search(path=var_search.df['path'][0])\n",
    "darray = var_search.to_dask()\n",
    "darray = darray['xu_ocean']\n",
    "xu_ocean = darray"
   ]
  },
  {
   "cell_type": "code",
   "execution_count": 6,
   "id": "577743fb-7cd1-4a43-b4f2-8dcef92aaaac",
   "metadata": {},
   "outputs": [
    {
     "ename": "NameError",
     "evalue": "name 'yt_ocean' is not defined",
     "output_type": "error",
     "traceback": [
      "\u001b[0;31m---------------------------------------------------------------------------\u001b[0m",
      "\u001b[0;31mNameError\u001b[0m                                 Traceback (most recent call last)",
      "Cell \u001b[0;32mIn[6], line 1\u001b[0m\n\u001b[0;32m----> 1\u001b[0m \u001b[38;5;28;01mif\u001b[39;00m \u001b[38;5;28mlen\u001b[39m(\u001b[43myt_ocean\u001b[49m) \u001b[38;5;241m!=\u001b[39m \u001b[38;5;28mlen\u001b[39m(yu_ocean):\n\u001b[1;32m      2\u001b[0m     \u001b[38;5;28mprint\u001b[39m(\u001b[38;5;124m'\u001b[39m\u001b[38;5;124mhelp! y different size\u001b[39m\u001b[38;5;124m'\u001b[39m)\n\u001b[1;32m      4\u001b[0m \u001b[38;5;28;01mif\u001b[39;00m yt_ocean\u001b[38;5;241m.\u001b[39mmin(\u001b[38;5;124m'\u001b[39m\u001b[38;5;124myt_ocean\u001b[39m\u001b[38;5;124m'\u001b[39m)\u001b[38;5;241m>\u001b[39m yu_ocean\u001b[38;5;241m.\u001b[39mmin(\u001b[38;5;124m'\u001b[39m\u001b[38;5;124myu_ocean\u001b[39m\u001b[38;5;124m'\u001b[39m):\n",
      "\u001b[0;31mNameError\u001b[0m: name 'yt_ocean' is not defined"
     ]
    }
   ],
   "source": [
    "if len(yt_ocean) != len(yu_ocean):\n",
    "    print('help! y different size')\n",
    "\n",
    "if yt_ocean.min('yt_ocean')> yu_ocean.min('yu_ocean'):\n",
    "    print('help! wrong order')\n",
    "\n",
    "if len(xt_ocean) != len(xu_ocean):\n",
    "    print('help! x different size')\n",
    "\n",
    "if xt_ocean.min('xt_ocean')> xu_ocean.min('xu_ocean'):\n",
    "    print('help! x wrong order')"
   ]
  },
  {
   "cell_type": "markdown",
   "id": "207b7d83-c992-4b5f-896c-44cc7ff291c2",
   "metadata": {},
   "source": [
    "#### Load quantity we want a contour of, e.g. SSH averaged over a year"
   ]
  },
  {
   "cell_type": "code",
   "execution_count": null,
   "id": "21118fd1-2274-444d-80c2-30bf6cc55ce1",
   "metadata": {},
   "outputs": [],
   "source": [
    "start_time = '2170-01-01'\n",
    "end_time = '2170-12-31'\n",
    "time_slice = slice(start_time, end_time)\n",
    "cat_subset = catalog[experiment]\n",
    "var_search = cat_subset.search(variable='sea_level')\n",
    "darray = var_search.to_dask()\n",
    "darray = darray['sea_level']\n",
    "darray = darray.sel(time=slice(start_time, end_time))\n",
    "ssh = darray\n",
    "\n",
    "# select one year and latitude range\n",
    "ssh = ssh.sel(yt_ocean = lat_range, time = time_slice)\n",
    "\n",
    "# weighted time-mean by month length\n",
    "days_in_month = ssh.time.dt.days_in_month\n",
    "days_in_year = 365\n",
    "ssh_mean = (ssh * days_in_month / days_in_year).sum('time')"
   ]
  },
  {
   "cell_type": "markdown",
   "id": "fd55d0ea-ab7e-412c-9b23-687c809036b6",
   "metadata": {},
   "source": [
    "#### Choose your desired contour value"
   ]
  },
  {
   "cell_type": "code",
   "execution_count": null,
   "id": "2cc4a6dc-393b-45e7-923a-f543f681344c",
   "metadata": {},
   "outputs": [],
   "source": [
    "contour_depth = -1.20"
   ]
  },
  {
   "cell_type": "markdown",
   "id": "e2d63199-9ae5-42d1-ba6c-aac55f9d88e4",
   "metadata": {},
   "source": [
    "Plot your data (always good idea `:)`)"
   ]
  },
  {
   "cell_type": "code",
   "execution_count": null,
   "id": "c000a8da-6309-4d9b-a6e6-f2f4518a2de9",
   "metadata": {},
   "outputs": [],
   "source": [
    "fig = plt.figure(figsize = (10, 4))\n",
    "\n",
    "ssh_mean.plot(extend='both', cbar_kwargs={'label': \"SSH [m]\"})\n",
    "ssh_mean.plot.contour(levels = [contour_depth], colors = 'k', linestyles = '-')\n",
    "plt.title('Sea surface height (m)');"
   ]
  },
  {
   "cell_type": "code",
   "execution_count": null,
   "id": "e2ca6843-4f28-4b5b-805f-99f858cf482e",
   "metadata": {},
   "outputs": [],
   "source": [
    "h = ssh_mean.load()\n",
    "\n",
    "# Fill in land with zeros:\n",
    "h = h.fillna(0)"
   ]
  },
  {
   "cell_type": "code",
   "execution_count": null,
   "id": "1a1ca948-228b-4e97-a3e7-874932ece34e",
   "metadata": {},
   "outputs": [],
   "source": [
    "# Contour is on t-grid (we assume ACCESS-OM2 B grid transports)\n",
    "grid_sel = 't'\n",
    "x_var = xt_ocean\n",
    "y_var = yt_ocean"
   ]
  },
  {
   "cell_type": "markdown",
   "id": "3a480d78-04dc-4558-b735-53c34ce6e792",
   "metadata": {
    "tags": []
   },
   "source": [
    "#### Select the contour \n",
    "If there are multiple contours satisfying this contour level, change the `count` in the `if` statement below until desired contour is highlighted red. Counting starts from the south west. For example, if we chose `count == 1` the Antarctic Peninsula would instead be selected, rather than the circumpolar contour."
   ]
  },
  {
   "cell_type": "code",
   "execution_count": null,
   "id": "76fbe005-ed16-43d3-b443-a16819602fac",
   "metadata": {},
   "outputs": [],
   "source": [
    "fig = plt.figure(figsize = (10, 4))\n",
    "count = 0\n",
    "x_contour = []\n",
    "y_contour = []\n",
    "\n",
    "# Create the contour:\n",
    "sc = plt.contour(h, levels=[contour_depth])\n",
    "for collection in sc.collections:\n",
    "    for path in collection.get_paths():\n",
    "        count += 1\n",
    "        if count ==  2:\n",
    "            # Write down the lat/lon indices\n",
    "            for ii in range(np.size(path.vertices[:,0])):\n",
    "                x_contour.append(int(np.round(path.vertices[ii][0])))\n",
    "                y_contour.append(int(np.round(path.vertices[ii][1])))\n",
    "\n",
    "plt.scatter(x_contour, y_contour, s=5, alpha=0.5, color='tomato');"
   ]
  },
  {
   "cell_type": "markdown",
   "id": "93a49bfe-6d4f-449d-8746-c2203f53ccca",
   "metadata": {},
   "source": [
    "#### Processing\n",
    "Now process these coordinates to make sure there are no double ups."
   ]
  },
  {
   "cell_type": "code",
   "execution_count": null,
   "id": "bdb41806-ce8d-447b-825c-9020ffe6b276",
   "metadata": {},
   "outputs": [],
   "source": [
    "# Difference between two neighbouring indices\n",
    "diff_x_contour = np.diff(x_contour)\n",
    "diff_y_contour = np.diff(y_contour)\n",
    "\n",
    "# Get a list with the indices of duplicates\n",
    "diff_ind = []\n",
    "for ii in range(len(diff_x_contour)):\n",
    "    if (diff_x_contour[ii]==0) and (diff_y_contour[ii]==0):\n",
    "        diff_ind.append(ii)"
   ]
  },
  {
   "cell_type": "code",
   "execution_count": null,
   "id": "5ecb5141-0e70-4dd7-b209-db2f260994bb",
   "metadata": {},
   "outputs": [],
   "source": [
    "# Now remove the indices (start from the end so the indices don't shift)\n",
    "for ii in range(len(diff_ind)):\n",
    "    index = diff_ind[::-1][ii]\n",
    "    del x_contour[index]\n",
    "    del y_contour[index]"
   ]
  },
  {
   "cell_type": "code",
   "execution_count": null,
   "id": "a95b0816-b795-4242-968f-58cfb86e85c6",
   "metadata": {},
   "outputs": [],
   "source": [
    "h_contour = np.zeros(len(x_contour))\n",
    "\n",
    "for ii in range(len(h_contour)):\n",
    "    h_contour[ii] = h[y_contour[ii], x_contour[ii]]"
   ]
  },
  {
   "cell_type": "markdown",
   "id": "5649659b-7642-4c6e-a3bf-f1987b5de567",
   "metadata": {},
   "source": [
    "Due to the discrete grid, the values on our contour are not exactly the same. We check this makes sense -- if this plot is blank, then something has gone wrong."
   ]
  },
  {
   "cell_type": "code",
   "execution_count": null,
   "id": "910fea81-3d88-4c41-84d1-1ef8bcefeb52",
   "metadata": {},
   "outputs": [],
   "source": [
    "fig = plt.figure(figsize=(10, 5))\n",
    "\n",
    "plt.plot(h_contour, 'o', markersize=1)\n",
    "plt.axhline(contour_depth, color='k', linewidth=0.5);"
   ]
  },
  {
   "cell_type": "markdown",
   "id": "3804fd5e-d48d-4f42-a06d-732207405f1a",
   "metadata": {},
   "source": [
    "#### Get lat and lon along the contour"
   ]
  },
  {
   "cell_type": "code",
   "execution_count": null,
   "id": "c78519e6-0b37-4b9a-bf38-518da3e66f25",
   "metadata": {},
   "outputs": [],
   "source": [
    "lat_along_contour = np.zeros((len(x_contour)))\n",
    "lon_along_contour = np.zeros((len(x_contour)))\n",
    "\n",
    "for ii in range(len(h_contour)):\n",
    "    lon_along_contour[ii] = x_var[x_contour[ii]]\n",
    "    lat_along_contour[ii] = y_var[y_contour[ii]]"
   ]
  },
  {
   "cell_type": "markdown",
   "id": "ee26c68e-1ad5-4f65-8e34-49235d18aa52",
   "metadata": {},
   "source": [
    "#### Repeat the leftmost point at the end of the array. \n",
    "\n",
    "(Required for masking contour above and below)"
   ]
  },
  {
   "cell_type": "code",
   "execution_count": null,
   "id": "fd86bf32-0a0d-485a-8abb-49e05db24bed",
   "metadata": {},
   "outputs": [],
   "source": [
    "lat_along_contour = np.append(lat_along_contour, lat_along_contour[0])\n",
    "lon_along_contour = np.append(lon_along_contour, lon_along_contour[0])"
   ]
  },
  {
   "cell_type": "code",
   "execution_count": null,
   "id": "a345555f-6878-433a-8a9e-78e8785ecd16",
   "metadata": {},
   "outputs": [],
   "source": [
    "# Number of grid points on the contour\n",
    "num_points = len(lat_along_contour)"
   ]
  },
  {
   "cell_type": "markdown",
   "id": "7d1b090a-3a2f-41ae-8d40-4baef6daceab",
   "metadata": {},
   "source": [
    "#### Now we number the points along the contour"
   ]
  },
  {
   "cell_type": "code",
   "execution_count": null,
   "id": "dce023e5-a888-4bd4-87a1-9725cc306628",
   "metadata": {},
   "outputs": [],
   "source": [
    "contour_mask_numbered = np.zeros_like(lon_along_contour)\n",
    "\n",
    "for ii in range(num_points-1):\n",
    "    lat1 = lat_along_contour[ii]\n",
    "    lat2 = lat_along_contour[ii+1]\n",
    "    lon1 = lon_along_contour[ii]\n",
    "    lon2 = lon_along_contour[ii+1]\n",
    "    contour_mask_numbered[ii] = ii"
   ]
  },
  {
   "cell_type": "code",
   "execution_count": null,
   "id": "a6a007ad-69ed-4897-b6ab-7e3d0ad258d1",
   "metadata": {},
   "outputs": [],
   "source": [
    "contour_mask = h*0\n",
    "\n",
    "for ii in range(num_points-1):\n",
    "    contour_mask[y_contour[ii], x_contour[ii]] = contour_mask_numbered[ii]+1"
   ]
  },
  {
   "cell_type": "code",
   "execution_count": null,
   "id": "b84dab94-95a5-4846-8002-c101c79199e4",
   "metadata": {},
   "outputs": [],
   "source": [
    "plt.figure(1, figsize=(16, 8))\n",
    "contour_mask.plot(extend='both');"
   ]
  },
  {
   "cell_type": "markdown",
   "id": "bb5e92d4-df73-418d-a6fc-5f48c71c33d8",
   "metadata": {},
   "source": [
    "#### Create mask\n",
    "Now we create a mask below contour so that the direction of the contour can be determined"
   ]
  },
  {
   "cell_type": "markdown",
   "id": "cb067e62-6dfe-4a40-8961-cf95e405ddfe",
   "metadata": {},
   "source": [
    "**Remark on computational inefficiency**\n",
    "\n",
    "Note that creating masks with nested `for` loops is very inefficient. We should probably use boolean masks (just compare the entire array with `mask_value`), and [`DataArray.shift()`](https://docs.xarray.dev/en/stable/generated/xarray.DataArray.shift.html) or [`DataArray.roll()`](https://docs.xarray.dev/en/stable/generated/xarray.DataArray.roll.html) from each of the directions to generate the masks without using loops.\n",
    "\n",
    "See discussion in: https://github.com/COSIMA/cosima-recipes/issues/179"
   ]
  },
  {
   "cell_type": "code",
   "execution_count": null,
   "id": "e77f5ab9-6322-46b9-99ac-f76c20218e1d",
   "metadata": {},
   "outputs": [],
   "source": [
    "mask_value = -1000\n",
    "contour_mask_numbered = contour_mask\n",
    "\n",
    "# fill in points to south of contour:\n",
    "contour_masked_above = np.copy(contour_mask_numbered)\n",
    "contour_masked_above[-1, 0] = mask_value\n",
    "\n",
    "# from top left:\n",
    "for ii in range(len(contour_mask.xt_ocean)-1):\n",
    "    for jj in range(len(contour_mask.yt_ocean))[::-1][:-1]:\n",
    "        if contour_masked_above[jj, ii] == mask_value:\n",
    "            if contour_masked_above[jj-1, ii] == 0:\n",
    "                contour_masked_above[jj-1, ii] = mask_value\n",
    "            if contour_masked_above[jj, ii+1] == 0:\n",
    "                contour_masked_above[jj, ii+1] = mask_value\n",
    "\n",
    "#from top right:\n",
    "for ii in range(len(contour_mask.xt_ocean))[::-1][:-1]:\n",
    "    for jj in range(len(contour_mask.yt_ocean))[::-1][:-1]:\n",
    "        if contour_masked_above[jj, ii] == mask_value:\n",
    "            if contour_masked_above[jj-1, ii] == 0:\n",
    "                contour_masked_above[jj-1, ii] = mask_value\n",
    "            if contour_masked_above[jj, ii-1] == 0:\n",
    "                contour_masked_above[jj, ii-1] = mask_value\n",
    "\n",
    "# from bottom right:\n",
    "for ii in range(len(contour_mask.xt_ocean))[::-1][:-1]:\n",
    "    for jj in range(len(contour_mask.yt_ocean)-1):\n",
    "        if contour_masked_above[jj, ii] == mask_value:\n",
    "            if contour_masked_above[jj+1, ii] == 0:\n",
    "                contour_masked_above[jj+1, ii] = mask_value\n",
    "            if contour_masked_above[jj, ii-1] == 0:\n",
    "                contour_masked_above[jj, ii-1] = mask_value\n",
    "\n",
    "#from bottom left:\n",
    "for ii in range(len(contour_mask.xt_ocean)-1):\n",
    "    for jj in range(len(contour_mask.yt_ocean)-1):\n",
    "        if contour_masked_above[jj, ii] == mask_value:\n",
    "            if contour_masked_above[jj+1, ii] == 0:\n",
    "                contour_masked_above[jj+1, ii] = mask_value\n",
    "            if contour_masked_above[jj, ii+1] == 0:\n",
    "                contour_masked_above[jj, ii+1] = mask_value"
   ]
  },
  {
   "cell_type": "code",
   "execution_count": null,
   "id": "fd9d5bcb-7cb4-4fa5-b054-5941c848edb1",
   "metadata": {},
   "outputs": [],
   "source": [
    "plt.figure(1, figsize=(16, 8))\n",
    "\n",
    "plt.pcolormesh(contour_mask.xt_ocean, contour_mask.yt_ocean, contour_masked_above)\n",
    "plt.colorbar();"
   ]
  },
  {
   "cell_type": "markdown",
   "id": "e6dd6197-21ab-4635-851c-17cb20759200",
   "metadata": {},
   "source": [
    "South of the contour, values have been filled in to be -100, and it is thus a different colour in the plot.\n",
    "\n",
    "#### Direction of cross-contour transport\n",
    "Now we can use the mask south of the contour to determine whether the transport across the contour should be north, east, south or west (the grid is made of discrete square(ish) shaped cells). This is done by looping through the contour points and determining in which directions there are zeros (above contour) and -100 (below contour). This means the orientation of the contour can be determined. This is saved as `mask_x_transport`, which has -1 and +1 in a 2D (x and y) array where the contour has eastward transport, and `mask_y_transport` which as -1 and +1 for coordinates with northward transport. All other positions in the array are 0. This means that multiplying the northward transport `ty_trans` by the `mask_y_transport` gives all the northward transport across the contour, and zeros everywhere else (e.g. where contour goes upwards and cross-contour transport is thus eastward)."
   ]
  },
  {
   "cell_type": "code",
   "execution_count": null,
   "id": "44a8c118-640e-44c2-89c2-55f4e5bf1b7a",
   "metadata": {},
   "outputs": [],
   "source": [
    "mask_x_transport = np.zeros_like(contour_mask_numbered)\n",
    "mask_y_transport = np.zeros_like(contour_mask_numbered)\n",
    "\n",
    "mask_y_transport_numbered = np.zeros_like(contour_mask_numbered)\n",
    "mask_x_transport_numbered = np.zeros_like(contour_mask_numbered)\n",
    "\n",
    "# make halos:\n",
    "shape = contour_masked_above.shape\n",
    "contour_masked_above_halo = np.zeros((shape[0], shape[1]+2))\n",
    "contour_masked_above_halo[:, 0] = contour_masked_above[:, -1]\n",
    "contour_masked_above_halo[:, 1:-1] = contour_masked_above\n",
    "contour_masked_above_halo[:, -1] = contour_masked_above[:, 0]\n",
    "\n",
    "new_number_count = 1\n",
    "for mask_loc in range(1, int(np.max(contour_mask_numbered))+1):\n",
    "    #if mask_loc%100 == 0:\n",
    "    #    print('mask for x/y transport at point '+str(mask_loc))\n",
    "    index_i = np.where(contour_mask_numbered==mask_loc)[1]\n",
    "    index_j = np.where(contour_mask_numbered==mask_loc)[0]\n",
    "    # if point above is towards Antarctica and point below is away from Antarctica:\n",
    "    # take transport grid point to north of t grid:\n",
    "    if (contour_masked_above[index_j+1, index_i]==0) and (contour_masked_above[index_j-1, index_i]!=0):\n",
    "        mask_y_transport[index_j, index_i] = -1\n",
    "        # important to do \n",
    "        mask_y_transport_numbered[index_j, index_i] = new_number_count\n",
    "        new_number_count += 1\n",
    "    # if point below is towards Antarctica and point above is away from Antarctica:\n",
    "    # take transport grid point to south of t grid:\n",
    "    elif (contour_masked_above[index_j-1, index_i]==0) and (contour_masked_above[index_j+1, index_i]!=0):\n",
    "        mask_y_transport[index_j-1, index_i] = 1\n",
    "        mask_y_transport_numbered[index_j-1, index_i] = new_number_count\n",
    "        new_number_count += 1\n",
    "    # if point below and point above are BOTH towards Antarctica:\n",
    "    # take transport grid point to south of t grid:\n",
    "    elif (contour_masked_above[index_j-1, index_i]==0) and (contour_masked_above[index_j+1, index_i]==0):\n",
    "        mask_y_transport[index_j-1, index_i] = 1\n",
    "        mask_y_transport[index_j, index_i] = -1        \n",
    "        mask_y_transport_numbered[index_j-1, index_i] = new_number_count\n",
    "        new_number_count += 1\n",
    "    # if point to right is towards Antarctica and point to left is away from Antarctica:\n",
    "    # zonal indices increased by 1 due to halos\n",
    "    # take transport grid point on right of t grid:\n",
    "    if (contour_masked_above_halo[index_j, index_i+2]==0) and (contour_masked_above_halo[index_j, index_i]!=0):\n",
    "        mask_x_transport[index_j, index_i] = -1\n",
    "        mask_x_transport_numbered[index_j, index_i] = new_number_count\n",
    "        new_number_count += 1\n",
    "    # if point to left is towards Antarctica and point to right is away from Antarctica:\n",
    "    # take transport grid point on left of t grid:\n",
    "    elif (contour_masked_above_halo[index_j, index_i]==0) and (contour_masked_above_halo[index_j, index_i+2]!=0):\n",
    "        mask_x_transport[index_j, index_i-1] = 1\n",
    "        mask_x_transport_numbered[index_j, index_i-1] = new_number_count\n",
    "        new_number_count += 1\n",
    "    # if point to left and right BOTH toward Antarctica\n",
    "    elif (contour_masked_above_halo[index_j, index_i]==0) and (contour_masked_above_halo[index_j, index_i+2]==0):\n",
    "        mask_x_transport[index_j, index_i-1] = 1\n",
    "        mask_x_transport[index_j, index_i] = -1        \n",
    "        mask_x_transport_numbered[index_j, index_i-1] = new_number_count\n",
    "        new_number_count += 1"
   ]
  },
  {
   "cell_type": "code",
   "execution_count": null,
   "id": "bd99120e-ff5a-423e-a9af-cf8bbf8082f6",
   "metadata": {},
   "outputs": [],
   "source": [
    "plt.figure(1, figsize=(16, 8))\n",
    "\n",
    "plt.pcolormesh(contour_mask.xt_ocean, contour_mask.yt_ocean, mask_x_transport)\n",
    "plt.colorbar();"
   ]
  },
  {
   "cell_type": "markdown",
   "id": "553a6c80-bc24-4301-a1a7-d85351d3a745",
   "metadata": {},
   "source": [
    "As can be seen, in `mask_x_transport` there is yellow (+1) where eastward transport crosses the contour, and (-1) where westward transport crosses the contour (in the net northward direction). There are zeros everywhere else.\n",
    "\n",
    "### We now have the coordinates of the contours, and whether the x or y transport is needed to calculate cross-contour transport. \n",
    "\n",
    "We now proceed to calculate transports across the contour"
   ]
  },
  {
   "cell_type": "code",
   "execution_count": null,
   "id": "e60e7a18-e049-496e-9077-c7758372ab56",
   "metadata": {},
   "outputs": [],
   "source": [
    "# Convert contour masks to data arrays, so we can multiply them later.\n",
    "# We need to ensure the lat lon coordinates correspond to the actual data location:\n",
    "#       The y masks are used for ty_trans, so like vhrho this should have dimensions (yu_ocean, xt_ocean).\n",
    "#       The x masks are used for tx_trans, so like uhrho this should have dimensions (yt_ocean, xu_ocean).\n",
    "#       However the actual name will always be simply y_ocean/x_ocean irrespective of the variable\n",
    "#       to make concatenation of transports in both direction and sorting possible.\n",
    "\n",
    "mask_x_transport = xr.DataArray(mask_x_transport, coords = [yt_ocean, xu_ocean], dims = ['y_ocean','x_ocean'])\n",
    "mask_y_transport = xr.DataArray(mask_y_transport, coords = [yu_ocean, xt_ocean], dims = ['y_ocean','x_ocean'])\n",
    "mask_x_transport_numbered = xr.DataArray(mask_x_transport_numbered, coords = [yt_ocean, xu_ocean], dims = ['y_ocean','x_ocean'])\n",
    "mask_y_transport_numbered = xr.DataArray(mask_y_transport_numbered, coords = [yu_ocean, xt_ocean], dims = ['y_ocean','x_ocean'])"
   ]
  },
  {
   "cell_type": "markdown",
   "id": "f8993961-df9c-489c-91ad-2f5681ecc191",
   "metadata": {},
   "source": [
    "And plot just to confirm that we didn't mess up anything."
   ]
  },
  {
   "cell_type": "code",
   "execution_count": null,
   "id": "439dc694-1436-4843-85c4-25f6853b02e9",
   "metadata": {},
   "outputs": [],
   "source": [
    "plt.figure(1, figsize=(16, 8))\n",
    "\n",
    "mask_x_transport.plot(cmap=\"viridis\");"
   ]
  },
  {
   "cell_type": "markdown",
   "id": "c1ab1a6e-266d-4f80-ab20-5f581d3b7f41",
   "metadata": {},
   "source": [
    "#### Stack contour data into 1D"
   ]
  },
  {
   "cell_type": "code",
   "execution_count": null,
   "id": "a8538013-8bd3-4cc8-804a-528ae89d6c37",
   "metadata": {},
   "outputs": [],
   "source": [
    "# Create the contour order data-array. Note that in this procedure the x-grid counts have x-grid\n",
    "#   dimensions and the y-grid counts have y-grid dimensions, but these are implicit, the dimension \n",
    "#   *names* are kept general across the counts, the generic y_ocean, x_ocean, so that concatening works\n",
    "#   but we dont double up with numerous counts for one lat/lon point.\n",
    "\n",
    "# stack contour data into 1d:\n",
    "mask_x_numbered_1d = mask_x_transport_numbered.stack(contour_index = ['y_ocean', 'x_ocean'])\n",
    "mask_x_numbered_1d = mask_x_numbered_1d.where(mask_x_numbered_1d > 0, drop = True)\n",
    "\n",
    "mask_y_numbered_1d = mask_y_transport_numbered.stack(contour_index = ['y_ocean', 'x_ocean'])\n",
    "mask_y_numbered_1d = mask_y_numbered_1d.where(mask_y_numbered_1d > 0, drop = True)\n",
    "\n",
    "contour_ordering = xr.concat((mask_x_numbered_1d, mask_y_numbered_1d), dim = 'contour_index')\n",
    "contour_ordering = contour_ordering.sortby(contour_ordering)\n",
    "contour_index_array = np.arange(1, len(contour_ordering)+1)"
   ]
  },
  {
   "cell_type": "markdown",
   "id": "d36cca6d-84cd-4dfe-850c-487636b41323",
   "metadata": {},
   "source": [
    "#### Load transports `tx_trans` and `ty_trans`"
   ]
  },
  {
   "cell_type": "code",
   "execution_count": null,
   "id": "c8043e3a-d4b2-4ee7-969d-db569336e4be",
   "metadata": {},
   "outputs": [],
   "source": [
    "cat_subset = catalog[experiment]\n",
    "var_search = cat_subset.search(variable='ty_trans')\n",
    "darray = var_search.to_dask()\n",
    "darray = darray['ty_trans']\n",
    "darray = darray.sel(time=slice(start_time, end_time))\n",
    "ty_trans = darray\n",
    "ty_trans = ty_trans.sel(yu_ocean = lat_range, time = time_slice)\n",
    "\n",
    "cat_subset = catalog[experiment]\n",
    "var_search = cat_subset.search(variable='tx_trans')\n",
    "darray = var_search.to_dask()\n",
    "darray = darray['tx_trans']\n",
    "darray = darray.sel(time=slice(start_time, end_time))\n",
    "tx_trans = darray\n",
    "tx_trans = tx_trans.sel(yt_ocean = lat_range, time = time_slice)\n",
    "\n",
    "ty_trans = ty_trans.rename({'yu_ocean': 'y_ocean', 'xt_ocean': 'x_ocean'})\n",
    "tx_trans = tx_trans.rename({'yt_ocean': 'y_ocean', 'xu_ocean': 'x_ocean'})"
   ]
  },
  {
   "cell_type": "markdown",
   "id": "208e23fc-ec56-4ae7-806d-d2f945cc392d",
   "metadata": {},
   "source": [
    "#### Take time average"
   ]
  },
  {
   "cell_type": "code",
   "execution_count": null,
   "id": "c9d42b7d-967a-4d47-bac2-e664032f6ecb",
   "metadata": {},
   "outputs": [],
   "source": [
    "%%time\n",
    "# weighed time mean by month length\n",
    "days_in_month = ssh.time.dt.days_in_month\n",
    "days_in_year = 365\n",
    "\n",
    "tx_trans = (tx_trans * days_in_month / days_in_year).sum('time')\n",
    "tx_trans = tx_trans.load()\n",
    "\n",
    "ty_trans = (ty_trans * days_in_month / days_in_year).sum('time')\n",
    "ty_trans = ty_trans.load()"
   ]
  },
  {
   "cell_type": "markdown",
   "id": "37fc7c2c-ddf3-4862-a76b-b081cc2d5ea0",
   "metadata": {},
   "source": [
    "#### Convert from mass transport to volume transport"
   ]
  },
  {
   "cell_type": "code",
   "execution_count": null,
   "id": "7f0b74fb-b530-4dbb-94ba-5b40f5b2803e",
   "metadata": {},
   "outputs": [],
   "source": [
    "ρ0 = 1035 # kg/m^3\n",
    "\n",
    "ty_trans = ty_trans * mask_y_transport / ρ0 # convert to Sv\n",
    "tx_trans = tx_trans * mask_x_transport / ρ0 # convert to Sv"
   ]
  },
  {
   "cell_type": "markdown",
   "id": "47009061-ee3d-4de3-b169-973581c2d278",
   "metadata": {},
   "source": [
    "#### Extract transport values along contour"
   ]
  },
  {
   "cell_type": "code",
   "execution_count": null,
   "id": "e7cb043a-e3c2-4fb1-9dd6-82e2f92ba645",
   "metadata": {},
   "outputs": [],
   "source": [
    "%%time\n",
    "## We could also loop in time if we didn't want the time average. Initialise a data array and fill in data by looping in time.\n",
    "\n",
    "# stack transports into 1d and drop any points not on contour:\n",
    "x_transport_1d = tx_trans.stack(contour_index = ['y_ocean', 'x_ocean'])\n",
    "x_transport_1d = x_transport_1d.where(mask_x_numbered_1d>0, drop = True)\n",
    "y_transport_1d = ty_trans.stack(contour_index = ['y_ocean', 'x_ocean'])\n",
    "y_transport_1d = y_transport_1d.where(mask_y_numbered_1d>0, drop = True)\n",
    "\n",
    "# combine all points on contour:\n",
    "vol_trans_across_contour = xr.concat((x_transport_1d, y_transport_1d), dim = 'contour_index')\n",
    "vol_trans_across_contour = vol_trans_across_contour.sortby(contour_ordering)\n",
    "vol_trans_across_contour.coords['contour_index'] = contour_index_array\n",
    "vol_trans_across_contour = vol_trans_across_contour.load()"
   ]
  },
  {
   "cell_type": "code",
   "execution_count": null,
   "id": "6b0aba54-80b5-4812-9c70-e2963137db41",
   "metadata": {},
   "outputs": [],
   "source": [
    "fig, ax = plt.subplots(figsize = (10, 4))\n",
    "\n",
    "vol_trans_across_contour.sum('st_ocean').cumsum('contour_index').plot()\n",
    "ax.set_ylabel('Cumulative transport across contour');"
   ]
  },
  {
   "cell_type": "markdown",
   "id": "31dbe819-cfec-476a-96b9-7543226c9f55",
   "metadata": {},
   "source": [
    "#### Finally, we can extract the coordinates of the contour index, and the distance, for a more meaningful $x$ axis."
   ]
  },
  {
   "cell_type": "code",
   "execution_count": null,
   "id": "f726f72d-baeb-4230-9e6e-988245694331",
   "metadata": {},
   "outputs": [],
   "source": [
    "contour_ordering = xr.concat((mask_x_numbered_1d,mask_y_numbered_1d), dim = 'contour_index')\n",
    "contour_ordering = contour_ordering.sortby(contour_ordering)\n",
    "\n",
    "# get lat and lon along contour, useful for plotting later:\n",
    "lat_along_contour = contour_ordering.y_ocean\n",
    "lon_along_contour = contour_ordering.x_ocean\n",
    "\n",
    "contour_index_array = np.arange(1, len(contour_ordering)+1)\n",
    "\n",
    "# don't need the multi-index anymore, replace with contour count and save\n",
    "lat_along_contour.coords['contour_index'] = contour_index_array\n",
    "lon_along_contour.coords['contour_index'] = contour_index_array"
   ]
  },
  {
   "cell_type": "markdown",
   "id": "36138ca9-c0ed-415e-a595-bec99e2e248c",
   "metadata": {},
   "source": [
    "#### Code to extract distance in between contour coordinates, using length of diagonal if there is a bend.\n",
    "Loop through the contour, determining if diagonal is required or not, and save the distance along each segment. Then, cumulatively sum the distances along each segment to get the distance from the first point.\n",
    "\n",
    "If there is a bend in the contour, then half the diagonal distance is added to each side to avoid artifically inflating the along-contour distance metric, according to this diagram:\n",
    "\n",
    "<img src=\"images/contour_schematic.png\" alt=\"drawing\" width=\"800\"/>"
   ]
  },
  {
   "cell_type": "code",
   "execution_count": null,
   "id": "05958ea6-d747-4dff-868e-529930e7a0cb",
   "metadata": {},
   "outputs": [],
   "source": [
    "%%time\n",
    "cat_subset = catalog[experiment]\n",
    "var_search = cat_subset.search(variable='dxu')\n",
    "var_search = var_search.search(path=var_search.df['path'][0])\n",
    "darray = var_search.to_dask()\n",
    "darray = darray['dxu']\n",
    "dxu = darray\n",
    "dxu = dxu.sel(yu_ocean = lat_range)\n",
    "\n",
    "cat_subset = catalog[experiment]\n",
    "var_search = cat_subset.search(variable='dyt')\n",
    "var_search = var_search.search(path=var_search.df['path'][0])\n",
    "darray = var_search.to_dask()\n",
    "darray = darray['dyt']\n",
    "dyt = darray\n",
    "dyt = dyt.sel(yt_ocean = lat_range)\n",
    "\n",
    "num_points = len(lat_along_contour)"
   ]
  },
  {
   "cell_type": "code",
   "execution_count": null,
   "id": "616aad75-af80-44bf-8bf3-c591035cd469",
   "metadata": {},
   "outputs": [],
   "source": [
    "%%time\n",
    "# if there is a bend in the contour, add the distance using the half-length of the diagonal\n",
    "# instead of the sum of 2 edges, to be more representative.\n",
    "distance_along_contour = np.zeros((num_points))\n",
    "\n",
    "x_indices = np.sort(mask_x_transport_numbered.values[mask_x_transport_numbered.values>0])\n",
    "y_indices = np.sort(mask_y_transport_numbered.values[mask_y_transport_numbered.values>0])\n",
    "\n",
    "skip = False\n",
    "# note dxu and dyt do not vary in x, so we can just take the first value (as long as there is no land there,\n",
    "# which for this latitude range there is not. If using a different latitude range, choose an x value that is\n",
    "# not a nan/land for the entire latitude range\n",
    "dxu = dxu.isel(xu_ocean = 0)\n",
    "dyt = dyt.isel(xt_ocean = 0)\n",
    "\n",
    "for count in range(1, num_points):\n",
    "    if skip == True:\n",
    "        skip = False\n",
    "        continue\n",
    "    if count in y_indices:\n",
    "        if count + 1 in y_indices:\n",
    "            # note dxu and dyt do not vary in x:\n",
    "            jj = np.where(mask_y_transport_numbered==count)[0]\n",
    "            distance_along_contour[count-1] = (dxu[jj])[0]\n",
    "        else:\n",
    "            jj0 = np.where(mask_y_transport_numbered==count)[0]\n",
    "            jj1 = np.where(mask_x_transport_numbered==count+1)[0]\n",
    "            half_diagonal_distance = 0.5 * np.sqrt((dxu[jj0])[0]**2 + (dyt[jj1])[0]**2)\n",
    "            distance_along_contour[count-1] = half_diagonal_distance\n",
    "            distance_along_contour[count] = half_diagonal_distance\n",
    "            # skip to next count:\n",
    "            skip = True\n",
    "\n",
    "    # count in x_indices:\n",
    "    else:\n",
    "        if count + 1 in x_indices:\n",
    "            jj = np.where(mask_x_transport_numbered==count)[0]\n",
    "            distance_along_contour[count-1] = (dyt[jj])[0]\n",
    "        else:\n",
    "            jj0 = np.where(mask_x_transport_numbered==count)[0]\n",
    "            jj1 = np.where(mask_y_transport_numbered==count+1)[0]\n",
    "            half_diagonal_distance = 0.5 * np.sqrt((dyt[jj0])[0]**2 + (dxu[jj1])[0]**2)\n",
    "            distance_along_contour[count-1] = half_diagonal_distance\n",
    "            distance_along_contour[count] = half_diagonal_distance\n",
    "            # skip to next count:\n",
    "            skip = True\n",
    "\n",
    "# fix last value:\n",
    "if distance_along_contour[-1] == 0:\n",
    "    count = count + 1\n",
    "    if count in y_indices:\n",
    "        jj = np.where(mask_y_transport_numbered==count)[0]\n",
    "        distance_along_contour[-1] = (dxu[jj])[0]\n",
    "    else:\n",
    "        jj = np.where(mask_x_transport_numbered==count)[0]\n",
    "        distance_along_contour[-1] = (dyt[jj])[0]\n",
    "\n",
    "# units are 10^3 km:\n",
    "distance_along_contour = np.cumsum(distance_along_contour) / 1e3 / 1e3"
   ]
  },
  {
   "cell_type": "markdown",
   "id": "ccb11faa-8ed7-4677-9827-9bc0d869f733",
   "metadata": {
    "tags": []
   },
   "source": [
    "#### Select the indices for axis labels of specific longitudes, so we can plot transport vs distance but have longitude labels instead of length"
   ]
  },
  {
   "cell_type": "code",
   "execution_count": null,
   "id": "c31b7d6b-b0ce-427a-b4ef-7097326a9d0b",
   "metadata": {},
   "outputs": [],
   "source": [
    "distance_indices = np.zeros(8)\n",
    "\n",
    "for i in np.arange(100, len(lon_along_contour.values)):\n",
    "    if (distance_indices[1]==0):\n",
    "        if (lon_along_contour.values[i]>-240):\n",
    "            distance_indices[1] = lon_along_contour.contour_index.values[i]\n",
    "    if (distance_indices[2]==0):\n",
    "        if (lon_along_contour.values[i]>-180):\n",
    "            distance_indices[2] = lon_along_contour.contour_index.values[i]\n",
    "    if (distance_indices[3]==0):\n",
    "        if (lon_along_contour.values[i]>-120):\n",
    "            distance_indices[3] = lon_along_contour.contour_index.values[i]\n",
    "    if (distance_indices[4]==0):\n",
    "        if lon_along_contour.values[i]>-60:\n",
    "            distance_indices[4] = lon_along_contour.contour_index.values[i]\n",
    "    if (distance_indices[5]==0):\n",
    "        if (lon_along_contour.values[i]>0):\n",
    "            distance_indices[5] = lon_along_contour.contour_index.values[i]\n",
    "    if (distance_indices[6]==0):\n",
    "        if (lon_along_contour.values[i]>60):\n",
    "            distance_indices[6] = lon_along_contour.contour_index.values[i]\n",
    "\n",
    "distance_indices[7] = len(lon_along_contour.contour_index.values)-1"
   ]
  },
  {
   "cell_type": "markdown",
   "id": "e819790e-c2f5-4bc7-970f-a3eb4338871d",
   "metadata": {},
   "source": [
    "#### Plot cumulative transport against distance along the contour."
   ]
  },
  {
   "cell_type": "code",
   "execution_count": null,
   "id": "5c992571-c6fd-48d9-92e2-481c813c3424",
   "metadata": {},
   "outputs": [],
   "source": [
    "depth_to_integrate = 500 # m"
   ]
  },
  {
   "cell_type": "code",
   "execution_count": null,
   "id": "58dec990-919e-4ec7-8ff4-cc18e763a527",
   "metadata": {},
   "outputs": [],
   "source": [
    "fig, axes = plt.subplots(nrows = 2, figsize = (10, 8))\n",
    "\n",
    "axes[0].plot(distance_along_contour, (1e-6 * vol_trans_across_contour.sel(st_ocean = slice(0, depth_to_integrate)).sum('st_ocean').cumsum('contour_index')))\n",
    "\n",
    "axes[0].set_ylabel('Cumulative transport (Sv)')\n",
    "axes[0].set_xlabel('Distance from 80$^\\circ$E (10$^3$ km)')\n",
    "axes[0].set_xlim(0, distance_along_contour[-1])\n",
    "axes[0].set_title(f'Cumulative transport across SSH={contour_depth} m in top {depth_to_integrate} m depth')\n",
    "\n",
    "axes[1].plot(distance_along_contour, (1e-6 * vol_trans_across_contour.sel(st_ocean = slice(0, depth_to_integrate)).sum('st_ocean').cumsum('contour_index')))\n",
    "\n",
    "axes[1].set_xticks(distance_along_contour[distance_indices.astype(int)[:-1]])\n",
    "axes[1].set_xticklabels(('80$^\\circ$E', '120$^\\circ$E', '180$^\\circ$W', '120$^\\circ$W', '60$^\\circ$W', '0$^\\circ$', '60$^\\circ$E'))\n",
    "axes[1].set_xlim(0, distance_along_contour[-1])\n",
    "\n",
    "axes[1].set_xlabel('Longitude coordinates along contour')\n",
    "axes[1].set_ylabel('Cumulative transport (Sv)');"
   ]
  },
  {
   "cell_type": "markdown",
   "id": "e266f75a-8f16-4a20-aaf5-24ff8464b1c3",
   "metadata": {},
   "source": [
    "We can see that there is a net northward transport across the Antarctic Circumpolar Current in the top 500m - this is the Ekman wind-driven transport. We could then choose to extract the density (or salt and temperature) along this same path, do this by interpolating density to the north and eastern edge of t-cells. Then we could bin the transports in each depth level into the corresponding density, to determine the transport across the contour in density space. An example of this calculation can be found in https://github.com/claireyung/Topographic_Hotspots_Upwelling-Paper_Code/blob/main/Analysis_Code/Save_and_bin_along_contours.ipynb. "
   ]
  }
 ],
 "metadata": {
  "kernelspec": {
   "display_name": "Python [conda env:analysis3-23.07] *",
   "language": "python",
   "name": "conda-env-analysis3-23.07-py"
  },
  "language_info": {
   "codemirror_mode": {
    "name": "ipython",
    "version": 3
   },
   "file_extension": ".py",
   "mimetype": "text/x-python",
   "name": "python",
   "nbconvert_exporter": "python",
   "pygments_lexer": "ipython3",
   "version": "3.10.13"
  }
 },
 "nbformat": 4,
 "nbformat_minor": 5
}
