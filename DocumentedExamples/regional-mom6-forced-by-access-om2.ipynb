{
 "cells": [
  {
   "cell_type": "markdown",
   "metadata": {},
   "source": [
    "# Regional Tasmanian domain forced by JRA55-do reanalysis and ACCESS-OM2-01 model output\n",
    "\n",
    "## What does this notebook do?\n",
    "This notebook uses `regional-mom6` package to set up a regional ocean configuration with MOM6.\n",
    "\n",
    "At first we suggest you ensure that the default Tasmania configuration runs OK. Afterwards, you can modify the notebook to the region of your interest.\n",
    "\n",
    "Input Type | Source | Location on NCI\n",
    "---|---|---\n",
    "Surface | [JRA55-do surface forcing](https://climate.mri-jma.go.jp/pub/ocean/JRA55-do/) | `/g/data/ik11`\n",
    "Ocean | [ACCESS-OM2-01](https://github.com/COSIMA/access-om2) |  `/g/data/ik11`  \n",
    "Bathymetry | [GEBCO](https://www.gebco.net/data_and_products/gridded_bathymetry_data/) | `/g/data/ik11`\n",
    "\n",
    "Additionally, you'll need access to `/g/data/x77/` if you want to use the same executable using the latest FMS build (a good idea for troubleshooting)."
   ]
  },
  {
   "cell_type": "markdown",
   "metadata": {},
   "source": [
    "To use your own version of the `regional_mom6` package, clone the entire [github repository](https://github.com/COSIMA/regional-mom6)\n",
    "on your machine and set the `regional-mom6` path using the `os` library, as shown below:"
   ]
  },
  {
   "cell_type": "code",
   "execution_count": 1,
   "metadata": {
    "tags": []
   },
   "outputs": [],
   "source": [
    "import os\n",
    "import xarray as xr\n",
    "from pathlib import Path\n",
    "from dask.distributed import Client"
   ]
  },
  {
   "cell_type": "code",
   "execution_count": 2,
   "metadata": {
    "tags": []
   },
   "outputs": [
    {
     "name": "stdout",
     "output_type": "stream",
     "text": [
      "using regional-mom6 vunknown\n"
     ]
    }
   ],
   "source": [
    "os.chdir(\"/home/581/lxy581/tidal_param/regional-mom6\")\n",
    "import regional_mom6 as rmom6\n",
    "print(\"using regional-mom6 version\" + rmom6.__version__)"
   ]
  },
  {
   "cell_type": "markdown",
   "metadata": {},
   "source": [
    "Start a dask client."
   ]
  },
  {
   "cell_type": "code",
   "execution_count": 3,
   "metadata": {
    "tags": []
   },
   "outputs": [],
   "source": [
    "client = Client()\n",
    "client"
   ]
  },
  {
   "cell_type": "markdown",
   "metadata": {
    "jp-MarkdownHeadingCollapsed": true
   },
   "source": [
    "## What does the `regional-mom6` package do?\n",
    "\n",
    "Setting up a regional model in MOM6 can be a pain. The goal of this package is that users should spend their debugging time fixing a model that's running and doing weird things, rather than puzzling over a model that won't even start.\n",
    "\n",
    "This notebook will guide you to configure a running MOM6 regional model. There will still be a lot of fiddling to do with the `MOM_input` file to make sure that the parameters are set up right for your domain, and you might want to manually edit some of the input files. *But*, `regional-mom6` package should help you bypass most of the woes of regridding, encoding and understanding the arcane arts of the MOM6 boundary segment files.\n",
    "\n",
    "Wanna find out more about `regional-mom6` package? Go to the [package's documentation](https://regional-mom6.readthedocs.io/en/latest/)."
   ]
  },
  {
   "cell_type": "markdown",
   "metadata": {},
   "source": [
    "## What does this notebook do?\n",
    "\n",
    "This notebook demonstrates how to set up a regional domain using the package. By the end you should have a running MOM6 experiment on the domain of your choice. To make a stable test case:\n",
    "\n",
    "* Avoid any regions with ice\n",
    "* Avoid regions near the North pole\n",
    "* Although the default configuration is meant to be repeat-year forced (RYF), the calendar and encoding will need fixing to run longer than a year\n",
    "\n",
    "\n",
    "Input Type | Source\n",
    "---|---\n",
    "Surface | JRA55-do\n",
    "Ocean | ACCESS-OM2-01\n",
    "Bathymetry | Gebco"
   ]
  },
  {
   "cell_type": "markdown",
   "metadata": {},
   "source": [
    "## Step 0: Your personal environment variables"
   ]
  },
  {
   "cell_type": "code",
   "execution_count": 4,
   "metadata": {
    "tags": []
   },
   "outputs": [],
   "source": [
    "scratch = \"/scratch/nm03/lxy581\"\n",
    "gdata = \"/g/data/nm03/lxy581\"\n",
    "home = \"/home/581/lxy581\""
   ]
  },
  {
   "cell_type": "markdown",
   "metadata": {},
   "source": [
    "## Step 1: Choose our domain, define workspace paths\n",
    "\n",
    "To make sure that things are working I'd recommend starting with the default example defined below. If this runs ok, then change to a domain of your choice and hopefully it runs ok too! If not, check the [README](https://github.com/COSIMA/regional-mom6/blob/main/README.md) and [documentation](https://regional-mom6.readthedocs.io/) for troubleshooting tips.\n",
    "\n",
    "You can log in and use [this GUI](https://data.marine.copernicus.eu/product/GLOBAL_MULTIYEAR_PHY_001_030/download) to find the lat/lon of your domain and copy paste below."
   ]
  },
  {
   "cell_type": "code",
   "execution_count": 5,
   "metadata": {
    "tags": []
   },
   "outputs": [],
   "source": [
    "expt_name = \"tassie-access-om2-forced\"\n",
    "\n",
    "latitude_extent = [-48, -38.95]\n",
    "longitude_extent = [143, 150]\n",
    "\n",
    "date_range = [\"2003-01-01 00:00:00\", \"2003-01-05 00:00:00\"]\n",
    "\n",
    "## Place where all the input files go\n",
    "input_dir = f\"{scratch}/regional_mom6_configs/{expt_name}/\"\n",
    "\n",
    "## Directory where we'll be running the experiment from\n",
    "run_dir = f\"{home}/mom6_rundirs/{expt_name}/\"\n",
    "\n",
    "## Directory where compiles FRE tools are located (needed for construction of mask tables)\n",
    "toolpath_dir = \"/home/157/ahg157/repos/mom5/src/tools/\"\n",
    "\n",
    "## Directory where ocean model cut-outs go before processing\n",
    "tmp_dir = f\"{gdata}/{expt_name}\"\n",
    "\n",
    "## if directories don't exist, create them\n",
    "for path in (run_dir, tmp_dir, input_dir):\n",
    "    os.makedirs(str(path), exist_ok=True)"
   ]
  },
  {
   "cell_type": "markdown",
   "metadata": {},
   "source": [
    "## Step 2: Prepare ocean forcing data\n",
    "\n",
    "We need to cut out our ocean forcing. The pipeline expects an initial condition and one time-dependent segment per non-land boundary. Naming convention is `\"east_unprocessed\"` and `\"ic_unprocessed\"` for initial condition. The following provides an example for cutting out the necessary forcing files from an ocean model. It's hardcoded to pull data from a Repeat-Year Forced ACCESS-OM2-01 database, but you should be able to recycle parts of the code to cut out data from a dataset of your choice"
   ]
  },
  {
   "cell_type": "markdown",
   "metadata": {},
   "source": [
    "**NOTE: this is hardcoded for the year of 1990, which corresponds to output files `1077`-`1082`. If you want to modify, you'll need to choose the right path to the year of your choice, or use the [COSIMA cookbook](https://cosima-cookbook.readthedocs.io/) to locate your data files.**"
   ]
  },
  {
   "cell_type": "code",
   "execution_count": 6,
   "metadata": {
    "tags": []
   },
   "outputs": [
    {
     "name": "stdout",
     "output_type": "stream",
     "text": [
      "Open dataset...\n",
      "Initial condition...\n",
      "East west bc...\n",
      "North south bc...\n"
     ]
    }
   ],
   "source": [
    "## Cut out 3 months of forcing from 2003\n",
    "print('Open dataset...')\n",
    "\n",
    "buffer = 0.2\n",
    "\n",
    "om2_input = xr.open_mfdataset(\n",
    "    f\"/g/data/ik11/outputs/access-om2-01/01deg_jra55v13_ryf9091/output1077/ocean/ocean_daily*.nc\",\n",
    "    parallel=True, compat='override', chunks='auto')[[\"u\", \"v\", \"salt\", \"temp\", \"eta_t\"]].sel(\n",
    "        yu_ocean = slice(latitude_extent[0] - buffer, latitude_extent[1] + buffer),\n",
    "        yt_ocean = slice(latitude_extent[0] - buffer, latitude_extent[1] + buffer)).isel(time = slice(0, 5))\n",
    "\n",
    "print('Initial condition...')\n",
    "## Cut out initial condition and save\n",
    "ic = om2_input.isel(time = 0)\n",
    "\n",
    "## `longitude_slicer` handles seams in longitude and different grid and ensures that the output matches our 'longitude_extent'\n",
    "ic = rmom6.longitude_slicer(ic, [longitude_extent[0], longitude_extent[1]], [\"xu_ocean\", \"xt_ocean\"])\n",
    "ic.to_netcdf(tmp_dir + \"/ic_unprocessed.nc\")\n",
    "\n",
    "print('East west bc...')\n",
    "rmom6.longitude_slicer(om2_input, [longitude_extent[1]-buffer, longitude_extent[1]+buffer], [\"xu_ocean\", \"xt_ocean\"]).to_netcdf(tmp_dir + \"/east_unprocessed.nc\")\n",
    "rmom6.longitude_slicer(om2_input, [longitude_extent[0]-buffer, longitude_extent[0]+buffer], [\"xu_ocean\", \"xt_ocean\"]).to_netcdf(tmp_dir + \"/west_unprocessed.nc\")\n",
    "\n",
    "print('North south bc...')\n",
    "## Cut out North and South segments\n",
    "northsouth = rmom6.longitude_slicer(om2_input, [longitude_extent[0]-buffer, longitude_extent[1]+buffer], [\"xu_ocean\", \"xt_ocean\"])\n",
    "northsouth.sel(\n",
    "    yu_ocean = slice(latitude_extent[1] - buffer, latitude_extent[1] + buffer),\n",
    "    yt_ocean = slice(latitude_extent[1] - buffer, latitude_extent[1] + buffer)\n",
    ").to_netcdf(tmp_dir + \"/north_unprocessed.nc\")\n",
    "northsouth.sel(\n",
    "    yu_ocean = slice(latitude_extent[0] - buffer, latitude_extent[0] + buffer),\n",
    "    yt_ocean = slice(latitude_extent[0] - buffer, latitude_extent[0] + buffer)\n",
    ").to_netcdf(tmp_dir + \"/south_unprocessed.nc\")"
   ]
  },
  {
   "cell_type": "markdown",
   "metadata": {},
   "source": [
    "## Step 3: Make experiment object\n",
    "The `regional_mom6.experiment` contains the regional domain basics, and also generates the horizontal and vertical grids, `hgrid` and `vgrid` respectively, and sets up the directory structures. "
   ]
  },
  {
   "cell_type": "code",
   "execution_count": 7,
   "metadata": {
    "tags": []
   },
   "outputs": [],
   "source": [
    "expt = rmom6.experiment(\n",
    "    longitude_extent = longitude_extent,\n",
    "    latitude_extent = latitude_extent,\n",
    "    date_range = date_range,\n",
    "    resolution = 0.05,\n",
    "    number_vertical_layers = 75,\n",
    "    layer_thickness_ratio = 10,\n",
    "    depth = 4500,\n",
    "    mom_run_dir = run_dir,\n",
    "    mom_input_dir = input_dir,\n",
    "    toolpath_dir = toolpath_dir\n",
    ")"
   ]
  },
  {
   "cell_type": "markdown",
   "metadata": {},
   "source": [
    "We can now access the horizontal and vertical grid of the regional configuration via `expt.hgrid` and `expt.vgrid` respectively.\n",
    "\n",
    "Plotting the vertical grid with `marker = '.'` lets you see the spacing. You can use `numpy.diff` to compute the vertical spacings, e.g.,\n",
    "```python\n",
    "import numpy as np\n",
    "np.diff(expt.vgrid.zl).plot(marker = '.')\n",
    "```\n",
    "shows you the vertical spacing profile.\n",
    "\n",
    "### Modular workflow!\n",
    "\n",
    "After constructing your `expt` object, if you don't like the default `hgrid` and `vgrid` you can simply modify and then save them back into the `expt` object. However, you'll then also need to save them to disk again. For example:\n",
    "\n",
    "```python\n",
    "new_hgrid = xr.open_dataset(input_dir + \"/hgrid.nc\")\n",
    "```\n",
    "Modify `new_hgrid`, ensuring that _all metadata_ is retained to keep MOM6 happy. Then, save your changes\n",
    "\n",
    "```python\n",
    "expt.hgrid = new_hgrid\n",
    "\n",
    "expt.hgrid.to_netcdf(input_dir + \"/hgrid.nc\")\n",
    "```"
   ]
  },
  {
   "cell_type": "markdown",
   "metadata": {},
   "source": [
    "## Step 4: Set up bathymetry\n",
    "\n",
    "Similarly to ocean forcing, we point the experiment's `setup_bathymetry` method at the location of the file of choice and also provide the variable names. We don't need to preprocess the bathymetry since it is simply a two-dimensional field and is easier to deal with. Afterwards you can inspect `expt.bathymetry` to have a look at the regional domain.\n",
    "\n",
    "After running this cell, your input directory will contain other bathymetry-related things like the ocean mosaic and mask table too. The mask table defaults to a 10x10 layout and can be modified later."
   ]
  },
  {
   "cell_type": "code",
   "execution_count": 8,
   "metadata": {
    "tags": []
   },
   "outputs": [
    {
     "name": "stdout",
     "output_type": "stream",
     "text": [
      "Begin regridding bathymetry...\n",
      "\n",
      "If this process hangs it means that the chosen domain might be too big to handle this way. After ensuring access to appropriate computational resources, try calling ESMF directly from a terminal in the input directory via\n",
      "\n",
      "mpirun ESMF_Regrid -s bathymetry_original.nc -d bathymetry_unfinished.nc -m bilinear --src_var elevation --dst_var elevation --netcdf4 --src_regional --dst_regional\n",
      "\n",
      "For details see https://xesmf.readthedocs.io/en/latest/large_problems_on_HPC.html\n",
      "\n",
      "Afterwards, we run 'tidy_bathymetry' method to skip the expensive interpolation step, and finishing metadata, encoding and cleanup.\n",
      "Regridding in parallel: True\n",
      "Regridding finished. Now calling `tidy_bathymetry` method for some finishing touches...\n",
      "Reading in regridded bathymetry to fix up metadata...done.\n"
     ]
    }
   ],
   "source": [
    "expt.setup_bathymetry(\n",
    "    bathymetry_path='/g/data/ik11/inputs/GEBCO_2022/GEBCO_2022.nc',\n",
    "    longitude_coordinate_name='lon',\n",
    "    latitude_coordinate_name='lat',\n",
    "    vertical_coordinate_name='elevation',\n",
    "    minimum_layers=1\n",
    "    )"
   ]
  },
  {
   "cell_type": "markdown",
   "metadata": {},
   "source": [
    "### Check out your domain:"
   ]
  },
  {
   "cell_type": "code",
   "execution_count": 9,
   "metadata": {
    "tags": []
   },
   "outputs": [
    {
     "data": {
      "text/plain": [
       "<matplotlib.collections.QuadMesh at 0x154c02783820>"
      ]
     },
     "execution_count": 9,
     "metadata": {},
     "output_type": "execute_result"
    },
    {
     "data": {
      "image/png": "[encoded data removed]",
      "text/plain": [
       "<Figure size 640x480 with 2 Axes>"
      ]
     },
     "metadata": {},
     "output_type": "display_data"
    }
   ],
   "source": [
    "expt.bathymetry.depth.plot()"
   ]
  },
  {
   "cell_type": "markdown",
   "metadata": {},
   "source": [
    "##  Step 5: Handle the ocean forcing - where the magic happens\n",
    "\n",
    "This cuts out and interpolates the initDefine a mapping from MOM5's B grid variables and dimensions to MOM6's C grid onesial condition as well as all boundaries (unless you don't pass it boundaries).\n",
    "\n",
    "The dictionary maps the MOM6 variable names to what they're called in your ocean input file. Notice how the horizontal dimensions are `xt_ocean`, `yt_ocean`, `xu_ocean`, `yu_ocean` in ACCESS-OM2-01 versus `xh`, `yh`, `xq`, and `yq` in MOM6. This is because ACCESS-OM2-01 is on a `B` grid, so we need to differentiate between `q` and `t` points. \n",
    "\n",
    "If one of your segments is land, you can delete its string from the 'boundaries' list. You'll need to update `MOM_input` to reflect this though so it knows how many segments to look for, and their orientations. "
   ]
  },
  {
   "cell_type": "markdown",
   "metadata": {},
   "source": [
    "Define a mapping from the MOM5 B grid variables and dimensions to the MOM6 C grid ones"
   ]
  },
  {
   "cell_type": "code",
   "execution_count": 10,
   "metadata": {
    "tags": []
   },
   "outputs": [],
   "source": [
    "ocean_varnames = {\"time\": \"time\",\n",
    "                  \"yh\": \"yt_ocean\",\n",
    "                  \"xh\": \"xt_ocean\",\n",
    "                  \"xq\": \"xu_ocean\",\n",
    "                  \"yq\": \"yu_ocean\",\n",
    "                  \"zl\": \"st_ocean\",\n",
    "                  \"eta\": \"eta_t\",\n",
    "                  \"u\": \"u\",\n",
    "                  \"v\": \"v\",\n",
    "                  \"tracers\": {\"salt\": \"salt\", \"temp\": \"temp\"}\n",
    "                  }"
   ]
  },
  {
   "cell_type": "markdown",
   "metadata": {
    "tags": []
   },
   "source": [
    "Set up the initial condition"
   ]
  },
  {
   "cell_type": "markdown",
   "metadata": {},
   "source": [
    "No `xu_ocean` and `xt_ocean` in **west_unprocessed.nc** and **east_unprocessed.nc**\n",
    "\n",
    "`xu_ocean = UNLIMITED ; // (0 currently)`"
   ]
  },
  {
   "cell_type": "code",
   "execution_count": 11,
   "metadata": {
    "tags": []
   },
   "outputs": [
    {
     "name": "stdout",
     "output_type": "stream",
     "text": [
      "INITIAL CONDITIONS\n",
      "Regridding Velocities... Done.\n",
      "Regridding Tracers... Done.\n",
      "Regridding Free surface... Done.\n",
      "Saving outputs... Done.\n",
      "Finished setting up initial condition.\n",
      "[########################################] | 100% Completed | 102.30 ms\n",
      "Done.\n",
      "[########################################] | 100% Completed | 101.99 ms\n",
      "Done.\n",
      "[########################################] | 100% Completed | 101.97 ms\n",
      "Done.\n",
      "[########################################] | 100% Completed | 101.81 ms\n",
      "Done.\n"
     ]
    }
   ],
   "source": [
    "expt.initial_condition(\n",
    "    tmp_dir / \"ic_unprocessed.nc\", # directory where the unprocessed initial condition is stored, as defined earlier\n",
    "    ocean_varnames,\n",
    "    arakawa_grid=\"B\"\n",
    "    )\n",
    "\n",
    "# Set up the four boundary conditions.\n",
    "expt.rectangular_boundaries(\n",
    "    tmp_dir,\n",
    "    ocean_varnames,\n",
    "    boundaries = [\"south\", \"north\", \"west\", \"east\"],\n",
    "    arakawa_grid = \"B\"\n",
    "    )"
   ]
  },
  {
   "cell_type": "markdown",
   "metadata": {},
   "source": [
    "## Step 6: Run the FRE tools\n",
    "\n",
    "This is just a wrapper for the FRE tools needed to make the mosaics and masks for the experiment. The only thing you need to tell it is the processor layout. In this case we're saying that we want a 10 by 10 grid of 100 processors. "
   ]
  },
  {
   "cell_type": "code",
   "execution_count": 12,
   "metadata": {
    "tags": []
   },
   "outputs": [
    {
     "name": "stdout",
     "output_type": "stream",
     "text": [
      "Running GFDL's FRE Tools. The following information is all printed by the FRE tools themselves\n",
      "NOTE from make_solo_mosaic: there are 0 contacts (align-contact)\n",
      "congradulation: You have successfully run make_solo_mosaic\n",
      "OUTPUT FROM MAKE SOLO MOSAIC:\n",
      "\n",
      "CompletedProcess(args='/home/157/ahg157/repos/mom5/src/tools/make_solo_mosaic/make_solo_mosaic --num_tiles 1 --dir . --mosaic_name ocean_mosaic --tile_file hgrid.nc', returncode=0)\n",
      "cp ./hgrid.nc hgrid.nc \n",
      "\n",
      "NOTE from make_coupler_mosaic: the ocean land/sea mask will be determined by field depth from file bathymetry.nc\n",
      "mosaic_file is grid_spec.nc\n",
      "\n",
      "***** Congratulation! You have successfully run make_quick_mosaic\n",
      "OUTPUT FROM QUICK MOSAIC:\n",
      "\n",
      "CompletedProcess(args='/home/157/ahg157/repos/mom5/src/tools/make_quick_mosaic/make_quick_mosaic --input_mosaic ocean_mosaic.nc --mosaic_name grid_spec --ocean_topog bathymetry.nc', returncode=0)\n",
      "\n",
      " ===>NOTE from check_mask: when layout is specified, min_pe and max_pe is set to layout(1)*layout(2)=100\n",
      "\n",
      " ===>NOTE from check_mask: Below is the list of command line arguments.\n",
      "\n",
      "grid_file = ocean_mosaic.nc\n",
      "topog_file = bathymetry.nc\n",
      "min_pe = 100\n",
      "max_pe = 100\n",
      "layout = 10, 10\n",
      "halo = 4\n",
      "sea_level = 0\n",
      "show_valid_only is not set\n",
      "nobc = 0\n",
      "\n",
      " ===>NOTE from check_mask: End of command line arguments.\n",
      "\n",
      " ===>NOTE from check_mask: the grid file is version 2 (mosaic grid) grid which contains field gridfiles\n",
      "\n",
      "==>NOTE from get_boundary_type: x_boundary_type is solid_walls\n",
      "\n",
      "==>NOTE from get_boundary_type: y_boundary_type is solid_walls\n",
      "\n",
      "==>NOTE from check_mask: Checking for possible masking:\n",
      "==>NOTE from check_mask: Assume 4 halo rows\n",
      "==>NOTE from check_mask: Total domain size is 140, 249\n",
      "\n",
      "_______________________________________________________________________\n",
      "\n",
      "NOTE from check_mask: The following is for using model source code with version older than siena_201207,\n",
      "Possible setting to mask out all-land points region, for use in coupler_nmlTotal number of domains = 100\n",
      "Number of tasks (excluded all-land region) to be used is 98\n",
      "Number of regions to be masked out = 2\n",
      "The layout is 10, 10\n",
      "Masked and used tasks, 1: used, 0: masked\n",
      "1111111111\n",
      "1111111111\n",
      "1111111111\n",
      "1111001111\n",
      "1111111111\n",
      "1111111111\n",
      "1111111111\n",
      "1111111111\n",
      "1111111111\n",
      "1111111111\n",
      " domain decomposition\n",
      "  14  14  14  14  14  14  14  14  14  14\n",
      "  25  25  25  25  25  25  25  25  25  24\n",
      " used=98, masked=2, layout=10,10\n",
      " To chose this mask layout please put the following lines in ocean_model_nml and/or ice_model_nml\n",
      " nmask = 2\n",
      "layout = 10, 10\n",
      "mask_list = 5,7,6,7\n",
      "\n",
      "\n",
      "_______________________________________________________________________\n",
      "\n",
      "NOTE from check_mask: The following is for using model source code with version siena_201207 or newer,\n",
      "                      specify ocean_model_nml/ice_model_nml/atmos_model_nml/land_model/nml \n",
      "                      variable mask_table with the mask_table created here.\n",
      "                      Also specify the layout variable in each namelist using corresponding layout\n",
      "\n",
      "***** Congratulation! You have successfully run check_mask\n",
      "OUTPUT FROM CHECK MASK:\n",
      "\n",
      " CompletedProcess(args='/home/157/ahg157/repos/mom5/src/tools/check_mask/check_mask --grid_file ocean_mosaic.nc --ocean_topog bathymetry.nc --layout 10,10 --halo 4', returncode=0)\n"
     ]
    },
    {
     "name": "stderr",
     "output_type": "stream",
     "text": [
      "cp: './ocean_mosaic.nc' and 'ocean_mosaic.nc' are the same file\n",
      "cp: './hgrid.nc' and 'hgrid.nc' are the same file\n"
     ]
    }
   ],
   "source": [
    "expt.FRE_tools(layout = (10, 10)) ## Here the tuple defines the processor layout"
   ]
  },
  {
   "cell_type": "markdown",
   "metadata": {},
   "source": [
    "## Step 7: Modify the default input directory to make a (hopefully) runnable configuration out of the box\n",
    "\n",
    "This step copies the default directory, and modifies the `MOM_layout` files to match your experiment by inserting the right number of x,y points and cpu layout. If you use Payu to run MOM6, set the `using_payu` flag to `True` and an example `config.yaml` file will be copied to your run directory. This still needs to be modified manually to work with your projects, executable etc.\n",
    "\n"
   ]
  },
  {
   "cell_type": "code",
   "execution_count": 13,
   "metadata": {
    "tags": []
   },
   "outputs": [
    {
     "name": "stdout",
     "output_type": "stream",
     "text": [
      "Number of CPUs required:  98\n"
     ]
    }
   ],
   "source": [
    "expt.setup_run_directory(surface_forcing = \"jra\", using_payu = True)"
   ]
  },
  {
   "cell_type": "markdown",
   "metadata": {},
   "source": [
    "## Step 8: Run your model!\n",
    "\n",
    "To do this, navigate to your run directory in terminal. If you're working on NCI, you can run your model via:\n",
    "\n",
    "```\n",
    "module load conda/analysis3\n",
    "payu setup -f\n",
    "payu run -f\n",
    "```\n",
    "\n",
    "By default `input.nml` is set to only run for 5 days as a test. If this is successful, you can modify this file to then run for longer."
   ]
  },
  {
   "cell_type": "markdown",
   "metadata": {},
   "source": [
    "## Step 9 and beyond: Fiddling, troubleshooting and fine tuning\n",
    "\n",
    "Hopefully your model is running. If not, the first thing you should do is reduce the timestep. You can do this by adding `#override DT=XXXX` to your `MOM_override` file. \n",
    "\n",
    "If there's strange behaviour on your boundaries, you could play around with the `nudging timescale` (an example is already included in the `MOM_override` file). Sometimes, if your boundary has a lot going on (like all of the eddies spinning off the western boundary currents or off the Antarctic Circumpolar current), it can be hard to avoid these edge effects. This is because the chaotic, submesoscale structures developed within the regional domain won't match those at the boundary.\n",
    "\n",
    "Another thing that can go wrong is little bays creating non-advective cells at your boundaries. Keep an eye out for tiny bays where one side is taken up by a boundary segment. You can either fill them in manually, or move your boundary slightly to avoid them"
   ]
  }
 ],
 "metadata": {
  "kernelspec": {
   "display_name": "Python [conda env:analysis3-unstable]",
   "language": "python",
   "name": "conda-env-analysis3-unstable-py"
  },
  "language_info": {
   "codemirror_mode": {
    "name": "ipython",
    "version": 3
   },
   "file_extension": ".py",
   "mimetype": "text/x-python",
   "name": "python",
   "nbconvert_exporter": "python",
   "pygments_lexer": "ipython3",
   "version": "3.10.14"
  }
 },
 "nbformat": 4,
 "nbformat_minor": 4
}
