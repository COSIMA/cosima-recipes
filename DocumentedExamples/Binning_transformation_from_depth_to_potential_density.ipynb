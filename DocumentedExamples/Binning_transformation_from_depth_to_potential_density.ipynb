{
 "cells": [
  {
   "cell_type": "markdown",
   "id": "034f532a",
   "metadata": {},
   "source": [
    "# Example of a coordinate transformation from z levels to density levels\n",
    "\n",
    "## Rebinning `ty_trans` to `ty_trans_rho` density levels\n",
    "\n",
    "This transformation is commonly used for the purpose of decomposing the residual meridional overturning streamfunction into mean and eddy components. The mean is taken to be the time-mean Eulerian transport (time-mean in z coordinates), whilst the residual transport is the time-mean in density coordinates (density surface move in time). The eddy transport is the difference between the residual overturning streamfunction, and the Eulerian transport **transformed from depth to density coordinates** via the time-mean density.\n",
    "\n",
    "Binning is the discrete version of this transformation from depth to density coordinates. We define target density bins, and for each bin we add the quantity to be binned from all cells with a density that satisfies that bin. In its simplest form, binning is creating a histogram.\n",
    "\n",
    "We use three different binning methods:\n",
    "1. `xhistogram`, which performs binning in exactly the way MOM5 does and is thus most appropriate for calculating eddy quantities (define edge of bins)\n",
    "2. `xgcm` conservative binning (define edge of bins, but vertically interpolates so looks smoother than `xhistogram`)\n",
    "3. Using density coordinate binning method of Lee et al. (2007) (define isopycnals to bin onto i.e. centre)\n",
    "\n",
    "Compute times were calculated using the XLarge Jupyter Lab on NCI's ARE, using conda environment analysis3-22.07"
   ]
  },
  {
   "cell_type": "code",
   "execution_count": 1,
   "id": "7a700f6b",
   "metadata": {},
   "outputs": [],
   "source": [
    "%matplotlib inline\n",
    "\n",
    "import cosima_cookbook as cc\n",
    "from cosima_cookbook import distributed as ccd\n",
    "import matplotlib.pyplot as plt\n",
    "import numpy as np\n",
    "import netCDF4 as nc\n",
    "import xarray as xr\n",
    "import glob\n",
    "import cmocean.cm as cmocean\n",
    "import xgcm\n",
    "import logging\n",
    "logging.captureWarnings(True)\n",
    "logging.getLogger('py.warnings').setLevel(logging.ERROR)\n",
    "from xhistogram.xarray import histogram\n",
    "\n",
    "from dask.distributed import Client"
   ]
  },
  {
   "cell_type": "code",
   "execution_count": 2,
   "id": "e049d1c1",
   "metadata": {},
   "outputs": [
    {
     "data": {
      "text/html": [
       "<div>\n",
       "    <div style=\"width: 24px; height: 24px; background-color: #e1e1e1; border: 3px solid #9D9D9D; border-radius: 5px; position: absolute;\"> </div>\n",
       "    <div style=\"margin-left: 48px;\">\n",
       "        <h3 style=\"margin-bottom: 0px;\">Client</h3>\n",
       "        <p style=\"color: #9D9D9D; margin-bottom: 0px;\">Client-af1cdf38-6c84-11ed-b0b6-000007d1fe80</p>\n",
       "        <table style=\"width: 100%; text-align: left;\">\n",
       "\n",
       "        <tr>\n",
       "        \n",
       "            <td style=\"text-align: left;\"><strong>Connection method:</strong> Cluster object</td>\n",
       "            <td style=\"text-align: left;\"><strong>Cluster type:</strong> distributed.LocalCluster</td>\n",
       "        \n",
       "        </tr>\n",
       "\n",
       "        \n",
       "            <tr>\n",
       "                <td style=\"text-align: left;\">\n",
       "                    <strong>Dashboard: </strong> <a href=\"/proxy/45049/status\" target=\"_blank\">/proxy/45049/status</a>\n",
       "                </td>\n",
       "                <td style=\"text-align: left;\"></td>\n",
       "            </tr>\n",
       "        \n",
       "\n",
       "        </table>\n",
       "\n",
       "        \n",
       "\n",
       "        \n",
       "            <details>\n",
       "            <summary style=\"margin-bottom: 20px;\"><h3 style=\"display: inline;\">Cluster Info</h3></summary>\n",
       "            <div class=\"jp-RenderedHTMLCommon jp-RenderedHTML jp-mod-trusted jp-OutputArea-output\">\n",
       "    <div style=\"width: 24px; height: 24px; background-color: #e1e1e1; border: 3px solid #9D9D9D; border-radius: 5px; position: absolute;\">\n",
       "    </div>\n",
       "    <div style=\"margin-left: 48px;\">\n",
       "        <h3 style=\"margin-bottom: 0px; margin-top: 0px;\">LocalCluster</h3>\n",
       "        <p style=\"color: #9D9D9D; margin-bottom: 0px;\">a0202007</p>\n",
       "        <table style=\"width: 100%; text-align: left;\">\n",
       "            <tr>\n",
       "                <td style=\"text-align: left;\">\n",
       "                    <strong>Dashboard:</strong> <a href=\"/proxy/45049/status\" target=\"_blank\">/proxy/45049/status</a>\n",
       "                </td>\n",
       "                <td style=\"text-align: left;\">\n",
       "                    <strong>Workers:</strong> 6\n",
       "                </td>\n",
       "            </tr>\n",
       "            <tr>\n",
       "                <td style=\"text-align: left;\">\n",
       "                    <strong>Total threads:</strong> 24\n",
       "                </td>\n",
       "                <td style=\"text-align: left;\">\n",
       "                    <strong>Total memory:</strong> 96.00 GiB\n",
       "                </td>\n",
       "            </tr>\n",
       "            \n",
       "            <tr>\n",
       "    <td style=\"text-align: left;\"><strong>Status:</strong> running</td>\n",
       "    <td style=\"text-align: left;\"><strong>Using processes:</strong> True</td>\n",
       "</tr>\n",
       "\n",
       "            \n",
       "        </table>\n",
       "\n",
       "        <details>\n",
       "            <summary style=\"margin-bottom: 20px;\">\n",
       "                <h3 style=\"display: inline;\">Scheduler Info</h3>\n",
       "            </summary>\n",
       "\n",
       "            <div style=\"\">\n",
       "    <div>\n",
       "        <div style=\"width: 24px; height: 24px; background-color: #FFF7E5; border: 3px solid #FF6132; border-radius: 5px; position: absolute;\"> </div>\n",
       "        <div style=\"margin-left: 48px;\">\n",
       "            <h3 style=\"margin-bottom: 0px;\">Scheduler</h3>\n",
       "            <p style=\"color: #9D9D9D; margin-bottom: 0px;\">Scheduler-98334e74-5909-469a-bd08-616c08d4c71a</p>\n",
       "            <table style=\"width: 100%; text-align: left;\">\n",
       "                <tr>\n",
       "                    <td style=\"text-align: left;\">\n",
       "                        <strong>Comm:</strong> tcp://127.0.0.1:45763\n",
       "                    </td>\n",
       "                    <td style=\"text-align: left;\">\n",
       "                        <strong>Workers:</strong> 6\n",
       "                    </td>\n",
       "                </tr>\n",
       "                <tr>\n",
       "                    <td style=\"text-align: left;\">\n",
       "                        <strong>Dashboard:</strong> <a href=\"/proxy/45049/status\" target=\"_blank\">/proxy/45049/status</a>\n",
       "                    </td>\n",
       "                    <td style=\"text-align: left;\">\n",
       "                        <strong>Total threads:</strong> 24\n",
       "                    </td>\n",
       "                </tr>\n",
       "                <tr>\n",
       "                    <td style=\"text-align: left;\">\n",
       "                        <strong>Started:</strong> Just now\n",
       "                    </td>\n",
       "                    <td style=\"text-align: left;\">\n",
       "                        <strong>Total memory:</strong> 96.00 GiB\n",
       "                    </td>\n",
       "                </tr>\n",
       "            </table>\n",
       "        </div>\n",
       "    </div>\n",
       "\n",
       "    <details style=\"margin-left: 48px;\">\n",
       "        <summary style=\"margin-bottom: 20px;\">\n",
       "            <h3 style=\"display: inline;\">Workers</h3>\n",
       "        </summary>\n",
       "\n",
       "        \n",
       "        <div style=\"margin-bottom: 20px;\">\n",
       "            <div style=\"width: 24px; height: 24px; background-color: #DBF5FF; border: 3px solid #4CC9FF; border-radius: 5px; position: absolute;\"> </div>\n",
       "            <div style=\"margin-left: 48px;\">\n",
       "            <details>\n",
       "                <summary>\n",
       "                    <h4 style=\"margin-bottom: 0px; display: inline;\">Worker: 0</h4>\n",
       "                </summary>\n",
       "                <table style=\"width: 100%; text-align: left;\">\n",
       "                    <tr>\n",
       "                        <td style=\"text-align: left;\">\n",
       "                            <strong>Comm: </strong> tcp://127.0.0.1:44699\n",
       "                        </td>\n",
       "                        <td style=\"text-align: left;\">\n",
       "                            <strong>Total threads: </strong> 4\n",
       "                        </td>\n",
       "                    </tr>\n",
       "                    <tr>\n",
       "                        <td style=\"text-align: left;\">\n",
       "                            <strong>Dashboard: </strong> <a href=\"/proxy/35717/status\" target=\"_blank\">/proxy/35717/status</a>\n",
       "                        </td>\n",
       "                        <td style=\"text-align: left;\">\n",
       "                            <strong>Memory: </strong> 16.00 GiB\n",
       "                        </td>\n",
       "                    </tr>\n",
       "                    <tr>\n",
       "                        <td style=\"text-align: left;\">\n",
       "                            <strong>Nanny: </strong> tcp://127.0.0.1:42667\n",
       "                        </td>\n",
       "                        <td style=\"text-align: left;\"></td>\n",
       "                    </tr>\n",
       "                    <tr>\n",
       "                        <td colspan=\"2\" style=\"text-align: left;\">\n",
       "                            <strong>Local directory: </strong> /jobfs/64791205.gadi-pbs/dask-worker-space/worker-05d2c5th\n",
       "                        </td>\n",
       "                    </tr>\n",
       "\n",
       "                    \n",
       "\n",
       "                    \n",
       "\n",
       "                </table>\n",
       "            </details>\n",
       "            </div>\n",
       "        </div>\n",
       "        \n",
       "        <div style=\"margin-bottom: 20px;\">\n",
       "            <div style=\"width: 24px; height: 24px; background-color: #DBF5FF; border: 3px solid #4CC9FF; border-radius: 5px; position: absolute;\"> </div>\n",
       "            <div style=\"margin-left: 48px;\">\n",
       "            <details>\n",
       "                <summary>\n",
       "                    <h4 style=\"margin-bottom: 0px; display: inline;\">Worker: 1</h4>\n",
       "                </summary>\n",
       "                <table style=\"width: 100%; text-align: left;\">\n",
       "                    <tr>\n",
       "                        <td style=\"text-align: left;\">\n",
       "                            <strong>Comm: </strong> tcp://127.0.0.1:33415\n",
       "                        </td>\n",
       "                        <td style=\"text-align: left;\">\n",
       "                            <strong>Total threads: </strong> 4\n",
       "                        </td>\n",
       "                    </tr>\n",
       "                    <tr>\n",
       "                        <td style=\"text-align: left;\">\n",
       "                            <strong>Dashboard: </strong> <a href=\"/proxy/44865/status\" target=\"_blank\">/proxy/44865/status</a>\n",
       "                        </td>\n",
       "                        <td style=\"text-align: left;\">\n",
       "                            <strong>Memory: </strong> 16.00 GiB\n",
       "                        </td>\n",
       "                    </tr>\n",
       "                    <tr>\n",
       "                        <td style=\"text-align: left;\">\n",
       "                            <strong>Nanny: </strong> tcp://127.0.0.1:39625\n",
       "                        </td>\n",
       "                        <td style=\"text-align: left;\"></td>\n",
       "                    </tr>\n",
       "                    <tr>\n",
       "                        <td colspan=\"2\" style=\"text-align: left;\">\n",
       "                            <strong>Local directory: </strong> /jobfs/64791205.gadi-pbs/dask-worker-space/worker-g7f856bn\n",
       "                        </td>\n",
       "                    </tr>\n",
       "\n",
       "                    \n",
       "\n",
       "                    \n",
       "\n",
       "                </table>\n",
       "            </details>\n",
       "            </div>\n",
       "        </div>\n",
       "        \n",
       "        <div style=\"margin-bottom: 20px;\">\n",
       "            <div style=\"width: 24px; height: 24px; background-color: #DBF5FF; border: 3px solid #4CC9FF; border-radius: 5px; position: absolute;\"> </div>\n",
       "            <div style=\"margin-left: 48px;\">\n",
       "            <details>\n",
       "                <summary>\n",
       "                    <h4 style=\"margin-bottom: 0px; display: inline;\">Worker: 2</h4>\n",
       "                </summary>\n",
       "                <table style=\"width: 100%; text-align: left;\">\n",
       "                    <tr>\n",
       "                        <td style=\"text-align: left;\">\n",
       "                            <strong>Comm: </strong> tcp://127.0.0.1:36035\n",
       "                        </td>\n",
       "                        <td style=\"text-align: left;\">\n",
       "                            <strong>Total threads: </strong> 4\n",
       "                        </td>\n",
       "                    </tr>\n",
       "                    <tr>\n",
       "                        <td style=\"text-align: left;\">\n",
       "                            <strong>Dashboard: </strong> <a href=\"/proxy/39395/status\" target=\"_blank\">/proxy/39395/status</a>\n",
       "                        </td>\n",
       "                        <td style=\"text-align: left;\">\n",
       "                            <strong>Memory: </strong> 16.00 GiB\n",
       "                        </td>\n",
       "                    </tr>\n",
       "                    <tr>\n",
       "                        <td style=\"text-align: left;\">\n",
       "                            <strong>Nanny: </strong> tcp://127.0.0.1:36465\n",
       "                        </td>\n",
       "                        <td style=\"text-align: left;\"></td>\n",
       "                    </tr>\n",
       "                    <tr>\n",
       "                        <td colspan=\"2\" style=\"text-align: left;\">\n",
       "                            <strong>Local directory: </strong> /jobfs/64791205.gadi-pbs/dask-worker-space/worker-mxjr7p7n\n",
       "                        </td>\n",
       "                    </tr>\n",
       "\n",
       "                    \n",
       "\n",
       "                    \n",
       "\n",
       "                </table>\n",
       "            </details>\n",
       "            </div>\n",
       "        </div>\n",
       "        \n",
       "        <div style=\"margin-bottom: 20px;\">\n",
       "            <div style=\"width: 24px; height: 24px; background-color: #DBF5FF; border: 3px solid #4CC9FF; border-radius: 5px; position: absolute;\"> </div>\n",
       "            <div style=\"margin-left: 48px;\">\n",
       "            <details>\n",
       "                <summary>\n",
       "                    <h4 style=\"margin-bottom: 0px; display: inline;\">Worker: 3</h4>\n",
       "                </summary>\n",
       "                <table style=\"width: 100%; text-align: left;\">\n",
       "                    <tr>\n",
       "                        <td style=\"text-align: left;\">\n",
       "                            <strong>Comm: </strong> tcp://127.0.0.1:39211\n",
       "                        </td>\n",
       "                        <td style=\"text-align: left;\">\n",
       "                            <strong>Total threads: </strong> 4\n",
       "                        </td>\n",
       "                    </tr>\n",
       "                    <tr>\n",
       "                        <td style=\"text-align: left;\">\n",
       "                            <strong>Dashboard: </strong> <a href=\"/proxy/44279/status\" target=\"_blank\">/proxy/44279/status</a>\n",
       "                        </td>\n",
       "                        <td style=\"text-align: left;\">\n",
       "                            <strong>Memory: </strong> 16.00 GiB\n",
       "                        </td>\n",
       "                    </tr>\n",
       "                    <tr>\n",
       "                        <td style=\"text-align: left;\">\n",
       "                            <strong>Nanny: </strong> tcp://127.0.0.1:45463\n",
       "                        </td>\n",
       "                        <td style=\"text-align: left;\"></td>\n",
       "                    </tr>\n",
       "                    <tr>\n",
       "                        <td colspan=\"2\" style=\"text-align: left;\">\n",
       "                            <strong>Local directory: </strong> /jobfs/64791205.gadi-pbs/dask-worker-space/worker-s8se2wea\n",
       "                        </td>\n",
       "                    </tr>\n",
       "\n",
       "                    \n",
       "\n",
       "                    \n",
       "\n",
       "                </table>\n",
       "            </details>\n",
       "            </div>\n",
       "        </div>\n",
       "        \n",
       "        <div style=\"margin-bottom: 20px;\">\n",
       "            <div style=\"width: 24px; height: 24px; background-color: #DBF5FF; border: 3px solid #4CC9FF; border-radius: 5px; position: absolute;\"> </div>\n",
       "            <div style=\"margin-left: 48px;\">\n",
       "            <details>\n",
       "                <summary>\n",
       "                    <h4 style=\"margin-bottom: 0px; display: inline;\">Worker: 4</h4>\n",
       "                </summary>\n",
       "                <table style=\"width: 100%; text-align: left;\">\n",
       "                    <tr>\n",
       "                        <td style=\"text-align: left;\">\n",
       "                            <strong>Comm: </strong> tcp://127.0.0.1:40229\n",
       "                        </td>\n",
       "                        <td style=\"text-align: left;\">\n",
       "                            <strong>Total threads: </strong> 4\n",
       "                        </td>\n",
       "                    </tr>\n",
       "                    <tr>\n",
       "                        <td style=\"text-align: left;\">\n",
       "                            <strong>Dashboard: </strong> <a href=\"/proxy/43707/status\" target=\"_blank\">/proxy/43707/status</a>\n",
       "                        </td>\n",
       "                        <td style=\"text-align: left;\">\n",
       "                            <strong>Memory: </strong> 16.00 GiB\n",
       "                        </td>\n",
       "                    </tr>\n",
       "                    <tr>\n",
       "                        <td style=\"text-align: left;\">\n",
       "                            <strong>Nanny: </strong> tcp://127.0.0.1:39113\n",
       "                        </td>\n",
       "                        <td style=\"text-align: left;\"></td>\n",
       "                    </tr>\n",
       "                    <tr>\n",
       "                        <td colspan=\"2\" style=\"text-align: left;\">\n",
       "                            <strong>Local directory: </strong> /jobfs/64791205.gadi-pbs/dask-worker-space/worker-wttplgjf\n",
       "                        </td>\n",
       "                    </tr>\n",
       "\n",
       "                    \n",
       "\n",
       "                    \n",
       "\n",
       "                </table>\n",
       "            </details>\n",
       "            </div>\n",
       "        </div>\n",
       "        \n",
       "        <div style=\"margin-bottom: 20px;\">\n",
       "            <div style=\"width: 24px; height: 24px; background-color: #DBF5FF; border: 3px solid #4CC9FF; border-radius: 5px; position: absolute;\"> </div>\n",
       "            <div style=\"margin-left: 48px;\">\n",
       "            <details>\n",
       "                <summary>\n",
       "                    <h4 style=\"margin-bottom: 0px; display: inline;\">Worker: 5</h4>\n",
       "                </summary>\n",
       "                <table style=\"width: 100%; text-align: left;\">\n",
       "                    <tr>\n",
       "                        <td style=\"text-align: left;\">\n",
       "                            <strong>Comm: </strong> tcp://127.0.0.1:35627\n",
       "                        </td>\n",
       "                        <td style=\"text-align: left;\">\n",
       "                            <strong>Total threads: </strong> 4\n",
       "                        </td>\n",
       "                    </tr>\n",
       "                    <tr>\n",
       "                        <td style=\"text-align: left;\">\n",
       "                            <strong>Dashboard: </strong> <a href=\"/proxy/46331/status\" target=\"_blank\">/proxy/46331/status</a>\n",
       "                        </td>\n",
       "                        <td style=\"text-align: left;\">\n",
       "                            <strong>Memory: </strong> 16.00 GiB\n",
       "                        </td>\n",
       "                    </tr>\n",
       "                    <tr>\n",
       "                        <td style=\"text-align: left;\">\n",
       "                            <strong>Nanny: </strong> tcp://127.0.0.1:37353\n",
       "                        </td>\n",
       "                        <td style=\"text-align: left;\"></td>\n",
       "                    </tr>\n",
       "                    <tr>\n",
       "                        <td colspan=\"2\" style=\"text-align: left;\">\n",
       "                            <strong>Local directory: </strong> /jobfs/64791205.gadi-pbs/dask-worker-space/worker-ywfmrz_j\n",
       "                        </td>\n",
       "                    </tr>\n",
       "\n",
       "                    \n",
       "\n",
       "                    \n",
       "\n",
       "                </table>\n",
       "            </details>\n",
       "            </div>\n",
       "        </div>\n",
       "        \n",
       "\n",
       "    </details>\n",
       "</div>\n",
       "\n",
       "        </details>\n",
       "    </div>\n",
       "</div>\n",
       "            </details>\n",
       "        \n",
       "\n",
       "    </div>\n",
       "</div>"
      ],
      "text/plain": [
       "<Client: 'tcp://127.0.0.1:45763' processes=6 threads=24, memory=96.00 GiB>"
      ]
     },
     "execution_count": 2,
     "metadata": {},
     "output_type": "execute_result"
    }
   ],
   "source": [
    "client = Client()\n",
    "client"
   ]
  },
  {
   "cell_type": "code",
   "execution_count": 3,
   "id": "76feaa74-52a1-4f27-9f1b-557a321de297",
   "metadata": {},
   "outputs": [],
   "source": [
    "session = cc.database.create_session()\n",
    "experiment = '01deg_jra55v13_ryf9091'\n",
    "\n",
    "# reference density value:\n",
    "rho_0 = 1035.0\n",
    "g = 9.81\n",
    "\n",
    "# reduce computation by choosing only Southern Ocean latitudes\n",
    "lat_range = slice(-70, -34.99)"
   ]
  },
  {
   "cell_type": "markdown",
   "id": "74e94e0c-00d9-4552-bb2b-74a7a538a700",
   "metadata": {},
   "source": [
    "### Step 1: Load density and quantity being binned \n",
    "(you can choose any other quantity instead of `ty_trans`, e.g. `dzt`. Interpolate density to whatever grid that variable is on)\n",
    "\n",
    "We will load one year of monthly `ty_trans`, `ty_trans_rho` and `pot_rho_2`, then take the weighted time average"
   ]
  },
  {
   "cell_type": "code",
   "execution_count": 4,
   "id": "bebe18ab-8929-4e8b-985c-551be4f02ea8",
   "metadata": {},
   "outputs": [],
   "source": [
    "start_time = '2170-01-01'\n",
    "end_time = '2170-12-31'\n",
    "time_slice = slice(start_time, end_time)"
   ]
  },
  {
   "cell_type": "code",
   "execution_count": 5,
   "id": "99345a56-cc65-44da-8721-aea5467a74ca",
   "metadata": {},
   "outputs": [
    {
     "name": "stdout",
     "output_type": "stream",
     "text": [
      "CPU times: user 1.95 s, sys: 930 ms, total: 2.88 s\n",
      "Wall time: 8.18 s\n"
     ]
    }
   ],
   "source": [
    "%%time\n",
    "ty_trans = cc.querying.getvar(experiment, 'ty_trans', session, start_time = start_time, end_time = end_time)\n",
    "ty_trans = ty_trans.sel(time = time_slice).sel(yu_ocean = lat_range)\n",
    "\n",
    "# weighted time-mean by month length\n",
    "days_in_month = ty_trans.time.dt.days_in_month\n",
    "days_in_year = 365\n",
    "ty_trans = (ty_trans * days_in_month).sum('time') / days_in_year"
   ]
  },
  {
   "cell_type": "code",
   "execution_count": 6,
   "id": "4b5de409-b4d4-4067-a7ab-3f465a0efe1d",
   "metadata": {},
   "outputs": [
    {
     "name": "stdout",
     "output_type": "stream",
     "text": [
      "CPU times: user 870 ms, sys: 133 ms, total: 1 s\n",
      "Wall time: 6.66 s\n"
     ]
    }
   ],
   "source": [
    "%%time\n",
    "pot_rho_2 = cc.querying.getvar(experiment, 'pot_rho_2', session, start_time = start_time, end_time = end_time)\n",
    "pot_rho_2 = pot_rho_2.sel(time = time_slice).sel(yt_ocean = lat_range)\n",
    "pot_rho_2 = (pot_rho_2 * days_in_month).sum('time') / days_in_year"
   ]
  },
  {
   "cell_type": "code",
   "execution_count": 7,
   "id": "9d40759b-a5de-4827-bfda-490704bc93e0",
   "metadata": {},
   "outputs": [
    {
     "name": "stdout",
     "output_type": "stream",
     "text": [
      "CPU times: user 394 ms, sys: 36.8 ms, total: 431 ms\n",
      "Wall time: 527 ms\n"
     ]
    }
   ],
   "source": [
    "%%time\n",
    "ty_trans_rho = cc.querying.getvar(experiment, 'ty_trans_rho', session, start_time = start_time, end_time = end_time)\n",
    "ty_trans_rho = ty_trans_rho.sel(time = time_slice).sel(grid_yu_ocean = lat_range)\n",
    "ty_trans_rho = (ty_trans_rho * days_in_month).sum('time') / days_in_year"
   ]
  },
  {
   "cell_type": "markdown",
   "id": "00cb7a08-4c4a-4742-ad36-6db0e648f434",
   "metadata": {},
   "source": [
    "Create an `xgcm` grid for interpolation, and then interpolate density onto the meridional transport grid"
   ]
  },
  {
   "cell_type": "code",
   "execution_count": 8,
   "id": "eb10c7cd-02e8-4bb5-952e-a4e081606a78",
   "metadata": {},
   "outputs": [],
   "source": [
    "ds = xr.Dataset({'ty_trans':ty_trans, 'pot_rho_2':pot_rho_2}) \n",
    "grid = xgcm.Grid(ds, coords = {'Y': {'center': 'yt_ocean', 'right': 'yu_ocean'}}, periodic = False)\n",
    "\n",
    "# interpolate density (t-grid) to ty_trans grid (xt_ocean and yu_ocean)\n",
    "pot_rho_2 = grid.interp(pot_rho_2, 'Y', boundary = 'extend')"
   ]
  },
  {
   "cell_type": "markdown",
   "id": "71635773-a64f-4803-b842-4184be71d4e3",
   "metadata": {},
   "source": [
    "## Method 1: `xhistogram`\n",
    "\n",
    "We use xhistogram, described in https://xhistogram.readthedocs.io/en/latest/. It is a xarray aware method for computing histograms.\n",
    "\n",
    "Computation in xhistogram occurs via the same method as in MOM5 online binning. It is thus most appropriate for an comparisons between offline and online binned quantities.\n",
    "\n",
    "### First, we define the edges of the target bins\n",
    "Output will be an array with coordinate density the linear centre of these bins. If we choose `potrho_edges`, the end result will have coordinates potrho, which is the same as online binned `ty_trans_rho`."
   ]
  },
  {
   "cell_type": "code",
   "execution_count": 9,
   "id": "e514b3bf-dd47-4c36-a28e-ff002c2843c6",
   "metadata": {},
   "outputs": [],
   "source": [
    "targetbins = cc.querying.getvar(experiment, 'potrho_edges', session, start_time = start_time, end_time = end_time,\n",
    "                                n = 1, frequency = '1 monthly' ).values"
   ]
  },
  {
   "cell_type": "markdown",
   "id": "9b43345e-4748-45a7-afbe-3a24f3ad031c",
   "metadata": {},
   "source": [
    "### Now apply the histogram over the vertical dimension `st_ocean` inside the target bins. \n",
    "We include the variable we want to bin in `weights`. This quantity should be extensive, since grid cells vary in sizes, which is true because `ty_trans` is multiplied by the cell size in x and z directions."
   ]
  },
  {
   "cell_type": "code",
   "execution_count": 10,
   "id": "66f8cc4c-a88b-4111-bed6-7b16a84d6594",
   "metadata": {},
   "outputs": [],
   "source": [
    "# Make sure the variables have a name, otherwise xhistogram doesn't know what to call the bins\n",
    "ty_trans = ty_trans.rename('ty_trans')\n",
    "pot_rho_2 = pot_rho_2.rename('pot_rho_2')\n",
    "\n",
    "ty_trans_mean = histogram(pot_rho_2, \n",
    "                          bins = [targetbins], \n",
    "                          dim = ['st_ocean'],\n",
    "                          weights = ty_trans).rename({pot_rho_2.name + '_bin': 'potrho',\n",
    "                                                    'xt_ocean': 'grid_xt_ocean',\n",
    "                                                    'yu_ocean': 'grid_yu_ocean'})"
   ]
  },
  {
   "cell_type": "code",
   "execution_count": 11,
   "id": "5f662b5a-9f4f-4e27-b883-66f2002e10b6",
   "metadata": {},
   "outputs": [
    {
     "name": "stdout",
     "output_type": "stream",
     "text": [
      "CPU times: user 1min 3s, sys: 5.43 s, total: 1min 9s\n",
      "Wall time: 1min 44s\n"
     ]
    }
   ],
   "source": [
    "%%time\n",
    "ty_trans_mean = ty_trans_mean.load()"
   ]
  },
  {
   "cell_type": "markdown",
   "id": "b2d3e7bd-246a-4c25-a724-8300ff0bbdd9",
   "metadata": {},
   "source": [
    "### Now define meridional overturning streamfunctions as a cumulative sum of transport from the bottom of the ocean."
   ]
  },
  {
   "cell_type": "code",
   "execution_count": 12,
   "id": "919e537e-c139-46ac-bfd1-b599480687f2",
   "metadata": {},
   "outputs": [],
   "source": [
    "def cumsum_from_bottom(residual):\n",
    "    cumsum = residual.cumsum('potrho') - residual.sum('potrho')\n",
    "    return cumsum"
   ]
  },
  {
   "cell_type": "code",
   "execution_count": 13,
   "id": "380adee2-f0b2-4670-b01d-36ac7ac3cbad",
   "metadata": {},
   "outputs": [],
   "source": [
    "psi_avg = cumsum_from_bottom(ty_trans_rho.sum('grid_xt_ocean')/1e6/rho_0).load() # .load() since we'll use it a few times in this notebook\n",
    "\n",
    "psi_avg_mean = cumsum_from_bottom(ty_trans_mean.sum('grid_xt_ocean')/1e6/rho_0)"
   ]
  },
  {
   "cell_type": "markdown",
   "id": "4bbe9e23-c487-4769-a6d1-14f2b3096e75",
   "metadata": {},
   "source": [
    "### Plot streamfunctions of the residual, mean (what we just computed) and eddy (the difference) streamfunctions"
   ]
  },
  {
   "cell_type": "code",
   "execution_count": 14,
   "id": "8f4ed670-6a0e-4b52-a8ec-a6cef918f0f5",
   "metadata": {},
   "outputs": [
    {
     "name": "stdout",
     "output_type": "stream",
     "text": [
      "CPU times: user 251 ms, sys: 48 ms, total: 299 ms\n",
      "Wall time: 295 ms\n"
     ]
    },
    {
     "data": {
      "image/png": "[encoded data removed]",
      "text/plain": [
       "<Figure size 1080x288 with 4 Axes>"
      ]
     },
     "metadata": {
      "needs_background": "light"
     },
     "output_type": "display_data"
    }
   ],
   "source": [
    "%%time\n",
    "fig, axes = plt.subplots(nrows = 1, ncols = 3, figsize = (15, 4))\n",
    "\n",
    "levels = np.linspace(-25, 25, 26)\n",
    "\n",
    "(psi_avg).plot.contourf(ax = axes[0], x = 'grid_yu_ocean',levels = levels, add_colorbar = False)\n",
    "\n",
    "(psi_avg_mean).plot.contourf(ax = axes[1], x = 'grid_yu_ocean', levels = levels, add_colorbar = False)\n",
    "\n",
    "p = (psi_avg - psi_avg_mean).plot.contourf(ax = axes[2], x = 'grid_yu_ocean', levels = levels, add_colorbar = False)\n",
    "\n",
    "cbar_ax = fig.add_axes([0.92, 0.15, 0.01, 0.7])\n",
    "fig.colorbar(p, cax=cbar_ax, label= 'Transport (Sv)')\n",
    "\n",
    "axes[0].set_title('Residual')\n",
    "axes[1].set_title('Mean')\n",
    "axes[2].set_title('Eddy')\n",
    "\n",
    "for ax in axes:\n",
    "    ax.set_ylim(1037.5, 1032)\n",
    "    ax.set_xlim(-70, -35);"
   ]
  },
  {
   "cell_type": "markdown",
   "id": "eaaafc08-1df8-4e26-9663-624b5fb8cf65",
   "metadata": {},
   "source": [
    "## Method 2: `xgcm`\n",
    "\n",
    "Use `xgcm` conservative binning, described in the tutorial available in `xgcm` documentation: https://xgcm.readthedocs.io/en/stable/transform.html\n",
    "\n",
    "This method results in a smoother vertical distribution than `xhistogram`, as it is not quite a histogram but does some interpolation to the top and bottom of each vertical cell. We have found that the computation currently has issues with interior land boundaries: `xgcm` isn't able to compute partial cells at the bottom of the ocean in MOM5. We thus add a correction after the computation to ensure that vertical integrals are preserved and thus that streamfunctions calculated are closed."
   ]
  },
  {
   "cell_type": "markdown",
   "id": "9e46418e-89b7-449f-bab7-1f259239a55d",
   "metadata": {},
   "source": [
    "### Load vertical grid bin centres and edges"
   ]
  },
  {
   "cell_type": "code",
   "execution_count": 15,
   "id": "964e2221-c7fa-43ec-aea7-8030eb4c9a6c",
   "metadata": {},
   "outputs": [
    {
     "name": "stdout",
     "output_type": "stream",
     "text": [
      "CPU times: user 2.08 s, sys: 118 ms, total: 2.2 s\n",
      "Wall time: 2.11 s\n"
     ]
    }
   ],
   "source": [
    "%%time\n",
    "\n",
    "st_ocean = cc.querying.getvar(experiment, 'st_ocean', session, n=1)\n",
    "st_edges_ocean = cc.querying.getvar(experiment, 'st_edges_ocean', session, n=1)"
   ]
  },
  {
   "cell_type": "markdown",
   "id": "58336fe8-d59d-4489-903a-af25ad35024a",
   "metadata": {},
   "source": [
    "### Define edge of target density bins"
   ]
  },
  {
   "cell_type": "code",
   "execution_count": 16,
   "id": "874a9140-cbe8-49e4-a7b5-8a06aaf4b3c4",
   "metadata": {},
   "outputs": [],
   "source": [
    "pot_rho_2_target = cc.querying.getvar(experiment, 'potrho_edges', session, start_time = start_time, end_time = end_time, n=1, frequency = '1 monthly' ).values"
   ]
  },
  {
   "cell_type": "markdown",
   "id": "93d9620f-60be-482a-932a-ebaf72524cce",
   "metadata": {},
   "source": [
    "### Calculate vertical regridding into density coordinates"
   ]
  },
  {
   "cell_type": "code",
   "execution_count": 17,
   "id": "bac76fee-60cf-447e-8ffc-7aa443680285",
   "metadata": {},
   "outputs": [
    {
     "name": "stdout",
     "output_type": "stream",
     "text": [
      "CPU times: user 35.3 ms, sys: 10.8 ms, total: 46.1 ms\n",
      "Wall time: 39.9 ms\n"
     ]
    }
   ],
   "source": [
    "%%time\n",
    "\n",
    "ds = xr.Dataset({'ty_trans': ty_trans, 'pot_rho_2': pot_rho_2})\n",
    "\n",
    "# Note: Quantity must be extensive, e.g., ty_trans, vhrho_nt, uhrho_et, tx_trans but *not*, e.g., v, salt. \n",
    "#       If not extensive, then we need to multiply by dzt or dzu.\n",
    "ds = ds.assign_coords({'st_edges_ocean': st_edges_ocean})\n",
    "ds = ds.chunk({'st_edges_ocean': 76, 'st_ocean': 75}) #xgcm doesn't like it if there is more than 1 chunk in this axis\n",
    "\n",
    "grid = xgcm.Grid(ds, coords={'Z': {'center': 'st_ocean', 'outer': 'st_edges_ocean'}}, periodic = False)\n",
    "ds['pot_rho_2_outer'] = grid.interp(ds.pot_rho_2, 'Z', boundary='extend')\n",
    "ds['pot_rho_2_outer'] = ds['pot_rho_2_outer'].chunk({'st_edges_ocean': 76})\n",
    "\n",
    "ty_trans_transformed_cons = grid.transform(ds.ty_trans,\n",
    "                                           'Z',\n",
    "                                           pot_rho_2_target,\n",
    "                                           method='conservative',\n",
    "                                           target_data=ds.pot_rho_2_outer)\n",
    "\n",
    "### change name to fit previous bins because default xgcm naming is different\n",
    "# pot_rho_2_outer is actually the CENTRE of bins (I guess the convention was defined for linear interpolation not conservative)\n",
    "ty_trans_transformed_cons = ty_trans_transformed_cons.rename({'pot_rho_2_outer': 'potrho'})"
   ]
  },
  {
   "cell_type": "code",
   "execution_count": 18,
   "id": "b1719dda-a93c-481e-b75d-a481ec7bafd0",
   "metadata": {},
   "outputs": [
    {
     "name": "stdout",
     "output_type": "stream",
     "text": [
      "CPU times: user 48.6 s, sys: 4.37 s, total: 53 s\n",
      "Wall time: 1min 7s\n"
     ]
    }
   ],
   "source": [
    "%%time\n",
    "ty_trans_transformed_cons = ty_trans_transformed_cons.load()"
   ]
  },
  {
   "cell_type": "markdown",
   "id": "10e2fd59-083b-417b-af83-812d202ce0da",
   "metadata": {},
   "source": [
    "### Now account for partial cell at bottom\n",
    "We do this by finding what is missing from the vertical integral (residual). This is what was in the partial cell. We then add that residual into the densest cell that currently exists in the transformed data. This is only an approximation, because the density of the partial cell may be denser than that of the cell above it. However, this correction means the vertical integral is preserved under the transformation."
   ]
  },
  {
   "cell_type": "code",
   "execution_count": 19,
   "id": "71a9b5c8-6c18-4aed-9c3e-d23fd470f310",
   "metadata": {},
   "outputs": [
    {
     "name": "stdout",
     "output_type": "stream",
     "text": [
      "CPU times: user 780 ms, sys: 758 ms, total: 1.54 s\n",
      "Wall time: 1.27 s\n"
     ]
    }
   ],
   "source": [
    "%%time\n",
    "#find residual from vertical integral\n",
    "ty_trans_residual = ty_trans.sum('st_ocean') - ty_trans_transformed_cons.sum('potrho') #this is positive definite"
   ]
  },
  {
   "cell_type": "markdown",
   "id": "115208ff-07d1-45f4-bcfb-6e7a0290de7a",
   "metadata": {},
   "source": [
    "### Find bottom density of `ty_trans_transformed_cons`"
   ]
  },
  {
   "cell_type": "code",
   "execution_count": 20,
   "id": "e2d07412-6377-4fe5-be5f-530b3ea8b87d",
   "metadata": {},
   "outputs": [
    {
     "name": "stdout",
     "output_type": "stream",
     "text": [
      "CPU times: user 1.28 s, sys: 1.06 s, total: 2.34 s\n",
      "Wall time: 1.96 s\n"
     ]
    }
   ],
   "source": [
    "%%time\n",
    "# select out bottom values:\n",
    "ty_trans_transformed_cons2 = ty_trans_transformed_cons.where(ty_trans_transformed_cons != 0) \n",
    "dens_array = ty_trans_transformed_cons2 * 0 + ty_trans_transformed_cons2.potrho # array of isopycnal value where it exists and nan elsewhere\n",
    "max_dens = dens_array.max(dim = 'potrho', skipna = True)"
   ]
  },
  {
   "cell_type": "markdown",
   "id": "1096b59c-b87e-47cb-a291-6eb479020d5d",
   "metadata": {},
   "source": [
    "### Add residual to this bottom density in array"
   ]
  },
  {
   "cell_type": "code",
   "execution_count": 21,
   "id": "4af3a264-5894-4d9d-afbe-7341b6697073",
   "metadata": {},
   "outputs": [
    {
     "name": "stdout",
     "output_type": "stream",
     "text": [
      "CPU times: user 1.81 s, sys: 1.09 s, total: 2.9 s\n",
      "Wall time: 2.42 s\n"
     ]
    }
   ],
   "source": [
    "%%time\n",
    "ty_trans_residual_array = (dens_array.where(dens_array == max_dens)*0 + 1)*ty_trans_residual\n",
    "ty_trans_new = ty_trans_residual_array.fillna(0)+ ty_trans_transformed_cons"
   ]
  },
  {
   "cell_type": "code",
   "execution_count": 22,
   "id": "e33d083b-19b6-44fb-a8e5-cda294438b48",
   "metadata": {},
   "outputs": [],
   "source": [
    "# rename coords to match ty_trans_rho\n",
    "ty_trans_new = ty_trans_new.rename({'yu_ocean': 'grid_yu_ocean', 'xt_ocean': 'grid_xt_ocean'})"
   ]
  },
  {
   "cell_type": "code",
   "execution_count": 23,
   "id": "b6547622-cbfa-436a-9a19-7eb7154838c3",
   "metadata": {},
   "outputs": [
    {
     "name": "stdout",
     "output_type": "stream",
     "text": [
      "CPU times: user 24.2 s, sys: 3.43 s, total: 27.6 s\n",
      "Wall time: 33.3 s\n"
     ]
    }
   ],
   "source": [
    "%%time\n",
    "\n",
    "ty_trans_new = ty_trans_new.load()"
   ]
  },
  {
   "cell_type": "markdown",
   "id": "75c9d270-47d1-45c1-8796-32944e6b2fb3",
   "metadata": {},
   "source": [
    "### Plot streamfunction of result"
   ]
  },
  {
   "cell_type": "code",
   "execution_count": 24,
   "id": "8ea61ffe-980d-45b9-823d-2db8422ea105",
   "metadata": {},
   "outputs": [],
   "source": [
    "psi_avg_mean_2 = cumsum_from_bottom(ty_trans_new.sum('grid_xt_ocean')/1e6/rho_0)"
   ]
  },
  {
   "cell_type": "code",
   "execution_count": 25,
   "id": "6535bf5b-83d4-40ba-8296-0618ba4366e9",
   "metadata": {},
   "outputs": [
    {
     "name": "stdout",
     "output_type": "stream",
     "text": [
      "CPU times: user 754 ms, sys: 65.3 ms, total: 819 ms\n",
      "Wall time: 779 ms\n"
     ]
    },
    {
     "data": {
      "image/png": "[encoded data removed]",
      "text/plain": [
       "<Figure size 1080x288 with 4 Axes>"
      ]
     },
     "metadata": {
      "needs_background": "light"
     },
     "output_type": "display_data"
    }
   ],
   "source": [
    "%%time\n",
    "fig, axes = plt.subplots(nrows = 1, ncols = 3, figsize = (15, 4))\n",
    "\n",
    "levels = np.linspace(-25, 25, 26)\n",
    "\n",
    "(psi_avg).plot.contourf(ax = axes[0], x = 'grid_yu_ocean',levels = levels, add_colorbar = False)\n",
    "\n",
    "(psi_avg_mean_2).plot.contourf(ax = axes[1], x = 'grid_yu_ocean', levels = levels, add_colorbar = False)\n",
    "\n",
    "p = (psi_avg - psi_avg_mean_2).plot.contourf(ax = axes[2], x = 'grid_yu_ocean', levels = levels, add_colorbar = False)\n",
    "\n",
    "cbar_ax = fig.add_axes([0.92, 0.15, 0.01, 0.7])\n",
    "fig.colorbar(p, cax=cbar_ax, label= 'Transport (Sv)')\n",
    "\n",
    "axes[0].set_title('Residual')\n",
    "axes[1].set_title('Mean')\n",
    "axes[2].set_title('Eddy')\n",
    "\n",
    "for ax in axes:\n",
    "    ax.set_ylim(1037.5, 1032)\n",
    "    ax.set_xlim(-70, -35);"
   ]
  },
  {
   "cell_type": "markdown",
   "id": "ce8152ad-8c28-467a-b867-fe7408a01023",
   "metadata": {
    "tags": []
   },
   "source": [
    "## Method 3: Bin `ty_trans` (mean Eulerian overturning) into density bins\n",
    "\n",
    "This uses the method by Lee et al. (2007) and which is is described as follows. Firstly, cells in the model output with a density $\\rho$ between two prescribed densities ($\\rho_\\text{heavy} >\\rho> \\rho_\\text{light}$) are selected. Each cell is assigned a proximity to the lighter density $\\rho_\\text{light}$, which is the 'bin fraction' $$f_b = \\frac{\\rho_\\text{heavy}-\\rho}{\\rho_\\text{heavy}-\\rho_\\text{light}}.$$\n",
    "\n",
    "Here, a bin fraction of 1 means the cell density $\\rho = \\rho_\\text{light}$ and $f_b=0$ means $\\rho = \\rho_\\text{heavy}$. The quantity being binned, such as the meridional transport $vh$, is then multiplied by $f_b$ and added to the lighter density $\\rho_\\text{light}$ bin's meridional transport, followed by the $vh(1-f_b)$ being added to the heavier bin, $\\rho_\\text{heavy}$. This process is repeated for all sets of consecutive bins, meaning that density bins have input from model output cells with density slightly lower and higher than it. \n",
    "\n",
    "> Lee, M., Nurser, A., Coward, A., and De Cuevas, B. (2007). [Eddy advective and diffusive\n",
    "transports of heat and salt in the Southern Ocean.](https://doi.org/10.1175/JPO3057.1) _Journal of Physical Oceanography_, **37(5)**, 1376–1393."
   ]
  },
  {
   "cell_type": "markdown",
   "id": "063607a5-1bd7-4c8f-8cc1-0d89bf2f02d0",
   "metadata": {},
   "source": [
    "### For this method, we need to get rid of NaNs"
   ]
  },
  {
   "cell_type": "code",
   "execution_count": 26,
   "id": "fed405b2-ff26-47cc-96d5-e8326aeafa57",
   "metadata": {},
   "outputs": [],
   "source": [
    "ty_trans = ty_trans.fillna(0)\n",
    "pot_rho_2 = pot_rho_2.fillna(0)"
   ]
  },
  {
   "cell_type": "markdown",
   "id": "1645e9d1-f09f-4e3e-b087-383ec4bfb6a6",
   "metadata": {},
   "source": [
    "### Load first to reduce computation time"
   ]
  },
  {
   "cell_type": "code",
   "execution_count": 27,
   "id": "e105a23e-9179-4e73-aa26-93d1dd1056f9",
   "metadata": {},
   "outputs": [
    {
     "name": "stdout",
     "output_type": "stream",
     "text": [
      "CPU times: user 41.7 s, sys: 4.85 s, total: 46.5 s\n",
      "Wall time: 56.7 s\n"
     ]
    }
   ],
   "source": [
    "%%time\n",
    "pot_rho_2 = pot_rho_2.load()\n",
    "ty_trans = ty_trans.load()"
   ]
  },
  {
   "cell_type": "code",
   "execution_count": 28,
   "id": "bdb54ac7-92e9-48f3-b20a-d07810f2625d",
   "metadata": {},
   "outputs": [],
   "source": [
    "# choose bins (in this case, default ty_trans_rho pot_rho_2 bins\n",
    "rho2_bins = ty_trans_rho.potrho.values\n",
    "\n",
    "# set up a zero array to be filled in by the algorithm\n",
    "ty_trans_binned = np.zeros((len(rho2_bins), len(pot_rho_2.yu_ocean), len(pot_rho_2.xt_ocean)))"
   ]
  },
  {
   "cell_type": "code",
   "execution_count": 29,
   "id": "42324e61-50c2-4cb7-8ed3-b9533ab0f4a3",
   "metadata": {
    "tags": []
   },
   "outputs": [
    {
     "data": {
      "application/vnd.jupyter.widget-view+json": {
       "model_id": "403e1490aa934bcc9bc7c07f4caca0fb",
       "version_major": 2,
       "version_minor": 0
      },
      "text/plain": [
       "  0%|          | 0/79 [00:00<?, ?it/s]"
      ]
     },
     "metadata": {},
     "output_type": "display_data"
    },
    {
     "name": "stdout",
     "output_type": "stream",
     "text": [
      "CPU times: user 9min 4s, sys: 8min 25s, total: 17min 29s\n",
      "Wall time: 14min 28s\n"
     ]
    }
   ],
   "source": [
    "%%time\n",
    "\n",
    "from tqdm.auto import tqdm\n",
    "\n",
    "# loop over the bins, performing Lee et al. (2007) algorithm\n",
    "# takes time, faster if ty_trans and pot_rho_2 already loaded\n",
    "for i in tqdm(range(len(rho2_bins)-1)):\n",
    "    bin_mask = pot_rho_2.where(pot_rho_2 <= rho2_bins[i+1]).where(pot_rho_2 > rho2_bins[i])*0 + 1\n",
    "    bin_fractions = (rho2_bins[i+1] - pot_rho_2 * bin_mask)/(rho2_bins[i+1] - rho2_bins[i])\n",
    "    ## bin ty_trans:\n",
    "    ty_trans_in_lower_bin = (ty_trans * bin_mask * bin_fractions).sum(dim = 'st_ocean')\n",
    "    ty_trans_binned[i, :, :] += ty_trans_in_lower_bin.fillna(0).values\n",
    "    del ty_trans_in_lower_bin\n",
    "    ty_trans_in_upper_bin = (ty_trans * bin_mask * (1-bin_fractions)).sum(dim = 'st_ocean')\n",
    "    ty_trans_binned[i+1, :, :] += ty_trans_in_upper_bin.fillna(0).values\n",
    "    del ty_trans_in_upper_bin"
   ]
  },
  {
   "cell_type": "code",
   "execution_count": 30,
   "id": "398b5155-b1f8-4da3-ad31-adfcbbd918d2",
   "metadata": {},
   "outputs": [],
   "source": [
    "# convert numpy array into xarray dataarray\n",
    "ty_trans_binned_array = xr.DataArray(ty_trans_binned, \n",
    "                                     coords = [rho2_bins, pot_rho_2.yu_ocean, pot_rho_2.xt_ocean], \n",
    "                                     dims = ['potrho', 'grid_yu_ocean', 'grid_xt_ocean'], \n",
    "                                     name = 'ty_trans_binned')"
   ]
  },
  {
   "cell_type": "code",
   "execution_count": 31,
   "id": "690ddd63-0ffc-497b-8dbe-bed29d59d980",
   "metadata": {},
   "outputs": [],
   "source": [
    "# find streamfunction\n",
    "psi_avg_mean_3 = cumsum_from_bottom(ty_trans_binned_array.sum('grid_xt_ocean'))/1e6/rho_0"
   ]
  },
  {
   "cell_type": "markdown",
   "id": "35ddc3b8-5d15-413e-8cb6-d5e8073841f8",
   "metadata": {},
   "source": [
    "### Plot streamfunctions"
   ]
  },
  {
   "cell_type": "code",
   "execution_count": 32,
   "id": "58a7fe12-4fcd-49ca-a553-e7f4e185212c",
   "metadata": {},
   "outputs": [
    {
     "data": {
      "image/png": "[encoded data removed]",
      "text/plain": [
       "<Figure size 1080x288 with 4 Axes>"
      ]
     },
     "metadata": {
      "needs_background": "light"
     },
     "output_type": "display_data"
    }
   ],
   "source": [
    "fig, axes = plt.subplots(nrows = 1, ncols = 3, figsize = (15, 4))\n",
    "\n",
    "levels = np.linspace(-25, 25, 26)\n",
    "\n",
    "(psi_avg).plot.contourf(ax = axes[0], x = 'grid_yu_ocean',levels = levels, add_colorbar = False)\n",
    "\n",
    "(psi_avg_mean_3).plot.contourf(ax = axes[1], x = 'grid_yu_ocean', levels = levels, add_colorbar = False)\n",
    "\n",
    "p = (psi_avg - psi_avg_mean_3).plot.contourf(ax = axes[2], x = 'grid_yu_ocean', levels = levels, add_colorbar = False)\n",
    "\n",
    "cbar_ax = fig.add_axes([0.92, 0.15, 0.01, 0.7])\n",
    "fig.colorbar(p, cax=cbar_ax, label= 'Transport (Sv)')\n",
    "\n",
    "axes[0].set_title('Residual')\n",
    "axes[1].set_title('Mean')\n",
    "axes[2].set_title('Eddy')\n",
    "\n",
    "for ax in axes:\n",
    "    ax.set_ylim(1037.5, 1032)\n",
    "    ax.set_xlim(-70, -35);"
   ]
  },
  {
   "cell_type": "markdown",
   "id": "4b64145b-4b4c-4480-972a-51112c466756",
   "metadata": {
    "tags": []
   },
   "source": [
    "### All three methods yield similar plots of the decomposition of the meridional overturning streamfunction. \n",
    "\n",
    "The exact numbers resulting from the transformations differ, due to the different numerical methods. `xhistogram` is exact when compared to snapshots of MOM5 model output, and is hence most appropriate when comparing between online and offline binned quantities. `xgcm` and the Lee method can still be used to compare quantities binned offline. For example, if we were to instead bin the daily transports onto isopycnals and calculate eddy terms directly from the correlation of velocity and thickness fluctuations, `xgcm` and the Lee method may be better as the weighted binning onto isopycnals leaves less chance of 'gaps' between density layers. The Lee method has no issues with partial cells, but it is **much slower** than `xgcm`.\n",
    "\n",
    "The difference in the mean streamfunction between the three methods is presented below."
   ]
  },
  {
   "cell_type": "code",
   "execution_count": 33,
   "id": "8d5f00b8-a2de-4328-b665-195eb75c2842",
   "metadata": {},
   "outputs": [
    {
     "data": {
      "image/png": "[encoded data removed]",
      "text/plain": [
       "<Figure size 1080x288 with 4 Axes>"
      ]
     },
     "metadata": {
      "needs_background": "light"
     },
     "output_type": "display_data"
    }
   ],
   "source": [
    "fig, axes = plt.subplots(nrows = 1, ncols = 3, figsize = (15, 4))\n",
    "\n",
    "levels = np.arange(-10, 10.1, 0.5)\n",
    "\n",
    "(psi_avg_mean-psi_avg_mean_2).plot.contourf(ax = axes[0], x = 'grid_yu_ocean',levels = levels, add_colorbar = False)\n",
    "\n",
    "(psi_avg_mean-psi_avg_mean_3).plot.contourf(ax = axes[1], x = 'grid_yu_ocean', levels = levels, add_colorbar = False)\n",
    "\n",
    "p = (psi_avg_mean_2 - psi_avg_mean_3).plot.contourf(ax = axes[2], x = 'grid_yu_ocean', levels = levels, add_colorbar = False)\n",
    "\n",
    "cbar_ax = fig.add_axes([0.92, 0.15, 0.01, 0.7])\n",
    "fig.colorbar(p, cax=cbar_ax, label= 'Transport (Sv)')\n",
    "\n",
    "axes[0].set_title('Method 1 - Method 2');\n",
    "axes[1].set_title('Method 1 - Method 3');\n",
    "axes[2].set_title('Method 2 - Method 3');\n",
    "\n",
    "for ax in axes:\n",
    "    ax.set_ylim(1037.5, 1032)\n",
    "    ax.set_xlim(-70, -35)\n",
    "\n",
    "fig.suptitle('Difference in Mean Streamfunction', fontsize = 16);"
   ]
  },
  {
   "cell_type": "markdown",
   "id": "eed3d00b-224e-448d-8cbd-c8198244fe87",
   "metadata": {},
   "source": [
    "An alternative method to calculate the decomposition of the residual meridional overturning circulation into mean and eddy components is to bin `ty_trans` (or `vhrho_nt`) into density bins using daily data (both density and transport). Then the transport $\\overline{vh}$ can be separated into a mean component $\\overline{v}\\overline{h}$ and an eddy component $\\overline{v^\\prime h^\\prime}$, where the overline is a time average and primed quantities the deviation from the time average. Quantities are calculated within density layers, and $h$ is density layer thickness, calculated by binning `dzt` or `dzu`. This calculation, since it uses daily data, is computationally expensive and is difficult to do efficiently in a jupyter notebook. The resulting streamfunctions are similar, but not identical, and may be more intuitive for isopycnal flows. An example of this method can be found at https://github.com/claireyung/Topographic_Hotspots_Upwelling-Paper_Code/blob/main/Figure_Code/Fig5-Overturning.ipynb."
   ]
  }
 ],
 "metadata": {
  "kernelspec": {
   "display_name": "Python [conda env:analysis3-22.07]",
   "language": "python",
   "name": "conda-env-analysis3-22.07-py"
  },
  "language_info": {
   "codemirror_mode": {
    "name": "ipython",
    "version": 3
   },
   "file_extension": ".py",
   "mimetype": "text/x-python",
   "name": "python",
   "nbconvert_exporter": "python",
   "pygments_lexer": "ipython3",
   "version": "3.9.15"
  }
 },
 "nbformat": 4,
 "nbformat_minor": 5
}
