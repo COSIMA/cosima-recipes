{
 "cells": [
  {
   "cell_type": "markdown",
   "id": "034f532a",
   "metadata": {},
   "source": [
    "# Example of a coordinate transformation from z levels to density levels\n",
    "\n",
    "## Rebinning `ty_trans` to `ty_trans_rho` density levels\n",
    "\n",
    "This transformation is commonly used for the purpose of decomposing the residual meridional overturning streamfunction into mean and eddy components. The mean is taken to be the time-mean Eulerian transport (time-mean in z coordinates), whilst the residual transport is the time-mean in density coordinates (density surface move in time). The eddy transport is the difference between the residual overturning streamfunction, and the Eulerian transport **transformed from depth to density coordinates** via the time-mean density.\n",
    "\n",
    "Binning is the discrete version of this transformation from depth to density coordinates. We define target density bins, and for each bin we add the quantity to be binned from all cells with a density that satisfies that bin. In its simplest form, binning is creating a histogram.\n",
    "\n",
    "We use three different binning methods:\n",
    "1. `xhistogram`, which performs binning in exactly the way MOM5 does and is thus most appropriate for calculating eddy quantities (define edge of bins)\n",
    "2. `xgcm` conservative binning (define edge of bins, but vertically interpolates so looks smoother than `xhistogram`)\n",
    "3. Using density coordinate binning method of Lee et al. (2007) (define isopycnals to bin onto i.e. centre)\n",
    "\n",
    "Compute times were calculated using the XXLarge (28 cpus, 128 Gb mem) Jupyter Lab on NCI's ARE, using conda environment analysis3-22.10"
   ]
  },
  {
   "cell_type": "code",
   "execution_count": 1,
   "id": "7a700f6b",
   "metadata": {},
   "outputs": [],
   "source": [
    "%matplotlib inline\n",
    "\n",
    "import pandas as pd\n",
    "import intake\n",
    "catalog = intake.cat.access_nri\n",
    "from cosima_cookbook import distributed as ccd\n",
    "import matplotlib.pyplot as plt\n",
    "import numpy as np\n",
    "import xarray as xr\n",
    "import glob\n",
    "import cmocean.cm as cmocean\n",
    "import xgcm\n",
    "import logging\n",
    "logging.captureWarnings(True)\n",
    "logging.getLogger('py.warnings').setLevel(logging.ERROR)\n",
    "from xhistogram.xarray import histogram\n",
    "\n",
    "from dask.distributed import Client"
   ]
  },
  {
   "cell_type": "code",
   "execution_count": 2,
   "id": "e049d1c1",
   "metadata": {},
   "outputs": [
    {
     "data": {
      "text/html": [
       "<div>\n",
       "    <div style=\"width: 24px; height: 24px; background-color: #e1e1e1; border: 3px solid #9D9D9D; border-radius: 5px; position: absolute;\"> </div>\n",
       "    <div style=\"margin-left: 48px;\">\n",
       "        <h3 style=\"margin-bottom: 0px;\">Client</h3>\n",
       "        <p style=\"color: #9D9D9D; margin-bottom: 0px;\">Client-71355011-8800-11ee-9415-00000188fe80</p>\n",
       "        <table style=\"width: 100%; text-align: left;\">\n",
       "\n",
       "        <tr>\n",
       "        \n",
       "            <td style=\"text-align: left;\"><strong>Connection method:</strong> Direct</td>\n",
       "            <td style=\"text-align: left;\"></td>\n",
       "        \n",
       "        </tr>\n",
       "\n",
       "        \n",
       "            <tr>\n",
       "                <td style=\"text-align: left;\">\n",
       "                    <strong>Dashboard: </strong> <a href=\"/proxy/8787/status\" target=\"_blank\">/proxy/8787/status</a>\n",
       "                </td>\n",
       "                <td style=\"text-align: left;\"></td>\n",
       "            </tr>\n",
       "        \n",
       "\n",
       "        </table>\n",
       "\n",
       "        \n",
       "            <button style=\"margin-bottom: 12px;\" data-commandlinker-command=\"dask:populate-and-launch-layout\" data-commandlinker-args='{\"url\": \"/proxy/8787/status\" }'>\n",
       "                Launch dashboard in JupyterLab\n",
       "            </button>\n",
       "        \n",
       "\n",
       "        \n",
       "            <details>\n",
       "            <summary style=\"margin-bottom: 20px;\"><h3 style=\"display: inline;\">Scheduler Info</h3></summary>\n",
       "            <div style=\"\">\n",
       "    <div>\n",
       "        <div style=\"width: 24px; height: 24px; background-color: #FFF7E5; border: 3px solid #FF6132; border-radius: 5px; position: absolute;\"> </div>\n",
       "        <div style=\"margin-left: 48px;\">\n",
       "            <h3 style=\"margin-bottom: 0px;\">Scheduler</h3>\n",
       "            <p style=\"color: #9D9D9D; margin-bottom: 0px;\">Scheduler-25003faa-2f3e-442a-8363-89f1d7ace5ca</p>\n",
       "            <table style=\"width: 100%; text-align: left;\">\n",
       "                <tr>\n",
       "                    <td style=\"text-align: left;\">\n",
       "                        <strong>Comm:</strong> tcp://10.6.62.1:8786\n",
       "                    </td>\n",
       "                    <td style=\"text-align: left;\">\n",
       "                        <strong>Workers:</strong> 1\n",
       "                    </td>\n",
       "                </tr>\n",
       "                <tr>\n",
       "                    <td style=\"text-align: left;\">\n",
       "                        <strong>Dashboard:</strong> <a href=\"/proxy/8787/status\" target=\"_blank\">/proxy/8787/status</a>\n",
       "                    </td>\n",
       "                    <td style=\"text-align: left;\">\n",
       "                        <strong>Total threads:</strong> 12\n",
       "                    </td>\n",
       "                </tr>\n",
       "                <tr>\n",
       "                    <td style=\"text-align: left;\">\n",
       "                        <strong>Started:</strong> Just now\n",
       "                    </td>\n",
       "                    <td style=\"text-align: left;\">\n",
       "                        <strong>Total memory:</strong> 46.00 GiB\n",
       "                    </td>\n",
       "                </tr>\n",
       "            </table>\n",
       "        </div>\n",
       "    </div>\n",
       "\n",
       "    <details style=\"margin-left: 48px;\">\n",
       "        <summary style=\"margin-bottom: 20px;\">\n",
       "            <h3 style=\"display: inline;\">Workers</h3>\n",
       "        </summary>\n",
       "\n",
       "        \n",
       "        <div style=\"margin-bottom: 20px;\">\n",
       "            <div style=\"width: 24px; height: 24px; background-color: #DBF5FF; border: 3px solid #4CC9FF; border-radius: 5px; position: absolute;\"> </div>\n",
       "            <div style=\"margin-left: 48px;\">\n",
       "            <details>\n",
       "                <summary>\n",
       "                    <h4 style=\"margin-bottom: 0px; display: inline;\">Worker: tcp://10.6.62.1:43545</h4>\n",
       "                </summary>\n",
       "                <table style=\"width: 100%; text-align: left;\">\n",
       "                    <tr>\n",
       "                        <td style=\"text-align: left;\">\n",
       "                            <strong>Comm: </strong> tcp://10.6.62.1:43545\n",
       "                        </td>\n",
       "                        <td style=\"text-align: left;\">\n",
       "                            <strong>Total threads: </strong> 12\n",
       "                        </td>\n",
       "                    </tr>\n",
       "                    <tr>\n",
       "                        <td style=\"text-align: left;\">\n",
       "                            <strong>Dashboard: </strong> <a href=\"/proxy/37787/status\" target=\"_blank\">/proxy/37787/status</a>\n",
       "                        </td>\n",
       "                        <td style=\"text-align: left;\">\n",
       "                            <strong>Memory: </strong> 46.00 GiB\n",
       "                        </td>\n",
       "                    </tr>\n",
       "                    <tr>\n",
       "                        <td style=\"text-align: left;\">\n",
       "                            <strong>Nanny: </strong> tcp://10.6.62.1:45395\n",
       "                        </td>\n",
       "                        <td style=\"text-align: left;\"></td>\n",
       "                    </tr>\n",
       "                    <tr>\n",
       "                        <td colspan=\"2\" style=\"text-align: left;\">\n",
       "                            <strong>Local directory: </strong> /scratch/iq82/mp7041/dasktmp/dask-scratch-space/worker-9ij8lwbw\n",
       "                        </td>\n",
       "                    </tr>\n",
       "\n",
       "                    \n",
       "\n",
       "                    \n",
       "                    <tr>\n",
       "                        <td style=\"text-align: left;\">\n",
       "                            <strong>Tasks executing: </strong> \n",
       "                        </td>\n",
       "                        <td style=\"text-align: left;\">\n",
       "                            <strong>Tasks in memory: </strong> \n",
       "                        </td>\n",
       "                    </tr>\n",
       "                    <tr>\n",
       "                        <td style=\"text-align: left;\">\n",
       "                            <strong>Tasks ready: </strong> \n",
       "                        </td>\n",
       "                        <td style=\"text-align: left;\">\n",
       "                            <strong>Tasks in flight: </strong>\n",
       "                        </td>\n",
       "                    </tr>\n",
       "                    <tr>\n",
       "                        <td style=\"text-align: left;\">\n",
       "                            <strong>CPU usage:</strong> 2.0%\n",
       "                        </td>\n",
       "                        <td style=\"text-align: left;\">\n",
       "                            <strong>Last seen: </strong> Just now\n",
       "                        </td>\n",
       "                    </tr>\n",
       "                    <tr>\n",
       "                        <td style=\"text-align: left;\">\n",
       "                            <strong>Memory usage: </strong> 97.48 MiB\n",
       "                        </td>\n",
       "                        <td style=\"text-align: left;\">\n",
       "                            <strong>Spilled bytes: </strong> 0 B\n",
       "                        </td>\n",
       "                    </tr>\n",
       "                    <tr>\n",
       "                        <td style=\"text-align: left;\">\n",
       "                            <strong>Read bytes: </strong> 65.66 kiB\n",
       "                        </td>\n",
       "                        <td style=\"text-align: left;\">\n",
       "                            <strong>Write bytes: </strong> 8.22 kiB\n",
       "                        </td>\n",
       "                    </tr>\n",
       "                    \n",
       "\n",
       "                </table>\n",
       "            </details>\n",
       "            </div>\n",
       "        </div>\n",
       "        \n",
       "\n",
       "    </details>\n",
       "</div>\n",
       "            </details>\n",
       "        \n",
       "\n",
       "    </div>\n",
       "</div>"
      ],
      "text/plain": [
       "<Client: 'tcp://10.6.62.1:8786' processes=1 threads=12, memory=46.00 GiB>"
      ]
     },
     "execution_count": 2,
     "metadata": {},
     "output_type": "execute_result"
    }
   ],
   "source": [
    "client = Client(\"tcp://10.6.62.1:8786\")\n",
    "client"
   ]
  },
  {
   "cell_type": "code",
   "execution_count": null,
   "id": "b902eec2",
   "metadata": {},
   "outputs": [],
   "source": []
  },
  {
   "cell_type": "code",
   "execution_count": 3,
   "id": "76feaa74-52a1-4f27-9f1b-557a321de297",
   "metadata": {},
   "outputs": [],
   "source": [
    "\n",
    "experiment = '01deg_jra55v13_ryf9091'\n",
    "\n",
    "rho_0 = 1035.0 # kg/m^3 reference density\n",
    "g = 9.81\n",
    "\n",
    "# reduce computation by choosing only Southern Ocean latitudes\n",
    "lat_range = slice(-70, -34.99)"
   ]
  },
  {
   "cell_type": "markdown",
   "id": "74e94e0c-00d9-4552-bb2b-74a7a538a700",
   "metadata": {},
   "source": [
    "### Step 1: Load density and quantity being binned \n",
    "(you can choose any other quantity instead of `ty_trans`, e.g. `dzt`. Interpolate density to whatever grid that variable is on)\n",
    "\n",
    "For the simplicity of the demonstrations here, we will **only load two months** of monthly `ty_trans`, `ty_trans_rho` and `pot_rho_2`, then take the time average after we weight with the number of days in each month."
   ]
  },
  {
   "cell_type": "code",
   "execution_count": 4,
   "id": "bebe18ab-8929-4e8b-985c-551be4f02ea8",
   "metadata": {},
   "outputs": [],
   "source": [
    "start_time = '2170-01-01'\n",
    "end_time = '2170-03-01'\n",
    "time_slice = slice(start_time, end_time)"
   ]
  },
  {
   "cell_type": "code",
   "execution_count": 5,
   "id": "99345a56-cc65-44da-8721-aea5467a74ca",
   "metadata": {},
   "outputs": [
    {
     "name": "stdout",
     "output_type": "stream",
     "text": [
      "CPU times: user 8.78 s, sys: 585 ms, total: 9.36 s\n",
      "Wall time: 6min 56s\n"
     ]
    }
   ],
   "source": [
    "%%time\n",
    "cat_subset = catalog[experiment]\n",
    "var_search = cat_subset.search(variable='ty_trans', frequency='1mon')\n",
    "darray = var_search.to_dask()\n",
    "darray = darray['ty_trans']\n",
    "ty_trans = darray\n",
    "ty_trans = ty_trans.sel(time = time_slice).sel(yu_ocean = lat_range)\n",
    "\n",
    "# weighted time-mean by month length\n",
    "days_in_month = ty_trans.time.dt.days_in_month\n",
    "total_days = days_in_month.sum()\n",
    "ty_trans = (ty_trans * days_in_month).sum('time') / total_days"
   ]
  },
  {
   "cell_type": "code",
   "execution_count": 6,
   "id": "4b5de409-b4d4-4067-a7ab-3f465a0efe1d",
   "metadata": {},
   "outputs": [
    {
     "name": "stdout",
     "output_type": "stream",
     "text": [
      "CPU times: user 5.85 s, sys: 482 ms, total: 6.33 s\n",
      "Wall time: 3min 2s\n"
     ]
    }
   ],
   "source": [
    "%%time\n",
    "cat_subset = catalog[experiment]\n",
    "var_search = cat_subset.search(variable='pot_rho_2',frequency='1mon')\n",
    "darray = var_search.to_dask()\n",
    "darray = darray['pot_rho_2']\n",
    "pot_rho_2 = darray\n",
    "pot_rho_2 = pot_rho_2.sel(time = time_slice).sel(yt_ocean = lat_range)\n",
    "pot_rho_2 = (pot_rho_2 * days_in_month).sum('time') / total_days"
   ]
  },
  {
   "cell_type": "code",
   "execution_count": 7,
   "id": "9d40759b-a5de-4827-bfda-490704bc93e0",
   "metadata": {},
   "outputs": [
    {
     "name": "stdout",
     "output_type": "stream",
     "text": [
      "CPU times: user 6.46 s, sys: 448 ms, total: 6.9 s\n",
      "Wall time: 3min 6s\n"
     ]
    }
   ],
   "source": [
    "%%time\n",
    "cat_subset = catalog[experiment]\n",
    "var_search = cat_subset.search(variable='ty_trans_rho',frequency='1mon')\n",
    "darray = var_search.to_dask()\n",
    "darray = darray['ty_trans_rho']\n",
    "ty_trans_rho = darray\n",
    "ty_trans_rho = ty_trans_rho.sel(time = time_slice).sel(grid_yu_ocean = lat_range)\n",
    "ty_trans_rho = (ty_trans_rho * days_in_month).sum('time') / total_days"
   ]
  },
  {
   "cell_type": "markdown",
   "id": "00cb7a08-4c4a-4742-ad36-6db0e648f434",
   "metadata": {},
   "source": [
    "Create an `xgcm` grid for interpolation, and then interpolate density onto the meridional transport grid"
   ]
  },
  {
   "cell_type": "code",
   "execution_count": 8,
   "id": "eb10c7cd-02e8-4bb5-952e-a4e081606a78",
   "metadata": {},
   "outputs": [],
   "source": [
    "ds = xr.Dataset({'ty_trans': ty_trans, 'pot_rho_2': pot_rho_2}) \n",
    "grid = xgcm.Grid(ds, coords = {'Y': {'center': 'yt_ocean', 'right': 'yu_ocean'}}, periodic = False)\n",
    "\n",
    "# interpolate density (t-grid) to ty_trans grid (xt_ocean and yu_ocean)\n",
    "pot_rho_2 = grid.interp(pot_rho_2, 'Y', boundary = 'extend')"
   ]
  },
  {
   "cell_type": "markdown",
   "id": "71635773-a64f-4803-b842-4184be71d4e3",
   "metadata": {},
   "source": [
    "## Method 1: `xhistogram`\n",
    "\n",
    "We use xhistogram, described in https://xhistogram.readthedocs.io/en/latest/. It is a xarray aware method for computing histograms.\n",
    "\n",
    "Computation in xhistogram occurs via the same method as in MOM5 online binning. It is thus most appropriate for an comparisons between offline and online binned quantities.\n",
    "\n",
    "### First, we define the edges of the target bins\n",
    "Output will be an array with coordinate density the linear centre of these bins. If we choose `potrho_edges`, the end result will have coordinates potrho, which is the same as online binned `ty_trans_rho`."
   ]
  },
  {
   "cell_type": "code",
   "execution_count": 16,
   "id": "e514b3bf-dd47-4c36-a28e-ff002c2843c6",
   "metadata": {
    "scrolled": true
   },
   "outputs": [],
   "source": [
    "cat_subset = catalog[experiment]\n",
    "var_search = cat_subset.search(variable='pot_rho_0', frequency='1mon') # previously potrho_edges\n",
    "var_search = var_search.search(path=var_search.df['path'][0])\n",
    "darray = var_search.to_dask()\n",
    "darray = darray['pot_rho_0']\n",
    "darray = darray.sel(time=slice(start_time, end_time))\n",
    "targetbins = darray.values"
   ]
  },
  {
   "cell_type": "markdown",
   "id": "9b43345e-4748-45a7-afbe-3a24f3ad031c",
   "metadata": {},
   "source": [
    "### Now apply the histogram over the vertical dimension `st_ocean` inside the target bins. \n",
    "We include the variable we want to bin in `weights`. This quantity should be extensive, since grid cells vary in sizes, which is true because `ty_trans` is multiplied by the cell size in x and z directions."
   ]
  },
  {
   "cell_type": "code",
   "execution_count": 17,
   "id": "66f8cc4c-a88b-4111-bed6-7b16a84d6594",
   "metadata": {},
   "outputs": [
    {
     "ename": "ValueError",
     "evalue": "Variable 'pot_rho_2_bin': Could not convert tuple of form (dims, data[, attrs, encoding]): (('pot_rho_2_bin',), array([], shape=(0, 75, 2700, 3600), dtype=float32), {}) to Variable.",
     "output_type": "error",
     "traceback": [
      "\u001b[0;31m---------------------------------------------------------------------------\u001b[0m",
      "\u001b[0;31mValueError\u001b[0m                                Traceback (most recent call last)",
      "File \u001b[0;32m/g/data/hh5/public/apps/miniconda3/envs/analysis3-23.07/lib/python3.10/site-packages/xarray/core/variable.py:129\u001b[0m, in \u001b[0;36mas_variable\u001b[0;34m(obj, name)\u001b[0m\n\u001b[1;32m    128\u001b[0m \u001b[38;5;28;01mtry\u001b[39;00m:\n\u001b[0;32m--> 129\u001b[0m     obj \u001b[38;5;241m=\u001b[39m \u001b[43mVariable\u001b[49m\u001b[43m(\u001b[49m\u001b[38;5;241;43m*\u001b[39;49m\u001b[43mobj\u001b[49m\u001b[43m)\u001b[49m\n\u001b[1;32m    130\u001b[0m \u001b[38;5;28;01mexcept\u001b[39;00m (\u001b[38;5;167;01mTypeError\u001b[39;00m, \u001b[38;5;167;01mValueError\u001b[39;00m) \u001b[38;5;28;01mas\u001b[39;00m error:\n",
      "File \u001b[0;32m/g/data/hh5/public/apps/miniconda3/envs/analysis3-23.07/lib/python3.10/site-packages/xarray/core/variable.py:364\u001b[0m, in \u001b[0;36mVariable.__init__\u001b[0;34m(self, dims, data, attrs, encoding, fastpath)\u001b[0m\n\u001b[1;32m    345\u001b[0m \u001b[38;5;250m\u001b[39m\u001b[38;5;124;03m\"\"\"\u001b[39;00m\n\u001b[1;32m    346\u001b[0m \u001b[38;5;124;03mParameters\u001b[39;00m\n\u001b[1;32m    347\u001b[0m \u001b[38;5;124;03m----------\u001b[39;00m\n\u001b[0;32m   (...)\u001b[0m\n\u001b[1;32m    362\u001b[0m \u001b[38;5;124;03m    unrecognized encoding items.\u001b[39;00m\n\u001b[1;32m    363\u001b[0m \u001b[38;5;124;03m\"\"\"\u001b[39;00m\n\u001b[0;32m--> 364\u001b[0m \u001b[38;5;28;43msuper\u001b[39;49m\u001b[43m(\u001b[49m\u001b[43m)\u001b[49m\u001b[38;5;241;43m.\u001b[39;49m\u001b[38;5;21;43m__init__\u001b[39;49m\u001b[43m(\u001b[49m\n\u001b[1;32m    365\u001b[0m \u001b[43m    \u001b[49m\u001b[43mdims\u001b[49m\u001b[38;5;241;43m=\u001b[39;49m\u001b[43mdims\u001b[49m\u001b[43m,\u001b[49m\u001b[43m \u001b[49m\u001b[43mdata\u001b[49m\u001b[38;5;241;43m=\u001b[39;49m\u001b[43mas_compatible_data\u001b[49m\u001b[43m(\u001b[49m\u001b[43mdata\u001b[49m\u001b[43m,\u001b[49m\u001b[43m \u001b[49m\u001b[43mfastpath\u001b[49m\u001b[38;5;241;43m=\u001b[39;49m\u001b[43mfastpath\u001b[49m\u001b[43m)\u001b[49m\u001b[43m,\u001b[49m\u001b[43m \u001b[49m\u001b[43mattrs\u001b[49m\u001b[38;5;241;43m=\u001b[39;49m\u001b[43mattrs\u001b[49m\n\u001b[1;32m    366\u001b[0m \u001b[43m\u001b[49m\u001b[43m)\u001b[49m\n\u001b[1;32m    368\u001b[0m \u001b[38;5;28mself\u001b[39m\u001b[38;5;241m.\u001b[39m_encoding \u001b[38;5;241m=\u001b[39m \u001b[38;5;28;01mNone\u001b[39;00m\n",
      "File \u001b[0;32m/g/data/hh5/public/apps/miniconda3/envs/analysis3-23.07/lib/python3.10/site-packages/xarray/namedarray/core.py:252\u001b[0m, in \u001b[0;36mNamedArray.__init__\u001b[0;34m(self, dims, data, attrs)\u001b[0m\n\u001b[1;32m    251\u001b[0m \u001b[38;5;28mself\u001b[39m\u001b[38;5;241m.\u001b[39m_data \u001b[38;5;241m=\u001b[39m data\n\u001b[0;32m--> 252\u001b[0m \u001b[38;5;28mself\u001b[39m\u001b[38;5;241m.\u001b[39m_dims \u001b[38;5;241m=\u001b[39m \u001b[38;5;28;43mself\u001b[39;49m\u001b[38;5;241;43m.\u001b[39;49m\u001b[43m_parse_dimensions\u001b[49m\u001b[43m(\u001b[49m\u001b[43mdims\u001b[49m\u001b[43m)\u001b[49m\n\u001b[1;32m    253\u001b[0m \u001b[38;5;28mself\u001b[39m\u001b[38;5;241m.\u001b[39m_attrs \u001b[38;5;241m=\u001b[39m \u001b[38;5;28mdict\u001b[39m(attrs) \u001b[38;5;28;01mif\u001b[39;00m attrs \u001b[38;5;28;01melse\u001b[39;00m \u001b[38;5;28;01mNone\u001b[39;00m\n",
      "File \u001b[0;32m/g/data/hh5/public/apps/miniconda3/envs/analysis3-23.07/lib/python3.10/site-packages/xarray/namedarray/core.py:480\u001b[0m, in \u001b[0;36mNamedArray._parse_dimensions\u001b[0;34m(self, dims)\u001b[0m\n\u001b[1;32m    479\u001b[0m \u001b[38;5;28;01mif\u001b[39;00m \u001b[38;5;28mlen\u001b[39m(dims) \u001b[38;5;241m!=\u001b[39m \u001b[38;5;28mself\u001b[39m\u001b[38;5;241m.\u001b[39mndim:\n\u001b[0;32m--> 480\u001b[0m     \u001b[38;5;28;01mraise\u001b[39;00m \u001b[38;5;167;01mValueError\u001b[39;00m(\n\u001b[1;32m    481\u001b[0m         \u001b[38;5;124mf\u001b[39m\u001b[38;5;124m\"\u001b[39m\u001b[38;5;124mdimensions \u001b[39m\u001b[38;5;132;01m{\u001b[39;00mdims\u001b[38;5;132;01m}\u001b[39;00m\u001b[38;5;124m must have the same length as the \u001b[39m\u001b[38;5;124m\"\u001b[39m\n\u001b[1;32m    482\u001b[0m         \u001b[38;5;124mf\u001b[39m\u001b[38;5;124m\"\u001b[39m\u001b[38;5;124mnumber of data dimensions, ndim=\u001b[39m\u001b[38;5;132;01m{\u001b[39;00m\u001b[38;5;28mself\u001b[39m\u001b[38;5;241m.\u001b[39mndim\u001b[38;5;132;01m}\u001b[39;00m\u001b[38;5;124m\"\u001b[39m\n\u001b[1;32m    483\u001b[0m     )\n\u001b[1;32m    484\u001b[0m \u001b[38;5;28;01mreturn\u001b[39;00m dims\n",
      "\u001b[0;31mValueError\u001b[0m: dimensions ('pot_rho_2_bin',) must have the same length as the number of data dimensions, ndim=4",
      "\nDuring handling of the above exception, another exception occurred:\n",
      "\u001b[0;31mValueError\u001b[0m                                Traceback (most recent call last)",
      "Cell \u001b[0;32mIn[17], line 5\u001b[0m\n\u001b[1;32m      2\u001b[0m ty_trans \u001b[38;5;241m=\u001b[39m ty_trans\u001b[38;5;241m.\u001b[39mrename(\u001b[38;5;124m'\u001b[39m\u001b[38;5;124mty_trans\u001b[39m\u001b[38;5;124m'\u001b[39m)\n\u001b[1;32m      3\u001b[0m pot_rho_2 \u001b[38;5;241m=\u001b[39m pot_rho_2\u001b[38;5;241m.\u001b[39mrename(\u001b[38;5;124m'\u001b[39m\u001b[38;5;124mpot_rho_2\u001b[39m\u001b[38;5;124m'\u001b[39m)\n\u001b[0;32m----> 5\u001b[0m ty_trans_mean \u001b[38;5;241m=\u001b[39m \u001b[43mhistogram\u001b[49m\u001b[43m(\u001b[49m\u001b[43mpot_rho_2\u001b[49m\u001b[43m,\u001b[49m\u001b[43m \u001b[49m\n\u001b[1;32m      6\u001b[0m \u001b[43m                          \u001b[49m\u001b[43mbins\u001b[49m\u001b[43m \u001b[49m\u001b[38;5;241;43m=\u001b[39;49m\u001b[43m \u001b[49m\u001b[43m[\u001b[49m\u001b[43mtargetbins\u001b[49m\u001b[43m]\u001b[49m\u001b[43m,\u001b[49m\u001b[43m \u001b[49m\n\u001b[1;32m      7\u001b[0m \u001b[43m                          \u001b[49m\u001b[43mdim\u001b[49m\u001b[43m \u001b[49m\u001b[38;5;241;43m=\u001b[39;49m\u001b[43m \u001b[49m\u001b[43m[\u001b[49m\u001b[38;5;124;43m'\u001b[39;49m\u001b[38;5;124;43mst_ocean\u001b[39;49m\u001b[38;5;124;43m'\u001b[39;49m\u001b[43m]\u001b[49m\u001b[43m,\u001b[49m\n\u001b[1;32m      8\u001b[0m \u001b[43m                          \u001b[49m\u001b[43mweights\u001b[49m\u001b[43m \u001b[49m\u001b[38;5;241;43m=\u001b[39;49m\u001b[43m \u001b[49m\u001b[43mty_trans\u001b[49m\u001b[43m)\u001b[49m\u001b[38;5;241m.\u001b[39mrename({pot_rho_2\u001b[38;5;241m.\u001b[39mname \u001b[38;5;241m+\u001b[39m \u001b[38;5;124m'\u001b[39m\u001b[38;5;124m_bin\u001b[39m\u001b[38;5;124m'\u001b[39m: \u001b[38;5;124m'\u001b[39m\u001b[38;5;124mpotrho\u001b[39m\u001b[38;5;124m'\u001b[39m,\n\u001b[1;32m      9\u001b[0m                                                      \u001b[38;5;124m'\u001b[39m\u001b[38;5;124mxt_ocean\u001b[39m\u001b[38;5;124m'\u001b[39m: \u001b[38;5;124m'\u001b[39m\u001b[38;5;124mgrid_xt_ocean\u001b[39m\u001b[38;5;124m'\u001b[39m,\n\u001b[1;32m     10\u001b[0m                                                      \u001b[38;5;124m'\u001b[39m\u001b[38;5;124myu_ocean\u001b[39m\u001b[38;5;124m'\u001b[39m: \u001b[38;5;124m'\u001b[39m\u001b[38;5;124mgrid_yu_ocean\u001b[39m\u001b[38;5;124m'\u001b[39m})\n",
      "File \u001b[0;32m/g/data/hh5/public/apps/miniconda3/envs/analysis3-23.07/lib/python3.10/site-packages/xhistogram/xarray.py:199\u001b[0m, in \u001b[0;36mhistogram\u001b[0;34m(bins, range, dim, weights, density, block_size, keep_coords, bin_dim_suffix, *args)\u001b[0m\n\u001b[1;32m    195\u001b[0m             all_coords[c] \u001b[38;5;241m=\u001b[39m a0[c]\n\u001b[1;32m    197\u001b[0m output_name \u001b[38;5;241m=\u001b[39m \u001b[38;5;124m\"\u001b[39m\u001b[38;5;124m_\u001b[39m\u001b[38;5;124m\"\u001b[39m\u001b[38;5;241m.\u001b[39mjoin([\u001b[38;5;124m\"\u001b[39m\u001b[38;5;124mhistogram\u001b[39m\u001b[38;5;124m\"\u001b[39m] \u001b[38;5;241m+\u001b[39m [a\u001b[38;5;241m.\u001b[39mname \u001b[38;5;28;01mfor\u001b[39;00m a \u001b[38;5;129;01min\u001b[39;00m args[:N_args]])\n\u001b[0;32m--> 199\u001b[0m da_out \u001b[38;5;241m=\u001b[39m \u001b[43mxr\u001b[49m\u001b[38;5;241;43m.\u001b[39;49m\u001b[43mDataArray\u001b[49m\u001b[43m(\u001b[49m\u001b[43mh_data\u001b[49m\u001b[43m,\u001b[49m\u001b[43m \u001b[49m\u001b[43mdims\u001b[49m\u001b[38;5;241;43m=\u001b[39;49m\u001b[43moutput_dims\u001b[49m\u001b[43m,\u001b[49m\u001b[43m \u001b[49m\u001b[43mcoords\u001b[49m\u001b[38;5;241;43m=\u001b[39;49m\u001b[43mall_coords\u001b[49m\u001b[43m,\u001b[49m\u001b[43m \u001b[49m\u001b[43mname\u001b[49m\u001b[38;5;241;43m=\u001b[39;49m\u001b[43moutput_name\u001b[49m\u001b[43m)\u001b[49m\n\u001b[1;32m    201\u001b[0m \u001b[38;5;28;01mreturn\u001b[39;00m da_out\n",
      "File \u001b[0;32m/g/data/hh5/public/apps/miniconda3/envs/analysis3-23.07/lib/python3.10/site-packages/xarray/core/dataarray.py:450\u001b[0m, in \u001b[0;36mDataArray.__init__\u001b[0;34m(self, data, coords, dims, name, attrs, indexes, fastpath)\u001b[0m\n\u001b[1;32m    448\u001b[0m data \u001b[38;5;241m=\u001b[39m _check_data_shape(data, coords, dims)\n\u001b[1;32m    449\u001b[0m data \u001b[38;5;241m=\u001b[39m as_compatible_data(data)\n\u001b[0;32m--> 450\u001b[0m coords, dims \u001b[38;5;241m=\u001b[39m \u001b[43m_infer_coords_and_dims\u001b[49m\u001b[43m(\u001b[49m\u001b[43mdata\u001b[49m\u001b[38;5;241;43m.\u001b[39;49m\u001b[43mshape\u001b[49m\u001b[43m,\u001b[49m\u001b[43m \u001b[49m\u001b[43mcoords\u001b[49m\u001b[43m,\u001b[49m\u001b[43m \u001b[49m\u001b[43mdims\u001b[49m\u001b[43m)\u001b[49m\n\u001b[1;32m    451\u001b[0m variable \u001b[38;5;241m=\u001b[39m Variable(dims, data, attrs, fastpath\u001b[38;5;241m=\u001b[39m\u001b[38;5;28;01mTrue\u001b[39;00m)\n\u001b[1;32m    453\u001b[0m \u001b[38;5;28;01mif\u001b[39;00m \u001b[38;5;129;01mnot\u001b[39;00m \u001b[38;5;28misinstance\u001b[39m(coords, Coordinates):\n",
      "File \u001b[0;32m/g/data/hh5/public/apps/miniconda3/envs/analysis3-23.07/lib/python3.10/site-packages/xarray/core/dataarray.py:190\u001b[0m, in \u001b[0;36m_infer_coords_and_dims\u001b[0;34m(shape, coords, dims)\u001b[0m\n\u001b[1;32m    188\u001b[0m \u001b[38;5;28;01mif\u001b[39;00m utils\u001b[38;5;241m.\u001b[39mis_dict_like(coords):\n\u001b[1;32m    189\u001b[0m     \u001b[38;5;28;01mfor\u001b[39;00m k, v \u001b[38;5;129;01min\u001b[39;00m coords\u001b[38;5;241m.\u001b[39mitems():\n\u001b[0;32m--> 190\u001b[0m         new_coords[k] \u001b[38;5;241m=\u001b[39m \u001b[43mas_variable\u001b[49m\u001b[43m(\u001b[49m\u001b[43mv\u001b[49m\u001b[43m,\u001b[49m\u001b[43m \u001b[49m\u001b[43mname\u001b[49m\u001b[38;5;241;43m=\u001b[39;49m\u001b[43mk\u001b[49m\u001b[43m)\u001b[49m\n\u001b[1;32m    191\u001b[0m \u001b[38;5;28;01melif\u001b[39;00m coords \u001b[38;5;129;01mis\u001b[39;00m \u001b[38;5;129;01mnot\u001b[39;00m \u001b[38;5;28;01mNone\u001b[39;00m:\n\u001b[1;32m    192\u001b[0m     \u001b[38;5;28;01mfor\u001b[39;00m dim, coord \u001b[38;5;129;01min\u001b[39;00m \u001b[38;5;28mzip\u001b[39m(dims, coords):\n",
      "File \u001b[0;32m/g/data/hh5/public/apps/miniconda3/envs/analysis3-23.07/lib/python3.10/site-packages/xarray/core/variable.py:131\u001b[0m, in \u001b[0;36mas_variable\u001b[0;34m(obj, name)\u001b[0m\n\u001b[1;32m    129\u001b[0m         obj \u001b[38;5;241m=\u001b[39m Variable(\u001b[38;5;241m*\u001b[39mobj)\n\u001b[1;32m    130\u001b[0m     \u001b[38;5;28;01mexcept\u001b[39;00m (\u001b[38;5;167;01mTypeError\u001b[39;00m, \u001b[38;5;167;01mValueError\u001b[39;00m) \u001b[38;5;28;01mas\u001b[39;00m error:\n\u001b[0;32m--> 131\u001b[0m         \u001b[38;5;28;01mraise\u001b[39;00m error\u001b[38;5;241m.\u001b[39m\u001b[38;5;18m__class__\u001b[39m(\n\u001b[1;32m    132\u001b[0m             \u001b[38;5;124mf\u001b[39m\u001b[38;5;124m\"\u001b[39m\u001b[38;5;124mVariable \u001b[39m\u001b[38;5;132;01m{\u001b[39;00mname\u001b[38;5;132;01m!r}\u001b[39;00m\u001b[38;5;124m: Could not convert tuple of form \u001b[39m\u001b[38;5;124m\"\u001b[39m\n\u001b[1;32m    133\u001b[0m             \u001b[38;5;124mf\u001b[39m\u001b[38;5;124m\"\u001b[39m\u001b[38;5;124m(dims, data[, attrs, encoding]): \u001b[39m\u001b[38;5;132;01m{\u001b[39;00mobj\u001b[38;5;132;01m}\u001b[39;00m\u001b[38;5;124m to Variable.\u001b[39m\u001b[38;5;124m\"\u001b[39m\n\u001b[1;32m    134\u001b[0m         )\n\u001b[1;32m    135\u001b[0m \u001b[38;5;28;01melif\u001b[39;00m utils\u001b[38;5;241m.\u001b[39mis_scalar(obj):\n\u001b[1;32m    136\u001b[0m     obj \u001b[38;5;241m=\u001b[39m Variable([], obj)\n",
      "\u001b[0;31mValueError\u001b[0m: Variable 'pot_rho_2_bin': Could not convert tuple of form (dims, data[, attrs, encoding]): (('pot_rho_2_bin',), array([], shape=(0, 75, 2700, 3600), dtype=float32), {}) to Variable."
     ]
    }
   ],
   "source": [
    "# Make sure the variables have a name, otherwise xhistogram doesn't know what to call the bins\n",
    "ty_trans = ty_trans.rename('ty_trans')\n",
    "pot_rho_2 = pot_rho_2.rename('pot_rho_2')\n",
    "\n",
    "ty_trans_mean = histogram(pot_rho_2, \n",
    "                          bins = [targetbins], \n",
    "                          dim = ['st_ocean'],\n",
    "                          weights = ty_trans).rename({pot_rho_2.name + '_bin': 'potrho',\n",
    "                                                     'xt_ocean': 'grid_xt_ocean',\n",
    "                                                     'yu_ocean': 'grid_yu_ocean'})"
   ]
  },
  {
   "cell_type": "code",
   "execution_count": 18,
   "id": "5f662b5a-9f4f-4e27-b883-66f2002e10b6",
   "metadata": {},
   "outputs": [
    {
     "ename": "NameError",
     "evalue": "name 'ty_trans_mean' is not defined",
     "output_type": "error",
     "traceback": [
      "\u001b[0;31m---------------------------------------------------------------------------\u001b[0m",
      "\u001b[0;31mNameError\u001b[0m                                 Traceback (most recent call last)",
      "File \u001b[0;32m<timed exec>:1\u001b[0m\n",
      "\u001b[0;31mNameError\u001b[0m: name 'ty_trans_mean' is not defined"
     ]
    }
   ],
   "source": [
    "%%time\n",
    "ty_trans_mean = ty_trans_mean.load()"
   ]
  },
  {
   "cell_type": "markdown",
   "id": "b2d3e7bd-246a-4c25-a724-8300ff0bbdd9",
   "metadata": {},
   "source": [
    "### Now define meridional overturning streamfunctions as a cumulative sum of transport from the bottom of the ocean."
   ]
  },
  {
   "cell_type": "code",
   "execution_count": 19,
   "id": "919e537e-c139-46ac-bfd1-b599480687f2",
   "metadata": {},
   "outputs": [],
   "source": [
    "def cumsum_from_bottom(residual):\n",
    "    cumsum = residual.cumsum('potrho') - residual.sum('potrho')\n",
    "    return cumsum"
   ]
  },
  {
   "cell_type": "code",
   "execution_count": 20,
   "id": "380adee2-f0b2-4670-b01d-36ac7ac3cbad",
   "metadata": {},
   "outputs": [
    {
     "ename": "KeyboardInterrupt",
     "evalue": "",
     "output_type": "error",
     "traceback": [
      "\u001b[0;31m---------------------------------------------------------------------------\u001b[0m",
      "\u001b[0;31mKeyboardInterrupt\u001b[0m                         Traceback (most recent call last)",
      "File \u001b[0;32m<timed exec>:1\u001b[0m\n",
      "File \u001b[0;32m/g/data/hh5/public/apps/miniconda3/envs/analysis3-23.07/lib/python3.10/site-packages/xarray/core/dataarray.py:1122\u001b[0m, in \u001b[0;36mDataArray.load\u001b[0;34m(self, **kwargs)\u001b[0m\n\u001b[1;32m   1104\u001b[0m \u001b[38;5;28;01mdef\u001b[39;00m \u001b[38;5;21mload\u001b[39m(\u001b[38;5;28mself\u001b[39m, \u001b[38;5;241m*\u001b[39m\u001b[38;5;241m*\u001b[39mkwargs) \u001b[38;5;241m-\u001b[39m\u001b[38;5;241m>\u001b[39m Self:\n\u001b[1;32m   1105\u001b[0m \u001b[38;5;250m    \u001b[39m\u001b[38;5;124;03m\"\"\"Manually trigger loading of this array's data from disk or a\u001b[39;00m\n\u001b[1;32m   1106\u001b[0m \u001b[38;5;124;03m    remote source into memory and return this array.\u001b[39;00m\n\u001b[1;32m   1107\u001b[0m \n\u001b[0;32m   (...)\u001b[0m\n\u001b[1;32m   1120\u001b[0m \u001b[38;5;124;03m    dask.compute\u001b[39;00m\n\u001b[1;32m   1121\u001b[0m \u001b[38;5;124;03m    \"\"\"\u001b[39;00m\n\u001b[0;32m-> 1122\u001b[0m     ds \u001b[38;5;241m=\u001b[39m \u001b[38;5;28;43mself\u001b[39;49m\u001b[38;5;241;43m.\u001b[39;49m\u001b[43m_to_temp_dataset\u001b[49m\u001b[43m(\u001b[49m\u001b[43m)\u001b[49m\u001b[38;5;241;43m.\u001b[39;49m\u001b[43mload\u001b[49m\u001b[43m(\u001b[49m\u001b[38;5;241;43m*\u001b[39;49m\u001b[38;5;241;43m*\u001b[39;49m\u001b[43mkwargs\u001b[49m\u001b[43m)\u001b[49m\n\u001b[1;32m   1123\u001b[0m     new \u001b[38;5;241m=\u001b[39m \u001b[38;5;28mself\u001b[39m\u001b[38;5;241m.\u001b[39m_from_temp_dataset(ds)\n\u001b[1;32m   1124\u001b[0m     \u001b[38;5;28mself\u001b[39m\u001b[38;5;241m.\u001b[39m_variable \u001b[38;5;241m=\u001b[39m new\u001b[38;5;241m.\u001b[39m_variable\n",
      "File \u001b[0;32m/g/data/hh5/public/apps/miniconda3/envs/analysis3-23.07/lib/python3.10/site-packages/xarray/core/dataset.py:847\u001b[0m, in \u001b[0;36mDataset.load\u001b[0;34m(self, **kwargs)\u001b[0m\n\u001b[1;32m    844\u001b[0m chunkmanager \u001b[38;5;241m=\u001b[39m get_chunked_array_type(\u001b[38;5;241m*\u001b[39mlazy_data\u001b[38;5;241m.\u001b[39mvalues())\n\u001b[1;32m    846\u001b[0m \u001b[38;5;66;03m# evaluate all the chunked arrays simultaneously\u001b[39;00m\n\u001b[0;32m--> 847\u001b[0m evaluated_data \u001b[38;5;241m=\u001b[39m \u001b[43mchunkmanager\u001b[49m\u001b[38;5;241;43m.\u001b[39;49m\u001b[43mcompute\u001b[49m\u001b[43m(\u001b[49m\u001b[38;5;241;43m*\u001b[39;49m\u001b[43mlazy_data\u001b[49m\u001b[38;5;241;43m.\u001b[39;49m\u001b[43mvalues\u001b[49m\u001b[43m(\u001b[49m\u001b[43m)\u001b[49m\u001b[43m,\u001b[49m\u001b[43m \u001b[49m\u001b[38;5;241;43m*\u001b[39;49m\u001b[38;5;241;43m*\u001b[39;49m\u001b[43mkwargs\u001b[49m\u001b[43m)\u001b[49m\n\u001b[1;32m    849\u001b[0m \u001b[38;5;28;01mfor\u001b[39;00m k, data \u001b[38;5;129;01min\u001b[39;00m \u001b[38;5;28mzip\u001b[39m(lazy_data, evaluated_data):\n\u001b[1;32m    850\u001b[0m     \u001b[38;5;28mself\u001b[39m\u001b[38;5;241m.\u001b[39mvariables[k]\u001b[38;5;241m.\u001b[39mdata \u001b[38;5;241m=\u001b[39m data\n",
      "File \u001b[0;32m/g/data/hh5/public/apps/miniconda3/envs/analysis3-23.07/lib/python3.10/site-packages/xarray/core/daskmanager.py:70\u001b[0m, in \u001b[0;36mDaskManager.compute\u001b[0;34m(self, *data, **kwargs)\u001b[0m\n\u001b[1;32m     67\u001b[0m \u001b[38;5;28;01mdef\u001b[39;00m \u001b[38;5;21mcompute\u001b[39m(\u001b[38;5;28mself\u001b[39m, \u001b[38;5;241m*\u001b[39mdata: DaskArray, \u001b[38;5;241m*\u001b[39m\u001b[38;5;241m*\u001b[39mkwargs) \u001b[38;5;241m-\u001b[39m\u001b[38;5;241m>\u001b[39m \u001b[38;5;28mtuple\u001b[39m[np\u001b[38;5;241m.\u001b[39mndarray, \u001b[38;5;241m.\u001b[39m\u001b[38;5;241m.\u001b[39m\u001b[38;5;241m.\u001b[39m]:\n\u001b[1;32m     68\u001b[0m     \u001b[38;5;28;01mfrom\u001b[39;00m \u001b[38;5;21;01mdask\u001b[39;00m\u001b[38;5;21;01m.\u001b[39;00m\u001b[38;5;21;01marray\u001b[39;00m \u001b[38;5;28;01mimport\u001b[39;00m compute\n\u001b[0;32m---> 70\u001b[0m     \u001b[38;5;28;01mreturn\u001b[39;00m \u001b[43mcompute\u001b[49m\u001b[43m(\u001b[49m\u001b[38;5;241;43m*\u001b[39;49m\u001b[43mdata\u001b[49m\u001b[43m,\u001b[49m\u001b[43m \u001b[49m\u001b[38;5;241;43m*\u001b[39;49m\u001b[38;5;241;43m*\u001b[39;49m\u001b[43mkwargs\u001b[49m\u001b[43m)\u001b[49m\n",
      "File \u001b[0;32m/g/data/hh5/public/apps/miniconda3/envs/analysis3-23.07/lib/python3.10/site-packages/dask/base.py:628\u001b[0m, in \u001b[0;36mcompute\u001b[0;34m(traverse, optimize_graph, scheduler, get, *args, **kwargs)\u001b[0m\n\u001b[1;32m    625\u001b[0m     postcomputes\u001b[38;5;241m.\u001b[39mappend(x\u001b[38;5;241m.\u001b[39m__dask_postcompute__())\n\u001b[1;32m    627\u001b[0m \u001b[38;5;28;01mwith\u001b[39;00m shorten_traceback():\n\u001b[0;32m--> 628\u001b[0m     results \u001b[38;5;241m=\u001b[39m \u001b[43mschedule\u001b[49m\u001b[43m(\u001b[49m\u001b[43mdsk\u001b[49m\u001b[43m,\u001b[49m\u001b[43m \u001b[49m\u001b[43mkeys\u001b[49m\u001b[43m,\u001b[49m\u001b[43m \u001b[49m\u001b[38;5;241;43m*\u001b[39;49m\u001b[38;5;241;43m*\u001b[39;49m\u001b[43mkwargs\u001b[49m\u001b[43m)\u001b[49m\n\u001b[1;32m    630\u001b[0m \u001b[38;5;28;01mreturn\u001b[39;00m repack([f(r, \u001b[38;5;241m*\u001b[39ma) \u001b[38;5;28;01mfor\u001b[39;00m r, (f, a) \u001b[38;5;129;01min\u001b[39;00m \u001b[38;5;28mzip\u001b[39m(results, postcomputes)])\n",
      "File \u001b[0;32m/g/data/hh5/public/apps/miniconda3/envs/analysis3-23.07/lib/python3.10/threading.py:607\u001b[0m, in \u001b[0;36mEvent.wait\u001b[0;34m(self, timeout)\u001b[0m\n\u001b[1;32m    605\u001b[0m signaled \u001b[38;5;241m=\u001b[39m \u001b[38;5;28mself\u001b[39m\u001b[38;5;241m.\u001b[39m_flag\n\u001b[1;32m    606\u001b[0m \u001b[38;5;28;01mif\u001b[39;00m \u001b[38;5;129;01mnot\u001b[39;00m signaled:\n\u001b[0;32m--> 607\u001b[0m     signaled \u001b[38;5;241m=\u001b[39m \u001b[38;5;28;43mself\u001b[39;49m\u001b[38;5;241;43m.\u001b[39;49m\u001b[43m_cond\u001b[49m\u001b[38;5;241;43m.\u001b[39;49m\u001b[43mwait\u001b[49m\u001b[43m(\u001b[49m\u001b[43mtimeout\u001b[49m\u001b[43m)\u001b[49m\n\u001b[1;32m    608\u001b[0m \u001b[38;5;28;01mreturn\u001b[39;00m signaled\n",
      "File \u001b[0;32m/g/data/hh5/public/apps/miniconda3/envs/analysis3-23.07/lib/python3.10/threading.py:324\u001b[0m, in \u001b[0;36mCondition.wait\u001b[0;34m(self, timeout)\u001b[0m\n\u001b[1;32m    322\u001b[0m \u001b[38;5;28;01melse\u001b[39;00m:\n\u001b[1;32m    323\u001b[0m     \u001b[38;5;28;01mif\u001b[39;00m timeout \u001b[38;5;241m>\u001b[39m \u001b[38;5;241m0\u001b[39m:\n\u001b[0;32m--> 324\u001b[0m         gotit \u001b[38;5;241m=\u001b[39m \u001b[43mwaiter\u001b[49m\u001b[38;5;241;43m.\u001b[39;49m\u001b[43macquire\u001b[49m\u001b[43m(\u001b[49m\u001b[38;5;28;43;01mTrue\u001b[39;49;00m\u001b[43m,\u001b[49m\u001b[43m \u001b[49m\u001b[43mtimeout\u001b[49m\u001b[43m)\u001b[49m\n\u001b[1;32m    325\u001b[0m     \u001b[38;5;28;01melse\u001b[39;00m:\n\u001b[1;32m    326\u001b[0m         gotit \u001b[38;5;241m=\u001b[39m waiter\u001b[38;5;241m.\u001b[39macquire(\u001b[38;5;28;01mFalse\u001b[39;00m)\n",
      "\u001b[0;31mKeyboardInterrupt\u001b[0m: "
     ]
    }
   ],
   "source": [
    "%%time\n",
    "psi_avg = cumsum_from_bottom(ty_trans_rho.sum('grid_xt_ocean') / (1e6 * rho_0)).load() # .load() since we'll use it a few times in this notebook\n",
    "\n",
    "psi_avg_mean = cumsum_from_bottom(ty_trans_mean.sum('grid_xt_ocean') / (1e6 * rho_0))"
   ]
  },
  {
   "cell_type": "markdown",
   "id": "4bbe9e23-c487-4769-a6d1-14f2b3096e75",
   "metadata": {},
   "source": [
    "### Plot streamfunctions of the residual, mean (what we just computed) and eddy (the difference) streamfunctions"
   ]
  },
  {
   "cell_type": "code",
   "execution_count": null,
   "id": "8f4ed670-6a0e-4b52-a8ec-a6cef918f0f5",
   "metadata": {},
   "outputs": [],
   "source": [
    "%%time\n",
    "fig, axes = plt.subplots(nrows = 1, ncols = 3, figsize = (15, 4))\n",
    "\n",
    "levels = np.linspace(-25, 25, 26)\n",
    "\n",
    "psi_avg.plot.contourf(ax = axes[0], x = 'grid_yu_ocean', levels = levels, add_colorbar = False)\n",
    "\n",
    "psi_avg_mean.plot.contourf(ax = axes[1], x = 'grid_yu_ocean', levels = levels, add_colorbar = False)\n",
    "\n",
    "p = (psi_avg - psi_avg_mean).plot.contourf(ax = axes[2], x = 'grid_yu_ocean', levels = levels, add_colorbar = False)\n",
    "\n",
    "cbar_ax = fig.add_axes([0.92, 0.15, 0.01, 0.7])\n",
    "fig.colorbar(p, cax=cbar_ax, label='Transport (Sv)')\n",
    "\n",
    "axes[0].set_title('Residual')\n",
    "axes[1].set_title('Mean')\n",
    "axes[2].set_title('Eddy')\n",
    "\n",
    "for ax in axes:\n",
    "    ax.set_ylim(1037.5, 1032)\n",
    "    ax.set_xlim(-70, -35);"
   ]
  },
  {
   "cell_type": "markdown",
   "id": "eaaafc08-1df8-4e26-9663-624b5fb8cf65",
   "metadata": {},
   "source": [
    "## Method 2: `xgcm`\n",
    "\n",
    "Use `xgcm` conservative binning, described in the tutorial available in `xgcm` documentation: https://xgcm.readthedocs.io/en/stable/transform.html\n",
    "\n",
    "This method results in a smoother vertical distribution than `xhistogram`, as it is not quite a histogram but does some interpolation to the top and bottom of each vertical cell. We have found that the computation currently has issues with interior land boundaries: `xgcm` isn't able to compute partial cells at the bottom of the ocean in MOM5. We thus add a correction after the computation to ensure that vertical integrals are preserved and thus that streamfunctions calculated are closed."
   ]
  },
  {
   "cell_type": "markdown",
   "id": "9e46418e-89b7-449f-bab7-1f259239a55d",
   "metadata": {},
   "source": [
    "### Load vertical grid bin centres and edges"
   ]
  },
  {
   "cell_type": "code",
   "execution_count": null,
   "id": "964e2221-c7fa-43ec-aea7-8030eb4c9a6c",
   "metadata": {},
   "outputs": [],
   "source": [
    "%%time\n",
    "\n",
    "cat_subset = catalog[experiment]\n",
    "var_search = cat_subset.search(variable='st_ocean')\n",
    "var_search = var_search.search(path=var_search.df['path'][0])\n",
    "darray = var_search.to_dask()\n",
    "darray = darray['st_ocean']\n",
    "st_ocean = darray\n",
    "cat_subset = catalog[experiment]\n",
    "var_search = cat_subset.search(variable='st_edges_ocean')\n",
    "var_search = var_search.search(path=var_search.df['path'][0])\n",
    "darray = var_search.to_dask()\n",
    "darray = darray['st_edges_ocean']\n",
    "st_edges_ocean = darray"
   ]
  },
  {
   "cell_type": "markdown",
   "id": "58336fe8-d59d-4489-903a-af25ad35024a",
   "metadata": {},
   "source": [
    "### Define edge of target density bins"
   ]
  },
  {
   "cell_type": "code",
   "execution_count": null,
   "id": "874a9140-cbe8-49e4-a7b5-8a06aaf4b3c4",
   "metadata": {},
   "outputs": [],
   "source": [
    "cat_subset = catalog[experiment]\n",
    "var_search = cat_subset.search(variable='potrho_edges', frequency='1 monthly')\n",
    "var_search = var_search.search(path=var_search.df['path'][0])\n",
    "darray = var_search.to_dask()\n",
    "darray = darray['potrho_edges']\n",
    "darray = darray.sel(time=slice(start_time, end_time))\n",
    "pot_rho_2_target = darray.values"
   ]
  },
  {
   "cell_type": "markdown",
   "id": "93d9620f-60be-482a-932a-ebaf72524cce",
   "metadata": {},
   "source": [
    "### Calculate vertical regridding into density coordinates"
   ]
  },
  {
   "cell_type": "code",
   "execution_count": null,
   "id": "bac76fee-60cf-447e-8ffc-7aa443680285",
   "metadata": {},
   "outputs": [],
   "source": [
    "%%time\n",
    "\n",
    "ds = xr.Dataset({'ty_trans': ty_trans, 'pot_rho_2': pot_rho_2})\n",
    "\n",
    "# Note: Quantity must be extensive, e.g., ty_trans, vhrho_nt, uhrho_et, tx_trans but *not*, e.g., v, salt. \n",
    "#       If not extensive, then we need to multiply by dzt or dzu.\n",
    "ds = ds.assign_coords({'st_edges_ocean': st_edges_ocean})\n",
    "ds = ds.chunk({'st_edges_ocean': 76, 'st_ocean': 75}) #xgcm doesn't like it if there is more than 1 chunk in this axis\n",
    "\n",
    "grid = xgcm.Grid(ds, coords={'Z': {'center': 'st_ocean', 'outer': 'st_edges_ocean'}}, periodic = False)\n",
    "ds['pot_rho_2_outer'] = grid.interp(ds.pot_rho_2, 'Z', boundary='extend')\n",
    "ds['pot_rho_2_outer'] = ds['pot_rho_2_outer'].chunk({'st_edges_ocean': 76})\n",
    "\n",
    "ty_trans_transformed_cons = grid.transform(ds.ty_trans,\n",
    "                                           'Z',\n",
    "                                           pot_rho_2_target,\n",
    "                                           method='conservative',\n",
    "                                           target_data=ds.pot_rho_2_outer)\n",
    "\n",
    "### change name to fit previous bins because default xgcm naming is different\n",
    "# pot_rho_2_outer is actually the CENTRE of bins (I guess the convention was defined for linear interpolation not conservative)\n",
    "ty_trans_transformed_cons = ty_trans_transformed_cons.rename({'pot_rho_2_outer': 'potrho'})"
   ]
  },
  {
   "cell_type": "code",
   "execution_count": null,
   "id": "b1719dda-a93c-481e-b75d-a481ec7bafd0",
   "metadata": {},
   "outputs": [],
   "source": [
    "%%time\n",
    "ty_trans_transformed_cons = ty_trans_transformed_cons.load()"
   ]
  },
  {
   "cell_type": "markdown",
   "id": "10e2fd59-083b-417b-af83-812d202ce0da",
   "metadata": {},
   "source": [
    "### Now account for partial cell at bottom\n",
    "We do this by finding what is missing from the vertical integral (residual). This is what was in the partial cell. We then add that residual into the densest cell that currently exists in the transformed data. This is only an approximation, because the density of the partial cell may be denser than that of the cell above it. However, this correction means the vertical integral is preserved under the transformation."
   ]
  },
  {
   "cell_type": "code",
   "execution_count": null,
   "id": "71a9b5c8-6c18-4aed-9c3e-d23fd470f310",
   "metadata": {},
   "outputs": [],
   "source": [
    "%%time\n",
    "#find residual from vertical integral\n",
    "ty_trans_residual = ty_trans.sum('st_ocean') - ty_trans_transformed_cons.sum('potrho') #this is positive definite"
   ]
  },
  {
   "cell_type": "markdown",
   "id": "115208ff-07d1-45f4-bcfb-6e7a0290de7a",
   "metadata": {},
   "source": [
    "### Find bottom density of `ty_trans_transformed_cons`"
   ]
  },
  {
   "cell_type": "code",
   "execution_count": null,
   "id": "e2d07412-6377-4fe5-be5f-530b3ea8b87d",
   "metadata": {},
   "outputs": [],
   "source": [
    "%%time\n",
    "# select out bottom values:\n",
    "ty_trans_transformed_cons2 = ty_trans_transformed_cons.where(ty_trans_transformed_cons != 0) \n",
    "dens_array = ty_trans_transformed_cons2 * 0 + ty_trans_transformed_cons2.potrho # array of isopycnal value where it exists and nan elsewhere\n",
    "max_dens = dens_array.max(dim = 'potrho', skipna = True)"
   ]
  },
  {
   "cell_type": "markdown",
   "id": "1096b59c-b87e-47cb-a291-6eb479020d5d",
   "metadata": {},
   "source": [
    "### Add residual to this bottom density in array"
   ]
  },
  {
   "cell_type": "code",
   "execution_count": null,
   "id": "4af3a264-5894-4d9d-afbe-7341b6697073",
   "metadata": {},
   "outputs": [],
   "source": [
    "%%time\n",
    "ty_trans_residual_array = (dens_array.where(dens_array == max_dens)*0 + 1)*ty_trans_residual\n",
    "ty_trans_new = ty_trans_residual_array.fillna(0)+ ty_trans_transformed_cons"
   ]
  },
  {
   "cell_type": "code",
   "execution_count": null,
   "id": "e33d083b-19b6-44fb-a8e5-cda294438b48",
   "metadata": {},
   "outputs": [],
   "source": [
    "# rename coords to match ty_trans_rho\n",
    "ty_trans_new = ty_trans_new.rename({'yu_ocean': 'grid_yu_ocean', 'xt_ocean': 'grid_xt_ocean'})"
   ]
  },
  {
   "cell_type": "code",
   "execution_count": null,
   "id": "b6547622-cbfa-436a-9a19-7eb7154838c3",
   "metadata": {},
   "outputs": [],
   "source": [
    "%%time\n",
    "\n",
    "ty_trans_new = ty_trans_new.load()"
   ]
  },
  {
   "cell_type": "markdown",
   "id": "75c9d270-47d1-45c1-8796-32944e6b2fb3",
   "metadata": {},
   "source": [
    "### Plot streamfunction of result"
   ]
  },
  {
   "cell_type": "code",
   "execution_count": null,
   "id": "8ea61ffe-980d-45b9-823d-2db8422ea105",
   "metadata": {},
   "outputs": [],
   "source": [
    "psi_avg_mean_2 = cumsum_from_bottom(ty_trans_new.sum('grid_xt_ocean') / (1e6 * rho_0))"
   ]
  },
  {
   "cell_type": "code",
   "execution_count": null,
   "id": "6535bf5b-83d4-40ba-8296-0618ba4366e9",
   "metadata": {},
   "outputs": [],
   "source": [
    "%%time\n",
    "\n",
    "fig, axes = plt.subplots(nrows = 1, ncols = 3, figsize = (15, 4))\n",
    "\n",
    "levels = np.linspace(-25, 25, 26)\n",
    "\n",
    "psi_avg.plot.contourf(ax = axes[0], x = 'grid_yu_ocean',levels = levels, add_colorbar = False)\n",
    "\n",
    "psi_avg_mean_2.plot.contourf(ax = axes[1], x = 'grid_yu_ocean', levels = levels, add_colorbar = False)\n",
    "\n",
    "p = (psi_avg - psi_avg_mean_2).plot.contourf(ax = axes[2], x = 'grid_yu_ocean', levels = levels, add_colorbar = False)\n",
    "\n",
    "cbar_ax = fig.add_axes([0.92, 0.15, 0.01, 0.7])\n",
    "fig.colorbar(p, cax=cbar_ax, label='Transport (Sv)')\n",
    "\n",
    "axes[0].set_title('Residual')\n",
    "axes[1].set_title('Mean')\n",
    "axes[2].set_title('Eddy')\n",
    "\n",
    "for ax in axes:\n",
    "    ax.set_ylim(1037.5, 1032)\n",
    "    ax.set_xlim(-70, -35);"
   ]
  },
  {
   "cell_type": "markdown",
   "id": "ce8152ad-8c28-467a-b867-fe7408a01023",
   "metadata": {
    "tags": []
   },
   "source": [
    "## Method 3: Bin `ty_trans` (mean Eulerian overturning) into density bins\n",
    "\n",
    "This uses the method by Lee et al. (2007) and which is is described as follows. Firstly, cells in the model output with a density $\\rho$ between two prescribed densities ($\\rho_\\text{heavy} >\\rho> \\rho_\\text{light}$) are selected. Each cell is assigned a proximity to the lighter density $\\rho_\\text{light}$, which is the 'bin fraction' $$f_b = \\frac{\\rho_\\text{heavy}-\\rho}{\\rho_\\text{heavy}-\\rho_\\text{light}}.$$\n",
    "\n",
    "Here, a bin fraction of 1 means the cell density $\\rho = \\rho_\\text{light}$ and $f_b=0$ means $\\rho = \\rho_\\text{heavy}$. The quantity being binned, such as the meridional transport $vh$, is then multiplied by $f_b$ and added to the lighter density $\\rho_\\text{light}$ bin's meridional transport, followed by the $vh(1-f_b)$ being added to the heavier bin, $\\rho_\\text{heavy}$. This process is repeated for all sets of consecutive bins, meaning that density bins have input from model output cells with density slightly lower and higher than it. \n",
    "\n",
    "> Lee, M., Nurser, A., Coward, A., and De Cuevas, B. (2007). [Eddy advective and diffusive\n",
    "transports of heat and salt in the Southern Ocean.](https://doi.org/10.1175/JPO3057.1) _Journal of Physical Oceanography_, **37(5)**, 1376–1393."
   ]
  },
  {
   "cell_type": "markdown",
   "id": "063607a5-1bd7-4c8f-8cc1-0d89bf2f02d0",
   "metadata": {},
   "source": [
    "### For this method, we need to get rid of NaNs"
   ]
  },
  {
   "cell_type": "code",
   "execution_count": null,
   "id": "fed405b2-ff26-47cc-96d5-e8326aeafa57",
   "metadata": {},
   "outputs": [],
   "source": [
    "ty_trans = ty_trans.fillna(0)\n",
    "pot_rho_2 = pot_rho_2.fillna(0)"
   ]
  },
  {
   "cell_type": "markdown",
   "id": "1645e9d1-f09f-4e3e-b087-383ec4bfb6a6",
   "metadata": {
    "tags": []
   },
   "source": [
    "### Load first to reduce computation time"
   ]
  },
  {
   "cell_type": "code",
   "execution_count": null,
   "id": "e105a23e-9179-4e73-aa26-93d1dd1056f9",
   "metadata": {
    "tags": []
   },
   "outputs": [],
   "source": [
    "%%time\n",
    "pot_rho_2 = pot_rho_2.load()\n",
    "ty_trans = ty_trans.load()"
   ]
  },
  {
   "cell_type": "code",
   "execution_count": null,
   "id": "bdb54ac7-92e9-48f3-b20a-d07810f2625d",
   "metadata": {},
   "outputs": [],
   "source": [
    "# choose bins (in this case, default ty_trans_rho pot_rho_2 bins\n",
    "rho2_bins = ty_trans_rho.potrho.values\n",
    "\n",
    "# set up a zero array to be filled in by the algorithm\n",
    "ty_trans_binned = np.zeros((len(rho2_bins), len(pot_rho_2.yu_ocean), len(pot_rho_2.xt_ocean)))"
   ]
  },
  {
   "cell_type": "markdown",
   "id": "e830e801-f679-4630-af97-814159fa59d3",
   "metadata": {},
   "source": [
    "**Note**: the following cell takes a while."
   ]
  },
  {
   "cell_type": "code",
   "execution_count": null,
   "id": "42324e61-50c2-4cb7-8ed3-b9533ab0f4a3",
   "metadata": {
    "tags": []
   },
   "outputs": [],
   "source": [
    "%%time\n",
    "\n",
    "from tqdm.auto import tqdm\n",
    "\n",
    "# loop over the bins, performing Lee et al. (2007) algorithm\n",
    "# takes time, faster if ty_trans and pot_rho_2 already loaded\n",
    "for i in tqdm(range(len(rho2_bins)-1)):\n",
    "    bin_mask = pot_rho_2.where(pot_rho_2 <= rho2_bins[i+1]).where(pot_rho_2 > rho2_bins[i])*0 + 1\n",
    "    bin_fractions = (rho2_bins[i+1] - pot_rho_2 * bin_mask)/(rho2_bins[i+1] - rho2_bins[i])\n",
    "    ## bin ty_trans:\n",
    "    ty_trans_in_lower_bin = (ty_trans * bin_mask * bin_fractions).sum(dim = 'st_ocean')\n",
    "    ty_trans_binned[i, :, :] += ty_trans_in_lower_bin.fillna(0).values\n",
    "    del ty_trans_in_lower_bin\n",
    "    ty_trans_in_upper_bin = (ty_trans * bin_mask * (1-bin_fractions)).sum(dim = 'st_ocean')\n",
    "    ty_trans_binned[i+1, :, :] += ty_trans_in_upper_bin.fillna(0).values\n",
    "    del ty_trans_in_upper_bin"
   ]
  },
  {
   "cell_type": "code",
   "execution_count": null,
   "id": "398b5155-b1f8-4da3-ad31-adfcbbd918d2",
   "metadata": {},
   "outputs": [],
   "source": [
    "# convert numpy array into xarray dataarray\n",
    "ty_trans_binned_array = xr.DataArray(ty_trans_binned, \n",
    "                                     coords = [rho2_bins, pot_rho_2.yu_ocean, pot_rho_2.xt_ocean], \n",
    "                                     dims = ['potrho', 'grid_yu_ocean', 'grid_xt_ocean'], \n",
    "                                     name = 'ty_trans_binned')"
   ]
  },
  {
   "cell_type": "code",
   "execution_count": null,
   "id": "690ddd63-0ffc-497b-8dbe-bed29d59d980",
   "metadata": {},
   "outputs": [],
   "source": [
    "# find streamfunction\n",
    "psi_avg_mean_3 = cumsum_from_bottom(ty_trans_binned_array.sum('grid_xt_ocean')) / (1e6 * rho_0)"
   ]
  },
  {
   "cell_type": "markdown",
   "id": "35ddc3b8-5d15-413e-8cb6-d5e8073841f8",
   "metadata": {},
   "source": [
    "### Plot streamfunctions"
   ]
  },
  {
   "cell_type": "code",
   "execution_count": null,
   "id": "58a7fe12-4fcd-49ca-a553-e7f4e185212c",
   "metadata": {},
   "outputs": [],
   "source": [
    "fig, axes = plt.subplots(nrows = 1, ncols = 3, figsize = (15, 4))\n",
    "\n",
    "levels = np.linspace(-25, 25, 26)\n",
    "\n",
    "psi_avg.plot.contourf(ax = axes[0], x = 'grid_yu_ocean',levels = levels, add_colorbar = False)\n",
    "\n",
    "psi_avg_mean_3.plot.contourf(ax = axes[1], x = 'grid_yu_ocean', levels = levels, add_colorbar = False)\n",
    "\n",
    "p = (psi_avg - psi_avg_mean_3).plot.contourf(ax = axes[2], x = 'grid_yu_ocean', levels = levels, add_colorbar = False)\n",
    "\n",
    "cbar_ax = fig.add_axes([0.92, 0.15, 0.01, 0.7])\n",
    "fig.colorbar(p, cax = cbar_ax, label = 'Transport (Sv)')\n",
    "\n",
    "axes[0].set_title('Residual')\n",
    "axes[1].set_title('Mean')\n",
    "axes[2].set_title('Eddy')\n",
    "\n",
    "for ax in axes:\n",
    "    ax.set_ylim(1037.5, 1032)\n",
    "    ax.set_xlim(-70, -35);"
   ]
  },
  {
   "cell_type": "markdown",
   "id": "4b64145b-4b4c-4480-972a-51112c466756",
   "metadata": {
    "tags": []
   },
   "source": [
    "### All three methods yield similar plots of the decomposition of the meridional overturning streamfunction. \n",
    "\n",
    "The exact numbers resulting from the transformations differ, due to the different numerical methods. `xhistogram` is exact when compared to snapshots of MOM5 model output, and is hence most appropriate when comparing between online and offline binned quantities. `xgcm` and the Lee method can still be used to compare quantities binned offline. For example, if we were to instead bin the daily transports onto isopycnals and calculate eddy terms directly from the correlation of velocity and thickness fluctuations, `xgcm` and the Lee method may be better as the weighted binning onto isopycnals leaves less chance of 'gaps' between density layers. The Lee method has no issues with partial cells, but it is **much slower** than `xgcm`.\n",
    "\n",
    "The difference in the mean streamfunction between the three methods is presented below."
   ]
  },
  {
   "cell_type": "code",
   "execution_count": null,
   "id": "8d5f00b8-a2de-4328-b665-195eb75c2842",
   "metadata": {},
   "outputs": [],
   "source": [
    "fig, axes = plt.subplots(nrows = 1, ncols = 3, figsize = (15, 4))\n",
    "\n",
    "levels = np.arange(-10, 10.1, 0.5)\n",
    "\n",
    "(psi_avg_mean-psi_avg_mean_2).plot.contourf(ax = axes[0], x = 'grid_yu_ocean',levels = levels, add_colorbar = False)\n",
    "\n",
    "(psi_avg_mean-psi_avg_mean_3).plot.contourf(ax = axes[1], x = 'grid_yu_ocean', levels = levels, add_colorbar = False)\n",
    "\n",
    "p = (psi_avg_mean_2 - psi_avg_mean_3).plot.contourf(ax = axes[2], x = 'grid_yu_ocean', levels = levels, add_colorbar = False)\n",
    "\n",
    "cbar_ax = fig.add_axes([0.92, 0.15, 0.01, 0.7])\n",
    "fig.colorbar(p, cax=cbar_ax, label='Transport (Sv)')\n",
    "\n",
    "axes[0].set_title('Method 1 - Method 2')\n",
    "axes[1].set_title('Method 1 - Method 3')\n",
    "axes[2].set_title('Method 2 - Method 3')\n",
    "\n",
    "for ax in axes:\n",
    "    ax.set_ylim(1037.5, 1032)\n",
    "    ax.set_xlim(-70, -35)\n",
    "\n",
    "fig.suptitle('Difference in Mean Streamfunction', fontsize = 16);"
   ]
  },
  {
   "cell_type": "markdown",
   "id": "eed3d00b-224e-448d-8cbd-c8198244fe87",
   "metadata": {},
   "source": [
    "An alternative method to calculate the decomposition of the residual meridional overturning circulation into mean and eddy components is to bin `ty_trans` (or `vhrho_nt`) into density bins using daily data (both density and transport). Then the transport $\\overline{vh}$ can be separated into a mean component $\\overline{v}\\overline{h}$ and an eddy component $\\overline{v^\\prime h^\\prime}$, where the overline is a time average and primed quantities the deviation from the time average. Quantities are calculated within density layers, and $h$ is density layer thickness, calculated by binning `dzt` or `dzu`. This calculation, since it uses daily data, is computationally expensive and is difficult to do efficiently in a jupyter notebook. The resulting streamfunctions are similar, but not identical, and may be more intuitive for isopycnal flows. An example of this method can be found at https://github.com/claireyung/Topographic_Hotspots_Upwelling-Paper_Code/blob/main/Figure_Code/Fig5-Overturning.ipynb."
   ]
  }
 ],
 "metadata": {
  "kernelspec": {
   "display_name": "Python [conda env:analysis3-23.07] *",
   "language": "python",
   "name": "conda-env-analysis3-23.07-py"
  },
  "language_info": {
   "codemirror_mode": {
    "name": "ipython",
    "version": 3
   },
   "file_extension": ".py",
   "mimetype": "text/x-python",
   "name": "python",
   "nbconvert_exporter": "python",
   "pygments_lexer": "ipython3",
   "version": "3.10.13"
  }
 },
 "nbformat": 4,
 "nbformat_minor": 5
}
