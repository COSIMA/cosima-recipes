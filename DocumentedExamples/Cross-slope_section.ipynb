{
 "cells": [
  {
   "cell_type": "markdown",
   "id": "b54ba98a",
   "metadata": {},
   "source": [
    "# Cross-slope section\n",
    "\n",
    "This notebook gives an example on how to obtain a section through gridded data. We use the __[function](https://unidata.github.io/MetPy/latest/examples/cross_section.html#sphx-glr-examples-cross-section-py)__ `metpy.interpolate.cross_section` to do so. \n",
    "In this example we plot the along-slope velocity component across the Antarctic continental shelf break. In order to calculate the along-slope velocity component, we will need to calculate the topographic gradient first, which we do with the help of the `xgcm` __[module](https://xgcm.readthedocs.io/en/latest/)__. "
   ]
  },
  {
   "cell_type": "markdown",
   "id": "2e79d1c3",
   "metadata": {},
   "source": [
    "Load modules"
   ]
  },
  {
   "cell_type": "code",
   "execution_count": 1,
   "id": "7bf98b31",
   "metadata": {},
   "outputs": [],
   "source": [
    "# Standard modules\n",
    "from pathlib import Path\n",
    "import pandas as pd\n",
    "import intake\n",
    "catalog = intake.cat.access_nri\n",
    "from dask.distributed import Client\n",
    "import numpy as np\n",
    "import xarray as xr\n",
    "\n",
    "import xgcm\n",
    "import cf_xarray\n",
    "\n",
    "# Load metpy module to obtain cross section \n",
    "# (Select the conda/analysis3-unstable kernel if you have problems loading this module)\n",
    "from metpy.interpolate import cross_section\n",
    "\n",
    "# For plotting\n",
    "import cartopy.crs as ccrs\n",
    "import matplotlib.pyplot as plt\n",
    "import matplotlib.path as mpath\n",
    "import cmocean as cm\n",
    "import pyproj"
   ]
  },
  {
   "cell_type": "markdown",
   "id": "dfe9d007",
   "metadata": {},
   "source": [
    "By default retain metadata after operations. This can retain out of date metadata, so some caution is required"
   ]
  },
  {
   "cell_type": "code",
   "execution_count": 2,
   "id": "6b738e12",
   "metadata": {},
   "outputs": [],
   "source": [
    "xr.set_options(keep_attrs=True);"
   ]
  },
  {
   "cell_type": "markdown",
   "id": "81329854",
   "metadata": {},
   "source": [
    "Start a cluster with multiple cores"
   ]
  },
  {
   "cell_type": "code",
   "execution_count": 3,
   "id": "707e3181",
   "metadata": {},
   "outputs": [
    {
     "data": {
      "text/html": [
       "<div>\n",
       "    <div style=\"width: 24px; height: 24px; background-color: #e1e1e1; border: 3px solid #9D9D9D; border-radius: 5px; position: absolute;\"> </div>\n",
       "    <div style=\"margin-left: 48px;\">\n",
       "        <h3 style=\"margin-bottom: 0px;\">Client</h3>\n",
       "        <p style=\"color: #9D9D9D; margin-bottom: 0px;\">Client-4b1e30c6-836f-11ee-bac9-00000186fe80</p>\n",
       "        <table style=\"width: 100%; text-align: left;\">\n",
       "\n",
       "        <tr>\n",
       "        \n",
       "            <td style=\"text-align: left;\"><strong>Connection method:</strong> Direct</td>\n",
       "            <td style=\"text-align: left;\"></td>\n",
       "        \n",
       "        </tr>\n",
       "\n",
       "        \n",
       "            <tr>\n",
       "                <td style=\"text-align: left;\">\n",
       "                    <strong>Dashboard: </strong> <a href=\"/proxy/8787/status\" target=\"_blank\">/proxy/8787/status</a>\n",
       "                </td>\n",
       "                <td style=\"text-align: left;\"></td>\n",
       "            </tr>\n",
       "        \n",
       "\n",
       "        </table>\n",
       "\n",
       "        \n",
       "            <button style=\"margin-bottom: 12px;\" data-commandlinker-command=\"dask:populate-and-launch-layout\" data-commandlinker-args='{\"url\": \"/proxy/8787/status\" }'>\n",
       "                Launch dashboard in JupyterLab\n",
       "            </button>\n",
       "        \n",
       "\n",
       "        \n",
       "            <details>\n",
       "            <summary style=\"margin-bottom: 20px;\"><h3 style=\"display: inline;\">Scheduler Info</h3></summary>\n",
       "            <div style=\"\">\n",
       "    <div>\n",
       "        <div style=\"width: 24px; height: 24px; background-color: #FFF7E5; border: 3px solid #FF6132; border-radius: 5px; position: absolute;\"> </div>\n",
       "        <div style=\"margin-left: 48px;\">\n",
       "            <h3 style=\"margin-bottom: 0px;\">Scheduler</h3>\n",
       "            <p style=\"color: #9D9D9D; margin-bottom: 0px;\">Scheduler-2f48bd0e-f8e3-43f7-93cb-1dfd2c238eb1</p>\n",
       "            <table style=\"width: 100%; text-align: left;\">\n",
       "                <tr>\n",
       "                    <td style=\"text-align: left;\">\n",
       "                        <strong>Comm:</strong> tcp://10.6.24.31:8786\n",
       "                    </td>\n",
       "                    <td style=\"text-align: left;\">\n",
       "                        <strong>Workers:</strong> 1\n",
       "                    </td>\n",
       "                </tr>\n",
       "                <tr>\n",
       "                    <td style=\"text-align: left;\">\n",
       "                        <strong>Dashboard:</strong> <a href=\"/proxy/8787/status\" target=\"_blank\">/proxy/8787/status</a>\n",
       "                    </td>\n",
       "                    <td style=\"text-align: left;\">\n",
       "                        <strong>Total threads:</strong> 12\n",
       "                    </td>\n",
       "                </tr>\n",
       "                <tr>\n",
       "                    <td style=\"text-align: left;\">\n",
       "                        <strong>Started:</strong> 2 hours ago\n",
       "                    </td>\n",
       "                    <td style=\"text-align: left;\">\n",
       "                        <strong>Total memory:</strong> 46.00 GiB\n",
       "                    </td>\n",
       "                </tr>\n",
       "            </table>\n",
       "        </div>\n",
       "    </div>\n",
       "\n",
       "    <details style=\"margin-left: 48px;\">\n",
       "        <summary style=\"margin-bottom: 20px;\">\n",
       "            <h3 style=\"display: inline;\">Workers</h3>\n",
       "        </summary>\n",
       "\n",
       "        \n",
       "        <div style=\"margin-bottom: 20px;\">\n",
       "            <div style=\"width: 24px; height: 24px; background-color: #DBF5FF; border: 3px solid #4CC9FF; border-radius: 5px; position: absolute;\"> </div>\n",
       "            <div style=\"margin-left: 48px;\">\n",
       "            <details>\n",
       "                <summary>\n",
       "                    <h4 style=\"margin-bottom: 0px; display: inline;\">Worker: tcp://10.6.24.31:43271</h4>\n",
       "                </summary>\n",
       "                <table style=\"width: 100%; text-align: left;\">\n",
       "                    <tr>\n",
       "                        <td style=\"text-align: left;\">\n",
       "                            <strong>Comm: </strong> tcp://10.6.24.31:43271\n",
       "                        </td>\n",
       "                        <td style=\"text-align: left;\">\n",
       "                            <strong>Total threads: </strong> 12\n",
       "                        </td>\n",
       "                    </tr>\n",
       "                    <tr>\n",
       "                        <td style=\"text-align: left;\">\n",
       "                            <strong>Dashboard: </strong> <a href=\"/proxy/35999/status\" target=\"_blank\">/proxy/35999/status</a>\n",
       "                        </td>\n",
       "                        <td style=\"text-align: left;\">\n",
       "                            <strong>Memory: </strong> 46.00 GiB\n",
       "                        </td>\n",
       "                    </tr>\n",
       "                    <tr>\n",
       "                        <td style=\"text-align: left;\">\n",
       "                            <strong>Nanny: </strong> tcp://10.6.24.31:41081\n",
       "                        </td>\n",
       "                        <td style=\"text-align: left;\"></td>\n",
       "                    </tr>\n",
       "                    <tr>\n",
       "                        <td colspan=\"2\" style=\"text-align: left;\">\n",
       "                            <strong>Local directory: </strong> /scratch/iq82/mp7041/dasktmp/dask-scratch-space/worker-v0lfebs3\n",
       "                        </td>\n",
       "                    </tr>\n",
       "\n",
       "                    \n",
       "\n",
       "                    \n",
       "                    <tr>\n",
       "                        <td style=\"text-align: left;\">\n",
       "                            <strong>Tasks executing: </strong> \n",
       "                        </td>\n",
       "                        <td style=\"text-align: left;\">\n",
       "                            <strong>Tasks in memory: </strong> \n",
       "                        </td>\n",
       "                    </tr>\n",
       "                    <tr>\n",
       "                        <td style=\"text-align: left;\">\n",
       "                            <strong>Tasks ready: </strong> \n",
       "                        </td>\n",
       "                        <td style=\"text-align: left;\">\n",
       "                            <strong>Tasks in flight: </strong>\n",
       "                        </td>\n",
       "                    </tr>\n",
       "                    <tr>\n",
       "                        <td style=\"text-align: left;\">\n",
       "                            <strong>CPU usage:</strong> 2.0%\n",
       "                        </td>\n",
       "                        <td style=\"text-align: left;\">\n",
       "                            <strong>Last seen: </strong> Just now\n",
       "                        </td>\n",
       "                    </tr>\n",
       "                    <tr>\n",
       "                        <td style=\"text-align: left;\">\n",
       "                            <strong>Memory usage: </strong> 1.62 GiB\n",
       "                        </td>\n",
       "                        <td style=\"text-align: left;\">\n",
       "                            <strong>Spilled bytes: </strong> 0 B\n",
       "                        </td>\n",
       "                    </tr>\n",
       "                    <tr>\n",
       "                        <td style=\"text-align: left;\">\n",
       "                            <strong>Read bytes: </strong> 5.01 kiB\n",
       "                        </td>\n",
       "                        <td style=\"text-align: left;\">\n",
       "                            <strong>Write bytes: </strong> 5.30 kiB\n",
       "                        </td>\n",
       "                    </tr>\n",
       "                    \n",
       "\n",
       "                </table>\n",
       "            </details>\n",
       "            </div>\n",
       "        </div>\n",
       "        \n",
       "\n",
       "    </details>\n",
       "</div>\n",
       "            </details>\n",
       "        \n",
       "\n",
       "    </div>\n",
       "</div>"
      ],
      "text/plain": [
       "<Client: 'tcp://10.6.24.31:8786' processes=1 threads=12, memory=46.00 GiB>"
      ]
     },
     "execution_count": 3,
     "metadata": {},
     "output_type": "execute_result"
    }
   ],
   "source": [
    "client = Client(\"tcp://10.6.24.31:8786\") \n",
    "client"
   ]
  },
  {
   "cell_type": "code",
   "execution_count": null,
   "id": "fc9274f8",
   "metadata": {},
   "outputs": [],
   "source": []
  },
  {
   "cell_type": "code",
   "execution_count": 4,
   "id": "7b887dfa",
   "metadata": {},
   "outputs": [],
   "source": [
    "def centre_longitude(ds, centre=0, lonvar=None):\n",
    "    \"\"\"Wrap longitude to specified centre\"\"\"\n",
    "   \n",
    "    if lonvar is None:\n",
    "        # Use cf_xarray to find longitude coordinate\n",
    "        lonvar = ds.cf.coordinates['longitude'][0]\n",
    "\n",
    "    upper_limit = centre + 180.\n",
    "\n",
    "    # Ensure coordinates are within range 0 -> 360\n",
    "    ds.coords[lonvar] = ds.coords[lonvar] % 360.\n",
    "    \n",
    "    # Wrap all longitude locations above upper limit and re-sort by longitude\n",
    "    ds.coords[lonvar] = xr.where(ds.coords[lonvar] > upper_limit, \n",
    "                                 ds.coords[lonvar] - 360., \n",
    "                                 ds.coords[lonvar])\n",
    "    ds = ds.sortby(ds[lonvar])\n",
    "    \n",
    "    return ds"
   ]
  },
  {
   "cell_type": "markdown",
   "id": "4cea92be",
   "metadata": {},
   "source": [
    "### Load Data"
   ]
  },
  {
   "cell_type": "markdown",
   "id": "6910ee7c",
   "metadata": {},
   "source": [
    "Nominate a database from which to load the data and define an experiment"
   ]
  },
  {
   "cell_type": "code",
   "execution_count": 5,
   "id": "30032bd8",
   "metadata": {},
   "outputs": [],
   "source": [
    "\n",
    "experiment = '01deg_jra55v13_ryf9091'"
   ]
  },
  {
   "cell_type": "markdown",
   "id": "5565de08",
   "metadata": {},
   "source": [
    "Limit to Southern Ocean and single RYF year"
   ]
  },
  {
   "cell_type": "code",
   "execution_count": 6,
   "id": "deff703a",
   "metadata": {},
   "outputs": [],
   "source": [
    "lat_slice  = slice(-80, -59)\n",
    "\n",
    "start_time = '2086-01-01'\n",
    "end_time   = '2086-12-31'"
   ]
  },
  {
   "cell_type": "markdown",
   "id": "bcad4f21",
   "metadata": {},
   "source": [
    "Load bathymetry data. Discard the geolon and geolat coordinates: these are 2D curvilinear coordinates that are only required when working above 65N"
   ]
  },
  {
   "cell_type": "code",
   "execution_count": 7,
   "id": "cd7138c2",
   "metadata": {},
   "outputs": [
    {
     "name": "stderr",
     "output_type": "stream",
     "text": [
      "/g/data/hh5/public/apps/miniconda3/envs/analysis3-23.07/lib/python3.10/site-packages/intake_esm/cat.py:270: FutureWarning: DataFrame.applymap has been deprecated. Use DataFrame.map instead.\n",
      "  .applymap(type)\n",
      "/g/data/hh5/public/apps/miniconda3/envs/analysis3-23.07/lib/python3.10/site-packages/intake_esm/cat.py:270: FutureWarning: DataFrame.applymap has been deprecated. Use DataFrame.map instead.\n",
      "  .applymap(type)\n",
      "/g/data/hh5/public/apps/miniconda3/envs/analysis3-23.07/lib/python3.10/site-packages/intake_esm/cat.py:270: FutureWarning: DataFrame.applymap has been deprecated. Use DataFrame.map instead.\n",
      "  .applymap(type)\n",
      "/g/data/hh5/public/apps/miniconda3/envs/analysis3-23.07/lib/python3.10/site-packages/intake_esm/cat.py:270: FutureWarning: DataFrame.applymap has been deprecated. Use DataFrame.map instead.\n",
      "  .applymap(type)\n",
      "/g/data/hh5/public/apps/miniconda3/envs/analysis3-23.07/lib/python3.10/site-packages/intake_esm/cat.py:270: FutureWarning: DataFrame.applymap has been deprecated. Use DataFrame.map instead.\n",
      "  .applymap(type)\n"
     ]
    }
   ],
   "source": [
    "cat_subset = catalog[experiment]\n",
    "var_search = cat_subset.search(variable='hu')\n",
    "var_search = var_search.search(path=var_search.df['path'][0])\n",
    "darray = var_search.to_dask()\n",
    "darray = darray['hu']\n",
    "hu = darray.drop(['geolat_c', 'geolon_c']).sel(yu_ocean=lat_slice).load()"
   ]
  },
  {
   "cell_type": "markdown",
   "id": "9a795c8e",
   "metadata": {},
   "source": [
    "Load velocity data, limit to upper 500m and take the mean in time"
   ]
  },
  {
   "cell_type": "code",
   "execution_count": 8,
   "id": "71f90c65-408b-4d98-b717-6325662dfe15",
   "metadata": {},
   "outputs": [
    {
     "name": "stdout",
     "output_type": "stream",
     "text": [
      "frequency='fx'\n",
      "file_id='ocean_grid'\n"
     ]
    }
   ],
   "source": [
    "\n",
    "print('\\n'.join(f\"frequency='{f}'\" for f in set(var_search.df['frequency'])))\n",
    "print('\\n'.join(f\"file_id='{f}'\" for f in set(var_search.df['file_id'])))\n"
   ]
  },
  {
   "cell_type": "code",
   "execution_count": 9,
   "id": "6faf684c",
   "metadata": {},
   "outputs": [
    {
     "name": "stderr",
     "output_type": "stream",
     "text": [
      "/g/data/hh5/public/apps/miniconda3/envs/analysis3-23.07/lib/python3.10/site-packages/intake_esm/cat.py:270: FutureWarning: DataFrame.applymap has been deprecated. Use DataFrame.map instead.\n",
      "  .applymap(type)\n",
      "/g/data/hh5/public/apps/miniconda3/envs/analysis3-23.07/lib/python3.10/site-packages/intake_esm/cat.py:270: FutureWarning: DataFrame.applymap has been deprecated. Use DataFrame.map instead.\n",
      "  .applymap(type)\n",
      "/g/data/hh5/public/apps/miniconda3/envs/analysis3-23.07/lib/python3.10/site-packages/intake_esm/cat.py:270: FutureWarning: DataFrame.applymap has been deprecated. Use DataFrame.map instead.\n",
      "  .applymap(type)\n",
      "/g/data/hh5/public/apps/miniconda3/envs/analysis3-23.07/lib/python3.10/site-packages/intake_esm/cat.py:270: FutureWarning: DataFrame.applymap has been deprecated. Use DataFrame.map instead.\n",
      "  .applymap(type)\n"
     ]
    }
   ],
   "source": [
    "cat_subset = catalog[experiment]\n",
    "var_search = cat_subset.search(variable='u', frequency='1day', file_id='ocean_daily_3d_u')\n",
    "darray = var_search.to_dask()\n",
    "darray = darray['u']\n",
    "darray = darray.sel(time=slice(start_time, end_time))\n",
    "u = darray.sel(yu_ocean=lat_slice).sel(st_ocean=slice(0, 500)).mean('time')\n",
    "\n",
    "cat_subset = catalog[experiment]\n",
    "var_search = cat_subset.search(variable='v', frequency='1day', file_id='ocean_daily_3d_v')\n",
    "darray = var_search.to_dask()\n",
    "darray = darray['v']\n",
    "darray = darray.sel(time=slice(start_time, end_time))\n",
    "v = darray.sel(yu_ocean=lat_slice).sel(st_ocean=slice(0, 500)).mean('time')"
   ]
  },
  {
   "cell_type": "markdown",
   "id": "78a2766d",
   "metadata": {},
   "source": [
    "Load model grid information directly from a grid data file"
   ]
  },
  {
   "cell_type": "code",
   "execution_count": 10,
   "id": "94db7a1e",
   "metadata": {},
   "outputs": [],
   "source": [
    "path_to_folder = Path('/g/data/ik11/outputs/access-om2-01/01deg_jra55v13_ryf9091/output000/ocean/')\n",
    "grid = xr.open_mfdataset(path_to_folder / 'ocean_grid.nc', combine='by_coords').drop(['geolon_t', 'geolat_t', 'geolon_c', 'geolat_c'])"
   ]
  },
  {
   "cell_type": "markdown",
   "id": "21a476db",
   "metadata": {},
   "source": [
    "### Along-slope velocity\n",
    "\n",
    "We calculate the along-slope velocity component by projecting the velocity field to the tangent vector, $u_{along} = \\boldsymbol{u \\cdot \\hat{t}}$, and the cross-slope component by projecting to the normal vector, $v_{cross} = \\boldsymbol{u \\cdot \\hat{n}}$. The schematic below defines the unit normal normal and tangent vectors for a given bathymetric contour, $\\boldsymbol{n}$ and $\\boldsymbol{t}$ respectively. "
   ]
  },
  {
   "cell_type": "markdown",
   "id": "02a8e284",
   "metadata": {},
   "source": [
    "![Sketch of topographic gradient](images/topographic_gradient_sketch.png)"
   ]
  },
  {
   "cell_type": "markdown",
   "id": "25e877d7",
   "metadata": {},
   "source": [
    "Accordingly, the code below calculates the along-slope velocity component as\n",
    "\n",
    "$$ u_{along} = (u,v) \\boldsymbol{\\cdot} \\left(\\frac{h_y}{|\\nabla h|} , -\\frac{h_x}{|\\nabla h|}\\right) = \n",
    "u \\frac{h_y}{|\\nabla h|} - v \\frac{h_x}{|\\nabla h|}, $$  \n",
    "\n",
    "and similarly the cross-slope velocity component as\n",
    "\n",
    "$$ v_{cross} = (u,v) \\boldsymbol{\\cdot} \\left(\\frac{h_x}{|\\nabla h|} , \\frac{h_y}{|\\nabla h|}\\right)  = \n",
    "u \\frac{h_x}{|\\nabla h|} + v \\frac{h_y}{|\\nabla h|}.$$ \n"
   ]
  },
  {
   "cell_type": "markdown",
   "id": "2d623f99",
   "metadata": {},
   "source": [
    "We need the derivatives of the bathymetry which we compute using the `xgcm` functionality."
   ]
  },
  {
   "cell_type": "code",
   "execution_count": 11,
   "id": "751faf94",
   "metadata": {},
   "outputs": [
    {
     "name": "stderr",
     "output_type": "stream",
     "text": [
      "/g/data/hh5/public/apps/miniconda3/envs/analysis3-23.07/lib/python3.10/site-packages/distributed/client.py:3163: UserWarning: Sending large graph of size 46.36 MiB.\n",
      "This may cause some slowdown.\n",
      "Consider scattering data ahead of time and using futures.\n",
      "  warnings.warn(\n"
     ]
    }
   ],
   "source": [
    "# Give information on the grid: location of u (momentum) and t (tracer) points on B-grid \n",
    "ds = xr.merge([hu, grid])\n",
    "ds.coords['xt_ocean'].attrs.update(axis='X')\n",
    "ds.coords['xu_ocean'].attrs.update(axis='X', c_grid_axis_shift=0.5)\n",
    "ds.coords['yt_ocean'].attrs.update(axis='Y')\n",
    "ds.coords['yu_ocean'].attrs.update(axis='Y', c_grid_axis_shift=0.5)\n",
    "\n",
    "grid = xgcm.Grid(ds, periodic=['X'])\n",
    "\n",
    "# Take topographic gradient (simple gradient over one grid cell) and move back to u-grid\n",
    "dhu_dx = grid.interp( grid.diff(ds.hu, 'X') / grid.interp(ds.dxu, 'X'), 'X')\n",
    "\n",
    "# In meridional direction, we need to specify what happens at the boundary\n",
    "dhu_dy = grid.interp( grid.diff(ds.hu, 'Y', boundary='extend') / grid.interp(ds.dyt, 'X'), 'Y', boundary='extend')\n",
    "\n",
    "# Select latitude slice\n",
    "dhu_dx = dhu_dx.sel(yu_ocean=lat_slice)\n",
    "dhu_dy = dhu_dy.sel(yu_ocean=lat_slice)\n",
    "\n",
    "# Magnitude of the topographic slope (to normalise the topographic gradient)\n",
    "topographic_slope_magnitude = np.sqrt(dhu_dx**2 + dhu_dy**2)"
   ]
  },
  {
   "cell_type": "markdown",
   "id": "b78718a7",
   "metadata": {},
   "source": [
    "Calculate along-slope velocity component"
   ]
  },
  {
   "cell_type": "code",
   "execution_count": 12,
   "id": "8bad41d6",
   "metadata": {},
   "outputs": [
    {
     "name": "stderr",
     "output_type": "stream",
     "text": [
      "/g/data/hh5/public/apps/miniconda3/envs/analysis3-23.07/lib/python3.10/site-packages/distributed/client.py:3163: UserWarning: Sending large graph of size 46.48 MiB.\n",
      "This may cause some slowdown.\n",
      "Consider scattering data ahead of time and using futures.\n",
      "  warnings.warn(\n"
     ]
    }
   ],
   "source": [
    "# Along-slope velocity\n",
    "u_along = u * dhu_dy / topographic_slope_magnitude - v * dhu_dx / topographic_slope_magnitude\n",
    "\n",
    "# Load the data\n",
    "u_along = u_along.load()\n",
    "\n",
    "# Similarly, we can calculate the cross-slope velocity:\n",
    "#v_cross = u*dhu_dx/topographic_slope_magnitude + v*dhu_dy/topographic_slope_magnitude"
   ]
  },
  {
   "cell_type": "markdown",
   "id": "2596dedd",
   "metadata": {},
   "source": [
    "Vertical averaging (we only need this to plot the velocity on a map)"
   ]
  },
  {
   "cell_type": "code",
   "execution_count": 15,
   "id": "861c29a2-f209-4db1-a8de-7362a26b8bae",
   "metadata": {},
   "outputs": [
    {
     "data": {
      "text/plain": [
       "['ANGLE',\n",
       " 'ANGLET',\n",
       " 'HTE',\n",
       " 'HTN',\n",
       " 'NCAT',\n",
       " 'TLAT',\n",
       " 'TLON',\n",
       " 'Tsfc_m',\n",
       " 'ULAT',\n",
       " 'ULON',\n",
       " 'age_global',\n",
       " 'aice_m',\n",
       " 'aicen_m',\n",
       " 'alidf_ai_m',\n",
       " 'alidr_ai_m',\n",
       " 'alvdf_ai_m',\n",
       " 'alvdr_ai_m',\n",
       " 'area_t',\n",
       " 'area_u',\n",
       " 'average_DT',\n",
       " 'average_T1',\n",
       " 'average_T2',\n",
       " 'bih_fric_u',\n",
       " 'bih_fric_v',\n",
       " 'blkmask',\n",
       " 'buoyfreq2_wt',\n",
       " 'congel_m',\n",
       " 'divu_m',\n",
       " 'drag_coeff',\n",
       " 'dxt',\n",
       " 'dxu',\n",
       " 'dyt',\n",
       " 'dyu',\n",
       " 'dzt',\n",
       " 'eta_global',\n",
       " 'eta_t',\n",
       " 'evap',\n",
       " 'evap_heat',\n",
       " 'flatn_ai_m',\n",
       " 'fmeltt_ai_m',\n",
       " 'fmelttn_ai_m',\n",
       " 'fprec',\n",
       " 'fprec_melt_heat',\n",
       " 'frazil_3d',\n",
       " 'frazil_3d_int_z',\n",
       " 'frazil_m',\n",
       " 'frz_onset_m',\n",
       " 'fsalt_ai_m',\n",
       " 'fsalt_m',\n",
       " 'fswup_m',\n",
       " 'geolat_c',\n",
       " 'geolat_t',\n",
       " 'geolon_c',\n",
       " 'geolon_t',\n",
       " 'hi_m',\n",
       " 'hs_m',\n",
       " 'ht',\n",
       " 'hu',\n",
       " 'ke_tot',\n",
       " 'kmt',\n",
       " 'kmu',\n",
       " 'lprec',\n",
       " 'lw_heat',\n",
       " 'melt',\n",
       " 'mld',\n",
       " 'mlt_onset_m',\n",
       " 'net_sfc_heating',\n",
       " 'opening_m',\n",
       " 'passive_adelie',\n",
       " 'passive_prydz',\n",
       " 'passive_ross',\n",
       " 'passive_weddell',\n",
       " 'pbot_t',\n",
       " 'pe_tot',\n",
       " 'pme_net',\n",
       " 'pme_river',\n",
       " 'pot_rho_0',\n",
       " 'pot_rho_1',\n",
       " 'pot_rho_2',\n",
       " 'pot_temp',\n",
       " 'rho',\n",
       " 'rhoave',\n",
       " 'river',\n",
       " 'runoff',\n",
       " 'salt',\n",
       " 'salt_global_ave',\n",
       " 'salt_surface_ave',\n",
       " 'sea_level',\n",
       " 'sea_levelsq',\n",
       " 'sens_heat',\n",
       " 'sfc_hflux_coupler',\n",
       " 'sfc_hflux_from_runoff',\n",
       " 'sfc_hflux_pme',\n",
       " 'sfc_salt_flux_coupler',\n",
       " 'sfc_salt_flux_ice',\n",
       " 'sfc_salt_flux_restore',\n",
       " 'shear_m',\n",
       " 'sig1_m',\n",
       " 'sig2_m',\n",
       " 'sss_m',\n",
       " 'sst_m',\n",
       " 'strairx_m',\n",
       " 'strairy_m',\n",
       " 'strength_m',\n",
       " 'surface_salt',\n",
       " 'surface_temp',\n",
       " 'sw_heat',\n",
       " 'swflx',\n",
       " 'tarea',\n",
       " 'tau_x',\n",
       " 'tau_y',\n",
       " 'temp',\n",
       " 'temp_advection',\n",
       " 'temp_global_ave',\n",
       " 'temp_nonlocal_KPP',\n",
       " 'temp_rivermix',\n",
       " 'temp_submeso',\n",
       " 'temp_surface_ave',\n",
       " 'temp_tendency',\n",
       " 'temp_vdiffuse_diff_cbt_conv',\n",
       " 'temp_vdiffuse_impl',\n",
       " 'temp_xflux_adv',\n",
       " 'temp_yflux_adv',\n",
       " 'time_bounds',\n",
       " 'tmask',\n",
       " 'total_net_sfc_heating',\n",
       " 'total_ocean_calving',\n",
       " 'total_ocean_calving_heat',\n",
       " 'total_ocean_calving_melt_heat',\n",
       " 'total_ocean_evap',\n",
       " 'total_ocean_evap_heat',\n",
       " 'total_ocean_fprec',\n",
       " 'total_ocean_fprec_melt_heat',\n",
       " 'total_ocean_heat',\n",
       " 'total_ocean_hflux_coupler',\n",
       " 'total_ocean_hflux_evap',\n",
       " 'total_ocean_hflux_prec',\n",
       " 'total_ocean_lprec',\n",
       " 'total_ocean_lw_heat',\n",
       " 'total_ocean_melt',\n",
       " 'total_ocean_pme_river',\n",
       " 'total_ocean_river',\n",
       " 'total_ocean_river_heat',\n",
       " 'total_ocean_runoff',\n",
       " 'total_ocean_runoff_heat',\n",
       " 'total_ocean_salt',\n",
       " 'total_ocean_sens_heat',\n",
       " 'total_ocean_sfc_salt_flux_coupler',\n",
       " 'total_ocean_swflx',\n",
       " 'total_ocean_swflx_vis',\n",
       " 'tx_trans',\n",
       " 'tx_trans_int_z',\n",
       " 'tx_trans_rho',\n",
       " 'tx_trans_submeso',\n",
       " 'ty_trans',\n",
       " 'ty_trans_int_z',\n",
       " 'ty_trans_nrho_submeso',\n",
       " 'ty_trans_rho',\n",
       " 'ty_trans_submeso',\n",
       " 'u',\n",
       " 'u_dot_grad_vert_pv',\n",
       " 'uarea',\n",
       " 'uatm_m',\n",
       " 'uhrho_et',\n",
       " 'uocn_m',\n",
       " 'usurf',\n",
       " 'uvel_m',\n",
       " 'v',\n",
       " 'vatm_m',\n",
       " 'vert_pv',\n",
       " 'vhrho_nt',\n",
       " 'vicen_m',\n",
       " 'vocn_m',\n",
       " 'vsurf',\n",
       " 'vvel_m',\n",
       " 'wfiform',\n",
       " 'wfimelt',\n",
       " 'wt']"
      ]
     },
     "execution_count": 15,
     "metadata": {},
     "output_type": "execute_result"
    }
   ],
   "source": [
    "sorted(set().union(*cat_subset.df['variable']))"
   ]
  },
  {
   "cell_type": "code",
   "execution_count": 13,
   "id": "4d8f3190",
   "metadata": {},
   "outputs": [
    {
     "name": "stderr",
     "output_type": "stream",
     "text": [
      "/g/data/hh5/public/apps/miniconda3/envs/analysis3-23.07/lib/python3.10/site-packages/intake_esm/cat.py:270: FutureWarning: DataFrame.applymap has been deprecated. Use DataFrame.map instead.\n",
      "  .applymap(type)\n",
      "/g/data/hh5/public/apps/miniconda3/envs/analysis3-23.07/lib/python3.10/site-packages/intake_esm/cat.py:270: FutureWarning: DataFrame.applymap has been deprecated. Use DataFrame.map instead.\n",
      "  .applymap(type)\n"
     ]
    },
    {
     "ename": "KeyError",
     "evalue": "0",
     "output_type": "error",
     "traceback": [
      "\u001b[0;31m---------------------------------------------------------------------------\u001b[0m",
      "\u001b[0;31mValueError\u001b[0m                                Traceback (most recent call last)",
      "File \u001b[0;32m/g/data/hh5/public/apps/miniconda3/envs/analysis3-23.07/lib/python3.10/site-packages/pandas/core/indexes/range.py:414\u001b[0m, in \u001b[0;36mRangeIndex.get_loc\u001b[0;34m(self, key)\u001b[0m\n\u001b[1;32m    413\u001b[0m \u001b[38;5;28;01mtry\u001b[39;00m:\n\u001b[0;32m--> 414\u001b[0m     \u001b[38;5;28;01mreturn\u001b[39;00m \u001b[38;5;28;43mself\u001b[39;49m\u001b[38;5;241;43m.\u001b[39;49m\u001b[43m_range\u001b[49m\u001b[38;5;241;43m.\u001b[39;49m\u001b[43mindex\u001b[49m\u001b[43m(\u001b[49m\u001b[43mnew_key\u001b[49m\u001b[43m)\u001b[49m\n\u001b[1;32m    415\u001b[0m \u001b[38;5;28;01mexcept\u001b[39;00m \u001b[38;5;167;01mValueError\u001b[39;00m \u001b[38;5;28;01mas\u001b[39;00m err:\n",
      "\u001b[0;31mValueError\u001b[0m: 0 is not in range",
      "\nThe above exception was the direct cause of the following exception:\n",
      "\u001b[0;31mKeyError\u001b[0m                                  Traceback (most recent call last)",
      "Cell \u001b[0;32mIn[13], line 4\u001b[0m\n\u001b[1;32m      2\u001b[0m cat_subset \u001b[38;5;241m=\u001b[39m catalog[experiment]\n\u001b[1;32m      3\u001b[0m var_search \u001b[38;5;241m=\u001b[39m cat_subset\u001b[38;5;241m.\u001b[39msearch(variable\u001b[38;5;241m=\u001b[39m\u001b[38;5;124m'\u001b[39m\u001b[38;5;124mst_edges_ocean\u001b[39m\u001b[38;5;124m'\u001b[39m)\n\u001b[0;32m----> 4\u001b[0m var_search \u001b[38;5;241m=\u001b[39m var_search\u001b[38;5;241m.\u001b[39msearch(path\u001b[38;5;241m=\u001b[39m\u001b[43mvar_search\u001b[49m\u001b[38;5;241;43m.\u001b[39;49m\u001b[43mdf\u001b[49m\u001b[43m[\u001b[49m\u001b[38;5;124;43m'\u001b[39;49m\u001b[38;5;124;43mpath\u001b[39;49m\u001b[38;5;124;43m'\u001b[39;49m\u001b[43m]\u001b[49m\u001b[43m[\u001b[49m\u001b[38;5;241;43m0\u001b[39;49m\u001b[43m]\u001b[49m)\n\u001b[1;32m      5\u001b[0m darray \u001b[38;5;241m=\u001b[39m var_search\u001b[38;5;241m.\u001b[39mto_dask()\n\u001b[1;32m      6\u001b[0m darray \u001b[38;5;241m=\u001b[39m darray[\u001b[38;5;124m'\u001b[39m\u001b[38;5;124mst_edges_ocean\u001b[39m\u001b[38;5;124m'\u001b[39m]\n",
      "File \u001b[0;32m/g/data/hh5/public/apps/miniconda3/envs/analysis3-23.07/lib/python3.10/site-packages/pandas/core/series.py:1040\u001b[0m, in \u001b[0;36mSeries.__getitem__\u001b[0;34m(self, key)\u001b[0m\n\u001b[1;32m   1037\u001b[0m     \u001b[38;5;28;01mreturn\u001b[39;00m \u001b[38;5;28mself\u001b[39m\u001b[38;5;241m.\u001b[39m_values[key]\n\u001b[1;32m   1039\u001b[0m \u001b[38;5;28;01melif\u001b[39;00m key_is_scalar:\n\u001b[0;32m-> 1040\u001b[0m     \u001b[38;5;28;01mreturn\u001b[39;00m \u001b[38;5;28;43mself\u001b[39;49m\u001b[38;5;241;43m.\u001b[39;49m\u001b[43m_get_value\u001b[49m\u001b[43m(\u001b[49m\u001b[43mkey\u001b[49m\u001b[43m)\u001b[49m\n\u001b[1;32m   1042\u001b[0m \u001b[38;5;66;03m# Convert generator to list before going through hashable part\u001b[39;00m\n\u001b[1;32m   1043\u001b[0m \u001b[38;5;66;03m# (We will iterate through the generator there to check for slices)\u001b[39;00m\n\u001b[1;32m   1044\u001b[0m \u001b[38;5;28;01mif\u001b[39;00m is_iterator(key):\n",
      "File \u001b[0;32m/g/data/hh5/public/apps/miniconda3/envs/analysis3-23.07/lib/python3.10/site-packages/pandas/core/series.py:1156\u001b[0m, in \u001b[0;36mSeries._get_value\u001b[0;34m(self, label, takeable)\u001b[0m\n\u001b[1;32m   1153\u001b[0m     \u001b[38;5;28;01mreturn\u001b[39;00m \u001b[38;5;28mself\u001b[39m\u001b[38;5;241m.\u001b[39m_values[label]\n\u001b[1;32m   1155\u001b[0m \u001b[38;5;66;03m# Similar to Index.get_value, but we do not fall back to positional\u001b[39;00m\n\u001b[0;32m-> 1156\u001b[0m loc \u001b[38;5;241m=\u001b[39m \u001b[38;5;28;43mself\u001b[39;49m\u001b[38;5;241;43m.\u001b[39;49m\u001b[43mindex\u001b[49m\u001b[38;5;241;43m.\u001b[39;49m\u001b[43mget_loc\u001b[49m\u001b[43m(\u001b[49m\u001b[43mlabel\u001b[49m\u001b[43m)\u001b[49m\n\u001b[1;32m   1158\u001b[0m \u001b[38;5;28;01mif\u001b[39;00m is_integer(loc):\n\u001b[1;32m   1159\u001b[0m     \u001b[38;5;28;01mreturn\u001b[39;00m \u001b[38;5;28mself\u001b[39m\u001b[38;5;241m.\u001b[39m_values[loc]\n",
      "File \u001b[0;32m/g/data/hh5/public/apps/miniconda3/envs/analysis3-23.07/lib/python3.10/site-packages/pandas/core/indexes/range.py:416\u001b[0m, in \u001b[0;36mRangeIndex.get_loc\u001b[0;34m(self, key)\u001b[0m\n\u001b[1;32m    414\u001b[0m         \u001b[38;5;28;01mreturn\u001b[39;00m \u001b[38;5;28mself\u001b[39m\u001b[38;5;241m.\u001b[39m_range\u001b[38;5;241m.\u001b[39mindex(new_key)\n\u001b[1;32m    415\u001b[0m     \u001b[38;5;28;01mexcept\u001b[39;00m \u001b[38;5;167;01mValueError\u001b[39;00m \u001b[38;5;28;01mas\u001b[39;00m err:\n\u001b[0;32m--> 416\u001b[0m         \u001b[38;5;28;01mraise\u001b[39;00m \u001b[38;5;167;01mKeyError\u001b[39;00m(key) \u001b[38;5;28;01mfrom\u001b[39;00m \u001b[38;5;21;01merr\u001b[39;00m\n\u001b[1;32m    417\u001b[0m \u001b[38;5;28;01mif\u001b[39;00m \u001b[38;5;28misinstance\u001b[39m(key, Hashable):\n\u001b[1;32m    418\u001b[0m     \u001b[38;5;28;01mraise\u001b[39;00m \u001b[38;5;167;01mKeyError\u001b[39;00m(key)\n",
      "\u001b[0;31mKeyError\u001b[0m: 0"
     ]
    }
   ],
   "source": [
    "# Import edges of st_ocean and add lat/lon dimensions:\n",
    "cat_subset = catalog[experiment]\n",
    "var_search = cat_subset.search(variable='st_edges_ocean')\n",
    "var_search = var_search.search(path=var_search.df['path'][0])\n",
    "darray = var_search.to_dask()\n",
    "darray = darray['st_edges_ocean']\n",
    "darray = darray.sel(time=slice(start_time, end_time))\n",
    "st_edges_ocean = darray\n",
    "st_edges_array = st_edges_ocean.expand_dims({'yu_ocean': u.yu_ocean, 'xu_ocean': u.xu_ocean}, axis=[1, 2])"
   ]
  },
  {
   "cell_type": "code",
   "execution_count": null,
   "id": "62b8e3a8",
   "metadata": {},
   "outputs": [],
   "source": [
    "# Adjust edges at bottom for partial thickness:\n",
    "st_edges_with_partial = st_edges_array.where(st_edges_array<hu, other=hu)\n",
    "thickness = st_edges_with_partial.diff(dim='st_edges_ocean')\n",
    "\n",
    "# Change coordinate of thickness to st_ocean (needed for multipling with other variables):\n",
    "cat_subset = catalog[experiment]\n",
    "var_search = cat_subset.search(variable='st_ocean')\n",
    "var_search = var_search.search(path=var_search.df['path'][0])\n",
    "darray = var_search.to_dask()\n",
    "darray = darray['st_ocean']\n",
    "st_ocean = darray\n",
    "thickness['st_edges_ocean'] = st_ocean.values\n",
    "thickness = thickness.rename(({'st_edges_ocean': 'st_ocean'}))\n",
    "thickness = thickness.sel(st_ocean=slice(0, 500))\n",
    "\n",
    "# Depth average gives us the barotropic velocity\n",
    "u_barotropic = (u_along * thickness).sum('st_ocean') / thickness.sum('st_ocean')\n",
    "#v_barotropic = (v_cross * thickness).sum('st_ocean') / thickness.sum('st_ocean')"
   ]
  },
  {
   "cell_type": "markdown",
   "id": "18c6dd25",
   "metadata": {},
   "source": [
    "### Interpolate gridded data to section\n",
    "\n",
    "This is where we make use of the `cross-section` function from the MetPy package. It is designed for xarray, but requires the data to look in a certain way, hence we need to change the coordinate names and parse the data. "
   ]
  },
  {
   "cell_type": "code",
   "execution_count": null,
   "id": "25f5ee98",
   "metadata": {},
   "outputs": [],
   "source": [
    "# Create dataset\n",
    "ds = xr.Dataset({\"u_along\": u, \"lat\": u.yu_ocean, \"lon\": u.xu_ocean, \"hu\": hu})\n",
    "\n",
    "# Rename coordinate names\n",
    "ds = ds.rename({'xu_ocean': 'x', 'yu_ocean': 'y'})\n",
    "\n",
    "# Centre on zero longitude as this is what metpy requires\n",
    "ds = centre_longitude(ds)\n",
    "\n",
    "# MetPy parsing\n",
    "u_parsed = ds.metpy.parse_cf('u_along', coordinates={'y': 'y', 'x': 'x'})"
   ]
  },
  {
   "cell_type": "code",
   "execution_count": null,
   "id": "269b3214",
   "metadata": {},
   "outputs": [],
   "source": [
    "# Define number of points you want to interpolate\n",
    "step_no = 50\n",
    "\n",
    "# Start and end point coordinates of section (in approximate cross-slope orientation)\n",
    "shelf_coord = (-66.5, -269.3)\n",
    "deep_coord  = (-64, -271.9)\n",
    "\n",
    "# Finally, interpolate gridded data onto the section\n",
    "u_section = cross_section(u_parsed, start=(shelf_coord[0], shelf_coord[1]), end=(deep_coord[0], deep_coord[1]), steps=step_no, interp_type='linear')\n",
    "u_section"
   ]
  },
  {
   "cell_type": "markdown",
   "id": "9a7b960e",
   "metadata": {},
   "source": [
    "Use `pyproj` to project transect coordinates into a cartesian south polar projection (see [this blog post](https://climate-cms.org/posts/2021-10-01-pyproj.html) for more information)"
   ]
  },
  {
   "cell_type": "code",
   "execution_count": null,
   "id": "048bc5d4",
   "metadata": {},
   "outputs": [],
   "source": [
    "source_crs = pyproj.CRS(init=\"epsg:4326\") # Global lat-lon coordinate system\n",
    "target_crs = pyproj.CRS(init=\"epsg:3031\") # Cartesian south polar projection\n",
    "\n",
    "latlon_to_polar = pyproj.Transformer.from_crs(source_crs, target_crs)\n",
    "\n",
    "x_m, y_m = latlon_to_polar.transform(u_section.x, u_section.y)"
   ]
  },
  {
   "cell_type": "markdown",
   "id": "c5f7fada",
   "metadata": {},
   "source": [
    "Calculate the euclidian distance between each point, add a leading zero for the origin and convert from metres to kilometres"
   ]
  },
  {
   "cell_type": "code",
   "execution_count": null,
   "id": "5c69fd05",
   "metadata": {},
   "outputs": [],
   "source": [
    "dist = np.sqrt((x_m[1:] - x_m[:-1])**2 + (y_m[1:] - y_m[:-1])**2)\n",
    "dist = [0, *np.cumsum(dist) / 1000.]"
   ]
  },
  {
   "cell_type": "markdown",
   "id": "6fc61ffc",
   "metadata": {},
   "source": [
    "Add along-transect distance coordinate in km"
   ]
  },
  {
   "cell_type": "code",
   "execution_count": null,
   "id": "cf0d9e32",
   "metadata": {},
   "outputs": [],
   "source": [
    "u_section = u_section.assign_coords(distance=('index', dist))"
   ]
  },
  {
   "cell_type": "markdown",
   "id": "9805ea99",
   "metadata": {},
   "source": [
    "### Plotting"
   ]
  },
  {
   "cell_type": "markdown",
   "id": "43588541",
   "metadata": {},
   "source": [
    "Create a circular path to clip plots"
   ]
  },
  {
   "cell_type": "code",
   "execution_count": null,
   "id": "2f3f7079",
   "metadata": {},
   "outputs": [],
   "source": [
    "theta  = np.linspace(0, 2*np.pi, 100)\n",
    "center, radius = [0.5, 0.5], 0.45\n",
    "verts  = np.vstack([np.sin(theta), np.cos(theta)]).T\n",
    "circle = mpath.Path(verts * radius + center)"
   ]
  },
  {
   "cell_type": "markdown",
   "id": "ac60ad3b",
   "metadata": {},
   "source": [
    "Create a land mask for plotting, set land cells to 1 and rest to NaN"
   ]
  },
  {
   "cell_type": "code",
   "execution_count": null,
   "id": "90930c44",
   "metadata": {},
   "outputs": [],
   "source": [
    "land = xr.where(np.isnan(hu.rename('land')), 1, np.nan)"
   ]
  },
  {
   "cell_type": "markdown",
   "id": "a08e238a",
   "metadata": {},
   "source": [
    "Set default fontsize"
   ]
  },
  {
   "cell_type": "code",
   "execution_count": null,
   "id": "40b50048",
   "metadata": {},
   "outputs": [],
   "source": [
    "ft_size = 16\n",
    "plt.rcParams.update({'font.size': ft_size})"
   ]
  },
  {
   "cell_type": "markdown",
   "id": "ccdd66d1",
   "metadata": {},
   "source": [
    "#### Map of topographic slope and location of cross-slope section"
   ]
  },
  {
   "cell_type": "code",
   "execution_count": null,
   "id": "e9c6a159",
   "metadata": {},
   "outputs": [],
   "source": [
    "fig = plt.figure(1, figsize=(20, 10))\n",
    "\n",
    "# create suplot axes\n",
    "# the `facecolor` kwarg is used to denotes the color that should be used to fill when no data\n",
    "# is available (in this case, for anything south of 80S)\n",
    "ax0 = plt.subplot(1, 2, 1, projection=ccrs.SouthPolarStereo(), facecolor=\"darkgrey\")\n",
    "ax1 = plt.subplot(1, 2, 2, projection=ccrs.SouthPolarStereo(), facecolor=\"darkgrey\")\n",
    "\n",
    "# Set background the same for both plots\n",
    "for ax in [ax0, ax1]:\n",
    "    ax.set_boundary(circle, transform=ax.transAxes)\n",
    "    # Land\n",
    "    land.plot.contourf(ax=ax, colors='darkgrey', zorder=2,\n",
    "                       transform=ccrs.PlateCarree(), add_colorbar=False)\n",
    "    # Coastline\n",
    "    land.fillna(0).plot.contour(ax=ax, colors='k', levels=[0, 1],\n",
    "                                transform=ccrs.PlateCarree(), add_colorbar=False)\n",
    "\n",
    "\n",
    "# LEFT PANEL: bathymetry\n",
    "\n",
    "# Depth contours\n",
    "hu.plot.contour(ax=ax0, levels=[500, 1000, 2000, 3000],\n",
    "                colors='0.2', linewidths=[0.5, 2, 0.5, 0.5], alpha=0.5,\n",
    "                transform=ccrs.PlateCarree())\n",
    "\n",
    "# Bathymetry\n",
    "sc = hu.plot(ax=ax0, add_colorbar=False, cmap=cm.cm.deep, \n",
    "             transform=ccrs.PlateCarree(), vmin=0, vmax=4000)\n",
    "\n",
    "# Customise colorbar\n",
    "cbar_ax = fig.add_axes([0.48, 0.4, 0.02, 0.2])\n",
    "cbar = plt.colorbar(sc, cax=cbar_ax, orientation='vertical', shrink=0.5, extend='min')\n",
    "cbar.ax.invert_yaxis()\n",
    "# Hack work-around for bug in matplotlib when inverting the axis, the bottom extend triangle has the under-value color\n",
    "cbar.ax._children[2].set_color(cm.cm.deep.get_over())\n",
    "\n",
    "# Location of cross-slope section (East Antarctica)\n",
    "ax0.plot([shelf_coord[1], deep_coord[1]], [shelf_coord[0], deep_coord[0]],\n",
    "         color='tomato', linewidth=3, transform=ccrs.PlateCarree())\n",
    "\n",
    "\n",
    "# RIGHT PANEL: topographic slope\n",
    "\n",
    "# Topographic slope \n",
    "sc = topographic_slope_magnitude.plot(ax=ax1, cmap=cm.cm.matter, transform=ccrs.PlateCarree(),\n",
    "                                      vmin=0, vmax=0.1, add_colorbar=False)\n",
    "\n",
    "# Customise colorbar\n",
    "cbar_ax = fig.add_axes([0.9, 0.4, 0.02, 0.2])\n",
    "cbar = plt.colorbar(sc, cax=cbar_ax, orientation='vertical', shrink=0.5, extend='max')\n",
    "\n",
    "# Location of cross-slope section (East Antarctica)\n",
    "ax1.plot([shelf_coord[1], deep_coord[1]], [shelf_coord[0], deep_coord[0]],\n",
    "         color='k', linewidth=3, transform=ccrs.PlateCarree())\n",
    "\n",
    "\n",
    "# Add titles to the subplots\n",
    "ax0.set_title('Bathymetry (m)')\n",
    "ax1.set_title('Topographic slope');"
   ]
  },
  {
   "cell_type": "markdown",
   "id": "08283c65",
   "metadata": {},
   "source": [
    "#### Map of along-slope velocity with bathymetry contours"
   ]
  },
  {
   "cell_type": "code",
   "execution_count": null,
   "id": "f32e6e74",
   "metadata": {},
   "outputs": [],
   "source": [
    "fig = plt.figure(1, figsize=(15, 15))\n",
    "\n",
    "ax = plt.subplot(1, 1, 1, projection=ccrs.SouthPolarStereo(), facecolor=\"darkgrey\")\n",
    "ax.set_boundary(circle, transform=ax.transAxes)\n",
    "    \n",
    "# Filled land \n",
    "land.plot.contourf(ax=ax, colors='darkgrey', zorder=2,\n",
    "                   transform=ccrs.PlateCarree(), add_colorbar=False)\n",
    "\n",
    "# Coastline\n",
    "land.fillna(0).plot.contour(ax=ax, colors='k', levels=[0, 1],\n",
    "                            transform=ccrs.PlateCarree(), add_colorbar=False)\n",
    "\n",
    "# Depth contours\n",
    "hu.plot.contour(ax=ax, levels=[500, 1000, 2000, 3000],\n",
    "                colors='0.2', linewidths=[0.5, 2, 0.5, 0.5], alpha=0.5,\n",
    "                transform=ccrs.PlateCarree())\n",
    "\n",
    "# Along slope barotropic velocity\n",
    "sc = u_barotropic.plot(ax = ax, cmap=cm.cm.curl,\n",
    "                       transform=ccrs.PlateCarree(), vmin=-0.3, vmax=0.3,\n",
    "                       cbar_kwargs={'orientation': 'vertical',\n",
    "                                    'shrink': 0.25,\n",
    "                                    'extend': 'both',\n",
    "                                    'label': None,\n",
    "                                    'aspect': 8})\n",
    "\n",
    "# Location of cross-slope section (East Antarctica)\n",
    "ax.plot([shelf_coord[1], deep_coord[1]], [shelf_coord[0], deep_coord[0]],\n",
    "        color='tomato', linewidth=3, transform=ccrs.PlateCarree())\n",
    "    \n",
    "ax.set_title('Along-slope velocity (m s$^{-1}$)');"
   ]
  },
  {
   "cell_type": "markdown",
   "id": "6f983848",
   "metadata": {},
   "source": [
    "#### Cross-slope section of along-slope velocity"
   ]
  },
  {
   "cell_type": "code",
   "execution_count": null,
   "id": "3d0bced4",
   "metadata": {},
   "outputs": [],
   "source": [
    "u_section.plot.pcolormesh(x='distance', y='st_ocean',\n",
    "                          cmap=cm.cm.curl, vmin=-0.2, vmax=0.2, \n",
    "                          cbar_kwargs={'extend':'both',\n",
    "                                       'label':'Along-slope velocity (m s$^{-1}$)'},\n",
    "                          yincrease=False, add_labels=False, figsize=(15, 5))\n",
    "\n",
    "plt.title('Cross-slope section, East Antarctica', fontsize=ft_size, loc='left')\n",
    "plt.xlabel('Distance (km)')\n",
    "plt.ylabel('Depth (m)')\n",
    "\n",
    "# Add annotations\n",
    "bbox_props = dict(boxstyle=\"round\", fc=\"w\", ec=\"0.5\", alpha=0.9)\n",
    "plt.text(115, 150, \"Slope\\nCurrent\", ha=\"center\", va=\"center\", bbox=bbox_props)\n",
    "plt.text(19, 150, \"Coastal\\nCurrent\", ha=\"center\", va=\"center\", bbox=bbox_props);"
   ]
  }
 ],
 "metadata": {
  "kernelspec": {
   "display_name": "Python [conda env:analysis3-23.07] *",
   "language": "python",
   "name": "conda-env-analysis3-23.07-py"
  },
  "language_info": {
   "codemirror_mode": {
    "name": "ipython",
    "version": 3
   },
   "file_extension": ".py",
   "mimetype": "text/x-python",
   "name": "python",
   "nbconvert_exporter": "python",
   "pygments_lexer": "ipython3",
   "version": "3.10.13"
  },
  "other_supplementary_files": [
   "images/topographic_gradient_sketch.png"
  ]
 },
 "nbformat": 4,
 "nbformat_minor": 5
}
