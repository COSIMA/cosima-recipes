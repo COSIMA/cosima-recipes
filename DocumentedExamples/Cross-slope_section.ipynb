{
 "cells": [
  {
   "cell_type": "markdown",
   "metadata": {},
   "source": [
    "# Cross-slope section\n",
    "\n",
    "This notebook gives an example on how to obtain a section through gridded data. We use the __[function](https://unidata.github.io/MetPy/latest/examples/cross_section.html#sphx-glr-examples-cross-section-py)__ `metpy.interpolate.cross_section` to do so. \n",
    "In this example we plot the along-slope velocity component across the Antarctic continental shelf break. In order to calculate the along-slope velocity component, we will need to calculate the topographic gradient first, which we do with the help of the `xgcm` __[module](https://xgcm.readthedocs.io/en/latest/)__. "
   ]
  },
  {
   "cell_type": "markdown",
   "metadata": {},
   "source": [
    "Load modules"
   ]
  },
  {
   "cell_type": "code",
   "execution_count": null,
   "metadata": {},
   "outputs": [],
   "source": [
    "# Standard modules\n",
    "import cosima_cookbook as cc\n",
    "from dask.distributed import Client\n",
    "import numpy as np\n",
    "import xarray as xr\n",
    "\n",
    "# For gradient calculation \n",
    "# (We will need the topographic gradient to calculate the along-slope velocity component)\n",
    "import xgcm\n",
    "\n",
    "# Load metpy module to obtain cross section \n",
    "# (Select the conda/analusis3-unstable kernel if you have problems loading this module)\n",
    "from metpy.interpolate import cross_section\n",
    "\n",
    "# For plotting\n",
    "import cartopy.crs as ccrs\n",
    "import matplotlib.pyplot as plt\n",
    "import matplotlib.path as mpath\n",
    "import cmocean as cm"
   ]
  },
  {
   "cell_type": "markdown",
   "metadata": {},
   "source": [
    "Start a cluster with multiple cores"
   ]
  },
  {
   "cell_type": "code",
   "execution_count": null,
   "metadata": {},
   "outputs": [],
   "source": [
    "client = Client() \n",
    "client"
   ]
  },
  {
   "cell_type": "markdown",
   "metadata": {},
   "source": [
    "Nominate a database from which to load the data and define an experiment"
   ]
  },
  {
   "cell_type": "code",
   "execution_count": null,
   "metadata": {},
   "outputs": [],
   "source": [
    "# Load database\n",
    "session = cc.database.create_session()\n",
    "# Define experiment in database\n",
    "expt = '01deg_jra55v13_ryf9091'"
   ]
  },
  {
   "cell_type": "markdown",
   "metadata": {},
   "source": [
    "Load velocity and bathymetry data"
   ]
  },
  {
   "cell_type": "code",
   "execution_count": null,
   "metadata": {},
   "outputs": [],
   "source": [
    "# Select data in the southern Southern Ocean\n",
    "lat_slice  = slice(-80, -59)\n",
    "\n",
    "# We will use an annual average from one year in the RYF run\n",
    "start_time = '2086-01-01'\n",
    "end_time   = '2086-12-31'\n",
    "\n",
    "# Import bathymetry\n",
    "hu = cc.querying.getvar(expt, 'hu', session, n=1)\n",
    "hu = hu.sel(yu_ocean=lat_slice)\n",
    "hu = hu.load()\n",
    "\n",
    "# Import velocity data (upper 500 m)\n",
    "u = cc.querying.getvar(expt, 'u', session, start_time=start_time, end_time=end_time, ncfile=\"ocean.nc\")\n",
    "u = u.sel(time=slice(start_time, end_time)).mean('time')\n",
    "u = u.sel(yu_ocean=lat_slice).sel(st_ocean=slice(0, 500))\n",
    "\n",
    "v = cc.querying.getvar(expt, 'v', session, start_time=start_time, end_time=end_time, ncfile=\"ocean.nc\")\n",
    "v = v.sel(time=slice(start_time, end_time)).mean('time')\n",
    "v = v.sel(yu_ocean=lat_slice).sel(st_ocean=slice(0, 500))"
   ]
  },
  {
   "cell_type": "markdown",
   "metadata": {},
   "source": [
    "### Along-slope velocity\n",
    "\n",
    "We calculate the along-slope velocity component by projecting the velocity field to the tangent vector, $u_{along} = \\boldsymbol{u \\cdot \\hat{t}$, and the cross-slope component by projecting to the normal vector, $v_{cross} = \\boldsymbol{u \\cdot \\hat{n}}$. The schematic below defines the unit normal normal and tangent vectors for a given bathymetric contour, $\\boldsymbol{n}$ and $\\boldsymbol{t}$ respectively. "
   ]
  },
  {
   "cell_type": "markdown",
   "metadata": {},
   "source": [
    "![Sketch of topographic gradient](images/topographic_gradient_sketch.png)"
   ]
  },
  {
   "cell_type": "markdown",
   "metadata": {},
   "source": [
    "Accordingly, the code below calculates the along-slope velocity component as\n",
    "\n",
    "$$ u_{along} = (u,v) \\boldsymbol{\\cdot} \\left(\\frac{h_y}{|\\nabla h|} , -\\frac{h_x}{|\\nabla h|}\\right) = \n",
    "u \\frac{h_y}{|\\nabla h|} - v \\frac{h_x}{|\\nabla h|}, $$  \n",
    "\n",
    "and similarly the cross-slope velocity component as\n",
    "\n",
    "$$ v_{cross} = (u,v) \\boldsymbol{\\cdot} \\left(\\frac{h_x}{|\\nabla h|} , \\frac{h_y}{|\\nabla h|}\\right)  = \n",
    "u \\frac{h_x}{|\\nabla h|} + v \\frac{h_y}{|\\nabla h|}.$$ \n"
   ]
  },
  {
   "cell_type": "markdown",
   "metadata": {},
   "source": [
    "We need the derivatives of the bathymetry which we compute using the `xgcm` functionality."
   ]
  },
  {
   "cell_type": "code",
   "execution_count": null,
   "metadata": {},
   "outputs": [],
   "source": [
    "# Load model grid information\n",
    "path_to_folder = '/g/data/ik11/outputs/access-om2-01/01deg_jra55v13_ryf9091/output000/ocean/'\n",
    "grid = xr.open_mfdataset(path_to_folder+'ocean_grid.nc', combine='by_coords')\n",
    "\n",
    "# Give information on the grid: location of u (momentum) and t (tracer) points on B-grid \n",
    "ds = xr.merge([hu, grid])\n",
    "ds.coords['xt_ocean'].attrs.update(axis='X')\n",
    "ds.coords['xu_ocean'].attrs.update(axis='X', c_grid_axis_shift=0.5)\n",
    "ds.coords['yt_ocean'].attrs.update(axis='Y')\n",
    "ds.coords['yu_ocean'].attrs.update(axis='Y', c_grid_axis_shift=0.5)\n",
    "\n",
    "grid = xgcm.Grid(ds, periodic=['X'])\n",
    "\n",
    "# Take topographic gradient (simple gradient over one grid cell) and move back to u-grid\n",
    "dhu_dx = grid.interp( grid.diff(ds.hu, 'X') / grid.interp(ds.dxu, 'X'), 'X')\n",
    "\n",
    "# In meridional direction, we need to specify what happens at the boundary\n",
    "dhu_dy = grid.interp( grid.diff(ds.hu, 'Y', boundary='extend') / grid.interp(ds.dyt, 'X'), 'Y', boundary='extend')\n",
    "\n",
    "# Select latitude slice\n",
    "dhu_dx = dhu_dx.sel(yu_ocean=lat_slice)\n",
    "dhu_dy = dhu_dy.sel(yu_ocean=lat_slice)\n",
    "\n",
    "# Magnitude of the topographic slope (to normalise the topographic gradient)\n",
    "topographic_slope_magnitude = np.sqrt(dhu_dx**2 + dhu_dy**2)"
   ]
  },
  {
   "cell_type": "markdown",
   "metadata": {},
   "source": [
    "Calculate along-slope velocity component"
   ]
  },
  {
   "cell_type": "code",
   "execution_count": null,
   "metadata": {},
   "outputs": [],
   "source": [
    "# Along-slope velocity\n",
    "u_along = u * dhu_dy / topographic_slope_magnitude - v * dhu_dx / topographic_slope_magnitude\n",
    "\n",
    "# Load the data\n",
    "u_along = u_along.load()\n",
    "\n",
    "# Similarly, we can calculate the cross-slope velocity:\n",
    "#v_cross = u*dhu_dx/topographic_slope_magnitude + v*dhu_dy/topographic_slope_magnitude"
   ]
  },
  {
   "cell_type": "markdown",
   "metadata": {},
   "source": [
    "Vertical averaging (we only need this to plot the velocity on a map)"
   ]
  },
  {
   "cell_type": "code",
   "execution_count": null,
   "metadata": {},
   "outputs": [],
   "source": [
    "# Import edges of st_ocean and add lat/lon dimensions:\n",
    "st_edges_ocean = cc.querying.getvar(expt, 'st_edges_ocean', session, start_time=start_time, end_time=end_time, n=1)\n",
    "st_edges_array = st_edges_ocean.expand_dims({'yu_ocean': u.yu_ocean, 'xu_ocean': u.xu_ocean}, axis=[1, 2])\n",
    "\n",
    "# Adjust edges at bottom for partial thickness:\n",
    "st_edges_with_partial = st_edges_array.where(st_edges_array<hu, other=hu)\n",
    "thickness = st_edges_with_partial.diff(dim='st_edges_ocean')\n",
    "\n",
    "# Change coordinate of thickness to st_ocean (needed for multipling with other variables):\n",
    "st_ocean = cc.querying.getvar(expt, 'st_ocean', session, n=1)\n",
    "thickness['st_edges_ocean'] = st_ocean.values\n",
    "thickness = thickness.rename(({'st_edges_ocean': 'st_ocean'}))\n",
    "thickness = thickness.sel(st_ocean=slice(0, 500))\n",
    "\n",
    "# Depth average gives us the barotropic velocity\n",
    "u_barotropic = (u_along * thickness).sum('st_ocean') / thickness.sum('st_ocean')\n",
    "#v_barotropic = (v_cross * thickness).sum('st_ocean') / thickness.sum('st_ocean')"
   ]
  },
  {
   "cell_type": "markdown",
   "metadata": {},
   "source": [
    "### Interpolate gridded data to section\n",
    "\n",
    "This is where we make use of the `cross-section` function from the MetPy package. It is designed for xarray, but requires the data to look in a certain way, hence we need to change the coordinate names and parse the data. "
   ]
  },
  {
   "cell_type": "code",
   "execution_count": null,
   "metadata": {},
   "outputs": [],
   "source": [
    "# Create dataset\n",
    "ds = xr.Dataset({\"u_along\": u, \"lat\": u.yu_ocean, \"lon\": u.xu_ocean, \"hu\": hu})\n",
    "\n",
    "# Rename coordinate names\n",
    "ds = ds.rename({'xu_ocean': 'x', 'yu_ocean': 'y'})\n",
    "\n",
    "# Convert latitude from ACCESS-OM2 default range of [-280, 80] to [-180, 180] since this is what metpy expects.\n",
    "ds['x'] = ds['x'] + 100\n",
    "ds['x'].attrs = u['xu_ocean'].attrs\n",
    "\n",
    "# MetPy parsing\n",
    "u_parsed = ds.metpy.parse_cf('u_along', coordinates={'y': 'y', 'x': 'x'})"
   ]
  },
  {
   "cell_type": "code",
   "execution_count": null,
   "metadata": {},
   "outputs": [],
   "source": [
    "# Define number of points you want to interpolate\n",
    "step_no = 50\n",
    "\n",
    "# Start and end point coordinates of section (in approximate cross-slope orientation)\n",
    "shelf_coord = (-66.5, -269.3 + 100)\n",
    "deep_coord  = (-64, -271.9 + 100)\n",
    "\n",
    "# Finally, interpolate gridded data onto the section\n",
    "u_section = cross_section(u_parsed, start=(shelf_coord[0], shelf_coord[1]), end=(deep_coord[0], deep_coord[1]), steps=step_no, interp_type='linear')\n",
    "u_section"
   ]
  },
  {
   "cell_type": "markdown",
   "metadata": {},
   "source": [
    "Finally calculate the distance along the transect (for plotting purposes)"
   ]
  },
  {
   "cell_type": "code",
   "execution_count": null,
   "metadata": {},
   "outputs": [],
   "source": [
    "# Radius of the Earth in km\n",
    "r = 6371\n",
    "\n",
    "# Difference between points in lat/lon space\n",
    "dlon = deep_coord[1] - shelf_coord[1]\n",
    "dlat = deep_coord[0] - shelf_coord[0]\n",
    "\n",
    "# Calculate distance in km between the two end points\n",
    "distance_endpoints = r * np.deg2rad(np.sqrt(dlat**2 + (dlon*np.cos(np.deg2rad(np.mean([shelf_coord[0], deep_coord[0]]))))**2))\n",
    "\n",
    "# Create array with length of step_no\n",
    "distance_in_km = np.linspace(0, distance_endpoints, step_no)\n",
    "\n",
    "# Repeat by the number of depth levels\n",
    "distance_in_km = np.tile(distance_in_km, (len(u_section.st_ocean), 1))"
   ]
  },
  {
   "cell_type": "markdown",
   "metadata": {},
   "source": [
    "### Plotting"
   ]
  },
  {
   "cell_type": "code",
   "execution_count": null,
   "metadata": {},
   "outputs": [],
   "source": [
    "# For polar projection\n",
    "theta  = np.linspace(0, 2*np.pi, 100)\n",
    "center, radius = [0.5, 0.5], 0.45\n",
    "verts  = np.vstack([np.sin(theta), np.cos(theta)]).T\n",
    "circle = mpath.Path(verts * radius + center)\n",
    "\n",
    "# Data required for lat/lon mapping\n",
    "land_mask = np.squeeze(hu.values)\n",
    "land_mask = land_mask * 0\n",
    "land_mask[np.isnan(land_mask)] = 1\n",
    "yu_ocean = hu.yu_ocean.values\n",
    "xu_ocean = hu.xu_ocean.values\n",
    "land_mask_masked = np.ma.masked_where((land_mask==0),land_mask)\n",
    "\n",
    "# Make land go all the way to -90S:\n",
    "land_mask_lat = hu.yu_ocean.values\n",
    "land_mask_lat[0] = -90\n",
    "\n",
    "# create a land data array\n",
    "land = hu.copy().rename('land')\n",
    "land.data = land_mask_masked\n",
    "\n",
    "land_mask = hu.copy().rename('land_mask')\n",
    "land_mask.data = land_mask\n",
    "\n",
    "# Fontsize\n",
    "ft_size = 16;"
   ]
  },
  {
   "cell_type": "markdown",
   "metadata": {},
   "source": [
    "Map of topographic slope and location of cross-slope section"
   ]
  },
  {
   "cell_type": "code",
   "execution_count": null,
   "metadata": {},
   "outputs": [],
   "source": [
    "fig = plt.figure(1, figsize=(20, 10))\n",
    "\n",
    "# create suplot axes\n",
    "ax0 = plt.subplot(1, 2, 1, projection=ccrs.SouthPolarStereo())\n",
    "ax1 = plt.subplot(1, 2, 2, projection=ccrs.SouthPolarStereo())\n",
    "\n",
    "for ax in [ax0, ax1]:\n",
    "    ax.set_boundary(circle, transform=ax.transAxes)\n",
    "\n",
    "    # Plot land\n",
    "    land.plot.contourf(ax=ax, colors='darkgrey', zorder=2, transform=ccrs.PlateCarree(), add_colorbar=False)\n",
    "\n",
    "    # Plot coastline\n",
    "    land.fillna(0).plot.contour(ax=ax, colors='k', levels=[0, 1], transform=ccrs.PlateCarree(), add_colorbar=False)\n",
    "\n",
    "    \n",
    "# LEFT PANEL: bathymetry\n",
    "\n",
    "hu.plot.contour(ax=ax0, levels=[500, 1000, 2000, 3000],\n",
    "            colors='0.2', linewidths=[0.5, 2, 0.5, 0.5], alpha=0.5, transform=ccrs.PlateCarree())\n",
    "\n",
    "sc = hu.plot(ax=ax0, add_colorbar=False, cmap=cm.cm.deep, transform=ccrs.PlateCarree(), vmin=0, vmax=4000)\n",
    "\n",
    "# Plot location of cross-slope section (East Antarctica)\n",
    "ax0.plot([-269.3, -271.9], [-66.5, -64], color='tomato', linewidth=3, transform=ccrs.PlateCarree())\n",
    "\n",
    "# Colorbar\n",
    "cbar_ax = fig.add_axes([0.48, 0.4, 0.02, 0.2])\n",
    "cbar = plt.colorbar(sc, cax=cbar_ax, orientation='vertical', shrink=0.5, extend='max')\n",
    "cbar.ax.tick_params(labelsize=ft_size)\n",
    "\n",
    "\n",
    "# # RIGHT PANEL: topographic slope\n",
    "\n",
    "# Plot topographic slope \n",
    "sc = topographic_slope_magnitude.plot(ax=ax1, cmap=cm.cm.matter, transform=ccrs.PlateCarree(), vmin=0, vmax=0.1, add_colorbar=False)\n",
    "\n",
    "# Plot location of cross-slope section (East Antarctica)\n",
    "ax1.plot([-269.3, -271.9], [-66.5, -64], color='k', linewidth=3, transform=ccrs.PlateCarree())\n",
    "\n",
    "# Colorbar\n",
    "cbar_ax = fig.add_axes([0.9, 0.4, 0.02, 0.2])\n",
    "cbar = plt.colorbar(sc, cax=cbar_ax, orientation='vertical', shrink=0.5, extend='max')\n",
    "cbar.ax.tick_params(labelsize=ft_size);\n",
    "\n",
    "# Add titles to the subplots\n",
    "ax0.set_title('Bathymetry (m)', fontsize=ft_size)\n",
    "ax1.set_title('Topographic slope', fontsize=ft_size);"
   ]
  },
  {
   "cell_type": "markdown",
   "metadata": {},
   "source": [
    "Map of along-slope velocity with bathymetry contours"
   ]
  },
  {
   "cell_type": "code",
   "execution_count": null,
   "metadata": {},
   "outputs": [],
   "source": [
    "fig = plt.figure(1, figsize=(15,15))\n",
    "\n",
    "ax = plt.subplot(1,1,1, projection=ccrs.SouthPolarStereo())\n",
    "\n",
    "ax.set_boundary(circle, transform=ax.transAxes)\n",
    "    \n",
    "# Plot land\n",
    "land.plot.contourf(ax=ax, colors='darkgrey', zorder=2, transform=ccrs.PlateCarree(), add_colorbar=False)\n",
    "\n",
    "# Plot coastline\n",
    "land.fillna(0).plot.contour(ax=ax, colors='k', levels=[0, 1], transform=ccrs.PlateCarree(), add_colorbar=False)\n",
    "\n",
    "hu.plot.contour(ax=ax0, levels=[500, 1000, 2000, 3000],\n",
    "            colors='0.2', linewidths=[0.5, 2, 0.5, 0.5], alpha=0.5, transform=ccrs.PlateCarree())\n",
    "\n",
    "sc = u_barotropic.plot(ax = ax, cmap=cm.cm.curl, transform=ccrs.PlateCarree(), vmin=-0.3, vmax=0.3, add_colorbar=False)\n",
    "\n",
    "# Plot location of cross-slope section (East Antarctica)\n",
    "ax.plot([-269.3, -271.9], [-66.5, -64], color='tomato', linewidth=3, transform=ccrs.PlateCarree())\n",
    "    \n",
    "ax.set_title('Along-slope velocity (m s$^{-1}$)', fontsize=ft_size)\n",
    "\n",
    "# Colorbar\n",
    "cbar_ax = fig.add_axes([0.91, 0.4, 0.02, 0.2])\n",
    "cbar = plt.colorbar(sc, cax=cbar_ax, orientation='vertical', shrink=0.5)\n",
    "cbar.ax.tick_params(labelsize=ft_size);"
   ]
  },
  {
   "cell_type": "markdown",
   "metadata": {},
   "source": [
    "Cross-slope section of along-slope velocity"
   ]
  },
  {
   "cell_type": "code",
   "execution_count": null,
   "metadata": {},
   "outputs": [],
   "source": [
    "fig = plt.figure(figsize=(15, 5))\n",
    "\n",
    "plt.title('Cross-slope section, East Antarctica', fontsize=ft_size, loc='left')\n",
    "\n",
    "plt.pcolormesh(distance_in_km, u_section.st_ocean, u_section, cmap=cm.cm.curl, vmin=-0.2, vmax=0.2)\n",
    "\n",
    "# Colorbar\n",
    "cbar = plt.colorbar()\n",
    "cbar.set_label('Along-slope velocity (m s$^{-1}$)', fontsize=ft_size)\n",
    "cbar.ax.tick_params(labelsize=ft_size)\n",
    "\n",
    "# Axes\n",
    "plt.gca().invert_yaxis()\n",
    "plt.xlabel('Distance (km)', fontsize=ft_size)\n",
    "plt.ylabel('Depth (m)', fontsize=ft_size)\n",
    "\n",
    "# Add annotation\n",
    "bbox_props = dict(boxstyle=\"round\", fc=\"w\", ec=\"0.5\", alpha=0.9)\n",
    "\n",
    "plt.text(115, 150, \"Slope\\nCurrent\", ha=\"center\", va=\"center\", size=ft_size, bbox=bbox_props)\n",
    "plt.text(19, 150, \"Coastal\\nCurrent\", ha=\"center\", va=\"center\", size=ft_size, bbox=bbox_props);"
   ]
  }
 ],
 "metadata": {
  "kernelspec": {
   "display_name": "Python [conda env:analysis3-21.10]",
   "language": "python",
   "name": "conda-env-analysis3-21.10-py"
  },
  "language_info": {
   "codemirror_mode": {
    "name": "ipython",
    "version": 3
   },
   "file_extension": ".py",
   "mimetype": "text/x-python",
   "name": "python",
   "nbconvert_exporter": "python",
   "pygments_lexer": "ipython3",
   "version": "3.9.7"
  },
  "other_supplementary_files": [
   "images/topographic_gradient_sketch.png"
  ]
 },
 "nbformat": 4,
 "nbformat_minor": 4
}
