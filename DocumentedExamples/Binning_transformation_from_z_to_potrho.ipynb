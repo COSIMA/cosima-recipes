{
 "cells": [
  {
   "cell_type": "markdown",
   "id": "034f532a",
   "metadata": {},
   "source": [
    "# Example of a coordinate transformation from z levels to density levels\n",
    "\n",
    "### Rebinning `ty_trans` to `ty_trans_rho` density levels\n",
    "\n",
    "This transformation is commonly used for the purpose of decomposing the residual meridional overturning streamfunction into mean and eddy components. The mean is taken to be the time-mean Eulerian transport (time-mean in z coordinates), whilst the residual transport is the time-mean in density coordinates (density surface move in time). The eddy transport is the difference between the residual overturning streamfunction, and the Eulerian transport **transformed from depth to density coordinates** via the time-mean density.\n",
    "\n",
    "Binning is the discrete version of this transformation from depth to density coordinates. We define target density bins, and for each bin we add the quantity to be binned from all cells with a density that satisfies that bin. In its simplest form, binning is creating a histogram.\n",
    "\n",
    "We use three different binning methods:\n",
    "1. `xhistogram`, which performs binning in exactly the way MOM5 does and is thus most appropriate for calculating eddy quantities (define edge of bins)\n",
    "2. `xgcm` conservative binning (define edge of bins, but vertically interpolates so looks smoother than `xhistogram`)\n",
    "3. Using density coordinate binning method of Lee et al. (2007) (define isopycnals to bin onto i.e. centre)\n",
    "\n",
    "Compute times were calculated using the XLarge Jupyter Lab on NCI's ARE, using conda environment analysis3-22.07"
   ]
  },
  {
   "cell_type": "code",
   "execution_count": 1,
   "id": "7a700f6b",
   "metadata": {},
   "outputs": [],
   "source": [
    "%matplotlib inline\n",
    "\n",
    "import cosima_cookbook as cc\n",
    "from cosima_cookbook import distributed as ccd\n",
    "import matplotlib.pyplot as plt\n",
    "import numpy as np\n",
    "import netCDF4 as nc\n",
    "import xarray as xr\n",
    "import glob\n",
    "import cmocean.cm as cmocean\n",
    "import xgcm\n",
    "import logging\n",
    "logging.captureWarnings(True)\n",
    "logging.getLogger('py.warnings').setLevel(logging.ERROR)\n",
    "from xhistogram.xarray import histogram\n",
    "\n",
    "from dask.distributed import Client"
   ]
  },
  {
   "cell_type": "code",
   "execution_count": 2,
   "id": "e049d1c1",
   "metadata": {},
   "outputs": [
    {
     "data": {
      "text/html": [
       "<div>\n",
       "    <div style=\"width: 24px; height: 24px; background-color: #e1e1e1; border: 3px solid #9D9D9D; border-radius: 5px; position: absolute;\"> </div>\n",
       "    <div style=\"margin-left: 48px;\">\n",
       "        <h3 style=\"margin-bottom: 0px;\">Client</h3>\n",
       "        <p style=\"color: #9D9D9D; margin-bottom: 0px;\">Client-f4820f41-6c6a-11ed-9756-000007d1fe80</p>\n",
       "        <table style=\"width: 100%; text-align: left;\">\n",
       "\n",
       "        <tr>\n",
       "        \n",
       "            <td style=\"text-align: left;\"><strong>Connection method:</strong> Cluster object</td>\n",
       "            <td style=\"text-align: left;\"><strong>Cluster type:</strong> distributed.LocalCluster</td>\n",
       "        \n",
       "        </tr>\n",
       "\n",
       "        \n",
       "            <tr>\n",
       "                <td style=\"text-align: left;\">\n",
       "                    <strong>Dashboard: </strong> <a href=\"/proxy/8787/status\" target=\"_blank\">/proxy/8787/status</a>\n",
       "                </td>\n",
       "                <td style=\"text-align: left;\"></td>\n",
       "            </tr>\n",
       "        \n",
       "\n",
       "        </table>\n",
       "\n",
       "        \n",
       "\n",
       "        \n",
       "            <details>\n",
       "            <summary style=\"margin-bottom: 20px;\"><h3 style=\"display: inline;\">Cluster Info</h3></summary>\n",
       "            <div class=\"jp-RenderedHTMLCommon jp-RenderedHTML jp-mod-trusted jp-OutputArea-output\">\n",
       "    <div style=\"width: 24px; height: 24px; background-color: #e1e1e1; border: 3px solid #9D9D9D; border-radius: 5px; position: absolute;\">\n",
       "    </div>\n",
       "    <div style=\"margin-left: 48px;\">\n",
       "        <h3 style=\"margin-bottom: 0px; margin-top: 0px;\">LocalCluster</h3>\n",
       "        <p style=\"color: #9D9D9D; margin-bottom: 0px;\">99522ec6</p>\n",
       "        <table style=\"width: 100%; text-align: left;\">\n",
       "            <tr>\n",
       "                <td style=\"text-align: left;\">\n",
       "                    <strong>Dashboard:</strong> <a href=\"/proxy/8787/status\" target=\"_blank\">/proxy/8787/status</a>\n",
       "                </td>\n",
       "                <td style=\"text-align: left;\">\n",
       "                    <strong>Workers:</strong> 6\n",
       "                </td>\n",
       "            </tr>\n",
       "            <tr>\n",
       "                <td style=\"text-align: left;\">\n",
       "                    <strong>Total threads:</strong> 24\n",
       "                </td>\n",
       "                <td style=\"text-align: left;\">\n",
       "                    <strong>Total memory:</strong> 96.00 GiB\n",
       "                </td>\n",
       "            </tr>\n",
       "            \n",
       "            <tr>\n",
       "    <td style=\"text-align: left;\"><strong>Status:</strong> running</td>\n",
       "    <td style=\"text-align: left;\"><strong>Using processes:</strong> True</td>\n",
       "</tr>\n",
       "\n",
       "            \n",
       "        </table>\n",
       "\n",
       "        <details>\n",
       "            <summary style=\"margin-bottom: 20px;\">\n",
       "                <h3 style=\"display: inline;\">Scheduler Info</h3>\n",
       "            </summary>\n",
       "\n",
       "            <div style=\"\">\n",
       "    <div>\n",
       "        <div style=\"width: 24px; height: 24px; background-color: #FFF7E5; border: 3px solid #FF6132; border-radius: 5px; position: absolute;\"> </div>\n",
       "        <div style=\"margin-left: 48px;\">\n",
       "            <h3 style=\"margin-bottom: 0px;\">Scheduler</h3>\n",
       "            <p style=\"color: #9D9D9D; margin-bottom: 0px;\">Scheduler-a2e5a2cc-8a3f-4f64-9bdb-96210f7af882</p>\n",
       "            <table style=\"width: 100%; text-align: left;\">\n",
       "                <tr>\n",
       "                    <td style=\"text-align: left;\">\n",
       "                        <strong>Comm:</strong> tcp://127.0.0.1:34969\n",
       "                    </td>\n",
       "                    <td style=\"text-align: left;\">\n",
       "                        <strong>Workers:</strong> 6\n",
       "                    </td>\n",
       "                </tr>\n",
       "                <tr>\n",
       "                    <td style=\"text-align: left;\">\n",
       "                        <strong>Dashboard:</strong> <a href=\"/proxy/8787/status\" target=\"_blank\">/proxy/8787/status</a>\n",
       "                    </td>\n",
       "                    <td style=\"text-align: left;\">\n",
       "                        <strong>Total threads:</strong> 24\n",
       "                    </td>\n",
       "                </tr>\n",
       "                <tr>\n",
       "                    <td style=\"text-align: left;\">\n",
       "                        <strong>Started:</strong> Just now\n",
       "                    </td>\n",
       "                    <td style=\"text-align: left;\">\n",
       "                        <strong>Total memory:</strong> 96.00 GiB\n",
       "                    </td>\n",
       "                </tr>\n",
       "            </table>\n",
       "        </div>\n",
       "    </div>\n",
       "\n",
       "    <details style=\"margin-left: 48px;\">\n",
       "        <summary style=\"margin-bottom: 20px;\">\n",
       "            <h3 style=\"display: inline;\">Workers</h3>\n",
       "        </summary>\n",
       "\n",
       "        \n",
       "        <div style=\"margin-bottom: 20px;\">\n",
       "            <div style=\"width: 24px; height: 24px; background-color: #DBF5FF; border: 3px solid #4CC9FF; border-radius: 5px; position: absolute;\"> </div>\n",
       "            <div style=\"margin-left: 48px;\">\n",
       "            <details>\n",
       "                <summary>\n",
       "                    <h4 style=\"margin-bottom: 0px; display: inline;\">Worker: 0</h4>\n",
       "                </summary>\n",
       "                <table style=\"width: 100%; text-align: left;\">\n",
       "                    <tr>\n",
       "                        <td style=\"text-align: left;\">\n",
       "                            <strong>Comm: </strong> tcp://127.0.0.1:39787\n",
       "                        </td>\n",
       "                        <td style=\"text-align: left;\">\n",
       "                            <strong>Total threads: </strong> 4\n",
       "                        </td>\n",
       "                    </tr>\n",
       "                    <tr>\n",
       "                        <td style=\"text-align: left;\">\n",
       "                            <strong>Dashboard: </strong> <a href=\"/proxy/43993/status\" target=\"_blank\">/proxy/43993/status</a>\n",
       "                        </td>\n",
       "                        <td style=\"text-align: left;\">\n",
       "                            <strong>Memory: </strong> 16.00 GiB\n",
       "                        </td>\n",
       "                    </tr>\n",
       "                    <tr>\n",
       "                        <td style=\"text-align: left;\">\n",
       "                            <strong>Nanny: </strong> tcp://127.0.0.1:45009\n",
       "                        </td>\n",
       "                        <td style=\"text-align: left;\"></td>\n",
       "                    </tr>\n",
       "                    <tr>\n",
       "                        <td colspan=\"2\" style=\"text-align: left;\">\n",
       "                            <strong>Local directory: </strong> /jobfs/64791205.gadi-pbs/dask-worker-space/worker-r7pwakf9\n",
       "                        </td>\n",
       "                    </tr>\n",
       "\n",
       "                    \n",
       "\n",
       "                    \n",
       "\n",
       "                </table>\n",
       "            </details>\n",
       "            </div>\n",
       "        </div>\n",
       "        \n",
       "        <div style=\"margin-bottom: 20px;\">\n",
       "            <div style=\"width: 24px; height: 24px; background-color: #DBF5FF; border: 3px solid #4CC9FF; border-radius: 5px; position: absolute;\"> </div>\n",
       "            <div style=\"margin-left: 48px;\">\n",
       "            <details>\n",
       "                <summary>\n",
       "                    <h4 style=\"margin-bottom: 0px; display: inline;\">Worker: 1</h4>\n",
       "                </summary>\n",
       "                <table style=\"width: 100%; text-align: left;\">\n",
       "                    <tr>\n",
       "                        <td style=\"text-align: left;\">\n",
       "                            <strong>Comm: </strong> tcp://127.0.0.1:36761\n",
       "                        </td>\n",
       "                        <td style=\"text-align: left;\">\n",
       "                            <strong>Total threads: </strong> 4\n",
       "                        </td>\n",
       "                    </tr>\n",
       "                    <tr>\n",
       "                        <td style=\"text-align: left;\">\n",
       "                            <strong>Dashboard: </strong> <a href=\"/proxy/35021/status\" target=\"_blank\">/proxy/35021/status</a>\n",
       "                        </td>\n",
       "                        <td style=\"text-align: left;\">\n",
       "                            <strong>Memory: </strong> 16.00 GiB\n",
       "                        </td>\n",
       "                    </tr>\n",
       "                    <tr>\n",
       "                        <td style=\"text-align: left;\">\n",
       "                            <strong>Nanny: </strong> tcp://127.0.0.1:39859\n",
       "                        </td>\n",
       "                        <td style=\"text-align: left;\"></td>\n",
       "                    </tr>\n",
       "                    <tr>\n",
       "                        <td colspan=\"2\" style=\"text-align: left;\">\n",
       "                            <strong>Local directory: </strong> /jobfs/64791205.gadi-pbs/dask-worker-space/worker-jr6cqx08\n",
       "                        </td>\n",
       "                    </tr>\n",
       "\n",
       "                    \n",
       "\n",
       "                    \n",
       "\n",
       "                </table>\n",
       "            </details>\n",
       "            </div>\n",
       "        </div>\n",
       "        \n",
       "        <div style=\"margin-bottom: 20px;\">\n",
       "            <div style=\"width: 24px; height: 24px; background-color: #DBF5FF; border: 3px solid #4CC9FF; border-radius: 5px; position: absolute;\"> </div>\n",
       "            <div style=\"margin-left: 48px;\">\n",
       "            <details>\n",
       "                <summary>\n",
       "                    <h4 style=\"margin-bottom: 0px; display: inline;\">Worker: 2</h4>\n",
       "                </summary>\n",
       "                <table style=\"width: 100%; text-align: left;\">\n",
       "                    <tr>\n",
       "                        <td style=\"text-align: left;\">\n",
       "                            <strong>Comm: </strong> tcp://127.0.0.1:45725\n",
       "                        </td>\n",
       "                        <td style=\"text-align: left;\">\n",
       "                            <strong>Total threads: </strong> 4\n",
       "                        </td>\n",
       "                    </tr>\n",
       "                    <tr>\n",
       "                        <td style=\"text-align: left;\">\n",
       "                            <strong>Dashboard: </strong> <a href=\"/proxy/43497/status\" target=\"_blank\">/proxy/43497/status</a>\n",
       "                        </td>\n",
       "                        <td style=\"text-align: left;\">\n",
       "                            <strong>Memory: </strong> 16.00 GiB\n",
       "                        </td>\n",
       "                    </tr>\n",
       "                    <tr>\n",
       "                        <td style=\"text-align: left;\">\n",
       "                            <strong>Nanny: </strong> tcp://127.0.0.1:38403\n",
       "                        </td>\n",
       "                        <td style=\"text-align: left;\"></td>\n",
       "                    </tr>\n",
       "                    <tr>\n",
       "                        <td colspan=\"2\" style=\"text-align: left;\">\n",
       "                            <strong>Local directory: </strong> /jobfs/64791205.gadi-pbs/dask-worker-space/worker-_cl4pfib\n",
       "                        </td>\n",
       "                    </tr>\n",
       "\n",
       "                    \n",
       "\n",
       "                    \n",
       "\n",
       "                </table>\n",
       "            </details>\n",
       "            </div>\n",
       "        </div>\n",
       "        \n",
       "        <div style=\"margin-bottom: 20px;\">\n",
       "            <div style=\"width: 24px; height: 24px; background-color: #DBF5FF; border: 3px solid #4CC9FF; border-radius: 5px; position: absolute;\"> </div>\n",
       "            <div style=\"margin-left: 48px;\">\n",
       "            <details>\n",
       "                <summary>\n",
       "                    <h4 style=\"margin-bottom: 0px; display: inline;\">Worker: 3</h4>\n",
       "                </summary>\n",
       "                <table style=\"width: 100%; text-align: left;\">\n",
       "                    <tr>\n",
       "                        <td style=\"text-align: left;\">\n",
       "                            <strong>Comm: </strong> tcp://127.0.0.1:38761\n",
       "                        </td>\n",
       "                        <td style=\"text-align: left;\">\n",
       "                            <strong>Total threads: </strong> 4\n",
       "                        </td>\n",
       "                    </tr>\n",
       "                    <tr>\n",
       "                        <td style=\"text-align: left;\">\n",
       "                            <strong>Dashboard: </strong> <a href=\"/proxy/36209/status\" target=\"_blank\">/proxy/36209/status</a>\n",
       "                        </td>\n",
       "                        <td style=\"text-align: left;\">\n",
       "                            <strong>Memory: </strong> 16.00 GiB\n",
       "                        </td>\n",
       "                    </tr>\n",
       "                    <tr>\n",
       "                        <td style=\"text-align: left;\">\n",
       "                            <strong>Nanny: </strong> tcp://127.0.0.1:44403\n",
       "                        </td>\n",
       "                        <td style=\"text-align: left;\"></td>\n",
       "                    </tr>\n",
       "                    <tr>\n",
       "                        <td colspan=\"2\" style=\"text-align: left;\">\n",
       "                            <strong>Local directory: </strong> /jobfs/64791205.gadi-pbs/dask-worker-space/worker-4z21bd7a\n",
       "                        </td>\n",
       "                    </tr>\n",
       "\n",
       "                    \n",
       "\n",
       "                    \n",
       "\n",
       "                </table>\n",
       "            </details>\n",
       "            </div>\n",
       "        </div>\n",
       "        \n",
       "        <div style=\"margin-bottom: 20px;\">\n",
       "            <div style=\"width: 24px; height: 24px; background-color: #DBF5FF; border: 3px solid #4CC9FF; border-radius: 5px; position: absolute;\"> </div>\n",
       "            <div style=\"margin-left: 48px;\">\n",
       "            <details>\n",
       "                <summary>\n",
       "                    <h4 style=\"margin-bottom: 0px; display: inline;\">Worker: 4</h4>\n",
       "                </summary>\n",
       "                <table style=\"width: 100%; text-align: left;\">\n",
       "                    <tr>\n",
       "                        <td style=\"text-align: left;\">\n",
       "                            <strong>Comm: </strong> tcp://127.0.0.1:40401\n",
       "                        </td>\n",
       "                        <td style=\"text-align: left;\">\n",
       "                            <strong>Total threads: </strong> 4\n",
       "                        </td>\n",
       "                    </tr>\n",
       "                    <tr>\n",
       "                        <td style=\"text-align: left;\">\n",
       "                            <strong>Dashboard: </strong> <a href=\"/proxy/37659/status\" target=\"_blank\">/proxy/37659/status</a>\n",
       "                        </td>\n",
       "                        <td style=\"text-align: left;\">\n",
       "                            <strong>Memory: </strong> 16.00 GiB\n",
       "                        </td>\n",
       "                    </tr>\n",
       "                    <tr>\n",
       "                        <td style=\"text-align: left;\">\n",
       "                            <strong>Nanny: </strong> tcp://127.0.0.1:46869\n",
       "                        </td>\n",
       "                        <td style=\"text-align: left;\"></td>\n",
       "                    </tr>\n",
       "                    <tr>\n",
       "                        <td colspan=\"2\" style=\"text-align: left;\">\n",
       "                            <strong>Local directory: </strong> /jobfs/64791205.gadi-pbs/dask-worker-space/worker-8sw4e8dz\n",
       "                        </td>\n",
       "                    </tr>\n",
       "\n",
       "                    \n",
       "\n",
       "                    \n",
       "\n",
       "                </table>\n",
       "            </details>\n",
       "            </div>\n",
       "        </div>\n",
       "        \n",
       "        <div style=\"margin-bottom: 20px;\">\n",
       "            <div style=\"width: 24px; height: 24px; background-color: #DBF5FF; border: 3px solid #4CC9FF; border-radius: 5px; position: absolute;\"> </div>\n",
       "            <div style=\"margin-left: 48px;\">\n",
       "            <details>\n",
       "                <summary>\n",
       "                    <h4 style=\"margin-bottom: 0px; display: inline;\">Worker: 5</h4>\n",
       "                </summary>\n",
       "                <table style=\"width: 100%; text-align: left;\">\n",
       "                    <tr>\n",
       "                        <td style=\"text-align: left;\">\n",
       "                            <strong>Comm: </strong> tcp://127.0.0.1:37007\n",
       "                        </td>\n",
       "                        <td style=\"text-align: left;\">\n",
       "                            <strong>Total threads: </strong> 4\n",
       "                        </td>\n",
       "                    </tr>\n",
       "                    <tr>\n",
       "                        <td style=\"text-align: left;\">\n",
       "                            <strong>Dashboard: </strong> <a href=\"/proxy/46361/status\" target=\"_blank\">/proxy/46361/status</a>\n",
       "                        </td>\n",
       "                        <td style=\"text-align: left;\">\n",
       "                            <strong>Memory: </strong> 16.00 GiB\n",
       "                        </td>\n",
       "                    </tr>\n",
       "                    <tr>\n",
       "                        <td style=\"text-align: left;\">\n",
       "                            <strong>Nanny: </strong> tcp://127.0.0.1:39275\n",
       "                        </td>\n",
       "                        <td style=\"text-align: left;\"></td>\n",
       "                    </tr>\n",
       "                    <tr>\n",
       "                        <td colspan=\"2\" style=\"text-align: left;\">\n",
       "                            <strong>Local directory: </strong> /jobfs/64791205.gadi-pbs/dask-worker-space/worker-7a39xjga\n",
       "                        </td>\n",
       "                    </tr>\n",
       "\n",
       "                    \n",
       "\n",
       "                    \n",
       "\n",
       "                </table>\n",
       "            </details>\n",
       "            </div>\n",
       "        </div>\n",
       "        \n",
       "\n",
       "    </details>\n",
       "</div>\n",
       "\n",
       "        </details>\n",
       "    </div>\n",
       "</div>\n",
       "            </details>\n",
       "        \n",
       "\n",
       "    </div>\n",
       "</div>"
      ],
      "text/plain": [
       "<Client: 'tcp://127.0.0.1:34969' processes=6 threads=24, memory=96.00 GiB>"
      ]
     },
     "execution_count": 2,
     "metadata": {},
     "output_type": "execute_result"
    }
   ],
   "source": [
    "client = Client()\n",
    "client"
   ]
  },
  {
   "cell_type": "code",
   "execution_count": 3,
   "id": "76feaa74-52a1-4f27-9f1b-557a321de297",
   "metadata": {},
   "outputs": [],
   "source": [
    "session = cc.database.create_session('/g/data/ik11/databases/cosima_master.db')\n",
    "experiment = '01deg_jra55v13_ryf9091'\n",
    "\n",
    "# reference density value:\n",
    "rho_0 = 1035.0\n",
    "g = 9.81\n",
    "\n",
    "# reduce computation by choosing only Southern Ocean latitudes\n",
    "lat_range = slice(-70, -34.99)"
   ]
  },
  {
   "cell_type": "markdown",
   "id": "74e94e0c-00d9-4552-bb2b-74a7a538a700",
   "metadata": {},
   "source": [
    "### Step 1: Load density and quantity being binned \n",
    "(you can choose any other quantity instead of `ty_trans`, e.g. `dzt`. Interpolate density to whatever grid that variable is on)"
   ]
  },
  {
   "cell_type": "markdown",
   "id": "737f0c83-72ae-4f83-a83c-9ca88c89823a",
   "metadata": {},
   "source": [
    "#### We will load one year of monthly `ty_trans`, `ty_trans_rho` and `pot_rho_2`\n",
    "\n",
    "Then take weighted time average"
   ]
  },
  {
   "cell_type": "code",
   "execution_count": 4,
   "id": "bebe18ab-8929-4e8b-985c-551be4f02ea8",
   "metadata": {},
   "outputs": [],
   "source": [
    "start_time = '2170-01-01'\n",
    "end_time = '2170-12-31'\n",
    "time_slice = slice(start_time, end_time)"
   ]
  },
  {
   "cell_type": "code",
   "execution_count": 5,
   "id": "99345a56-cc65-44da-8721-aea5467a74ca",
   "metadata": {},
   "outputs": [
    {
     "name": "stdout",
     "output_type": "stream",
     "text": [
      "CPU times: user 1.88 s, sys: 769 ms, total: 2.64 s\n",
      "Wall time: 8.09 s\n"
     ]
    }
   ],
   "source": [
    "%%time\n",
    "ty_trans = cc.querying.getvar(experiment, 'ty_trans', session, start_time = start_time, end_time = end_time)\n",
    "ty_trans = ty_trans.sel(time = time_slice).sel(yu_ocean = lat_range)\n",
    "\n",
    "# weighted time-mean by month length\n",
    "days_in_month = ty_trans.time.dt.days_in_month\n",
    "days_in_year = 365\n",
    "ty_trans = (ty_trans * days_in_month).sum('time') / days_in_year"
   ]
  },
  {
   "cell_type": "code",
   "execution_count": 6,
   "id": "4b5de409-b4d4-4067-a7ab-3f465a0efe1d",
   "metadata": {},
   "outputs": [
    {
     "name": "stdout",
     "output_type": "stream",
     "text": [
      "CPU times: user 760 ms, sys: 106 ms, total: 866 ms\n",
      "Wall time: 6.71 s\n"
     ]
    }
   ],
   "source": [
    "%%time\n",
    "pot_rho_2 = cc.querying.getvar(experiment, 'pot_rho_2', session, start_time = start_time, end_time = end_time)\n",
    "pot_rho_2 = pot_rho_2.sel(time = time_slice).sel(yt_ocean = lat_range)\n",
    "pot_rho_2 = (pot_rho_2 * days_in_month).sum('time') / days_in_year"
   ]
  },
  {
   "cell_type": "code",
   "execution_count": 7,
   "id": "9d40759b-a5de-4827-bfda-490704bc93e0",
   "metadata": {},
   "outputs": [
    {
     "name": "stdout",
     "output_type": "stream",
     "text": [
      "CPU times: user 618 ms, sys: 81.4 ms, total: 699 ms\n",
      "Wall time: 983 ms\n"
     ]
    }
   ],
   "source": [
    "%%time\n",
    "ty_trans_rho = cc.querying.getvar(experiment, 'ty_trans_rho', session, start_time = start_time, end_time = end_time)\n",
    "ty_trans_rho = ty_trans_rho.sel(time = time_slice).sel(grid_yu_ocean = lat_range)\n",
    "ty_trans_rho = (ty_trans_rho * days_in_month).sum('time') / days_in_year"
   ]
  },
  {
   "cell_type": "markdown",
   "id": "00cb7a08-4c4a-4742-ad36-6db0e648f434",
   "metadata": {},
   "source": [
    "Create an `xgcm` grid for interpolation, and then interpolate density onto the meridional transport grid"
   ]
  },
  {
   "cell_type": "code",
   "execution_count": 8,
   "id": "eb10c7cd-02e8-4bb5-952e-a4e081606a78",
   "metadata": {},
   "outputs": [],
   "source": [
    "ds = xr.Dataset({'ty_trans':ty_trans, 'pot_rho_2':pot_rho_2}) \n",
    "grid = xgcm.Grid(ds, coords = {'Y': {'center': 'yt_ocean', 'right': 'yu_ocean'}}, periodic = False)\n",
    "\n",
    "# interpolate density (t-grid) to ty_trans grid (xt_ocean and yu_ocean)\n",
    "pot_rho_2 = grid.interp(pot_rho_2, 'Y', boundary = 'extend')"
   ]
  },
  {
   "cell_type": "markdown",
   "id": "71635773-a64f-4803-b842-4184be71d4e3",
   "metadata": {},
   "source": [
    "# Method 1: `xhistogram`\n",
    "\n",
    "We use xhistogram, described in https://xhistogram.readthedocs.io/en/latest/. It is a xarray aware method for computing histograms.\n",
    "\n",
    "Computation in xhistogram occurs via the same method as in MOM5 online binning. It is thus most appropriate for an comparisons between offline and online binned quantities.\n",
    "\n",
    "#### First, we define the edges of the target bins:\n",
    "Output will be an array with coordinate density the linear centre of these bins. If we choose `potrho_edges`, the end result will have coordinates potrho, which is the same as online binned `ty_trans_rho`."
   ]
  },
  {
   "cell_type": "code",
   "execution_count": 9,
   "id": "e514b3bf-dd47-4c36-a28e-ff002c2843c6",
   "metadata": {},
   "outputs": [],
   "source": [
    "targetbins = cc.querying.getvar(experiment, 'potrho_edges', session, start_time = start_time, end_time = end_time,\n",
    "                                n = 1, frequency = '1 monthly' ).values"
   ]
  },
  {
   "cell_type": "markdown",
   "id": "9b43345e-4748-45a7-afbe-3a24f3ad031c",
   "metadata": {},
   "source": [
    "#### Now apply the histogram over the vertical dimension `st_ocean` inside the target bins. \n",
    "We include the variable we want to bin in `weights`. This quantity should be extensive, since grid cells vary in sizes, which is true because `ty_trans` is multiplied by the cell size in x and z directions."
   ]
  },
  {
   "cell_type": "code",
   "execution_count": 10,
   "id": "66f8cc4c-a88b-4111-bed6-7b16a84d6594",
   "metadata": {},
   "outputs": [],
   "source": [
    "# Make sure the variables have a name, otherwise xhistogram doesn't know what to call the bins\n",
    "ty_trans = ty_trans.rename('ty_trans')\n",
    "pot_rho_2 = pot_rho_2.rename('pot_rho_2')\n",
    "\n",
    "ty_trans_mean = histogram(pot_rho_2, \n",
    "                          bins = [targetbins], \n",
    "                          dim = ['st_ocean'],\n",
    "                          weights = ty_trans).rename({pot_rho_2.name + '_bin': 'potrho',\n",
    "                                                    'xt_ocean': 'grid_xt_ocean',\n",
    "                                                    'yu_ocean': 'grid_yu_ocean'})"
   ]
  },
  {
   "cell_type": "code",
   "execution_count": 11,
   "id": "5f662b5a-9f4f-4e27-b883-66f2002e10b6",
   "metadata": {},
   "outputs": [
    {
     "name": "stdout",
     "output_type": "stream",
     "text": [
      "CPU times: user 43 s, sys: 5.04 s, total: 48 s\n",
      "Wall time: 1min 48s\n"
     ]
    }
   ],
   "source": [
    "%%time\n",
    "ty_trans_mean = ty_trans_mean.load()"
   ]
  },
  {
   "cell_type": "markdown",
   "id": "b2d3e7bd-246a-4c25-a724-8300ff0bbdd9",
   "metadata": {},
   "source": [
    "#### Now define meridional overturning streamfunctions as a cumulative sum of transport from the bottom of the ocean."
   ]
  },
  {
   "cell_type": "code",
   "execution_count": 12,
   "id": "919e537e-c139-46ac-bfd1-b599480687f2",
   "metadata": {},
   "outputs": [],
   "source": [
    "def cumsum_from_bottom(residual):\n",
    "    cumsum = (residual.cumsum('potrho') - residual.sum('potrho'))\n",
    "    return cumsum"
   ]
  },
  {
   "cell_type": "code",
   "execution_count": 13,
   "id": "380adee2-f0b2-4670-b01d-36ac7ac3cbad",
   "metadata": {},
   "outputs": [],
   "source": [
    "psi_avg = cumsum_from_bottom(ty_trans_rho.sum('grid_xt_ocean')/1e6/rho_0)\n",
    "psi_avg_mean = cumsum_from_bottom(ty_trans_mean.sum('grid_xt_ocean')/1e6/rho_0)"
   ]
  },
  {
   "cell_type": "markdown",
   "id": "4bbe9e23-c487-4769-a6d1-14f2b3096e75",
   "metadata": {},
   "source": [
    "#### Plot streamfunctions of the residual, mean (what we just computed) and eddy (the difference) streamfunctions"
   ]
  },
  {
   "cell_type": "code",
   "execution_count": null,
   "id": "ddb76dad-b3a3-4bac-a411-cd06292d6328",
   "metadata": {},
   "outputs": [
    {
     "data": {
      "text/html": [
       "<div><svg style=\"position: absolute; width: 0; height: 0; overflow: hidden\">\n",
       "<defs>\n",
       "<symbol id=\"icon-database\" viewBox=\"0 0 32 32\">\n",
       "<path d=\"M16 0c-8.837 0-16 2.239-16 5v4c0 2.761 7.163 5 16 5s16-2.239 16-5v-4c0-2.761-7.163-5-16-5z\"></path>\n",
       "<path d=\"M16 17c-8.837 0-16-2.239-16-5v6c0 2.761 7.163 5 16 5s16-2.239 16-5v-6c0 2.761-7.163 5-16 5z\"></path>\n",
       "<path d=\"M16 26c-8.837 0-16-2.239-16-5v6c0 2.761 7.163 5 16 5s16-2.239 16-5v-6c0 2.761-7.163 5-16 5z\"></path>\n",
       "</symbol>\n",
       "<symbol id=\"icon-file-text2\" viewBox=\"0 0 32 32\">\n",
       "<path d=\"M28.681 7.159c-0.694-0.947-1.662-2.053-2.724-3.116s-2.169-2.030-3.116-2.724c-1.612-1.182-2.393-1.319-2.841-1.319h-15.5c-1.378 0-2.5 1.121-2.5 2.5v27c0 1.378 1.122 2.5 2.5 2.5h23c1.378 0 2.5-1.122 2.5-2.5v-19.5c0-0.448-0.137-1.23-1.319-2.841zM24.543 5.457c0.959 0.959 1.712 1.825 2.268 2.543h-4.811v-4.811c0.718 0.556 1.584 1.309 2.543 2.268zM28 29.5c0 0.271-0.229 0.5-0.5 0.5h-23c-0.271 0-0.5-0.229-0.5-0.5v-27c0-0.271 0.229-0.5 0.5-0.5 0 0 15.499-0 15.5 0v7c0 0.552 0.448 1 1 1h7v19.5z\"></path>\n",
       "<path d=\"M23 26h-14c-0.552 0-1-0.448-1-1s0.448-1 1-1h14c0.552 0 1 0.448 1 1s-0.448 1-1 1z\"></path>\n",
       "<path d=\"M23 22h-14c-0.552 0-1-0.448-1-1s0.448-1 1-1h14c0.552 0 1 0.448 1 1s-0.448 1-1 1z\"></path>\n",
       "<path d=\"M23 18h-14c-0.552 0-1-0.448-1-1s0.448-1 1-1h14c0.552 0 1 0.448 1 1s-0.448 1-1 1z\"></path>\n",
       "</symbol>\n",
       "</defs>\n",
       "</svg>\n",
       "<style>/* CSS stylesheet for displaying xarray objects in jupyterlab.\n",
       " *\n",
       " */\n",
       "\n",
       ":root {\n",
       "  --xr-font-color0: var(--jp-content-font-color0, rgba(0, 0, 0, 1));\n",
       "  --xr-font-color2: var(--jp-content-font-color2, rgba(0, 0, 0, 0.54));\n",
       "  --xr-font-color3: var(--jp-content-font-color3, rgba(0, 0, 0, 0.38));\n",
       "  --xr-border-color: var(--jp-border-color2, #e0e0e0);\n",
       "  --xr-disabled-color: var(--jp-layout-color3, #bdbdbd);\n",
       "  --xr-background-color: var(--jp-layout-color0, white);\n",
       "  --xr-background-color-row-even: var(--jp-layout-color1, white);\n",
       "  --xr-background-color-row-odd: var(--jp-layout-color2, #eeeeee);\n",
       "}\n",
       "\n",
       "html[theme=dark],\n",
       "body[data-theme=dark],\n",
       "body.vscode-dark {\n",
       "  --xr-font-color0: rgba(255, 255, 255, 1);\n",
       "  --xr-font-color2: rgba(255, 255, 255, 0.54);\n",
       "  --xr-font-color3: rgba(255, 255, 255, 0.38);\n",
       "  --xr-border-color: #1F1F1F;\n",
       "  --xr-disabled-color: #515151;\n",
       "  --xr-background-color: #111111;\n",
       "  --xr-background-color-row-even: #111111;\n",
       "  --xr-background-color-row-odd: #313131;\n",
       "}\n",
       "\n",
       ".xr-wrap {\n",
       "  display: block !important;\n",
       "  min-width: 300px;\n",
       "  max-width: 700px;\n",
       "}\n",
       "\n",
       ".xr-text-repr-fallback {\n",
       "  /* fallback to plain text repr when CSS is not injected (untrusted notebook) */\n",
       "  display: none;\n",
       "}\n",
       "\n",
       ".xr-header {\n",
       "  padding-top: 6px;\n",
       "  padding-bottom: 6px;\n",
       "  margin-bottom: 4px;\n",
       "  border-bottom: solid 1px var(--xr-border-color);\n",
       "}\n",
       "\n",
       ".xr-header > div,\n",
       ".xr-header > ul {\n",
       "  display: inline;\n",
       "  margin-top: 0;\n",
       "  margin-bottom: 0;\n",
       "}\n",
       "\n",
       ".xr-obj-type,\n",
       ".xr-array-name {\n",
       "  margin-left: 2px;\n",
       "  margin-right: 10px;\n",
       "}\n",
       "\n",
       ".xr-obj-type {\n",
       "  color: var(--xr-font-color2);\n",
       "}\n",
       "\n",
       ".xr-sections {\n",
       "  padding-left: 0 !important;\n",
       "  display: grid;\n",
       "  grid-template-columns: 150px auto auto 1fr 20px 20px;\n",
       "}\n",
       "\n",
       ".xr-section-item {\n",
       "  display: contents;\n",
       "}\n",
       "\n",
       ".xr-section-item input {\n",
       "  display: none;\n",
       "}\n",
       "\n",
       ".xr-section-item input + label {\n",
       "  color: var(--xr-disabled-color);\n",
       "}\n",
       "\n",
       ".xr-section-item input:enabled + label {\n",
       "  cursor: pointer;\n",
       "  color: var(--xr-font-color2);\n",
       "}\n",
       "\n",
       ".xr-section-item input:enabled + label:hover {\n",
       "  color: var(--xr-font-color0);\n",
       "}\n",
       "\n",
       ".xr-section-summary {\n",
       "  grid-column: 1;\n",
       "  color: var(--xr-font-color2);\n",
       "  font-weight: 500;\n",
       "}\n",
       "\n",
       ".xr-section-summary > span {\n",
       "  display: inline-block;\n",
       "  padding-left: 0.5em;\n",
       "}\n",
       "\n",
       ".xr-section-summary-in:disabled + label {\n",
       "  color: var(--xr-font-color2);\n",
       "}\n",
       "\n",
       ".xr-section-summary-in + label:before {\n",
       "  display: inline-block;\n",
       "  content: '►';\n",
       "  font-size: 11px;\n",
       "  width: 15px;\n",
       "  text-align: center;\n",
       "}\n",
       "\n",
       ".xr-section-summary-in:disabled + label:before {\n",
       "  color: var(--xr-disabled-color);\n",
       "}\n",
       "\n",
       ".xr-section-summary-in:checked + label:before {\n",
       "  content: '▼';\n",
       "}\n",
       "\n",
       ".xr-section-summary-in:checked + label > span {\n",
       "  display: none;\n",
       "}\n",
       "\n",
       ".xr-section-summary,\n",
       ".xr-section-inline-details {\n",
       "  padding-top: 4px;\n",
       "  padding-bottom: 4px;\n",
       "}\n",
       "\n",
       ".xr-section-inline-details {\n",
       "  grid-column: 2 / -1;\n",
       "}\n",
       "\n",
       ".xr-section-details {\n",
       "  display: none;\n",
       "  grid-column: 1 / -1;\n",
       "  margin-bottom: 5px;\n",
       "}\n",
       "\n",
       ".xr-section-summary-in:checked ~ .xr-section-details {\n",
       "  display: contents;\n",
       "}\n",
       "\n",
       ".xr-array-wrap {\n",
       "  grid-column: 1 / -1;\n",
       "  display: grid;\n",
       "  grid-template-columns: 20px auto;\n",
       "}\n",
       "\n",
       ".xr-array-wrap > label {\n",
       "  grid-column: 1;\n",
       "  vertical-align: top;\n",
       "}\n",
       "\n",
       ".xr-preview {\n",
       "  color: var(--xr-font-color3);\n",
       "}\n",
       "\n",
       ".xr-array-preview,\n",
       ".xr-array-data {\n",
       "  padding: 0 5px !important;\n",
       "  grid-column: 2;\n",
       "}\n",
       "\n",
       ".xr-array-data,\n",
       ".xr-array-in:checked ~ .xr-array-preview {\n",
       "  display: none;\n",
       "}\n",
       "\n",
       ".xr-array-in:checked ~ .xr-array-data,\n",
       ".xr-array-preview {\n",
       "  display: inline-block;\n",
       "}\n",
       "\n",
       ".xr-dim-list {\n",
       "  display: inline-block !important;\n",
       "  list-style: none;\n",
       "  padding: 0 !important;\n",
       "  margin: 0;\n",
       "}\n",
       "\n",
       ".xr-dim-list li {\n",
       "  display: inline-block;\n",
       "  padding: 0;\n",
       "  margin: 0;\n",
       "}\n",
       "\n",
       ".xr-dim-list:before {\n",
       "  content: '(';\n",
       "}\n",
       "\n",
       ".xr-dim-list:after {\n",
       "  content: ')';\n",
       "}\n",
       "\n",
       ".xr-dim-list li:not(:last-child):after {\n",
       "  content: ',';\n",
       "  padding-right: 5px;\n",
       "}\n",
       "\n",
       ".xr-has-index {\n",
       "  font-weight: bold;\n",
       "}\n",
       "\n",
       ".xr-var-list,\n",
       ".xr-var-item {\n",
       "  display: contents;\n",
       "}\n",
       "\n",
       ".xr-var-item > div,\n",
       ".xr-var-item label,\n",
       ".xr-var-item > .xr-var-name span {\n",
       "  background-color: var(--xr-background-color-row-even);\n",
       "  margin-bottom: 0;\n",
       "}\n",
       "\n",
       ".xr-var-item > .xr-var-name:hover span {\n",
       "  padding-right: 5px;\n",
       "}\n",
       "\n",
       ".xr-var-list > li:nth-child(odd) > div,\n",
       ".xr-var-list > li:nth-child(odd) > label,\n",
       ".xr-var-list > li:nth-child(odd) > .xr-var-name span {\n",
       "  background-color: var(--xr-background-color-row-odd);\n",
       "}\n",
       "\n",
       ".xr-var-name {\n",
       "  grid-column: 1;\n",
       "}\n",
       "\n",
       ".xr-var-dims {\n",
       "  grid-column: 2;\n",
       "}\n",
       "\n",
       ".xr-var-dtype {\n",
       "  grid-column: 3;\n",
       "  text-align: right;\n",
       "  color: var(--xr-font-color2);\n",
       "}\n",
       "\n",
       ".xr-var-preview {\n",
       "  grid-column: 4;\n",
       "}\n",
       "\n",
       ".xr-index-preview {\n",
       "  grid-column: 2 / 5;\n",
       "  color: var(--xr-font-color2);\n",
       "}\n",
       "\n",
       ".xr-var-name,\n",
       ".xr-var-dims,\n",
       ".xr-var-dtype,\n",
       ".xr-preview,\n",
       ".xr-attrs dt {\n",
       "  white-space: nowrap;\n",
       "  overflow: hidden;\n",
       "  text-overflow: ellipsis;\n",
       "  padding-right: 10px;\n",
       "}\n",
       "\n",
       ".xr-var-name:hover,\n",
       ".xr-var-dims:hover,\n",
       ".xr-var-dtype:hover,\n",
       ".xr-attrs dt:hover {\n",
       "  overflow: visible;\n",
       "  width: auto;\n",
       "  z-index: 1;\n",
       "}\n",
       "\n",
       ".xr-var-attrs,\n",
       ".xr-var-data,\n",
       ".xr-index-data {\n",
       "  display: none;\n",
       "  background-color: var(--xr-background-color) !important;\n",
       "  padding-bottom: 5px !important;\n",
       "}\n",
       "\n",
       ".xr-var-attrs-in:checked ~ .xr-var-attrs,\n",
       ".xr-var-data-in:checked ~ .xr-var-data,\n",
       ".xr-index-data-in:checked ~ .xr-index-data {\n",
       "  display: block;\n",
       "}\n",
       "\n",
       ".xr-var-data > table {\n",
       "  float: right;\n",
       "}\n",
       "\n",
       ".xr-var-name span,\n",
       ".xr-var-data,\n",
       ".xr-index-name div,\n",
       ".xr-index-data,\n",
       ".xr-attrs {\n",
       "  padding-left: 25px !important;\n",
       "}\n",
       "\n",
       ".xr-attrs,\n",
       ".xr-var-attrs,\n",
       ".xr-var-data,\n",
       ".xr-index-data {\n",
       "  grid-column: 1 / -1;\n",
       "}\n",
       "\n",
       "dl.xr-attrs {\n",
       "  padding: 0;\n",
       "  margin: 0;\n",
       "  display: grid;\n",
       "  grid-template-columns: 125px auto;\n",
       "}\n",
       "\n",
       ".xr-attrs dt,\n",
       ".xr-attrs dd {\n",
       "  padding: 0;\n",
       "  margin: 0;\n",
       "  float: left;\n",
       "  padding-right: 10px;\n",
       "  width: auto;\n",
       "}\n",
       "\n",
       ".xr-attrs dt {\n",
       "  font-weight: normal;\n",
       "  grid-column: 1;\n",
       "}\n",
       "\n",
       ".xr-attrs dt:hover span {\n",
       "  display: inline-block;\n",
       "  background: var(--xr-background-color);\n",
       "  padding-right: 10px;\n",
       "}\n",
       "\n",
       ".xr-attrs dd {\n",
       "  grid-column: 2;\n",
       "  white-space: pre-wrap;\n",
       "  word-break: break-all;\n",
       "}\n",
       "\n",
       ".xr-icon-database,\n",
       ".xr-icon-file-text2,\n",
       ".xr-no-icon {\n",
       "  display: inline-block;\n",
       "  vertical-align: middle;\n",
       "  width: 1em;\n",
       "  height: 1.5em !important;\n",
       "  stroke-width: 0;\n",
       "  stroke: currentColor;\n",
       "  fill: currentColor;\n",
       "}\n",
       "</style><pre class='xr-text-repr-fallback'>&lt;xarray.DataArray (potrho: 80, grid_yu_ocean: 608)&gt;\n",
       "array([[ 5.63742596e-02,  5.65695799e-02,  5.68399719e-02, ...,\n",
       "        -8.45159873e-01, -8.44121068e-01, -8.42462035e-01],\n",
       "       [ 5.63742596e-02,  5.65695799e-02,  5.68399719e-02, ...,\n",
       "        -8.45082571e-01, -8.44273289e-01, -8.41970018e-01],\n",
       "       [ 5.63742596e-02,  5.65695799e-02,  5.68399719e-02, ...,\n",
       "        -8.44565871e-01, -8.44094944e-01, -8.41689764e-01],\n",
       "       ...,\n",
       "       [ 1.94289029e-16,  1.52655666e-16,  4.16333634e-16, ...,\n",
       "        -1.77635684e-15,  0.00000000e+00,  0.00000000e+00],\n",
       "       [ 1.94289029e-16,  1.52655666e-16,  4.16333634e-16, ...,\n",
       "        -1.77635684e-15,  0.00000000e+00,  0.00000000e+00],\n",
       "       [ 1.94289029e-16,  1.52655666e-16,  4.16333634e-16, ...,\n",
       "        -1.77635684e-15,  0.00000000e+00,  0.00000000e+00]])\n",
       "Coordinates:\n",
       "  * potrho         (potrho) float64 1.028e+03 1.028e+03 ... 1.038e+03 1.038e+03\n",
       "  * grid_yu_ocean  (grid_yu_ocean) float64 -69.98 -69.94 -69.89 ... -35.08 -35.0</pre><div class='xr-wrap' style='display:none'><div class='xr-header'><div class='xr-obj-type'>xarray.DataArray</div><div class='xr-array-name'></div><ul class='xr-dim-list'><li><span class='xr-has-index'>potrho</span>: 80</li><li><span class='xr-has-index'>grid_yu_ocean</span>: 608</li></ul></div><ul class='xr-sections'><li class='xr-section-item'><div class='xr-array-wrap'><input id='section-5efeb134-c560-4456-b75d-83fb3259ae12' class='xr-array-in' type='checkbox' checked><label for='section-5efeb134-c560-4456-b75d-83fb3259ae12' title='Show/hide data repr'><svg class='icon xr-icon-database'><use xlink:href='#icon-database'></use></svg></label><div class='xr-array-preview xr-preview'><span>0.05637 0.05657 0.05684 0.05703 0.05711 ... 0.0 0.0 -1.776e-15 0.0 0.0</span></div><div class='xr-array-data'><pre>array([[ 5.63742596e-02,  5.65695799e-02,  5.68399719e-02, ...,\n",
       "        -8.45159873e-01, -8.44121068e-01, -8.42462035e-01],\n",
       "       [ 5.63742596e-02,  5.65695799e-02,  5.68399719e-02, ...,\n",
       "        -8.45082571e-01, -8.44273289e-01, -8.41970018e-01],\n",
       "       [ 5.63742596e-02,  5.65695799e-02,  5.68399719e-02, ...,\n",
       "        -8.44565871e-01, -8.44094944e-01, -8.41689764e-01],\n",
       "       ...,\n",
       "       [ 1.94289029e-16,  1.52655666e-16,  4.16333634e-16, ...,\n",
       "        -1.77635684e-15,  0.00000000e+00,  0.00000000e+00],\n",
       "       [ 1.94289029e-16,  1.52655666e-16,  4.16333634e-16, ...,\n",
       "        -1.77635684e-15,  0.00000000e+00,  0.00000000e+00],\n",
       "       [ 1.94289029e-16,  1.52655666e-16,  4.16333634e-16, ...,\n",
       "        -1.77635684e-15,  0.00000000e+00,  0.00000000e+00]])</pre></div></div></li><li class='xr-section-item'><input id='section-5a7305d5-b3a4-4d43-ac47-d33b6a1591be' class='xr-section-summary-in' type='checkbox'  checked><label for='section-5a7305d5-b3a4-4d43-ac47-d33b6a1591be' class='xr-section-summary' >Coordinates: <span>(2)</span></label><div class='xr-section-inline-details'></div><div class='xr-section-details'><ul class='xr-var-list'><li class='xr-var-item'><div class='xr-var-name'><span class='xr-has-index'>potrho</span></div><div class='xr-var-dims'>(potrho)</div><div class='xr-var-dtype'>float64</div><div class='xr-var-preview xr-preview'>1.028e+03 1.028e+03 ... 1.038e+03</div><input id='attrs-1ae02434-dec5-4f87-9fb0-16dbcdc71917' class='xr-var-attrs-in' type='checkbox' ><label for='attrs-1ae02434-dec5-4f87-9fb0-16dbcdc71917' title='Show/Hide attributes'><svg class='icon xr-icon-file-text2'><use xlink:href='#icon-file-text2'></use></svg></label><input id='data-2ea57aeb-c9ec-456e-ace2-a629df04aa28' class='xr-var-data-in' type='checkbox'><label for='data-2ea57aeb-c9ec-456e-ace2-a629df04aa28' title='Show/Hide data repr'><svg class='icon xr-icon-database'><use xlink:href='#icon-database'></use></svg></label><div class='xr-var-attrs'><dl class='xr-attrs'><dt><span>long_name :</span></dt><dd>potential density</dd><dt><span>units :</span></dt><dd>kg/m^3</dd><dt><span>cartesian_axis :</span></dt><dd>Z</dd><dt><span>positive :</span></dt><dd>down</dd><dt><span>edges :</span></dt><dd>potrho_edges</dd></dl></div><div class='xr-var-data'><pre>array([1028.0625, 1028.1875, 1028.3125, 1028.4375, 1028.5625, 1028.6875,\n",
       "       1028.8125, 1028.9375, 1029.0625, 1029.1875, 1029.3125, 1029.4375,\n",
       "       1029.5625, 1029.6875, 1029.8125, 1029.9375, 1030.0625, 1030.1875,\n",
       "       1030.3125, 1030.4375, 1030.5625, 1030.6875, 1030.8125, 1030.9375,\n",
       "       1031.0625, 1031.1875, 1031.3125, 1031.4375, 1031.5625, 1031.6875,\n",
       "       1031.8125, 1031.9375, 1032.0625, 1032.1875, 1032.3125, 1032.4375,\n",
       "       1032.5625, 1032.6875, 1032.8125, 1032.9375, 1033.0625, 1033.1875,\n",
       "       1033.3125, 1033.4375, 1033.5625, 1033.6875, 1033.8125, 1033.9375,\n",
       "       1034.0625, 1034.1875, 1034.3125, 1034.4375, 1034.5625, 1034.6875,\n",
       "       1034.8125, 1034.9375, 1035.0625, 1035.1875, 1035.3125, 1035.4375,\n",
       "       1035.5625, 1035.6875, 1035.8125, 1035.9375, 1036.0625, 1036.1875,\n",
       "       1036.3125, 1036.4375, 1036.5625, 1036.6875, 1036.8125, 1036.9375,\n",
       "       1037.0625, 1037.1875, 1037.3125, 1037.4375, 1037.5625, 1037.6875,\n",
       "       1037.8125, 1037.9375])</pre></div></li><li class='xr-var-item'><div class='xr-var-name'><span class='xr-has-index'>grid_yu_ocean</span></div><div class='xr-var-dims'>(grid_yu_ocean)</div><div class='xr-var-dtype'>float64</div><div class='xr-var-preview xr-preview'>-69.98 -69.94 ... -35.08 -35.0</div><input id='attrs-8ffa39ab-a1f3-420e-afa1-b4e20abdb635' class='xr-var-attrs-in' type='checkbox' ><label for='attrs-8ffa39ab-a1f3-420e-afa1-b4e20abdb635' title='Show/Hide attributes'><svg class='icon xr-icon-file-text2'><use xlink:href='#icon-file-text2'></use></svg></label><input id='data-6e5ff041-094c-47c6-a401-66b60f55d828' class='xr-var-data-in' type='checkbox'><label for='data-6e5ff041-094c-47c6-a401-66b60f55d828' title='Show/Hide data repr'><svg class='icon xr-icon-database'><use xlink:href='#icon-database'></use></svg></label><div class='xr-var-attrs'><dl class='xr-attrs'><dt><span>long_name :</span></dt><dd>ucell latitude</dd><dt><span>units :</span></dt><dd>degrees_N</dd><dt><span>cartesian_axis :</span></dt><dd>Y</dd></dl></div><div class='xr-var-data'><pre>array([-69.978562, -69.936322, -69.894083, ..., -35.159759, -35.077963,\n",
       "       -34.996085])</pre></div></li></ul></div></li><li class='xr-section-item'><input id='section-7a58a6d2-57a2-4059-a484-68f041c31461' class='xr-section-summary-in' type='checkbox'  ><label for='section-7a58a6d2-57a2-4059-a484-68f041c31461' class='xr-section-summary' >Indexes: <span>(2)</span></label><div class='xr-section-inline-details'></div><div class='xr-section-details'><ul class='xr-var-list'><li class='xr-var-item'><div class='xr-index-name'><div>potrho</div></div><div class='xr-index-preview'>PandasIndex</div><div></div><input id='index-0c8e7c54-e895-4376-a898-bd61aba11e01' class='xr-index-data-in' type='checkbox'/><label for='index-0c8e7c54-e895-4376-a898-bd61aba11e01' title='Show/Hide index repr'><svg class='icon xr-icon-database'><use xlink:href='#icon-database'></use></svg></label><div class='xr-index-data'><pre>PandasIndex(Float64Index([1028.0625, 1028.1875, 1028.3125, 1028.4375, 1028.5625, 1028.6875,\n",
       "              1028.8125, 1028.9375, 1029.0625, 1029.1875, 1029.3125, 1029.4375,\n",
       "              1029.5625, 1029.6875, 1029.8125, 1029.9375, 1030.0625, 1030.1875,\n",
       "              1030.3125, 1030.4375, 1030.5625, 1030.6875, 1030.8125, 1030.9375,\n",
       "              1031.0625, 1031.1875, 1031.3125, 1031.4375, 1031.5625, 1031.6875,\n",
       "              1031.8125, 1031.9375, 1032.0625, 1032.1875, 1032.3125, 1032.4375,\n",
       "              1032.5625, 1032.6875, 1032.8125, 1032.9375, 1033.0625, 1033.1875,\n",
       "              1033.3125, 1033.4375, 1033.5625, 1033.6875, 1033.8125, 1033.9375,\n",
       "              1034.0625, 1034.1875, 1034.3125, 1034.4375, 1034.5625, 1034.6875,\n",
       "              1034.8125, 1034.9375, 1035.0625, 1035.1875, 1035.3125, 1035.4375,\n",
       "              1035.5625, 1035.6875, 1035.8125, 1035.9375, 1036.0625, 1036.1875,\n",
       "              1036.3125, 1036.4375, 1036.5625, 1036.6875, 1036.8125, 1036.9375,\n",
       "              1037.0625, 1037.1875, 1037.3125, 1037.4375, 1037.5625, 1037.6875,\n",
       "              1037.8125, 1037.9375],\n",
       "             dtype=&#x27;float64&#x27;, name=&#x27;potrho&#x27;))</pre></div></li><li class='xr-var-item'><div class='xr-index-name'><div>grid_yu_ocean</div></div><div class='xr-index-preview'>PandasIndex</div><div></div><input id='index-c3542251-144f-4143-8b1a-f7e98f19605f' class='xr-index-data-in' type='checkbox'/><label for='index-c3542251-144f-4143-8b1a-f7e98f19605f' title='Show/Hide index repr'><svg class='icon xr-icon-database'><use xlink:href='#icon-database'></use></svg></label><div class='xr-index-data'><pre>PandasIndex(Float64Index([ -69.97856179909718,   -69.9363224447167,  -69.89408309033621,\n",
       "               -69.85184373595573,  -69.80960438157524,  -69.76736502719476,\n",
       "               -69.72512567281427,  -69.68288631843379,   -69.6406469640533,\n",
       "               -69.59840760967282,\n",
       "              ...\n",
       "              -35.730026186130885,  -35.64880707699471,  -35.56750530938859,\n",
       "               -35.48612096296253, -35.404654118303775,  -35.32310485655841,\n",
       "               -35.24147325981119, -35.159759410709434,  -35.07796339284052,\n",
       "               -34.99608529035807],\n",
       "             dtype=&#x27;float64&#x27;, name=&#x27;grid_yu_ocean&#x27;, length=608))</pre></div></li></ul></div></li><li class='xr-section-item'><input id='section-3ee18817-cb54-44fd-ac27-0a7579d6f7b1' class='xr-section-summary-in' type='checkbox' disabled ><label for='section-3ee18817-cb54-44fd-ac27-0a7579d6f7b1' class='xr-section-summary'  title='Expand/collapse section'>Attributes: <span>(0)</span></label><div class='xr-section-inline-details'></div><div class='xr-section-details'><dl class='xr-attrs'></dl></div></li></ul></div></div>"
      ],
      "text/plain": [
       "<xarray.DataArray (potrho: 80, grid_yu_ocean: 608)>\n",
       "array([[ 5.63742596e-02,  5.65695799e-02,  5.68399719e-02, ...,\n",
       "        -8.45159873e-01, -8.44121068e-01, -8.42462035e-01],\n",
       "       [ 5.63742596e-02,  5.65695799e-02,  5.68399719e-02, ...,\n",
       "        -8.45082571e-01, -8.44273289e-01, -8.41970018e-01],\n",
       "       [ 5.63742596e-02,  5.65695799e-02,  5.68399719e-02, ...,\n",
       "        -8.44565871e-01, -8.44094944e-01, -8.41689764e-01],\n",
       "       ...,\n",
       "       [ 1.94289029e-16,  1.52655666e-16,  4.16333634e-16, ...,\n",
       "        -1.77635684e-15,  0.00000000e+00,  0.00000000e+00],\n",
       "       [ 1.94289029e-16,  1.52655666e-16,  4.16333634e-16, ...,\n",
       "        -1.77635684e-15,  0.00000000e+00,  0.00000000e+00],\n",
       "       [ 1.94289029e-16,  1.52655666e-16,  4.16333634e-16, ...,\n",
       "        -1.77635684e-15,  0.00000000e+00,  0.00000000e+00]])\n",
       "Coordinates:\n",
       "  * potrho         (potrho) float64 1.028e+03 1.028e+03 ... 1.038e+03 1.038e+03\n",
       "  * grid_yu_ocean  (grid_yu_ocean) float64 -69.98 -69.94 -69.89 ... -35.08 -35.0"
      ]
     },
     "execution_count": 14,
     "metadata": {},
     "output_type": "execute_result"
    }
   ],
   "source": [
    "psi_avg.load()"
   ]
  },
  {
   "cell_type": "code",
   "execution_count": 15,
   "id": "8f4ed670-6a0e-4b52-a8ec-a6cef918f0f5",
   "metadata": {},
   "outputs": [
    {
     "name": "stdout",
     "output_type": "stream",
     "text": [
      "CPU times: user 242 ms, sys: 42.8 ms, total: 284 ms\n",
      "Wall time: 284 ms\n"
     ]
    },
    {
     "data": {
      "image/png": "[encoded data removed]",
      "text/plain": [
       "<Figure size 1080x288 with 4 Axes>"
      ]
     },
     "metadata": {
      "needs_background": "light"
     },
     "output_type": "display_data"
    }
   ],
   "source": [
    "%%time\n",
    "fig, axes = plt.subplots(nrows = 1, ncols = 3, figsize = (15, 4))\n",
    "\n",
    "levels = np.linspace(-25, 25, 26)\n",
    "\n",
    "(psi_avg).plot.contourf(ax = axes[0], x = 'grid_yu_ocean',levels = levels, add_colorbar = False)\n",
    "\n",
    "(psi_avg_mean).plot.contourf(ax = axes[1], x = 'grid_yu_ocean', levels = levels, add_colorbar = False)\n",
    "\n",
    "p = (psi_avg - psi_avg_mean).plot.contourf(ax = axes[2], x = 'grid_yu_ocean', levels = levels, add_colorbar = False)\n",
    "\n",
    "cbar_ax = fig.add_axes([0.92, 0.15, 0.01, 0.7])\n",
    "fig.colorbar(p, cax=cbar_ax, label= 'Transport (Sv)')\n",
    "\n",
    "axes[0].set_title('Residual')\n",
    "axes[1].set_title('Mean')\n",
    "axes[2].set_title('Eddy')\n",
    "\n",
    "for ax in axes:\n",
    "    ax.set_ylim(1037.5, 1032)\n",
    "    ax.set_xlim(-70, -35);"
   ]
  },
  {
   "cell_type": "markdown",
   "id": "eaaafc08-1df8-4e26-9663-624b5fb8cf65",
   "metadata": {},
   "source": [
    "# Method 2: `xgcm`\n",
    "\n",
    "Use `xgcm` conservative binning, described in the tutorial available in `xgcm` documentation: https://xgcm.readthedocs.io/en/stable/transform.html\n",
    "\n",
    "This method results in a smoother vertical distribution than `xhistogram`, as it is not quite a histogram but does some interpolation to the top and bottom of each vertical cell. We have found that the computation currently has issues with interior land boundaries: `xgcm` isn't able to compute partial cells at the bottom of the ocean in MOM5. We thus add a correction after the computation to ensure that vertical integrals are preserved and thus that streamfunctions calculated are closed."
   ]
  },
  {
   "cell_type": "markdown",
   "id": "9e46418e-89b7-449f-bab7-1f259239a55d",
   "metadata": {},
   "source": [
    "#### Load vertical grid bin centres and edges"
   ]
  },
  {
   "cell_type": "code",
   "execution_count": 16,
   "id": "964e2221-c7fa-43ec-aea7-8030eb4c9a6c",
   "metadata": {},
   "outputs": [
    {
     "name": "stdout",
     "output_type": "stream",
     "text": [
      "CPU times: user 857 ms, sys: 86.6 ms, total: 944 ms\n",
      "Wall time: 1.14 s\n"
     ]
    }
   ],
   "source": [
    "%%time\n",
    "\n",
    "st_ocean = cc.querying.getvar(experiment, 'st_ocean', session, n=1)\n",
    "st_edges_ocean = cc.querying.getvar(experiment, 'st_edges_ocean', session, n=1)"
   ]
  },
  {
   "cell_type": "markdown",
   "id": "58336fe8-d59d-4489-903a-af25ad35024a",
   "metadata": {},
   "source": [
    "#### define edge of target density bins"
   ]
  },
  {
   "cell_type": "code",
   "execution_count": 17,
   "id": "874a9140-cbe8-49e4-a7b5-8a06aaf4b3c4",
   "metadata": {},
   "outputs": [],
   "source": [
    "pot_rho_2_target = cc.querying.getvar(experiment, 'potrho_edges', session, start_time = start_time, end_time = end_time, n=1, frequency = '1 monthly' ).values"
   ]
  },
  {
   "cell_type": "markdown",
   "id": "93d9620f-60be-482a-932a-ebaf72524cce",
   "metadata": {},
   "source": [
    "### calculate vertical regridding into density coordinates"
   ]
  },
  {
   "cell_type": "code",
   "execution_count": 18,
   "id": "bac76fee-60cf-447e-8ffc-7aa443680285",
   "metadata": {},
   "outputs": [
    {
     "name": "stdout",
     "output_type": "stream",
     "text": [
      "CPU times: user 44.5 ms, sys: 2.84 ms, total: 47.4 ms\n",
      "Wall time: 40 ms\n"
     ]
    }
   ],
   "source": [
    "%%time\n",
    "\n",
    "ds = xr.Dataset({'ty_trans': ty_trans, 'pot_rho_2': pot_rho_2})\n",
    "\n",
    "#Note if not using ty_trans, quantity must be extensive, e.g., vhrho_nt, uhrho_et, tx_trans (and *not*, e.g., v, salt). \n",
    "#If not extensive, then multiply by dzt or dzu.\n",
    "ds = ds.assign_coords({'st_edges_ocean': st_edges_ocean})\n",
    "ds = ds.chunk({'st_edges_ocean': 76, 'st_ocean': 75}) #xgcm doesn't like it if there is more than 1 chunk in this axis\n",
    "\n",
    "grid = xgcm.Grid(ds, coords={'Z': {'center': 'st_ocean', 'outer': 'st_edges_ocean'}}, periodic = False)\n",
    "ds['pot_rho_2_outer'] = grid.interp(ds.pot_rho_2, 'Z', boundary='extend')\n",
    "ds['pot_rho_2_outer'] = ds['pot_rho_2_outer'].chunk({'st_edges_ocean': 76})\n",
    "\n",
    "ty_trans_transformed_cons = grid.transform(ds.ty_trans,\n",
    "                                           'Z',\n",
    "                                           pot_rho_2_target,\n",
    "                                           method='conservative',\n",
    "                                           target_data=ds.pot_rho_2_outer)\n",
    "\n",
    "### change name to fit previous bins because default xgcm naming is different\n",
    "#pot_rho_2_outer is actually the CENTRE of bins (I guess the convention was defined for linear interpolation not conservative)\n",
    "ty_trans_transformed_cons = ty_trans_transformed_cons.rename({'pot_rho_2_outer': 'potrho'})"
   ]
  },
  {
   "cell_type": "code",
   "execution_count": 19,
   "id": "b1719dda-a93c-481e-b75d-a481ec7bafd0",
   "metadata": {},
   "outputs": [
    {
     "name": "stdout",
     "output_type": "stream",
     "text": [
      "CPU times: user 36.7 s, sys: 4.28 s, total: 40.9 s\n",
      "Wall time: 1min 11s\n"
     ]
    }
   ],
   "source": [
    "%%time\n",
    "ty_trans_transformed_cons = ty_trans_transformed_cons.load()"
   ]
  },
  {
   "cell_type": "markdown",
   "id": "10e2fd59-083b-417b-af83-812d202ce0da",
   "metadata": {},
   "source": [
    "#### Now account for partial cell at bottom\n",
    "We do this by finding what is missing from the vertical integral (residual). This is what was in the partial cell. We then add that residual into the densest cell that currently exists in the transformed data. This is only an approximation, because the density of the partial cell may be denser than that of the cell above it. However, this correction means the vertical integral is preserved under the transformation."
   ]
  },
  {
   "cell_type": "code",
   "execution_count": 20,
   "id": "71a9b5c8-6c18-4aed-9c3e-d23fd470f310",
   "metadata": {},
   "outputs": [
    {
     "name": "stdout",
     "output_type": "stream",
     "text": [
      "CPU times: user 690 ms, sys: 716 ms, total: 1.41 s\n",
      "Wall time: 1.27 s\n"
     ]
    }
   ],
   "source": [
    "%%time\n",
    "#find residual from vertical integral\n",
    "ty_trans_residual = ty_trans.sum('st_ocean') - ty_trans_transformed_cons.sum('potrho') #this is positive definite"
   ]
  },
  {
   "cell_type": "markdown",
   "id": "115208ff-07d1-45f4-bcfb-6e7a0290de7a",
   "metadata": {},
   "source": [
    "#### Find bottom density of `ty_trans_transformed_cons`"
   ]
  },
  {
   "cell_type": "code",
   "execution_count": 21,
   "id": "e2d07412-6377-4fe5-be5f-530b3ea8b87d",
   "metadata": {},
   "outputs": [
    {
     "name": "stdout",
     "output_type": "stream",
     "text": [
      "CPU times: user 1.14 s, sys: 1.04 s, total: 2.18 s\n",
      "Wall time: 1.97 s\n"
     ]
    }
   ],
   "source": [
    "%%time\n",
    "# select out bottom values:\n",
    "ty_trans_transformed_cons2 = ty_trans_transformed_cons.where(ty_trans_transformed_cons!= 0) \n",
    "dens_array = ty_trans_transformed_cons2 * 0 + ty_trans_transformed_cons2.potrho # array of isopycnal value where it exists and nan elsewhere\n",
    "max_dens = dens_array.max(dim = 'potrho', skipna = True)"
   ]
  },
  {
   "cell_type": "markdown",
   "id": "1096b59c-b87e-47cb-a291-6eb479020d5d",
   "metadata": {},
   "source": [
    "#### Add residual to this bottom density in array"
   ]
  },
  {
   "cell_type": "code",
   "execution_count": 22,
   "id": "4af3a264-5894-4d9d-afbe-7341b6697073",
   "metadata": {},
   "outputs": [
    {
     "name": "stdout",
     "output_type": "stream",
     "text": [
      "CPU times: user 1.75 s, sys: 1.05 s, total: 2.8 s\n",
      "Wall time: 2.53 s\n"
     ]
    }
   ],
   "source": [
    "%%time\n",
    "ty_trans_residual_array = (dens_array.where(dens_array == max_dens)*0 + 1)*ty_trans_residual\n",
    "ty_trans_new = ty_trans_residual_array.fillna(0)+ ty_trans_transformed_cons"
   ]
  },
  {
   "cell_type": "code",
   "execution_count": 23,
   "id": "e33d083b-19b6-44fb-a8e5-cda294438b48",
   "metadata": {},
   "outputs": [],
   "source": [
    "# rename coords to match ty_trans_rho\n",
    "ty_trans_new = ty_trans_new.rename({'yu_ocean': 'grid_yu_ocean', 'xt_ocean': 'grid_xt_ocean'})"
   ]
  },
  {
   "cell_type": "code",
   "execution_count": 24,
   "id": "b6547622-cbfa-436a-9a19-7eb7154838c3",
   "metadata": {},
   "outputs": [
    {
     "name": "stdout",
     "output_type": "stream",
     "text": [
      "CPU times: user 18.7 s, sys: 3.52 s, total: 22.2 s\n",
      "Wall time: 33.4 s\n"
     ]
    }
   ],
   "source": [
    "%%time\n",
    "\n",
    "ty_trans_new = ty_trans_new.load()"
   ]
  },
  {
   "cell_type": "markdown",
   "id": "75c9d270-47d1-45c1-8796-32944e6b2fb3",
   "metadata": {},
   "source": [
    "#### Plot streamfunction of result"
   ]
  },
  {
   "cell_type": "code",
   "execution_count": 25,
   "id": "8ea61ffe-980d-45b9-823d-2db8422ea105",
   "metadata": {},
   "outputs": [],
   "source": [
    "psi_avg = cumsum_from_bottom(ty_trans_rho.sum('grid_xt_ocean')/1e6/rho_0)\n",
    "psi_avg_mean_2 = cumsum_from_bottom(ty_trans_new.sum('grid_xt_ocean')/1e6/rho_0)"
   ]
  },
  {
   "cell_type": "code",
   "execution_count": 26,
   "id": "6535bf5b-83d4-40ba-8296-0618ba4366e9",
   "metadata": {},
   "outputs": [
    {
     "name": "stdout",
     "output_type": "stream",
     "text": [
      "CPU times: user 36.5 s, sys: 2.36 s, total: 38.9 s\n",
      "Wall time: 55.2 s\n"
     ]
    },
    {
     "data": {
      "image/png": "[encoded data removed]",
      "text/plain": [
       "<Figure size 1080x288 with 4 Axes>"
      ]
     },
     "metadata": {
      "needs_background": "light"
     },
     "output_type": "display_data"
    }
   ],
   "source": [
    "%%time\n",
    "fig, axes = plt.subplots(nrows = 1, ncols = 3, figsize = (15, 4))\n",
    "\n",
    "levels = np.linspace(-25, 25, 26)\n",
    "\n",
    "(psi_avg).plot.contourf(ax = axes[0], x = 'grid_yu_ocean',levels = levels, add_colorbar = False)\n",
    "\n",
    "(psi_avg_mean_2).plot.contourf(ax = axes[1], x = 'grid_yu_ocean', levels = levels, add_colorbar = False)\n",
    "\n",
    "p = (psi_avg - psi_avg_mean_2).plot.contourf(ax = axes[2], x = 'grid_yu_ocean', levels = levels, add_colorbar = False)\n",
    "\n",
    "cbar_ax = fig.add_axes([0.92, 0.15, 0.01, 0.7])\n",
    "fig.colorbar(p, cax=cbar_ax, label= 'Transport (Sv)')\n",
    "\n",
    "axes[0].set_title('Residual')\n",
    "axes[1].set_title('Mean')\n",
    "axes[2].set_title('Eddy')\n",
    "\n",
    "for ax in axes:\n",
    "    ax.set_ylim(1037.5, 1032)\n",
    "    ax.set_xlim(-70, -35);"
   ]
  },
  {
   "cell_type": "markdown",
   "id": "ce8152ad-8c28-467a-b867-fe7408a01023",
   "metadata": {
    "tags": []
   },
   "source": [
    "# Method 3: Bin `ty_trans` (mean Eulerian overturning) into density bins\n",
    "\n",
    "This uses the method by Lee et al. (2007) and which is is described as follows. Firstly, cells in the model output with a density $\\rho$ between two prescribed densities ($\\rho_\\text{heavy} >\\rho> \\rho_\\text{light}$) are selected. Each cell is assigned a proximity to the lighter density $\\rho_\\text{light}$, which is the 'bin fraction' $$f_b = \\frac{\\rho_\\text{heavy}-\\rho}{\\rho_\\text{heavy}-\\rho_\\text{light}}.$$\n",
    "\n",
    "Here, a bin fraction of 1 means the cell density $\\rho = \\rho_\\text{light}$ and $f_b=0$ means $\\rho = \\rho_\\text{heavy}$. The quantity being binned, such as the meridional transport $vh$, is then multiplied by $f_b$ and added to the lighter density $\\rho_\\text{light}$ bin's meridional transport, followed by the $vh(1-f_b)$ being added to the heavier bin, $\\rho_\\text{heavy}$. This process is repeated for all sets of consecutive bins, meaning that density bins have input from model output cells with density slightly lower and higher than it. \n",
    "\n",
    "> Lee, M., Nurser, A., Coward, A., and De Cuevas, B. (2007). [Eddy advective and diffusive\n",
    "transports of heat and salt in the Southern Ocean.](https://doi.org/10.1175/JPO3057.1) _Journal of Physical Oceanography_, **37(5)**, 1376–1393."
   ]
  },
  {
   "cell_type": "markdown",
   "id": "063607a5-1bd7-4c8f-8cc1-0d89bf2f02d0",
   "metadata": {},
   "source": [
    "#### For this method, we need to get rid of NaNs"
   ]
  },
  {
   "cell_type": "code",
   "execution_count": 27,
   "id": "fed405b2-ff26-47cc-96d5-e8326aeafa57",
   "metadata": {},
   "outputs": [],
   "source": [
    "ty_trans = ty_trans.fillna(0)\n",
    "pot_rho_2 = pot_rho_2.fillna(0)"
   ]
  },
  {
   "cell_type": "markdown",
   "id": "1645e9d1-f09f-4e3e-b087-383ec4bfb6a6",
   "metadata": {},
   "source": [
    "#### Load first to reduce computation time"
   ]
  },
  {
   "cell_type": "code",
   "execution_count": 28,
   "id": "e105a23e-9179-4e73-aa26-93d1dd1056f9",
   "metadata": {},
   "outputs": [
    {
     "name": "stdout",
     "output_type": "stream",
     "text": [
      "CPU times: user 33.3 s, sys: 5.16 s, total: 38.4 s\n",
      "Wall time: 56.7 s\n"
     ]
    }
   ],
   "source": [
    "%%time\n",
    "pot_rho_2 = pot_rho_2.load()\n",
    "ty_trans = ty_trans.load()"
   ]
  },
  {
   "cell_type": "code",
   "execution_count": 29,
   "id": "bdb54ac7-92e9-48f3-b20a-d07810f2625d",
   "metadata": {},
   "outputs": [],
   "source": [
    "# choose bins (in this case, default ty_trans_rho pot_rho_2 bins\n",
    "rho2_bins = ty_trans_rho.potrho.values\n",
    "\n",
    "# set up a zero array to be filled in by the algorithm\n",
    "ty_trans_binned = np.zeros((len(rho2_bins), len(pot_rho_2.yu_ocean), len(pot_rho_2.xt_ocean)))"
   ]
  },
  {
   "cell_type": "code",
   "execution_count": 52,
   "id": "42324e61-50c2-4cb7-8ed3-b9533ab0f4a3",
   "metadata": {
    "tags": []
   },
   "outputs": [
    {
     "data": {
      "application/vnd.jupyter.widget-view+json": {
       "model_id": "94ad3e5e97e446a9b239131291572fdd",
       "version_major": 2,
       "version_minor": 0
      },
      "text/plain": [
       "  0%|          | 0/79 [00:00<?, ?it/s]"
      ]
     },
     "metadata": {},
     "output_type": "display_data"
    },
    {
     "name": "stdout",
     "output_type": "stream",
     "text": [
      "CPU times: user 5min 32s, sys: 6min 39s, total: 12min 11s\n",
      "Wall time: 11min 50s\n"
     ]
    }
   ],
   "source": [
    "%%time\n",
    "\n",
    "from tqdm.auto import tqdm\n",
    "\n",
    "# loop over the bins, performing Lee et al. (2007) algorithm\n",
    "# takes time, faster if ty_trans and pot_rho_2 already loaded\n",
    "for i in tqdm(range(len(rho2_bins)-1)):\n",
    "    bin_mask = pot_rho_2.where(pot_rho_2 <= rho2_bins[i+1]).where(pot_rho_2 > rho2_bins[i])*0+1\n",
    "    bin_fractions = (rho2_bins[i+1] - pot_rho_2 * bin_mask)/(rho2_bins[i+1] - rho2_bins[i])\n",
    "    ## bin ty_trans:\n",
    "    ty_trans_in_lower_bin = (ty_trans * bin_mask * bin_fractions).sum(dim = 'st_ocean')\n",
    "    ty_trans_binned[i,:,:] += ty_trans_in_lower_bin.fillna(0).values\n",
    "    del ty_trans_in_lower_bin\n",
    "    ty_trans_in_upper_bin = (ty_trans * bin_mask * (1-bin_fractions)).sum(dim = 'st_ocean')\n",
    "    ty_trans_binned[i+1,:,:] += ty_trans_in_upper_bin.fillna(0).values\n",
    "    del ty_trans_in_upper_bin"
   ]
  },
  {
   "cell_type": "code",
   "execution_count": 53,
   "id": "398b5155-b1f8-4da3-ad31-adfcbbd918d2",
   "metadata": {},
   "outputs": [],
   "source": [
    "# convert numpy array into xarray dataarray\n",
    "ty_trans_binned_array = xr.DataArray(ty_trans_binned, \n",
    "                                     coords = [rho2_bins, pot_rho_2.yu_ocean, pot_rho_2.xt_ocean], \n",
    "                                     dims = ['potrho', 'grid_yu_ocean', 'grid_xt_ocean'], \n",
    "                                     name = 'ty_trans_binned')"
   ]
  },
  {
   "cell_type": "code",
   "execution_count": 54,
   "id": "690ddd63-0ffc-497b-8dbe-bed29d59d980",
   "metadata": {},
   "outputs": [],
   "source": [
    "# find streamfunction\n",
    "psi_avg = cumsum_from_bottom(ty_trans_rho.sum('grid_xt_ocean'))/1e6/rho_0\n",
    "psi_avg_mean_3 = cumsum_from_bottom(ty_trans_binned_array.sum('grid_xt_ocean'))/1e6/rho_0"
   ]
  },
  {
   "cell_type": "markdown",
   "id": "35ddc3b8-5d15-413e-8cb6-d5e8073841f8",
   "metadata": {},
   "source": [
    "#### Plot streamfunctions"
   ]
  },
  {
   "cell_type": "code",
   "execution_count": null,
   "id": "58a7fe12-4fcd-49ca-a553-e7f4e185212c",
   "metadata": {},
   "outputs": [],
   "source": [
    "fig, axes = plt.subplots(nrows = 1, ncols = 3, figsize = (15, 4))\n",
    "\n",
    "levels = np.linspace(-25, 25, 26)\n",
    "\n",
    "(psi_avg).plot.contourf(ax = axes[0], x = 'grid_yu_ocean',levels = levels, add_colorbar = False)\n",
    "\n",
    "(psi_avg_mean_3).plot.contourf(ax = axes[1], x = 'grid_yu_ocean', levels = levels, add_colorbar = False)\n",
    "\n",
    "p = (psi_avg - psi_avg_mean_3).plot.contourf(ax = axes[2], x = 'grid_yu_ocean', levels = levels, add_colorbar = False)\n",
    "\n",
    "cbar_ax = fig.add_axes([0.92, 0.15, 0.01, 0.7])\n",
    "fig.colorbar(p, cax=cbar_ax, label= 'Transport (Sv)')\n",
    "\n",
    "axes[0].set_title('Residual')\n",
    "axes[1].set_title('Mean')\n",
    "axes[2].set_title('Eddy')\n",
    "\n",
    "for ax in axes:\n",
    "    ax.set_ylim(1037.5, 1032)\n",
    "    ax.set_xlim(-70, -35);"
   ]
  },
  {
   "cell_type": "markdown",
   "id": "4b64145b-4b4c-4480-972a-51112c466756",
   "metadata": {
    "tags": []
   },
   "source": [
    "### All three methods yield similar plots of the decomposition of the meridional overturning streamfunction. \n",
    "\n",
    "The exact numbers resulting from the transformations differ, due to the different numerical methods. `xhistogram` is exact when compared to snapshots of MOM5 model output, and is hence most appropriate when comparing between online and offline binned quantities. `xgcm` and the Lee method can still be used to compare quantities binned offline. For example, if we were to instead bin the daily transports onto isopycnals and calculate eddy terms directly from the correlation of velocity and thickness fluctuations, `xgcm` and the Lee method may be better as the weighted binning onto isopycnals leaves less chance of 'gaps' between density layers. The Lee method has no issues with partial cells, but it is **much slower** than `xgcm`.\n",
    "\n",
    "The difference in the mean streamfunction between the three methods is presented below."
   ]
  },
  {
   "cell_type": "code",
   "execution_count": null,
   "id": "8d5f00b8-a2de-4328-b665-195eb75c2842",
   "metadata": {},
   "outputs": [],
   "source": [
    "fig, axes = plt.subplots(nrows = 1, ncols = 3, figsize = (15, 4))\n",
    "\n",
    "levels = np.arange(-10, 10.1, 0.5)\n",
    "\n",
    "(psi_avg_mean-psi_avg_mean_2).plot.contourf(ax = axes[0], x = 'grid_yu_ocean',levels = levels, add_colorbar = False)\n",
    "\n",
    "(psi_avg_mean-psi_avg_mean_3).plot.contourf(ax = axes[1], x = 'grid_yu_ocean', levels = levels, add_colorbar = False)\n",
    "\n",
    "p = (psi_avg_mean_2 - psi_avg_mean_3).plot.contourf(ax = axes[2], x = 'grid_yu_ocean', levels = levels, add_colorbar = False)\n",
    "\n",
    "cbar_ax = fig.add_axes([0.92, 0.15, 0.01, 0.7])\n",
    "fig.colorbar(p, cax=cbar_ax, label= 'Transport (Sv)')\n",
    "\n",
    "axes[0].set_title('Method 1 - Method 2');\n",
    "axes[1].set_title('Method 1 - Method 3');\n",
    "axes[2].set_title('Method 2 - Method 3');\n",
    "\n",
    "for ax in axes:\n",
    "    ax.set_ylim(1037.5, 1032)\n",
    "    ax.set_xlim(-70, -35)\n",
    "\n",
    "fig.suptitle('Difference in Mean Streamfunction', fontsize = 16);"
   ]
  },
  {
   "cell_type": "markdown",
   "id": "eed3d00b-224e-448d-8cbd-c8198244fe87",
   "metadata": {},
   "source": [
    "An alternative method to calculate the decomposition of the residual meridional overturning circulation into mean and eddy components is to bin `ty_trans` (or `vhrho_nt`) into density bins using daily data (both density and transport). Then the transport $\\overline{vh}$ can be separated into a mean component $\\overline{v}\\overline{h}$ and an eddy component $\\overline{v^\\prime h^\\prime}$, where the overline is a time average and primed quantities the deviation from the time average. Quantities are calculated within density layers, and $h$ is density layer thickness, calculated by binning `dzt` or `dzu`. This calculation, since it uses daily data, is computationally expensive and is difficult to do efficiently in a jupyter notebook. The resulting streamfunctions are similar, but not identical, and may be more intuitive for isopycnal flows. An example of this method can be found at https://github.com/claireyung/Topographic_Hotspots_Upwelling-Paper_Code/blob/main/Figure_Code/Fig5-Overturning.ipynb."
   ]
  }
 ],
 "metadata": {
  "kernelspec": {
   "display_name": "Python [conda env:analysis3-22.07]",
   "language": "python",
   "name": "conda-env-analysis3-22.07-py"
  },
  "language_info": {
   "codemirror_mode": {
    "name": "ipython",
    "version": 3
   },
   "file_extension": ".py",
   "mimetype": "text/x-python",
   "name": "python",
   "nbconvert_exporter": "python",
   "pygments_lexer": "ipython3",
   "version": "3.9.15"
  }
 },
 "nbformat": 4,
 "nbformat_minor": 5
}
