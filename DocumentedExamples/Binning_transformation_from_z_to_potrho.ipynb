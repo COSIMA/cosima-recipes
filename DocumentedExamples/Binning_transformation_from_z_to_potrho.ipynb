{
 "cells": [
  {
   "cell_type": "markdown",
   "id": "034f532a",
   "metadata": {},
   "source": [
    "# Example of a coordinate transformation from z levels to density levels\n",
    "\n",
    "### Rebinning `ty_trans` to `ty_trans_rho` density levels\n",
    "\n",
    "This transformation is commonly used for the purpose of decomposing the residual meridional overturning streamfunction into mean and eddy components. The mean is taken to be the time-mean Eulerian transport (time-mean in z coordinates), whilst the residual transport is the time-mean in density coordinates (density surface move in time). The eddy transport is the difference between the residual overturnng streamfunction, and the Eulerian transport **transformed from depth to density coordinates** via the time-mean density.\n",
    "\n",
    "Binning is the discrete version of this transformation from depth to density coordinates. We define target density bins, and for each bin we add the quantity to be binned from all cells with a density that satisfies that bin. In its simplest form, binning is creating a histogram.\n",
    "\n",
    "We will use two different binning methods:\n",
    "1. `xgcm` conservative binning (define edge of bins)\n",
    "2. Using density coordinate binning method of Lee et al. (2007) (define isopycnals to bin onto i.e. centre)"
   ]
  },
  {
   "cell_type": "code",
   "execution_count": 1,
   "id": "7a700f6b",
   "metadata": {},
   "outputs": [],
   "source": [
    "%matplotlib inline\n",
    "\n",
    "import cosima_cookbook as cc\n",
    "from cosima_cookbook import distributed as ccd\n",
    "import matplotlib.pyplot as plt\n",
    "import numpy as np\n",
    "import netCDF4 as nc\n",
    "import xarray as xr\n",
    "import glob\n",
    "import cmocean.cm as cmocean\n",
    "from gsw import SA_from_SP, p_from_z, sigma1, CT_from_t, sigma0, sigma4\n",
    "import xgcm\n",
    "import logging\n",
    "logging.captureWarnings(True)\n",
    "logging.getLogger('py.warnings').setLevel(logging.ERROR)\n",
    "import cartopy.crs as ccrs\n",
    "\n",
    "from dask.distributed import Client"
   ]
  },
  {
   "cell_type": "code",
   "execution_count": 2,
   "id": "e049d1c1",
   "metadata": {},
   "outputs": [
    {
     "data": {
      "text/html": [
       "<div>\n",
       "    <div style=\"width: 24px; height: 24px; background-color: #e1e1e1; border: 3px solid #9D9D9D; border-radius: 5px; position: absolute;\"> </div>\n",
       "    <div style=\"margin-left: 48px;\">\n",
       "        <h3 style=\"margin-bottom: 0px;\">Client</h3>\n",
       "        <p style=\"color: #9D9D9D; margin-bottom: 0px;\">Client-e70acc14-7d77-11ec-9066-fa163ebcd3ae</p>\n",
       "        <table style=\"width: 100%; text-align: left;\">\n",
       "\n",
       "        <tr>\n",
       "        \n",
       "            <td style=\"text-align: left;\"><strong>Connection method:</strong> Cluster object</td>\n",
       "            <td style=\"text-align: left;\"><strong>Cluster type:</strong> distributed.LocalCluster</td>\n",
       "        \n",
       "        </tr>\n",
       "\n",
       "        \n",
       "            <tr>\n",
       "                <td style=\"text-align: left;\">\n",
       "                    <strong>Dashboard: </strong> <a href=\"/proxy/39689/status\" target=\"_blank\">/proxy/39689/status</a>\n",
       "                </td>\n",
       "                <td style=\"text-align: left;\"></td>\n",
       "            </tr>\n",
       "        \n",
       "\n",
       "        </table>\n",
       "\n",
       "        \n",
       "            <details>\n",
       "            <summary style=\"margin-bottom: 20px;\"><h3 style=\"display: inline;\">Cluster Info</h3></summary>\n",
       "            <div class=\"jp-RenderedHTMLCommon jp-RenderedHTML jp-mod-trusted jp-OutputArea-output\">\n",
       "    <div style=\"width: 24px; height: 24px; background-color: #e1e1e1; border: 3px solid #9D9D9D; border-radius: 5px; position: absolute;\">\n",
       "    </div>\n",
       "    <div style=\"margin-left: 48px;\">\n",
       "        <h3 style=\"margin-bottom: 0px; margin-top: 0px;\">LocalCluster</h3>\n",
       "        <p style=\"color: #9D9D9D; margin-bottom: 0px;\">bf7ab31b</p>\n",
       "        <table style=\"width: 100%; text-align: left;\">\n",
       "            <tr>\n",
       "                <td style=\"text-align: left;\">\n",
       "                    <strong>Dashboard:</strong> <a href=\"/proxy/39689/status\" target=\"_blank\">/proxy/39689/status</a>\n",
       "                </td>\n",
       "                <td style=\"text-align: left;\">\n",
       "                    <strong>Workers:</strong> 4\n",
       "                </td>\n",
       "            </tr>\n",
       "            <tr>\n",
       "                <td style=\"text-align: left;\">\n",
       "                    <strong>Total threads:</strong> 16\n",
       "                </td>\n",
       "                <td style=\"text-align: left;\">\n",
       "                    <strong>Total memory:</strong> 44.92 GiB\n",
       "                </td>\n",
       "            </tr>\n",
       "            \n",
       "            <tr>\n",
       "    <td style=\"text-align: left;\"><strong>Status:</strong> running</td>\n",
       "    <td style=\"text-align: left;\"><strong>Using processes:</strong> True</td>\n",
       "</tr>\n",
       "\n",
       "            \n",
       "        </table>\n",
       "\n",
       "        <details>\n",
       "            <summary style=\"margin-bottom: 20px;\">\n",
       "                <h3 style=\"display: inline;\">Scheduler Info</h3>\n",
       "            </summary>\n",
       "\n",
       "            <div style=\"\">\n",
       "    <div>\n",
       "        <div style=\"width: 24px; height: 24px; background-color: #FFF7E5; border: 3px solid #FF6132; border-radius: 5px; position: absolute;\"> </div>\n",
       "        <div style=\"margin-left: 48px;\">\n",
       "            <h3 style=\"margin-bottom: 0px;\">Scheduler</h3>\n",
       "            <p style=\"color: #9D9D9D; margin-bottom: 0px;\">Scheduler-fd6beb79-143c-452e-a367-cb6e2627449e</p>\n",
       "            <table style=\"width: 100%; text-align: left;\">\n",
       "                <tr>\n",
       "                    <td style=\"text-align: left;\">\n",
       "                        <strong>Comm:</strong> tcp://127.0.0.1:43005\n",
       "                    </td>\n",
       "                    <td style=\"text-align: left;\">\n",
       "                        <strong>Workers:</strong> 4\n",
       "                    </td>\n",
       "                </tr>\n",
       "                <tr>\n",
       "                    <td style=\"text-align: left;\">\n",
       "                        <strong>Dashboard:</strong> <a href=\"/proxy/39689/status\" target=\"_blank\">/proxy/39689/status</a>\n",
       "                    </td>\n",
       "                    <td style=\"text-align: left;\">\n",
       "                        <strong>Total threads:</strong> 16\n",
       "                    </td>\n",
       "                </tr>\n",
       "                <tr>\n",
       "                    <td style=\"text-align: left;\">\n",
       "                        <strong>Started:</strong> Just now\n",
       "                    </td>\n",
       "                    <td style=\"text-align: left;\">\n",
       "                        <strong>Total memory:</strong> 44.92 GiB\n",
       "                    </td>\n",
       "                </tr>\n",
       "            </table>\n",
       "        </div>\n",
       "    </div>\n",
       "\n",
       "    <details style=\"margin-left: 48px;\">\n",
       "        <summary style=\"margin-bottom: 20px;\">\n",
       "            <h3 style=\"display: inline;\">Workers</h3>\n",
       "        </summary>\n",
       "\n",
       "        \n",
       "        <div style=\"margin-bottom: 20px;\">\n",
       "            <div style=\"width: 24px; height: 24px; background-color: #DBF5FF; border: 3px solid #4CC9FF; border-radius: 5px; position: absolute;\"> </div>\n",
       "            <div style=\"margin-left: 48px;\">\n",
       "            <details>\n",
       "                <summary>\n",
       "                    <h4 style=\"margin-bottom: 0px; display: inline;\">Worker: 0</h4>\n",
       "                </summary>\n",
       "                <table style=\"width: 100%; text-align: left;\">\n",
       "                    <tr>\n",
       "                        <td style=\"text-align: left;\">\n",
       "                            <strong>Comm: </strong> tcp://127.0.0.1:42815\n",
       "                        </td>\n",
       "                        <td style=\"text-align: left;\">\n",
       "                            <strong>Total threads: </strong> 4\n",
       "                        </td>\n",
       "                    </tr>\n",
       "                    <tr>\n",
       "                        <td style=\"text-align: left;\">\n",
       "                            <strong>Dashboard: </strong> <a href=\"/proxy/36527/status\" target=\"_blank\">/proxy/36527/status</a>\n",
       "                        </td>\n",
       "                        <td style=\"text-align: left;\">\n",
       "                            <strong>Memory: </strong> 11.23 GiB\n",
       "                        </td>\n",
       "                    </tr>\n",
       "                    <tr>\n",
       "                        <td style=\"text-align: left;\">\n",
       "                            <strong>Nanny: </strong> tcp://127.0.0.1:37853\n",
       "                        </td>\n",
       "                        <td style=\"text-align: left;\"></td>\n",
       "                    </tr>\n",
       "                    <tr>\n",
       "                        <td colspan=\"2\" style=\"text-align: left;\">\n",
       "                            <strong>Local directory: </strong> /local/g40/cy8964/tmp/dask-worker-space/worker-p3f92ug8\n",
       "                        </td>\n",
       "                    </tr>\n",
       "\n",
       "                    \n",
       "\n",
       "                    \n",
       "\n",
       "                </table>\n",
       "            </details>\n",
       "            </div>\n",
       "        </div>\n",
       "        \n",
       "        <div style=\"margin-bottom: 20px;\">\n",
       "            <div style=\"width: 24px; height: 24px; background-color: #DBF5FF; border: 3px solid #4CC9FF; border-radius: 5px; position: absolute;\"> </div>\n",
       "            <div style=\"margin-left: 48px;\">\n",
       "            <details>\n",
       "                <summary>\n",
       "                    <h4 style=\"margin-bottom: 0px; display: inline;\">Worker: 1</h4>\n",
       "                </summary>\n",
       "                <table style=\"width: 100%; text-align: left;\">\n",
       "                    <tr>\n",
       "                        <td style=\"text-align: left;\">\n",
       "                            <strong>Comm: </strong> tcp://127.0.0.1:37685\n",
       "                        </td>\n",
       "                        <td style=\"text-align: left;\">\n",
       "                            <strong>Total threads: </strong> 4\n",
       "                        </td>\n",
       "                    </tr>\n",
       "                    <tr>\n",
       "                        <td style=\"text-align: left;\">\n",
       "                            <strong>Dashboard: </strong> <a href=\"/proxy/45073/status\" target=\"_blank\">/proxy/45073/status</a>\n",
       "                        </td>\n",
       "                        <td style=\"text-align: left;\">\n",
       "                            <strong>Memory: </strong> 11.23 GiB\n",
       "                        </td>\n",
       "                    </tr>\n",
       "                    <tr>\n",
       "                        <td style=\"text-align: left;\">\n",
       "                            <strong>Nanny: </strong> tcp://127.0.0.1:42315\n",
       "                        </td>\n",
       "                        <td style=\"text-align: left;\"></td>\n",
       "                    </tr>\n",
       "                    <tr>\n",
       "                        <td colspan=\"2\" style=\"text-align: left;\">\n",
       "                            <strong>Local directory: </strong> /local/g40/cy8964/tmp/dask-worker-space/worker-rzphvx88\n",
       "                        </td>\n",
       "                    </tr>\n",
       "\n",
       "                    \n",
       "\n",
       "                    \n",
       "\n",
       "                </table>\n",
       "            </details>\n",
       "            </div>\n",
       "        </div>\n",
       "        \n",
       "        <div style=\"margin-bottom: 20px;\">\n",
       "            <div style=\"width: 24px; height: 24px; background-color: #DBF5FF; border: 3px solid #4CC9FF; border-radius: 5px; position: absolute;\"> </div>\n",
       "            <div style=\"margin-left: 48px;\">\n",
       "            <details>\n",
       "                <summary>\n",
       "                    <h4 style=\"margin-bottom: 0px; display: inline;\">Worker: 2</h4>\n",
       "                </summary>\n",
       "                <table style=\"width: 100%; text-align: left;\">\n",
       "                    <tr>\n",
       "                        <td style=\"text-align: left;\">\n",
       "                            <strong>Comm: </strong> tcp://127.0.0.1:43307\n",
       "                        </td>\n",
       "                        <td style=\"text-align: left;\">\n",
       "                            <strong>Total threads: </strong> 4\n",
       "                        </td>\n",
       "                    </tr>\n",
       "                    <tr>\n",
       "                        <td style=\"text-align: left;\">\n",
       "                            <strong>Dashboard: </strong> <a href=\"/proxy/35871/status\" target=\"_blank\">/proxy/35871/status</a>\n",
       "                        </td>\n",
       "                        <td style=\"text-align: left;\">\n",
       "                            <strong>Memory: </strong> 11.23 GiB\n",
       "                        </td>\n",
       "                    </tr>\n",
       "                    <tr>\n",
       "                        <td style=\"text-align: left;\">\n",
       "                            <strong>Nanny: </strong> tcp://127.0.0.1:38785\n",
       "                        </td>\n",
       "                        <td style=\"text-align: left;\"></td>\n",
       "                    </tr>\n",
       "                    <tr>\n",
       "                        <td colspan=\"2\" style=\"text-align: left;\">\n",
       "                            <strong>Local directory: </strong> /local/g40/cy8964/tmp/dask-worker-space/worker-b4rsf5fm\n",
       "                        </td>\n",
       "                    </tr>\n",
       "\n",
       "                    \n",
       "\n",
       "                    \n",
       "\n",
       "                </table>\n",
       "            </details>\n",
       "            </div>\n",
       "        </div>\n",
       "        \n",
       "        <div style=\"margin-bottom: 20px;\">\n",
       "            <div style=\"width: 24px; height: 24px; background-color: #DBF5FF; border: 3px solid #4CC9FF; border-radius: 5px; position: absolute;\"> </div>\n",
       "            <div style=\"margin-left: 48px;\">\n",
       "            <details>\n",
       "                <summary>\n",
       "                    <h4 style=\"margin-bottom: 0px; display: inline;\">Worker: 3</h4>\n",
       "                </summary>\n",
       "                <table style=\"width: 100%; text-align: left;\">\n",
       "                    <tr>\n",
       "                        <td style=\"text-align: left;\">\n",
       "                            <strong>Comm: </strong> tcp://127.0.0.1:40781\n",
       "                        </td>\n",
       "                        <td style=\"text-align: left;\">\n",
       "                            <strong>Total threads: </strong> 4\n",
       "                        </td>\n",
       "                    </tr>\n",
       "                    <tr>\n",
       "                        <td style=\"text-align: left;\">\n",
       "                            <strong>Dashboard: </strong> <a href=\"/proxy/40831/status\" target=\"_blank\">/proxy/40831/status</a>\n",
       "                        </td>\n",
       "                        <td style=\"text-align: left;\">\n",
       "                            <strong>Memory: </strong> 11.23 GiB\n",
       "                        </td>\n",
       "                    </tr>\n",
       "                    <tr>\n",
       "                        <td style=\"text-align: left;\">\n",
       "                            <strong>Nanny: </strong> tcp://127.0.0.1:39639\n",
       "                        </td>\n",
       "                        <td style=\"text-align: left;\"></td>\n",
       "                    </tr>\n",
       "                    <tr>\n",
       "                        <td colspan=\"2\" style=\"text-align: left;\">\n",
       "                            <strong>Local directory: </strong> /local/g40/cy8964/tmp/dask-worker-space/worker-0p20s556\n",
       "                        </td>\n",
       "                    </tr>\n",
       "\n",
       "                    \n",
       "\n",
       "                    \n",
       "\n",
       "                </table>\n",
       "            </details>\n",
       "            </div>\n",
       "        </div>\n",
       "        \n",
       "\n",
       "    </details>\n",
       "</div>\n",
       "\n",
       "        </details>\n",
       "    </div>\n",
       "</div>\n",
       "            </details>\n",
       "        \n",
       "\n",
       "    </div>\n",
       "</div>"
      ],
      "text/plain": [
       "<Client: 'tcp://127.0.0.1:43005' processes=4 threads=16, memory=44.92 GiB>"
      ]
     },
     "execution_count": 2,
     "metadata": {},
     "output_type": "execute_result"
    }
   ],
   "source": [
    "client = Client()\n",
    "client"
   ]
  },
  {
   "cell_type": "code",
   "execution_count": 3,
   "id": "76feaa74-52a1-4f27-9f1b-557a321de297",
   "metadata": {},
   "outputs": [],
   "source": [
    "session = cc.database.create_session('/g/data/ik11/databases/cosima_master.db')\n",
    "expt = '01deg_jra55v13_ryf9091'\n",
    "\n",
    "# reference density value:\n",
    "rho_0 = 1035.0\n",
    "g = 9.81\n",
    "\n",
    "# reduce computation by choosing only Southern Ocean latitudes\n",
    "lat_range = slice(-70,-34.99)"
   ]
  },
  {
   "cell_type": "markdown",
   "id": "74e94e0c-00d9-4552-bb2b-74a7a538a700",
   "metadata": {},
   "source": [
    "### Step 1: Load density and quantity being binned \n",
    "(you can choose any other quantity instead of `ty_trans`, e.g. `dzt`, but if it is not on t-grid then interpolate it to t-grid)"
   ]
  },
  {
   "cell_type": "markdown",
   "id": "737f0c83-72ae-4f83-a83c-9ca88c89823a",
   "metadata": {},
   "source": [
    "#### We will load one year of monthly `ty_trans`, `ty_trans_rho` and `pot_rho_2`\n",
    "\n",
    "Then take weighted time average"
   ]
  },
  {
   "cell_type": "code",
   "execution_count": 4,
   "id": "bebe18ab-8929-4e8b-985c-551be4f02ea8",
   "metadata": {},
   "outputs": [],
   "source": [
    "start_time = '2170-01-01'\n",
    "end_time = '2170-12-31'\n",
    "time_slice = slice(start_time, end_time)"
   ]
  },
  {
   "cell_type": "code",
   "execution_count": 5,
   "id": "99345a56-cc65-44da-8721-aea5467a74ca",
   "metadata": {},
   "outputs": [
    {
     "name": "stdout",
     "output_type": "stream",
     "text": [
      "CPU times: user 2.35 s, sys: 952 ms, total: 3.3 s\n",
      "Wall time: 11.8 s\n"
     ]
    }
   ],
   "source": [
    "%%time\n",
    "ty_trans = cc.querying.getvar(expt,'ty_trans', session, start_time = start_time, end_time = end_time)\n",
    "ty_trans = ty_trans.sel(time = time_slice).sel(yu_ocean = lat_range)\n",
    "# weighed time mean by month length\n",
    "month_length = ty_trans.time.dt.days_in_month\n",
    "ty_trans = (ty_trans*month_length).sum('time')/365\n"
   ]
  },
  {
   "cell_type": "code",
   "execution_count": 6,
   "id": "4b5de409-b4d4-4067-a7ab-3f465a0efe1d",
   "metadata": {},
   "outputs": [
    {
     "name": "stdout",
     "output_type": "stream",
     "text": [
      "CPU times: user 409 ms, sys: 142 ms, total: 550 ms\n",
      "Wall time: 1.58 s\n"
     ]
    }
   ],
   "source": [
    "%%time\n",
    "pot_rho_2 = cc.querying.getvar(expt,'pot_rho_2', session, start_time = start_time, end_time = end_time)\n",
    "pot_rho_2 = pot_rho_2.sel(time = time_slice).sel(yt_ocean = lat_range)\n",
    "pot_rho_2 = (pot_rho_2*month_length).sum('time')/365\n"
   ]
  },
  {
   "cell_type": "code",
   "execution_count": 7,
   "id": "9d40759b-a5de-4827-bfda-490704bc93e0",
   "metadata": {},
   "outputs": [
    {
     "name": "stdout",
     "output_type": "stream",
     "text": [
      "CPU times: user 566 ms, sys: 126 ms, total: 692 ms\n",
      "Wall time: 1.32 s\n"
     ]
    }
   ],
   "source": [
    "%%time\n",
    "ty_trans_rho = cc.querying.getvar(expt,'ty_trans_rho', session, start_time = start_time, end_time = end_time)\n",
    "ty_trans_rho = ty_trans_rho.sel(time = time_slice).sel(grid_yu_ocean = lat_range)\n",
    "ty_trans_rho = (ty_trans_rho*month_length).sum('time')/365\n"
   ]
  },
  {
   "cell_type": "code",
   "execution_count": 8,
   "id": "eb10c7cd-02e8-4bb5-952e-a4e081606a78",
   "metadata": {},
   "outputs": [],
   "source": [
    "# interpolate ty_trans to t grid (where density is)\n",
    "ty_trans = ty_trans.interp({'yu_ocean':pot_rho_2.yt_ocean})"
   ]
  },
  {
   "cell_type": "markdown",
   "id": "eaaafc08-1df8-4e26-9663-624b5fb8cf65",
   "metadata": {},
   "source": [
    "# Method 1: `xgcm`\n",
    "\n",
    "Use `xgcm` conservative binning, described in the tutorial available at: https://xgcm.readthedocs.io/en/latest/transform.html\n",
    "\n",
    "The computation is robust to different selections of density bins, but currently has issues with partial cells in MOM5. We thus add a correction after the computation to account for partial cells."
   ]
  },
  {
   "cell_type": "markdown",
   "id": "9e46418e-89b7-449f-bab7-1f259239a55d",
   "metadata": {},
   "source": [
    "### Load vertical grid bin centres and edges"
   ]
  },
  {
   "cell_type": "code",
   "execution_count": 9,
   "id": "964e2221-c7fa-43ec-aea7-8030eb4c9a6c",
   "metadata": {},
   "outputs": [
    {
     "name": "stdout",
     "output_type": "stream",
     "text": [
      "CPU times: user 2.48 s, sys: 742 ms, total: 3.22 s\n",
      "Wall time: 7.46 s\n"
     ]
    }
   ],
   "source": [
    "%%time\n",
    "\n",
    "st_ocean = cc.querying.getvar(expt,'st_ocean',session,n=1)\n",
    "st_edges_ocean = cc.querying.getvar(expt,'st_edges_ocean',session,n=1)"
   ]
  },
  {
   "cell_type": "markdown",
   "id": "58336fe8-d59d-4489-903a-af25ad35024a",
   "metadata": {},
   "source": [
    "### define *EDGE* of target density bins\n",
    "\n",
    "Output will be an array with coordinate density the linear centre of these bins. If we choose potrho_edges, the end result will have coordinates potrho, which is the same as online binned ty_trans_rho."
   ]
  },
  {
   "cell_type": "code",
   "execution_count": 10,
   "id": "874a9140-cbe8-49e4-a7b5-8a06aaf4b3c4",
   "metadata": {},
   "outputs": [],
   "source": [
    "pot_rho_2_target = cc.querying.getvar(expt,'potrho_edges', session, start_time = start_time, end_time = end_time, n=1,frequency = '1 monthly' ).values\n"
   ]
  },
  {
   "cell_type": "markdown",
   "id": "b22f0ca3-def1-4dbe-824e-b8f18cbb92a1",
   "metadata": {},
   "source": [
    "### and get rid of NaNs"
   ]
  },
  {
   "cell_type": "code",
   "execution_count": 11,
   "id": "cfdec74f-6a2c-48fe-891a-2e0344d0f723",
   "metadata": {},
   "outputs": [],
   "source": [
    "ty_trans = ty_trans.fillna(0)\n",
    "pot_rho_2 = pot_rho_2.fillna(0)"
   ]
  },
  {
   "cell_type": "markdown",
   "id": "1aedb44d-c465-46c9-a57b-df10e41d7d75",
   "metadata": {},
   "source": [
    "### load first to reduce computation time"
   ]
  },
  {
   "cell_type": "code",
   "execution_count": 12,
   "id": "08f5f657-0ccd-4e5e-9e75-57cee24e23fc",
   "metadata": {},
   "outputs": [
    {
     "name": "stdout",
     "output_type": "stream",
     "text": [
      "CPU times: user 1min 2s, sys: 12.2 s, total: 1min 14s\n",
      "Wall time: 1min 50s\n"
     ]
    }
   ],
   "source": [
    "%%time\n",
    "pot_rho_2 = pot_rho_2.load()\n",
    "ty_trans = ty_trans.load()"
   ]
  },
  {
   "cell_type": "markdown",
   "id": "93d9620f-60be-482a-932a-ebaf72524cce",
   "metadata": {},
   "source": [
    "### calculate vertical regridding into density coordinates"
   ]
  },
  {
   "cell_type": "code",
   "execution_count": 13,
   "id": "bac76fee-60cf-447e-8ffc-7aa443680285",
   "metadata": {},
   "outputs": [
    {
     "name": "stdout",
     "output_type": "stream",
     "text": [
      "CPU times: user 601 ms, sys: 10.2 ms, total: 612 ms\n",
      "Wall time: 580 ms\n"
     ]
    }
   ],
   "source": [
    "%%time\n",
    "\n",
    "ds = xr.Dataset({'ty_trans':ty_trans,'pot_rho_2':pot_rho_2}) \n",
    "#Note if not using ty_trans, quantity must be extensive e.g.vhrho_nt, uhrho_et, tx_trans (counterexample: v, salt). \n",
    "#If not extensive, multiply by dzt or dzu.\n",
    "ds = ds.assign_coords({'st_edges_ocean':st_edges_ocean})\n",
    "ds = ds.chunk({'st_edges_ocean':76,'st_ocean':75}) #xgcm doesn't like it if there is more than 1 chunk in this axis\n",
    "grid = xgcm.Grid(ds, coords={'Z':{'center':'st_ocean','outer':'st_edges_ocean'}},periodic = False)\n",
    "ds['pot_rho_2_outer'] = grid.interp(ds.pot_rho_2, 'Z', boundary='extend')\n",
    "ds['pot_rho_2_outer'] = ds['pot_rho_2_outer'].chunk({'st_edges_ocean':76})\n",
    "\n",
    "ty_trans_transformed_cons = grid.transform(ds.ty_trans,\n",
    "                                  'Z',\n",
    "                                  pot_rho_2_target,\n",
    "                                  method='conservative',\n",
    "                                  target_data=ds.pot_rho_2_outer)\n",
    "### change name to fit previous bins because default xgcm naming is different\n",
    "#pot_rho_2_outer is actually the CENTRE of bins (I guess the convention was defined for linear interpolation not conservative)\n",
    "ty_trans_transformed_cons = ty_trans_transformed_cons.rename({'pot_rho_2_outer':'potrho'})\n",
    "\n"
   ]
  },
  {
   "cell_type": "code",
   "execution_count": 14,
   "id": "b1719dda-a93c-481e-b75d-a481ec7bafd0",
   "metadata": {},
   "outputs": [
    {
     "name": "stderr",
     "output_type": "stream",
     "text": [
      "distributed.worker - WARNING - Unmanaged memory use is high. This may indicate a memory leak or the memory may not be released to the OS; see https://distributed.dask.org/en/latest/worker.html#memtrim for more information. -- Unmanaged memory: 8.56 GiB -- Worker memory limit: 11.23 GiB\n",
      "distributed.worker - WARNING - Unmanaged memory use is high. This may indicate a memory leak or the memory may not be released to the OS; see https://distributed.dask.org/en/latest/worker.html#memtrim for more information. -- Unmanaged memory: 8.56 GiB -- Worker memory limit: 11.23 GiB\n",
      "distributed.worker - WARNING - Unmanaged memory use is high. This may indicate a memory leak or the memory may not be released to the OS; see https://distributed.dask.org/en/latest/worker.html#memtrim for more information. -- Unmanaged memory: 8.56 GiB -- Worker memory limit: 11.23 GiB\n",
      "distributed.worker - WARNING - Unmanaged memory use is high. This may indicate a memory leak or the memory may not be released to the OS; see https://distributed.dask.org/en/latest/worker.html#memtrim for more information. -- Unmanaged memory: 8.56 GiB -- Worker memory limit: 11.23 GiB\n",
      "distributed.worker - WARNING - Unmanaged memory use is high. This may indicate a memory leak or the memory may not be released to the OS; see https://distributed.dask.org/en/latest/worker.html#memtrim for more information. -- Unmanaged memory: 8.57 GiB -- Worker memory limit: 11.23 GiB\n",
      "distributed.worker - WARNING - Unmanaged memory use is high. This may indicate a memory leak or the memory may not be released to the OS; see https://distributed.dask.org/en/latest/worker.html#memtrim for more information. -- Unmanaged memory: 8.58 GiB -- Worker memory limit: 11.23 GiB\n",
      "distributed.worker - WARNING - Unmanaged memory use is high. This may indicate a memory leak or the memory may not be released to the OS; see https://distributed.dask.org/en/latest/worker.html#memtrim for more information. -- Unmanaged memory: 8.59 GiB -- Worker memory limit: 11.23 GiB\n",
      "distributed.worker - WARNING - Unmanaged memory use is high. This may indicate a memory leak or the memory may not be released to the OS; see https://distributed.dask.org/en/latest/worker.html#memtrim for more information. -- Unmanaged memory: 8.60 GiB -- Worker memory limit: 11.23 GiB\n",
      "distributed.worker - WARNING - Unmanaged memory use is high. This may indicate a memory leak or the memory may not be released to the OS; see https://distributed.dask.org/en/latest/worker.html#memtrim for more information. -- Unmanaged memory: 8.61 GiB -- Worker memory limit: 11.23 GiB\n",
      "distributed.worker - WARNING - Unmanaged memory use is high. This may indicate a memory leak or the memory may not be released to the OS; see https://distributed.dask.org/en/latest/worker.html#memtrim for more information. -- Unmanaged memory: 8.62 GiB -- Worker memory limit: 11.23 GiB\n",
      "distributed.worker - WARNING - Unmanaged memory use is high. This may indicate a memory leak or the memory may not be released to the OS; see https://distributed.dask.org/en/latest/worker.html#memtrim for more information. -- Unmanaged memory: 8.62 GiB -- Worker memory limit: 11.23 GiB\n",
      "distributed.worker - WARNING - Unmanaged memory use is high. This may indicate a memory leak or the memory may not be released to the OS; see https://distributed.dask.org/en/latest/worker.html#memtrim for more information. -- Unmanaged memory: 8.63 GiB -- Worker memory limit: 11.23 GiB\n",
      "distributed.worker - WARNING - Unmanaged memory use is high. This may indicate a memory leak or the memory may not be released to the OS; see https://distributed.dask.org/en/latest/worker.html#memtrim for more information. -- Unmanaged memory: 8.64 GiB -- Worker memory limit: 11.23 GiB\n",
      "distributed.worker - WARNING - Unmanaged memory use is high. This may indicate a memory leak or the memory may not be released to the OS; see https://distributed.dask.org/en/latest/worker.html#memtrim for more information. -- Unmanaged memory: 8.64 GiB -- Worker memory limit: 11.23 GiB\n",
      "distributed.worker - WARNING - Unmanaged memory use is high. This may indicate a memory leak or the memory may not be released to the OS; see https://distributed.dask.org/en/latest/worker.html#memtrim for more information. -- Unmanaged memory: 8.65 GiB -- Worker memory limit: 11.23 GiB\n",
      "distributed.worker - WARNING - Unmanaged memory use is high. This may indicate a memory leak or the memory may not be released to the OS; see https://distributed.dask.org/en/latest/worker.html#memtrim for more information. -- Unmanaged memory: 8.66 GiB -- Worker memory limit: 11.23 GiB\n",
      "distributed.worker - WARNING - Unmanaged memory use is high. This may indicate a memory leak or the memory may not be released to the OS; see https://distributed.dask.org/en/latest/worker.html#memtrim for more information. -- Unmanaged memory: 8.66 GiB -- Worker memory limit: 11.23 GiB\n",
      "distributed.worker - WARNING - Unmanaged memory use is high. This may indicate a memory leak or the memory may not be released to the OS; see https://distributed.dask.org/en/latest/worker.html#memtrim for more information. -- Unmanaged memory: 8.67 GiB -- Worker memory limit: 11.23 GiB\n",
      "distributed.worker - WARNING - Unmanaged memory use is high. This may indicate a memory leak or the memory may not be released to the OS; see https://distributed.dask.org/en/latest/worker.html#memtrim for more information. -- Unmanaged memory: 8.68 GiB -- Worker memory limit: 11.23 GiB\n",
      "distributed.worker - WARNING - Unmanaged memory use is high. This may indicate a memory leak or the memory may not be released to the OS; see https://distributed.dask.org/en/latest/worker.html#memtrim for more information. -- Unmanaged memory: 8.68 GiB -- Worker memory limit: 11.23 GiB\n",
      "distributed.worker - WARNING - Unmanaged memory use is high. This may indicate a memory leak or the memory may not be released to the OS; see https://distributed.dask.org/en/latest/worker.html#memtrim for more information. -- Unmanaged memory: 8.69 GiB -- Worker memory limit: 11.23 GiB\n",
      "distributed.worker - WARNING - Unmanaged memory use is high. This may indicate a memory leak or the memory may not be released to the OS; see https://distributed.dask.org/en/latest/worker.html#memtrim for more information. -- Unmanaged memory: 8.70 GiB -- Worker memory limit: 11.23 GiB\n",
      "distributed.worker - WARNING - Unmanaged memory use is high. This may indicate a memory leak or the memory may not be released to the OS; see https://distributed.dask.org/en/latest/worker.html#memtrim for more information. -- Unmanaged memory: 8.70 GiB -- Worker memory limit: 11.23 GiB\n",
      "distributed.worker - WARNING - Unmanaged memory use is high. This may indicate a memory leak or the memory may not be released to the OS; see https://distributed.dask.org/en/latest/worker.html#memtrim for more information. -- Unmanaged memory: 8.71 GiB -- Worker memory limit: 11.23 GiB\n",
      "distributed.worker - WARNING - Unmanaged memory use is high. This may indicate a memory leak or the memory may not be released to the OS; see https://distributed.dask.org/en/latest/worker.html#memtrim for more information. -- Unmanaged memory: 8.72 GiB -- Worker memory limit: 11.23 GiB\n",
      "distributed.worker - WARNING - Unmanaged memory use is high. This may indicate a memory leak or the memory may not be released to the OS; see https://distributed.dask.org/en/latest/worker.html#memtrim for more information. -- Unmanaged memory: 8.72 GiB -- Worker memory limit: 11.23 GiB\n",
      "distributed.worker - WARNING - Unmanaged memory use is high. This may indicate a memory leak or the memory may not be released to the OS; see https://distributed.dask.org/en/latest/worker.html#memtrim for more information. -- Unmanaged memory: 8.73 GiB -- Worker memory limit: 11.23 GiB\n",
      "distributed.worker - WARNING - Unmanaged memory use is high. This may indicate a memory leak or the memory may not be released to the OS; see https://distributed.dask.org/en/latest/worker.html#memtrim for more information. -- Unmanaged memory: 8.74 GiB -- Worker memory limit: 11.23 GiB\n",
      "distributed.worker - WARNING - Unmanaged memory use is high. This may indicate a memory leak or the memory may not be released to the OS; see https://distributed.dask.org/en/latest/worker.html#memtrim for more information. -- Unmanaged memory: 8.74 GiB -- Worker memory limit: 11.23 GiB\n",
      "distributed.worker - WARNING - Unmanaged memory use is high. This may indicate a memory leak or the memory may not be released to the OS; see https://distributed.dask.org/en/latest/worker.html#memtrim for more information. -- Unmanaged memory: 8.75 GiB -- Worker memory limit: 11.23 GiB\n",
      "distributed.worker - WARNING - Unmanaged memory use is high. This may indicate a memory leak or the memory may not be released to the OS; see https://distributed.dask.org/en/latest/worker.html#memtrim for more information. -- Unmanaged memory: 8.76 GiB -- Worker memory limit: 11.23 GiB\n",
      "distributed.worker - WARNING - Unmanaged memory use is high. This may indicate a memory leak or the memory may not be released to the OS; see https://distributed.dask.org/en/latest/worker.html#memtrim for more information. -- Unmanaged memory: 8.76 GiB -- Worker memory limit: 11.23 GiB\n",
      "distributed.worker - WARNING - Unmanaged memory use is high. This may indicate a memory leak or the memory may not be released to the OS; see https://distributed.dask.org/en/latest/worker.html#memtrim for more information. -- Unmanaged memory: 8.77 GiB -- Worker memory limit: 11.23 GiB\n",
      "distributed.worker - WARNING - Unmanaged memory use is high. This may indicate a memory leak or the memory may not be released to the OS; see https://distributed.dask.org/en/latest/worker.html#memtrim for more information. -- Unmanaged memory: 8.78 GiB -- Worker memory limit: 11.23 GiB\n",
      "distributed.worker - WARNING - Unmanaged memory use is high. This may indicate a memory leak or the memory may not be released to the OS; see https://distributed.dask.org/en/latest/worker.html#memtrim for more information. -- Unmanaged memory: 8.78 GiB -- Worker memory limit: 11.23 GiB\n",
      "distributed.worker - WARNING - Unmanaged memory use is high. This may indicate a memory leak or the memory may not be released to the OS; see https://distributed.dask.org/en/latest/worker.html#memtrim for more information. -- Unmanaged memory: 8.79 GiB -- Worker memory limit: 11.23 GiB\n",
      "distributed.worker - WARNING - Unmanaged memory use is high. This may indicate a memory leak or the memory may not be released to the OS; see https://distributed.dask.org/en/latest/worker.html#memtrim for more information. -- Unmanaged memory: 8.79 GiB -- Worker memory limit: 11.23 GiB\n",
      "distributed.worker - WARNING - Unmanaged memory use is high. This may indicate a memory leak or the memory may not be released to the OS; see https://distributed.dask.org/en/latest/worker.html#memtrim for more information. -- Unmanaged memory: 8.80 GiB -- Worker memory limit: 11.23 GiB\n",
      "distributed.worker - WARNING - Unmanaged memory use is high. This may indicate a memory leak or the memory may not be released to the OS; see https://distributed.dask.org/en/latest/worker.html#memtrim for more information. -- Unmanaged memory: 8.81 GiB -- Worker memory limit: 11.23 GiB\n",
      "distributed.worker - WARNING - Unmanaged memory use is high. This may indicate a memory leak or the memory may not be released to the OS; see https://distributed.dask.org/en/latest/worker.html#memtrim for more information. -- Unmanaged memory: 8.82 GiB -- Worker memory limit: 11.23 GiB\n",
      "distributed.worker - WARNING - Unmanaged memory use is high. This may indicate a memory leak or the memory may not be released to the OS; see https://distributed.dask.org/en/latest/worker.html#memtrim for more information. -- Unmanaged memory: 8.82 GiB -- Worker memory limit: 11.23 GiB\n",
      "distributed.worker - WARNING - Unmanaged memory use is high. This may indicate a memory leak or the memory may not be released to the OS; see https://distributed.dask.org/en/latest/worker.html#memtrim for more information. -- Unmanaged memory: 8.83 GiB -- Worker memory limit: 11.23 GiB\n",
      "distributed.worker - WARNING - Unmanaged memory use is high. This may indicate a memory leak or the memory may not be released to the OS; see https://distributed.dask.org/en/latest/worker.html#memtrim for more information. -- Unmanaged memory: 8.84 GiB -- Worker memory limit: 11.23 GiB\n",
      "distributed.worker - WARNING - Unmanaged memory use is high. This may indicate a memory leak or the memory may not be released to the OS; see https://distributed.dask.org/en/latest/worker.html#memtrim for more information. -- Unmanaged memory: 8.84 GiB -- Worker memory limit: 11.23 GiB\n",
      "distributed.worker - WARNING - Unmanaged memory use is high. This may indicate a memory leak or the memory may not be released to the OS; see https://distributed.dask.org/en/latest/worker.html#memtrim for more information. -- Unmanaged memory: 8.85 GiB -- Worker memory limit: 11.23 GiB\n",
      "distributed.worker - WARNING - Unmanaged memory use is high. This may indicate a memory leak or the memory may not be released to the OS; see https://distributed.dask.org/en/latest/worker.html#memtrim for more information. -- Unmanaged memory: 8.86 GiB -- Worker memory limit: 11.23 GiB\n",
      "distributed.worker - WARNING - Unmanaged memory use is high. This may indicate a memory leak or the memory may not be released to the OS; see https://distributed.dask.org/en/latest/worker.html#memtrim for more information. -- Unmanaged memory: 8.87 GiB -- Worker memory limit: 11.23 GiB\n",
      "distributed.worker - WARNING - Unmanaged memory use is high. This may indicate a memory leak or the memory may not be released to the OS; see https://distributed.dask.org/en/latest/worker.html#memtrim for more information. -- Unmanaged memory: 8.87 GiB -- Worker memory limit: 11.23 GiB\n",
      "distributed.worker - WARNING - Unmanaged memory use is high. This may indicate a memory leak or the memory may not be released to the OS; see https://distributed.dask.org/en/latest/worker.html#memtrim for more information. -- Unmanaged memory: 8.88 GiB -- Worker memory limit: 11.23 GiB\n",
      "distributed.worker - WARNING - Unmanaged memory use is high. This may indicate a memory leak or the memory may not be released to the OS; see https://distributed.dask.org/en/latest/worker.html#memtrim for more information. -- Unmanaged memory: 8.88 GiB -- Worker memory limit: 11.23 GiB\n",
      "distributed.worker - WARNING - Unmanaged memory use is high. This may indicate a memory leak or the memory may not be released to the OS; see https://distributed.dask.org/en/latest/worker.html#memtrim for more information. -- Unmanaged memory: 8.89 GiB -- Worker memory limit: 11.23 GiB\n",
      "distributed.worker - WARNING - Unmanaged memory use is high. This may indicate a memory leak or the memory may not be released to the OS; see https://distributed.dask.org/en/latest/worker.html#memtrim for more information. -- Unmanaged memory: 8.90 GiB -- Worker memory limit: 11.23 GiB\n",
      "distributed.worker - WARNING - Unmanaged memory use is high. This may indicate a memory leak or the memory may not be released to the OS; see https://distributed.dask.org/en/latest/worker.html#memtrim for more information. -- Unmanaged memory: 8.91 GiB -- Worker memory limit: 11.23 GiB\n",
      "distributed.worker - WARNING - Unmanaged memory use is high. This may indicate a memory leak or the memory may not be released to the OS; see https://distributed.dask.org/en/latest/worker.html#memtrim for more information. -- Unmanaged memory: 8.91 GiB -- Worker memory limit: 11.23 GiB\n",
      "distributed.worker - WARNING - Unmanaged memory use is high. This may indicate a memory leak or the memory may not be released to the OS; see https://distributed.dask.org/en/latest/worker.html#memtrim for more information. -- Unmanaged memory: 8.92 GiB -- Worker memory limit: 11.23 GiB\n",
      "distributed.worker - WARNING - Unmanaged memory use is high. This may indicate a memory leak or the memory may not be released to the OS; see https://distributed.dask.org/en/latest/worker.html#memtrim for more information. -- Unmanaged memory: 8.93 GiB -- Worker memory limit: 11.23 GiB\n",
      "distributed.worker - WARNING - Unmanaged memory use is high. This may indicate a memory leak or the memory may not be released to the OS; see https://distributed.dask.org/en/latest/worker.html#memtrim for more information. -- Unmanaged memory: 8.94 GiB -- Worker memory limit: 11.23 GiB\n",
      "distributed.worker - WARNING - Unmanaged memory use is high. This may indicate a memory leak or the memory may not be released to the OS; see https://distributed.dask.org/en/latest/worker.html#memtrim for more information. -- Unmanaged memory: 8.94 GiB -- Worker memory limit: 11.23 GiB\n",
      "distributed.worker - WARNING - Unmanaged memory use is high. This may indicate a memory leak or the memory may not be released to the OS; see https://distributed.dask.org/en/latest/worker.html#memtrim for more information. -- Unmanaged memory: 8.95 GiB -- Worker memory limit: 11.23 GiB\n",
      "distributed.worker - WARNING - Unmanaged memory use is high. This may indicate a memory leak or the memory may not be released to the OS; see https://distributed.dask.org/en/latest/worker.html#memtrim for more information. -- Unmanaged memory: 8.95 GiB -- Worker memory limit: 11.23 GiB\n",
      "distributed.worker - WARNING - Unmanaged memory use is high. This may indicate a memory leak or the memory may not be released to the OS; see https://distributed.dask.org/en/latest/worker.html#memtrim for more information. -- Unmanaged memory: 8.96 GiB -- Worker memory limit: 11.23 GiB\n",
      "distributed.worker - WARNING - Unmanaged memory use is high. This may indicate a memory leak or the memory may not be released to the OS; see https://distributed.dask.org/en/latest/worker.html#memtrim for more information. -- Unmanaged memory: 8.97 GiB -- Worker memory limit: 11.23 GiB\n",
      "distributed.worker - WARNING - Unmanaged memory use is high. This may indicate a memory leak or the memory may not be released to the OS; see https://distributed.dask.org/en/latest/worker.html#memtrim for more information. -- Unmanaged memory: 8.98 GiB -- Worker memory limit: 11.23 GiB\n",
      "distributed.worker - WARNING - Unmanaged memory use is high. This may indicate a memory leak or the memory may not be released to the OS; see https://distributed.dask.org/en/latest/worker.html#memtrim for more information. -- Unmanaged memory: 8.98 GiB -- Worker memory limit: 11.23 GiB\n",
      "distributed.worker - WARNING - Worker is at 80% memory usage. Pausing worker.  Process memory: 8.99 GiB -- Worker memory limit: 11.23 GiB\n",
      "distributed.worker - WARNING - Unmanaged memory use is high. This may indicate a memory leak or the memory may not be released to the OS; see https://distributed.dask.org/en/latest/worker.html#memtrim for more information. -- Unmanaged memory: 8.99 GiB -- Worker memory limit: 11.23 GiB\n",
      "distributed.worker - WARNING - Unmanaged memory use is high. This may indicate a memory leak or the memory may not be released to the OS; see https://distributed.dask.org/en/latest/worker.html#memtrim for more information. -- Unmanaged memory: 9.00 GiB -- Worker memory limit: 11.23 GiB\n",
      "distributed.worker - WARNING - Unmanaged memory use is high. This may indicate a memory leak or the memory may not be released to the OS; see https://distributed.dask.org/en/latest/worker.html#memtrim for more information. -- Unmanaged memory: 9.01 GiB -- Worker memory limit: 11.23 GiB\n",
      "distributed.worker - WARNING - Unmanaged memory use is high. This may indicate a memory leak or the memory may not be released to the OS; see https://distributed.dask.org/en/latest/worker.html#memtrim for more information. -- Unmanaged memory: 9.01 GiB -- Worker memory limit: 11.23 GiB\n",
      "distributed.worker - WARNING - Unmanaged memory use is high. This may indicate a memory leak or the memory may not be released to the OS; see https://distributed.dask.org/en/latest/worker.html#memtrim for more information. -- Unmanaged memory: 9.02 GiB -- Worker memory limit: 11.23 GiB\n",
      "distributed.worker - WARNING - Unmanaged memory use is high. This may indicate a memory leak or the memory may not be released to the OS; see https://distributed.dask.org/en/latest/worker.html#memtrim for more information. -- Unmanaged memory: 9.03 GiB -- Worker memory limit: 11.23 GiB\n",
      "distributed.worker - WARNING - Unmanaged memory use is high. This may indicate a memory leak or the memory may not be released to the OS; see https://distributed.dask.org/en/latest/worker.html#memtrim for more information. -- Unmanaged memory: 9.03 GiB -- Worker memory limit: 11.23 GiB\n",
      "distributed.worker - WARNING - Unmanaged memory use is high. This may indicate a memory leak or the memory may not be released to the OS; see https://distributed.dask.org/en/latest/worker.html#memtrim for more information. -- Unmanaged memory: 9.04 GiB -- Worker memory limit: 11.23 GiB\n",
      "distributed.worker - WARNING - Unmanaged memory use is high. This may indicate a memory leak or the memory may not be released to the OS; see https://distributed.dask.org/en/latest/worker.html#memtrim for more information. -- Unmanaged memory: 9.05 GiB -- Worker memory limit: 11.23 GiB\n",
      "distributed.worker - WARNING - Unmanaged memory use is high. This may indicate a memory leak or the memory may not be released to the OS; see https://distributed.dask.org/en/latest/worker.html#memtrim for more information. -- Unmanaged memory: 9.05 GiB -- Worker memory limit: 11.23 GiB\n",
      "distributed.worker - WARNING - Unmanaged memory use is high. This may indicate a memory leak or the memory may not be released to the OS; see https://distributed.dask.org/en/latest/worker.html#memtrim for more information. -- Unmanaged memory: 9.06 GiB -- Worker memory limit: 11.23 GiB\n",
      "distributed.worker - WARNING - Unmanaged memory use is high. This may indicate a memory leak or the memory may not be released to the OS; see https://distributed.dask.org/en/latest/worker.html#memtrim for more information. -- Unmanaged memory: 9.07 GiB -- Worker memory limit: 11.23 GiB\n",
      "distributed.worker - WARNING - Unmanaged memory use is high. This may indicate a memory leak or the memory may not be released to the OS; see https://distributed.dask.org/en/latest/worker.html#memtrim for more information. -- Unmanaged memory: 9.08 GiB -- Worker memory limit: 11.23 GiB\n",
      "distributed.worker - WARNING - Unmanaged memory use is high. This may indicate a memory leak or the memory may not be released to the OS; see https://distributed.dask.org/en/latest/worker.html#memtrim for more information. -- Unmanaged memory: 9.08 GiB -- Worker memory limit: 11.23 GiB\n",
      "distributed.worker - WARNING - Unmanaged memory use is high. This may indicate a memory leak or the memory may not be released to the OS; see https://distributed.dask.org/en/latest/worker.html#memtrim for more information. -- Unmanaged memory: 9.09 GiB -- Worker memory limit: 11.23 GiB\n",
      "distributed.worker - WARNING - Unmanaged memory use is high. This may indicate a memory leak or the memory may not be released to the OS; see https://distributed.dask.org/en/latest/worker.html#memtrim for more information. -- Unmanaged memory: 9.10 GiB -- Worker memory limit: 11.23 GiB\n",
      "distributed.worker - WARNING - Unmanaged memory use is high. This may indicate a memory leak or the memory may not be released to the OS; see https://distributed.dask.org/en/latest/worker.html#memtrim for more information. -- Unmanaged memory: 9.11 GiB -- Worker memory limit: 11.23 GiB\n",
      "distributed.worker - WARNING - Unmanaged memory use is high. This may indicate a memory leak or the memory may not be released to the OS; see https://distributed.dask.org/en/latest/worker.html#memtrim for more information. -- Unmanaged memory: 9.11 GiB -- Worker memory limit: 11.23 GiB\n",
      "distributed.worker - WARNING - Unmanaged memory use is high. This may indicate a memory leak or the memory may not be released to the OS; see https://distributed.dask.org/en/latest/worker.html#memtrim for more information. -- Unmanaged memory: 9.12 GiB -- Worker memory limit: 11.23 GiB\n",
      "distributed.worker - WARNING - Unmanaged memory use is high. This may indicate a memory leak or the memory may not be released to the OS; see https://distributed.dask.org/en/latest/worker.html#memtrim for more information. -- Unmanaged memory: 9.12 GiB -- Worker memory limit: 11.23 GiB\n",
      "distributed.worker - WARNING - Unmanaged memory use is high. This may indicate a memory leak or the memory may not be released to the OS; see https://distributed.dask.org/en/latest/worker.html#memtrim for more information. -- Unmanaged memory: 9.13 GiB -- Worker memory limit: 11.23 GiB\n",
      "distributed.worker - WARNING - Unmanaged memory use is high. This may indicate a memory leak or the memory may not be released to the OS; see https://distributed.dask.org/en/latest/worker.html#memtrim for more information. -- Unmanaged memory: 9.14 GiB -- Worker memory limit: 11.23 GiB\n",
      "distributed.worker - WARNING - Unmanaged memory use is high. This may indicate a memory leak or the memory may not be released to the OS; see https://distributed.dask.org/en/latest/worker.html#memtrim for more information. -- Unmanaged memory: 9.15 GiB -- Worker memory limit: 11.23 GiB\n",
      "distributed.worker - WARNING - Unmanaged memory use is high. This may indicate a memory leak or the memory may not be released to the OS; see https://distributed.dask.org/en/latest/worker.html#memtrim for more information. -- Unmanaged memory: 9.15 GiB -- Worker memory limit: 11.23 GiB\n",
      "distributed.worker - WARNING - Unmanaged memory use is high. This may indicate a memory leak or the memory may not be released to the OS; see https://distributed.dask.org/en/latest/worker.html#memtrim for more information. -- Unmanaged memory: 9.16 GiB -- Worker memory limit: 11.23 GiB\n",
      "distributed.worker - WARNING - Unmanaged memory use is high. This may indicate a memory leak or the memory may not be released to the OS; see https://distributed.dask.org/en/latest/worker.html#memtrim for more information. -- Unmanaged memory: 9.17 GiB -- Worker memory limit: 11.23 GiB\n",
      "distributed.worker - WARNING - Unmanaged memory use is high. This may indicate a memory leak or the memory may not be released to the OS; see https://distributed.dask.org/en/latest/worker.html#memtrim for more information. -- Unmanaged memory: 9.18 GiB -- Worker memory limit: 11.23 GiB\n",
      "distributed.worker - WARNING - Unmanaged memory use is high. This may indicate a memory leak or the memory may not be released to the OS; see https://distributed.dask.org/en/latest/worker.html#memtrim for more information. -- Unmanaged memory: 9.18 GiB -- Worker memory limit: 11.23 GiB\n",
      "distributed.worker - WARNING - Unmanaged memory use is high. This may indicate a memory leak or the memory may not be released to the OS; see https://distributed.dask.org/en/latest/worker.html#memtrim for more information. -- Unmanaged memory: 9.19 GiB -- Worker memory limit: 11.23 GiB\n",
      "distributed.worker - WARNING - Unmanaged memory use is high. This may indicate a memory leak or the memory may not be released to the OS; see https://distributed.dask.org/en/latest/worker.html#memtrim for more information. -- Unmanaged memory: 9.20 GiB -- Worker memory limit: 11.23 GiB\n",
      "distributed.worker - WARNING - Unmanaged memory use is high. This may indicate a memory leak or the memory may not be released to the OS; see https://distributed.dask.org/en/latest/worker.html#memtrim for more information. -- Unmanaged memory: 9.20 GiB -- Worker memory limit: 11.23 GiB\n",
      "distributed.worker - WARNING - Unmanaged memory use is high. This may indicate a memory leak or the memory may not be released to the OS; see https://distributed.dask.org/en/latest/worker.html#memtrim for more information. -- Unmanaged memory: 9.21 GiB -- Worker memory limit: 11.23 GiB\n",
      "distributed.worker - WARNING - Unmanaged memory use is high. This may indicate a memory leak or the memory may not be released to the OS; see https://distributed.dask.org/en/latest/worker.html#memtrim for more information. -- Unmanaged memory: 9.22 GiB -- Worker memory limit: 11.23 GiB\n",
      "distributed.worker - WARNING - Unmanaged memory use is high. This may indicate a memory leak or the memory may not be released to the OS; see https://distributed.dask.org/en/latest/worker.html#memtrim for more information. -- Unmanaged memory: 9.23 GiB -- Worker memory limit: 11.23 GiB\n",
      "distributed.worker - WARNING - Unmanaged memory use is high. This may indicate a memory leak or the memory may not be released to the OS; see https://distributed.dask.org/en/latest/worker.html#memtrim for more information. -- Unmanaged memory: 9.23 GiB -- Worker memory limit: 11.23 GiB\n",
      "distributed.worker - WARNING - Unmanaged memory use is high. This may indicate a memory leak or the memory may not be released to the OS; see https://distributed.dask.org/en/latest/worker.html#memtrim for more information. -- Unmanaged memory: 9.24 GiB -- Worker memory limit: 11.23 GiB\n",
      "distributed.worker - WARNING - Unmanaged memory use is high. This may indicate a memory leak or the memory may not be released to the OS; see https://distributed.dask.org/en/latest/worker.html#memtrim for more information. -- Unmanaged memory: 9.25 GiB -- Worker memory limit: 11.23 GiB\n",
      "distributed.worker - WARNING - Unmanaged memory use is high. This may indicate a memory leak or the memory may not be released to the OS; see https://distributed.dask.org/en/latest/worker.html#memtrim for more information. -- Unmanaged memory: 9.25 GiB -- Worker memory limit: 11.23 GiB\n",
      "distributed.worker - WARNING - Unmanaged memory use is high. This may indicate a memory leak or the memory may not be released to the OS; see https://distributed.dask.org/en/latest/worker.html#memtrim for more information. -- Unmanaged memory: 9.26 GiB -- Worker memory limit: 11.23 GiB\n",
      "distributed.worker - WARNING - Unmanaged memory use is high. This may indicate a memory leak or the memory may not be released to the OS; see https://distributed.dask.org/en/latest/worker.html#memtrim for more information. -- Unmanaged memory: 9.27 GiB -- Worker memory limit: 11.23 GiB\n",
      "distributed.worker - WARNING - Unmanaged memory use is high. This may indicate a memory leak or the memory may not be released to the OS; see https://distributed.dask.org/en/latest/worker.html#memtrim for more information. -- Unmanaged memory: 9.28 GiB -- Worker memory limit: 11.23 GiB\n",
      "distributed.worker - WARNING - Unmanaged memory use is high. This may indicate a memory leak or the memory may not be released to the OS; see https://distributed.dask.org/en/latest/worker.html#memtrim for more information. -- Unmanaged memory: 9.28 GiB -- Worker memory limit: 11.23 GiB\n",
      "distributed.worker - WARNING - Unmanaged memory use is high. This may indicate a memory leak or the memory may not be released to the OS; see https://distributed.dask.org/en/latest/worker.html#memtrim for more information. -- Unmanaged memory: 9.29 GiB -- Worker memory limit: 11.23 GiB\n",
      "distributed.worker - WARNING - Unmanaged memory use is high. This may indicate a memory leak or the memory may not be released to the OS; see https://distributed.dask.org/en/latest/worker.html#memtrim for more information. -- Unmanaged memory: 9.30 GiB -- Worker memory limit: 11.23 GiB\n",
      "distributed.worker - WARNING - Unmanaged memory use is high. This may indicate a memory leak or the memory may not be released to the OS; see https://distributed.dask.org/en/latest/worker.html#memtrim for more information. -- Unmanaged memory: 9.30 GiB -- Worker memory limit: 11.23 GiB\n",
      "distributed.worker - WARNING - Unmanaged memory use is high. This may indicate a memory leak or the memory may not be released to the OS; see https://distributed.dask.org/en/latest/worker.html#memtrim for more information. -- Unmanaged memory: 9.31 GiB -- Worker memory limit: 11.23 GiB\n",
      "distributed.worker - WARNING - Unmanaged memory use is high. This may indicate a memory leak or the memory may not be released to the OS; see https://distributed.dask.org/en/latest/worker.html#memtrim for more information. -- Unmanaged memory: 9.32 GiB -- Worker memory limit: 11.23 GiB\n",
      "distributed.worker - WARNING - Unmanaged memory use is high. This may indicate a memory leak or the memory may not be released to the OS; see https://distributed.dask.org/en/latest/worker.html#memtrim for more information. -- Unmanaged memory: 9.32 GiB -- Worker memory limit: 11.23 GiB\n",
      "distributed.worker - WARNING - Unmanaged memory use is high. This may indicate a memory leak or the memory may not be released to the OS; see https://distributed.dask.org/en/latest/worker.html#memtrim for more information. -- Unmanaged memory: 9.33 GiB -- Worker memory limit: 11.23 GiB\n",
      "distributed.worker - WARNING - Unmanaged memory use is high. This may indicate a memory leak or the memory may not be released to the OS; see https://distributed.dask.org/en/latest/worker.html#memtrim for more information. -- Unmanaged memory: 9.34 GiB -- Worker memory limit: 11.23 GiB\n",
      "distributed.worker - WARNING - Unmanaged memory use is high. This may indicate a memory leak or the memory may not be released to the OS; see https://distributed.dask.org/en/latest/worker.html#memtrim for more information. -- Unmanaged memory: 9.35 GiB -- Worker memory limit: 11.23 GiB\n",
      "distributed.worker - WARNING - Unmanaged memory use is high. This may indicate a memory leak or the memory may not be released to the OS; see https://distributed.dask.org/en/latest/worker.html#memtrim for more information. -- Unmanaged memory: 9.35 GiB -- Worker memory limit: 11.23 GiB\n",
      "distributed.worker - WARNING - Unmanaged memory use is high. This may indicate a memory leak or the memory may not be released to the OS; see https://distributed.dask.org/en/latest/worker.html#memtrim for more information. -- Unmanaged memory: 9.36 GiB -- Worker memory limit: 11.23 GiB\n",
      "distributed.worker - WARNING - Unmanaged memory use is high. This may indicate a memory leak or the memory may not be released to the OS; see https://distributed.dask.org/en/latest/worker.html#memtrim for more information. -- Unmanaged memory: 9.37 GiB -- Worker memory limit: 11.23 GiB\n",
      "distributed.worker - WARNING - Unmanaged memory use is high. This may indicate a memory leak or the memory may not be released to the OS; see https://distributed.dask.org/en/latest/worker.html#memtrim for more information. -- Unmanaged memory: 9.37 GiB -- Worker memory limit: 11.23 GiB\n",
      "distributed.worker - WARNING - Unmanaged memory use is high. This may indicate a memory leak or the memory may not be released to the OS; see https://distributed.dask.org/en/latest/worker.html#memtrim for more information. -- Unmanaged memory: 9.38 GiB -- Worker memory limit: 11.23 GiB\n",
      "distributed.worker - WARNING - Unmanaged memory use is high. This may indicate a memory leak or the memory may not be released to the OS; see https://distributed.dask.org/en/latest/worker.html#memtrim for more information. -- Unmanaged memory: 9.39 GiB -- Worker memory limit: 11.23 GiB\n",
      "distributed.worker - WARNING - Unmanaged memory use is high. This may indicate a memory leak or the memory may not be released to the OS; see https://distributed.dask.org/en/latest/worker.html#memtrim for more information. -- Unmanaged memory: 9.39 GiB -- Worker memory limit: 11.23 GiB\n",
      "distributed.worker - WARNING - Unmanaged memory use is high. This may indicate a memory leak or the memory may not be released to the OS; see https://distributed.dask.org/en/latest/worker.html#memtrim for more information. -- Unmanaged memory: 9.40 GiB -- Worker memory limit: 11.23 GiB\n",
      "distributed.worker - WARNING - Unmanaged memory use is high. This may indicate a memory leak or the memory may not be released to the OS; see https://distributed.dask.org/en/latest/worker.html#memtrim for more information. -- Unmanaged memory: 9.41 GiB -- Worker memory limit: 11.23 GiB\n",
      "distributed.worker - WARNING - Unmanaged memory use is high. This may indicate a memory leak or the memory may not be released to the OS; see https://distributed.dask.org/en/latest/worker.html#memtrim for more information. -- Unmanaged memory: 9.42 GiB -- Worker memory limit: 11.23 GiB\n",
      "distributed.worker - WARNING - Unmanaged memory use is high. This may indicate a memory leak or the memory may not be released to the OS; see https://distributed.dask.org/en/latest/worker.html#memtrim for more information. -- Unmanaged memory: 9.42 GiB -- Worker memory limit: 11.23 GiB\n",
      "distributed.worker - WARNING - Unmanaged memory use is high. This may indicate a memory leak or the memory may not be released to the OS; see https://distributed.dask.org/en/latest/worker.html#memtrim for more information. -- Unmanaged memory: 9.43 GiB -- Worker memory limit: 11.23 GiB\n",
      "distributed.worker - WARNING - Unmanaged memory use is high. This may indicate a memory leak or the memory may not be released to the OS; see https://distributed.dask.org/en/latest/worker.html#memtrim for more information. -- Unmanaged memory: 9.44 GiB -- Worker memory limit: 11.23 GiB\n",
      "distributed.worker - WARNING - Unmanaged memory use is high. This may indicate a memory leak or the memory may not be released to the OS; see https://distributed.dask.org/en/latest/worker.html#memtrim for more information. -- Unmanaged memory: 9.44 GiB -- Worker memory limit: 11.23 GiB\n",
      "distributed.worker - WARNING - Unmanaged memory use is high. This may indicate a memory leak or the memory may not be released to the OS; see https://distributed.dask.org/en/latest/worker.html#memtrim for more information. -- Unmanaged memory: 9.45 GiB -- Worker memory limit: 11.23 GiB\n",
      "distributed.worker - WARNING - Worker is at 40% memory usage. Resuming worker. Process memory: 4.53 GiB -- Worker memory limit: 11.23 GiB\n"
     ]
    },
    {
     "name": "stdout",
     "output_type": "stream",
     "text": [
      "CPU times: user 12.2 s, sys: 6.06 s, total: 18.3 s\n",
      "Wall time: 1min 26s\n"
     ]
    }
   ],
   "source": [
    "%%time\n",
    "ty_trans_transformed_cons = ty_trans_transformed_cons.load()"
   ]
  },
  {
   "cell_type": "markdown",
   "id": "10e2fd59-083b-417b-af83-812d202ce0da",
   "metadata": {},
   "source": [
    "#### Now account for partial cell at bottom\n",
    "We do this by finding what is missing from the vertical integral (residual). This is what was in the partial cell. We then add that residual into the densest cell that currently exists in the transformed data. This is only an approximation, because the density of the partial cell may be denser than that of the cell above it. However, this correction means the vertical integral is preserved under the transformation."
   ]
  },
  {
   "cell_type": "code",
   "execution_count": 15,
   "id": "71a9b5c8-6c18-4aed-9c3e-d23fd470f310",
   "metadata": {},
   "outputs": [
    {
     "name": "stdout",
     "output_type": "stream",
     "text": [
      "CPU times: user 1.5 s, sys: 700 ms, total: 2.2 s\n",
      "Wall time: 2.05 s\n"
     ]
    }
   ],
   "source": [
    "%%time\n",
    "#find residual from vertical integral\n",
    "ty_trans_residual = ty_trans.sum('st_ocean')-ty_trans_transformed_cons.sum('potrho') #this is positive definite"
   ]
  },
  {
   "cell_type": "markdown",
   "id": "115208ff-07d1-45f4-bcfb-6e7a0290de7a",
   "metadata": {},
   "source": [
    "#### Find bottom density of `ty_trans_transformed_cons`"
   ]
  },
  {
   "cell_type": "code",
   "execution_count": 16,
   "id": "e2d07412-6377-4fe5-be5f-530b3ea8b87d",
   "metadata": {},
   "outputs": [
    {
     "name": "stdout",
     "output_type": "stream",
     "text": [
      "CPU times: user 1.46 s, sys: 996 ms, total: 2.46 s\n",
      "Wall time: 2.29 s\n"
     ]
    }
   ],
   "source": [
    "%%time\n",
    "# select out bottom values:\n",
    "ty_trans_transformed_cons2 = ty_trans_transformed_cons.where(ty_trans_transformed_cons!=0) \n",
    "dens_array = ty_trans_transformed_cons2 * 0 + ty_trans_transformed_cons2.potrho # array of isopycnal value where it exists and nan elsewhere\n",
    "max_dens = dens_array.max(dim = 'potrho', skipna= True)"
   ]
  },
  {
   "cell_type": "markdown",
   "id": "1096b59c-b87e-47cb-a291-6eb479020d5d",
   "metadata": {},
   "source": [
    "#### Add residual to this bottom density in array"
   ]
  },
  {
   "cell_type": "code",
   "execution_count": 17,
   "id": "4af3a264-5894-4d9d-afbe-7341b6697073",
   "metadata": {},
   "outputs": [
    {
     "name": "stdout",
     "output_type": "stream",
     "text": [
      "CPU times: user 2.63 s, sys: 1.9 s, total: 4.53 s\n",
      "Wall time: 4.24 s\n"
     ]
    }
   ],
   "source": [
    "%%time\n",
    "ty_trans_residual_array = (dens_array.where(dens_array == max_dens)*0+1)*ty_trans_residual\n",
    "ty_trans_new = ty_trans_residual_array.fillna(0)+ ty_trans_transformed_cons"
   ]
  },
  {
   "cell_type": "code",
   "execution_count": 18,
   "id": "7cae16f9-b350-492c-99bc-e8ee26cfcb3c",
   "metadata": {},
   "outputs": [],
   "source": [
    "# interpolate back to the ty_trans_rho array, so that these variables can be added or subtracted.\n",
    "ty_trans_new = ty_trans_new.interp({'yt_ocean':ty_trans_rho.grid_yu_ocean,'xt_ocean':ty_trans_rho.grid_xt_ocean})"
   ]
  },
  {
   "cell_type": "code",
   "execution_count": 19,
   "id": "b6547622-cbfa-436a-9a19-7eb7154838c3",
   "metadata": {},
   "outputs": [
    {
     "name": "stdout",
     "output_type": "stream",
     "text": [
      "CPU times: user 599 µs, sys: 0 ns, total: 599 µs\n",
      "Wall time: 628 µs\n"
     ]
    }
   ],
   "source": [
    "%%time\n",
    "\n",
    "ty_trans_new = ty_trans_new.load()"
   ]
  },
  {
   "cell_type": "markdown",
   "id": "75c9d270-47d1-45c1-8796-32944e6b2fb3",
   "metadata": {},
   "source": [
    "#### Plot streamfunction of result"
   ]
  },
  {
   "cell_type": "code",
   "execution_count": 20,
   "id": "919e537e-c139-46ac-bfd1-b599480687f2",
   "metadata": {},
   "outputs": [],
   "source": [
    "def cumsum_from_bottom (residual):\n",
    "    cumsum= (residual.cumsum('potrho')-residual.sum('potrho'))\n",
    "    return cumsum"
   ]
  },
  {
   "cell_type": "code",
   "execution_count": 21,
   "id": "8ea61ffe-980d-45b9-823d-2db8422ea105",
   "metadata": {},
   "outputs": [],
   "source": [
    "psi_avg = cumsum_from_bottom(ty_trans_rho.sum('grid_xt_ocean')/1e6/rho_0)\n",
    "psi_avg_mean = cumsum_from_bottom(ty_trans_new.fillna(0).sum('grid_xt_ocean')/1e6/rho_0)"
   ]
  },
  {
   "cell_type": "code",
   "execution_count": 22,
   "id": "6535bf5b-83d4-40ba-8296-0618ba4366e9",
   "metadata": {},
   "outputs": [
    {
     "name": "stdout",
     "output_type": "stream",
     "text": [
      "CPU times: user 1min 9s, sys: 5.85 s, total: 1min 15s\n",
      "Wall time: 1min 37s\n"
     ]
    },
    {
     "data": {
      "text/plain": [
       "Text(0.5, 1.0, 'Eddy')"
      ]
     },
     "execution_count": 22,
     "metadata": {},
     "output_type": "execute_result"
    },
    {
     "data": {
      "image/png": "[encoded data removed]",
      "text/plain": [
       "<Figure size 1080x288 with 4 Axes>"
      ]
     },
     "metadata": {
      "needs_background": "light"
     },
     "output_type": "display_data"
    }
   ],
   "source": [
    "%%time\n",
    "fig, axes = plt.subplots(nrows = 1, ncols = 3, figsize = (15,4))\n",
    "levels = np.arange(-25,26,2)\n",
    "(psi_avg).plot.contourf(ax = axes[0], x = 'grid_yu_ocean',levels = levels, add_colorbar = False)\n",
    "(psi_avg_mean).plot.contourf(ax = axes[1], x = 'grid_yu_ocean', levels = levels, add_colorbar = False)\n",
    "p1 = (psi_avg-psi_avg_mean).plot.contourf(ax = axes[2], x = 'grid_yu_ocean', levels = levels, add_colorbar = False)\n",
    "cbar_ax = fig.add_axes([0.92, 0.15, 0.01, 0.7])\n",
    "fig.colorbar(p1, cax=cbar_ax)\n",
    "cbar_ax.set_ylabel('Transport (Sv)')\n",
    "\n",
    "axes[0].set_ylim(1037.5,1032)\n",
    "axes[1].set_ylim(1037.5,1032)\n",
    "axes[2].set_ylim(1037.5,1032)\n",
    "axes[0].set_xlim(-70,-35)\n",
    "axes[1].set_xlim(-70,-35)\n",
    "axes[2].set_xlim(-70,-35)\n",
    "\n",
    "axes[0].set_title('Residual')\n",
    "axes[1].set_title('Mean')\n",
    "axes[2].set_title('Eddy')"
   ]
  },
  {
   "cell_type": "markdown",
   "id": "ce8152ad-8c28-467a-b867-fe7408a01023",
   "metadata": {
    "tags": []
   },
   "source": [
    "# Method 2: Bin ty_trans (mean Eulerian overturning) into rho bins\n",
    "\n",
    "This uses the method of Lee et al. (2007) [Lee, M., Nurser, A., Coward, A., and De Cuevas, B. (2007). Eddy advective and diffusive\n",
    "transports of heat and salt in the Southern Ocean. Journal of Physical Oceanography,\n",
    "37(5):1376–1393.]\n",
    "\n",
    "The method is described as follows. Firstly, cells in the model output with a density $\\rho$ between two prescribed densities ($\\rho_\\text{heavy} >\\rho> \\rho_\\text{light}$) are selected. Each cell is assigned a proximity to the lighter density $\\rho_\\text{light}$, which is the `bin fraction' $f_b = \\frac{\\rho_\\text{heavy}-\\rho}{\\rho_\\text{heavy}-\\rho_\\text{light}}$. Here, a bin fraction of 1 means the cell density $\\rho = \\rho_\\text{light}$ and $f_b=0$ means $\\rho = \\rho_\\text{heavy}$. The quantity being binned, such as the meridional transport $vh$, is then multiplied by $f_b$ and added to the lighter density $\\rho_\\text{light}$ bin's meridional transport, followed by the $vh(1-f_b)$ being added to the heavier bin, $\\rho_\\text{heavy}$. This process is repeated for all sets of consecutive bins, meaning that density bins have input from model output cells with density slightly lower and higher than it. "
   ]
  },
  {
   "cell_type": "code",
   "execution_count": 23,
   "id": "bdb54ac7-92e9-48f3-b20a-d07810f2625d",
   "metadata": {},
   "outputs": [],
   "source": [
    "# choose bins (in this case, default ty_trans_rho pot_rho_2 bins\n",
    "rho2_bins = ty_trans_rho.potrho.values\n",
    "# set up a zero array to be filled in by the algorithm\n",
    "ty_trans_binned = np.zeros((len(rho2_bins),len(pot_rho_2.yt_ocean),len(pot_rho_2.xt_ocean)))"
   ]
  },
  {
   "cell_type": "code",
   "execution_count": 24,
   "id": "42324e61-50c2-4cb7-8ed3-b9533ab0f4a3",
   "metadata": {
    "tags": []
   },
   "outputs": [
    {
     "name": "stdout",
     "output_type": "stream",
     "text": [
      "0\n",
      "1\n",
      "2\n",
      "3\n",
      "4\n",
      "5\n",
      "6\n",
      "7\n",
      "8\n",
      "9\n",
      "10\n",
      "11\n",
      "12\n",
      "13\n",
      "14\n",
      "15\n",
      "16\n",
      "17\n",
      "18\n",
      "19\n",
      "20\n",
      "21\n",
      "22\n",
      "23\n",
      "24\n",
      "25\n",
      "26\n",
      "27\n",
      "28\n",
      "29\n",
      "30\n",
      "31\n",
      "32\n",
      "33\n",
      "34\n",
      "35\n",
      "36\n",
      "37\n",
      "38\n",
      "39\n",
      "40\n",
      "41\n",
      "42\n",
      "43\n",
      "44\n",
      "45\n",
      "46\n",
      "47\n",
      "48\n",
      "49\n",
      "50\n",
      "51\n",
      "52\n",
      "53\n",
      "54\n",
      "55\n",
      "56\n",
      "57\n",
      "58\n",
      "59\n",
      "60\n",
      "61\n",
      "62\n",
      "63\n",
      "64\n",
      "65\n",
      "66\n",
      "67\n",
      "68\n",
      "69\n",
      "70\n",
      "71\n",
      "72\n",
      "73\n",
      "74\n",
      "75\n",
      "76\n",
      "77\n",
      "78\n",
      "CPU times: user 7min 30s, sys: 5min 53s, total: 13min 23s\n",
      "Wall time: 12min 30s\n"
     ]
    }
   ],
   "source": [
    "%%time\n",
    "# loop over the bins, performing Lee et al. (2007) algorithm\n",
    "# takes time, faster if ty_trans and pot_rho_2 already loaded\n",
    "for i in range(len(rho2_bins)-1):\n",
    "    print(i)\n",
    "    bin_mask = pot_rho_2.where(pot_rho_2<=rho2_bins[i+1]).where(pot_rho_2>rho2_bins[i])*0+1\n",
    "    bin_fractions = (rho2_bins[i+1]-pot_rho_2 * bin_mask)/(rho2_bins[i+1]-rho2_bins[i])\n",
    "    ## bin ty_trans:\n",
    "    ty_trans_in_lower_bin = (ty_trans * bin_mask * bin_fractions).sum(dim = 'st_ocean')\n",
    "    ty_trans_binned[i,:,:] += ty_trans_in_lower_bin.fillna(0).values\n",
    "    del ty_trans_in_lower_bin\n",
    "    ty_trans_in_upper_bin = (ty_trans * bin_mask * (1-bin_fractions)).sum(dim = 'st_ocean')\n",
    "    ty_trans_binned[i+1,:,:] += ty_trans_in_upper_bin.fillna(0).values\n",
    "    del ty_trans_in_upper_bin"
   ]
  },
  {
   "cell_type": "code",
   "execution_count": 25,
   "id": "398b5155-b1f8-4da3-ad31-adfcbbd918d2",
   "metadata": {},
   "outputs": [],
   "source": [
    "# turn np array into xarray\n",
    "ty_trans_binned_array = xr.DataArray(ty_trans_binned, \n",
    "                                               coords = [rho2_bins, pot_rho_2.yt_ocean,pot_rho_2.xt_ocean], \n",
    "                                               dims = ['potrho', 'yt_ocean','xt_ocean'], \n",
    "                                               name = 'ty_trans_binned')\n"
   ]
  },
  {
   "cell_type": "code",
   "execution_count": 26,
   "id": "be1e85c2-543b-4267-8188-5260f01f1967",
   "metadata": {},
   "outputs": [],
   "source": [
    "# interpolate to ty_trans_rho grid\n",
    "ty_trans_binned_array = ty_trans_binned_array.interp({'yt_ocean':ty_trans_rho.grid_yu_ocean,'xt_ocean':ty_trans_rho.grid_xt_ocean})"
   ]
  },
  {
   "cell_type": "code",
   "execution_count": 27,
   "id": "690ddd63-0ffc-497b-8dbe-bed29d59d980",
   "metadata": {},
   "outputs": [],
   "source": [
    "# find streamfunction\n",
    "psi_avg = cumsum_from_bottom(ty_trans_rho.sum('grid_xt_ocean'))/1e6/rho_0\n",
    "psi_avg_mean_2 = cumsum_from_bottom(ty_trans_binned_array.sum('grid_xt_ocean'))/1e6/rho_0\n"
   ]
  },
  {
   "cell_type": "markdown",
   "id": "35ddc3b8-5d15-413e-8cb6-d5e8073841f8",
   "metadata": {},
   "source": [
    "#### Plot ty_trans_rho, binned ty_trans (\"mean\" component) and eddy (as a residual)"
   ]
  },
  {
   "cell_type": "code",
   "execution_count": 28,
   "id": "58a7fe12-4fcd-49ca-a553-e7f4e185212c",
   "metadata": {},
   "outputs": [
    {
     "data": {
      "text/plain": [
       "Text(0.5, 1.0, 'Eddy')"
      ]
     },
     "execution_count": 28,
     "metadata": {},
     "output_type": "execute_result"
    },
    {
     "data": {
      "image/png": "[encoded data removed]",
      "text/plain": [
       "<Figure size 1080x288 with 4 Axes>"
      ]
     },
     "metadata": {
      "needs_background": "light"
     },
     "output_type": "display_data"
    }
   ],
   "source": [
    "fig, axes = plt.subplots(nrows = 1, ncols = 3, figsize = (15,4))\n",
    "levels = np.arange(-25,26,2)\n",
    "(psi_avg).plot.contourf(ax = axes[0], levels = levels, add_colorbar = False)\n",
    "(psi_avg_mean_2).plot.contourf(ax = axes[1], levels = levels, add_colorbar = False)\n",
    "p1 = (psi_avg-psi_avg_mean_2).plot.contourf(ax = axes[2], levels = levels, add_colorbar = False)\n",
    "cbar_ax = fig.add_axes([0.92, 0.15, 0.01, 0.7])\n",
    "fig.colorbar(p1, cax=cbar_ax)\n",
    "cbar_ax.set_ylabel('Transport (Sv)')\n",
    "\n",
    "axes[0].set_ylim(1037.5,1032)\n",
    "axes[1].set_ylim(1037.5,1032)\n",
    "axes[2].set_ylim(1037.5,1032)\n",
    "axes[0].set_xlim(-70,-35)\n",
    "axes[1].set_xlim(-70,-35)\n",
    "axes[2].set_xlim(-70,-35)\n",
    "\n",
    "axes[0].set_title('Residual')\n",
    "axes[1].set_title('Mean')\n",
    "axes[2].set_title('Eddy')"
   ]
  },
  {
   "cell_type": "markdown",
   "id": "4b64145b-4b4c-4480-972a-51112c466756",
   "metadata": {},
   "source": [
    "### Both methods yield similar plots of the decomposition of the meridional overturning streamfunction. \n",
    "\n",
    "The exact numbers resultant from the transformations will differ, due to the different methods -- they are not exact. When comparing to the model variable `ty_trans_rho`, the `xgcm` method is more appropriate as the online binning is more similar to the `xgcm` binning process than the Lee method. If we were to instead bin the daily transports onto isopycnals and calculate eddy terms directly from the correlation of velocity and thickness fluctuations, the Lee method may be better as the weighted binning onto isopycnals leaves less chance of 'gaps' between density layers. Additionally, it has no issues with partial cells.\n",
    "\n",
    "The difference between the mean streamfunction between the two methods is presented below."
   ]
  },
  {
   "cell_type": "code",
   "execution_count": 40,
   "id": "8d5f00b8-a2de-4328-b665-195eb75c2842",
   "metadata": {},
   "outputs": [
    {
     "data": {
      "image/png": "[encoded data removed]",
      "text/plain": [
       "<Figure size 576x576 with 2 Axes>"
      ]
     },
     "metadata": {
      "needs_background": "light"
     },
     "output_type": "display_data"
    }
   ],
   "source": [
    "fig, ax = plt.subplots(figsize = (8,8))\n",
    "levels = np.arange(-11,12,2)\n",
    "p1 = (psi_avg_mean-psi_avg_mean_2).plot.contourf(ax = ax, y = 'potrho',levels = levels, add_colorbar = False)\n",
    "cbar_ax = fig.add_axes([0.92, 0.15, 0.01, 0.7])\n",
    "fig.colorbar(p1, cax=cbar_ax)\n",
    "cbar_ax.set_ylabel('Transport (Sv)')\n",
    "\n",
    "ax.set_ylim(1037.5,1032)\n",
    "ax.set_xlim(-70,-35)\n",
    "ax.set_title('Method 1 - Method 2, Difference in Mean streamfunction');"
   ]
  },
  {
   "cell_type": "markdown",
   "id": "eed3d00b-224e-448d-8cbd-c8198244fe87",
   "metadata": {},
   "source": [
    "An alternative method to calculate the decomposition of the residual meridional overturning circulation into mean and eddy components is to bin `ty_trans` (or `vhrho_nt`) into density bins using daily data (both density and transport). Then the transport $\\overline{vh}$ can be separated into a mean component $\\overline{v}\\overline{h}$ and an eddy component $\\overline{v^\\prime h^\\prime}$, where the overline is a time average and primed quantities the deviation from the time average. Quantities are calculated within density layers, and $h$ is density layer thickness, calculated by binning `dzt` or `dzu`. This calculation, since it uses daily data, is computationally expensive and is difficult to do efficiently in a jupyter notebook. The resulting streamfunctions are similar, but not identical, and may be more intuitive for isopycnal flows. An example of this can be found at https://github.com/claireyung/Topographic_Hotspots_Upwelling-Paper_Code/blob/main/Figure_Code/Fig5-Overturning.ipynb."
   ]
  },
  {
   "cell_type": "code",
   "execution_count": null,
   "id": "dae64612-e3a5-401e-b1e1-e24ab8cc644d",
   "metadata": {},
   "outputs": [],
   "source": []
  }
 ],
 "metadata": {
  "kernelspec": {
   "display_name": "Python [conda env:analysis3-22.01]",
   "language": "python",
   "name": "conda-env-analysis3-22.01-py"
  },
  "language_info": {
   "codemirror_mode": {
    "name": "ipython",
    "version": 3
   },
   "file_extension": ".py",
   "mimetype": "text/x-python",
   "name": "python",
   "nbconvert_exporter": "python",
   "pygments_lexer": "ipython3",
   "version": "3.9.9"
  }
 },
 "nbformat": 4,
 "nbformat_minor": 5
}
