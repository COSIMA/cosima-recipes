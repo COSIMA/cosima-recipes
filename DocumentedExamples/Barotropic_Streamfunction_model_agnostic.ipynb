{
 "cells": [
  {
   "cell_type": "markdown",
   "id": "14b764a5-2679-43e1-9f37-04f781fa01d1",
   "metadata": {},
   "source": [
    "# Barotropic Streamfunction in MOM5/MOM6\n",
    "\n",
    "The barotropic streamfunction ($\\psi$) is obtained from the integration of the velocity field starting from a physical boundary at which we know the transport is zero. The difference between to streamlines is a measure of the transport between them. \n",
    "\n",
    "There are different ways to calculate it depending on your choice of boundary for the integration. This notebook calculates it integrating in the meridional space, starting from the Antarctic continent using the zonal velocity field:\n",
    "\n",
    "$$\n",
    "\\psi = \\int_{y_{\\rm Antarctica}}^{y} U \\, \\mathrm{d}y ,\n",
    "$$\n",
    "\n",
    "where $U$ can either be the vertically integrated velocity field, or the actual 3D field. We'll look at both."
   ]
  },
  {
   "cell_type": "code",
   "execution_count": 1,
   "id": "577aa03f-c391-4009-a759-5dd361c83c09",
   "metadata": {},
   "outputs": [],
   "source": [
    "import cartopy.crs as ccrs\n",
    "import cartopy.feature as cfeature\n",
    "import cf_xarray as cfxr\n",
    "import cosima_cookbook as cc\n",
    "import cmocean\n",
    "import dask.distributed as dask\n",
    "import glob\n",
    "import matplotlib.path as mpath\n",
    "import matplotlib.pyplot as plt\n",
    "import numpy as np\n",
    "import xarray as xr\n",
    "\n",
    "import warnings # ignore these warnings\n",
    "warnings.filterwarnings(\"ignore\", category = FutureWarning)\n",
    "warnings.filterwarnings(\"ignore\", category = UserWarning)\n",
    "warnings.filterwarnings(\"ignore\", category = RuntimeWarning)"
   ]
  },
  {
   "cell_type": "markdown",
   "id": "cf8f3cd7-1add-41bb-91c8-12fae6376e07",
   "metadata": {},
   "source": [
    "Initialise a dask client"
   ]
  },
  {
   "cell_type": "code",
   "execution_count": 2,
   "id": "2f25a245-9737-4444-8c53-0b91ec9a5c06",
   "metadata": {},
   "outputs": [
    {
     "data": {
      "text/html": [
       "<div>\n",
       "    <div style=\"width: 24px; height: 24px; background-color: #e1e1e1; border: 3px solid #9D9D9D; border-radius: 5px; position: absolute;\"> </div>\n",
       "    <div style=\"margin-left: 48px;\">\n",
       "        <h3 style=\"margin-bottom: 0px;\">Client</h3>\n",
       "        <p style=\"color: #9D9D9D; margin-bottom: 0px;\">Client-9d3ce771-a5c0-11ed-bd68-0000075efe80</p>\n",
       "        <table style=\"width: 100%; text-align: left;\">\n",
       "\n",
       "        <tr>\n",
       "        \n",
       "            <td style=\"text-align: left;\"><strong>Connection method:</strong> Cluster object</td>\n",
       "            <td style=\"text-align: left;\"><strong>Cluster type:</strong> distributed.LocalCluster</td>\n",
       "        \n",
       "        </tr>\n",
       "\n",
       "        \n",
       "            <tr>\n",
       "                <td style=\"text-align: left;\">\n",
       "                    <strong>Dashboard: </strong> <a href=\"/proxy/8787/status\" target=\"_blank\">/proxy/8787/status</a>\n",
       "                </td>\n",
       "                <td style=\"text-align: left;\"></td>\n",
       "            </tr>\n",
       "        \n",
       "\n",
       "        </table>\n",
       "\n",
       "        \n",
       "\n",
       "        \n",
       "            <details>\n",
       "            <summary style=\"margin-bottom: 20px;\"><h3 style=\"display: inline;\">Cluster Info</h3></summary>\n",
       "            <div class=\"jp-RenderedHTMLCommon jp-RenderedHTML jp-mod-trusted jp-OutputArea-output\">\n",
       "    <div style=\"width: 24px; height: 24px; background-color: #e1e1e1; border: 3px solid #9D9D9D; border-radius: 5px; position: absolute;\">\n",
       "    </div>\n",
       "    <div style=\"margin-left: 48px;\">\n",
       "        <h3 style=\"margin-bottom: 0px; margin-top: 0px;\">LocalCluster</h3>\n",
       "        <p style=\"color: #9D9D9D; margin-bottom: 0px;\">dc856a8f</p>\n",
       "        <table style=\"width: 100%; text-align: left;\">\n",
       "            <tr>\n",
       "                <td style=\"text-align: left;\">\n",
       "                    <strong>Dashboard:</strong> <a href=\"/proxy/8787/status\" target=\"_blank\">/proxy/8787/status</a>\n",
       "                </td>\n",
       "                <td style=\"text-align: left;\">\n",
       "                    <strong>Workers:</strong> 7\n",
       "                </td>\n",
       "            </tr>\n",
       "            <tr>\n",
       "                <td style=\"text-align: left;\">\n",
       "                    <strong>Total threads:</strong> 28\n",
       "                </td>\n",
       "                <td style=\"text-align: left;\">\n",
       "                    <strong>Total memory:</strong> 112.00 GiB\n",
       "                </td>\n",
       "            </tr>\n",
       "            \n",
       "            <tr>\n",
       "    <td style=\"text-align: left;\"><strong>Status:</strong> running</td>\n",
       "    <td style=\"text-align: left;\"><strong>Using processes:</strong> True</td>\n",
       "</tr>\n",
       "\n",
       "            \n",
       "        </table>\n",
       "\n",
       "        <details>\n",
       "            <summary style=\"margin-bottom: 20px;\">\n",
       "                <h3 style=\"display: inline;\">Scheduler Info</h3>\n",
       "            </summary>\n",
       "\n",
       "            <div style=\"\">\n",
       "    <div>\n",
       "        <div style=\"width: 24px; height: 24px; background-color: #FFF7E5; border: 3px solid #FF6132; border-radius: 5px; position: absolute;\"> </div>\n",
       "        <div style=\"margin-left: 48px;\">\n",
       "            <h3 style=\"margin-bottom: 0px;\">Scheduler</h3>\n",
       "            <p style=\"color: #9D9D9D; margin-bottom: 0px;\">Scheduler-ddc8e9ce-dd52-4671-8a8f-fbae9446ce12</p>\n",
       "            <table style=\"width: 100%; text-align: left;\">\n",
       "                <tr>\n",
       "                    <td style=\"text-align: left;\">\n",
       "                        <strong>Comm:</strong> tcp://127.0.0.1:33545\n",
       "                    </td>\n",
       "                    <td style=\"text-align: left;\">\n",
       "                        <strong>Workers:</strong> 7\n",
       "                    </td>\n",
       "                </tr>\n",
       "                <tr>\n",
       "                    <td style=\"text-align: left;\">\n",
       "                        <strong>Dashboard:</strong> <a href=\"/proxy/8787/status\" target=\"_blank\">/proxy/8787/status</a>\n",
       "                    </td>\n",
       "                    <td style=\"text-align: left;\">\n",
       "                        <strong>Total threads:</strong> 28\n",
       "                    </td>\n",
       "                </tr>\n",
       "                <tr>\n",
       "                    <td style=\"text-align: left;\">\n",
       "                        <strong>Started:</strong> Just now\n",
       "                    </td>\n",
       "                    <td style=\"text-align: left;\">\n",
       "                        <strong>Total memory:</strong> 112.00 GiB\n",
       "                    </td>\n",
       "                </tr>\n",
       "            </table>\n",
       "        </div>\n",
       "    </div>\n",
       "\n",
       "    <details style=\"margin-left: 48px;\">\n",
       "        <summary style=\"margin-bottom: 20px;\">\n",
       "            <h3 style=\"display: inline;\">Workers</h3>\n",
       "        </summary>\n",
       "\n",
       "        \n",
       "        <div style=\"margin-bottom: 20px;\">\n",
       "            <div style=\"width: 24px; height: 24px; background-color: #DBF5FF; border: 3px solid #4CC9FF; border-radius: 5px; position: absolute;\"> </div>\n",
       "            <div style=\"margin-left: 48px;\">\n",
       "            <details>\n",
       "                <summary>\n",
       "                    <h4 style=\"margin-bottom: 0px; display: inline;\">Worker: 0</h4>\n",
       "                </summary>\n",
       "                <table style=\"width: 100%; text-align: left;\">\n",
       "                    <tr>\n",
       "                        <td style=\"text-align: left;\">\n",
       "                            <strong>Comm: </strong> tcp://127.0.0.1:39089\n",
       "                        </td>\n",
       "                        <td style=\"text-align: left;\">\n",
       "                            <strong>Total threads: </strong> 4\n",
       "                        </td>\n",
       "                    </tr>\n",
       "                    <tr>\n",
       "                        <td style=\"text-align: left;\">\n",
       "                            <strong>Dashboard: </strong> <a href=\"/proxy/34051/status\" target=\"_blank\">/proxy/34051/status</a>\n",
       "                        </td>\n",
       "                        <td style=\"text-align: left;\">\n",
       "                            <strong>Memory: </strong> 16.00 GiB\n",
       "                        </td>\n",
       "                    </tr>\n",
       "                    <tr>\n",
       "                        <td style=\"text-align: left;\">\n",
       "                            <strong>Nanny: </strong> tcp://127.0.0.1:34109\n",
       "                        </td>\n",
       "                        <td style=\"text-align: left;\"></td>\n",
       "                    </tr>\n",
       "                    <tr>\n",
       "                        <td colspan=\"2\" style=\"text-align: left;\">\n",
       "                            <strong>Local directory: </strong> /jobfs/71577886.gadi-pbs/dask-worker-space/worker-d3e1du4q\n",
       "                        </td>\n",
       "                    </tr>\n",
       "\n",
       "                    \n",
       "\n",
       "                    \n",
       "\n",
       "                </table>\n",
       "            </details>\n",
       "            </div>\n",
       "        </div>\n",
       "        \n",
       "        <div style=\"margin-bottom: 20px;\">\n",
       "            <div style=\"width: 24px; height: 24px; background-color: #DBF5FF; border: 3px solid #4CC9FF; border-radius: 5px; position: absolute;\"> </div>\n",
       "            <div style=\"margin-left: 48px;\">\n",
       "            <details>\n",
       "                <summary>\n",
       "                    <h4 style=\"margin-bottom: 0px; display: inline;\">Worker: 1</h4>\n",
       "                </summary>\n",
       "                <table style=\"width: 100%; text-align: left;\">\n",
       "                    <tr>\n",
       "                        <td style=\"text-align: left;\">\n",
       "                            <strong>Comm: </strong> tcp://127.0.0.1:37165\n",
       "                        </td>\n",
       "                        <td style=\"text-align: left;\">\n",
       "                            <strong>Total threads: </strong> 4\n",
       "                        </td>\n",
       "                    </tr>\n",
       "                    <tr>\n",
       "                        <td style=\"text-align: left;\">\n",
       "                            <strong>Dashboard: </strong> <a href=\"/proxy/42545/status\" target=\"_blank\">/proxy/42545/status</a>\n",
       "                        </td>\n",
       "                        <td style=\"text-align: left;\">\n",
       "                            <strong>Memory: </strong> 16.00 GiB\n",
       "                        </td>\n",
       "                    </tr>\n",
       "                    <tr>\n",
       "                        <td style=\"text-align: left;\">\n",
       "                            <strong>Nanny: </strong> tcp://127.0.0.1:34865\n",
       "                        </td>\n",
       "                        <td style=\"text-align: left;\"></td>\n",
       "                    </tr>\n",
       "                    <tr>\n",
       "                        <td colspan=\"2\" style=\"text-align: left;\">\n",
       "                            <strong>Local directory: </strong> /jobfs/71577886.gadi-pbs/dask-worker-space/worker-wstn268q\n",
       "                        </td>\n",
       "                    </tr>\n",
       "\n",
       "                    \n",
       "\n",
       "                    \n",
       "\n",
       "                </table>\n",
       "            </details>\n",
       "            </div>\n",
       "        </div>\n",
       "        \n",
       "        <div style=\"margin-bottom: 20px;\">\n",
       "            <div style=\"width: 24px; height: 24px; background-color: #DBF5FF; border: 3px solid #4CC9FF; border-radius: 5px; position: absolute;\"> </div>\n",
       "            <div style=\"margin-left: 48px;\">\n",
       "            <details>\n",
       "                <summary>\n",
       "                    <h4 style=\"margin-bottom: 0px; display: inline;\">Worker: 2</h4>\n",
       "                </summary>\n",
       "                <table style=\"width: 100%; text-align: left;\">\n",
       "                    <tr>\n",
       "                        <td style=\"text-align: left;\">\n",
       "                            <strong>Comm: </strong> tcp://127.0.0.1:39041\n",
       "                        </td>\n",
       "                        <td style=\"text-align: left;\">\n",
       "                            <strong>Total threads: </strong> 4\n",
       "                        </td>\n",
       "                    </tr>\n",
       "                    <tr>\n",
       "                        <td style=\"text-align: left;\">\n",
       "                            <strong>Dashboard: </strong> <a href=\"/proxy/43299/status\" target=\"_blank\">/proxy/43299/status</a>\n",
       "                        </td>\n",
       "                        <td style=\"text-align: left;\">\n",
       "                            <strong>Memory: </strong> 16.00 GiB\n",
       "                        </td>\n",
       "                    </tr>\n",
       "                    <tr>\n",
       "                        <td style=\"text-align: left;\">\n",
       "                            <strong>Nanny: </strong> tcp://127.0.0.1:35949\n",
       "                        </td>\n",
       "                        <td style=\"text-align: left;\"></td>\n",
       "                    </tr>\n",
       "                    <tr>\n",
       "                        <td colspan=\"2\" style=\"text-align: left;\">\n",
       "                            <strong>Local directory: </strong> /jobfs/71577886.gadi-pbs/dask-worker-space/worker-0sjjjscd\n",
       "                        </td>\n",
       "                    </tr>\n",
       "\n",
       "                    \n",
       "\n",
       "                    \n",
       "\n",
       "                </table>\n",
       "            </details>\n",
       "            </div>\n",
       "        </div>\n",
       "        \n",
       "        <div style=\"margin-bottom: 20px;\">\n",
       "            <div style=\"width: 24px; height: 24px; background-color: #DBF5FF; border: 3px solid #4CC9FF; border-radius: 5px; position: absolute;\"> </div>\n",
       "            <div style=\"margin-left: 48px;\">\n",
       "            <details>\n",
       "                <summary>\n",
       "                    <h4 style=\"margin-bottom: 0px; display: inline;\">Worker: 3</h4>\n",
       "                </summary>\n",
       "                <table style=\"width: 100%; text-align: left;\">\n",
       "                    <tr>\n",
       "                        <td style=\"text-align: left;\">\n",
       "                            <strong>Comm: </strong> tcp://127.0.0.1:33011\n",
       "                        </td>\n",
       "                        <td style=\"text-align: left;\">\n",
       "                            <strong>Total threads: </strong> 4\n",
       "                        </td>\n",
       "                    </tr>\n",
       "                    <tr>\n",
       "                        <td style=\"text-align: left;\">\n",
       "                            <strong>Dashboard: </strong> <a href=\"/proxy/45347/status\" target=\"_blank\">/proxy/45347/status</a>\n",
       "                        </td>\n",
       "                        <td style=\"text-align: left;\">\n",
       "                            <strong>Memory: </strong> 16.00 GiB\n",
       "                        </td>\n",
       "                    </tr>\n",
       "                    <tr>\n",
       "                        <td style=\"text-align: left;\">\n",
       "                            <strong>Nanny: </strong> tcp://127.0.0.1:43189\n",
       "                        </td>\n",
       "                        <td style=\"text-align: left;\"></td>\n",
       "                    </tr>\n",
       "                    <tr>\n",
       "                        <td colspan=\"2\" style=\"text-align: left;\">\n",
       "                            <strong>Local directory: </strong> /jobfs/71577886.gadi-pbs/dask-worker-space/worker-e0mmnon5\n",
       "                        </td>\n",
       "                    </tr>\n",
       "\n",
       "                    \n",
       "\n",
       "                    \n",
       "\n",
       "                </table>\n",
       "            </details>\n",
       "            </div>\n",
       "        </div>\n",
       "        \n",
       "        <div style=\"margin-bottom: 20px;\">\n",
       "            <div style=\"width: 24px; height: 24px; background-color: #DBF5FF; border: 3px solid #4CC9FF; border-radius: 5px; position: absolute;\"> </div>\n",
       "            <div style=\"margin-left: 48px;\">\n",
       "            <details>\n",
       "                <summary>\n",
       "                    <h4 style=\"margin-bottom: 0px; display: inline;\">Worker: 4</h4>\n",
       "                </summary>\n",
       "                <table style=\"width: 100%; text-align: left;\">\n",
       "                    <tr>\n",
       "                        <td style=\"text-align: left;\">\n",
       "                            <strong>Comm: </strong> tcp://127.0.0.1:44381\n",
       "                        </td>\n",
       "                        <td style=\"text-align: left;\">\n",
       "                            <strong>Total threads: </strong> 4\n",
       "                        </td>\n",
       "                    </tr>\n",
       "                    <tr>\n",
       "                        <td style=\"text-align: left;\">\n",
       "                            <strong>Dashboard: </strong> <a href=\"/proxy/41373/status\" target=\"_blank\">/proxy/41373/status</a>\n",
       "                        </td>\n",
       "                        <td style=\"text-align: left;\">\n",
       "                            <strong>Memory: </strong> 16.00 GiB\n",
       "                        </td>\n",
       "                    </tr>\n",
       "                    <tr>\n",
       "                        <td style=\"text-align: left;\">\n",
       "                            <strong>Nanny: </strong> tcp://127.0.0.1:44071\n",
       "                        </td>\n",
       "                        <td style=\"text-align: left;\"></td>\n",
       "                    </tr>\n",
       "                    <tr>\n",
       "                        <td colspan=\"2\" style=\"text-align: left;\">\n",
       "                            <strong>Local directory: </strong> /jobfs/71577886.gadi-pbs/dask-worker-space/worker-0kc88n3x\n",
       "                        </td>\n",
       "                    </tr>\n",
       "\n",
       "                    \n",
       "\n",
       "                    \n",
       "\n",
       "                </table>\n",
       "            </details>\n",
       "            </div>\n",
       "        </div>\n",
       "        \n",
       "        <div style=\"margin-bottom: 20px;\">\n",
       "            <div style=\"width: 24px; height: 24px; background-color: #DBF5FF; border: 3px solid #4CC9FF; border-radius: 5px; position: absolute;\"> </div>\n",
       "            <div style=\"margin-left: 48px;\">\n",
       "            <details>\n",
       "                <summary>\n",
       "                    <h4 style=\"margin-bottom: 0px; display: inline;\">Worker: 5</h4>\n",
       "                </summary>\n",
       "                <table style=\"width: 100%; text-align: left;\">\n",
       "                    <tr>\n",
       "                        <td style=\"text-align: left;\">\n",
       "                            <strong>Comm: </strong> tcp://127.0.0.1:39197\n",
       "                        </td>\n",
       "                        <td style=\"text-align: left;\">\n",
       "                            <strong>Total threads: </strong> 4\n",
       "                        </td>\n",
       "                    </tr>\n",
       "                    <tr>\n",
       "                        <td style=\"text-align: left;\">\n",
       "                            <strong>Dashboard: </strong> <a href=\"/proxy/37457/status\" target=\"_blank\">/proxy/37457/status</a>\n",
       "                        </td>\n",
       "                        <td style=\"text-align: left;\">\n",
       "                            <strong>Memory: </strong> 16.00 GiB\n",
       "                        </td>\n",
       "                    </tr>\n",
       "                    <tr>\n",
       "                        <td style=\"text-align: left;\">\n",
       "                            <strong>Nanny: </strong> tcp://127.0.0.1:40431\n",
       "                        </td>\n",
       "                        <td style=\"text-align: left;\"></td>\n",
       "                    </tr>\n",
       "                    <tr>\n",
       "                        <td colspan=\"2\" style=\"text-align: left;\">\n",
       "                            <strong>Local directory: </strong> /jobfs/71577886.gadi-pbs/dask-worker-space/worker-5vzll4u0\n",
       "                        </td>\n",
       "                    </tr>\n",
       "\n",
       "                    \n",
       "\n",
       "                    \n",
       "\n",
       "                </table>\n",
       "            </details>\n",
       "            </div>\n",
       "        </div>\n",
       "        \n",
       "        <div style=\"margin-bottom: 20px;\">\n",
       "            <div style=\"width: 24px; height: 24px; background-color: #DBF5FF; border: 3px solid #4CC9FF; border-radius: 5px; position: absolute;\"> </div>\n",
       "            <div style=\"margin-left: 48px;\">\n",
       "            <details>\n",
       "                <summary>\n",
       "                    <h4 style=\"margin-bottom: 0px; display: inline;\">Worker: 6</h4>\n",
       "                </summary>\n",
       "                <table style=\"width: 100%; text-align: left;\">\n",
       "                    <tr>\n",
       "                        <td style=\"text-align: left;\">\n",
       "                            <strong>Comm: </strong> tcp://127.0.0.1:33685\n",
       "                        </td>\n",
       "                        <td style=\"text-align: left;\">\n",
       "                            <strong>Total threads: </strong> 4\n",
       "                        </td>\n",
       "                    </tr>\n",
       "                    <tr>\n",
       "                        <td style=\"text-align: left;\">\n",
       "                            <strong>Dashboard: </strong> <a href=\"/proxy/41183/status\" target=\"_blank\">/proxy/41183/status</a>\n",
       "                        </td>\n",
       "                        <td style=\"text-align: left;\">\n",
       "                            <strong>Memory: </strong> 16.00 GiB\n",
       "                        </td>\n",
       "                    </tr>\n",
       "                    <tr>\n",
       "                        <td style=\"text-align: left;\">\n",
       "                            <strong>Nanny: </strong> tcp://127.0.0.1:35199\n",
       "                        </td>\n",
       "                        <td style=\"text-align: left;\"></td>\n",
       "                    </tr>\n",
       "                    <tr>\n",
       "                        <td colspan=\"2\" style=\"text-align: left;\">\n",
       "                            <strong>Local directory: </strong> /jobfs/71577886.gadi-pbs/dask-worker-space/worker-amytbua9\n",
       "                        </td>\n",
       "                    </tr>\n",
       "\n",
       "                    \n",
       "\n",
       "                    \n",
       "\n",
       "                </table>\n",
       "            </details>\n",
       "            </div>\n",
       "        </div>\n",
       "        \n",
       "\n",
       "    </details>\n",
       "</div>\n",
       "\n",
       "        </details>\n",
       "    </div>\n",
       "</div>\n",
       "            </details>\n",
       "        \n",
       "\n",
       "    </div>\n",
       "</div>"
      ],
      "text/plain": [
       "<Client: 'tcp://127.0.0.1:33545' processes=7 threads=28, memory=112.00 GiB>"
      ]
     },
     "execution_count": 2,
     "metadata": {},
     "output_type": "execute_result"
    }
   ],
   "source": [
    "client = dask.Client()\n",
    "client"
   ]
  },
  {
   "cell_type": "markdown",
   "id": "88433ef8-3945-40f6-8437-6700b8bda33e",
   "metadata": {},
   "source": [
    "Load a session to access the COSIMA database"
   ]
  },
  {
   "cell_type": "code",
   "execution_count": 3,
   "id": "682c5529-c170-423e-aaf8-5c8a5a2c41fd",
   "metadata": {},
   "outputs": [],
   "source": [
    "session = cc.database.create_session()"
   ]
  },
  {
   "cell_type": "markdown",
   "id": "9ab44e8f-b16f-405c-b67d-b5702281a412",
   "metadata": {},
   "source": [
    "The dictionary below specifies experiment, start and ending times for each model we can use (MOM5 or MOM6). \n",
    "\n",
    "If you want a different experiment, or a different time period, change the necessary values. A tutorial on how to explore the database for available experiments is available [here](https://github.com/COSIMA/cosima-recipes/blob/master/Tutorials/COSIMA_CookBook_Tutorial.ipynb)"
   ]
  },
  {
   "cell_type": "code",
   "execution_count": 4,
   "id": "bc296c6e-70b7-4a89-8400-257563ad3d3b",
   "metadata": {},
   "outputs": [],
   "source": [
    "model_args = {\"mom5\": {\"expt\": \"01deg_jra55v13_ryf9091\",\n",
    "                       \"variable\": \"tx_trans_int_z\",\n",
    "                       \"start_time\": \"2035-01-01\",\n",
    "                       \"end_time\": \"2055-01-01\"},\n",
    "\n",
    "              \"mom6\": {\"expt\": \"panant-01-zstar-v13\",\n",
    "                       \"variable\": \"umo_2d\",\n",
    "                       \"start_time\": \"2035-01-01\",\n",
    "                       \"end_time\": \"2050-01-01\",\n",
    "                       \"frequency\": \"1 monthly\"}\n",
    "             }"
   ]
  },
  {
   "cell_type": "markdown",
   "id": "3aabdfc7-530f-4095-a679-3029bd3b1d3c",
   "metadata": {},
   "source": [
    "## Functions to load data\n",
    "\n",
    "The functions below will load the necessary data, and calculate the barotropic streamfunction"
   ]
  },
  {
   "cell_type": "code",
   "execution_count": 5,
   "id": "e806aeca-ecfe-4cc6-805b-aad30f5d6858",
   "metadata": {},
   "outputs": [],
   "source": [
    "# Define a reference density\n",
    "RHO_0 = 1035 # kg/m^3\n",
    "\n",
    "def load_zonal_transport(model):\n",
    "    # Model can be set to 'mom5' or 'mom6'\n",
    "    \n",
    "    experiment = model_args[model][\"expt\"]\n",
    "    start_time = model_args[model][\"start_time\"]\n",
    "    end_time = model_args[model][\"end_time\"]\n",
    "\n",
    "    transport = cc.querying.getvar(session = session, **model_args[model])\n",
    "    \n",
    "    # ensure we get the time-slice we wanted\n",
    "    transport = transport.sel(time = slice(start_time, end_time))\n",
    "    \n",
    "    return transport\n",
    "\n",
    "def calculate_streamfunction(model):\n",
    "    # Transport is the output from load_zonal_transport(model) function above\n",
    "    # Model can be set to 'mom5' or 'mom6'\n",
    "    \n",
    "    ψ = transport[model].cf.cumsum('latitude')\n",
    "    # Divide by reference density (RHO_0) in order to get volume transport\n",
    "    ψ = ψ / RHO_0\n",
    "    # Divide by 1e6 to get units in Sv\n",
    "    ψ = ψ / 1e6\n",
    "    \n",
    "    #Set attributes\n",
    "    ψ = ψ.rename('psi')\n",
    "    ψ.attrs['units'] = 'Sv'\n",
    "    ψ.attrs['Standard name'] = 'Barotropic streamfunction'\n",
    "    \n",
    "    return ψ"
   ]
  },
  {
   "cell_type": "markdown",
   "id": "acdbb1a1-1447-4414-9341-b410007b1f4c",
   "metadata": {
    "tags": []
   },
   "source": [
    "## Plotting functions\n",
    "\n",
    "We can define our plotting functions before and call them later on"
   ]
  },
  {
   "cell_type": "code",
   "execution_count": 6,
   "id": "ac33afc6-c114-40fa-9856-0756b6d3d8c5",
   "metadata": {},
   "outputs": [],
   "source": [
    "def circumpolar_map():\n",
    "    fig = plt.figure(figsize = (12, 8))\n",
    "    ax = fig.add_subplot(111, projection = ccrs.SouthPolarStereo())\n",
    "    ax.set_extent([-180, 180, -80, -40], crs=ccrs.PlateCarree())\n",
    "\n",
    "    # Map the plot boundaries to a circle\n",
    "    theta = np.linspace(0, 2*np.pi, 100)\n",
    "    center, radius = [0.5, 0.5], 0.5\n",
    "    verts = np.vstack([np.sin(theta), np.cos(theta)]).T\n",
    "    circle = mpath.Path(verts * radius + center)\n",
    "    ax.set_boundary(circle, transform=ax.transAxes)\n",
    "\n",
    "    # Add land features and gridlines\n",
    "    ax.add_feature(cfeature.NaturalEarthFeature('physical', 'land', '50m', edgecolor='black',\n",
    "                   facecolor = 'gainsboro'), zorder = 2)\n",
    "    \n",
    "    return fig, ax\n",
    "\n",
    "def shift_colormap(cmap, min_val, max_val, name):\n",
    "\n",
    "    import matplotlib as mpl\n",
    "    import matplotlib.colors as mcolors\n",
    "\n",
    "    epsilon = 0.001\n",
    "    start, stop = 0.0, 1.0\n",
    "    min_val, max_val = min(0.0, min_val), max(0.0, max_val)\n",
    "    midpoint = 1.0 - max_val/(max_val + abs(min_val))\n",
    "    cdict = {'red': [], 'green': [], 'blue': [], 'alpha': []}\n",
    "    reg_index = np.linspace(start, stop, 257)\n",
    "    shift_index = np.hstack([np.linspace(0.0, midpoint, 128, endpoint = False), \n",
    "                             np.linspace(midpoint, 1, 129, endpoint = True)])\n",
    "    \n",
    "    for ri, si in zip(reg_index, shift_index):\n",
    "        if abs(si - midpoint) < epsilon:\n",
    "            r, g, b, a = cmap(0.5) \n",
    "        else:\n",
    "            r, g, b, a = cmap(ri)\n",
    "        cdict['red'].append((si, r, r))\n",
    "        cdict['green'].append((si, g, g))\n",
    "        cdict['blue'].append((si, b, b))\n",
    "        cdict['alpha'].append((si, a, a))\n",
    "    newcmap = mcolors.LinearSegmentedColormap(name, cdict)\n",
    "    plt.register_cmap(cmap = newcmap)\n",
    "\n",
    "    return newcmap"
   ]
  },
  {
   "cell_type": "markdown",
   "id": "a83553a0-76b6-4f97-bd5c-5b4aac17a6cd",
   "metadata": {},
   "source": [
    "# Calculate barotropic streamfunction ($\\psi$) and plot "
   ]
  },
  {
   "cell_type": "markdown",
   "id": "3d1407c4-7e75-4f2a-b103-7dd9e83f61a7",
   "metadata": {},
   "source": [
    "Let's load the transports. We store them in a dictionary. We can use a `for`-loop to load for every model, e.g.,"
   ]
  },
  {
   "cell_type": "code",
   "execution_count": 7,
   "id": "80798c08-9e43-4682-937f-5bdfb8609f60",
   "metadata": {},
   "outputs": [],
   "source": [
    "transport = {}\n",
    "for model in ['mom5', 'mom6']:\n",
    "    transport[model] = load_zonal_transport(model)"
   ]
  },
  {
   "cell_type": "markdown",
   "id": "4062e83e-7641-4dac-a7e0-0e395957257f",
   "metadata": {},
   "source": [
    "Now we compute the streamfunction from the transport. We showcase how `for`-loop can be avoided in this simple case that we are only looping over two models."
   ]
  },
  {
   "cell_type": "code",
   "execution_count": 8,
   "id": "79258bef-4223-4a05-a8fa-64eb15e98573",
   "metadata": {},
   "outputs": [],
   "source": [
    "ψ = {}\n",
    "ψ['mom5'] = calculate_streamfunction('mom5')\n",
    "ψ['mom6'] = calculate_streamfunction('mom6')"
   ]
  },
  {
   "cell_type": "markdown",
   "id": "377d1f18-04ad-4711-a4a4-cfd6450057e7",
   "metadata": {},
   "source": [
    "Calculate the time-mean and plot."
   ]
  },
  {
   "cell_type": "code",
   "execution_count": 9,
   "id": "b79ad7c5-c9c8-426e-8994-7661700c8e12",
   "metadata": {},
   "outputs": [],
   "source": [
    "ψ_mean = {}\n",
    "ψ_mean['mom5'] = ψ['mom5'].cf.mean('time').load()\n",
    "ψ_mean['mom6'] = ψ['mom6'].cf.mean('time').load()"
   ]
  },
  {
   "cell_type": "code",
   "execution_count": null,
   "id": "1f41d8d6-b763-4f6b-8ba0-8ef7f9f5f5d9",
   "metadata": {},
   "outputs": [],
   "source": [
    "fig, ax = circumpolar_map()\n",
    "\n",
    "# Define the levels for the contourf\n",
    "levels = np.arange(-50, 150, 10)\n",
    "\n",
    "# Plot the barotropic stream function\n",
    "ψ_mean['mom5'].cf.plot(ax = ax,\n",
    "                       x = 'longitude', y = 'latitude', \n",
    "                       transform = ccrs.PlateCarree(),\n",
    "                       levels = levels, extend = 'both',\n",
    "                       cmap = cmocean.cm.curl)\n",
    "\n",
    "plt.title('barotropic streamfunction from mom5');"
   ]
  },
  {
   "cell_type": "code",
   "execution_count": null,
   "id": "424e9a08-f5a8-4b1d-9972-b5f8724807ee",
   "metadata": {},
   "outputs": [],
   "source": [
    "fig, ax = circumpolar_map()\n",
    "\n",
    "# Define the levels for the contourf\n",
    "levels = np.arange(-50, 150, 10)\n",
    "\n",
    "# Plot the barotropic stream function\n",
    "ψ_mean['mom6'].cf.plot(ax = ax,\n",
    "                       x = 'longitude', y = 'latitude', \n",
    "                       transform = ccrs.PlateCarree(),\n",
    "                       levels = levels, extend = 'both',\n",
    "                       cmap = cmocean.cm.curl)\n",
    "\n",
    "plt.title('barotropic streamfunction from mom6');"
   ]
  },
  {
   "cell_type": "markdown",
   "id": "7d739f76-8d07-4cb3-8260-93dd90ce1e0e",
   "metadata": {},
   "source": [
    "Load 10 years of the vertically integrated zonal transport:"
   ]
  },
  {
   "cell_type": "code",
   "execution_count": null,
   "id": "dfea02c3-dcd9-474d-9f4e-c74ba415b03c",
   "metadata": {},
   "outputs": [],
   "source": [
    "u_int = cc.querying.getvar(model_args['mom6']['expt'], 'umo_2d', session, \n",
    "                           start_time = '2040-01-01', end_time = '2050-12-31',\n",
    "                           frequency = '1 monthly')"
   ]
  },
  {
   "cell_type": "code",
   "execution_count": null,
   "id": "a3a6f666-4802-48dc-8c85-822452486f97",
   "metadata": {},
   "outputs": [],
   "source": [
    "print(u_int.attrs['long_name'])\n",
    "print(u_int.attrs['units'])"
   ]
  },
  {
   "cell_type": "markdown",
   "id": "ab01d0db-f66d-4f0d-8cc6-18f3b83e083c",
   "metadata": {},
   "source": [
    "This is mass transport, but we want volume transport. In order to do so, divide by a reference density ($\\rho_0$ = 1035 kg m$^3$)"
   ]
  },
  {
   "cell_type": "code",
   "execution_count": null,
   "id": "f5def6eb-f652-4c16-ba3d-c7b6d10186ef",
   "metadata": {},
   "outputs": [],
   "source": [
    "u_int = u_int / RHO_0"
   ]
  },
  {
   "cell_type": "markdown",
   "id": "a6e66c2e-319f-4d2c-830a-36fc3f5cbba3",
   "metadata": {},
   "source": [
    "Now, we can integrate in the meridional direction. This is the total transport in each cell, so we just need to do a cumulative sum. If it was an average value for each cell, we would need to multiply by the cell's length ($dy$).\n",
    "\n",
    "We will divide by $10^6$ to obtain units in Sv"
   ]
  },
  {
   "cell_type": "code",
   "execution_count": null,
   "id": "51bc4b41-7986-4524-8deb-133a31a97ad7",
   "metadata": {},
   "outputs": [],
   "source": [
    "psi = u_int.cumsum('yh') / 1e6"
   ]
  },
  {
   "cell_type": "markdown",
   "id": "fdd33eda-bdf7-4dea-ab6e-ab86bf323666",
   "metadata": {},
   "source": [
    "Easy! Now we can try plotting a time-mean map"
   ]
  },
  {
   "cell_type": "code",
   "execution_count": null,
   "id": "6d2f60cb-3abf-485a-b103-f91d3ccb09f0",
   "metadata": {},
   "outputs": [],
   "source": [
    "psi_mean = psi.mean('time')"
   ]
  },
  {
   "cell_type": "code",
   "execution_count": null,
   "id": "e7a2e959-8bc0-47d5-9582-cdc769ee0bcc",
   "metadata": {},
   "outputs": [],
   "source": [
    "fig, ax = circumpolar_map()\n",
    "\n",
    "# Define the levels for the contourf\n",
    "lvls = np.arange(-50, 150, 10)\n",
    "\n",
    "# Plot the barotropic stream function\n",
    "cf = ax.contourf(psi_mean['xq'], psi_mean['yh'], psi_mean, levels = lvls, cmap = cmocean.cm.curl, \n",
    "                 extend = 'both', transform = ccrs.PlateCarree())\n",
    "\n",
    "# Add a colorbar\n",
    "cbar = fig.colorbar(cf, ax = ax, orientation = 'vertical', shrink = 0.5)\n",
    "cbar.set_label('Transport (Sv)')"
   ]
  },
  {
   "cell_type": "markdown",
   "id": "e504ee42-ac32-4559-b60b-a763227351a0",
   "metadata": {},
   "source": [
    "A problem with the above map is that the diverging colormap is not centered in zero, which makes it a bit deceptive. We can shift the colorbar to fix this:"
   ]
  },
  {
   "cell_type": "code",
   "execution_count": null,
   "id": "950b2360-159d-4d3a-a89f-d98c67a8c0fb",
   "metadata": {},
   "outputs": [],
   "source": [
    "shifted_cmap = shift_colormap(cmocean.cm.curl, -60, 190, 'psi')"
   ]
  },
  {
   "cell_type": "code",
   "execution_count": null,
   "id": "ce6c8fe3-9494-4a4d-820d-d08c1dcacbe0",
   "metadata": {},
   "outputs": [],
   "source": [
    "fig, ax = circumpolar_map()\n",
    "\n",
    "# Define the levels for the contourf\n",
    "lvls = np.arange(-60, 190, 10)\n",
    "\n",
    "# Plot the barotropic stream function\n",
    "cf = ax.contourf(psi_mean['xq'], psi_mean['yh'], psi_mean, levels = lvls, cmap = shifted_cmap, \n",
    "                 extend = 'both', transform = ccrs.PlateCarree())\n",
    "\n",
    "# Add a colorbar\n",
    "cbar = fig.colorbar(cf, ax = ax, orientation = 'vertical', shrink = 0.5)\n",
    "cbar.set_label('Transport (Sv)')"
   ]
  },
  {
   "cell_type": "markdown",
   "id": "6bf353d1-84ed-48e5-be22-effeb8d264b2",
   "metadata": {},
   "source": [
    "Much better. Now visualize its easier to understand the divide between Ross and Weddell Gyres and the ACC."
   ]
  },
  {
   "cell_type": "markdown",
   "id": "dd67ee22-0127-480e-aece-b0c35131e468",
   "metadata": {
    "tags": []
   },
   "source": [
    "### Density coordinates"
   ]
  },
  {
   "cell_type": "markdown",
   "id": "c10de064-0c87-411b-a62e-42f4425bef40",
   "metadata": {},
   "source": [
    "We need to load different variables now: zonal transport in density layers, and the thickness of the density layers."
   ]
  },
  {
   "cell_type": "code",
   "execution_count": null,
   "id": "8c95592b-74b2-4e38-a2f1-3a6353e178d3",
   "metadata": {},
   "outputs": [],
   "source": [
    "umo = cc.querying.getvar(exp, 'umo', session, \n",
    "                         start_time = '2040-01-01', end_time = '2050-12-31',\n",
    "                         frequency = '1 monthly')\n",
    "hmo = cc.querying.getvar(exp, 'hmo', session,\n",
    "                         start_time = '2040-01-01', end_time = '2050-12-31',\n",
    "                         frequency = '1 monthly')"
   ]
  },
  {
   "cell_type": "code",
   "execution_count": null,
   "id": "9aa20490-48af-49b5-998b-1e2d670e816f",
   "metadata": {},
   "outputs": [],
   "source": [
    "print(umo.attrs['long_name'])\n",
    "print(umo.attrs['units'])"
   ]
  },
  {
   "cell_type": "code",
   "execution_count": null,
   "id": "6f6ef19f-e502-450f-be0c-9cf0279b971a",
   "metadata": {},
   "outputs": [],
   "source": [
    "print(hmo.attrs['long_name'])\n",
    "print(hmo.attrs['units'])"
   ]
  },
  {
   "cell_type": "markdown",
   "id": "915c968f-0837-4978-9ef2-73e5a12cd217",
   "metadata": {},
   "source": [
    "Convert to volume transport:"
   ]
  },
  {
   "cell_type": "code",
   "execution_count": null,
   "id": "149f1f6c-d764-47b9-ad0e-9755ac94a69d",
   "metadata": {},
   "outputs": [],
   "source": [
    "umo = umo/1035"
   ]
  },
  {
   "cell_type": "markdown",
   "id": "d8e3df39-0a8f-4dbe-acf2-f89754e12923",
   "metadata": {},
   "source": [
    "We can calculate it for the 79 layers, but since this is an example to keep it simple and fast, we will divide the ocean in two layers. The dividing density is $\\rho = 1037.15$"
   ]
  },
  {
   "cell_type": "code",
   "execution_count": null,
   "id": "5c139913-15ef-4819-8f5b-4013570d4605",
   "metadata": {},
   "outputs": [],
   "source": [
    "rho_div = 1037.15"
   ]
  },
  {
   "cell_type": "markdown",
   "id": "779a084f-c24f-4195-b16c-0c69dd4c330b",
   "metadata": {},
   "source": [
    "Average in time now, because this dataset is a bit bigger than the vertically-integrated one."
   ]
  },
  {
   "cell_type": "code",
   "execution_count": null,
   "id": "42e6222b-7f73-402e-82d9-6b57d3e0ba49",
   "metadata": {},
   "outputs": [],
   "source": [
    "umo = umo.mean('time')\n",
    "hmo = hmo.mean('time')"
   ]
  },
  {
   "cell_type": "markdown",
   "id": "4ec1b356-733a-4e89-81ef-15c04ea88adb",
   "metadata": {},
   "source": [
    "Build the streamfunction"
   ]
  },
  {
   "cell_type": "code",
   "execution_count": null,
   "id": "df7bea8e-eb05-4cad-bc9d-428272372169",
   "metadata": {},
   "outputs": [],
   "source": [
    "psi = umo.cumsum('yh')/1e6"
   ]
  },
  {
   "cell_type": "markdown",
   "id": "e95f3fae-692a-4494-bbbb-1d86be501c90",
   "metadata": {},
   "source": [
    "Separate in upper and lower layer. Again, because each cell has the integrated value, we just need to sum in density space (no need to weight by cell thickness)."
   ]
  },
  {
   "cell_type": "code",
   "execution_count": null,
   "id": "944316fe-5aab-4274-8fad-21512f497fbb",
   "metadata": {},
   "outputs": [],
   "source": [
    "psi_upper = psi.sel(rho2_l = slice(None, rho_div)).sum('rho2_l')"
   ]
  },
  {
   "cell_type": "markdown",
   "id": "5d0714e7-b311-453c-aff1-bcbd9580f335",
   "metadata": {},
   "source": [
    "Calculate the thickness of the upper layer:"
   ]
  },
  {
   "cell_type": "code",
   "execution_count": null,
   "id": "a7bbbb2f-3435-4ea6-a5dd-627df0e04df4",
   "metadata": {},
   "outputs": [],
   "source": [
    "hmo_upper = hmo.sel(rho2_l = slice(None, rho_div)).sum('rho2_l')"
   ]
  },
  {
   "cell_type": "markdown",
   "id": "65b55447-403e-4163-a54a-cb60625fff14",
   "metadata": {},
   "source": [
    "Load into memory for faster plotting!"
   ]
  },
  {
   "cell_type": "code",
   "execution_count": null,
   "id": "6216a770-2d2c-47e5-81a5-c3ccbbd425fc",
   "metadata": {},
   "outputs": [],
   "source": [
    "psi_upper = psi_upper.load()"
   ]
  },
  {
   "cell_type": "code",
   "execution_count": null,
   "id": "3b817651-24a5-4b88-9507-7b1781b3d7dd",
   "metadata": {},
   "outputs": [],
   "source": [
    "shifted_cmap = shift_colormap(cmocean.cm.curl, -60, 190, 'psi')"
   ]
  },
  {
   "cell_type": "code",
   "execution_count": null,
   "id": "18c6c5bc-d745-4bb9-aa26-24ba6cb1219b",
   "metadata": {},
   "outputs": [],
   "source": [
    "fig, ax = circumpolar_map()\n",
    "\n",
    "# Define the levels for the contourf\n",
    "lvls = np.arange(-60, 190, 10)\n",
    "\n",
    "# Plot the barotropic stream function\n",
    "cf = ax.contourf(psi_upper['xq'], psi_upper['yh'], psi_upper, levels = lvls, cmap = shifted_cmap, \n",
    "                 extend = 'both', transform = ccrs.PlateCarree())\n",
    "\n",
    "# Add a colorbar\n",
    "cbar = fig.colorbar(cf, ax = ax, orientation = 'vertical', shrink = 0.5)\n",
    "cbar.set_label('Transport (Sv)')"
   ]
  },
  {
   "cell_type": "code",
   "execution_count": null,
   "id": "4912ce20-4ea6-4896-84d0-1228d1621bbd",
   "metadata": {},
   "outputs": [],
   "source": [
    "hmo_upper = hmo_upper.load()"
   ]
  },
  {
   "cell_type": "code",
   "execution_count": null,
   "id": "db734b5b-a3ce-4752-a89a-b1f2275177a8",
   "metadata": {},
   "outputs": [],
   "source": [
    "fig, ax = circumpolar_map()\n",
    "\n",
    "# Plot the barotropic stream function\n",
    "cf = ax.contourf(hmo_upper['xh'], hmo_upper['yh'], hmo_upper, cmap = cmocean.cm.deep, \n",
    "                 extend = 'both', transform = ccrs.PlateCarree())\n",
    "\n",
    "# Add a colorbar\n",
    "cbar = fig.colorbar(cf, ax = ax, orientation = 'vertical', shrink = 0.5)\n",
    "cbar.set_label('Thickness (m)')"
   ]
  },
  {
   "cell_type": "markdown",
   "id": "34b6ef18-8111-4c75-9de4-3946039efd36",
   "metadata": {},
   "source": [
    "Now same for the lower layer:"
   ]
  },
  {
   "cell_type": "code",
   "execution_count": null,
   "id": "43318c7f-00aa-4c87-9af7-43f3feef7422",
   "metadata": {},
   "outputs": [],
   "source": [
    "psi_lower = psi.sel(rho2_l = slice(rho_div, None)).sum('rho2_l')\n",
    "hmo_lower = hmo.sel(rho2_l = slice(rho_div, None)).sum('rho2_l')"
   ]
  },
  {
   "cell_type": "code",
   "execution_count": null,
   "id": "575e05d7-b868-4853-b385-3340ac243518",
   "metadata": {},
   "outputs": [],
   "source": [
    "psi_lower = psi_lower.load()"
   ]
  },
  {
   "cell_type": "code",
   "execution_count": null,
   "id": "1f79f2f8-ae90-4399-8575-8a356fca7214",
   "metadata": {},
   "outputs": [],
   "source": [
    "shifted_cmap = shift_colormap(cmocean.cm.curl, -30, 16, 'psi')"
   ]
  },
  {
   "cell_type": "code",
   "execution_count": null,
   "id": "08d6ec5f-1b22-4f1b-a501-10c7a7198d4c",
   "metadata": {},
   "outputs": [],
   "source": [
    "fig, ax = circumpolar_map()\n",
    "\n",
    "# Define the levels for the contourf\n",
    "lvls = np.arange(-30, 16, 1)\n",
    "\n",
    "# Plot the barotropic stream function\n",
    "cf = ax.contourf(psi_lower['xq'], psi_lower['yh'], psi_lower, levels = lvls, cmap = shifted_cmap, \n",
    "                 extend = 'both', transform = ccrs.PlateCarree())\n",
    "\n",
    "# Add a colorbar\n",
    "cbar = fig.colorbar(cf, ax = ax, orientation = 'vertical', shrink = 0.5)\n",
    "cbar.set_label('Transport (Sv)')"
   ]
  },
  {
   "cell_type": "code",
   "execution_count": null,
   "id": "4d7331b6-e7cf-4df7-9142-3afd2351fcef",
   "metadata": {},
   "outputs": [],
   "source": [
    "hmo_lower = hmo_lower.load()"
   ]
  },
  {
   "cell_type": "code",
   "execution_count": null,
   "id": "36a93e2e-76f6-4aef-beb1-3e95d80edd50",
   "metadata": {},
   "outputs": [],
   "source": [
    "fig, ax = circumpolar_map()\n",
    "\n",
    "# Plot the barotropic stream function\n",
    "cf = ax.contourf(hmo_lower['xh'], hmo_lower['yh'], hmo_lower, cmap = cmocean.cm.deep, \n",
    "                 extend = 'both', transform = ccrs.PlateCarree())\n",
    "\n",
    "# Add a colorbar\n",
    "cbar = fig.colorbar(cf, ax = ax, orientation = 'vertical', shrink = 0.5)\n",
    "cbar.set_label('Thickness (m)')"
   ]
  },
  {
   "cell_type": "markdown",
   "id": "3dfb4006-c31d-48d3-a28a-9adf987a32cd",
   "metadata": {},
   "source": [
    "Lets try a cross-section. For that we need to stack our layers:"
   ]
  },
  {
   "cell_type": "code",
   "execution_count": null,
   "id": "1a325e31-4ed9-4311-ac29-4ee57dbf3721",
   "metadata": {},
   "outputs": [],
   "source": [
    "depth = np.stack([0.0*hmo_upper.sel(xh = 0, method = 'nearest'),\n",
    "                  hmo_upper.sel(xh = 0, method = 'nearest'),\n",
    "                  (hmo_upper+hmo_lower).sel(xh = 0, method = 'nearest')])\n",
    "psi_layers = np.stack([psi_upper.sel(xq = 0, method = 'nearest'),\n",
    "                       psi_lower.sel(xq = 0, method = 'nearest')])"
   ]
  },
  {
   "cell_type": "code",
   "execution_count": null,
   "id": "eadb96d5-74cc-48cb-adb4-45e99eb2d250",
   "metadata": {},
   "outputs": [],
   "source": [
    "plt.figure(figsize = (15,7))\n",
    "plt.pcolor(psi_upper['yh'], depth, psi_layers[:,1:], \n",
    "           shading = 'flat', vmin = -50, vmax = 50, cmap=cmocean.cm.curl)\n",
    "plt.gca().invert_yaxis()\n",
    "plt.colorbar().set_label('Transport (Sv)')\n",
    "plt.ylabel('Depth (m)')\n",
    "plt.xlabel('Latitude')"
   ]
  },
  {
   "cell_type": "markdown",
   "id": "6d81ff59-a833-40b7-9817-b1a7c7554885",
   "metadata": {},
   "source": [
    "### Depth coordinates"
   ]
  },
  {
   "cell_type": "code",
   "execution_count": null,
   "id": "0ea37c80-af86-46ab-93c4-72a0d22598a5",
   "metadata": {},
   "outputs": [],
   "source": [
    "uo = cc.querying.getvar(exp, 'uo', session, \n",
    "                        start_time = '2040-01-01', end_time = '2050-12-31',\n",
    "                        frequency = '1 monthly')"
   ]
  },
  {
   "cell_type": "code",
   "execution_count": null,
   "id": "d857f59f-9e18-4e9d-82aa-39525edd4b64",
   "metadata": {},
   "outputs": [],
   "source": [
    "print(uo.attrs['long_name'])\n",
    "print(uo.attrs['units'])"
   ]
  },
  {
   "cell_type": "markdown",
   "id": "97253aa7-e9cf-4594-b670-675c54208ffd",
   "metadata": {},
   "source": [
    "For this one, we need to load cell dimensions because the variable uo, in depth coordinates, is an average velocity of the cell. Multiplied by cell's area, it becomes a transport.\n",
    "\n",
    "Load grid:"
   ]
  },
  {
   "cell_type": "code",
   "execution_count": null,
   "id": "a49ca20f-d5ed-4fab-bad8-6f28ea6e3edc",
   "metadata": {},
   "outputs": [],
   "source": [
    "grid = xr.open_dataset(glob.glob('/g/data/ik11/outputs/mom6-panan/panant-01-zstar-v13/output078/*ocean_static.nc')[0])"
   ]
  },
  {
   "cell_type": "markdown",
   "id": "0654aec0-9533-42fd-b3c2-0ae2ddedee8a",
   "metadata": {},
   "source": [
    "We multiply by the area of the u-face ($dy*dz$) to obtain the transport across that face:"
   ]
  },
  {
   "cell_type": "code",
   "execution_count": null,
   "id": "162d5063-2ce0-458d-a29b-f27b3605f603",
   "metadata": {},
   "outputs": [],
   "source": [
    "dy = grid['dyCu']"
   ]
  },
  {
   "cell_type": "code",
   "execution_count": null,
   "id": "abf57eca-34b4-4953-8f67-e696bcccbadd",
   "metadata": {},
   "outputs": [],
   "source": [
    "dz = uo['z_l'].diff('z_l')"
   ]
  },
  {
   "cell_type": "code",
   "execution_count": null,
   "id": "4bf2d77b-81d9-476f-aab5-38375b9a1245",
   "metadata": {},
   "outputs": [],
   "source": [
    "umo = uo.mean('time').isel(z_l = slice(None,-1))*dy*dz\n",
    "umo = umo.load()"
   ]
  },
  {
   "cell_type": "code",
   "execution_count": null,
   "id": "58cdc9d1-6707-4931-9261-ba5a0e10ddb0",
   "metadata": {},
   "outputs": [],
   "source": [
    "psi = umo.cumsum('yh')/1e6"
   ]
  },
  {
   "cell_type": "markdown",
   "id": "97b2d38c-66b7-4177-92a4-38a14f5fa299",
   "metadata": {},
   "source": [
    "We can plot now different layers! Lets try the upper 1000m"
   ]
  },
  {
   "cell_type": "code",
   "execution_count": null,
   "id": "cca48388-fb9a-48e9-a25d-2e31dbbfb346",
   "metadata": {},
   "outputs": [],
   "source": [
    "psi_upper = psi.sel(z_l = slice(None, 1000)).sum('z_l')\n",
    "\n",
    "psi_upper = psi_upper.load()"
   ]
  },
  {
   "cell_type": "code",
   "execution_count": null,
   "id": "f58667f6-17d7-46c2-adbe-0f4c4bf4a306",
   "metadata": {},
   "outputs": [],
   "source": [
    "shifted_cmap = shift_colormap(cmocean.cm.curl, -50, 130, 'psi')"
   ]
  },
  {
   "cell_type": "code",
   "execution_count": null,
   "id": "ec6a112b-d81a-422a-b72f-3f270c0ea67f",
   "metadata": {},
   "outputs": [],
   "source": [
    "fig, ax = circumpolar_map()\n",
    "\n",
    "# Define the levels for the contourf\n",
    "lvls = np.arange(-50, 130, 10)\n",
    "\n",
    "# Plot the barotropic stream function\n",
    "cf = ax.contourf(psi_upper['xq'], psi_upper['yh'], psi_upper, levels = lvls, cmap = shifted_cmap, \n",
    "                 extend = 'both', transform = ccrs.PlateCarree())\n",
    "\n",
    "# Add a colorbar\n",
    "cbar = fig.colorbar(cf, ax = ax, orientation = 'vertical', shrink = 0.5)\n",
    "cbar.set_label('Transport (Sv)')"
   ]
  },
  {
   "cell_type": "code",
   "execution_count": null,
   "id": "236e74e4-f23e-4c15-96a2-1ba7932a84d0",
   "metadata": {},
   "outputs": [],
   "source": [
    "psi_lower = psi.sel(z_l = slice(1000, None)).sum('z_l')\n",
    "\n",
    "psi_lower = psi_lower.load()"
   ]
  },
  {
   "cell_type": "code",
   "execution_count": null,
   "id": "6078ea79-082b-40a9-b7ac-327472c51881",
   "metadata": {},
   "outputs": [],
   "source": [
    "fig, ax = circumpolar_map()\n",
    "\n",
    "# Define the levels for the contourf\n",
    "lvls = np.arange(-50, 130, 10)\n",
    "\n",
    "# Plot the barotropic stream function\n",
    "cf = ax.contourf(psi_lower['xq'], psi_lower['yh'], psi_lower, levels = lvls, cmap = shifted_cmap, \n",
    "                 extend = 'both', transform = ccrs.PlateCarree())\n",
    "\n",
    "# Add a colorbar\n",
    "cbar = fig.colorbar(cf, ax = ax, orientation = 'vertical', shrink = 0.5)\n",
    "cbar.set_label('Transport (Sv)')"
   ]
  },
  {
   "cell_type": "markdown",
   "id": "6a544fa8-5f05-4bc6-82ee-62b688929919",
   "metadata": {},
   "source": [
    "We can even try cross-sections!"
   ]
  },
  {
   "cell_type": "code",
   "execution_count": null,
   "id": "ef938e58-f359-4bc7-91a0-3a416063cf6e",
   "metadata": {},
   "outputs": [],
   "source": [
    "psi_0 = psi.sel(xq = 0, method = 'nearest')"
   ]
  },
  {
   "cell_type": "code",
   "execution_count": null,
   "id": "0c7264ee-b915-4a8e-957b-bccb64b574ad",
   "metadata": {},
   "outputs": [],
   "source": [
    "plt.contourf(psi_0['yh'], -psi_0['z_l'], psi_0, \n",
    "             levels = np.arange(-4,4.5,.5), extend = 'both',\n",
    "             cmap = cmocean.cm.curl)\n",
    "plt.xlabel('Latitude')\n",
    "plt.ylabel('Depth (m)')"
   ]
  },
  {
   "cell_type": "code",
   "execution_count": null,
   "id": "33ac1330-79e6-4d49-bffc-9df70ab52e0b",
   "metadata": {},
   "outputs": [],
   "source": []
  }
 ],
 "metadata": {
  "kernelspec": {
   "display_name": "Python [conda env:analysis3-22.10]",
   "language": "python",
   "name": "conda-env-analysis3-22.10-py"
  },
  "language_info": {
   "codemirror_mode": {
    "name": "ipython",
    "version": 3
   },
   "file_extension": ".py",
   "mimetype": "text/x-python",
   "name": "python",
   "nbconvert_exporter": "python",
   "pygments_lexer": "ipython3",
   "version": "3.9.15"
  }
 },
 "nbformat": 4,
 "nbformat_minor": 5
}
