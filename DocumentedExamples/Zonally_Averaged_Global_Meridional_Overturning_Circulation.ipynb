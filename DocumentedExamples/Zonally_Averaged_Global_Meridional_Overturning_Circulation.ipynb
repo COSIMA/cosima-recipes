{
 "cells": [
  {
   "cell_type": "markdown",
   "metadata": {},
   "source": [
    "# Zonally Averaged Overturning Circulation\n",
    "\n",
    "This notebook shows a simple example of calculation the zonally averaged global meridional overturning circulation - in density space.\n",
    "\n",
    "**Requirements:** The `conda/analysis3-19.10` (or later) module on the VDI (or your own up-to-date cookbook installation).\n",
    "\n",
    "**Firstly,** load in the requisite libraries:"
   ]
  },
  {
   "cell_type": "code",
   "execution_count": null,
   "metadata": {},
   "outputs": [],
   "source": [
    "%matplotlib inline\n",
    "\n",
    "import cosima_cookbook as cc\n",
    "import matplotlib.pyplot as plt\n",
    "import numpy as np\n",
    "import cmocean as cm\n",
    "from dask.distributed import Client"
   ]
  },
  {
   "cell_type": "code",
   "execution_count": null,
   "metadata": {},
   "outputs": [],
   "source": [
    "client = Client(n_workers=4)\n",
    "client"
   ]
  },
  {
   "cell_type": "markdown",
   "metadata": {},
   "source": [
    "**Next,** choose an experiment. This can be any resolution, and can be with or without Gent-McWilliams eddy parameterisation. In this case, we are choosing to limit ourselves to just the last 60 years of the chosen simulation."
   ]
  },
  {
   "cell_type": "code",
   "execution_count": null,
   "metadata": {},
   "outputs": [],
   "source": [
    "expt = '025deg_jra55v13_iaf_gmredi6'\n",
    "session = cc.database.create_session()\n",
    "start_time='2198-01-01'"
   ]
  },
  {
   "cell_type": "markdown",
   "metadata": {},
   "source": [
    "Load up `ty_trans_rho` - and sum zonally.\n",
    "Also, if there is a `ty_trans_rho_gm` variable saved, assume that GM is switched on and load that as well. "
   ]
  },
  {
   "cell_type": "code",
   "execution_count": null,
   "metadata": {},
   "outputs": [],
   "source": [
    "psi = cc.querying.getvar(expt,'ty_trans_rho',session,start_time = start_time)\n",
    "#psi = cc.get_nc_variable(expt, 'ocean.nc', 'ty_trans_rho',chunks={'potrho': None}, n=-10)\n",
    "psi = psi.sum('grid_xt_ocean')\n",
    "\n",
    "varlist = cc.querying.get_variables(session, expt)\n",
    "if varlist['name'].str.contains('ty_trans_rho_gm').any():\n",
    "    GM = True\n",
    "    psiGM = cc.querying.getvar(expt,'ty_trans_rho_gm',session,start_time = start_time)\n",
    "    psiGM = psiGM.sum('grid_xt_ocean')\n",
    "else:\n",
    "    GM = False"
   ]
  },
  {
   "cell_type": "markdown",
   "metadata": {},
   "source": [
    "Most ACCESS-OM2 simulations save transport with units of kg/s - convert to Sv:"
   ]
  },
  {
   "cell_type": "code",
   "execution_count": null,
   "metadata": {},
   "outputs": [],
   "source": [
    "psi = psi*1.0e-9\n",
    "if GM:\n",
    "    psiGM = psiGM*1.0e-9"
   ]
  },
  {
   "cell_type": "markdown",
   "metadata": {},
   "source": [
    "Now, cumulatively sum the transport in the vertical. Note that in MOM5 the `ty_trans_rho_GM` variable is computed differently and **does not** require summing in the vertical. Once the calculation has been laid out, we then load the variable to force the computation to occur."
   ]
  },
  {
   "cell_type": "code",
   "execution_count": null,
   "metadata": {},
   "outputs": [],
   "source": [
    "psi_avg = psi.cumsum('potrho').mean('time') - psi.sum('potrho').mean('time')\n",
    "if GM:\n",
    "    psi_avg = psi_avg + psiGM.mean('time')\n",
    "    \n",
    "psi_avg.load()"
   ]
  },
  {
   "cell_type": "markdown",
   "metadata": {},
   "source": [
    "Now we are ready to plot. We usually plot the streamfunction over a reduced range of density levels to highlight the deep ocean contribution..."
   ]
  },
  {
   "cell_type": "code",
   "execution_count": null,
   "metadata": {},
   "outputs": [],
   "source": [
    "plt.figure(figsize=(10, 5)) \n",
    "clev = np.arange(-25,25,2)\n",
    "plt.contourf(psi_avg.grid_yu_ocean,psi_avg.potrho, psi_avg, cmap=cm.cm.curl, levels=clev, extend='both')\n",
    "cb=plt.colorbar(orientation='vertical', shrink = 0.7)\n",
    "    \n",
    "cb.ax.set_xlabel('Sv')\n",
    "plt.contour(psi_avg.grid_yu_ocean, psi_avg.potrho, psi_avg, levels=clev, colors='k', linewidths=0.25)\n",
    "plt.contour(psi_avg.grid_yu_ocean, psi_avg.potrho, psi_avg, levels=[0.0,], colors='k', linewidths=0.5)\n",
    "plt.gca().invert_yaxis()\n",
    "\n",
    "plt.ylim((1037.5,1034))\n",
    "plt.ylabel('Potential Density (kg m$^{-3}$)')\n",
    "plt.xlabel('Latitude ($^\\circ$N)')\n",
    "plt.xlim([-75,80])\n",
    "plt.title('Overturning in %s' % expt)"
   ]
  },
  {
   "cell_type": "markdown",
   "metadata": {},
   "source": [
    "Alternatively, you may want to stretch your axes to minimise the visual impact of the surface circulation, while showing the full-depth ocean."
   ]
  },
  {
   "cell_type": "code",
   "execution_count": null,
   "metadata": {},
   "outputs": [],
   "source": [
    "fig,ax = plt.subplots(1,1,figsize=(10, 5)) \n",
    "clev = np.arange(-25,25,2)\n",
    "yticks = np.array([1030, 1032, 1033, 1034, 1035, 1036,1036.5, 1037])\n",
    "scfac = 4  ## A power to set teh stretching\n",
    "p1=ax.contourf(psi_avg.grid_yu_ocean,(psi_avg.potrho-1028)**scfac, psi_avg, cmap=cm.cm.curl, levels=clev, extend='both')\n",
    "cb=plt.colorbar(p1,orientation='vertical', shrink = 0.7)\n",
    "    \n",
    "cb.ax.set_xlabel('Sv')\n",
    "ax.contour(psi_avg.grid_yu_ocean,(psi_avg.potrho-1028)**scfac, psi_avg, levels=clev, colors='k', linewidths=0.25)\n",
    "ax.contour(psi_avg.grid_yu_ocean,(psi_avg.potrho-1028)**scfac, psi_avg, levels=[0.0,], colors='k', linewidths=0.5)\n",
    "\n",
    "ax.set_yticks((yticks-1028)**scfac)\n",
    "ax.set_yticklabels(yticks)\n",
    "ax.set_ylim([0.5**scfac, 9.2**scfac])\n",
    "ax.invert_yaxis()\n",
    "ax.set_ylabel('Potential Density (kg m$^{-3}$)')\n",
    "ax.set_xlabel('Latitude ($^\\circ$N)')\n",
    "ax.set_xlim([-75,80])\n",
    "ax.set_title('Overturning in %s' % expt)"
   ]
  },
  {
   "cell_type": "markdown",
   "metadata": {},
   "source": [
    "**Notes:**\n",
    " * We have not included the submesoscale contribution to the meridional transport in these calculations, as it tends to be relatively unimportant for the deep circulation, which we where we are primarily interested.\n",
    " * These metrics do not use mathematically correct zonal averaging in the tripole region, north of 65°N. "
   ]
  },
  {
   "cell_type": "code",
   "execution_count": null,
   "metadata": {},
   "outputs": [],
   "source": []
  }
 ],
 "metadata": {
  "kernelspec": {
   "display_name": "Python [conda env:analysis3-20.01]",
   "language": "python",
   "name": "conda-env-analysis3-20.01-py"
  },
  "language_info": {
   "codemirror_mode": {
    "name": "ipython",
    "version": 3
   },
   "file_extension": ".py",
   "mimetype": "text/x-python",
   "name": "python",
   "nbconvert_exporter": "python",
   "pygments_lexer": "ipython3",
   "version": "3.6.7"
  }
 },
 "nbformat": 4,
 "nbformat_minor": 4
}
